{
 "metadata": {
  "language_info": {
   "codemirror_mode": {
    "name": "ipython",
    "version": 3
   },
   "file_extension": ".py",
   "mimetype": "text/x-python",
   "name": "python",
   "nbconvert_exporter": "python",
   "pygments_lexer": "ipython3",
   "version": "3.7.9-final"
  },
  "orig_nbformat": 2,
  "kernelspec": {
   "name": "python3",
   "display_name": "Python 3.7.9 64-bit ('data_science': conda)",
   "metadata": {
    "interpreter": {
     "hash": "4732c83932685b0664faa5679aa5d57be970d81d9b5c25b3f14d84dbd2e895e8"
    }
   }
  }
 },
 "nbformat": 4,
 "nbformat_minor": 2,
 "cells": [
  {
   "source": [
    "# Nuage Compta et la facture s'analysa"
   ],
   "cell_type": "markdown",
   "metadata": {}
  },
  {
   "source": [
    "## 0. Import des librairies"
   ],
   "cell_type": "markdown",
   "metadata": {}
  },
  {
   "cell_type": "code",
   "execution_count": 1,
   "metadata": {},
   "outputs": [
    {
     "output_type": "stream",
     "name": "stderr",
     "text": [
      "Using TensorFlow backend.\n"
     ]
    }
   ],
   "source": [
    "import numpy as np\n",
    "import matplotlib.pyplot as plt\n",
    "from keras.preprocessing.image import ImageDataGenerator\n",
    "from keras.preprocessing import image\n",
    "import keras\n",
    "from keras import metrics\n",
    "from keras.models import Sequential, load_model\n",
    "from keras.layers import Conv2D, MaxPooling2D, Flatten, Dense, Activation\n",
    "import os\n",
    "import pickle\n",
    "import cv2\n",
    "import imutils\n",
    "from imutils.contours import sort_contours\n",
    "\n",
    "from src import import_auto      ### Ma fonction == optimisation (voir import_auto.py) ###\n",
    "from src import negatif_test     ### Ma fonction == passer l'image de mon choix en negatif ###"
   ]
  },
  {
   "source": [
    "## 1. Optimisation et nettoyage des données"
   ],
   "cell_type": "markdown",
   "metadata": {}
  },
  {
   "cell_type": "code",
   "execution_count": 2,
   "metadata": {},
   "outputs": [],
   "source": [
    "### Afin de réduire les temps d'attente et dans un soucis d'optimisation, je decide d'importer une fonction qui prend 200 png par lettres (suffisant ici). Ces images viennent s'ajouter au dossier dataset_reduit_train ###\n",
    "import_auto.import_fichier_train()"
   ]
  },
  {
   "cell_type": "code",
   "execution_count": 3,
   "metadata": {},
   "outputs": [],
   "source": [
    "### Afin de réduire les temps d'attente et dans un soucis d'optimisation, je decide d'importer une fonction qui prend 3 png par lettres (suffisant ici). Ces images viennent s'ajouter au dossier dataset_reduit_test ###\n",
    "import_auto.import_fichier_test()"
   ]
  },
  {
   "source": [
    "## 2. Import des Datasets"
   ],
   "cell_type": "markdown",
   "metadata": {}
  },
  {
   "cell_type": "code",
   "execution_count": 4,
   "metadata": {},
   "outputs": [
    {
     "output_type": "stream",
     "name": "stdout",
     "text": [
      "Found 5207 images belonging to 27 classes.\nFound 81 images belonging to 27 classes.\n"
     ]
    }
   ],
   "source": [
    "### ImageDataGenerator génère des lots de données d'image vectorielles, convertissant les coefficients RVB compris entre 0 et 255 en valeurs cibles comprises entre 0 et 1 par mise à l'échelle avec un facteur de 1/255 à l' aide de la remise à l' échelle ###\n",
    "\n",
    "train_datagen = ImageDataGenerator(\n",
    "    rescale = 1./255,\n",
    "    ### shear_range est utilisé pour appliquer de manière aléatoire des transformations de cisaillement ###\n",
    "    shear_range = 0.2,\n",
    "    ### zoom_range est utilisé pour zoomer aléatoirement à l'intérieur des images ###           \n",
    "    zoom_range = 0.2,\n",
    "    ### horizontal_flip est utilisé pour retourner au hasard la moitié des images horizontalement ###            \n",
    "    horizontal_flip = True\n",
    ")      \n",
    "\n",
    "test_datagen = ImageDataGenerator(rescale = 1./255)\n",
    "\n",
    "\n",
    "### J'importe les images une par une à partir des répertoires en utilisant .flow_from_directory et y appliquons ImageDataGenerator ###\n",
    "\n",
    "train_generator = train_datagen.flow_from_directory(\n",
    "    ### Choix de mon repertoire ###\n",
    "    directory = \"data/dataset_reduit_train\",\n",
    "    ### Je converti les images de leur taille d'origine à notre target_size ###                    \n",
    "    target_size = (28,28),\n",
    "    ### Nombre batch_size qui fait référence au nombre d'exemples d'entraînement utilisés dans une itération ###                                      \n",
    "    batch_size = 32,\n",
    "    ### Je definis le class_mode sur \"catégorical\" indiquant que nous avons plusieurs classes (a à z) à prédire ###          \n",
    "    class_mode = \"categorical\",\n",
    "    ### Je choisis le color_mode \"grayscale\", indiquant que nous trvaillons sur une image en noir et blanc\n",
    "    color_mode = \"grayscale\"                                \n",
    "\n",
    ")\n",
    "\n",
    "test_generator = test_datagen.flow_from_directory(\n",
    "    directory = \"data/dataset_reduit_test\",\n",
    "    target_size = (28,28),\n",
    "    batch_size = 32,\n",
    "    class_mode = \"categorical\",\n",
    "    color_mode = \"grayscale\"\n",
    "\n",
    ")"
   ]
  },
  {
   "source": [
    "## 3. Definition du modèle d'architecture"
   ],
   "cell_type": "markdown",
   "metadata": {}
  },
  {
   "cell_type": "code",
   "execution_count": 5,
   "metadata": {},
   "outputs": [
    {
     "output_type": "stream",
     "name": "stdout",
     "text": [
      "Model: \"sequential_1\"\n_________________________________________________________________\nLayer (type)                 Output Shape              Param #   \n=================================================================\nconv2d_1 (Conv2D)            (None, 26, 26, 32)        320       \n_________________________________________________________________\nmax_pooling2d_1 (MaxPooling2 (None, 13, 13, 32)        0         \n_________________________________________________________________\nconv2d_2 (Conv2D)            (None, 11, 11, 32)        9248      \n_________________________________________________________________\nmax_pooling2d_2 (MaxPooling2 (None, 5, 5, 32)          0         \n_________________________________________________________________\nflatten_1 (Flatten)          (None, 800)               0         \n_________________________________________________________________\ndense_1 (Dense)              (None, 128)               102528    \n_________________________________________________________________\ndense_2 (Dense)              (None, 27)                3483      \n=================================================================\nTotal params: 115,579\nTrainable params: 115,579\nNon-trainable params: 0\n_________________________________________________________________\n"
     ]
    }
   ],
   "source": [
    "### Création d'un modèle séquentiel qui permet de définir l'architecture CNN couche par couche à l'aide de la fonction .add .Nous ajoutons d'abord une couche de convolution avec 32 filtres de taille 3X3 sur les images d'entrée et la passons à travers la fonction d'activation 'relu'.Nous effectuons ensuite des opérations MaxPooling en utilisant un pool de taille 2X2 ###\n",
    "model = Sequential()\n",
    "model.add(Conv2D(32, (3, 3), input_shape = (28,28,1), activation = \"relu\"))\n",
    "model.add(MaxPooling2D(pool_size = (2, 2)))\n",
    "\n",
    "### Ces couches sont ensuite répétées à nouveau pour améliorer les performances du modèle ###\n",
    "\n",
    "model.add(Conv2D(32, (3, 3), activation = \"relu\"))\n",
    "model.add(MaxPooling2D(pool_size = (2, 2)))\n",
    "\n",
    "### Enfin, nous aplatissons notre matrice résultante et la passons à travers une couche dense composée de 128 nœuds. Celui-ci est ensuite connecté à la couche de sortie constituée de 26 nœuds, chaque nœud représentant un alphabet ###\n",
    "\n",
    "model.add(Flatten())\n",
    "model.add(Dense(units = 128, activation = \"relu\"))\n",
    "model.add(Dense(units = 27, activation = \"softmax\"))            ### Activation softmax qui convertit les scores en une distribution de probabilité normalisée, et                                                                   le nœud avec la probabilité la plus élevée est sélectionné comme sortie ###\n",
    "\n",
    "### Une fois notre architecture CNN définie, nous compilons le modèle à l'aide de l'optimiseur Adam ###\n",
    "model.compile(optimizer = \"adam\", loss = \"categorical_crossentropy\", metrics = [\"accuracy\"])\n",
    "\n",
    "model.summary()"
   ]
  },
  {
   "source": [
    "## 4. Entrainement du modèle"
   ],
   "cell_type": "markdown",
   "metadata": {}
  },
  {
   "cell_type": "code",
   "execution_count": 6,
   "metadata": {},
   "outputs": [
    {
     "output_type": "stream",
     "name": "stdout",
     "text": [
      "Epoch 1/30\n",
      "32/32 [==============================] - 2s 54ms/step - loss: 3.1317 - accuracy: 0.1113 - val_loss: 2.9598 - val_accuracy: 0.2963\n",
      "Epoch 2/30\n",
      "32/32 [==============================] - 2s 50ms/step - loss: 2.2013 - accuracy: 0.3750 - val_loss: 1.6803 - val_accuracy: 0.4226\n",
      "Epoch 3/30\n",
      "32/32 [==============================] - 2s 48ms/step - loss: 1.5293 - accuracy: 0.5241 - val_loss: 1.5238 - val_accuracy: 0.6054\n",
      "Epoch 4/30\n",
      "32/32 [==============================] - 2s 47ms/step - loss: 1.3524 - accuracy: 0.5713 - val_loss: 1.6890 - val_accuracy: 0.5904\n",
      "Epoch 5/30\n",
      "32/32 [==============================] - 2s 50ms/step - loss: 1.2221 - accuracy: 0.5957 - val_loss: 1.4140 - val_accuracy: 0.6892\n",
      "Epoch 6/30\n",
      "32/32 [==============================] - 2s 54ms/step - loss: 1.0575 - accuracy: 0.6533 - val_loss: 1.0772 - val_accuracy: 0.7078\n",
      "Epoch 7/30\n",
      "32/32 [==============================] - 2s 47ms/step - loss: 0.8949 - accuracy: 0.7051 - val_loss: 0.9560 - val_accuracy: 0.6545\n",
      "Epoch 8/30\n",
      "32/32 [==============================] - 2s 50ms/step - loss: 0.9289 - accuracy: 0.7143 - val_loss: 1.0954 - val_accuracy: 0.6717\n",
      "Epoch 9/30\n",
      "32/32 [==============================] - 2s 48ms/step - loss: 0.8339 - accuracy: 0.7383 - val_loss: 0.9974 - val_accuracy: 0.7194\n",
      "Epoch 10/30\n",
      "32/32 [==============================] - 2s 47ms/step - loss: 0.7544 - accuracy: 0.7607 - val_loss: 0.7397 - val_accuracy: 0.7265\n",
      "Epoch 11/30\n",
      "32/32 [==============================] - 2s 50ms/step - loss: 0.7595 - accuracy: 0.7478 - val_loss: 0.8024 - val_accuracy: 0.7392\n",
      "Epoch 12/30\n",
      "32/32 [==============================] - 1s 44ms/step - loss: 0.6812 - accuracy: 0.7959 - val_loss: 0.5854 - val_accuracy: 0.7288\n",
      "Epoch 13/30\n",
      "32/32 [==============================] - 2s 47ms/step - loss: 0.6968 - accuracy: 0.7705 - val_loss: 0.6782 - val_accuracy: 0.7883\n",
      "Epoch 14/30\n",
      "32/32 [==============================] - 2s 47ms/step - loss: 0.6482 - accuracy: 0.7949 - val_loss: 0.9382 - val_accuracy: 0.7381\n",
      "Epoch 15/30\n",
      "32/32 [==============================] - 2s 48ms/step - loss: 0.6026 - accuracy: 0.8057 - val_loss: 0.4625 - val_accuracy: 0.7811\n",
      "Epoch 16/30\n",
      "32/32 [==============================] - 2s 47ms/step - loss: 0.6605 - accuracy: 0.7910 - val_loss: 0.8845 - val_accuracy: 0.7757\n",
      "Epoch 17/30\n",
      "32/32 [==============================] - 2s 50ms/step - loss: 0.5657 - accuracy: 0.8262 - val_loss: 0.6319 - val_accuracy: 0.8172\n",
      "Epoch 18/30\n",
      "32/32 [==============================] - 1s 44ms/step - loss: 0.5107 - accuracy: 0.8296 - val_loss: 0.7143 - val_accuracy: 0.8149\n",
      "Epoch 19/30\n",
      "32/32 [==============================] - 2s 47ms/step - loss: 0.5163 - accuracy: 0.8506 - val_loss: 0.4852 - val_accuracy: 0.8513\n",
      "Epoch 20/30\n",
      "32/32 [==============================] - 2s 50ms/step - loss: 0.5238 - accuracy: 0.8389 - val_loss: 0.4389 - val_accuracy: 0.8033\n",
      "Epoch 21/30\n",
      "32/32 [==============================] - 2s 51ms/step - loss: 0.5155 - accuracy: 0.8311 - val_loss: 0.3629 - val_accuracy: 0.8242\n",
      "Epoch 22/30\n",
      "32/32 [==============================] - 2s 47ms/step - loss: 0.5313 - accuracy: 0.8193 - val_loss: 0.3599 - val_accuracy: 0.8650\n",
      "Epoch 23/30\n",
      "32/32 [==============================] - 2s 54ms/step - loss: 0.4070 - accuracy: 0.8672 - val_loss: 0.4865 - val_accuracy: 0.8859\n",
      "Epoch 24/30\n",
      "32/32 [==============================] - 2s 47ms/step - loss: 0.4017 - accuracy: 0.8680 - val_loss: 0.2214 - val_accuracy: 0.8545\n",
      "Epoch 25/30\n",
      "32/32 [==============================] - 2s 48ms/step - loss: 0.4096 - accuracy: 0.8750 - val_loss: 0.3590 - val_accuracy: 0.8799\n",
      "Epoch 26/30\n",
      "32/32 [==============================] - 2s 54ms/step - loss: 0.4150 - accuracy: 0.8594 - val_loss: 0.5145 - val_accuracy: 0.8859\n",
      "Epoch 27/30\n",
      "32/32 [==============================] - 2s 48ms/step - loss: 0.3844 - accuracy: 0.8701 - val_loss: 0.2782 - val_accuracy: 0.8638\n",
      "Epoch 28/30\n",
      "32/32 [==============================] - 2s 47ms/step - loss: 0.4615 - accuracy: 0.8604 - val_loss: 0.4980 - val_accuracy: 0.8879\n",
      "Epoch 29/30\n",
      "32/32 [==============================] - 2s 50ms/step - loss: 0.3867 - accuracy: 0.8672 - val_loss: 0.4000 - val_accuracy: 0.8638\n",
      "Epoch 30/30\n",
      "32/32 [==============================] - 2s 48ms/step - loss: 0.3552 - accuracy: 0.8975 - val_loss: 0.1127 - val_accuracy: 0.8894\n",
      "Test de perte: 0.3908531665802002\n",
      "Test de précision: 0.8959093689918518\n"
     ]
    }
   ],
   "source": [
    "### Je décide de créer 30 répétitions, et j'ai X2 les steps_per_epoch pour augmenter notre précision ###\n",
    "\n",
    "entrainement = model.fit_generator(\n",
    "    train_generator,\n",
    "    steps_per_epoch = 32,\n",
    "    epochs = 30,\n",
    "    validation_data = test_generator,\n",
    "    validation_steps = 32\n",
    ")\n",
    "\n",
    "score = model.evaluate(train_generator, verbose=0)\n",
    "print(\"Test de perte:\", score[0])\n",
    "print(\"Test de précision:\", score[1])\n"
   ]
  },
  {
   "source": [
    "## 5. Enregistrement & chargement du modèle"
   ],
   "cell_type": "markdown",
   "metadata": {}
  },
  {
   "cell_type": "code",
   "execution_count": 7,
   "metadata": {},
   "outputs": [],
   "source": [
    "### Enregistrement du modèle ###\n",
    "\n",
    "pickle.dump(model, open(\"mon_model.h5\", \"wb\"))"
   ]
  },
  {
   "cell_type": "code",
   "execution_count": 8,
   "metadata": {},
   "outputs": [],
   "source": [
    "### Chargement du modèle ###\n",
    "\n",
    "model = pickle.load(open(\"mon_model.h5\",\"rb\"))"
   ]
  },
  {
   "source": [
    "## 6. Création d'une fonction qui renvois l'alphabet associé au résultat"
   ],
   "cell_type": "markdown",
   "metadata": {}
  },
  {
   "cell_type": "code",
   "execution_count": 9,
   "metadata": {},
   "outputs": [],
   "source": [
    "def get_result(result):\n",
    "    if result[0][0] == 1:\n",
    "        return(\"a\")\n",
    "    elif result[0][1] == 1:\n",
    "        return (\"b\")\n",
    "    elif result[0][2] == 1:\n",
    "        return (\"c\")\n",
    "    elif result[0][3] == 1:\n",
    "        return (\"d\")\n",
    "    elif result[0][4] == 1:\n",
    "        return (\"e\")\n",
    "    elif result[0][5] == 1:\n",
    "        return (\"f\")\n",
    "    elif result[0][6] == 1:\n",
    "        return (\"g\")\n",
    "    elif result[0][7] == 1:\n",
    "        return (\"h\")\n",
    "    elif result[0][8] == 1:\n",
    "        return (\"i\")\n",
    "    elif result[0][9] == 1:\n",
    "        return (\"j\")\n",
    "    elif result[0][10] == 1:\n",
    "        return (\"k\")\n",
    "    elif result[0][11] == 1:\n",
    "        return (\"l\")\n",
    "    elif result[0][12] == 1:\n",
    "        return (\"m\")\n",
    "    elif result[0][13] == 1:\n",
    "        return (\"n\")\n",
    "    elif result[0][14] == 1:\n",
    "        return (\"o\")\n",
    "    elif result[0][15] == 1:\n",
    "        return (\"p\")\n",
    "    elif result[0][16] == 1:\n",
    "        return (\"q\")\n",
    "    elif result[0][17] == 1:\n",
    "        return (\"r\")\n",
    "    elif result[0][18] == 1:\n",
    "        return (\"s\")\n",
    "    elif result[0][19] == 1:\n",
    "        return (\"t\")\n",
    "    elif result[0][20] == 1:\n",
    "        return (\"u\")\n",
    "    elif result[0][21] == 1:\n",
    "        return (\"v\")\n",
    "    elif result[0][22] == 1:\n",
    "        return (\"w\")\n",
    "    elif result[0][23] == 1:\n",
    "        return (\"x\")\n",
    "    elif result[0][24] == 1:\n",
    "        return (\"y\")\n",
    "    elif result[0][25] == 1:\n",
    "        return (\"z\")\n",
    "    elif result[0][26] == 1:                # Création du symbole <3\n",
    "        return (\"<3\")"
   ]
  },
  {
   "source": [
    "## 7. Choix de l'image à envoyer & Test du modèle"
   ],
   "cell_type": "markdown",
   "metadata": {}
  },
  {
   "cell_type": "code",
   "execution_count": 10,
   "metadata": {},
   "outputs": [
    {
     "output_type": "stream",
     "name": "stdout",
     "text": [
      "La lettre correspondante est: <3\n"
     ]
    },
    {
     "output_type": "display_data",
     "data": {
      "text/plain": "<Figure size 432x288 with 1 Axes>",
      "image/svg+xml": "<?xml version=\"1.0\" encoding=\"utf-8\" standalone=\"no\"?>\r\n<!DOCTYPE svg PUBLIC \"-//W3C//DTD SVG 1.1//EN\"\r\n  \"http://www.w3.org/Graphics/SVG/1.1/DTD/svg11.dtd\">\r\n<!-- Created with matplotlib (https://matplotlib.org/) -->\r\n<svg height=\"248.518125pt\" version=\"1.1\" viewBox=\"0 0 251.565 248.518125\" width=\"251.565pt\" xmlns=\"http://www.w3.org/2000/svg\" xmlns:xlink=\"http://www.w3.org/1999/xlink\">\r\n <metadata>\r\n  <rdf:RDF xmlns:cc=\"http://creativecommons.org/ns#\" xmlns:dc=\"http://purl.org/dc/elements/1.1/\" xmlns:rdf=\"http://www.w3.org/1999/02/22-rdf-syntax-ns#\">\r\n   <cc:Work>\r\n    <dc:type rdf:resource=\"http://purl.org/dc/dcmitype/StillImage\"/>\r\n    <dc:date>2020-11-19T13:19:45.309233</dc:date>\r\n    <dc:format>image/svg+xml</dc:format>\r\n    <dc:creator>\r\n     <cc:Agent>\r\n      <dc:title>Matplotlib v3.3.2, https://matplotlib.org/</dc:title>\r\n     </cc:Agent>\r\n    </dc:creator>\r\n   </cc:Work>\r\n  </rdf:RDF>\r\n </metadata>\r\n <defs>\r\n  <style type=\"text/css\">*{stroke-linecap:butt;stroke-linejoin:round;}</style>\r\n </defs>\r\n <g id=\"figure_1\">\r\n  <g id=\"patch_1\">\r\n   <path d=\"M 0 248.518125 \r\nL 251.565 248.518125 \r\nL 251.565 0 \r\nL 0 0 \r\nz\r\n\" style=\"fill:none;\"/>\r\n  </g>\r\n  <g id=\"axes_1\">\r\n   <g id=\"patch_2\">\r\n    <path d=\"M 26.925 224.64 \r\nL 244.365 224.64 \r\nL 244.365 7.2 \r\nL 26.925 7.2 \r\nz\r\n\" style=\"fill:#ffffff;\"/>\r\n   </g>\r\n   <g clip-path=\"url(#pc8295c1afa)\">\r\n    <image height=\"218\" id=\"image0899cc3309\" transform=\"scale(1 -1)translate(0 -218)\" width=\"218\" x=\"26.925\" xlink:href=\"data:image/png;base64,\r\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\" y=\"-6.64\"/>\r\n   </g>\r\n   <g id=\"matplotlib.axis_1\">\r\n    <g id=\"xtick_1\">\r\n     <g id=\"line2d_1\">\r\n      <defs>\r\n       <path d=\"M 0 0 \r\nL 0 3.5 \r\n\" id=\"m39f41cd04a\" style=\"stroke:#000000;stroke-width:0.8;\"/>\r\n      </defs>\r\n      <g>\r\n       <use style=\"stroke:#000000;stroke-width:0.8;\" x=\"30.807857\" xlink:href=\"#m39f41cd04a\" y=\"224.64\"/>\r\n      </g>\r\n     </g>\r\n     <g id=\"text_1\">\r\n      <!-- 0 -->\r\n      <g transform=\"translate(27.626607 239.238437)scale(0.1 -0.1)\">\r\n       <defs>\r\n        <path d=\"M 31.78125 66.40625 \r\nQ 24.171875 66.40625 20.328125 58.90625 \r\nQ 16.5 51.421875 16.5 36.375 \r\nQ 16.5 21.390625 20.328125 13.890625 \r\nQ 24.171875 6.390625 31.78125 6.390625 \r\nQ 39.453125 6.390625 43.28125 13.890625 \r\nQ 47.125 21.390625 47.125 36.375 \r\nQ 47.125 51.421875 43.28125 58.90625 \r\nQ 39.453125 66.40625 31.78125 66.40625 \r\nz\r\nM 31.78125 74.21875 \r\nQ 44.046875 74.21875 50.515625 64.515625 \r\nQ 56.984375 54.828125 56.984375 36.375 \r\nQ 56.984375 17.96875 50.515625 8.265625 \r\nQ 44.046875 -1.421875 31.78125 -1.421875 \r\nQ 19.53125 -1.421875 13.0625 8.265625 \r\nQ 6.59375 17.96875 6.59375 36.375 \r\nQ 6.59375 54.828125 13.0625 64.515625 \r\nQ 19.53125 74.21875 31.78125 74.21875 \r\nz\r\n\" id=\"DejaVuSans-48\"/>\r\n       </defs>\r\n       <use xlink:href=\"#DejaVuSans-48\"/>\r\n      </g>\r\n     </g>\r\n    </g>\r\n    <g id=\"xtick_2\">\r\n     <g id=\"line2d_2\">\r\n      <g>\r\n       <use style=\"stroke:#000000;stroke-width:0.8;\" x=\"69.636429\" xlink:href=\"#m39f41cd04a\" y=\"224.64\"/>\r\n      </g>\r\n     </g>\r\n     <g id=\"text_2\">\r\n      <!-- 5 -->\r\n      <g transform=\"translate(66.455179 239.238437)scale(0.1 -0.1)\">\r\n       <defs>\r\n        <path d=\"M 10.796875 72.90625 \r\nL 49.515625 72.90625 \r\nL 49.515625 64.59375 \r\nL 19.828125 64.59375 \r\nL 19.828125 46.734375 \r\nQ 21.96875 47.46875 24.109375 47.828125 \r\nQ 26.265625 48.1875 28.421875 48.1875 \r\nQ 40.625 48.1875 47.75 41.5 \r\nQ 54.890625 34.8125 54.890625 23.390625 \r\nQ 54.890625 11.625 47.5625 5.09375 \r\nQ 40.234375 -1.421875 26.90625 -1.421875 \r\nQ 22.3125 -1.421875 17.546875 -0.640625 \r\nQ 12.796875 0.140625 7.71875 1.703125 \r\nL 7.71875 11.625 \r\nQ 12.109375 9.234375 16.796875 8.0625 \r\nQ 21.484375 6.890625 26.703125 6.890625 \r\nQ 35.15625 6.890625 40.078125 11.328125 \r\nQ 45.015625 15.765625 45.015625 23.390625 \r\nQ 45.015625 31 40.078125 35.4375 \r\nQ 35.15625 39.890625 26.703125 39.890625 \r\nQ 22.75 39.890625 18.8125 39.015625 \r\nQ 14.890625 38.140625 10.796875 36.28125 \r\nz\r\n\" id=\"DejaVuSans-53\"/>\r\n       </defs>\r\n       <use xlink:href=\"#DejaVuSans-53\"/>\r\n      </g>\r\n     </g>\r\n    </g>\r\n    <g id=\"xtick_3\">\r\n     <g id=\"line2d_3\">\r\n      <g>\r\n       <use style=\"stroke:#000000;stroke-width:0.8;\" x=\"108.465\" xlink:href=\"#m39f41cd04a\" y=\"224.64\"/>\r\n      </g>\r\n     </g>\r\n     <g id=\"text_3\">\r\n      <!-- 10 -->\r\n      <g transform=\"translate(102.1025 239.238437)scale(0.1 -0.1)\">\r\n       <defs>\r\n        <path d=\"M 12.40625 8.296875 \r\nL 28.515625 8.296875 \r\nL 28.515625 63.921875 \r\nL 10.984375 60.40625 \r\nL 10.984375 69.390625 \r\nL 28.421875 72.90625 \r\nL 38.28125 72.90625 \r\nL 38.28125 8.296875 \r\nL 54.390625 8.296875 \r\nL 54.390625 0 \r\nL 12.40625 0 \r\nz\r\n\" id=\"DejaVuSans-49\"/>\r\n       </defs>\r\n       <use xlink:href=\"#DejaVuSans-49\"/>\r\n       <use x=\"63.623047\" xlink:href=\"#DejaVuSans-48\"/>\r\n      </g>\r\n     </g>\r\n    </g>\r\n    <g id=\"xtick_4\">\r\n     <g id=\"line2d_4\">\r\n      <g>\r\n       <use style=\"stroke:#000000;stroke-width:0.8;\" x=\"147.293571\" xlink:href=\"#m39f41cd04a\" y=\"224.64\"/>\r\n      </g>\r\n     </g>\r\n     <g id=\"text_4\">\r\n      <!-- 15 -->\r\n      <g transform=\"translate(140.931071 239.238437)scale(0.1 -0.1)\">\r\n       <use xlink:href=\"#DejaVuSans-49\"/>\r\n       <use x=\"63.623047\" xlink:href=\"#DejaVuSans-53\"/>\r\n      </g>\r\n     </g>\r\n    </g>\r\n    <g id=\"xtick_5\">\r\n     <g id=\"line2d_5\">\r\n      <g>\r\n       <use style=\"stroke:#000000;stroke-width:0.8;\" x=\"186.122143\" xlink:href=\"#m39f41cd04a\" y=\"224.64\"/>\r\n      </g>\r\n     </g>\r\n     <g id=\"text_5\">\r\n      <!-- 20 -->\r\n      <g transform=\"translate(179.759643 239.238437)scale(0.1 -0.1)\">\r\n       <defs>\r\n        <path d=\"M 19.1875 8.296875 \r\nL 53.609375 8.296875 \r\nL 53.609375 0 \r\nL 7.328125 0 \r\nL 7.328125 8.296875 \r\nQ 12.9375 14.109375 22.625 23.890625 \r\nQ 32.328125 33.6875 34.8125 36.53125 \r\nQ 39.546875 41.84375 41.421875 45.53125 \r\nQ 43.3125 49.21875 43.3125 52.78125 \r\nQ 43.3125 58.59375 39.234375 62.25 \r\nQ 35.15625 65.921875 28.609375 65.921875 \r\nQ 23.96875 65.921875 18.8125 64.3125 \r\nQ 13.671875 62.703125 7.8125 59.421875 \r\nL 7.8125 69.390625 \r\nQ 13.765625 71.78125 18.9375 73 \r\nQ 24.125 74.21875 28.421875 74.21875 \r\nQ 39.75 74.21875 46.484375 68.546875 \r\nQ 53.21875 62.890625 53.21875 53.421875 \r\nQ 53.21875 48.921875 51.53125 44.890625 \r\nQ 49.859375 40.875 45.40625 35.40625 \r\nQ 44.1875 33.984375 37.640625 27.21875 \r\nQ 31.109375 20.453125 19.1875 8.296875 \r\nz\r\n\" id=\"DejaVuSans-50\"/>\r\n       </defs>\r\n       <use xlink:href=\"#DejaVuSans-50\"/>\r\n       <use x=\"63.623047\" xlink:href=\"#DejaVuSans-48\"/>\r\n      </g>\r\n     </g>\r\n    </g>\r\n    <g id=\"xtick_6\">\r\n     <g id=\"line2d_6\">\r\n      <g>\r\n       <use style=\"stroke:#000000;stroke-width:0.8;\" x=\"224.950714\" xlink:href=\"#m39f41cd04a\" y=\"224.64\"/>\r\n      </g>\r\n     </g>\r\n     <g id=\"text_6\">\r\n      <!-- 25 -->\r\n      <g transform=\"translate(218.588214 239.238437)scale(0.1 -0.1)\">\r\n       <use xlink:href=\"#DejaVuSans-50\"/>\r\n       <use x=\"63.623047\" xlink:href=\"#DejaVuSans-53\"/>\r\n      </g>\r\n     </g>\r\n    </g>\r\n   </g>\r\n   <g id=\"matplotlib.axis_2\">\r\n    <g id=\"ytick_1\">\r\n     <g id=\"line2d_7\">\r\n      <defs>\r\n       <path d=\"M 0 0 \r\nL -3.5 0 \r\n\" id=\"m304371d894\" style=\"stroke:#000000;stroke-width:0.8;\"/>\r\n      </defs>\r\n      <g>\r\n       <use style=\"stroke:#000000;stroke-width:0.8;\" x=\"26.925\" xlink:href=\"#m304371d894\" y=\"11.082857\"/>\r\n      </g>\r\n     </g>\r\n     <g id=\"text_7\">\r\n      <!-- 0 -->\r\n      <g transform=\"translate(13.5625 14.882076)scale(0.1 -0.1)\">\r\n       <use xlink:href=\"#DejaVuSans-48\"/>\r\n      </g>\r\n     </g>\r\n    </g>\r\n    <g id=\"ytick_2\">\r\n     <g id=\"line2d_8\">\r\n      <g>\r\n       <use style=\"stroke:#000000;stroke-width:0.8;\" x=\"26.925\" xlink:href=\"#m304371d894\" y=\"49.911429\"/>\r\n      </g>\r\n     </g>\r\n     <g id=\"text_8\">\r\n      <!-- 5 -->\r\n      <g transform=\"translate(13.5625 53.710647)scale(0.1 -0.1)\">\r\n       <use xlink:href=\"#DejaVuSans-53\"/>\r\n      </g>\r\n     </g>\r\n    </g>\r\n    <g id=\"ytick_3\">\r\n     <g id=\"line2d_9\">\r\n      <g>\r\n       <use style=\"stroke:#000000;stroke-width:0.8;\" x=\"26.925\" xlink:href=\"#m304371d894\" y=\"88.74\"/>\r\n      </g>\r\n     </g>\r\n     <g id=\"text_9\">\r\n      <!-- 10 -->\r\n      <g transform=\"translate(7.2 92.539219)scale(0.1 -0.1)\">\r\n       <use xlink:href=\"#DejaVuSans-49\"/>\r\n       <use x=\"63.623047\" xlink:href=\"#DejaVuSans-48\"/>\r\n      </g>\r\n     </g>\r\n    </g>\r\n    <g id=\"ytick_4\">\r\n     <g id=\"line2d_10\">\r\n      <g>\r\n       <use style=\"stroke:#000000;stroke-width:0.8;\" x=\"26.925\" xlink:href=\"#m304371d894\" y=\"127.568571\"/>\r\n      </g>\r\n     </g>\r\n     <g id=\"text_10\">\r\n      <!-- 15 -->\r\n      <g transform=\"translate(7.2 131.36779)scale(0.1 -0.1)\">\r\n       <use xlink:href=\"#DejaVuSans-49\"/>\r\n       <use x=\"63.623047\" xlink:href=\"#DejaVuSans-53\"/>\r\n      </g>\r\n     </g>\r\n    </g>\r\n    <g id=\"ytick_5\">\r\n     <g id=\"line2d_11\">\r\n      <g>\r\n       <use style=\"stroke:#000000;stroke-width:0.8;\" x=\"26.925\" xlink:href=\"#m304371d894\" y=\"166.397143\"/>\r\n      </g>\r\n     </g>\r\n     <g id=\"text_11\">\r\n      <!-- 20 -->\r\n      <g transform=\"translate(7.2 170.196362)scale(0.1 -0.1)\">\r\n       <use xlink:href=\"#DejaVuSans-50\"/>\r\n       <use x=\"63.623047\" xlink:href=\"#DejaVuSans-48\"/>\r\n      </g>\r\n     </g>\r\n    </g>\r\n    <g id=\"ytick_6\">\r\n     <g id=\"line2d_12\">\r\n      <g>\r\n       <use style=\"stroke:#000000;stroke-width:0.8;\" x=\"26.925\" xlink:href=\"#m304371d894\" y=\"205.225714\"/>\r\n      </g>\r\n     </g>\r\n     <g id=\"text_12\">\r\n      <!-- 25 -->\r\n      <g transform=\"translate(7.2 209.024933)scale(0.1 -0.1)\">\r\n       <use xlink:href=\"#DejaVuSans-50\"/>\r\n       <use x=\"63.623047\" xlink:href=\"#DejaVuSans-53\"/>\r\n      </g>\r\n     </g>\r\n    </g>\r\n   </g>\r\n   <g id=\"patch_3\">\r\n    <path d=\"M 26.925 224.64 \r\nL 26.925 7.2 \r\n\" style=\"fill:none;stroke:#000000;stroke-linecap:square;stroke-linejoin:miter;stroke-width:0.8;\"/>\r\n   </g>\r\n   <g id=\"patch_4\">\r\n    <path d=\"M 244.365 224.64 \r\nL 244.365 7.2 \r\n\" style=\"fill:none;stroke:#000000;stroke-linecap:square;stroke-linejoin:miter;stroke-width:0.8;\"/>\r\n   </g>\r\n   <g id=\"patch_5\">\r\n    <path d=\"M 26.925 224.64 \r\nL 244.365 224.64 \r\n\" style=\"fill:none;stroke:#000000;stroke-linecap:square;stroke-linejoin:miter;stroke-width:0.8;\"/>\r\n   </g>\r\n   <g id=\"patch_6\">\r\n    <path d=\"M 26.925 7.2 \r\nL 244.365 7.2 \r\n\" style=\"fill:none;stroke:#000000;stroke-linecap:square;stroke-linejoin:miter;stroke-width:0.8;\"/>\r\n   </g>\r\n  </g>\r\n </g>\r\n <defs>\r\n  <clipPath id=\"pc8295c1afa\">\r\n   <rect height=\"217.44\" width=\"217.44\" x=\"26.925\" y=\"7.2\"/>\r\n  </clipPath>\r\n </defs>\r\n</svg>\r\n",
      "image/png": "[encoded data removed]"
     },
     "metadata": {
      "needs_background": "light"
     }
    }
   ],
   "source": [
    "choix = r\"assets\\COEUR-thomas.png\"\n",
    "test_image = image.load_img(choix, target_size = (28,28), grayscale = True)\n",
    "plt.imshow(test_image)\n",
    "test_image = image.img_to_array(test_image)\n",
    "test_image = np.expand_dims(test_image, axis = 0)\n",
    "### TEST du <3 ###\n",
    "resultat = model.predict(test_image)\n",
    "resultat = get_result(resultat)\n",
    "print(f\"La lettre correspondante est: {resultat}\")\n"
   ]
  },
  {
   "source": [
    "## ZONE DE TEST"
   ],
   "cell_type": "markdown",
   "metadata": {}
  },
  {
   "cell_type": "code",
   "execution_count": 13,
   "metadata": {},
   "outputs": [],
   "source": [
    "imagePath = 'assets\\imagedentrainement.jpeg'"
   ]
  },
  {
   "cell_type": "code",
   "execution_count": 14,
   "metadata": {},
   "outputs": [],
   "source": [
    "### Je charge mon image d'entrée à partir de la variable \"imagePath\" puis je la convertie en niveau de gris ###\n",
    "\n",
    "image = cv2.imread(imagePath)\n",
    "gray = cv2.cvtColor(image, cv2.COLOR_BGR2GRAY)\n",
    "\n",
    "blurred = cv2.medianBlur(gray,5)"
   ]
  },
  {
   "cell_type": "code",
   "execution_count": 15,
   "metadata": {},
   "outputs": [],
   "source": [
    "### Détection des contours ###\n",
    "\n",
    "blurred = cv2.threshold(blurred, 0, 255, cv2.THRESH_BINARY + cv2.THRESH_OTSU)[1]\n",
    "\n",
    "edged = cv2.Canny(blurred, 170, 255)\n",
    "cnts = cv2.findContours(edged.copy(), cv2.RETR_EXTERNAL, cv2.CHAIN_APPROX_SIMPLE)\n",
    "cnts = imutils.grab_contours(cnts)\n",
    "cnts = sort_contours(cnts, method=\"left-to-right\")[0]\n",
    "\n",
    "### Initialisation de la liste des contours ###\n",
    "\n",
    "chars = []"
   ]
  },
  {
   "cell_type": "code",
   "execution_count": 16,
   "metadata": {},
   "outputs": [],
   "source": [
    "### Boucle sur les différents contours ###\n",
    "for c in cnts:\n",
    "    ### Calculer la boîte englobante du contour ###\n",
    "    (x, y, w, h) = cv2.boundingRect(c)\n",
    "    ### Je filtre les boîtes englobantes, en m'assurant qu'elles ne sont ni trop petites ni trop grandes ###\n",
    "    if (w >= 5 and w <= 150) and (h >= 15 and h <= 120):\n",
    "        ### On extrait le caractère pour faire en sorte qu'il apparaisse comme blanc sur fond noir, puis on saisie la largeur et la hauteur de l'image seuillée ###\n",
    "        roi = gray[y:y + h, x:x + w]\n",
    "        thresh = cv2.threshold(roi, 0, 255,\n",
    "                               cv2.THRESH_BINARY_INV | cv2.THRESH_OTSU)[1]\n",
    "        (tH, tW) = thresh.shape\n",
    "        ### Si la largeur est supérieure à la hauteur, on redimensionne la dimension de la largeur ###\n",
    "        if tW > tH:\n",
    "            thresh = imutils.resize(thresh, width=28)\n",
    "        ### Sinon on redimensionne la longueur de la hauteur ###\n",
    "        else:\n",
    "            thresh = imutils.resize(thresh, height=28)\n",
    "\n",
    "        ### On force les dimensions en 28 * 28 ###\n",
    "        padded = cv2.copyMakeBorder(thresh, top=4, bottom=4,\n",
    "                                    left=4, right=4, borderType=cv2.BORDER_CONSTANT,\n",
    "                                    value=(0, 0, 0))\n",
    "        \n",
    "        padded = cv2.resize(padded, (28, 28))\n",
    "        padded = padded.astype(\"float32\") / 255.0\n",
    "        padded = np.expand_dims(padded, axis=-1)\n",
    "        ### Mise à jour notre liste de caractères qui seront OCR ###\n",
    "        chars.append((padded, (x, y, w, h)))"
   ]
  },
  {
   "cell_type": "code",
   "execution_count": 17,
   "metadata": {},
   "outputs": [],
   "source": [
    "### Extraction des emplacements de la boîte englobante et des caractères remplis ###\n",
    "boxes = [b[1] for b in chars]\n",
    "chars = np.array([c[0] for c in chars], dtype=\"float32\")\n",
    "\n",
    "\n",
    "### OCR les caractères à l'aide de notre modèle de reconnaissance de l'écriture manuscrite ###\n",
    "\n",
    "preds = model.predict(chars)\n"
   ]
  },
  {
   "cell_type": "code",
   "execution_count": 18,
   "metadata": {},
   "outputs": [],
   "source": [
    "### On définie la liste des noms des \"étiquettes\" (ABCDEFG...)\n",
    "labelNames = \"ABCDEFGHIJKLMNOPQRSTUVWXYZ\"\n",
    "labelNames = [l for l in labelNames]"
   ]
  },
  {
   "cell_type": "code",
   "execution_count": 19,
   "metadata": {},
   "outputs": [
    {
     "output_type": "stream",
     "name": "stdout",
     "text": [
      "[INFO] F - 98.59%\n[INFO] O - 50.33%\n[INFO] R - 86.64%\n[INFO] M - 99.50%\n[INFO] A - 89.97%\n[INFO] T - 98.79%\n[INFO] S - 44.00%\n[INFO] Q - 78.47%\n[INFO] N - 91.50%\n[INFO] D - 57.18%\n[INFO] K - 39.10%\n[INFO] T - 83.57%\n[INFO] A - 75.27%\n[INFO] X - 61.67%\n[INFO] A - 83.08%\n"
     ]
    }
   ],
   "source": [
    "### Boucle sur les prédictions et les emplacements de la boîte englobante ensemble ###\n",
    "for (pred, (x, y, w, h)) in zip(preds, boxes):\n",
    "    ### trouver l'index de l'étiquette avec le plus grand correspondant probabilité, puis extrayez la probabilité et l'étiquette ###\n",
    "    i = np.argmax(pred)\n",
    "    prob = pred[i]\n",
    "    label = labelNames[i]\n",
    "    # Dessin de la prediction sur l'image ###\n",
    "    print(\"[INFO] {} - {:.2f}%\".format(label, prob * 100))\n",
    "    cv2.rectangle(image, (x, y), (x + w, y + h), (0, 255, 0), 2)\n",
    "    cv2.putText(image, label, (x - 10, y - 10), cv2.FONT_HERSHEY_SIMPLEX, 1.2, (0, 255, 0), 2)"
   ]
  },
  {
   "cell_type": "code",
   "execution_count": 20,
   "metadata": {},
   "outputs": [
    {
     "output_type": "execute_result",
     "data": {
      "text/plain": [
       "<matplotlib.image.AxesImage at 0x2cd940694c8>"
      ]
     },
     "metadata": {},
     "execution_count": 20
    },
    {
     "output_type": "display_data",
     "data": {
      "text/plain": "<Figure size 432x288 with 1 Axes>",
      "image/svg+xml": "<?xml version=\"1.0\" encoding=\"utf-8\" standalone=\"no\"?>\r\n<!DOCTYPE svg PUBLIC \"-//W3C//DTD SVG 1.1//EN\"\r\n  \"http://www.w3.org/Graphics/SVG/1.1/DTD/svg11.dtd\">\r\n<!-- Created with matplotlib (https://matplotlib.org/) -->\r\n<svg height=\"166.549019pt\" version=\"1.1\" viewBox=\"0 0 375.2875 166.549019\" width=\"375.2875pt\" xmlns=\"http://www.w3.org/2000/svg\" xmlns:xlink=\"http://www.w3.org/1999/xlink\">\r\n <metadata>\r\n  <rdf:RDF xmlns:cc=\"http://creativecommons.org/ns#\" xmlns:dc=\"http://purl.org/dc/elements/1.1/\" xmlns:rdf=\"http://www.w3.org/1999/02/22-rdf-syntax-ns#\">\r\n   <cc:Work>\r\n    <dc:type rdf:resource=\"http://purl.org/dc/dcmitype/StillImage\"/>\r\n    <dc:date>2020-11-19T13:20:24.764732</dc:date>\r\n    <dc:format>image/svg+xml</dc:format>\r\n    <dc:creator>\r\n     <cc:Agent>\r\n      <dc:title>Matplotlib v3.3.2, https://matplotlib.org/</dc:title>\r\n     </cc:Agent>\r\n    </dc:creator>\r\n   </cc:Work>\r\n  </rdf:RDF>\r\n </metadata>\r\n <defs>\r\n  <style type=\"text/css\">*{stroke-linecap:butt;stroke-linejoin:round;}</style>\r\n </defs>\r\n <g id=\"figure_1\">\r\n  <g id=\"patch_1\">\r\n   <path d=\"M 0 166.549019 \r\nL 375.2875 166.549019 \r\nL 375.2875 0 \r\nL 0 0 \r\nz\r\n\" style=\"fill:none;\"/>\r\n  </g>\r\n  <g id=\"axes_1\">\r\n   <g id=\"patch_2\">\r\n    <path d=\"M 33.2875 142.670894 \r\nL 368.0875 142.670894 \r\nL 368.0875 10.887916 \r\nL 33.2875 10.887916 \r\nz\r\n\" style=\"fill:#ffffff;\"/>\r\n   </g>\r\n   <g clip-path=\"url(#p266653674f)\">\r\n    <image height=\"132\" id=\"image69a5b9b4a5\" transform=\"scale(1 -1)translate(0 -132)\" width=\"335\" x=\"33.2875\" xlink:href=\"data:image/png;base64,\r\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\" y=\"-10.670894\"/>\r\n   </g>\r\n   <g id=\"matplotlib.axis_1\">\r\n    <g id=\"xtick_1\">\r\n     <g id=\"line2d_1\">\r\n      <defs>\r\n       <path d=\"M 0 0 \r\nL 0 3.5 \r\n\" id=\"m6e31b39157\" style=\"stroke:#000000;stroke-width:0.8;\"/>\r\n      </defs>\r\n      <g>\r\n       <use style=\"stroke:#000000;stroke-width:0.8;\" x=\"33.398803\" xlink:href=\"#m6e31b39157\" y=\"142.670894\"/>\r\n      </g>\r\n     </g>\r\n     <g id=\"text_1\">\r\n      <!-- 0 -->\r\n      <g transform=\"translate(30.217553 157.269332)scale(0.1 -0.1)\">\r\n       <defs>\r\n        <path d=\"M 31.78125 66.40625 \r\nQ 24.171875 66.40625 20.328125 58.90625 \r\nQ 16.5 51.421875 16.5 36.375 \r\nQ 16.5 21.390625 20.328125 13.890625 \r\nQ 24.171875 6.390625 31.78125 6.390625 \r\nQ 39.453125 6.390625 43.28125 13.890625 \r\nQ 47.125 21.390625 47.125 36.375 \r\nQ 47.125 51.421875 43.28125 58.90625 \r\nQ 39.453125 66.40625 31.78125 66.40625 \r\nz\r\nM 31.78125 74.21875 \r\nQ 44.046875 74.21875 50.515625 64.515625 \r\nQ 56.984375 54.828125 56.984375 36.375 \r\nQ 56.984375 17.96875 50.515625 8.265625 \r\nQ 44.046875 -1.421875 31.78125 -1.421875 \r\nQ 19.53125 -1.421875 13.0625 8.265625 \r\nQ 6.59375 17.96875 6.59375 36.375 \r\nQ 6.59375 54.828125 13.0625 64.515625 \r\nQ 19.53125 74.21875 31.78125 74.21875 \r\nz\r\n\" id=\"DejaVuSans-48\"/>\r\n       </defs>\r\n       <use xlink:href=\"#DejaVuSans-48\"/>\r\n      </g>\r\n     </g>\r\n    </g>\r\n    <g id=\"xtick_2\">\r\n     <g id=\"line2d_2\">\r\n      <g>\r\n       <use style=\"stroke:#000000;stroke-width:0.8;\" x=\"77.92008\" xlink:href=\"#m6e31b39157\" y=\"142.670894\"/>\r\n      </g>\r\n     </g>\r\n     <g id=\"text_2\">\r\n      <!-- 200 -->\r\n      <g transform=\"translate(68.37633 157.269332)scale(0.1 -0.1)\">\r\n       <defs>\r\n        <path d=\"M 19.1875 8.296875 \r\nL 53.609375 8.296875 \r\nL 53.609375 0 \r\nL 7.328125 0 \r\nL 7.328125 8.296875 \r\nQ 12.9375 14.109375 22.625 23.890625 \r\nQ 32.328125 33.6875 34.8125 36.53125 \r\nQ 39.546875 41.84375 41.421875 45.53125 \r\nQ 43.3125 49.21875 43.3125 52.78125 \r\nQ 43.3125 58.59375 39.234375 62.25 \r\nQ 35.15625 65.921875 28.609375 65.921875 \r\nQ 23.96875 65.921875 18.8125 64.3125 \r\nQ 13.671875 62.703125 7.8125 59.421875 \r\nL 7.8125 69.390625 \r\nQ 13.765625 71.78125 18.9375 73 \r\nQ 24.125 74.21875 28.421875 74.21875 \r\nQ 39.75 74.21875 46.484375 68.546875 \r\nQ 53.21875 62.890625 53.21875 53.421875 \r\nQ 53.21875 48.921875 51.53125 44.890625 \r\nQ 49.859375 40.875 45.40625 35.40625 \r\nQ 44.1875 33.984375 37.640625 27.21875 \r\nQ 31.109375 20.453125 19.1875 8.296875 \r\nz\r\n\" id=\"DejaVuSans-50\"/>\r\n       </defs>\r\n       <use xlink:href=\"#DejaVuSans-50\"/>\r\n       <use x=\"63.623047\" xlink:href=\"#DejaVuSans-48\"/>\r\n       <use x=\"127.246094\" xlink:href=\"#DejaVuSans-48\"/>\r\n      </g>\r\n     </g>\r\n    </g>\r\n    <g id=\"xtick_3\">\r\n     <g id=\"line2d_3\">\r\n      <g>\r\n       <use style=\"stroke:#000000;stroke-width:0.8;\" x=\"122.441356\" xlink:href=\"#m6e31b39157\" y=\"142.670894\"/>\r\n      </g>\r\n     </g>\r\n     <g id=\"text_3\">\r\n      <!-- 400 -->\r\n      <g transform=\"translate(112.897606 157.269332)scale(0.1 -0.1)\">\r\n       <defs>\r\n        <path d=\"M 37.796875 64.3125 \r\nL 12.890625 25.390625 \r\nL 37.796875 25.390625 \r\nz\r\nM 35.203125 72.90625 \r\nL 47.609375 72.90625 \r\nL 47.609375 25.390625 \r\nL 58.015625 25.390625 \r\nL 58.015625 17.1875 \r\nL 47.609375 17.1875 \r\nL 47.609375 0 \r\nL 37.796875 0 \r\nL 37.796875 17.1875 \r\nL 4.890625 17.1875 \r\nL 4.890625 26.703125 \r\nz\r\n\" id=\"DejaVuSans-52\"/>\r\n       </defs>\r\n       <use xlink:href=\"#DejaVuSans-52\"/>\r\n       <use x=\"63.623047\" xlink:href=\"#DejaVuSans-48\"/>\r\n       <use x=\"127.246094\" xlink:href=\"#DejaVuSans-48\"/>\r\n      </g>\r\n     </g>\r\n    </g>\r\n    <g id=\"xtick_4\">\r\n     <g id=\"line2d_4\">\r\n      <g>\r\n       <use style=\"stroke:#000000;stroke-width:0.8;\" x=\"166.962633\" xlink:href=\"#m6e31b39157\" y=\"142.670894\"/>\r\n      </g>\r\n     </g>\r\n     <g id=\"text_4\">\r\n      <!-- 600 -->\r\n      <g transform=\"translate(157.418883 157.269332)scale(0.1 -0.1)\">\r\n       <defs>\r\n        <path d=\"M 33.015625 40.375 \r\nQ 26.375 40.375 22.484375 35.828125 \r\nQ 18.609375 31.296875 18.609375 23.390625 \r\nQ 18.609375 15.53125 22.484375 10.953125 \r\nQ 26.375 6.390625 33.015625 6.390625 \r\nQ 39.65625 6.390625 43.53125 10.953125 \r\nQ 47.40625 15.53125 47.40625 23.390625 \r\nQ 47.40625 31.296875 43.53125 35.828125 \r\nQ 39.65625 40.375 33.015625 40.375 \r\nz\r\nM 52.59375 71.296875 \r\nL 52.59375 62.3125 \r\nQ 48.875 64.0625 45.09375 64.984375 \r\nQ 41.3125 65.921875 37.59375 65.921875 \r\nQ 27.828125 65.921875 22.671875 59.328125 \r\nQ 17.53125 52.734375 16.796875 39.40625 \r\nQ 19.671875 43.65625 24.015625 45.921875 \r\nQ 28.375 48.1875 33.59375 48.1875 \r\nQ 44.578125 48.1875 50.953125 41.515625 \r\nQ 57.328125 34.859375 57.328125 23.390625 \r\nQ 57.328125 12.15625 50.6875 5.359375 \r\nQ 44.046875 -1.421875 33.015625 -1.421875 \r\nQ 20.359375 -1.421875 13.671875 8.265625 \r\nQ 6.984375 17.96875 6.984375 36.375 \r\nQ 6.984375 53.65625 15.1875 63.9375 \r\nQ 23.390625 74.21875 37.203125 74.21875 \r\nQ 40.921875 74.21875 44.703125 73.484375 \r\nQ 48.484375 72.75 52.59375 71.296875 \r\nz\r\n\" id=\"DejaVuSans-54\"/>\r\n       </defs>\r\n       <use xlink:href=\"#DejaVuSans-54\"/>\r\n       <use x=\"63.623047\" xlink:href=\"#DejaVuSans-48\"/>\r\n       <use x=\"127.246094\" xlink:href=\"#DejaVuSans-48\"/>\r\n      </g>\r\n     </g>\r\n    </g>\r\n    <g id=\"xtick_5\">\r\n     <g id=\"line2d_5\">\r\n      <g>\r\n       <use style=\"stroke:#000000;stroke-width:0.8;\" x=\"211.48391\" xlink:href=\"#m6e31b39157\" y=\"142.670894\"/>\r\n      </g>\r\n     </g>\r\n     <g id=\"text_5\">\r\n      <!-- 800 -->\r\n      <g transform=\"translate(201.94016 157.269332)scale(0.1 -0.1)\">\r\n       <defs>\r\n        <path d=\"M 31.78125 34.625 \r\nQ 24.75 34.625 20.71875 30.859375 \r\nQ 16.703125 27.09375 16.703125 20.515625 \r\nQ 16.703125 13.921875 20.71875 10.15625 \r\nQ 24.75 6.390625 31.78125 6.390625 \r\nQ 38.8125 6.390625 42.859375 10.171875 \r\nQ 46.921875 13.96875 46.921875 20.515625 \r\nQ 46.921875 27.09375 42.890625 30.859375 \r\nQ 38.875 34.625 31.78125 34.625 \r\nz\r\nM 21.921875 38.8125 \r\nQ 15.578125 40.375 12.03125 44.71875 \r\nQ 8.5 49.078125 8.5 55.328125 \r\nQ 8.5 64.0625 14.71875 69.140625 \r\nQ 20.953125 74.21875 31.78125 74.21875 \r\nQ 42.671875 74.21875 48.875 69.140625 \r\nQ 55.078125 64.0625 55.078125 55.328125 \r\nQ 55.078125 49.078125 51.53125 44.71875 \r\nQ 48 40.375 41.703125 38.8125 \r\nQ 48.828125 37.15625 52.796875 32.3125 \r\nQ 56.78125 27.484375 56.78125 20.515625 \r\nQ 56.78125 9.90625 50.3125 4.234375 \r\nQ 43.84375 -1.421875 31.78125 -1.421875 \r\nQ 19.734375 -1.421875 13.25 4.234375 \r\nQ 6.78125 9.90625 6.78125 20.515625 \r\nQ 6.78125 27.484375 10.78125 32.3125 \r\nQ 14.796875 37.15625 21.921875 38.8125 \r\nz\r\nM 18.3125 54.390625 \r\nQ 18.3125 48.734375 21.84375 45.5625 \r\nQ 25.390625 42.390625 31.78125 42.390625 \r\nQ 38.140625 42.390625 41.71875 45.5625 \r\nQ 45.3125 48.734375 45.3125 54.390625 \r\nQ 45.3125 60.0625 41.71875 63.234375 \r\nQ 38.140625 66.40625 31.78125 66.40625 \r\nQ 25.390625 66.40625 21.84375 63.234375 \r\nQ 18.3125 60.0625 18.3125 54.390625 \r\nz\r\n\" id=\"DejaVuSans-56\"/>\r\n       </defs>\r\n       <use xlink:href=\"#DejaVuSans-56\"/>\r\n       <use x=\"63.623047\" xlink:href=\"#DejaVuSans-48\"/>\r\n       <use x=\"127.246094\" xlink:href=\"#DejaVuSans-48\"/>\r\n      </g>\r\n     </g>\r\n    </g>\r\n    <g id=\"xtick_6\">\r\n     <g id=\"line2d_6\">\r\n      <g>\r\n       <use style=\"stroke:#000000;stroke-width:0.8;\" x=\"256.005186\" xlink:href=\"#m6e31b39157\" y=\"142.670894\"/>\r\n      </g>\r\n     </g>\r\n     <g id=\"text_6\">\r\n      <!-- 1000 -->\r\n      <g transform=\"translate(243.280186 157.269332)scale(0.1 -0.1)\">\r\n       <defs>\r\n        <path d=\"M 12.40625 8.296875 \r\nL 28.515625 8.296875 \r\nL 28.515625 63.921875 \r\nL 10.984375 60.40625 \r\nL 10.984375 69.390625 \r\nL 28.421875 72.90625 \r\nL 38.28125 72.90625 \r\nL 38.28125 8.296875 \r\nL 54.390625 8.296875 \r\nL 54.390625 0 \r\nL 12.40625 0 \r\nz\r\n\" id=\"DejaVuSans-49\"/>\r\n       </defs>\r\n       <use xlink:href=\"#DejaVuSans-49\"/>\r\n       <use x=\"63.623047\" xlink:href=\"#DejaVuSans-48\"/>\r\n       <use x=\"127.246094\" xlink:href=\"#DejaVuSans-48\"/>\r\n       <use x=\"190.869141\" xlink:href=\"#DejaVuSans-48\"/>\r\n      </g>\r\n     </g>\r\n    </g>\r\n    <g id=\"xtick_7\">\r\n     <g id=\"line2d_7\">\r\n      <g>\r\n       <use style=\"stroke:#000000;stroke-width:0.8;\" x=\"300.526463\" xlink:href=\"#m6e31b39157\" y=\"142.670894\"/>\r\n      </g>\r\n     </g>\r\n     <g id=\"text_7\">\r\n      <!-- 1200 -->\r\n      <g transform=\"translate(287.801463 157.269332)scale(0.1 -0.1)\">\r\n       <use xlink:href=\"#DejaVuSans-49\"/>\r\n       <use x=\"63.623047\" xlink:href=\"#DejaVuSans-50\"/>\r\n       <use x=\"127.246094\" xlink:href=\"#DejaVuSans-48\"/>\r\n       <use x=\"190.869141\" xlink:href=\"#DejaVuSans-48\"/>\r\n      </g>\r\n     </g>\r\n    </g>\r\n    <g id=\"xtick_8\">\r\n     <g id=\"line2d_8\">\r\n      <g>\r\n       <use style=\"stroke:#000000;stroke-width:0.8;\" x=\"345.047739\" xlink:href=\"#m6e31b39157\" y=\"142.670894\"/>\r\n      </g>\r\n     </g>\r\n     <g id=\"text_8\">\r\n      <!-- 1400 -->\r\n      <g transform=\"translate(332.322739 157.269332)scale(0.1 -0.1)\">\r\n       <use xlink:href=\"#DejaVuSans-49\"/>\r\n       <use x=\"63.623047\" xlink:href=\"#DejaVuSans-52\"/>\r\n       <use x=\"127.246094\" xlink:href=\"#DejaVuSans-48\"/>\r\n       <use x=\"190.869141\" xlink:href=\"#DejaVuSans-48\"/>\r\n      </g>\r\n     </g>\r\n    </g>\r\n   </g>\r\n   <g id=\"matplotlib.axis_2\">\r\n    <g id=\"ytick_1\">\r\n     <g id=\"line2d_9\">\r\n      <defs>\r\n       <path d=\"M 0 0 \r\nL -3.5 0 \r\n\" id=\"maaa875d06e\" style=\"stroke:#000000;stroke-width:0.8;\"/>\r\n      </defs>\r\n      <g>\r\n       <use style=\"stroke:#000000;stroke-width:0.8;\" x=\"33.2875\" xlink:href=\"#maaa875d06e\" y=\"10.999219\"/>\r\n      </g>\r\n     </g>\r\n     <g id=\"text_9\">\r\n      <!-- 0 -->\r\n      <g transform=\"translate(19.925 14.798437)scale(0.1 -0.1)\">\r\n       <use xlink:href=\"#DejaVuSans-48\"/>\r\n      </g>\r\n     </g>\r\n    </g>\r\n    <g id=\"ytick_2\">\r\n     <g id=\"line2d_10\">\r\n      <g>\r\n       <use style=\"stroke:#000000;stroke-width:0.8;\" x=\"33.2875\" xlink:href=\"#maaa875d06e\" y=\"33.259857\"/>\r\n      </g>\r\n     </g>\r\n     <g id=\"text_10\">\r\n      <!-- 100 -->\r\n      <g transform=\"translate(7.2 37.059076)scale(0.1 -0.1)\">\r\n       <use xlink:href=\"#DejaVuSans-49\"/>\r\n       <use x=\"63.623047\" xlink:href=\"#DejaVuSans-48\"/>\r\n       <use x=\"127.246094\" xlink:href=\"#DejaVuSans-48\"/>\r\n      </g>\r\n     </g>\r\n    </g>\r\n    <g id=\"ytick_3\">\r\n     <g id=\"line2d_11\">\r\n      <g>\r\n       <use style=\"stroke:#000000;stroke-width:0.8;\" x=\"33.2875\" xlink:href=\"#maaa875d06e\" y=\"55.520495\"/>\r\n      </g>\r\n     </g>\r\n     <g id=\"text_11\">\r\n      <!-- 200 -->\r\n      <g transform=\"translate(7.2 59.319714)scale(0.1 -0.1)\">\r\n       <use xlink:href=\"#DejaVuSans-50\"/>\r\n       <use x=\"63.623047\" xlink:href=\"#DejaVuSans-48\"/>\r\n       <use x=\"127.246094\" xlink:href=\"#DejaVuSans-48\"/>\r\n      </g>\r\n     </g>\r\n    </g>\r\n    <g id=\"ytick_4\">\r\n     <g id=\"line2d_12\">\r\n      <g>\r\n       <use style=\"stroke:#000000;stroke-width:0.8;\" x=\"33.2875\" xlink:href=\"#maaa875d06e\" y=\"77.781134\"/>\r\n      </g>\r\n     </g>\r\n     <g id=\"text_12\">\r\n      <!-- 300 -->\r\n      <g transform=\"translate(7.2 81.580352)scale(0.1 -0.1)\">\r\n       <defs>\r\n        <path d=\"M 40.578125 39.3125 \r\nQ 47.65625 37.796875 51.625 33 \r\nQ 55.609375 28.21875 55.609375 21.1875 \r\nQ 55.609375 10.40625 48.1875 4.484375 \r\nQ 40.765625 -1.421875 27.09375 -1.421875 \r\nQ 22.515625 -1.421875 17.65625 -0.515625 \r\nQ 12.796875 0.390625 7.625 2.203125 \r\nL 7.625 11.71875 \r\nQ 11.71875 9.328125 16.59375 8.109375 \r\nQ 21.484375 6.890625 26.8125 6.890625 \r\nQ 36.078125 6.890625 40.9375 10.546875 \r\nQ 45.796875 14.203125 45.796875 21.1875 \r\nQ 45.796875 27.640625 41.28125 31.265625 \r\nQ 36.765625 34.90625 28.71875 34.90625 \r\nL 20.21875 34.90625 \r\nL 20.21875 43.015625 \r\nL 29.109375 43.015625 \r\nQ 36.375 43.015625 40.234375 45.921875 \r\nQ 44.09375 48.828125 44.09375 54.296875 \r\nQ 44.09375 59.90625 40.109375 62.90625 \r\nQ 36.140625 65.921875 28.71875 65.921875 \r\nQ 24.65625 65.921875 20.015625 65.03125 \r\nQ 15.375 64.15625 9.8125 62.3125 \r\nL 9.8125 71.09375 \r\nQ 15.4375 72.65625 20.34375 73.4375 \r\nQ 25.25 74.21875 29.59375 74.21875 \r\nQ 40.828125 74.21875 47.359375 69.109375 \r\nQ 53.90625 64.015625 53.90625 55.328125 \r\nQ 53.90625 49.265625 50.4375 45.09375 \r\nQ 46.96875 40.921875 40.578125 39.3125 \r\nz\r\n\" id=\"DejaVuSans-51\"/>\r\n       </defs>\r\n       <use xlink:href=\"#DejaVuSans-51\"/>\r\n       <use x=\"63.623047\" xlink:href=\"#DejaVuSans-48\"/>\r\n       <use x=\"127.246094\" xlink:href=\"#DejaVuSans-48\"/>\r\n      </g>\r\n     </g>\r\n    </g>\r\n    <g id=\"ytick_5\">\r\n     <g id=\"line2d_13\">\r\n      <g>\r\n       <use style=\"stroke:#000000;stroke-width:0.8;\" x=\"33.2875\" xlink:href=\"#maaa875d06e\" y=\"100.041772\"/>\r\n      </g>\r\n     </g>\r\n     <g id=\"text_13\">\r\n      <!-- 400 -->\r\n      <g transform=\"translate(7.2 103.840991)scale(0.1 -0.1)\">\r\n       <use xlink:href=\"#DejaVuSans-52\"/>\r\n       <use x=\"63.623047\" xlink:href=\"#DejaVuSans-48\"/>\r\n       <use x=\"127.246094\" xlink:href=\"#DejaVuSans-48\"/>\r\n      </g>\r\n     </g>\r\n    </g>\r\n    <g id=\"ytick_6\">\r\n     <g id=\"line2d_14\">\r\n      <g>\r\n       <use style=\"stroke:#000000;stroke-width:0.8;\" x=\"33.2875\" xlink:href=\"#maaa875d06e\" y=\"122.30241\"/>\r\n      </g>\r\n     </g>\r\n     <g id=\"text_14\">\r\n      <!-- 500 -->\r\n      <g transform=\"translate(7.2 126.101629)scale(0.1 -0.1)\">\r\n       <defs>\r\n        <path d=\"M 10.796875 72.90625 \r\nL 49.515625 72.90625 \r\nL 49.515625 64.59375 \r\nL 19.828125 64.59375 \r\nL 19.828125 46.734375 \r\nQ 21.96875 47.46875 24.109375 47.828125 \r\nQ 26.265625 48.1875 28.421875 48.1875 \r\nQ 40.625 48.1875 47.75 41.5 \r\nQ 54.890625 34.8125 54.890625 23.390625 \r\nQ 54.890625 11.625 47.5625 5.09375 \r\nQ 40.234375 -1.421875 26.90625 -1.421875 \r\nQ 22.3125 -1.421875 17.546875 -0.640625 \r\nQ 12.796875 0.140625 7.71875 1.703125 \r\nL 7.71875 11.625 \r\nQ 12.109375 9.234375 16.796875 8.0625 \r\nQ 21.484375 6.890625 26.703125 6.890625 \r\nQ 35.15625 6.890625 40.078125 11.328125 \r\nQ 45.015625 15.765625 45.015625 23.390625 \r\nQ 45.015625 31 40.078125 35.4375 \r\nQ 35.15625 39.890625 26.703125 39.890625 \r\nQ 22.75 39.890625 18.8125 39.015625 \r\nQ 14.890625 38.140625 10.796875 36.28125 \r\nz\r\n\" id=\"DejaVuSans-53\"/>\r\n       </defs>\r\n       <use xlink:href=\"#DejaVuSans-53\"/>\r\n       <use x=\"63.623047\" xlink:href=\"#DejaVuSans-48\"/>\r\n       <use x=\"127.246094\" xlink:href=\"#DejaVuSans-48\"/>\r\n      </g>\r\n     </g>\r\n    </g>\r\n   </g>\r\n   <g id=\"patch_3\">\r\n    <path d=\"M 33.2875 142.670894 \r\nL 33.2875 10.887916 \r\n\" style=\"fill:none;stroke:#000000;stroke-linecap:square;stroke-linejoin:miter;stroke-width:0.8;\"/>\r\n   </g>\r\n   <g id=\"patch_4\">\r\n    <path d=\"M 368.0875 142.670894 \r\nL 368.0875 10.887916 \r\n\" style=\"fill:none;stroke:#000000;stroke-linecap:square;stroke-linejoin:miter;stroke-width:0.8;\"/>\r\n   </g>\r\n   <g id=\"patch_5\">\r\n    <path d=\"M 33.2875 142.670894 \r\nL 368.0875 142.670894 \r\n\" style=\"fill:none;stroke:#000000;stroke-linecap:square;stroke-linejoin:miter;stroke-width:0.8;\"/>\r\n   </g>\r\n   <g id=\"patch_6\">\r\n    <path d=\"M 33.2875 10.887916 \r\nL 368.0875 10.887916 \r\n\" style=\"fill:none;stroke:#000000;stroke-linecap:square;stroke-linejoin:miter;stroke-width:0.8;\"/>\r\n   </g>\r\n  </g>\r\n </g>\r\n <defs>\r\n  <clipPath id=\"p266653674f\">\r\n   <rect height=\"131.782979\" width=\"334.8\" x=\"33.2875\" y=\"10.887916\"/>\r\n  </clipPath>\r\n </defs>\r\n</svg>\r\n",
      "image/png": "[encoded data removed]"
     },
     "metadata": {
      "needs_background": "light"
     }
    }
   ],
   "source": [
    "### Montre l'image ###\n",
    "plt.imshow(image)\n"
   ]
  },
  {
   "cell_type": "code",
   "execution_count": null,
   "metadata": {},
   "outputs": [],
   "source": []
  }
 ]
}