{
 "metadata": {
  "language_info": {
   "codemirror_mode": {
    "name": "ipython",
    "version": 3
   },
   "file_extension": ".py",
   "mimetype": "text/x-python",
   "name": "python",
   "nbconvert_exporter": "python",
   "pygments_lexer": "ipython3",
   "version": "3.7.9-final"
  },
  "orig_nbformat": 2,
  "kernelspec": {
   "name": "python3",
   "display_name": "Python 3.7.9 64-bit ('data_science': conda)",
   "metadata": {
    "interpreter": {
     "hash": "4732c83932685b0664faa5679aa5d57be970d81d9b5c25b3f14d84dbd2e895e8"
    }
   }
  }
 },
 "nbformat": 4,
 "nbformat_minor": 2,
 "cells": [
  {
   "source": [
    "# Nuage Compta et la facture s'analysa"
   ],
   "cell_type": "markdown",
   "metadata": {}
  },
  {
   "source": [
    "## 0. Import des librairies"
   ],
   "cell_type": "markdown",
   "metadata": {}
  },
  {
   "cell_type": "code",
   "execution_count": 1,
   "metadata": {},
   "outputs": [
    {
     "output_type": "stream",
     "name": "stderr",
     "text": [
      "Using TensorFlow backend.\n"
     ]
    }
   ],
   "source": [
    "import numpy as np\n",
    "import matplotlib.pyplot as plt\n",
    "from keras.preprocessing.image import ImageDataGenerator\n",
    "from keras.preprocessing import image\n",
    "import keras\n",
    "from keras import metrics\n",
    "from keras.models import Sequential, load_model\n",
    "from keras.layers import Conv2D, MaxPooling2D, Flatten, Dense, Activation\n",
    "import os\n",
    "import pickle\n",
    "import cv2\n",
    "import imutils\n",
    "from imutils.contours import sort_contours\n",
    "\n",
    "from src import import_auto      ### Ma fonction == optimisation (voir import_auto.py) ###\n",
    "from src import negatif_test     ### Ma fonction == passer l'image de mon choix en negatif ###"
   ]
  },
  {
   "source": [
    "## 1. Optimisation et nettoyage des données"
   ],
   "cell_type": "markdown",
   "metadata": {}
  },
  {
   "cell_type": "code",
   "execution_count": 2,
   "metadata": {},
   "outputs": [],
   "source": [
    "### Afin de réduire les temps d'attente et dans un soucis d'optimisation, je decide d'importer une fonction qui prend 200 png par lettres (suffisant ici). Ces images viennent s'ajouter au dossier dataset_reduit_train ###\n",
    "import_auto.import_fichier_train()"
   ]
  },
  {
   "cell_type": "code",
   "execution_count": 3,
   "metadata": {},
   "outputs": [],
   "source": [
    "### Afin de réduire les temps d'attente et dans un soucis d'optimisation, je decide d'importer une fonction qui prend 3 png par lettres (suffisant ici). Ces images viennent s'ajouter au dossier dataset_reduit_test ###\n",
    "import_auto.import_fichier_test()"
   ]
  },
  {
   "source": [
    "## 2. Import des Datasets"
   ],
   "cell_type": "markdown",
   "metadata": {}
  },
  {
   "cell_type": "code",
   "execution_count": 4,
   "metadata": {},
   "outputs": [
    {
     "output_type": "stream",
     "name": "stdout",
     "text": [
      "Found 5207 images belonging to 27 classes.\nFound 81 images belonging to 27 classes.\n"
     ]
    }
   ],
   "source": [
    "### ImageDataGenerator génère des lots de données d'image vectorielles, convertissant les coefficients RVB compris entre 0 et 255 en valeurs cibles comprises entre 0 et 1 par mise à l'échelle avec un facteur de 1/255 à l' aide de la remise à l' échelle ###\n",
    "\n",
    "train_datagen = ImageDataGenerator(\n",
    "    rescale = 1./255,\n",
    "    ### shear_range est utilisé pour appliquer de manière aléatoire des transformations de cisaillement ###\n",
    "    shear_range = 0.2,\n",
    "    ### zoom_range est utilisé pour zoomer aléatoirement à l'intérieur des images ###           \n",
    "    zoom_range = 0.2,\n",
    "    ### horizontal_flip est utilisé pour retourner au hasard la moitié des images horizontalement ###            \n",
    "    horizontal_flip = True\n",
    ")      \n",
    "\n",
    "test_datagen = ImageDataGenerator(rescale = 1./255)\n",
    "\n",
    "\n",
    "### J'importe les images une par une à partir des répertoires en utilisant .flow_from_directory et y appliquons ImageDataGenerator ###\n",
    "\n",
    "train_generator = train_datagen.flow_from_directory(\n",
    "    ### Choix de mon repertoire ###\n",
    "    directory = \"data/dataset_reduit_train\",\n",
    "    ### Je converti les images de leur taille d'origine à notre target_size ###                    \n",
    "    target_size = (28,28),\n",
    "    ### Nombre batch_size qui fait référence au nombre d'exemples d'entraînement utilisés dans une itération ###                                      \n",
    "    batch_size = 32,\n",
    "    ### Je definis le class_mode sur \"catégorical\" indiquant que nous avons plusieurs classes (a à z) à prédire ###          \n",
    "    class_mode = \"categorical\",\n",
    "    ### Je choisis le color_mode \"grayscale\", indiquant que nous trvaillons sur une image en noir et blanc\n",
    "    color_mode = \"grayscale\"                                \n",
    "\n",
    ")\n",
    "\n",
    "test_generator = test_datagen.flow_from_directory(\n",
    "    directory = \"data/dataset_reduit_test\",\n",
    "    target_size = (28,28),\n",
    "    batch_size = 32,\n",
    "    class_mode = \"categorical\",\n",
    "    color_mode = \"grayscale\"\n",
    "\n",
    ")"
   ]
  },
  {
   "source": [
    "## 3. Definition du modèle d'architecture"
   ],
   "cell_type": "markdown",
   "metadata": {}
  },
  {
   "cell_type": "code",
   "execution_count": 5,
   "metadata": {},
   "outputs": [
    {
     "output_type": "stream",
     "name": "stdout",
     "text": [
      "Model: \"sequential_1\"\n_________________________________________________________________\nLayer (type)                 Output Shape              Param #   \n=================================================================\nconv2d_1 (Conv2D)            (None, 26, 26, 32)        320       \n_________________________________________________________________\nmax_pooling2d_1 (MaxPooling2 (None, 13, 13, 32)        0         \n_________________________________________________________________\nconv2d_2 (Conv2D)            (None, 11, 11, 32)        9248      \n_________________________________________________________________\nmax_pooling2d_2 (MaxPooling2 (None, 5, 5, 32)          0         \n_________________________________________________________________\nflatten_1 (Flatten)          (None, 800)               0         \n_________________________________________________________________\ndense_1 (Dense)              (None, 128)               102528    \n_________________________________________________________________\ndense_2 (Dense)              (None, 27)                3483      \n=================================================================\nTotal params: 115,579\nTrainable params: 115,579\nNon-trainable params: 0\n_________________________________________________________________\n"
     ]
    }
   ],
   "source": [
    "### Création d'un modèle séquentiel qui permet de définir l'architecture CNN couche par couche à l'aide de la fonction .add .Nous ajoutons d'abord une couche de convolution avec 32 filtres de taille 3X3 sur les images d'entrée et la passons à travers la fonction d'activation 'relu'.Nous effectuons ensuite des opérations MaxPooling en utilisant un pool de taille 2X2 ###\n",
    "model = Sequential()\n",
    "model.add(Conv2D(32, (3, 3), input_shape = (28,28,1), activation = \"relu\"))\n",
    "model.add(MaxPooling2D(pool_size = (2, 2)))\n",
    "\n",
    "### Ces couches sont ensuite répétées à nouveau pour améliorer les performances du modèle ###\n",
    "\n",
    "model.add(Conv2D(32, (3, 3), activation = \"relu\"))\n",
    "model.add(MaxPooling2D(pool_size = (2, 2)))\n",
    "\n",
    "### Enfin, nous aplatissons notre matrice résultante et la passons à travers une couche dense composée de 128 nœuds. Celui-ci est ensuite connecté à la couche de sortie constituée de 26 nœuds, chaque nœud représentant un alphabet ###\n",
    "\n",
    "model.add(Flatten())\n",
    "model.add(Dense(units = 128, activation = \"relu\"))\n",
    "model.add(Dense(units = 27, activation = \"softmax\"))            ### Activation softmax qui convertit les scores en une distribution de probabilité normalisée, et                                                                   le nœud avec la probabilité la plus élevée est sélectionné comme sortie ###\n",
    "\n",
    "### Une fois notre architecture CNN définie, nous compilons le modèle à l'aide de l'optimiseur Adam ###\n",
    "model.compile(optimizer = \"adam\", loss = \"categorical_crossentropy\", metrics = [\"accuracy\"])\n",
    "\n",
    "model.summary()"
   ]
  },
  {
   "source": [
    "## 4. Entrainement du modèle"
   ],
   "cell_type": "markdown",
   "metadata": {}
  },
  {
   "cell_type": "code",
   "execution_count": 6,
   "metadata": {},
   "outputs": [
    {
     "output_type": "stream",
     "name": "stdout",
     "text": [
      "Epoch 1/30\n",
      "32/32 [==============================] - 2s 51ms/step - loss: 3.1305 - accuracy: 0.1318 - val_loss: 2.7237 - val_accuracy: 0.3238\n",
      "Epoch 2/30\n",
      "32/32 [==============================] - 2s 50ms/step - loss: 2.2976 - accuracy: 0.3242 - val_loss: 1.7141 - val_accuracy: 0.4435\n",
      "Epoch 3/30\n",
      "32/32 [==============================] - 2s 48ms/step - loss: 1.7160 - accuracy: 0.4906 - val_loss: 1.5051 - val_accuracy: 0.4715\n",
      "Epoch 4/30\n",
      "32/32 [==============================] - 2s 47ms/step - loss: 1.3704 - accuracy: 0.5879 - val_loss: 1.6302 - val_accuracy: 0.6030\n",
      "Epoch 5/30\n",
      "32/32 [==============================] - 2s 50ms/step - loss: 1.2536 - accuracy: 0.6191 - val_loss: 1.0866 - val_accuracy: 0.5937\n",
      "Epoch 6/30\n",
      "32/32 [==============================] - 2s 51ms/step - loss: 1.0717 - accuracy: 0.6504 - val_loss: 0.7018 - val_accuracy: 0.6636\n",
      "Epoch 7/30\n",
      "32/32 [==============================] - 2s 47ms/step - loss: 1.0649 - accuracy: 0.6504 - val_loss: 0.8075 - val_accuracy: 0.6945\n",
      "Epoch 8/30\n",
      "32/32 [==============================] - 2s 50ms/step - loss: 0.9207 - accuracy: 0.7246 - val_loss: 0.9079 - val_accuracy: 0.7311\n",
      "Epoch 9/30\n",
      "32/32 [==============================] - 2s 48ms/step - loss: 0.8740 - accuracy: 0.7207 - val_loss: 1.2097 - val_accuracy: 0.7066\n",
      "Epoch 10/30\n",
      "32/32 [==============================] - 2s 47ms/step - loss: 0.7985 - accuracy: 0.7507 - val_loss: 0.7276 - val_accuracy: 0.7918\n",
      "Epoch 11/30\n",
      "32/32 [==============================] - 2s 54ms/step - loss: 0.7592 - accuracy: 0.7646 - val_loss: 0.7026 - val_accuracy: 0.8242\n",
      "Epoch 12/30\n",
      "32/32 [==============================] - 2s 47ms/step - loss: 0.6288 - accuracy: 0.7939 - val_loss: 0.3526 - val_accuracy: 0.8172\n",
      "Epoch 13/30\n",
      "32/32 [==============================] - 2s 47ms/step - loss: 0.6843 - accuracy: 0.7773 - val_loss: 0.6479 - val_accuracy: 0.8032\n",
      "Epoch 14/30\n",
      "32/32 [==============================] - 2s 50ms/step - loss: 0.6713 - accuracy: 0.7754 - val_loss: 0.8031 - val_accuracy: 0.8242\n",
      "Epoch 15/30\n",
      "32/32 [==============================] - 2s 48ms/step - loss: 0.6279 - accuracy: 0.8145 - val_loss: 0.1792 - val_accuracy: 0.8161\n",
      "Epoch 16/30\n",
      "32/32 [==============================] - 2s 50ms/step - loss: 0.5390 - accuracy: 0.8262 - val_loss: 0.7334 - val_accuracy: 0.8021\n",
      "Epoch 17/30\n",
      "32/32 [==============================] - 2s 50ms/step - loss: 0.5765 - accuracy: 0.8203 - val_loss: 0.4812 - val_accuracy: 0.8172\n",
      "Epoch 18/30\n",
      "32/32 [==============================] - 2s 48ms/step - loss: 0.5232 - accuracy: 0.8350 - val_loss: 0.2368 - val_accuracy: 0.8894\n",
      "Epoch 19/30\n",
      "32/32 [==============================] - 1s 47ms/step - loss: 0.5060 - accuracy: 0.8256 - val_loss: 0.4535 - val_accuracy: 0.8867\n",
      "Epoch 20/30\n",
      "32/32 [==============================] - 2s 50ms/step - loss: 0.5100 - accuracy: 0.8467 - val_loss: 0.3515 - val_accuracy: 0.8533\n",
      "Epoch 21/30\n",
      "32/32 [==============================] - 2s 48ms/step - loss: 0.4248 - accuracy: 0.8809 - val_loss: 0.4316 - val_accuracy: 0.7998\n",
      "Epoch 22/30\n",
      "32/32 [==============================] - 2s 47ms/step - loss: 0.4256 - accuracy: 0.8594 - val_loss: 0.3249 - val_accuracy: 0.8043\n",
      "Epoch 23/30\n",
      "32/32 [==============================] - 2s 50ms/step - loss: 0.4988 - accuracy: 0.8398 - val_loss: 0.5385 - val_accuracy: 0.8149\n",
      "Epoch 24/30\n",
      "32/32 [==============================] - 2s 48ms/step - loss: 0.4302 - accuracy: 0.8574 - val_loss: 0.5638 - val_accuracy: 0.8522\n",
      "Epoch 25/30\n",
      "32/32 [==============================] - 2s 47ms/step - loss: 0.4192 - accuracy: 0.8670 - val_loss: 0.4357 - val_accuracy: 0.8261\n",
      "Epoch 26/30\n",
      "32/32 [==============================] - 2s 50ms/step - loss: 0.3990 - accuracy: 0.8701 - val_loss: 0.4729 - val_accuracy: 0.8522\n",
      "Epoch 27/30\n",
      "32/32 [==============================] - 2s 48ms/step - loss: 0.3874 - accuracy: 0.8759 - val_loss: 0.2608 - val_accuracy: 0.8289\n",
      "Epoch 28/30\n",
      "32/32 [==============================] - 2s 51ms/step - loss: 0.3476 - accuracy: 0.8896 - val_loss: 0.3205 - val_accuracy: 0.9016\n",
      "Epoch 29/30\n",
      "32/32 [==============================] - 2s 50ms/step - loss: 0.4390 - accuracy: 0.8633 - val_loss: 0.2879 - val_accuracy: 0.8766\n",
      "Epoch 30/30\n",
      "32/32 [==============================] - 2s 48ms/step - loss: 0.3262 - accuracy: 0.8936 - val_loss: 0.2154 - val_accuracy: 0.8766\n",
      "Test de perte: 0.2032226026058197\n",
      "Test de précision: 0.8951411843299866\n"
     ]
    }
   ],
   "source": [
    "### Je décide de créer 30 répétitions, et j'ai X2 les steps_per_epoch pour augmenter notre précision ###\n",
    "\n",
    "entrainement = model.fit_generator(\n",
    "    train_generator,\n",
    "    steps_per_epoch = 32,\n",
    "    epochs = 30,\n",
    "    validation_data = test_generator,\n",
    "    validation_steps = 32\n",
    ")\n",
    "\n",
    "score = model.evaluate(train_generator, verbose=0)\n",
    "print(\"Test de perte:\", score[0])\n",
    "print(\"Test de précision:\", score[1])\n"
   ]
  },
  {
   "source": [
    "## 5. Enregistrement & chargement du modèle"
   ],
   "cell_type": "markdown",
   "metadata": {}
  },
  {
   "cell_type": "code",
   "execution_count": 7,
   "metadata": {},
   "outputs": [],
   "source": [
    "### Enregistrement du modèle ###\n",
    "\n",
    "pickle.dump(model, open(\"mon_model.h5\", \"wb\"))"
   ]
  },
  {
   "cell_type": "code",
   "execution_count": 8,
   "metadata": {},
   "outputs": [],
   "source": [
    "### Chargement du modèle ###\n",
    "\n",
    "model = pickle.load(open(\"mon_model.h5\",\"rb\"))"
   ]
  },
  {
   "source": [
    "## 6. Création d'une fonction qui renvois l'alphabet associé au résultat"
   ],
   "cell_type": "markdown",
   "metadata": {}
  },
  {
   "cell_type": "code",
   "execution_count": 9,
   "metadata": {},
   "outputs": [],
   "source": [
    "def get_result(result):\n",
    "    if result[0][0] == 1:\n",
    "        return(\"a\")\n",
    "    elif result[0][1] == 1:\n",
    "        return (\"b\")\n",
    "    elif result[0][2] == 1:\n",
    "        return (\"c\")\n",
    "    elif result[0][3] == 1:\n",
    "        return (\"d\")\n",
    "    elif result[0][4] == 1:\n",
    "        return (\"e\")\n",
    "    elif result[0][5] == 1:\n",
    "        return (\"f\")\n",
    "    elif result[0][6] == 1:\n",
    "        return (\"g\")\n",
    "    elif result[0][7] == 1:\n",
    "        return (\"h\")\n",
    "    elif result[0][8] == 1:\n",
    "        return (\"i\")\n",
    "    elif result[0][9] == 1:\n",
    "        return (\"j\")\n",
    "    elif result[0][10] == 1:\n",
    "        return (\"k\")\n",
    "    elif result[0][11] == 1:\n",
    "        return (\"l\")\n",
    "    elif result[0][12] == 1:\n",
    "        return (\"m\")\n",
    "    elif result[0][13] == 1:\n",
    "        return (\"n\")\n",
    "    elif result[0][14] == 1:\n",
    "        return (\"o\")\n",
    "    elif result[0][15] == 1:\n",
    "        return (\"p\")\n",
    "    elif result[0][16] == 1:\n",
    "        return (\"q\")\n",
    "    elif result[0][17] == 1:\n",
    "        return (\"r\")\n",
    "    elif result[0][18] == 1:\n",
    "        return (\"s\")\n",
    "    elif result[0][19] == 1:\n",
    "        return (\"t\")\n",
    "    elif result[0][20] == 1:\n",
    "        return (\"u\")\n",
    "    elif result[0][21] == 1:\n",
    "        return (\"v\")\n",
    "    elif result[0][22] == 1:\n",
    "        return (\"w\")\n",
    "    elif result[0][23] == 1:\n",
    "        return (\"x\")\n",
    "    elif result[0][24] == 1:\n",
    "        return (\"y\")\n",
    "    elif result[0][25] == 1:\n",
    "        return (\"z\")\n",
    "    elif result[0][26] == 1:                # Création du symbole <3\n",
    "        return (\"<3\")"
   ]
  },
  {
   "source": [
    "## 7. Choix de l'image à envoyer & Test du modèle"
   ],
   "cell_type": "markdown",
   "metadata": {}
  },
  {
   "cell_type": "code",
   "execution_count": 10,
   "metadata": {},
   "outputs": [
    {
     "output_type": "stream",
     "name": "stdout",
     "text": [
      "La lettre correspondante est: <3\n"
     ]
    },
    {
     "output_type": "display_data",
     "data": {
      "text/plain": "<Figure size 432x288 with 1 Axes>",
      "image/svg+xml": "<?xml version=\"1.0\" encoding=\"utf-8\" standalone=\"no\"?>\r\n<!DOCTYPE svg PUBLIC \"-//W3C//DTD SVG 1.1//EN\"\r\n  \"http://www.w3.org/Graphics/SVG/1.1/DTD/svg11.dtd\">\r\n<!-- Created with matplotlib (https://matplotlib.org/) -->\r\n<svg height=\"248.518125pt\" version=\"1.1\" viewBox=\"0 0 251.565 248.518125\" width=\"251.565pt\" xmlns=\"http://www.w3.org/2000/svg\" xmlns:xlink=\"http://www.w3.org/1999/xlink\">\r\n <metadata>\r\n  <rdf:RDF xmlns:cc=\"http://creativecommons.org/ns#\" xmlns:dc=\"http://purl.org/dc/elements/1.1/\" xmlns:rdf=\"http://www.w3.org/1999/02/22-rdf-syntax-ns#\">\r\n   <cc:Work>\r\n    <dc:type rdf:resource=\"http://purl.org/dc/dcmitype/StillImage\"/>\r\n    <dc:date>2020-11-17T14:25:48.785349</dc:date>\r\n    <dc:format>image/svg+xml</dc:format>\r\n    <dc:creator>\r\n     <cc:Agent>\r\n      <dc:title>Matplotlib v3.3.2, https://matplotlib.org/</dc:title>\r\n     </cc:Agent>\r\n    </dc:creator>\r\n   </cc:Work>\r\n  </rdf:RDF>\r\n </metadata>\r\n <defs>\r\n  <style type=\"text/css\">*{stroke-linecap:butt;stroke-linejoin:round;}</style>\r\n </defs>\r\n <g id=\"figure_1\">\r\n  <g id=\"patch_1\">\r\n   <path d=\"M 0 248.518125 \r\nL 251.565 248.518125 \r\nL 251.565 0 \r\nL 0 0 \r\nz\r\n\" style=\"fill:none;\"/>\r\n  </g>\r\n  <g id=\"axes_1\">\r\n   <g id=\"patch_2\">\r\n    <path d=\"M 26.925 224.64 \r\nL 244.365 224.64 \r\nL 244.365 7.2 \r\nL 26.925 7.2 \r\nz\r\n\" style=\"fill:#ffffff;\"/>\r\n   </g>\r\n   <g clip-path=\"url(#p01f9611e0b)\">\r\n    <image height=\"218\" id=\"image8a08945b89\" transform=\"scale(1 -1)translate(0 -218)\" width=\"218\" x=\"26.925\" xlink:href=\"data:image/png;base64,\r\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\" y=\"-6.64\"/>\r\n   </g>\r\n   <g id=\"matplotlib.axis_1\">\r\n    <g id=\"xtick_1\">\r\n     <g id=\"line2d_1\">\r\n      <defs>\r\n       <path d=\"M 0 0 \r\nL 0 3.5 \r\n\" id=\"m42a506ba58\" style=\"stroke:#000000;stroke-width:0.8;\"/>\r\n      </defs>\r\n      <g>\r\n       <use style=\"stroke:#000000;stroke-width:0.8;\" x=\"30.807857\" xlink:href=\"#m42a506ba58\" y=\"224.64\"/>\r\n      </g>\r\n     </g>\r\n     <g id=\"text_1\">\r\n      <!-- 0 -->\r\n      <g transform=\"translate(27.626607 239.238437)scale(0.1 -0.1)\">\r\n       <defs>\r\n        <path d=\"M 31.78125 66.40625 \r\nQ 24.171875 66.40625 20.328125 58.90625 \r\nQ 16.5 51.421875 16.5 36.375 \r\nQ 16.5 21.390625 20.328125 13.890625 \r\nQ 24.171875 6.390625 31.78125 6.390625 \r\nQ 39.453125 6.390625 43.28125 13.890625 \r\nQ 47.125 21.390625 47.125 36.375 \r\nQ 47.125 51.421875 43.28125 58.90625 \r\nQ 39.453125 66.40625 31.78125 66.40625 \r\nz\r\nM 31.78125 74.21875 \r\nQ 44.046875 74.21875 50.515625 64.515625 \r\nQ 56.984375 54.828125 56.984375 36.375 \r\nQ 56.984375 17.96875 50.515625 8.265625 \r\nQ 44.046875 -1.421875 31.78125 -1.421875 \r\nQ 19.53125 -1.421875 13.0625 8.265625 \r\nQ 6.59375 17.96875 6.59375 36.375 \r\nQ 6.59375 54.828125 13.0625 64.515625 \r\nQ 19.53125 74.21875 31.78125 74.21875 \r\nz\r\n\" id=\"DejaVuSans-48\"/>\r\n       </defs>\r\n       <use xlink:href=\"#DejaVuSans-48\"/>\r\n      </g>\r\n     </g>\r\n    </g>\r\n    <g id=\"xtick_2\">\r\n     <g id=\"line2d_2\">\r\n      <g>\r\n       <use style=\"stroke:#000000;stroke-width:0.8;\" x=\"69.636429\" xlink:href=\"#m42a506ba58\" y=\"224.64\"/>\r\n      </g>\r\n     </g>\r\n     <g id=\"text_2\">\r\n      <!-- 5 -->\r\n      <g transform=\"translate(66.455179 239.238437)scale(0.1 -0.1)\">\r\n       <defs>\r\n        <path d=\"M 10.796875 72.90625 \r\nL 49.515625 72.90625 \r\nL 49.515625 64.59375 \r\nL 19.828125 64.59375 \r\nL 19.828125 46.734375 \r\nQ 21.96875 47.46875 24.109375 47.828125 \r\nQ 26.265625 48.1875 28.421875 48.1875 \r\nQ 40.625 48.1875 47.75 41.5 \r\nQ 54.890625 34.8125 54.890625 23.390625 \r\nQ 54.890625 11.625 47.5625 5.09375 \r\nQ 40.234375 -1.421875 26.90625 -1.421875 \r\nQ 22.3125 -1.421875 17.546875 -0.640625 \r\nQ 12.796875 0.140625 7.71875 1.703125 \r\nL 7.71875 11.625 \r\nQ 12.109375 9.234375 16.796875 8.0625 \r\nQ 21.484375 6.890625 26.703125 6.890625 \r\nQ 35.15625 6.890625 40.078125 11.328125 \r\nQ 45.015625 15.765625 45.015625 23.390625 \r\nQ 45.015625 31 40.078125 35.4375 \r\nQ 35.15625 39.890625 26.703125 39.890625 \r\nQ 22.75 39.890625 18.8125 39.015625 \r\nQ 14.890625 38.140625 10.796875 36.28125 \r\nz\r\n\" id=\"DejaVuSans-53\"/>\r\n       </defs>\r\n       <use xlink:href=\"#DejaVuSans-53\"/>\r\n      </g>\r\n     </g>\r\n    </g>\r\n    <g id=\"xtick_3\">\r\n     <g id=\"line2d_3\">\r\n      <g>\r\n       <use style=\"stroke:#000000;stroke-width:0.8;\" x=\"108.465\" xlink:href=\"#m42a506ba58\" y=\"224.64\"/>\r\n      </g>\r\n     </g>\r\n     <g id=\"text_3\">\r\n      <!-- 10 -->\r\n      <g transform=\"translate(102.1025 239.238437)scale(0.1 -0.1)\">\r\n       <defs>\r\n        <path d=\"M 12.40625 8.296875 \r\nL 28.515625 8.296875 \r\nL 28.515625 63.921875 \r\nL 10.984375 60.40625 \r\nL 10.984375 69.390625 \r\nL 28.421875 72.90625 \r\nL 38.28125 72.90625 \r\nL 38.28125 8.296875 \r\nL 54.390625 8.296875 \r\nL 54.390625 0 \r\nL 12.40625 0 \r\nz\r\n\" id=\"DejaVuSans-49\"/>\r\n       </defs>\r\n       <use xlink:href=\"#DejaVuSans-49\"/>\r\n       <use x=\"63.623047\" xlink:href=\"#DejaVuSans-48\"/>\r\n      </g>\r\n     </g>\r\n    </g>\r\n    <g id=\"xtick_4\">\r\n     <g id=\"line2d_4\">\r\n      <g>\r\n       <use style=\"stroke:#000000;stroke-width:0.8;\" x=\"147.293571\" xlink:href=\"#m42a506ba58\" y=\"224.64\"/>\r\n      </g>\r\n     </g>\r\n     <g id=\"text_4\">\r\n      <!-- 15 -->\r\n      <g transform=\"translate(140.931071 239.238437)scale(0.1 -0.1)\">\r\n       <use xlink:href=\"#DejaVuSans-49\"/>\r\n       <use x=\"63.623047\" xlink:href=\"#DejaVuSans-53\"/>\r\n      </g>\r\n     </g>\r\n    </g>\r\n    <g id=\"xtick_5\">\r\n     <g id=\"line2d_5\">\r\n      <g>\r\n       <use style=\"stroke:#000000;stroke-width:0.8;\" x=\"186.122143\" xlink:href=\"#m42a506ba58\" y=\"224.64\"/>\r\n      </g>\r\n     </g>\r\n     <g id=\"text_5\">\r\n      <!-- 20 -->\r\n      <g transform=\"translate(179.759643 239.238437)scale(0.1 -0.1)\">\r\n       <defs>\r\n        <path d=\"M 19.1875 8.296875 \r\nL 53.609375 8.296875 \r\nL 53.609375 0 \r\nL 7.328125 0 \r\nL 7.328125 8.296875 \r\nQ 12.9375 14.109375 22.625 23.890625 \r\nQ 32.328125 33.6875 34.8125 36.53125 \r\nQ 39.546875 41.84375 41.421875 45.53125 \r\nQ 43.3125 49.21875 43.3125 52.78125 \r\nQ 43.3125 58.59375 39.234375 62.25 \r\nQ 35.15625 65.921875 28.609375 65.921875 \r\nQ 23.96875 65.921875 18.8125 64.3125 \r\nQ 13.671875 62.703125 7.8125 59.421875 \r\nL 7.8125 69.390625 \r\nQ 13.765625 71.78125 18.9375 73 \r\nQ 24.125 74.21875 28.421875 74.21875 \r\nQ 39.75 74.21875 46.484375 68.546875 \r\nQ 53.21875 62.890625 53.21875 53.421875 \r\nQ 53.21875 48.921875 51.53125 44.890625 \r\nQ 49.859375 40.875 45.40625 35.40625 \r\nQ 44.1875 33.984375 37.640625 27.21875 \r\nQ 31.109375 20.453125 19.1875 8.296875 \r\nz\r\n\" id=\"DejaVuSans-50\"/>\r\n       </defs>\r\n       <use xlink:href=\"#DejaVuSans-50\"/>\r\n       <use x=\"63.623047\" xlink:href=\"#DejaVuSans-48\"/>\r\n      </g>\r\n     </g>\r\n    </g>\r\n    <g id=\"xtick_6\">\r\n     <g id=\"line2d_6\">\r\n      <g>\r\n       <use style=\"stroke:#000000;stroke-width:0.8;\" x=\"224.950714\" xlink:href=\"#m42a506ba58\" y=\"224.64\"/>\r\n      </g>\r\n     </g>\r\n     <g id=\"text_6\">\r\n      <!-- 25 -->\r\n      <g transform=\"translate(218.588214 239.238437)scale(0.1 -0.1)\">\r\n       <use xlink:href=\"#DejaVuSans-50\"/>\r\n       <use x=\"63.623047\" xlink:href=\"#DejaVuSans-53\"/>\r\n      </g>\r\n     </g>\r\n    </g>\r\n   </g>\r\n   <g id=\"matplotlib.axis_2\">\r\n    <g id=\"ytick_1\">\r\n     <g id=\"line2d_7\">\r\n      <defs>\r\n       <path d=\"M 0 0 \r\nL -3.5 0 \r\n\" id=\"m81ce552719\" style=\"stroke:#000000;stroke-width:0.8;\"/>\r\n      </defs>\r\n      <g>\r\n       <use style=\"stroke:#000000;stroke-width:0.8;\" x=\"26.925\" xlink:href=\"#m81ce552719\" y=\"11.082857\"/>\r\n      </g>\r\n     </g>\r\n     <g id=\"text_7\">\r\n      <!-- 0 -->\r\n      <g transform=\"translate(13.5625 14.882076)scale(0.1 -0.1)\">\r\n       <use xlink:href=\"#DejaVuSans-48\"/>\r\n      </g>\r\n     </g>\r\n    </g>\r\n    <g id=\"ytick_2\">\r\n     <g id=\"line2d_8\">\r\n      <g>\r\n       <use style=\"stroke:#000000;stroke-width:0.8;\" x=\"26.925\" xlink:href=\"#m81ce552719\" y=\"49.911429\"/>\r\n      </g>\r\n     </g>\r\n     <g id=\"text_8\">\r\n      <!-- 5 -->\r\n      <g transform=\"translate(13.5625 53.710647)scale(0.1 -0.1)\">\r\n       <use xlink:href=\"#DejaVuSans-53\"/>\r\n      </g>\r\n     </g>\r\n    </g>\r\n    <g id=\"ytick_3\">\r\n     <g id=\"line2d_9\">\r\n      <g>\r\n       <use style=\"stroke:#000000;stroke-width:0.8;\" x=\"26.925\" xlink:href=\"#m81ce552719\" y=\"88.74\"/>\r\n      </g>\r\n     </g>\r\n     <g id=\"text_9\">\r\n      <!-- 10 -->\r\n      <g transform=\"translate(7.2 92.539219)scale(0.1 -0.1)\">\r\n       <use xlink:href=\"#DejaVuSans-49\"/>\r\n       <use x=\"63.623047\" xlink:href=\"#DejaVuSans-48\"/>\r\n      </g>\r\n     </g>\r\n    </g>\r\n    <g id=\"ytick_4\">\r\n     <g id=\"line2d_10\">\r\n      <g>\r\n       <use style=\"stroke:#000000;stroke-width:0.8;\" x=\"26.925\" xlink:href=\"#m81ce552719\" y=\"127.568571\"/>\r\n      </g>\r\n     </g>\r\n     <g id=\"text_10\">\r\n      <!-- 15 -->\r\n      <g transform=\"translate(7.2 131.36779)scale(0.1 -0.1)\">\r\n       <use xlink:href=\"#DejaVuSans-49\"/>\r\n       <use x=\"63.623047\" xlink:href=\"#DejaVuSans-53\"/>\r\n      </g>\r\n     </g>\r\n    </g>\r\n    <g id=\"ytick_5\">\r\n     <g id=\"line2d_11\">\r\n      <g>\r\n       <use style=\"stroke:#000000;stroke-width:0.8;\" x=\"26.925\" xlink:href=\"#m81ce552719\" y=\"166.397143\"/>\r\n      </g>\r\n     </g>\r\n     <g id=\"text_11\">\r\n      <!-- 20 -->\r\n      <g transform=\"translate(7.2 170.196362)scale(0.1 -0.1)\">\r\n       <use xlink:href=\"#DejaVuSans-50\"/>\r\n       <use x=\"63.623047\" xlink:href=\"#DejaVuSans-48\"/>\r\n      </g>\r\n     </g>\r\n    </g>\r\n    <g id=\"ytick_6\">\r\n     <g id=\"line2d_12\">\r\n      <g>\r\n       <use style=\"stroke:#000000;stroke-width:0.8;\" x=\"26.925\" xlink:href=\"#m81ce552719\" y=\"205.225714\"/>\r\n      </g>\r\n     </g>\r\n     <g id=\"text_12\">\r\n      <!-- 25 -->\r\n      <g transform=\"translate(7.2 209.024933)scale(0.1 -0.1)\">\r\n       <use xlink:href=\"#DejaVuSans-50\"/>\r\n       <use x=\"63.623047\" xlink:href=\"#DejaVuSans-53\"/>\r\n      </g>\r\n     </g>\r\n    </g>\r\n   </g>\r\n   <g id=\"patch_3\">\r\n    <path d=\"M 26.925 224.64 \r\nL 26.925 7.2 \r\n\" style=\"fill:none;stroke:#000000;stroke-linecap:square;stroke-linejoin:miter;stroke-width:0.8;\"/>\r\n   </g>\r\n   <g id=\"patch_4\">\r\n    <path d=\"M 244.365 224.64 \r\nL 244.365 7.2 \r\n\" style=\"fill:none;stroke:#000000;stroke-linecap:square;stroke-linejoin:miter;stroke-width:0.8;\"/>\r\n   </g>\r\n   <g id=\"patch_5\">\r\n    <path d=\"M 26.925 224.64 \r\nL 244.365 224.64 \r\n\" style=\"fill:none;stroke:#000000;stroke-linecap:square;stroke-linejoin:miter;stroke-width:0.8;\"/>\r\n   </g>\r\n   <g id=\"patch_6\">\r\n    <path d=\"M 26.925 7.2 \r\nL 244.365 7.2 \r\n\" style=\"fill:none;stroke:#000000;stroke-linecap:square;stroke-linejoin:miter;stroke-width:0.8;\"/>\r\n   </g>\r\n  </g>\r\n </g>\r\n <defs>\r\n  <clipPath id=\"p01f9611e0b\">\r\n   <rect height=\"217.44\" width=\"217.44\" x=\"26.925\" y=\"7.2\"/>\r\n  </clipPath>\r\n </defs>\r\n</svg>\r\n",
      "image/png": "[encoded data removed]"
     },
     "metadata": {
      "needs_background": "light"
     }
    }
   ],
   "source": [
    "choix = r\"assets\\COEUR-thomas.png\"\n",
    "test_image = image.load_img(choix, target_size = (28,28), grayscale = True)\n",
    "plt.imshow(test_image)\n",
    "test_image = image.img_to_array(test_image)\n",
    "test_image = np.expand_dims(test_image, axis = 0)\n",
    "### TEST du <3 ###\n",
    "resultat = model.predict(test_image)\n",
    "resultat = get_result(resultat)\n",
    "print(f\"La lettre correspondante est: {resultat}\")\n"
   ]
  },
  {
   "source": [
    "## ZONE DE TEST"
   ],
   "cell_type": "markdown",
   "metadata": {}
  },
  {
   "cell_type": "code",
   "execution_count": 11,
   "metadata": {},
   "outputs": [],
   "source": [
    "imagePath = 'assets\\imagedentrainement.jpeg'"
   ]
  },
  {
   "cell_type": "code",
   "execution_count": 12,
   "metadata": {},
   "outputs": [],
   "source": [
    "### Je charge mon image d'entrée à partir de la variable \"imagePath\" puis je la convertie en niveau de gris ###\n",
    "\n",
    "image = cv2.imread(imagePath)\n",
    "gray = cv2.cvtColor(image, cv2.COLOR_BGR2GRAY)\n",
    "\n",
    "blurred = cv2.medianBlur(gray,5)"
   ]
  },
  {
   "cell_type": "code",
   "execution_count": 13,
   "metadata": {},
   "outputs": [],
   "source": [
    "### Détection des contours ###\n",
    "\n",
    "blurred = cv2.threshold(blurred, 0, 255, cv2.THRESH_BINARY + cv2.THRESH_OTSU)[1]\n",
    "\n",
    "edged = cv2.Canny(blurred, 170, 255)\n",
    "cnts = cv2.findContours(edged.copy(), cv2.RETR_EXTERNAL, cv2.CHAIN_APPROX_SIMPLE)\n",
    "cnts = imutils.grab_contours(cnts)\n",
    "cnts = sort_contours(cnts, method=\"left-to-right\")[0]\n",
    "\n",
    "### Initialisation de la liste des contours ###\n",
    "\n",
    "chars = []"
   ]
  },
  {
   "cell_type": "code",
   "execution_count": 14,
   "metadata": {},
   "outputs": [],
   "source": [
    "### Boucle sur les différents contours ###\n",
    "for c in cnts:\n",
    "    ### Calculer la boîte englobante du contour ###\n",
    "    (x, y, w, h) = cv2.boundingRect(c)\n",
    "    ### Je filtre les boîtes englobantes, en m'assurant qu'elles ne sont ni trop petites ni trop grandes ###\n",
    "    if (w >= 5 and w <= 150) and (h >= 15 and h <= 120):\n",
    "        ### On extrait le caractère pour faire en sorte qu'il apparaisse comme blanc sur fond noir, puis on saisie la largeur et la hauteur de l'image seuillée ###\n",
    "        roi = gray[y:y + h, x:x + w]\n",
    "        thresh = cv2.threshold(roi, 0, 255,\n",
    "                               cv2.THRESH_BINARY_INV | cv2.THRESH_OTSU)[1]\n",
    "        (tH, tW) = thresh.shape\n",
    "        ### Si la largeur est supérieure à la hauteur, on redimensionne la dimension de la largeur ###\n",
    "        if tW > tH:\n",
    "            thresh = imutils.resize(thresh, width=28)\n",
    "        ### Sinon on redimensionne la longueur de la hauteur ###\n",
    "        else:\n",
    "            thresh = imutils.resize(thresh, height=28)\n",
    "\n",
    "        ### On force les dimensions en 28 * 28 ###\n",
    "        padded = cv2.copyMakeBorder(thresh, top=4, bottom=4,\n",
    "                                    left=4, right=4, borderType=cv2.BORDER_CONSTANT,\n",
    "                                    value=(0, 0, 0))\n",
    "        \n",
    "        padded = cv2.resize(padded, (28, 28))\n",
    "        padded = padded.astype(\"float32\") / 255.0\n",
    "        padded = np.expand_dims(padded, axis=-1)\n",
    "        ### Mise à jour notre liste de caractères qui seront OCR ###\n",
    "        chars.append((padded, (x, y, w, h)))"
   ]
  },
  {
   "cell_type": "code",
   "execution_count": 15,
   "metadata": {},
   "outputs": [],
   "source": [
    "### Extraction des emplacements de la boîte englobante et des caractères remplis ###\n",
    "boxes = [b[1] for b in chars]\n",
    "chars = np.array([c[0] for c in chars], dtype=\"float32\")\n",
    "\n",
    "\n",
    "### OCR les caractères à l'aide de notre modèle de reconnaissance de l'écriture manuscrite ###\n",
    "\n",
    "preds = model.predict(chars)\n"
   ]
  },
  {
   "cell_type": "code",
   "execution_count": 16,
   "metadata": {},
   "outputs": [],
   "source": [
    "### On définie la liste des noms des \"étiquettes\" (ABCDEFG...)\n",
    "labelNames = \"ABCDEFGHIJKLMNOPQRSTUVWXYZ\"\n",
    "labelNames = [l for l in labelNames]"
   ]
  },
  {
   "cell_type": "code",
   "execution_count": 17,
   "metadata": {},
   "outputs": [
    {
     "output_type": "stream",
     "name": "stdout",
     "text": [
      "[INFO] F - 99.99%\n[INFO] O - 62.90%\n[INFO] R - 92.96%\n[INFO] M - 98.03%\n[INFO] H - 68.50%\n[INFO] T - 98.76%\n[INFO] S - 46.10%\n[INFO] O - 63.67%\n[INFO] N - 95.84%\n[INFO] D - 43.43%\n[INFO] H - 35.56%\n[INFO] T - 98.97%\n[INFO] A - 73.60%\n[INFO] X - 35.56%\n[INFO] A - 95.69%\n"
     ]
    }
   ],
   "source": [
    "### Boucle sur les prédictions et les emplacements de la boîte englobante ensemble ###\n",
    "for (pred, (x, y, w, h)) in zip(preds, boxes):\n",
    "    ### trouver l'index de l'étiquette avec le plus grand correspondant probabilité, puis extrayez la probabilité et l'étiquette ###\n",
    "    i = np.argmax(pred)\n",
    "    prob = pred[i]\n",
    "    label = labelNames[i]\n",
    "    # Dessin de la prediction sur l'image ###\n",
    "    print(\"[INFO] {} - {:.2f}%\".format(label, prob * 100))\n",
    "    cv2.rectangle(image, (x, y), (x + w, y + h), (0, 255, 0), 2)\n",
    "    cv2.putText(image, label, (x - 10, y - 10), cv2.FONT_HERSHEY_SIMPLEX, 1.2, (0, 255, 0), 2)"
   ]
  },
  {
   "cell_type": "code",
   "execution_count": 18,
   "metadata": {},
   "outputs": [
    {
     "output_type": "execute_result",
     "data": {
      "text/plain": [
       "<matplotlib.image.AxesImage at 0x1d36346dc48>"
      ]
     },
     "metadata": {},
     "execution_count": 18
    },
    {
     "output_type": "display_data",
     "data": {
      "text/plain": "<Figure size 432x288 with 1 Axes>",
      "image/svg+xml": "<?xml version=\"1.0\" encoding=\"utf-8\" standalone=\"no\"?>\r\n<!DOCTYPE svg PUBLIC \"-//W3C//DTD SVG 1.1//EN\"\r\n  \"http://www.w3.org/Graphics/SVG/1.1/DTD/svg11.dtd\">\r\n<!-- Created with matplotlib (https://matplotlib.org/) -->\r\n<svg height=\"166.549019pt\" version=\"1.1\" viewBox=\"0 0 375.2875 166.549019\" width=\"375.2875pt\" xmlns=\"http://www.w3.org/2000/svg\" xmlns:xlink=\"http://www.w3.org/1999/xlink\">\r\n <metadata>\r\n  <rdf:RDF xmlns:cc=\"http://creativecommons.org/ns#\" xmlns:dc=\"http://purl.org/dc/elements/1.1/\" xmlns:rdf=\"http://www.w3.org/1999/02/22-rdf-syntax-ns#\">\r\n   <cc:Work>\r\n    <dc:type rdf:resource=\"http://purl.org/dc/dcmitype/StillImage\"/>\r\n    <dc:date>2020-11-17T14:25:49.120452</dc:date>\r\n    <dc:format>image/svg+xml</dc:format>\r\n    <dc:creator>\r\n     <cc:Agent>\r\n      <dc:title>Matplotlib v3.3.2, https://matplotlib.org/</dc:title>\r\n     </cc:Agent>\r\n    </dc:creator>\r\n   </cc:Work>\r\n  </rdf:RDF>\r\n </metadata>\r\n <defs>\r\n  <style type=\"text/css\">*{stroke-linecap:butt;stroke-linejoin:round;}</style>\r\n </defs>\r\n <g id=\"figure_1\">\r\n  <g id=\"patch_1\">\r\n   <path d=\"M 0 166.549019 \r\nL 375.2875 166.549019 \r\nL 375.2875 0 \r\nL 0 0 \r\nz\r\n\" style=\"fill:none;\"/>\r\n  </g>\r\n  <g id=\"axes_1\">\r\n   <g id=\"patch_2\">\r\n    <path d=\"M 33.2875 142.670894 \r\nL 368.0875 142.670894 \r\nL 368.0875 10.887916 \r\nL 33.2875 10.887916 \r\nz\r\n\" style=\"fill:#ffffff;\"/>\r\n   </g>\r\n   <g clip-path=\"url(#p56c08effbc)\">\r\n    <image height=\"132\" id=\"imagee51e1cf435\" transform=\"scale(1 -1)translate(0 -132)\" width=\"335\" x=\"33.2875\" xlink:href=\"data:image/png;base64,\r\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\" y=\"-10.670894\"/>\r\n   </g>\r\n   <g id=\"matplotlib.axis_1\">\r\n    <g id=\"xtick_1\">\r\n     <g id=\"line2d_1\">\r\n      <defs>\r\n       <path d=\"M 0 0 \r\nL 0 3.5 \r\n\" id=\"m1600b5950c\" style=\"stroke:#000000;stroke-width:0.8;\"/>\r\n      </defs>\r\n      <g>\r\n       <use style=\"stroke:#000000;stroke-width:0.8;\" x=\"33.398803\" xlink:href=\"#m1600b5950c\" y=\"142.670894\"/>\r\n      </g>\r\n     </g>\r\n     <g id=\"text_1\">\r\n      <!-- 0 -->\r\n      <g transform=\"translate(30.217553 157.269332)scale(0.1 -0.1)\">\r\n       <defs>\r\n        <path d=\"M 31.78125 66.40625 \r\nQ 24.171875 66.40625 20.328125 58.90625 \r\nQ 16.5 51.421875 16.5 36.375 \r\nQ 16.5 21.390625 20.328125 13.890625 \r\nQ 24.171875 6.390625 31.78125 6.390625 \r\nQ 39.453125 6.390625 43.28125 13.890625 \r\nQ 47.125 21.390625 47.125 36.375 \r\nQ 47.125 51.421875 43.28125 58.90625 \r\nQ 39.453125 66.40625 31.78125 66.40625 \r\nz\r\nM 31.78125 74.21875 \r\nQ 44.046875 74.21875 50.515625 64.515625 \r\nQ 56.984375 54.828125 56.984375 36.375 \r\nQ 56.984375 17.96875 50.515625 8.265625 \r\nQ 44.046875 -1.421875 31.78125 -1.421875 \r\nQ 19.53125 -1.421875 13.0625 8.265625 \r\nQ 6.59375 17.96875 6.59375 36.375 \r\nQ 6.59375 54.828125 13.0625 64.515625 \r\nQ 19.53125 74.21875 31.78125 74.21875 \r\nz\r\n\" id=\"DejaVuSans-48\"/>\r\n       </defs>\r\n       <use xlink:href=\"#DejaVuSans-48\"/>\r\n      </g>\r\n     </g>\r\n    </g>\r\n    <g id=\"xtick_2\">\r\n     <g id=\"line2d_2\">\r\n      <g>\r\n       <use style=\"stroke:#000000;stroke-width:0.8;\" x=\"77.92008\" xlink:href=\"#m1600b5950c\" y=\"142.670894\"/>\r\n      </g>\r\n     </g>\r\n     <g id=\"text_2\">\r\n      <!-- 200 -->\r\n      <g transform=\"translate(68.37633 157.269332)scale(0.1 -0.1)\">\r\n       <defs>\r\n        <path d=\"M 19.1875 8.296875 \r\nL 53.609375 8.296875 \r\nL 53.609375 0 \r\nL 7.328125 0 \r\nL 7.328125 8.296875 \r\nQ 12.9375 14.109375 22.625 23.890625 \r\nQ 32.328125 33.6875 34.8125 36.53125 \r\nQ 39.546875 41.84375 41.421875 45.53125 \r\nQ 43.3125 49.21875 43.3125 52.78125 \r\nQ 43.3125 58.59375 39.234375 62.25 \r\nQ 35.15625 65.921875 28.609375 65.921875 \r\nQ 23.96875 65.921875 18.8125 64.3125 \r\nQ 13.671875 62.703125 7.8125 59.421875 \r\nL 7.8125 69.390625 \r\nQ 13.765625 71.78125 18.9375 73 \r\nQ 24.125 74.21875 28.421875 74.21875 \r\nQ 39.75 74.21875 46.484375 68.546875 \r\nQ 53.21875 62.890625 53.21875 53.421875 \r\nQ 53.21875 48.921875 51.53125 44.890625 \r\nQ 49.859375 40.875 45.40625 35.40625 \r\nQ 44.1875 33.984375 37.640625 27.21875 \r\nQ 31.109375 20.453125 19.1875 8.296875 \r\nz\r\n\" id=\"DejaVuSans-50\"/>\r\n       </defs>\r\n       <use xlink:href=\"#DejaVuSans-50\"/>\r\n       <use x=\"63.623047\" xlink:href=\"#DejaVuSans-48\"/>\r\n       <use x=\"127.246094\" xlink:href=\"#DejaVuSans-48\"/>\r\n      </g>\r\n     </g>\r\n    </g>\r\n    <g id=\"xtick_3\">\r\n     <g id=\"line2d_3\">\r\n      <g>\r\n       <use style=\"stroke:#000000;stroke-width:0.8;\" x=\"122.441356\" xlink:href=\"#m1600b5950c\" y=\"142.670894\"/>\r\n      </g>\r\n     </g>\r\n     <g id=\"text_3\">\r\n      <!-- 400 -->\r\n      <g transform=\"translate(112.897606 157.269332)scale(0.1 -0.1)\">\r\n       <defs>\r\n        <path d=\"M 37.796875 64.3125 \r\nL 12.890625 25.390625 \r\nL 37.796875 25.390625 \r\nz\r\nM 35.203125 72.90625 \r\nL 47.609375 72.90625 \r\nL 47.609375 25.390625 \r\nL 58.015625 25.390625 \r\nL 58.015625 17.1875 \r\nL 47.609375 17.1875 \r\nL 47.609375 0 \r\nL 37.796875 0 \r\nL 37.796875 17.1875 \r\nL 4.890625 17.1875 \r\nL 4.890625 26.703125 \r\nz\r\n\" id=\"DejaVuSans-52\"/>\r\n       </defs>\r\n       <use xlink:href=\"#DejaVuSans-52\"/>\r\n       <use x=\"63.623047\" xlink:href=\"#DejaVuSans-48\"/>\r\n       <use x=\"127.246094\" xlink:href=\"#DejaVuSans-48\"/>\r\n      </g>\r\n     </g>\r\n    </g>\r\n    <g id=\"xtick_4\">\r\n     <g id=\"line2d_4\">\r\n      <g>\r\n       <use style=\"stroke:#000000;stroke-width:0.8;\" x=\"166.962633\" xlink:href=\"#m1600b5950c\" y=\"142.670894\"/>\r\n      </g>\r\n     </g>\r\n     <g id=\"text_4\">\r\n      <!-- 600 -->\r\n      <g transform=\"translate(157.418883 157.269332)scale(0.1 -0.1)\">\r\n       <defs>\r\n        <path d=\"M 33.015625 40.375 \r\nQ 26.375 40.375 22.484375 35.828125 \r\nQ 18.609375 31.296875 18.609375 23.390625 \r\nQ 18.609375 15.53125 22.484375 10.953125 \r\nQ 26.375 6.390625 33.015625 6.390625 \r\nQ 39.65625 6.390625 43.53125 10.953125 \r\nQ 47.40625 15.53125 47.40625 23.390625 \r\nQ 47.40625 31.296875 43.53125 35.828125 \r\nQ 39.65625 40.375 33.015625 40.375 \r\nz\r\nM 52.59375 71.296875 \r\nL 52.59375 62.3125 \r\nQ 48.875 64.0625 45.09375 64.984375 \r\nQ 41.3125 65.921875 37.59375 65.921875 \r\nQ 27.828125 65.921875 22.671875 59.328125 \r\nQ 17.53125 52.734375 16.796875 39.40625 \r\nQ 19.671875 43.65625 24.015625 45.921875 \r\nQ 28.375 48.1875 33.59375 48.1875 \r\nQ 44.578125 48.1875 50.953125 41.515625 \r\nQ 57.328125 34.859375 57.328125 23.390625 \r\nQ 57.328125 12.15625 50.6875 5.359375 \r\nQ 44.046875 -1.421875 33.015625 -1.421875 \r\nQ 20.359375 -1.421875 13.671875 8.265625 \r\nQ 6.984375 17.96875 6.984375 36.375 \r\nQ 6.984375 53.65625 15.1875 63.9375 \r\nQ 23.390625 74.21875 37.203125 74.21875 \r\nQ 40.921875 74.21875 44.703125 73.484375 \r\nQ 48.484375 72.75 52.59375 71.296875 \r\nz\r\n\" id=\"DejaVuSans-54\"/>\r\n       </defs>\r\n       <use xlink:href=\"#DejaVuSans-54\"/>\r\n       <use x=\"63.623047\" xlink:href=\"#DejaVuSans-48\"/>\r\n       <use x=\"127.246094\" xlink:href=\"#DejaVuSans-48\"/>\r\n      </g>\r\n     </g>\r\n    </g>\r\n    <g id=\"xtick_5\">\r\n     <g id=\"line2d_5\">\r\n      <g>\r\n       <use style=\"stroke:#000000;stroke-width:0.8;\" x=\"211.48391\" xlink:href=\"#m1600b5950c\" y=\"142.670894\"/>\r\n      </g>\r\n     </g>\r\n     <g id=\"text_5\">\r\n      <!-- 800 -->\r\n      <g transform=\"translate(201.94016 157.269332)scale(0.1 -0.1)\">\r\n       <defs>\r\n        <path d=\"M 31.78125 34.625 \r\nQ 24.75 34.625 20.71875 30.859375 \r\nQ 16.703125 27.09375 16.703125 20.515625 \r\nQ 16.703125 13.921875 20.71875 10.15625 \r\nQ 24.75 6.390625 31.78125 6.390625 \r\nQ 38.8125 6.390625 42.859375 10.171875 \r\nQ 46.921875 13.96875 46.921875 20.515625 \r\nQ 46.921875 27.09375 42.890625 30.859375 \r\nQ 38.875 34.625 31.78125 34.625 \r\nz\r\nM 21.921875 38.8125 \r\nQ 15.578125 40.375 12.03125 44.71875 \r\nQ 8.5 49.078125 8.5 55.328125 \r\nQ 8.5 64.0625 14.71875 69.140625 \r\nQ 20.953125 74.21875 31.78125 74.21875 \r\nQ 42.671875 74.21875 48.875 69.140625 \r\nQ 55.078125 64.0625 55.078125 55.328125 \r\nQ 55.078125 49.078125 51.53125 44.71875 \r\nQ 48 40.375 41.703125 38.8125 \r\nQ 48.828125 37.15625 52.796875 32.3125 \r\nQ 56.78125 27.484375 56.78125 20.515625 \r\nQ 56.78125 9.90625 50.3125 4.234375 \r\nQ 43.84375 -1.421875 31.78125 -1.421875 \r\nQ 19.734375 -1.421875 13.25 4.234375 \r\nQ 6.78125 9.90625 6.78125 20.515625 \r\nQ 6.78125 27.484375 10.78125 32.3125 \r\nQ 14.796875 37.15625 21.921875 38.8125 \r\nz\r\nM 18.3125 54.390625 \r\nQ 18.3125 48.734375 21.84375 45.5625 \r\nQ 25.390625 42.390625 31.78125 42.390625 \r\nQ 38.140625 42.390625 41.71875 45.5625 \r\nQ 45.3125 48.734375 45.3125 54.390625 \r\nQ 45.3125 60.0625 41.71875 63.234375 \r\nQ 38.140625 66.40625 31.78125 66.40625 \r\nQ 25.390625 66.40625 21.84375 63.234375 \r\nQ 18.3125 60.0625 18.3125 54.390625 \r\nz\r\n\" id=\"DejaVuSans-56\"/>\r\n       </defs>\r\n       <use xlink:href=\"#DejaVuSans-56\"/>\r\n       <use x=\"63.623047\" xlink:href=\"#DejaVuSans-48\"/>\r\n       <use x=\"127.246094\" xlink:href=\"#DejaVuSans-48\"/>\r\n      </g>\r\n     </g>\r\n    </g>\r\n    <g id=\"xtick_6\">\r\n     <g id=\"line2d_6\">\r\n      <g>\r\n       <use style=\"stroke:#000000;stroke-width:0.8;\" x=\"256.005186\" xlink:href=\"#m1600b5950c\" y=\"142.670894\"/>\r\n      </g>\r\n     </g>\r\n     <g id=\"text_6\">\r\n      <!-- 1000 -->\r\n      <g transform=\"translate(243.280186 157.269332)scale(0.1 -0.1)\">\r\n       <defs>\r\n        <path d=\"M 12.40625 8.296875 \r\nL 28.515625 8.296875 \r\nL 28.515625 63.921875 \r\nL 10.984375 60.40625 \r\nL 10.984375 69.390625 \r\nL 28.421875 72.90625 \r\nL 38.28125 72.90625 \r\nL 38.28125 8.296875 \r\nL 54.390625 8.296875 \r\nL 54.390625 0 \r\nL 12.40625 0 \r\nz\r\n\" id=\"DejaVuSans-49\"/>\r\n       </defs>\r\n       <use xlink:href=\"#DejaVuSans-49\"/>\r\n       <use x=\"63.623047\" xlink:href=\"#DejaVuSans-48\"/>\r\n       <use x=\"127.246094\" xlink:href=\"#DejaVuSans-48\"/>\r\n       <use x=\"190.869141\" xlink:href=\"#DejaVuSans-48\"/>\r\n      </g>\r\n     </g>\r\n    </g>\r\n    <g id=\"xtick_7\">\r\n     <g id=\"line2d_7\">\r\n      <g>\r\n       <use style=\"stroke:#000000;stroke-width:0.8;\" x=\"300.526463\" xlink:href=\"#m1600b5950c\" y=\"142.670894\"/>\r\n      </g>\r\n     </g>\r\n     <g id=\"text_7\">\r\n      <!-- 1200 -->\r\n      <g transform=\"translate(287.801463 157.269332)scale(0.1 -0.1)\">\r\n       <use xlink:href=\"#DejaVuSans-49\"/>\r\n       <use x=\"63.623047\" xlink:href=\"#DejaVuSans-50\"/>\r\n       <use x=\"127.246094\" xlink:href=\"#DejaVuSans-48\"/>\r\n       <use x=\"190.869141\" xlink:href=\"#DejaVuSans-48\"/>\r\n      </g>\r\n     </g>\r\n    </g>\r\n    <g id=\"xtick_8\">\r\n     <g id=\"line2d_8\">\r\n      <g>\r\n       <use style=\"stroke:#000000;stroke-width:0.8;\" x=\"345.047739\" xlink:href=\"#m1600b5950c\" y=\"142.670894\"/>\r\n      </g>\r\n     </g>\r\n     <g id=\"text_8\">\r\n      <!-- 1400 -->\r\n      <g transform=\"translate(332.322739 157.269332)scale(0.1 -0.1)\">\r\n       <use xlink:href=\"#DejaVuSans-49\"/>\r\n       <use x=\"63.623047\" xlink:href=\"#DejaVuSans-52\"/>\r\n       <use x=\"127.246094\" xlink:href=\"#DejaVuSans-48\"/>\r\n       <use x=\"190.869141\" xlink:href=\"#DejaVuSans-48\"/>\r\n      </g>\r\n     </g>\r\n    </g>\r\n   </g>\r\n   <g id=\"matplotlib.axis_2\">\r\n    <g id=\"ytick_1\">\r\n     <g id=\"line2d_9\">\r\n      <defs>\r\n       <path d=\"M 0 0 \r\nL -3.5 0 \r\n\" id=\"m812c09bea6\" style=\"stroke:#000000;stroke-width:0.8;\"/>\r\n      </defs>\r\n      <g>\r\n       <use style=\"stroke:#000000;stroke-width:0.8;\" x=\"33.2875\" xlink:href=\"#m812c09bea6\" y=\"10.999219\"/>\r\n      </g>\r\n     </g>\r\n     <g id=\"text_9\">\r\n      <!-- 0 -->\r\n      <g transform=\"translate(19.925 14.798437)scale(0.1 -0.1)\">\r\n       <use xlink:href=\"#DejaVuSans-48\"/>\r\n      </g>\r\n     </g>\r\n    </g>\r\n    <g id=\"ytick_2\">\r\n     <g id=\"line2d_10\">\r\n      <g>\r\n       <use style=\"stroke:#000000;stroke-width:0.8;\" x=\"33.2875\" xlink:href=\"#m812c09bea6\" y=\"33.259857\"/>\r\n      </g>\r\n     </g>\r\n     <g id=\"text_10\">\r\n      <!-- 100 -->\r\n      <g transform=\"translate(7.2 37.059076)scale(0.1 -0.1)\">\r\n       <use xlink:href=\"#DejaVuSans-49\"/>\r\n       <use x=\"63.623047\" xlink:href=\"#DejaVuSans-48\"/>\r\n       <use x=\"127.246094\" xlink:href=\"#DejaVuSans-48\"/>\r\n      </g>\r\n     </g>\r\n    </g>\r\n    <g id=\"ytick_3\">\r\n     <g id=\"line2d_11\">\r\n      <g>\r\n       <use style=\"stroke:#000000;stroke-width:0.8;\" x=\"33.2875\" xlink:href=\"#m812c09bea6\" y=\"55.520495\"/>\r\n      </g>\r\n     </g>\r\n     <g id=\"text_11\">\r\n      <!-- 200 -->\r\n      <g transform=\"translate(7.2 59.319714)scale(0.1 -0.1)\">\r\n       <use xlink:href=\"#DejaVuSans-50\"/>\r\n       <use x=\"63.623047\" xlink:href=\"#DejaVuSans-48\"/>\r\n       <use x=\"127.246094\" xlink:href=\"#DejaVuSans-48\"/>\r\n      </g>\r\n     </g>\r\n    </g>\r\n    <g id=\"ytick_4\">\r\n     <g id=\"line2d_12\">\r\n      <g>\r\n       <use style=\"stroke:#000000;stroke-width:0.8;\" x=\"33.2875\" xlink:href=\"#m812c09bea6\" y=\"77.781134\"/>\r\n      </g>\r\n     </g>\r\n     <g id=\"text_12\">\r\n      <!-- 300 -->\r\n      <g transform=\"translate(7.2 81.580352)scale(0.1 -0.1)\">\r\n       <defs>\r\n        <path d=\"M 40.578125 39.3125 \r\nQ 47.65625 37.796875 51.625 33 \r\nQ 55.609375 28.21875 55.609375 21.1875 \r\nQ 55.609375 10.40625 48.1875 4.484375 \r\nQ 40.765625 -1.421875 27.09375 -1.421875 \r\nQ 22.515625 -1.421875 17.65625 -0.515625 \r\nQ 12.796875 0.390625 7.625 2.203125 \r\nL 7.625 11.71875 \r\nQ 11.71875 9.328125 16.59375 8.109375 \r\nQ 21.484375 6.890625 26.8125 6.890625 \r\nQ 36.078125 6.890625 40.9375 10.546875 \r\nQ 45.796875 14.203125 45.796875 21.1875 \r\nQ 45.796875 27.640625 41.28125 31.265625 \r\nQ 36.765625 34.90625 28.71875 34.90625 \r\nL 20.21875 34.90625 \r\nL 20.21875 43.015625 \r\nL 29.109375 43.015625 \r\nQ 36.375 43.015625 40.234375 45.921875 \r\nQ 44.09375 48.828125 44.09375 54.296875 \r\nQ 44.09375 59.90625 40.109375 62.90625 \r\nQ 36.140625 65.921875 28.71875 65.921875 \r\nQ 24.65625 65.921875 20.015625 65.03125 \r\nQ 15.375 64.15625 9.8125 62.3125 \r\nL 9.8125 71.09375 \r\nQ 15.4375 72.65625 20.34375 73.4375 \r\nQ 25.25 74.21875 29.59375 74.21875 \r\nQ 40.828125 74.21875 47.359375 69.109375 \r\nQ 53.90625 64.015625 53.90625 55.328125 \r\nQ 53.90625 49.265625 50.4375 45.09375 \r\nQ 46.96875 40.921875 40.578125 39.3125 \r\nz\r\n\" id=\"DejaVuSans-51\"/>\r\n       </defs>\r\n       <use xlink:href=\"#DejaVuSans-51\"/>\r\n       <use x=\"63.623047\" xlink:href=\"#DejaVuSans-48\"/>\r\n       <use x=\"127.246094\" xlink:href=\"#DejaVuSans-48\"/>\r\n      </g>\r\n     </g>\r\n    </g>\r\n    <g id=\"ytick_5\">\r\n     <g id=\"line2d_13\">\r\n      <g>\r\n       <use style=\"stroke:#000000;stroke-width:0.8;\" x=\"33.2875\" xlink:href=\"#m812c09bea6\" y=\"100.041772\"/>\r\n      </g>\r\n     </g>\r\n     <g id=\"text_13\">\r\n      <!-- 400 -->\r\n      <g transform=\"translate(7.2 103.840991)scale(0.1 -0.1)\">\r\n       <use xlink:href=\"#DejaVuSans-52\"/>\r\n       <use x=\"63.623047\" xlink:href=\"#DejaVuSans-48\"/>\r\n       <use x=\"127.246094\" xlink:href=\"#DejaVuSans-48\"/>\r\n      </g>\r\n     </g>\r\n    </g>\r\n    <g id=\"ytick_6\">\r\n     <g id=\"line2d_14\">\r\n      <g>\r\n       <use style=\"stroke:#000000;stroke-width:0.8;\" x=\"33.2875\" xlink:href=\"#m812c09bea6\" y=\"122.30241\"/>\r\n      </g>\r\n     </g>\r\n     <g id=\"text_14\">\r\n      <!-- 500 -->\r\n      <g transform=\"translate(7.2 126.101629)scale(0.1 -0.1)\">\r\n       <defs>\r\n        <path d=\"M 10.796875 72.90625 \r\nL 49.515625 72.90625 \r\nL 49.515625 64.59375 \r\nL 19.828125 64.59375 \r\nL 19.828125 46.734375 \r\nQ 21.96875 47.46875 24.109375 47.828125 \r\nQ 26.265625 48.1875 28.421875 48.1875 \r\nQ 40.625 48.1875 47.75 41.5 \r\nQ 54.890625 34.8125 54.890625 23.390625 \r\nQ 54.890625 11.625 47.5625 5.09375 \r\nQ 40.234375 -1.421875 26.90625 -1.421875 \r\nQ 22.3125 -1.421875 17.546875 -0.640625 \r\nQ 12.796875 0.140625 7.71875 1.703125 \r\nL 7.71875 11.625 \r\nQ 12.109375 9.234375 16.796875 8.0625 \r\nQ 21.484375 6.890625 26.703125 6.890625 \r\nQ 35.15625 6.890625 40.078125 11.328125 \r\nQ 45.015625 15.765625 45.015625 23.390625 \r\nQ 45.015625 31 40.078125 35.4375 \r\nQ 35.15625 39.890625 26.703125 39.890625 \r\nQ 22.75 39.890625 18.8125 39.015625 \r\nQ 14.890625 38.140625 10.796875 36.28125 \r\nz\r\n\" id=\"DejaVuSans-53\"/>\r\n       </defs>\r\n       <use xlink:href=\"#DejaVuSans-53\"/>\r\n       <use x=\"63.623047\" xlink:href=\"#DejaVuSans-48\"/>\r\n       <use x=\"127.246094\" xlink:href=\"#DejaVuSans-48\"/>\r\n      </g>\r\n     </g>\r\n    </g>\r\n   </g>\r\n   <g id=\"patch_3\">\r\n    <path d=\"M 33.2875 142.670894 \r\nL 33.2875 10.887916 \r\n\" style=\"fill:none;stroke:#000000;stroke-linecap:square;stroke-linejoin:miter;stroke-width:0.8;\"/>\r\n   </g>\r\n   <g id=\"patch_4\">\r\n    <path d=\"M 368.0875 142.670894 \r\nL 368.0875 10.887916 \r\n\" style=\"fill:none;stroke:#000000;stroke-linecap:square;stroke-linejoin:miter;stroke-width:0.8;\"/>\r\n   </g>\r\n   <g id=\"patch_5\">\r\n    <path d=\"M 33.2875 142.670894 \r\nL 368.0875 142.670894 \r\n\" style=\"fill:none;stroke:#000000;stroke-linecap:square;stroke-linejoin:miter;stroke-width:0.8;\"/>\r\n   </g>\r\n   <g id=\"patch_6\">\r\n    <path d=\"M 33.2875 10.887916 \r\nL 368.0875 10.887916 \r\n\" style=\"fill:none;stroke:#000000;stroke-linecap:square;stroke-linejoin:miter;stroke-width:0.8;\"/>\r\n   </g>\r\n  </g>\r\n </g>\r\n <defs>\r\n  <clipPath id=\"p56c08effbc\">\r\n   <rect height=\"131.782979\" width=\"334.8\" x=\"33.2875\" y=\"10.887916\"/>\r\n  </clipPath>\r\n </defs>\r\n</svg>\r\n",
      "image/png": "[encoded data removed]"
     },
     "metadata": {
      "needs_background": "light"
     }
    }
   ],
   "source": [
    "### Montre l'image ###\n",
    "plt.imshow(image)\n"
   ]
  },
  {
   "cell_type": "code",
   "execution_count": null,
   "metadata": {},
   "outputs": [],
   "source": []
  }
 ]
}