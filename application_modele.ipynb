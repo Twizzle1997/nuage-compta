{
 "metadata": {
  "language_info": {
   "codemirror_mode": {
    "name": "ipython",
    "version": 3
   },
   "file_extension": ".py",
   "mimetype": "text/x-python",
   "name": "python",
   "nbconvert_exporter": "python",
   "pygments_lexer": "ipython3",
   "version": "3.7.9-final"
  },
  "orig_nbformat": 2,
  "kernelspec": {
   "name": "python3",
   "display_name": "Python 3.7.9 64-bit ('data_science': conda)",
   "metadata": {
    "interpreter": {
     "hash": "4732c83932685b0664faa5679aa5d57be970d81d9b5c25b3f14d84dbd2e895e8"
    }
   }
  }
 },
 "nbformat": 4,
 "nbformat_minor": 2,
 "cells": [
  {
   "source": [
    "# Nuage Compta et la facture s'analysa"
   ],
   "cell_type": "markdown",
   "metadata": {}
  },
  {
   "source": [
    "## 0. Import des librairies"
   ],
   "cell_type": "markdown",
   "metadata": {}
  },
  {
   "cell_type": "code",
   "execution_count": 2,
   "metadata": {},
   "outputs": [
    {
     "output_type": "stream",
     "name": "stderr",
     "text": [
      "Using TensorFlow backend.\n"
     ]
    }
   ],
   "source": [
    "import cv2\n",
    "import numpy as np\n",
    "import matplotlib.pyplot as plt\n",
    "import pickle\n",
    "from keras.models import load_model"
   ]
  },
  {
   "cell_type": "code",
   "execution_count": 3,
   "metadata": {},
   "outputs": [],
   "source": [
    "path = \"assets\\imagedentrainement.jpeg\"\n",
    "img_originale = cv2.imread(path)\n",
    "model = pickle.load(open(\"mon_model.h5\",\"rb\"))"
   ]
  },
  {
   "cell_type": "code",
   "execution_count": 4,
   "metadata": {},
   "outputs": [],
   "source": [
    "def evaluate(image_lettre):\n",
    "\n",
    "    alphabet = ['A','B','C','D','E','F','G','H','I','J','K','L','M','N','O','P','Q','R','S','T','U','V','W','X','Y','Z', '<3']\n",
    "\n",
    "    image_lettre = np.expand_dims(image_lettre, axis=(0,-1))\n",
    "    prediction = np.argmax(model.predict(image_lettre) , axis=1)[0]\n",
    "    lettre = alphabet[prediction]\n",
    "\n",
    "    return lettre"
   ]
  },
  {
   "cell_type": "code",
   "execution_count": 5,
   "metadata": {},
   "outputs": [],
   "source": [
    "def resize_image(img, size=(20,20)):\n",
    "\n",
    "    h, w = img.shape[:2]\n",
    "    \n",
    "    if h == w: \n",
    "        return cv2.resize(img, size, cv2.INTER_AREA)\n",
    "\n",
    "    dif = h if h > w else w\n",
    "\n",
    "\n",
    "    if dif > (size[0] + size[1]):\n",
    "        interpolation = cv2.INTER_AREA\n",
    "    else:\n",
    "        interpolation = cv2.INTER_CUBIC\n",
    "\n",
    "    x_pos = (dif - w)//2\n",
    "    y_pos = (dif - h)//2\n",
    "\n",
    "    mask = np.zeros((dif, dif), dtype=img.dtype)\n",
    "    mask[y_pos:y_pos+h, x_pos:x_pos+w] = img[:h, :w]\n",
    "\n",
    "    return cv2.resize(mask, size, interpolation)"
   ]
  },
  {
   "cell_type": "code",
   "execution_count": 6,
   "metadata": {},
   "outputs": [
    {
     "output_type": "stream",
     "name": "stdout",
     "text": [
      "(592, 1504, 3)\n(592, 1504)\n(592, 1504)\n"
     ]
    }
   ],
   "source": [
    "img_traite = img_originale.copy()\n",
    "\n",
    "img_traite = cv2.cvtColor(img_traite, cv2.COLOR_BGR2GRAY)\n",
    "imgCanny = cv2.Canny(img_traite, 80, 80)\n",
    "kernel = np.ones((5, 5))\n",
    "imgDil = cv2.dilate(imgCanny, kernel, iterations=1)\n",
    "contours = cv2.findContours(imgDil, cv2.RETR_EXTERNAL, cv2.CHAIN_APPROX_SIMPLE)\n",
    "contours = contours[0] if len(contours) == 2 else contours[1]\n",
    "contours = [cnt for cnt in contours if cv2.contourArea(cnt) > 500]\n",
    "\n",
    "img_affichage = img_traite.copy()\n",
    "\n",
    "for cnt in contours:\n",
    "    x, y, w, h = cv2.boundingRect(cnt)\n",
    "\n",
    "    image_lettre = img_affichage[y:y+h, x:x+w]\n",
    "\n",
    "    image_lettre = cv2.bitwise_not(image_lettre)\n",
    "    image_lettre = resize_image(image_lettre)\n",
    "    image_lettre = cv2.copyMakeBorder(image_lettre, 4, 4, 4, 4, cv2.BORDER_CONSTANT)\n",
    "\n",
    "    predictions = list()\n",
    "    lettre = evaluate(image_lettre)\n",
    "\n",
    "    cv2.putText(img_affichage, lettre, (x-10, y-10), cv2.FONT_HERSHEY_SIMPLEX, 2, (0, 0, 0), 3)\n",
    "    cv2.rectangle(img_affichage, (x , y ), (x + w , y + h ), (0, 0, 0), 5)\n",
    "\n",
    "print(img_originale.shape)\n",
    "print(img_traite.shape)\n",
    "print(img_affichage.shape)\n",
    "\n",
    "cv2.imshow(\"image\", img_affichage)\n",
    "cv2.waitKey()\n",
    "cv2.destroyWindow(\"image\")\n",
    "\n",
    "\n",
    "del(img_traite, imgCanny, image_lettre, img_affichage)"
   ]
  },
  {
   "cell_type": "code",
   "execution_count": null,
   "metadata": {},
   "outputs": [],
   "source": []
  }
 ]
}