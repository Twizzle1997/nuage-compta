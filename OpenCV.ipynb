{
 "metadata": {
  "language_info": {
   "codemirror_mode": {
    "name": "ipython",
    "version": 3
   },
   "file_extension": ".py",
   "mimetype": "text/x-python",
   "name": "python",
   "nbconvert_exporter": "python",
   "pygments_lexer": "ipython3",
   "version": "3.6.12-final"
  },
  "orig_nbformat": 2,
  "kernelspec": {
   "name": "python3",
   "display_name": "Python 3"
  }
 },
 "nbformat": 4,
 "nbformat_minor": 2,
 "cells": [
  {
   "cell_type": "code",
   "execution_count": 3,
   "metadata": {},
   "outputs": [],
   "source": [
    "import cv2\n",
    "import numpy as np\n",
    "import matplotlib.pyplot as plt\n",
    "from keras.models import load_model\n",
    "\n",
    "path = \"assets/\"\n",
    "img_originale = cv2.imread(path + \"formation_data_ia.jpeg\")\n",
    "\n",
    "import pickle\n",
    "model = pickle.load(open(\"Thomas_CNN.h5\",\"rb\"))\n",
    "# model = load_model('1472_CNN.h5')"
   ]
  },
  {
   "cell_type": "code",
   "execution_count": 6,
   "metadata": {},
   "outputs": [],
   "source": [
    "def resize_image(img, size=(20,20)):\n",
    "\n",
    "    h, w = img.shape[:2]\n",
    "    \n",
    "    if h == w: \n",
    "        return cv2.resize(img, size, cv2.INTER_AREA)\n",
    "\n",
    "    dif = h if h > w else w\n",
    "\n",
    "\n",
    "    if dif > (size[0] + size[1]):\n",
    "        interpolation = cv2.INTER_AREA\n",
    "    else:\n",
    "        interpolation = cv2.INTER_CUBIC\n",
    "\n",
    "    x_pos = (dif - w)//2\n",
    "    y_pos = (dif - h)//2\n",
    "\n",
    "    mask = np.zeros((dif, dif), dtype=img.dtype)\n",
    "    mask[y_pos:y_pos+h, x_pos:x_pos+w] = img[:h, :w]\n",
    "\n",
    "    return cv2.resize(mask, size, interpolation)\n",
    "\n",
    "def evaluate(image_lettre):\n",
    "\n",
    "    alphabet = ['A','B','C','D','E','F','G','H','I','J','K','L','M','N','O','P','Q','R','S','T','U','V','W','X','Y','Z', '<3']\n",
    "\n",
    "    image_lettre = np.expand_dims(image_lettre, axis=(0,-1))\n",
    "    prediction = np.argmax(model.predict(image_lettre) , axis=1)[0]\n",
    "    lettre = alphabet[prediction]\n",
    "\n",
    "    return lettre"
   ]
  },
  {
   "source": [
    "## Mes tests de OpenCV"
   ],
   "cell_type": "markdown",
   "metadata": {}
  },
  {
   "cell_type": "code",
   "execution_count": 7,
   "metadata": {
    "tags": []
   },
   "outputs": [
    {
     "output_type": "stream",
     "name": "stdout",
     "text": [
      "(592, 1504, 3)\n(592, 1504)\n(592, 1504)\n"
     ]
    }
   ],
   "source": [
    "img_traite = img_originale.copy()\n",
    "\n",
    "# imgBlur = cv2.GaussianBlur(img_traite, (9, 9), 1)\n",
    "img_traite = cv2.cvtColor(img_traite, cv2.COLOR_BGR2GRAY)\n",
    "imgCanny = cv2.Canny(img_traite, 80, 80)\n",
    "kernel = np.ones((5, 5))\n",
    "imgDil = cv2.dilate(imgCanny, kernel, iterations=1)\n",
    "contours = cv2.findContours(imgDil, cv2.RETR_EXTERNAL, cv2.CHAIN_APPROX_SIMPLE)\n",
    "contours = contours[0] if len(contours) == 2 else contours[1]\n",
    "contours = [cnt for cnt in contours if cv2.contourArea(cnt) > 500]\n",
    "\n",
    "img_affichage = img_traite.copy()\n",
    "\n",
    "for cnt in contours:\n",
    "    x, y, w, h = cv2.boundingRect(cnt)\n",
    "\n",
    "    image_lettre = img_affichage[y:y+h, x:x+w]\n",
    "\n",
    "    image_lettre = cv2.bitwise_not(image_lettre)\n",
    "    image_lettre = resize_image(image_lettre)\n",
    "    image_lettre = cv2.copyMakeBorder(image_lettre, 4, 4, 4, 4, cv2.BORDER_CONSTANT)\n",
    "\n",
    "    predictions = list()\n",
    "    lettre = evaluate(image_lettre)\n",
    "\n",
    "    cv2.putText(img_affichage, lettre, (x-10, y-10), cv2.FONT_HERSHEY_SIMPLEX, 2, (0, 0, 0), 3)\n",
    "    cv2.rectangle(img_affichage, (x , y ), (x + w , y + h ), (0, 0, 0), 5)\n",
    "\n",
    "print(img_originale.shape)\n",
    "print(img_traite.shape)\n",
    "print(img_affichage.shape)\n",
    "\n",
    "cv2.imshow(\"image\", img_affichage)\n",
    "cv2.waitKey()\n",
    "cv2.destroyWindow(\"image\")\n",
    "del(img_traite, imgCanny, image_lettre, img_affichage)"
   ]
  },
  {
   "cell_type": "code",
   "execution_count": null,
   "metadata": {},
   "outputs": [],
   "source": [
    "im = cv2.imread(path + \"gugu.png\")\n",
    "im = cv2.cvtColor(im, cv2.COLOR_BGR2GRAY)\n",
    "im = cv2.GaussianBlur(im, (3,3), 0)\n",
    "im = cv2.Canny(im,100,100)\n",
    "\n",
    "kernel = np.ones((2,2),np.uint8)\n",
    "im = cv2.dilate(im, kernel, iterations = 1)\n",
    "\n",
    "kernel = np.ones((5,5),np.uint8)\n",
    "imgEroded = cv2.erode(im, kernel, iterations= 5)\n",
    "\n",
    "# cv2.imshow('image', im)\n",
    "# cv2.waitKey(0)\n",
    "# cv2.destroyWindow('image')\n",
    "\n",
    "plt.imshow(im, cmap='gray')\n",
    "print(im.shape)"
   ]
  },
  {
   "source": [
    "## Version originale du tutoriel"
   ],
   "cell_type": "markdown",
   "metadata": {}
  },
  {
   "cell_type": "code",
   "execution_count": 4,
   "metadata": {},
   "outputs": [],
   "source": [
    "def stackImages(scale,imgArray):\n",
    "    rows = len(imgArray)\n",
    "    cols = len(imgArray[0])\n",
    "    rowsAvailable = isinstance(imgArray[0], list)\n",
    "    width = imgArray[0][0].shape[1]\n",
    "    height = imgArray[0][0].shape[0]\n",
    "    if rowsAvailable:\n",
    "        for x in range ( 0, rows):\n",
    "            for y in range(0, cols):\n",
    "                if imgArray[x][y].shape[:2] == imgArray[0][0].shape [:2]:\n",
    "                    imgArray[x][y] = cv2.resize(imgArray[x][y], (0, 0), None, scale, scale)\n",
    "                else:\n",
    "                    imgArray[x][y] = cv2.resize(imgArray[x][y], (imgArray[0][0].shape[1], imgArray[0][0].shape[0]), None, scale, scale)\n",
    "                if len(imgArray[x][y].shape) == 2: imgArray[x][y]= cv2.cvtColor( imgArray[x][y], cv2.COLOR_GRAY2BGR)\n",
    "        imageBlank = np.zeros((height, width, 3), np.uint8)\n",
    "        hor = [imageBlank]*rows\n",
    "        hor_con = [imageBlank]*rows\n",
    "        for x in range(0, rows):\n",
    "            hor[x] = np.hstack(imgArray[x])\n",
    "        ver = np.vstack(hor)\n",
    "    else:\n",
    "        for x in range(0, rows):\n",
    "            if imgArray[x].shape[:2] == imgArray[0].shape[:2]:\n",
    "                imgArray[x] = cv2.resize(imgArray[x], (0, 0), None, scale, scale)\n",
    "            else:\n",
    "                imgArray[x] = cv2.resize(imgArray[x], (imgArray[0].shape[1], imgArray[0].shape[0]), None,scale, scale)\n",
    "            if len(imgArray[x].shape) == 2: imgArray[x] = cv2.cvtColor(imgArray[x], cv2.COLOR_GRAY2BGR)\n",
    "        hor= np.hstack(imgArray)\n",
    "        ver = hor\n",
    "    return ver"
   ]
  },
  {
   "cell_type": "code",
   "execution_count": 5,
   "metadata": {},
   "outputs": [],
   "source": [
    "def getContours(img,imgContour):\n",
    "    a, b, c = cv2.findContours(img, cv2.RETR_EXTERNAL, cv2.CHAIN_APPROX_NONE)\n",
    "    contours = b\n",
    "\n",
    "    # contours, hierarchy = cv2.findContours(img, cv2.RETR_EXTERNAL, cv2.CHAIN_APPROX_NONE)\n",
    "    \n",
    "    for cnt in contours:\n",
    "        area = cv2.contourArea(cnt)\n",
    "        areaMin = cv2.getTrackbarPos(\"Area\", \"Parameters\")\n",
    "        if area > areaMin:\n",
    "            cv2.drawContours(imgContour, cnt, -1, (255, 0, 255), 7)\n",
    "            peri = cv2.arcLength(cnt, True)\n",
    "            approx = cv2.approxPolyDP(cnt, 0.02 * peri, True)\n",
    "            # print(len(approx))\n",
    "            x , y , w, h = cv2.boundingRect(approx)\n",
    "            cv2.rectangle(imgContour, (x , y ), (x + w , y + h ), (0, 255, 0), 5)\n",
    "\n",
    "            cv2.putText(imgContour, \"Points: \" + str(len(approx)), (x + w + 20, y + 20), cv2.FONT_HERSHEY_COMPLEX, .7, (0, 255, 0), 2)\n",
    "            cv2.putText(imgContour, \"Area: \" + str(int(area)), (x + w + 20, y + 45), cv2.FONT_HERSHEY_COMPLEX, 0.7, (0, 255, 0), 2)\n",
    "\n",
    "def empty(a):\n",
    "    pass"
   ]
  },
  {
   "cell_type": "code",
   "execution_count": 6,
   "metadata": {
    "tags": []
   },
   "outputs": [],
   "source": [
    "cv2.namedWindow(\"Parameters\")\n",
    "cv2.resizeWindow(\"Parameters\",640,240)\n",
    "cv2.createTrackbar(\"Threshold1\",\"Parameters\",80,255,empty)\n",
    "cv2.createTrackbar(\"Threshold2\",\"Parameters\",80,255,empty)\n",
    "cv2.createTrackbar(\"Area\",\"Parameters\",500,3000,empty)\n",
    "\n",
    "img = cv2.imread(path + \"formation_data_ia.jpeg\")\n",
    "\n",
    "while True:\n",
    "\n",
    "    imgContour = img.copy()\n",
    "    imgBlur = cv2.GaussianBlur(img, (9, 9), 1)\n",
    "    imgGray = cv2.cvtColor(imgBlur, cv2.COLOR_BGR2GRAY)\n",
    "    threshold1 = cv2.getTrackbarPos(\"Threshold1\", \"Parameters\")\n",
    "    threshold2 = cv2.getTrackbarPos(\"Threshold2\", \"Parameters\")\n",
    "    imgCanny = cv2.Canny(imgGray, threshold1, threshold2)\n",
    "    kernel = np.ones((5, 5))\n",
    "    imgDil = cv2.dilate(imgCanny, kernel, iterations=1)\n",
    "    getContours(imgDil, imgContour)\n",
    "    imgStack = stackImages(0.8, ([img,imgCanny], [imgDil,imgContour]) )\n",
    "\n",
    "    cv2.imshow(\"Result\", imgStack)\n",
    "    if cv2.waitKey(1) & 0xFF == ord('q'):\n",
    "        break\n",
    "\n",
    "cv2.destroyAllWindows()"
   ]
  }
 ]
}