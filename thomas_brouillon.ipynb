{
 "metadata": {
  "language_info": {
   "codemirror_mode": {
    "name": "ipython",
    "version": 3
   },
   "file_extension": ".py",
   "mimetype": "text/x-python",
   "name": "python",
   "nbconvert_exporter": "python",
   "pygments_lexer": "ipython3",
   "version": "3.7.9-final"
  },
  "orig_nbformat": 2,
  "kernelspec": {
   "name": "Python 3.7.9 64-bit ('training': conda)",
   "display_name": "Python 3.7.9 64-bit ('training': conda)",
   "metadata": {
    "interpreter": {
     "hash": "6428d35c8f8c266ab44176080312b4af1c5768987d72b59b489605f16d664ca3"
    }
   }
  }
 },
 "nbformat": 4,
 "nbformat_minor": 2,
 "cells": [
  {
   "source": [
    "# Nuage Compta et la facture s'analysa"
   ],
   "cell_type": "markdown",
   "metadata": {}
  },
  {
   "source": [
    "## 0. Import des librairies"
   ],
   "cell_type": "markdown",
   "metadata": {}
  },
  {
   "cell_type": "code",
   "execution_count": 1,
   "metadata": {},
   "outputs": [
    {
     "output_type": "stream",
     "name": "stderr",
     "text": [
      "Using TensorFlow backend.\n"
     ]
    }
   ],
   "source": [
    "import numpy as np\n",
    "import matplotlib.pyplot as plt\n",
    "from keras.preprocessing.image import ImageDataGenerator\n",
    "from keras.preprocessing import image\n",
    "import keras\n",
    "from keras.models import Sequential\n",
    "from keras.layers import Conv2D, MaxPooling2D, Flatten, Dense, Activation\n",
    "import os\n",
    "import pickle"
   ]
  },
  {
   "source": [
    "## 1. Import des Datasets"
   ],
   "cell_type": "markdown",
   "metadata": {}
  },
  {
   "cell_type": "code",
   "execution_count": 2,
   "metadata": {},
   "outputs": [
    {
     "output_type": "stream",
     "name": "stdout",
     "text": [
      "Found 5206 images belonging to 27 classes.\nFound 777 images belonging to 27 classes.\n"
     ]
    }
   ],
   "source": [
    "# ImageDataGenerator génère des lots de données d'image vectorielles, convertissant les coefficients RVB compris entre 0 et 255 en valeurs cibles comprises entre 0 et 1 par mise à l'échelle avec un facteur de 1/255 à l' aide de la remise à l' échelle\n",
    "\n",
    "train_datagen = ImageDataGenerator(rescale = 1./255,\n",
    "                                   shear_range = 0.2,           # shear_range est utilisé pour appliquer de manière aléatoire des transformations de cisaillement\n",
    "                                   zoom_range = 0.2,            # zoom_range est utilisé pour zoomer aléatoirement à l'intérieur des images\n",
    "                                   horizontal_flip = True)      # horizontal_flip est utilisé pour retourner au hasard la moitié des images horizontalement\n",
    "\n",
    "test_datagen = ImageDataGenerator(rescale = 1./255)\n",
    "\n",
    "\n",
    "# Ensuite, nous importons les images une par une à partir des répertoires en utilisant .flow_from_directory et y appliquons ImageDataGenerator.\n",
    "train_generator = train_datagen.flow_from_directory(\n",
    "    directory = \"Training\",                                     # Choix de mon repertoire\n",
    "    target_size = (32,32),                                      # Nous convertissons ensuite les images de leur taille d'origine à notre target_size\n",
    "    batch_size = 32,                                            # Nombre batch_size qui fait référence au nombre d'exemples d'entraînement utilisés dans une                                                                        itération\n",
    "    class_mode = \"categorical\"                                  # Nous définissons le class_mode sur catégorique indiquant que nous avons plusieurs classes (a à z)                                                                 à prédire.\n",
    "\n",
    ")\n",
    "\n",
    "test_generator = test_datagen.flow_from_directory(\n",
    "    directory = \"Testing\",\n",
    "    target_size = (32,32),\n",
    "    batch_size = 32,\n",
    "    class_mode = \"categorical\"\n",
    "\n",
    ")"
   ]
  },
  {
   "source": [
    "## 2. Definition du modèle d'architecture "
   ],
   "cell_type": "markdown",
   "metadata": {}
  },
  {
   "cell_type": "code",
   "execution_count": 3,
   "metadata": {},
   "outputs": [
    {
     "output_type": "stream",
     "name": "stdout",
     "text": [
      "WARNING:tensorflow:From C:\\Users\\utilisateur\\anaconda3\\envs\\training\\lib\\site-packages\\keras\\backend\\tensorflow_backend.py:4070: The name tf.nn.max_pool is deprecated. Please use tf.nn.max_pool2d instead.\n",
      "\n",
      "Model: \"sequential_1\"\n",
      "_________________________________________________________________\n",
      "Layer (type)                 Output Shape              Param #   \n",
      "=================================================================\n",
      "conv2d_1 (Conv2D)            (None, 30, 30, 32)        896       \n",
      "_________________________________________________________________\n",
      "max_pooling2d_1 (MaxPooling2 (None, 15, 15, 32)        0         \n",
      "_________________________________________________________________\n",
      "conv2d_2 (Conv2D)            (None, 13, 13, 32)        9248      \n",
      "_________________________________________________________________\n",
      "max_pooling2d_2 (MaxPooling2 (None, 6, 6, 32)          0         \n",
      "_________________________________________________________________\n",
      "flatten_1 (Flatten)          (None, 1152)              0         \n",
      "_________________________________________________________________\n",
      "dense_1 (Dense)              (None, 128)               147584    \n",
      "_________________________________________________________________\n",
      "dense_2 (Dense)              (None, 27)                3483      \n",
      "=================================================================\n",
      "Total params: 161,211\n",
      "Trainable params: 161,211\n",
      "Non-trainable params: 0\n",
      "_________________________________________________________________\n"
     ]
    }
   ],
   "source": [
    "# Création d'un modèle séquentiel qui permet de définir l'architecture CNN couche par couche à l'aide de la fonction .add .Nous ajoutons d'abord une couche de convolution avec 32 filtres de taille 3X3 sur les images d'entrée et la passons à travers la fonction d'activation 'relu'.Nous effectuons ensuite des opérations MaxPooling en utilisant un pool de taille 2X2 \n",
    "model = Sequential()\n",
    "model.add(Conv2D(32, (3, 3), input_shape = (32,32,3), activation = \"relu\"))\n",
    "model.add(MaxPooling2D(pool_size = (2, 2)))\n",
    "\n",
    "# Ces couches sont ensuite répétées à nouveau pour améliorer les performances du modèle.\n",
    "\n",
    "model.add(Conv2D(32, (3, 3), activation = \"relu\"))\n",
    "model.add(MaxPooling2D(pool_size = (2, 2)))\n",
    "\n",
    "# Enfin, nous aplatissons notre matrice résultante et la passons à travers une couche dense composée de 128 nœuds. Celui-ci est ensuite connecté à la couche de sortie constituée de 26 nœuds, chaque nœud représentant un alphabet\n",
    "\n",
    "model.add(Flatten())\n",
    "model.add(Dense(units = 128, activation = \"relu\"))\n",
    "model.add(Dense(units = 27, activation = \"softmax\"))        # Nous utilisons l' activation softmax qui convertit les scores en                                                                  une distribution de probabilité normalisée, et le nœud avec la                                                                    probabilité la plus élevée est sélectionné comme sortie\n",
    "\n",
    "# Une fois notre architecture CNN définie, nous compilons le modèle à l'aide de l'optimiseur Adam \n",
    "model.compile(optimizer = \"adam\", loss = \"categorical_crossentropy\", metrics = [\"accuracy\"])\n",
    "\n",
    "model.summary()"
   ]
  },
  {
   "source": [
    "## 3. Entrainement du modèle"
   ],
   "cell_type": "markdown",
   "metadata": {}
  },
  {
   "cell_type": "code",
   "execution_count": 4,
   "metadata": {},
   "outputs": [
    {
     "output_type": "stream",
     "name": "stdout",
     "text": [
      "WARNING:tensorflow:From C:\\Users\\utilisateur\\anaconda3\\envs\\training\\lib\\site-packages\\keras\\backend\\tensorflow_backend.py:422: The name tf.global_variables is deprecated. Please use tf.compat.v1.global_variables instead.\n",
      "\n",
      "Epoch 1/30\n",
      "32/32 [==============================] - 18s 577ms/step - loss: 2.9973 - accuracy: 0.1621 - val_loss: 2.3557 - val_accuracy: 0.3696\n",
      "Epoch 2/30\n",
      "32/32 [==============================] - 10s 301ms/step - loss: 2.0963 - accuracy: 0.3887 - val_loss: 1.5190 - val_accuracy: 0.5255\n",
      "Epoch 3/30\n",
      "32/32 [==============================] - 15s 478ms/step - loss: 1.5815 - accuracy: 0.5156 - val_loss: 1.5832 - val_accuracy: 0.6414\n",
      "Epoch 4/30\n",
      "32/32 [==============================] - 15s 454ms/step - loss: 1.3139 - accuracy: 0.6025 - val_loss: 0.8762 - val_accuracy: 0.6626\n",
      "Epoch 5/30\n",
      "32/32 [==============================] - 14s 440ms/step - loss: 1.1633 - accuracy: 0.6391 - val_loss: 0.7140 - val_accuracy: 0.7383\n",
      "Epoch 6/30\n",
      "32/32 [==============================] - 5s 160ms/step - loss: 0.9839 - accuracy: 0.6895 - val_loss: 1.2605 - val_accuracy: 0.7423\n",
      "Epoch 7/30\n",
      "32/32 [==============================] - 4s 120ms/step - loss: 0.9848 - accuracy: 0.6904 - val_loss: 0.6256 - val_accuracy: 0.7772\n",
      "Epoch 8/30\n",
      "32/32 [==============================] - 4s 123ms/step - loss: 0.8233 - accuracy: 0.7246 - val_loss: 0.3892 - val_accuracy: 0.7658\n",
      "Epoch 9/30\n",
      "32/32 [==============================] - 4s 114ms/step - loss: 0.7818 - accuracy: 0.7646 - val_loss: 0.8844 - val_accuracy: 0.7772\n",
      "Epoch 10/30\n",
      "32/32 [==============================] - 4s 113ms/step - loss: 0.8006 - accuracy: 0.7406 - val_loss: 0.7551 - val_accuracy: 0.7922\n",
      "Epoch 11/30\n",
      "32/32 [==============================] - 4s 136ms/step - loss: 0.6507 - accuracy: 0.7988 - val_loss: 0.8348 - val_accuracy: 0.7873\n",
      "Epoch 12/30\n",
      "32/32 [==============================] - 4s 120ms/step - loss: 0.6418 - accuracy: 0.8125 - val_loss: 1.0049 - val_accuracy: 0.7662\n",
      "Epoch 13/30\n",
      "32/32 [==============================] - 4s 123ms/step - loss: 0.5881 - accuracy: 0.8057 - val_loss: 0.5082 - val_accuracy: 0.8012\n",
      "Epoch 14/30\n",
      "32/32 [==============================] - 4s 122ms/step - loss: 0.5646 - accuracy: 0.8193 - val_loss: 0.2785 - val_accuracy: 0.8122\n",
      "Epoch 15/30\n",
      "32/32 [==============================] - 4s 121ms/step - loss: 0.5669 - accuracy: 0.8254 - val_loss: 0.7931 - val_accuracy: 0.8027\n",
      "Epoch 16/30\n",
      "32/32 [==============================] - 4s 132ms/step - loss: 0.5653 - accuracy: 0.8330 - val_loss: 0.7284 - val_accuracy: 0.8322\n",
      "Epoch 17/30\n",
      "32/32 [==============================] - 4s 132ms/step - loss: 0.4900 - accuracy: 0.8496 - val_loss: 0.1517 - val_accuracy: 0.8581\n",
      "Epoch 18/30\n",
      "32/32 [==============================] - 4s 111ms/step - loss: 0.4704 - accuracy: 0.8570 - val_loss: 0.3190 - val_accuracy: 0.8753\n",
      "Epoch 19/30\n",
      "32/32 [==============================] - 3s 106ms/step - loss: 0.4877 - accuracy: 0.8486 - val_loss: 0.4812 - val_accuracy: 0.8681\n",
      "Epoch 20/30\n",
      "32/32 [==============================] - 4s 110ms/step - loss: 0.4253 - accuracy: 0.8848 - val_loss: 0.3979 - val_accuracy: 0.8541\n",
      "Epoch 21/30\n",
      "32/32 [==============================] - 4s 121ms/step - loss: 0.4578 - accuracy: 0.8486 - val_loss: 0.4923 - val_accuracy: 0.8881\n",
      "Epoch 22/30\n",
      "32/32 [==============================] - 4s 116ms/step - loss: 0.3829 - accuracy: 0.8848 - val_loss: 0.4473 - val_accuracy: 0.8865\n",
      "Epoch 23/30\n",
      "32/32 [==============================] - 3s 107ms/step - loss: 0.3822 - accuracy: 0.8799 - val_loss: 0.2820 - val_accuracy: 0.8442\n",
      "Epoch 24/30\n",
      "32/32 [==============================] - 4s 112ms/step - loss: 0.3832 - accuracy: 0.8728 - val_loss: 0.1857 - val_accuracy: 0.8891\n",
      "Epoch 25/30\n",
      "32/32 [==============================] - 4s 117ms/step - loss: 0.4480 - accuracy: 0.8525 - val_loss: 0.2689 - val_accuracy: 0.8957\n",
      "Epoch 26/30\n",
      "32/32 [==============================] - 3s 107ms/step - loss: 0.4281 - accuracy: 0.8659 - val_loss: 0.4306 - val_accuracy: 0.8921\n",
      "Epoch 27/30\n",
      "32/32 [==============================] - 4s 113ms/step - loss: 0.3392 - accuracy: 0.8975 - val_loss: 0.4717 - val_accuracy: 0.8881\n",
      "Epoch 28/30\n",
      "32/32 [==============================] - 4s 116ms/step - loss: 0.4168 - accuracy: 0.8574 - val_loss: 0.5143 - val_accuracy: 0.9051\n",
      "Epoch 29/30\n",
      "32/32 [==============================] - 4s 112ms/step - loss: 0.3736 - accuracy: 0.8916 - val_loss: 0.2713 - val_accuracy: 0.8937\n",
      "Epoch 30/30\n",
      "32/32 [==============================] - 4s 110ms/step - loss: 0.3711 - accuracy: 0.8848 - val_loss: 0.4228 - val_accuracy: 0.9071\n"
     ]
    }
   ],
   "source": [
    "### Je décide de créer 30 répétitions, et j'ai X2 les steps_per_epoch pour augmenter notre précision ###\n",
    "entrainement = model.fit_generator(train_generator,\n",
    "                         steps_per_epoch = 32,\n",
    "                         epochs = 30,\n",
    "                         validation_data = test_generator,\n",
    "                         validation_steps = 32)"
   ]
  },
  {
   "source": [
    "## 4. Enregistrement & chargement du modèle"
   ],
   "cell_type": "markdown",
   "metadata": {}
  },
  {
   "cell_type": "code",
   "execution_count": 5,
   "metadata": {},
   "outputs": [],
   "source": [
    "pickle.dump(model, open(\"mon_model.sav\", \"wb\"))"
   ]
  },
  {
   "cell_type": "code",
   "execution_count": 6,
   "metadata": {},
   "outputs": [],
   "source": [
    "model = pickle.load(open(\"mon_model.sav\",\"rb\"))"
   ]
  },
  {
   "source": [
    "## 5. Création d'une fonction qui renvois l'alphabet associé au résultat"
   ],
   "cell_type": "markdown",
   "metadata": {}
  },
  {
   "cell_type": "code",
   "execution_count": 7,
   "metadata": {},
   "outputs": [],
   "source": [
    "def get_result(result):\n",
    "    if result[0][0] == 1:\n",
    "        return(\"a\")\n",
    "    elif result[0][1] == 1:\n",
    "        return (\"b\")\n",
    "    elif result[0][2] == 1:\n",
    "        return (\"c\")\n",
    "    elif result[0][3] == 1:\n",
    "        return (\"d\")\n",
    "    elif result[0][4] == 1:\n",
    "        return (\"e\")\n",
    "    elif result[0][5] == 1:\n",
    "        return (\"f\")\n",
    "    elif result[0][6] == 1:\n",
    "        return (\"g\")\n",
    "    elif result[0][7] == 1:\n",
    "        return (\"h\")\n",
    "    elif result[0][8] == 1:\n",
    "        return (\"i\")\n",
    "    elif result[0][9] == 1:\n",
    "        return (\"j\")\n",
    "    elif result[0][10] == 1:\n",
    "        return (\"k\")\n",
    "    elif result[0][11] == 1:\n",
    "        return (\"l\")\n",
    "    elif result[0][12] == 1:\n",
    "        return (\"m\")\n",
    "    elif result[0][13] == 1:\n",
    "        return (\"n\")\n",
    "    elif result[0][14] == 1:\n",
    "        return (\"o\")\n",
    "    elif result[0][15] == 1:\n",
    "        return (\"p\")\n",
    "    elif result[0][16] == 1:\n",
    "        return (\"q\")\n",
    "    elif result[0][17] == 1:\n",
    "        return (\"r\")\n",
    "    elif result[0][18] == 1:\n",
    "        return (\"s\")\n",
    "    elif result[0][19] == 1:\n",
    "        return (\"t\")\n",
    "    elif result[0][20] == 1:\n",
    "        return (\"u\")\n",
    "    elif result[0][21] == 1:\n",
    "        return (\"v\")\n",
    "    elif result[0][22] == 1:\n",
    "        return (\"w\")\n",
    "    elif result[0][23] == 1:\n",
    "        return (\"x\")\n",
    "    elif result[0][24] == 1:\n",
    "        return (\"y\")\n",
    "    elif result[0][25] == 1:\n",
    "        return (\"z\")\n",
    "    elif result[0][26] == 1:                # Création du symbole <3\n",
    "        return (\"<3\")"
   ]
  },
  {
   "source": [
    "## 6. Choix de l'image à envoyer "
   ],
   "cell_type": "markdown",
   "metadata": {}
  },
  {
   "cell_type": "code",
   "execution_count": 8,
   "metadata": {},
   "outputs": [
    {
     "output_type": "display_data",
     "data": {
      "text/plain": "<Figure size 432x288 with 1 Axes>",
      "image/svg+xml": "<?xml version=\"1.0\" encoding=\"utf-8\" standalone=\"no\"?>\r\n<!DOCTYPE svg PUBLIC \"-//W3C//DTD SVG 1.1//EN\"\r\n  \"http://www.w3.org/Graphics/SVG/1.1/DTD/svg11.dtd\">\r\n<!-- Created with matplotlib (https://matplotlib.org/) -->\r\n<svg height=\"248.919844pt\" version=\"1.1\" viewBox=\"0 0 251.565 248.919844\" width=\"251.565pt\" xmlns=\"http://www.w3.org/2000/svg\" xmlns:xlink=\"http://www.w3.org/1999/xlink\">\r\n <metadata>\r\n  <rdf:RDF xmlns:cc=\"http://creativecommons.org/ns#\" xmlns:dc=\"http://purl.org/dc/elements/1.1/\" xmlns:rdf=\"http://www.w3.org/1999/02/22-rdf-syntax-ns#\">\r\n   <cc:Work>\r\n    <dc:type rdf:resource=\"http://purl.org/dc/dcmitype/StillImage\"/>\r\n    <dc:date>2020-11-05T22:57:01.250965</dc:date>\r\n    <dc:format>image/svg+xml</dc:format>\r\n    <dc:creator>\r\n     <cc:Agent>\r\n      <dc:title>Matplotlib v3.3.1, https://matplotlib.org/</dc:title>\r\n     </cc:Agent>\r\n    </dc:creator>\r\n   </cc:Work>\r\n  </rdf:RDF>\r\n </metadata>\r\n <defs>\r\n  <style type=\"text/css\">*{stroke-linecap:butt;stroke-linejoin:round;}</style>\r\n </defs>\r\n <g id=\"figure_1\">\r\n  <g id=\"patch_1\">\r\n   <path d=\"M 0 248.919844 \r\nL 251.565 248.919844 \r\nL 251.565 0 \r\nL 0 0 \r\nz\r\n\" style=\"fill:none;\"/>\r\n  </g>\r\n  <g id=\"axes_1\">\r\n   <g id=\"patch_2\">\r\n    <path d=\"M 26.925 225.041719 \r\nL 244.365 225.041719 \r\nL 244.365 7.601719 \r\nL 26.925 7.601719 \r\nz\r\n\" style=\"fill:#ffffff;\"/>\r\n   </g>\r\n   <g clip-path=\"url(#pf58e6074f5)\">\r\n    <image height=\"218\" id=\"imagec3059bbcd4\" transform=\"scale(1 -1)translate(0 -218)\" width=\"218\" x=\"26.925\" xlink:href=\"data:image/png;base64,\r\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\" y=\"-7.041719\"/>\r\n   </g>\r\n   <g id=\"matplotlib.axis_1\">\r\n    <g id=\"xtick_1\">\r\n     <g id=\"line2d_1\">\r\n      <defs>\r\n       <path d=\"M 0 0 \r\nL 0 3.5 \r\n\" id=\"m7808012c40\" style=\"stroke:#000000;stroke-width:0.8;\"/>\r\n      </defs>\r\n      <g>\r\n       <use style=\"stroke:#000000;stroke-width:0.8;\" x=\"30.3225\" xlink:href=\"#m7808012c40\" y=\"225.041719\"/>\r\n      </g>\r\n     </g>\r\n     <g id=\"text_1\">\r\n      <!-- 0 -->\r\n      <g transform=\"translate(27.14125 239.640156)scale(0.1 -0.1)\">\r\n       <defs>\r\n        <path d=\"M 31.78125 66.40625 \r\nQ 24.171875 66.40625 20.328125 58.90625 \r\nQ 16.5 51.421875 16.5 36.375 \r\nQ 16.5 21.390625 20.328125 13.890625 \r\nQ 24.171875 6.390625 31.78125 6.390625 \r\nQ 39.453125 6.390625 43.28125 13.890625 \r\nQ 47.125 21.390625 47.125 36.375 \r\nQ 47.125 51.421875 43.28125 58.90625 \r\nQ 39.453125 66.40625 31.78125 66.40625 \r\nz\r\nM 31.78125 74.21875 \r\nQ 44.046875 74.21875 50.515625 64.515625 \r\nQ 56.984375 54.828125 56.984375 36.375 \r\nQ 56.984375 17.96875 50.515625 8.265625 \r\nQ 44.046875 -1.421875 31.78125 -1.421875 \r\nQ 19.53125 -1.421875 13.0625 8.265625 \r\nQ 6.59375 17.96875 6.59375 36.375 \r\nQ 6.59375 54.828125 13.0625 64.515625 \r\nQ 19.53125 74.21875 31.78125 74.21875 \r\nz\r\n\" id=\"DejaVuSans-48\"/>\r\n       </defs>\r\n       <use xlink:href=\"#DejaVuSans-48\"/>\r\n      </g>\r\n     </g>\r\n    </g>\r\n    <g id=\"xtick_2\">\r\n     <g id=\"line2d_2\">\r\n      <g>\r\n       <use style=\"stroke:#000000;stroke-width:0.8;\" x=\"64.2975\" xlink:href=\"#m7808012c40\" y=\"225.041719\"/>\r\n      </g>\r\n     </g>\r\n     <g id=\"text_2\">\r\n      <!-- 5 -->\r\n      <g transform=\"translate(61.11625 239.640156)scale(0.1 -0.1)\">\r\n       <defs>\r\n        <path d=\"M 10.796875 72.90625 \r\nL 49.515625 72.90625 \r\nL 49.515625 64.59375 \r\nL 19.828125 64.59375 \r\nL 19.828125 46.734375 \r\nQ 21.96875 47.46875 24.109375 47.828125 \r\nQ 26.265625 48.1875 28.421875 48.1875 \r\nQ 40.625 48.1875 47.75 41.5 \r\nQ 54.890625 34.8125 54.890625 23.390625 \r\nQ 54.890625 11.625 47.5625 5.09375 \r\nQ 40.234375 -1.421875 26.90625 -1.421875 \r\nQ 22.3125 -1.421875 17.546875 -0.640625 \r\nQ 12.796875 0.140625 7.71875 1.703125 \r\nL 7.71875 11.625 \r\nQ 12.109375 9.234375 16.796875 8.0625 \r\nQ 21.484375 6.890625 26.703125 6.890625 \r\nQ 35.15625 6.890625 40.078125 11.328125 \r\nQ 45.015625 15.765625 45.015625 23.390625 \r\nQ 45.015625 31 40.078125 35.4375 \r\nQ 35.15625 39.890625 26.703125 39.890625 \r\nQ 22.75 39.890625 18.8125 39.015625 \r\nQ 14.890625 38.140625 10.796875 36.28125 \r\nz\r\n\" id=\"DejaVuSans-53\"/>\r\n       </defs>\r\n       <use xlink:href=\"#DejaVuSans-53\"/>\r\n      </g>\r\n     </g>\r\n    </g>\r\n    <g id=\"xtick_3\">\r\n     <g id=\"line2d_3\">\r\n      <g>\r\n       <use style=\"stroke:#000000;stroke-width:0.8;\" x=\"98.2725\" xlink:href=\"#m7808012c40\" y=\"225.041719\"/>\r\n      </g>\r\n     </g>\r\n     <g id=\"text_3\">\r\n      <!-- 10 -->\r\n      <g transform=\"translate(91.91 239.640156)scale(0.1 -0.1)\">\r\n       <defs>\r\n        <path d=\"M 12.40625 8.296875 \r\nL 28.515625 8.296875 \r\nL 28.515625 63.921875 \r\nL 10.984375 60.40625 \r\nL 10.984375 69.390625 \r\nL 28.421875 72.90625 \r\nL 38.28125 72.90625 \r\nL 38.28125 8.296875 \r\nL 54.390625 8.296875 \r\nL 54.390625 0 \r\nL 12.40625 0 \r\nz\r\n\" id=\"DejaVuSans-49\"/>\r\n       </defs>\r\n       <use xlink:href=\"#DejaVuSans-49\"/>\r\n       <use x=\"63.623047\" xlink:href=\"#DejaVuSans-48\"/>\r\n      </g>\r\n     </g>\r\n    </g>\r\n    <g id=\"xtick_4\">\r\n     <g id=\"line2d_4\">\r\n      <g>\r\n       <use style=\"stroke:#000000;stroke-width:0.8;\" x=\"132.2475\" xlink:href=\"#m7808012c40\" y=\"225.041719\"/>\r\n      </g>\r\n     </g>\r\n     <g id=\"text_4\">\r\n      <!-- 15 -->\r\n      <g transform=\"translate(125.885 239.640156)scale(0.1 -0.1)\">\r\n       <use xlink:href=\"#DejaVuSans-49\"/>\r\n       <use x=\"63.623047\" xlink:href=\"#DejaVuSans-53\"/>\r\n      </g>\r\n     </g>\r\n    </g>\r\n    <g id=\"xtick_5\">\r\n     <g id=\"line2d_5\">\r\n      <g>\r\n       <use style=\"stroke:#000000;stroke-width:0.8;\" x=\"166.2225\" xlink:href=\"#m7808012c40\" y=\"225.041719\"/>\r\n      </g>\r\n     </g>\r\n     <g id=\"text_5\">\r\n      <!-- 20 -->\r\n      <g transform=\"translate(159.86 239.640156)scale(0.1 -0.1)\">\r\n       <defs>\r\n        <path d=\"M 19.1875 8.296875 \r\nL 53.609375 8.296875 \r\nL 53.609375 0 \r\nL 7.328125 0 \r\nL 7.328125 8.296875 \r\nQ 12.9375 14.109375 22.625 23.890625 \r\nQ 32.328125 33.6875 34.8125 36.53125 \r\nQ 39.546875 41.84375 41.421875 45.53125 \r\nQ 43.3125 49.21875 43.3125 52.78125 \r\nQ 43.3125 58.59375 39.234375 62.25 \r\nQ 35.15625 65.921875 28.609375 65.921875 \r\nQ 23.96875 65.921875 18.8125 64.3125 \r\nQ 13.671875 62.703125 7.8125 59.421875 \r\nL 7.8125 69.390625 \r\nQ 13.765625 71.78125 18.9375 73 \r\nQ 24.125 74.21875 28.421875 74.21875 \r\nQ 39.75 74.21875 46.484375 68.546875 \r\nQ 53.21875 62.890625 53.21875 53.421875 \r\nQ 53.21875 48.921875 51.53125 44.890625 \r\nQ 49.859375 40.875 45.40625 35.40625 \r\nQ 44.1875 33.984375 37.640625 27.21875 \r\nQ 31.109375 20.453125 19.1875 8.296875 \r\nz\r\n\" id=\"DejaVuSans-50\"/>\r\n       </defs>\r\n       <use xlink:href=\"#DejaVuSans-50\"/>\r\n       <use x=\"63.623047\" xlink:href=\"#DejaVuSans-48\"/>\r\n      </g>\r\n     </g>\r\n    </g>\r\n    <g id=\"xtick_6\">\r\n     <g id=\"line2d_6\">\r\n      <g>\r\n       <use style=\"stroke:#000000;stroke-width:0.8;\" x=\"200.1975\" xlink:href=\"#m7808012c40\" y=\"225.041719\"/>\r\n      </g>\r\n     </g>\r\n     <g id=\"text_6\">\r\n      <!-- 25 -->\r\n      <g transform=\"translate(193.835 239.640156)scale(0.1 -0.1)\">\r\n       <use xlink:href=\"#DejaVuSans-50\"/>\r\n       <use x=\"63.623047\" xlink:href=\"#DejaVuSans-53\"/>\r\n      </g>\r\n     </g>\r\n    </g>\r\n    <g id=\"xtick_7\">\r\n     <g id=\"line2d_7\">\r\n      <g>\r\n       <use style=\"stroke:#000000;stroke-width:0.8;\" x=\"234.1725\" xlink:href=\"#m7808012c40\" y=\"225.041719\"/>\r\n      </g>\r\n     </g>\r\n     <g id=\"text_7\">\r\n      <!-- 30 -->\r\n      <g transform=\"translate(227.81 239.640156)scale(0.1 -0.1)\">\r\n       <defs>\r\n        <path d=\"M 40.578125 39.3125 \r\nQ 47.65625 37.796875 51.625 33 \r\nQ 55.609375 28.21875 55.609375 21.1875 \r\nQ 55.609375 10.40625 48.1875 4.484375 \r\nQ 40.765625 -1.421875 27.09375 -1.421875 \r\nQ 22.515625 -1.421875 17.65625 -0.515625 \r\nQ 12.796875 0.390625 7.625 2.203125 \r\nL 7.625 11.71875 \r\nQ 11.71875 9.328125 16.59375 8.109375 \r\nQ 21.484375 6.890625 26.8125 6.890625 \r\nQ 36.078125 6.890625 40.9375 10.546875 \r\nQ 45.796875 14.203125 45.796875 21.1875 \r\nQ 45.796875 27.640625 41.28125 31.265625 \r\nQ 36.765625 34.90625 28.71875 34.90625 \r\nL 20.21875 34.90625 \r\nL 20.21875 43.015625 \r\nL 29.109375 43.015625 \r\nQ 36.375 43.015625 40.234375 45.921875 \r\nQ 44.09375 48.828125 44.09375 54.296875 \r\nQ 44.09375 59.90625 40.109375 62.90625 \r\nQ 36.140625 65.921875 28.71875 65.921875 \r\nQ 24.65625 65.921875 20.015625 65.03125 \r\nQ 15.375 64.15625 9.8125 62.3125 \r\nL 9.8125 71.09375 \r\nQ 15.4375 72.65625 20.34375 73.4375 \r\nQ 25.25 74.21875 29.59375 74.21875 \r\nQ 40.828125 74.21875 47.359375 69.109375 \r\nQ 53.90625 64.015625 53.90625 55.328125 \r\nQ 53.90625 49.265625 50.4375 45.09375 \r\nQ 46.96875 40.921875 40.578125 39.3125 \r\nz\r\n\" id=\"DejaVuSans-51\"/>\r\n       </defs>\r\n       <use xlink:href=\"#DejaVuSans-51\"/>\r\n       <use x=\"63.623047\" xlink:href=\"#DejaVuSans-48\"/>\r\n      </g>\r\n     </g>\r\n    </g>\r\n   </g>\r\n   <g id=\"matplotlib.axis_2\">\r\n    <g id=\"ytick_1\">\r\n     <g id=\"line2d_8\">\r\n      <defs>\r\n       <path d=\"M 0 0 \r\nL -3.5 0 \r\n\" id=\"m6754640d60\" style=\"stroke:#000000;stroke-width:0.8;\"/>\r\n      </defs>\r\n      <g>\r\n       <use style=\"stroke:#000000;stroke-width:0.8;\" x=\"26.925\" xlink:href=\"#m6754640d60\" y=\"10.999219\"/>\r\n      </g>\r\n     </g>\r\n     <g id=\"text_8\">\r\n      <!-- 0 -->\r\n      <g transform=\"translate(13.5625 14.798437)scale(0.1 -0.1)\">\r\n       <use xlink:href=\"#DejaVuSans-48\"/>\r\n      </g>\r\n     </g>\r\n    </g>\r\n    <g id=\"ytick_2\">\r\n     <g id=\"line2d_9\">\r\n      <g>\r\n       <use style=\"stroke:#000000;stroke-width:0.8;\" x=\"26.925\" xlink:href=\"#m6754640d60\" y=\"44.974219\"/>\r\n      </g>\r\n     </g>\r\n     <g id=\"text_9\">\r\n      <!-- 5 -->\r\n      <g transform=\"translate(13.5625 48.773437)scale(0.1 -0.1)\">\r\n       <use xlink:href=\"#DejaVuSans-53\"/>\r\n      </g>\r\n     </g>\r\n    </g>\r\n    <g id=\"ytick_3\">\r\n     <g id=\"line2d_10\">\r\n      <g>\r\n       <use style=\"stroke:#000000;stroke-width:0.8;\" x=\"26.925\" xlink:href=\"#m6754640d60\" y=\"78.949219\"/>\r\n      </g>\r\n     </g>\r\n     <g id=\"text_10\">\r\n      <!-- 10 -->\r\n      <g transform=\"translate(7.2 82.748437)scale(0.1 -0.1)\">\r\n       <use xlink:href=\"#DejaVuSans-49\"/>\r\n       <use x=\"63.623047\" xlink:href=\"#DejaVuSans-48\"/>\r\n      </g>\r\n     </g>\r\n    </g>\r\n    <g id=\"ytick_4\">\r\n     <g id=\"line2d_11\">\r\n      <g>\r\n       <use style=\"stroke:#000000;stroke-width:0.8;\" x=\"26.925\" xlink:href=\"#m6754640d60\" y=\"112.924219\"/>\r\n      </g>\r\n     </g>\r\n     <g id=\"text_11\">\r\n      <!-- 15 -->\r\n      <g transform=\"translate(7.2 116.723437)scale(0.1 -0.1)\">\r\n       <use xlink:href=\"#DejaVuSans-49\"/>\r\n       <use x=\"63.623047\" xlink:href=\"#DejaVuSans-53\"/>\r\n      </g>\r\n     </g>\r\n    </g>\r\n    <g id=\"ytick_5\">\r\n     <g id=\"line2d_12\">\r\n      <g>\r\n       <use style=\"stroke:#000000;stroke-width:0.8;\" x=\"26.925\" xlink:href=\"#m6754640d60\" y=\"146.899219\"/>\r\n      </g>\r\n     </g>\r\n     <g id=\"text_12\">\r\n      <!-- 20 -->\r\n      <g transform=\"translate(7.2 150.698437)scale(0.1 -0.1)\">\r\n       <use xlink:href=\"#DejaVuSans-50\"/>\r\n       <use x=\"63.623047\" xlink:href=\"#DejaVuSans-48\"/>\r\n      </g>\r\n     </g>\r\n    </g>\r\n    <g id=\"ytick_6\">\r\n     <g id=\"line2d_13\">\r\n      <g>\r\n       <use style=\"stroke:#000000;stroke-width:0.8;\" x=\"26.925\" xlink:href=\"#m6754640d60\" y=\"180.874219\"/>\r\n      </g>\r\n     </g>\r\n     <g id=\"text_13\">\r\n      <!-- 25 -->\r\n      <g transform=\"translate(7.2 184.673437)scale(0.1 -0.1)\">\r\n       <use xlink:href=\"#DejaVuSans-50\"/>\r\n       <use x=\"63.623047\" xlink:href=\"#DejaVuSans-53\"/>\r\n      </g>\r\n     </g>\r\n    </g>\r\n    <g id=\"ytick_7\">\r\n     <g id=\"line2d_14\">\r\n      <g>\r\n       <use style=\"stroke:#000000;stroke-width:0.8;\" x=\"26.925\" xlink:href=\"#m6754640d60\" y=\"214.849219\"/>\r\n      </g>\r\n     </g>\r\n     <g id=\"text_14\">\r\n      <!-- 30 -->\r\n      <g transform=\"translate(7.2 218.648437)scale(0.1 -0.1)\">\r\n       <use xlink:href=\"#DejaVuSans-51\"/>\r\n       <use x=\"63.623047\" xlink:href=\"#DejaVuSans-48\"/>\r\n      </g>\r\n     </g>\r\n    </g>\r\n   </g>\r\n   <g id=\"patch_3\">\r\n    <path d=\"M 26.925 225.041719 \r\nL 26.925 7.601719 \r\n\" style=\"fill:none;stroke:#000000;stroke-linecap:square;stroke-linejoin:miter;stroke-width:0.8;\"/>\r\n   </g>\r\n   <g id=\"patch_4\">\r\n    <path d=\"M 244.365 225.041719 \r\nL 244.365 7.601719 \r\n\" style=\"fill:none;stroke:#000000;stroke-linecap:square;stroke-linejoin:miter;stroke-width:0.8;\"/>\r\n   </g>\r\n   <g id=\"patch_5\">\r\n    <path d=\"M 26.925 225.041719 \r\nL 244.365 225.041719 \r\n\" style=\"fill:none;stroke:#000000;stroke-linecap:square;stroke-linejoin:miter;stroke-width:0.8;\"/>\r\n   </g>\r\n   <g id=\"patch_6\">\r\n    <path d=\"M 26.925 7.601719 \r\nL 244.365 7.601719 \r\n\" style=\"fill:none;stroke:#000000;stroke-linecap:square;stroke-linejoin:miter;stroke-width:0.8;\"/>\r\n   </g>\r\n  </g>\r\n </g>\r\n <defs>\r\n  <clipPath id=\"pf58e6074f5\">\r\n   <rect height=\"217.44\" width=\"217.44\" x=\"26.925\" y=\"7.601719\"/>\r\n  </clipPath>\r\n </defs>\r\n</svg>\r\n",
      "image/png": "[encoded data removed]"
     },
     "metadata": {
      "needs_background": "light"
     }
    }
   ],
   "source": [
    "choix = r\"Testing\\z_coeur\\COEUR-thomas.png\"\n",
    "test_image = image.load_img(choix, target_size = (32,32))\n",
    "plt.imshow(test_image)\n",
    "test_image = image.img_to_array(test_image)\n",
    "test_image = np.expand_dims(test_image, axis = 0)\n",
    "\n"
   ]
  },
  {
   "source": [
    "## 7. Test du modèle"
   ],
   "cell_type": "markdown",
   "metadata": {}
  },
  {
   "cell_type": "code",
   "execution_count": 9,
   "metadata": {},
   "outputs": [
    {
     "output_type": "stream",
     "name": "stdout",
     "text": [
      "La lettre correspondante est: <3\n"
     ]
    }
   ],
   "source": [
    "resultat = model.predict(test_image)\n",
    "resultat = get_result(resultat)\n",
    "print(f\"La lettre correspondante est: {resultat}\")"
   ]
  },
  {
   "cell_type": "code",
   "execution_count": null,
   "metadata": {},
   "outputs": [],
   "source": []
  }
 ]
}