{
 "metadata": {
  "language_info": {
   "codemirror_mode": {
    "name": "ipython",
    "version": 3
   },
   "file_extension": ".py",
   "mimetype": "text/x-python",
   "name": "python",
   "nbconvert_exporter": "python",
   "pygments_lexer": "ipython3",
   "version": "3.7.9-final"
  },
  "orig_nbformat": 2,
  "kernelspec": {
   "name": "Python 3.7.9 64-bit ('nuage-compta': conda)",
   "display_name": "Python 3.7.9 64-bit ('nuage-compta': conda)",
   "metadata": {
    "interpreter": {
     "hash": "b07fb1bdfb6e658399c131de73b574750a1a70aa8e8e367cfa79ae7762ac5fe0"
    }
   }
  }
 },
 "nbformat": 4,
 "nbformat_minor": 2,
 "cells": [
  {
   "source": [
    "## 0. Import des librairies"
   ],
   "cell_type": "markdown",
   "metadata": {}
  },
  {
   "cell_type": "code",
   "execution_count": 1,
   "metadata": {},
   "outputs": [
    {
     "output_type": "stream",
     "name": "stderr",
     "text": [
      "Using TensorFlow backend.\n"
     ]
    }
   ],
   "source": [
    "import numpy as np\n",
    "import matplotlib.pyplot as plt\n",
    "from keras.preprocessing.image import ImageDataGenerator\n",
    "from keras.preprocessing import image\n",
    "import keras\n",
    "from keras import metrics\n",
    "from keras.models import Sequential\n",
    "from keras.layers import Conv2D, MaxPooling2D, Flatten, Dense, Activation\n",
    "import os\n",
    "import pickle\n",
    "import import_auto\n"
   ]
  },
  {
   "cell_type": "code",
   "execution_count": 2,
   "metadata": {},
   "outputs": [],
   "source": [
    "import_auto.import_fichier_train()"
   ]
  },
  {
   "cell_type": "code",
   "execution_count": 3,
   "metadata": {},
   "outputs": [],
   "source": [
    "import_auto.import_fichier_test()"
   ]
  },
  {
   "source": [
    "## 1. Import des Datasets"
   ],
   "cell_type": "markdown",
   "metadata": {}
  },
  {
   "cell_type": "code",
   "execution_count": 4,
   "metadata": {},
   "outputs": [
    {
     "output_type": "stream",
     "name": "stdout",
     "text": [
      "Found 5007 images belonging to 26 classes.\nFound 76 images belonging to 26 classes.\n"
     ]
    }
   ],
   "source": [
    "# ImageDataGenerator génère des lots de données d'image vectorielles, convertissant les coefficients RVB compris entre 0 et 255 en valeurs cibles comprises entre 0 et 1 par mise à l'échelle avec un facteur de 1/255 à l' aide de la remise à l' échelle\n",
    "\n",
    "train_datagen = ImageDataGenerator(rescale = 1./255,\n",
    "                                   shear_range = 0.2,           # shear_range est utilisé pour appliquer de manière aléatoire des transformations de cisaillement\n",
    "                                   zoom_range = 0.2,            # zoom_range est utilisé pour zoomer aléatoirement à l'intérieur des images\n",
    "                                   horizontal_flip = True)      # horizontal_flip est utilisé pour retourner au hasard la moitié des images horizontalement\n",
    "\n",
    "test_datagen = ImageDataGenerator(rescale = 1./255)\n",
    "\n",
    "\n",
    "# Ensuite, nous importons les images une par une à partir des répertoires en utilisant .flow_from_directory et y appliquons ImageDataGenerator.\n",
    "train_generator = train_datagen.flow_from_directory(\n",
    "    directory = \"data_set_reduit_training\",                     # Choix de mon repertoire\n",
    "    target_size = (32,32),                                      # Nous convertissons ensuite les images de leur taille d'origine à notre target_size\n",
    "    batch_size = 32,                                            # Nombre batch_size qui fait référence au nombre d'exemples d'entraînement utilisés dans une                                                                        itération\n",
    "    class_mode = \"categorical\"                         # Nous définissons le class_mode sur catégorique indiquant que nous avons plusieurs                                                                                 classes (a à z) à prédire.\n",
    "\n",
    ")\n",
    "\n",
    "test_generator = test_datagen.flow_from_directory(\n",
    "    directory = \"data_set_reduit_test\",\n",
    "    target_size = (32,32),\n",
    "    batch_size = 32,\n",
    "    class_mode = \"categorical\"\n",
    "\n",
    ")"
   ]
  },
  {
   "source": [
    "## 2. Definition du modèle d'architecture"
   ],
   "cell_type": "markdown",
   "metadata": {}
  },
  {
   "cell_type": "code",
   "execution_count": 5,
   "metadata": {},
   "outputs": [
    {
     "output_type": "stream",
     "name": "stdout",
     "text": [
      "Model: \"sequential_1\"\n_________________________________________________________________\nLayer (type)                 Output Shape              Param #   \n=================================================================\nconv2d_1 (Conv2D)            (None, 30, 30, 32)        896       \n_________________________________________________________________\nmax_pooling2d_1 (MaxPooling2 (None, 15, 15, 32)        0         \n_________________________________________________________________\nconv2d_2 (Conv2D)            (None, 13, 13, 32)        9248      \n_________________________________________________________________\nmax_pooling2d_2 (MaxPooling2 (None, 6, 6, 32)          0         \n_________________________________________________________________\nflatten_1 (Flatten)          (None, 1152)              0         \n_________________________________________________________________\ndense_1 (Dense)              (None, 128)               147584    \n_________________________________________________________________\ndense_2 (Dense)              (None, 26)                3354      \n=================================================================\nTotal params: 161,082\nTrainable params: 161,082\nNon-trainable params: 0\n_________________________________________________________________\n"
     ]
    }
   ],
   "source": [
    "# Création d'un modèle séquentiel qui permet de définir l'architecture CNN couche par couche à l'aide de la fonction .add .Nous ajoutons d'abord une couche de convolution avec 32 filtres de taille 3X3 sur les images d'entrée et la passons à travers la fonction d'activation 'relu'.Nous effectuons ensuite des opérations MaxPooling en utilisant un pool de taille 2X2 \n",
    "model = Sequential()\n",
    "model.add(Conv2D(32, (3, 3), input_shape = (32,32,3), activation = \"relu\"))\n",
    "model.add(MaxPooling2D(pool_size = (2, 2)))\n",
    "\n",
    "# Ces couches sont ensuite répétées à nouveau pour améliorer les performances du modèle.\n",
    "\n",
    "model.add(Conv2D(32, (3, 3), activation = \"relu\"))\n",
    "model.add(MaxPooling2D(pool_size = (2, 2)))\n",
    "\n",
    "# Enfin, nous aplatissons notre matrice résultante et la passons à travers une couche dense composée de 128 nœuds. Celui-ci est ensuite connecté à la couche de sortie constituée de 26 nœuds, chaque nœud représentant un alphabet\n",
    "\n",
    "model.add(Flatten())\n",
    "model.add(Dense(units = 128, activation = \"relu\"))\n",
    "model.add(Dense(units = 26, activation = \"softmax\"))        # Nous utilisons l' activation softmax qui convertit les scores en une distribution de probabilité                                                                   normalisée, et le nœud avec la probabilité la plus élevée est sélectionné comme sortie\n",
    "\n",
    "# Une fois notre architecture CNN définie, nous compilons le modèle à l'aide de l'optimiseur Adam \n",
    "model.compile(optimizer = \"adam\", loss = \"categorical_crossentropy\", metrics = [\"accuracy\"])\n",
    "\n",
    "model.summary()"
   ]
  },
  {
   "source": [
    "## 3. Entrainement du modèle"
   ],
   "cell_type": "markdown",
   "metadata": {}
  },
  {
   "cell_type": "code",
   "execution_count": 6,
   "metadata": {},
   "outputs": [
    {
     "output_type": "stream",
     "name": "stdout",
     "text": [
      "Epoch 1/30\n",
      "32/32 [==============================] - 2s 64ms/step - loss: 2.9744 - accuracy: 0.1553 - val_loss: 2.5994 - val_accuracy: 0.3167\n",
      "Epoch 2/30\n",
      "32/32 [==============================] - 2s 57ms/step - loss: 1.9451 - accuracy: 0.4326 - val_loss: 2.1284 - val_accuracy: 0.5473\n",
      "Epoch 3/30\n",
      "32/32 [==============================] - 2s 61ms/step - loss: 1.5011 - accuracy: 0.5488 - val_loss: 1.3052 - val_accuracy: 0.5833\n",
      "Epoch 4/30\n",
      "32/32 [==============================] - 2s 54ms/step - loss: 1.2731 - accuracy: 0.6035 - val_loss: 1.1208 - val_accuracy: 0.6723\n",
      "Epoch 5/30\n",
      "32/32 [==============================] - 2s 60ms/step - loss: 1.0145 - accuracy: 0.6713 - val_loss: 1.2669 - val_accuracy: 0.6405\n",
      "Epoch 6/30\n",
      "32/32 [==============================] - 2s 54ms/step - loss: 0.8813 - accuracy: 0.7207 - val_loss: 1.5550 - val_accuracy: 0.6430\n",
      "Epoch 7/30\n",
      "32/32 [==============================] - 2s 54ms/step - loss: 0.8430 - accuracy: 0.7197 - val_loss: 1.0900 - val_accuracy: 0.6954\n",
      "Epoch 8/30\n",
      "32/32 [==============================] - 2s 57ms/step - loss: 0.7178 - accuracy: 0.7754 - val_loss: 0.7695 - val_accuracy: 0.7525\n",
      "Epoch 9/30\n",
      "32/32 [==============================] - 2s 54ms/step - loss: 0.7454 - accuracy: 0.7726 - val_loss: 1.0884 - val_accuracy: 0.7363\n",
      "Epoch 10/30\n",
      "32/32 [==============================] - 2s 57ms/step - loss: 0.6617 - accuracy: 0.7871 - val_loss: 0.6128 - val_accuracy: 0.7488\n",
      "Epoch 11/30\n",
      "32/32 [==============================] - 2s 57ms/step - loss: 0.6152 - accuracy: 0.7920 - val_loss: 1.0095 - val_accuracy: 0.7724\n",
      "Epoch 12/30\n",
      "32/32 [==============================] - 2s 54ms/step - loss: 0.5920 - accuracy: 0.8076 - val_loss: 1.2242 - val_accuracy: 0.7923\n",
      "Epoch 13/30\n",
      "32/32 [==============================] - 2s 57ms/step - loss: 0.5702 - accuracy: 0.8145 - val_loss: 0.6768 - val_accuracy: 0.8180\n",
      "Epoch 14/30\n",
      "32/32 [==============================] - 2s 57ms/step - loss: 0.5381 - accuracy: 0.8302 - val_loss: 0.6814 - val_accuracy: 0.7886\n",
      "Epoch 15/30\n",
      "32/32 [==============================] - 2s 54ms/step - loss: 0.5503 - accuracy: 0.8320 - val_loss: 0.2998 - val_accuracy: 0.7923\n",
      "Epoch 16/30\n",
      "32/32 [==============================] - 2s 57ms/step - loss: 0.4444 - accuracy: 0.8471 - val_loss: 0.3538 - val_accuracy: 0.7900\n",
      "Epoch 17/30\n",
      "32/32 [==============================] - 2s 60ms/step - loss: 0.4922 - accuracy: 0.8320 - val_loss: 0.8926 - val_accuracy: 0.7575\n",
      "Epoch 18/30\n",
      "32/32 [==============================] - 2s 54ms/step - loss: 0.4557 - accuracy: 0.8740 - val_loss: 0.8990 - val_accuracy: 0.8035\n",
      "Epoch 19/30\n",
      "32/32 [==============================] - 2s 54ms/step - loss: 0.4297 - accuracy: 0.8574 - val_loss: 0.4374 - val_accuracy: 0.8544\n",
      "Epoch 20/30\n",
      "32/32 [==============================] - 2s 60ms/step - loss: 0.4068 - accuracy: 0.8770 - val_loss: 0.6105 - val_accuracy: 0.8147\n",
      "Epoch 21/30\n",
      "32/32 [==============================] - 2s 54ms/step - loss: 0.3484 - accuracy: 0.8828 - val_loss: 0.7846 - val_accuracy: 0.7898\n",
      "Epoch 22/30\n",
      "32/32 [==============================] - 2s 54ms/step - loss: 0.3665 - accuracy: 0.8721 - val_loss: 0.2724 - val_accuracy: 0.8265\n",
      "Epoch 23/30\n",
      "32/32 [==============================] - 2s 57ms/step - loss: 0.4074 - accuracy: 0.8709 - val_loss: 0.4291 - val_accuracy: 0.7910\n",
      "Epoch 24/30\n",
      "32/32 [==============================] - 2s 54ms/step - loss: 0.3900 - accuracy: 0.8730 - val_loss: 0.6433 - val_accuracy: 0.8308\n",
      "Epoch 25/30\n",
      "32/32 [==============================] - 2s 57ms/step - loss: 0.3863 - accuracy: 0.8828 - val_loss: 0.3856 - val_accuracy: 0.8022\n",
      "Epoch 26/30\n",
      "32/32 [==============================] - 2s 57ms/step - loss: 0.3367 - accuracy: 0.8878 - val_loss: 0.6781 - val_accuracy: 0.8271\n",
      "Epoch 27/30\n",
      "32/32 [==============================] - 2s 54ms/step - loss: 0.3407 - accuracy: 0.8965 - val_loss: 0.4936 - val_accuracy: 0.7649\n",
      "Epoch 28/30\n",
      "32/32 [==============================] - 2s 57ms/step - loss: 0.3396 - accuracy: 0.9023 - val_loss: 0.3588 - val_accuracy: 0.8289\n",
      "Epoch 29/30\n",
      "32/32 [==============================] - 2s 57ms/step - loss: 0.3496 - accuracy: 0.8770 - val_loss: 0.2797 - val_accuracy: 0.8159\n",
      "Epoch 30/30\n",
      "32/32 [==============================] - 2s 57ms/step - loss: 0.3234 - accuracy: 0.8936 - val_loss: 0.3412 - val_accuracy: 0.7587\n",
      "Test de perte: 0.3363966941833496\n",
      "Test de précision: 0.8855602145195007\n"
     ]
    }
   ],
   "source": [
    "### Je décide de créer 30 répétitions, et j'ai X2 les steps_per_epoch pour augmenter notre précision ###\n",
    "entrainement = model.fit_generator(train_generator,\n",
    "                         steps_per_epoch = 32,\n",
    "                         epochs = 30,\n",
    "                         validation_data = test_generator,\n",
    "                         validation_steps = 32)\n",
    "\n",
    "score = model.evaluate(train_generator, verbose=0)\n",
    "print('Test de perte:', score[0])\n",
    "print('Test de précision:', score[1])\n"
   ]
  },
  {
   "source": [
    "## 4. Enregistrement & chargement du modèle"
   ],
   "cell_type": "markdown",
   "metadata": {}
  },
  {
   "cell_type": "code",
   "execution_count": 7,
   "metadata": {},
   "outputs": [],
   "source": [
    "pickle.dump(model, open(\"mon_model.sav\", \"wb\"))\n",
    "model = pickle.load(open(\"mon_model.sav\",\"rb\"))"
   ]
  },
  {
   "source": [
    "## 5. Création d'une fonction qui renvois l'alphabet associé au résultat"
   ],
   "cell_type": "markdown",
   "metadata": {}
  },
  {
   "cell_type": "code",
   "execution_count": 8,
   "metadata": {},
   "outputs": [],
   "source": [
    "def get_result(result):\n",
    "    if result[0][0] == 1:\n",
    "        return(\"a\")\n",
    "    elif result[0][1] == 1:\n",
    "        return (\"b\")\n",
    "    elif result[0][2] == 1:\n",
    "        return (\"c\")\n",
    "    elif result[0][3] == 1:\n",
    "        return (\"d\")\n",
    "    elif result[0][4] == 1:\n",
    "        return (\"e\")\n",
    "    elif result[0][5] == 1:\n",
    "        return (\"f\")\n",
    "    elif result[0][6] == 1:\n",
    "        return (\"g\")\n",
    "    elif result[0][7] == 1:\n",
    "        return (\"h\")\n",
    "    elif result[0][8] == 1:\n",
    "        return (\"i\")\n",
    "    elif result[0][9] == 1:\n",
    "        return (\"j\")\n",
    "    elif result[0][10] == 1:\n",
    "        return (\"k\")\n",
    "    elif result[0][11] == 1:\n",
    "        return (\"l\")\n",
    "    elif result[0][12] == 1:\n",
    "        return (\"m\")\n",
    "    elif result[0][13] == 1:\n",
    "        return (\"n\")\n",
    "    elif result[0][14] == 1:\n",
    "        return (\"o\")\n",
    "    elif result[0][15] == 1:\n",
    "        return (\"p\")\n",
    "    elif result[0][16] == 1:\n",
    "        return (\"q\")\n",
    "    elif result[0][17] == 1:\n",
    "        return (\"r\")\n",
    "    elif result[0][18] == 1:\n",
    "        return (\"s\")\n",
    "    elif result[0][19] == 1:\n",
    "        return (\"t\")\n",
    "    elif result[0][20] == 1:\n",
    "        return (\"u\")\n",
    "    elif result[0][21] == 1:\n",
    "        return (\"v\")\n",
    "    elif result[0][22] == 1:\n",
    "        return (\"w\")\n",
    "    elif result[0][23] == 1:\n",
    "        return (\"x\")\n",
    "    elif result[0][24] == 1:\n",
    "        return (\"y\")\n",
    "    elif result[0][25] == 1:\n",
    "        return (\"z\")\n",
    "    elif result[0][26] == 1:                # Création du symbole <3\n",
    "        return (\"<3\")"
   ]
  },
  {
   "source": [
    "## 6. Choix de l'image à envoyer"
   ],
   "cell_type": "markdown",
   "metadata": {}
  },
  {
   "cell_type": "code",
   "execution_count": 19,
   "metadata": {},
   "outputs": [
    {
     "output_type": "display_data",
     "data": {
      "text/plain": "<Figure size 432x288 with 1 Axes>",
      "image/svg+xml": "<?xml version=\"1.0\" encoding=\"utf-8\" standalone=\"no\"?>\r\n<!DOCTYPE svg PUBLIC \"-//W3C//DTD SVG 1.1//EN\"\r\n  \"http://www.w3.org/Graphics/SVG/1.1/DTD/svg11.dtd\">\r\n<!-- Created with matplotlib (https://matplotlib.org/) -->\r\n<svg height=\"248.919844pt\" version=\"1.1\" viewBox=\"0 0 251.565 248.919844\" width=\"251.565pt\" xmlns=\"http://www.w3.org/2000/svg\" xmlns:xlink=\"http://www.w3.org/1999/xlink\">\r\n <metadata>\r\n  <rdf:RDF xmlns:cc=\"http://creativecommons.org/ns#\" xmlns:dc=\"http://purl.org/dc/elements/1.1/\" xmlns:rdf=\"http://www.w3.org/1999/02/22-rdf-syntax-ns#\">\r\n   <cc:Work>\r\n    <dc:type rdf:resource=\"http://purl.org/dc/dcmitype/StillImage\"/>\r\n    <dc:date>2020-11-06T17:13:19.162397</dc:date>\r\n    <dc:format>image/svg+xml</dc:format>\r\n    <dc:creator>\r\n     <cc:Agent>\r\n      <dc:title>Matplotlib v3.3.2, https://matplotlib.org/</dc:title>\r\n     </cc:Agent>\r\n    </dc:creator>\r\n   </cc:Work>\r\n  </rdf:RDF>\r\n </metadata>\r\n <defs>\r\n  <style type=\"text/css\">*{stroke-linecap:butt;stroke-linejoin:round;}</style>\r\n </defs>\r\n <g id=\"figure_1\">\r\n  <g id=\"patch_1\">\r\n   <path d=\"M 0 248.919844 \r\nL 251.565 248.919844 \r\nL 251.565 0 \r\nL 0 0 \r\nz\r\n\" style=\"fill:none;\"/>\r\n  </g>\r\n  <g id=\"axes_1\">\r\n   <g id=\"patch_2\">\r\n    <path d=\"M 26.925 225.041719 \r\nL 244.365 225.041719 \r\nL 244.365 7.601719 \r\nL 26.925 7.601719 \r\nz\r\n\" style=\"fill:#ffffff;\"/>\r\n   </g>\r\n   <g clip-path=\"url(#p17c9a1e4c1)\">\r\n    <image height=\"218\" id=\"image5cdd402b49\" transform=\"scale(1 -1)translate(0 -218)\" width=\"218\" x=\"26.925\" xlink:href=\"data:image/png;base64,\r\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\" y=\"-7.041719\"/>\r\n   </g>\r\n   <g id=\"matplotlib.axis_1\">\r\n    <g id=\"xtick_1\">\r\n     <g id=\"line2d_1\">\r\n      <defs>\r\n       <path d=\"M 0 0 \r\nL 0 3.5 \r\n\" id=\"m8c49c859e7\" style=\"stroke:#000000;stroke-width:0.8;\"/>\r\n      </defs>\r\n      <g>\r\n       <use style=\"stroke:#000000;stroke-width:0.8;\" x=\"30.3225\" xlink:href=\"#m8c49c859e7\" y=\"225.041719\"/>\r\n      </g>\r\n     </g>\r\n     <g id=\"text_1\">\r\n      <!-- 0 -->\r\n      <g transform=\"translate(27.14125 239.640156)scale(0.1 -0.1)\">\r\n       <defs>\r\n        <path d=\"M 31.78125 66.40625 \r\nQ 24.171875 66.40625 20.328125 58.90625 \r\nQ 16.5 51.421875 16.5 36.375 \r\nQ 16.5 21.390625 20.328125 13.890625 \r\nQ 24.171875 6.390625 31.78125 6.390625 \r\nQ 39.453125 6.390625 43.28125 13.890625 \r\nQ 47.125 21.390625 47.125 36.375 \r\nQ 47.125 51.421875 43.28125 58.90625 \r\nQ 39.453125 66.40625 31.78125 66.40625 \r\nz\r\nM 31.78125 74.21875 \r\nQ 44.046875 74.21875 50.515625 64.515625 \r\nQ 56.984375 54.828125 56.984375 36.375 \r\nQ 56.984375 17.96875 50.515625 8.265625 \r\nQ 44.046875 -1.421875 31.78125 -1.421875 \r\nQ 19.53125 -1.421875 13.0625 8.265625 \r\nQ 6.59375 17.96875 6.59375 36.375 \r\nQ 6.59375 54.828125 13.0625 64.515625 \r\nQ 19.53125 74.21875 31.78125 74.21875 \r\nz\r\n\" id=\"DejaVuSans-48\"/>\r\n       </defs>\r\n       <use xlink:href=\"#DejaVuSans-48\"/>\r\n      </g>\r\n     </g>\r\n    </g>\r\n    <g id=\"xtick_2\">\r\n     <g id=\"line2d_2\">\r\n      <g>\r\n       <use style=\"stroke:#000000;stroke-width:0.8;\" x=\"64.2975\" xlink:href=\"#m8c49c859e7\" y=\"225.041719\"/>\r\n      </g>\r\n     </g>\r\n     <g id=\"text_2\">\r\n      <!-- 5 -->\r\n      <g transform=\"translate(61.11625 239.640156)scale(0.1 -0.1)\">\r\n       <defs>\r\n        <path d=\"M 10.796875 72.90625 \r\nL 49.515625 72.90625 \r\nL 49.515625 64.59375 \r\nL 19.828125 64.59375 \r\nL 19.828125 46.734375 \r\nQ 21.96875 47.46875 24.109375 47.828125 \r\nQ 26.265625 48.1875 28.421875 48.1875 \r\nQ 40.625 48.1875 47.75 41.5 \r\nQ 54.890625 34.8125 54.890625 23.390625 \r\nQ 54.890625 11.625 47.5625 5.09375 \r\nQ 40.234375 -1.421875 26.90625 -1.421875 \r\nQ 22.3125 -1.421875 17.546875 -0.640625 \r\nQ 12.796875 0.140625 7.71875 1.703125 \r\nL 7.71875 11.625 \r\nQ 12.109375 9.234375 16.796875 8.0625 \r\nQ 21.484375 6.890625 26.703125 6.890625 \r\nQ 35.15625 6.890625 40.078125 11.328125 \r\nQ 45.015625 15.765625 45.015625 23.390625 \r\nQ 45.015625 31 40.078125 35.4375 \r\nQ 35.15625 39.890625 26.703125 39.890625 \r\nQ 22.75 39.890625 18.8125 39.015625 \r\nQ 14.890625 38.140625 10.796875 36.28125 \r\nz\r\n\" id=\"DejaVuSans-53\"/>\r\n       </defs>\r\n       <use xlink:href=\"#DejaVuSans-53\"/>\r\n      </g>\r\n     </g>\r\n    </g>\r\n    <g id=\"xtick_3\">\r\n     <g id=\"line2d_3\">\r\n      <g>\r\n       <use style=\"stroke:#000000;stroke-width:0.8;\" x=\"98.2725\" xlink:href=\"#m8c49c859e7\" y=\"225.041719\"/>\r\n      </g>\r\n     </g>\r\n     <g id=\"text_3\">\r\n      <!-- 10 -->\r\n      <g transform=\"translate(91.91 239.640156)scale(0.1 -0.1)\">\r\n       <defs>\r\n        <path d=\"M 12.40625 8.296875 \r\nL 28.515625 8.296875 \r\nL 28.515625 63.921875 \r\nL 10.984375 60.40625 \r\nL 10.984375 69.390625 \r\nL 28.421875 72.90625 \r\nL 38.28125 72.90625 \r\nL 38.28125 8.296875 \r\nL 54.390625 8.296875 \r\nL 54.390625 0 \r\nL 12.40625 0 \r\nz\r\n\" id=\"DejaVuSans-49\"/>\r\n       </defs>\r\n       <use xlink:href=\"#DejaVuSans-49\"/>\r\n       <use x=\"63.623047\" xlink:href=\"#DejaVuSans-48\"/>\r\n      </g>\r\n     </g>\r\n    </g>\r\n    <g id=\"xtick_4\">\r\n     <g id=\"line2d_4\">\r\n      <g>\r\n       <use style=\"stroke:#000000;stroke-width:0.8;\" x=\"132.2475\" xlink:href=\"#m8c49c859e7\" y=\"225.041719\"/>\r\n      </g>\r\n     </g>\r\n     <g id=\"text_4\">\r\n      <!-- 15 -->\r\n      <g transform=\"translate(125.885 239.640156)scale(0.1 -0.1)\">\r\n       <use xlink:href=\"#DejaVuSans-49\"/>\r\n       <use x=\"63.623047\" xlink:href=\"#DejaVuSans-53\"/>\r\n      </g>\r\n     </g>\r\n    </g>\r\n    <g id=\"xtick_5\">\r\n     <g id=\"line2d_5\">\r\n      <g>\r\n       <use style=\"stroke:#000000;stroke-width:0.8;\" x=\"166.2225\" xlink:href=\"#m8c49c859e7\" y=\"225.041719\"/>\r\n      </g>\r\n     </g>\r\n     <g id=\"text_5\">\r\n      <!-- 20 -->\r\n      <g transform=\"translate(159.86 239.640156)scale(0.1 -0.1)\">\r\n       <defs>\r\n        <path d=\"M 19.1875 8.296875 \r\nL 53.609375 8.296875 \r\nL 53.609375 0 \r\nL 7.328125 0 \r\nL 7.328125 8.296875 \r\nQ 12.9375 14.109375 22.625 23.890625 \r\nQ 32.328125 33.6875 34.8125 36.53125 \r\nQ 39.546875 41.84375 41.421875 45.53125 \r\nQ 43.3125 49.21875 43.3125 52.78125 \r\nQ 43.3125 58.59375 39.234375 62.25 \r\nQ 35.15625 65.921875 28.609375 65.921875 \r\nQ 23.96875 65.921875 18.8125 64.3125 \r\nQ 13.671875 62.703125 7.8125 59.421875 \r\nL 7.8125 69.390625 \r\nQ 13.765625 71.78125 18.9375 73 \r\nQ 24.125 74.21875 28.421875 74.21875 \r\nQ 39.75 74.21875 46.484375 68.546875 \r\nQ 53.21875 62.890625 53.21875 53.421875 \r\nQ 53.21875 48.921875 51.53125 44.890625 \r\nQ 49.859375 40.875 45.40625 35.40625 \r\nQ 44.1875 33.984375 37.640625 27.21875 \r\nQ 31.109375 20.453125 19.1875 8.296875 \r\nz\r\n\" id=\"DejaVuSans-50\"/>\r\n       </defs>\r\n       <use xlink:href=\"#DejaVuSans-50\"/>\r\n       <use x=\"63.623047\" xlink:href=\"#DejaVuSans-48\"/>\r\n      </g>\r\n     </g>\r\n    </g>\r\n    <g id=\"xtick_6\">\r\n     <g id=\"line2d_6\">\r\n      <g>\r\n       <use style=\"stroke:#000000;stroke-width:0.8;\" x=\"200.1975\" xlink:href=\"#m8c49c859e7\" y=\"225.041719\"/>\r\n      </g>\r\n     </g>\r\n     <g id=\"text_6\">\r\n      <!-- 25 -->\r\n      <g transform=\"translate(193.835 239.640156)scale(0.1 -0.1)\">\r\n       <use xlink:href=\"#DejaVuSans-50\"/>\r\n       <use x=\"63.623047\" xlink:href=\"#DejaVuSans-53\"/>\r\n      </g>\r\n     </g>\r\n    </g>\r\n    <g id=\"xtick_7\">\r\n     <g id=\"line2d_7\">\r\n      <g>\r\n       <use style=\"stroke:#000000;stroke-width:0.8;\" x=\"234.1725\" xlink:href=\"#m8c49c859e7\" y=\"225.041719\"/>\r\n      </g>\r\n     </g>\r\n     <g id=\"text_7\">\r\n      <!-- 30 -->\r\n      <g transform=\"translate(227.81 239.640156)scale(0.1 -0.1)\">\r\n       <defs>\r\n        <path d=\"M 40.578125 39.3125 \r\nQ 47.65625 37.796875 51.625 33 \r\nQ 55.609375 28.21875 55.609375 21.1875 \r\nQ 55.609375 10.40625 48.1875 4.484375 \r\nQ 40.765625 -1.421875 27.09375 -1.421875 \r\nQ 22.515625 -1.421875 17.65625 -0.515625 \r\nQ 12.796875 0.390625 7.625 2.203125 \r\nL 7.625 11.71875 \r\nQ 11.71875 9.328125 16.59375 8.109375 \r\nQ 21.484375 6.890625 26.8125 6.890625 \r\nQ 36.078125 6.890625 40.9375 10.546875 \r\nQ 45.796875 14.203125 45.796875 21.1875 \r\nQ 45.796875 27.640625 41.28125 31.265625 \r\nQ 36.765625 34.90625 28.71875 34.90625 \r\nL 20.21875 34.90625 \r\nL 20.21875 43.015625 \r\nL 29.109375 43.015625 \r\nQ 36.375 43.015625 40.234375 45.921875 \r\nQ 44.09375 48.828125 44.09375 54.296875 \r\nQ 44.09375 59.90625 40.109375 62.90625 \r\nQ 36.140625 65.921875 28.71875 65.921875 \r\nQ 24.65625 65.921875 20.015625 65.03125 \r\nQ 15.375 64.15625 9.8125 62.3125 \r\nL 9.8125 71.09375 \r\nQ 15.4375 72.65625 20.34375 73.4375 \r\nQ 25.25 74.21875 29.59375 74.21875 \r\nQ 40.828125 74.21875 47.359375 69.109375 \r\nQ 53.90625 64.015625 53.90625 55.328125 \r\nQ 53.90625 49.265625 50.4375 45.09375 \r\nQ 46.96875 40.921875 40.578125 39.3125 \r\nz\r\n\" id=\"DejaVuSans-51\"/>\r\n       </defs>\r\n       <use xlink:href=\"#DejaVuSans-51\"/>\r\n       <use x=\"63.623047\" xlink:href=\"#DejaVuSans-48\"/>\r\n      </g>\r\n     </g>\r\n    </g>\r\n   </g>\r\n   <g id=\"matplotlib.axis_2\">\r\n    <g id=\"ytick_1\">\r\n     <g id=\"line2d_8\">\r\n      <defs>\r\n       <path d=\"M 0 0 \r\nL -3.5 0 \r\n\" id=\"m5ab0d3b4c3\" style=\"stroke:#000000;stroke-width:0.8;\"/>\r\n      </defs>\r\n      <g>\r\n       <use style=\"stroke:#000000;stroke-width:0.8;\" x=\"26.925\" xlink:href=\"#m5ab0d3b4c3\" y=\"10.999219\"/>\r\n      </g>\r\n     </g>\r\n     <g id=\"text_8\">\r\n      <!-- 0 -->\r\n      <g transform=\"translate(13.5625 14.798437)scale(0.1 -0.1)\">\r\n       <use xlink:href=\"#DejaVuSans-48\"/>\r\n      </g>\r\n     </g>\r\n    </g>\r\n    <g id=\"ytick_2\">\r\n     <g id=\"line2d_9\">\r\n      <g>\r\n       <use style=\"stroke:#000000;stroke-width:0.8;\" x=\"26.925\" xlink:href=\"#m5ab0d3b4c3\" y=\"44.974219\"/>\r\n      </g>\r\n     </g>\r\n     <g id=\"text_9\">\r\n      <!-- 5 -->\r\n      <g transform=\"translate(13.5625 48.773437)scale(0.1 -0.1)\">\r\n       <use xlink:href=\"#DejaVuSans-53\"/>\r\n      </g>\r\n     </g>\r\n    </g>\r\n    <g id=\"ytick_3\">\r\n     <g id=\"line2d_10\">\r\n      <g>\r\n       <use style=\"stroke:#000000;stroke-width:0.8;\" x=\"26.925\" xlink:href=\"#m5ab0d3b4c3\" y=\"78.949219\"/>\r\n      </g>\r\n     </g>\r\n     <g id=\"text_10\">\r\n      <!-- 10 -->\r\n      <g transform=\"translate(7.2 82.748437)scale(0.1 -0.1)\">\r\n       <use xlink:href=\"#DejaVuSans-49\"/>\r\n       <use x=\"63.623047\" xlink:href=\"#DejaVuSans-48\"/>\r\n      </g>\r\n     </g>\r\n    </g>\r\n    <g id=\"ytick_4\">\r\n     <g id=\"line2d_11\">\r\n      <g>\r\n       <use style=\"stroke:#000000;stroke-width:0.8;\" x=\"26.925\" xlink:href=\"#m5ab0d3b4c3\" y=\"112.924219\"/>\r\n      </g>\r\n     </g>\r\n     <g id=\"text_11\">\r\n      <!-- 15 -->\r\n      <g transform=\"translate(7.2 116.723437)scale(0.1 -0.1)\">\r\n       <use xlink:href=\"#DejaVuSans-49\"/>\r\n       <use x=\"63.623047\" xlink:href=\"#DejaVuSans-53\"/>\r\n      </g>\r\n     </g>\r\n    </g>\r\n    <g id=\"ytick_5\">\r\n     <g id=\"line2d_12\">\r\n      <g>\r\n       <use style=\"stroke:#000000;stroke-width:0.8;\" x=\"26.925\" xlink:href=\"#m5ab0d3b4c3\" y=\"146.899219\"/>\r\n      </g>\r\n     </g>\r\n     <g id=\"text_12\">\r\n      <!-- 20 -->\r\n      <g transform=\"translate(7.2 150.698437)scale(0.1 -0.1)\">\r\n       <use xlink:href=\"#DejaVuSans-50\"/>\r\n       <use x=\"63.623047\" xlink:href=\"#DejaVuSans-48\"/>\r\n      </g>\r\n     </g>\r\n    </g>\r\n    <g id=\"ytick_6\">\r\n     <g id=\"line2d_13\">\r\n      <g>\r\n       <use style=\"stroke:#000000;stroke-width:0.8;\" x=\"26.925\" xlink:href=\"#m5ab0d3b4c3\" y=\"180.874219\"/>\r\n      </g>\r\n     </g>\r\n     <g id=\"text_13\">\r\n      <!-- 25 -->\r\n      <g transform=\"translate(7.2 184.673437)scale(0.1 -0.1)\">\r\n       <use xlink:href=\"#DejaVuSans-50\"/>\r\n       <use x=\"63.623047\" xlink:href=\"#DejaVuSans-53\"/>\r\n      </g>\r\n     </g>\r\n    </g>\r\n    <g id=\"ytick_7\">\r\n     <g id=\"line2d_14\">\r\n      <g>\r\n       <use style=\"stroke:#000000;stroke-width:0.8;\" x=\"26.925\" xlink:href=\"#m5ab0d3b4c3\" y=\"214.849219\"/>\r\n      </g>\r\n     </g>\r\n     <g id=\"text_14\">\r\n      <!-- 30 -->\r\n      <g transform=\"translate(7.2 218.648437)scale(0.1 -0.1)\">\r\n       <use xlink:href=\"#DejaVuSans-51\"/>\r\n       <use x=\"63.623047\" xlink:href=\"#DejaVuSans-48\"/>\r\n      </g>\r\n     </g>\r\n    </g>\r\n   </g>\r\n   <g id=\"patch_3\">\r\n    <path d=\"M 26.925 225.041719 \r\nL 26.925 7.601719 \r\n\" style=\"fill:none;stroke:#000000;stroke-linecap:square;stroke-linejoin:miter;stroke-width:0.8;\"/>\r\n   </g>\r\n   <g id=\"patch_4\">\r\n    <path d=\"M 244.365 225.041719 \r\nL 244.365 7.601719 \r\n\" style=\"fill:none;stroke:#000000;stroke-linecap:square;stroke-linejoin:miter;stroke-width:0.8;\"/>\r\n   </g>\r\n   <g id=\"patch_5\">\r\n    <path d=\"M 26.925 225.041719 \r\nL 244.365 225.041719 \r\n\" style=\"fill:none;stroke:#000000;stroke-linecap:square;stroke-linejoin:miter;stroke-width:0.8;\"/>\r\n   </g>\r\n   <g id=\"patch_6\">\r\n    <path d=\"M 26.925 7.601719 \r\nL 244.365 7.601719 \r\n\" style=\"fill:none;stroke:#000000;stroke-linecap:square;stroke-linejoin:miter;stroke-width:0.8;\"/>\r\n   </g>\r\n  </g>\r\n </g>\r\n <defs>\r\n  <clipPath id=\"p17c9a1e4c1\">\r\n   <rect height=\"217.44\" width=\"217.44\" x=\"26.925\" y=\"7.601719\"/>\r\n  </clipPath>\r\n </defs>\r\n</svg>\r\n",
      "image/png": "[encoded data removed]"
     },
     "metadata": {
      "needs_background": "light"
     }
    }
   ],
   "source": [
    "choix = r\"Testing_image_Tom\\F-thomas.png\"\n",
    "test_image = image.load_img(choix, target_size = (32,32))\n",
    "plt.imshow(test_image)\n",
    "test_image = image.img_to_array(test_image)\n",
    "test_image = np.expand_dims(test_image, axis = 0)\n"
   ]
  },
  {
   "source": [
    "## 7. Test du modèle"
   ],
   "cell_type": "markdown",
   "metadata": {}
  },
  {
   "cell_type": "code",
   "execution_count": 20,
   "metadata": {},
   "outputs": [
    {
     "output_type": "stream",
     "name": "stdout",
     "text": [
      "La lettre correspondante est: f\n"
     ]
    }
   ],
   "source": [
    "resultat = model.predict(test_image)\n",
    "resultat = get_result(resultat)\n",
    "print(f\"La lettre correspondante est: {resultat}\")"
   ]
  },
  {
   "cell_type": "code",
   "execution_count": 21,
   "metadata": {},
   "outputs": [
    {
     "output_type": "stream",
     "name": "stdout",
     "text": [
      "3/3 [==============================] - 0s 10ms/step\n",
      "Test de perte: 0.34115561842918396\n",
      "Test de précision: 0.7631579041481018\n"
     ]
    }
   ],
   "source": [
    "score = model.evaluate(test_generator, verbose=1)\n",
    "print('Test de perte:', score[0])\n",
    "print('Test de précision:', score[1]) "
   ]
  },
  {
   "cell_type": "code",
   "execution_count": 12,
   "metadata": {},
   "outputs": [],
   "source": [
    "# predict_proba()."
   ]
  }
 ]
}