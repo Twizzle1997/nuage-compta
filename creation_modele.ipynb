{
 "metadata": {
  "language_info": {
   "codemirror_mode": {
    "name": "ipython",
    "version": 3
   },
   "file_extension": ".py",
   "mimetype": "text/x-python",
   "name": "python",
   "nbconvert_exporter": "python",
   "pygments_lexer": "ipython3",
   "version": "3.7.9-final"
  },
  "orig_nbformat": 2,
  "kernelspec": {
   "name": "python3",
   "display_name": "Python 3"
  }
 },
 "nbformat": 4,
 "nbformat_minor": 2,
 "cells": [
  {
   "source": [
    "# NUAGE COMPTA ET LA FACTURE S'ANALYSA\n",
    "# Création du modèle"
   ],
   "cell_type": "markdown",
   "metadata": {}
  },
  {
   "source": [
    "## 0. Import des librairies"
   ],
   "cell_type": "markdown",
   "metadata": {}
  },
  {
   "cell_type": "code",
   "execution_count": 1,
   "metadata": {},
   "outputs": [
    {
     "output_type": "stream",
     "name": "stderr",
     "text": [
      "Using TensorFlow backend.\n"
     ]
    }
   ],
   "source": [
    "import numpy as np\n",
    "import matplotlib.pyplot as plt\n",
    "from keras.preprocessing.image import ImageDataGenerator\n",
    "from keras.preprocessing import image\n",
    "import keras\n",
    "from keras import metrics\n",
    "from keras.models import Sequential, load_model\n",
    "from keras.layers import Conv2D, MaxPooling2D, Flatten, Dense, Activation\n",
    "import os\n",
    "import pickle\n",
    "import cv2\n",
    "import imutils\n",
    "from imutils.contours import sort_contours\n",
    "\n",
    "from src import fonctions"
   ]
  },
  {
   "source": [
    "## 1. Optimisation et nettoyage des données"
   ],
   "cell_type": "markdown",
   "metadata": {}
  },
  {
   "cell_type": "code",
   "execution_count": 2,
   "metadata": {},
   "outputs": [],
   "source": [
    "### Afin de réduire les temps d'attente et dans un soucis d'optimisation, je decide d'importer une fonction qui prend 200 png par lettres (suffisant ici). Ces images viennent s'ajouter au dossier dataset_reduit_train ###\n",
    "fonctions.import_fichier_train()"
   ]
  },
  {
   "cell_type": "code",
   "execution_count": 3,
   "metadata": {},
   "outputs": [],
   "source": [
    "### Afin de réduire les temps d'attente et dans un soucis d'optimisation, je decide d'importer une fonction qui prend 3 png par lettres (suffisant ici). Ces images viennent s'ajouter au dossier dataset_reduit_test ###\n",
    "fonctions.import_fichier_test()"
   ]
  },
  {
   "source": [
    "## 2. Import des Datasets"
   ],
   "cell_type": "markdown",
   "metadata": {}
  },
  {
   "cell_type": "code",
   "execution_count": 4,
   "metadata": {},
   "outputs": [
    {
     "output_type": "stream",
     "name": "stdout",
     "text": [
      "Found 5206 images belonging to 27 classes.\nFound 1566 images belonging to 27 classes.\n"
     ]
    }
   ],
   "source": [
    "### ImageDataGenerator génère des lots de données d'image vectorielles, convertissant les coefficients RVB compris entre 0 et 255 en valeurs cibles comprises entre 0 et 1 par mise à l'échelle avec un facteur de 1/255 à l' aide de la remise à l' échelle ###\n",
    "\n",
    "train_datagen = ImageDataGenerator(\n",
    "    rescale = 1./255,\n",
    "    ### shear_range est utilisé pour appliquer de manière aléatoire des transformations de cisaillement ###\n",
    "    shear_range = 0.2,\n",
    "    ### zoom_range est utilisé pour zoomer aléatoirement à l'intérieur des images ###           \n",
    "    zoom_range = 0.2,\n",
    "    ### horizontal_flip est utilisé pour retourner au hasard la moitié des images horizontalement ###            \n",
    "    horizontal_flip = True\n",
    ")      \n",
    "\n",
    "test_datagen = ImageDataGenerator(rescale = 1./255)\n",
    "\n",
    "\n",
    "### J'importe les images une par une à partir des répertoires en utilisant .flow_from_directory et y appliquons ImageDataGenerator ###\n",
    "\n",
    "train_generator = train_datagen.flow_from_directory(\n",
    "    ### Choix de mon repertoire ###\n",
    "    directory = \"data/dataset_reduit_train\",\n",
    "    ### Je converti les images de leur taille d'origine à notre target_size ###                    \n",
    "    target_size = (28,28),\n",
    "    ### Nombre batch_size qui fait référence au nombre d'exemples d'entraînement utilisés dans une itération ###                                      \n",
    "    batch_size = 32,\n",
    "    ### Je definis le class_mode sur \"catégorical\" indiquant que nous avons plusieurs classes (a à z) à prédire ###          \n",
    "    class_mode = \"categorical\",\n",
    "    ### Je choisis le color_mode \"grayscale\", indiquant que nous trvaillons sur une image en noir et blanc\n",
    "    color_mode = \"grayscale\"                                \n",
    "\n",
    ")\n",
    "\n",
    "test_generator = test_datagen.flow_from_directory(\n",
    "    directory = \"data/dataset_reduit_test\",\n",
    "    target_size = (28,28),\n",
    "    batch_size = 32,\n",
    "    class_mode = \"categorical\",\n",
    "    color_mode = \"grayscale\"\n",
    "\n",
    ")"
   ]
  },
  {
   "source": [
    "## 3. Definition du modèle d'architecture"
   ],
   "cell_type": "markdown",
   "metadata": {}
  },
  {
   "cell_type": "code",
   "execution_count": 5,
   "metadata": {},
   "outputs": [
    {
     "output_type": "stream",
     "name": "stdout",
     "text": [
      "Model: \"sequential_1\"\n_________________________________________________________________\nLayer (type)                 Output Shape              Param #   \n=================================================================\nconv2d_1 (Conv2D)            (None, 26, 26, 32)        320       \n_________________________________________________________________\nmax_pooling2d_1 (MaxPooling2 (None, 13, 13, 32)        0         \n_________________________________________________________________\nconv2d_2 (Conv2D)            (None, 11, 11, 32)        9248      \n_________________________________________________________________\nmax_pooling2d_2 (MaxPooling2 (None, 5, 5, 32)          0         \n_________________________________________________________________\nflatten_1 (Flatten)          (None, 800)               0         \n_________________________________________________________________\ndense_1 (Dense)              (None, 128)               102528    \n_________________________________________________________________\ndense_2 (Dense)              (None, 27)                3483      \n=================================================================\nTotal params: 115,579\nTrainable params: 115,579\nNon-trainable params: 0\n_________________________________________________________________\n"
     ]
    }
   ],
   "source": [
    "### Création d'un modèle séquentiel qui permet de définir l'architecture CNN couche par couche à l'aide de la fonction .add .Nous ajoutons d'abord une couche de convolution avec 32 filtres de taille 3X3 sur les images d'entrée et la passons à travers la fonction d'activation 'relu'.Nous effectuons ensuite des opérations MaxPooling en utilisant un pool de taille 2X2 ###\n",
    "model = Sequential()\n",
    "model.add(Conv2D(32, (3, 3), input_shape = (28,28,1), activation = \"relu\"))\n",
    "model.add(MaxPooling2D(pool_size = (2, 2)))\n",
    "\n",
    "### Ces couches sont ensuite répétées à nouveau pour améliorer les performances du modèle ###\n",
    "\n",
    "model.add(Conv2D(32, (3, 3), activation = \"relu\"))\n",
    "model.add(MaxPooling2D(pool_size = (2, 2)))\n",
    "\n",
    "### Enfin, nous aplatissons notre matrice résultante et la passons à travers une couche dense composée de 128 nœuds. Celui-ci est ensuite connecté à la couche de sortie constituée de 26 nœuds, chaque nœud représentant un alphabet ###\n",
    "\n",
    "model.add(Flatten())\n",
    "model.add(Dense(units = 128, activation = \"relu\"))\n",
    "model.add(Dense(units = 27, activation = \"softmax\"))            ### Activation softmax qui convertit les scores en une distribution de probabilité normalisée, et                                                                   le nœud avec la probabilité la plus élevée est sélectionné comme sortie ###\n",
    "\n",
    "### Une fois notre architecture CNN définie, nous compilons le modèle à l'aide de l'optimiseur Adam ###\n",
    "model.compile(optimizer = \"adam\", loss = \"categorical_crossentropy\", metrics = [\"accuracy\"])\n",
    "\n",
    "model.summary()"
   ]
  },
  {
   "source": [
    "## 4. Entrainement et enregistrement du modèle"
   ],
   "cell_type": "markdown",
   "metadata": {}
  },
  {
   "cell_type": "code",
   "execution_count": 6,
   "metadata": {},
   "outputs": [
    {
     "output_type": "stream",
     "name": "stdout",
     "text": [
      "Epoch 1/35\n",
      "32/32 [==============================] - 18s 552ms/step - loss: 3.1376 - accuracy: 0.1223 - val_loss: 2.7737 - val_accuracy: 0.2969\n",
      "Epoch 2/35\n",
      "32/32 [==============================] - 9s 294ms/step - loss: 2.2557 - accuracy: 0.3760 - val_loss: 1.5515 - val_accuracy: 0.4501\n",
      "Epoch 3/35\n",
      "32/32 [==============================] - 7s 225ms/step - loss: 1.7654 - accuracy: 0.4707 - val_loss: 1.0521 - val_accuracy: 0.6064\n",
      "Epoch 4/35\n",
      "32/32 [==============================] - 8s 262ms/step - loss: 1.3874 - accuracy: 0.5713 - val_loss: 1.3732 - val_accuracy: 0.6360\n",
      "Epoch 5/35\n",
      "32/32 [==============================] - 9s 270ms/step - loss: 1.2274 - accuracy: 0.6211 - val_loss: 0.8561 - val_accuracy: 0.6595\n",
      "Epoch 6/35\n",
      "32/32 [==============================] - 2s 75ms/step - loss: 1.1207 - accuracy: 0.6553 - val_loss: 1.3988 - val_accuracy: 0.7148\n",
      "Epoch 7/35\n",
      "32/32 [==============================] - 2s 64ms/step - loss: 1.0276 - accuracy: 0.6865 - val_loss: 0.5429 - val_accuracy: 0.6977\n",
      "Epoch 8/35\n",
      "32/32 [==============================] - 2s 61ms/step - loss: 0.9125 - accuracy: 0.7071 - val_loss: 1.7297 - val_accuracy: 0.7554\n",
      "Epoch 9/35\n",
      "32/32 [==============================] - 2s 61ms/step - loss: 0.8277 - accuracy: 0.7441 - val_loss: 0.4322 - val_accuracy: 0.7471\n",
      "Epoch 10/35\n",
      "32/32 [==============================] - 2s 54ms/step - loss: 0.8146 - accuracy: 0.7471 - val_loss: 0.7718 - val_accuracy: 0.7828\n",
      "Epoch 11/35\n",
      "32/32 [==============================] - 2s 64ms/step - loss: 0.7627 - accuracy: 0.7705 - val_loss: 1.2230 - val_accuracy: 0.7534\n",
      "Epoch 12/35\n",
      "32/32 [==============================] - 2s 62ms/step - loss: 0.7209 - accuracy: 0.7751 - val_loss: 0.4558 - val_accuracy: 0.7979\n",
      "Epoch 13/35\n",
      "32/32 [==============================] - 2s 64ms/step - loss: 0.6502 - accuracy: 0.7891 - val_loss: 0.7415 - val_accuracy: 0.7896\n",
      "Epoch 14/35\n",
      "32/32 [==============================] - 2s 59ms/step - loss: 0.5870 - accuracy: 0.8066 - val_loss: 0.7248 - val_accuracy: 0.8160\n",
      "Epoch 15/35\n",
      "32/32 [==============================] - 2s 57ms/step - loss: 0.6131 - accuracy: 0.8096 - val_loss: 0.8037 - val_accuracy: 0.8047\n",
      "Epoch 16/35\n",
      "32/32 [==============================] - 2s 65ms/step - loss: 0.5851 - accuracy: 0.8320 - val_loss: 0.9607 - val_accuracy: 0.8219\n",
      "Epoch 17/35\n",
      "32/32 [==============================] - 2s 63ms/step - loss: 0.5213 - accuracy: 0.8516 - val_loss: 0.4123 - val_accuracy: 0.8483\n",
      "Epoch 18/35\n",
      "32/32 [==============================] - 2s 56ms/step - loss: 0.5540 - accuracy: 0.8184 - val_loss: 0.4809 - val_accuracy: 0.8145\n",
      "Epoch 19/35\n",
      "32/32 [==============================] - 2s 55ms/step - loss: 0.5137 - accuracy: 0.8343 - val_loss: 0.3964 - val_accuracy: 0.8523\n",
      "Epoch 20/35\n",
      "32/32 [==============================] - 2s 69ms/step - loss: 0.4617 - accuracy: 0.8555 - val_loss: 0.4694 - val_accuracy: 0.8327\n",
      "Epoch 21/35\n",
      "32/32 [==============================] - 2s 71ms/step - loss: 0.5168 - accuracy: 0.8521 - val_loss: 0.6607 - val_accuracy: 0.8477\n",
      "Epoch 22/35\n",
      "32/32 [==============================] - 2s 63ms/step - loss: 0.3832 - accuracy: 0.8955 - val_loss: 0.6025 - val_accuracy: 0.8493\n",
      "Epoch 23/35\n",
      "32/32 [==============================] - 2s 63ms/step - loss: 0.4554 - accuracy: 0.8574 - val_loss: 0.7818 - val_accuracy: 0.8679\n",
      "Epoch 24/35\n",
      "32/32 [==============================] - 2s 58ms/step - loss: 0.4548 - accuracy: 0.8662 - val_loss: 0.4242 - val_accuracy: 0.8496\n",
      "Epoch 25/35\n",
      "32/32 [==============================] - 2s 57ms/step - loss: 0.4820 - accuracy: 0.8545 - val_loss: 0.2575 - val_accuracy: 0.8581\n",
      "Epoch 26/35\n",
      "32/32 [==============================] - 2s 57ms/step - loss: 0.4338 - accuracy: 0.8564 - val_loss: 0.5890 - val_accuracy: 0.8447\n",
      "Epoch 27/35\n",
      "32/32 [==============================] - 2s 55ms/step - loss: 0.3767 - accuracy: 0.8846 - val_loss: 0.1632 - val_accuracy: 0.8503\n",
      "Epoch 28/35\n",
      "32/32 [==============================] - 2s 57ms/step - loss: 0.3849 - accuracy: 0.8828 - val_loss: 0.5595 - val_accuracy: 0.8728\n",
      "Epoch 29/35\n",
      "32/32 [==============================] - 2s 66ms/step - loss: 0.4057 - accuracy: 0.8672 - val_loss: 0.3081 - val_accuracy: 0.8779\n",
      "Epoch 30/35\n",
      "32/32 [==============================] - 2s 57ms/step - loss: 0.3945 - accuracy: 0.8740 - val_loss: 0.3557 - val_accuracy: 0.8718\n",
      "Epoch 31/35\n",
      "32/32 [==============================] - 2s 59ms/step - loss: 0.3836 - accuracy: 0.8945 - val_loss: 0.3089 - val_accuracy: 0.8689\n",
      "Epoch 32/35\n",
      "32/32 [==============================] - 2s 57ms/step - loss: 0.3248 - accuracy: 0.8955 - val_loss: 0.7971 - val_accuracy: 0.8730\n",
      "Epoch 33/35\n",
      "32/32 [==============================] - 2s 58ms/step - loss: 0.3636 - accuracy: 0.8787 - val_loss: 0.5255 - val_accuracy: 0.8845\n",
      "Epoch 34/35\n",
      "32/32 [==============================] - 2s 56ms/step - loss: 0.3145 - accuracy: 0.8994 - val_loss: 0.3794 - val_accuracy: 0.8611\n",
      "Epoch 35/35\n",
      "32/32 [==============================] - 2s 57ms/step - loss: 0.3598 - accuracy: 0.8848 - val_loss: 0.1444 - val_accuracy: 0.8770\n",
      "Test de perte: 0.6581931710243225\n",
      "Test de précision: 0.9076066017150879\n",
      "Enregistrement du modèle...\n",
      "Modèle enregistré!\n"
     ]
    }
   ],
   "source": [
    "### Je décide de créer 25 répétitions, et j'ai X2 les steps_per_epoch pour augmenter notre précision ###\n",
    "\n",
    "entrainement = model.fit_generator(\n",
    "    train_generator,\n",
    "    steps_per_epoch = 32,\n",
    "    epochs = 35,\n",
    "    validation_data = test_generator,\n",
    "    validation_steps = 32\n",
    ")\n",
    "\n",
    "score = model.evaluate(train_generator, verbose=0)\n",
    "print(\"Test de perte:\", score[0])\n",
    "print(\"Test de précision:\", score[1])\n",
    "print(\"Enregistrement du modèle...\")\n",
    "model.save(\"data/model.h5\")\n",
    "print(\"Modèle enregistré!\")\n"
   ]
  },
  {
   "cell_type": "code",
   "execution_count": null,
   "metadata": {},
   "outputs": [],
   "source": []
  }
 ]
}