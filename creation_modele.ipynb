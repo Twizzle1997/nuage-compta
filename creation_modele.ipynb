{
 "metadata": {
  "language_info": {
   "codemirror_mode": {
    "name": "ipython",
    "version": 3
   },
   "file_extension": ".py",
   "mimetype": "text/x-python",
   "name": "python",
   "nbconvert_exporter": "python",
   "pygments_lexer": "ipython3",
   "version": "3.7.9-final"
  },
  "orig_nbformat": 2,
  "kernelspec": {
   "name": "python3",
   "display_name": "Python 3.7.9 64-bit ('data_science': conda)",
   "metadata": {
    "interpreter": {
     "hash": "4732c83932685b0664faa5679aa5d57be970d81d9b5c25b3f14d84dbd2e895e8"
    }
   }
  }
 },
 "nbformat": 4,
 "nbformat_minor": 2,
 "cells": [
  {
   "source": [
    "# Nuage Compta et la facture s'analysa"
   ],
   "cell_type": "markdown",
   "metadata": {}
  },
  {
   "source": [
    "## 0. Import des librairies"
   ],
   "cell_type": "markdown",
   "metadata": {}
  },
  {
   "cell_type": "code",
   "execution_count": 1,
   "metadata": {},
   "outputs": [
    {
     "output_type": "stream",
     "name": "stderr",
     "text": [
      "Using TensorFlow backend.\n"
     ]
    }
   ],
   "source": [
    "import numpy as np\n",
    "import matplotlib.pyplot as plt\n",
    "from keras.preprocessing.image import ImageDataGenerator\n",
    "from keras.preprocessing import image\n",
    "import keras\n",
    "from keras import metrics\n",
    "from keras.models import Sequential, load_model\n",
    "from keras.layers import Conv2D, MaxPooling2D, Flatten, Dense, Activation\n",
    "import os\n",
    "import pickle\n",
    "import cv2\n",
    "import imutils\n",
    "from imutils.contours import sort_contours\n",
    "\n",
    "from src import import_auto      ### Ma fonction == optimisation (voir import_auto.py) ###\n",
    "from src import negatif_test     ### Ma fonction == passer l'image de mon choix en negatif ###"
   ]
  },
  {
   "source": [
    "## 1. Optimisation et nettoyage des données"
   ],
   "cell_type": "markdown",
   "metadata": {}
  },
  {
   "cell_type": "code",
   "execution_count": 2,
   "metadata": {},
   "outputs": [],
   "source": [
    "### Afin de réduire les temps d'attente et dans un soucis d'optimisation, je decide d'importer une fonction qui prend 200 png par lettres (suffisant ici). Ces images viennent s'ajouter au dossier dataset_reduit_train ###\n",
    "import_auto.import_fichier_train()"
   ]
  },
  {
   "cell_type": "code",
   "execution_count": 3,
   "metadata": {},
   "outputs": [],
   "source": [
    "### Afin de réduire les temps d'attente et dans un soucis d'optimisation, je decide d'importer une fonction qui prend 3 png par lettres (suffisant ici). Ces images viennent s'ajouter au dossier dataset_reduit_test ###\n",
    "import_auto.import_fichier_test()"
   ]
  },
  {
   "source": [
    "## 2. Import des Datasets"
   ],
   "cell_type": "markdown",
   "metadata": {}
  },
  {
   "cell_type": "code",
   "execution_count": 4,
   "metadata": {},
   "outputs": [
    {
     "output_type": "stream",
     "name": "stdout",
     "text": [
      "Found 5207 images belonging to 27 classes.\nFound 1043 images belonging to 27 classes.\n"
     ]
    }
   ],
   "source": [
    "### ImageDataGenerator génère des lots de données d'image vectorielles, convertissant les coefficients RVB compris entre 0 et 255 en valeurs cibles comprises entre 0 et 1 par mise à l'échelle avec un facteur de 1/255 à l' aide de la remise à l' échelle ###\n",
    "\n",
    "train_datagen = ImageDataGenerator(\n",
    "    rescale = 1./255,\n",
    "    ### shear_range est utilisé pour appliquer de manière aléatoire des transformations de cisaillement ###\n",
    "    shear_range = 0.2,\n",
    "    ### zoom_range est utilisé pour zoomer aléatoirement à l'intérieur des images ###           \n",
    "    zoom_range = 0.2,\n",
    "    ### horizontal_flip est utilisé pour retourner au hasard la moitié des images horizontalement ###            \n",
    "    horizontal_flip = True\n",
    ")      \n",
    "\n",
    "test_datagen = ImageDataGenerator(rescale = 1./255)\n",
    "\n",
    "\n",
    "### J'importe les images une par une à partir des répertoires en utilisant .flow_from_directory et y appliquons ImageDataGenerator ###\n",
    "\n",
    "train_generator = train_datagen.flow_from_directory(\n",
    "    ### Choix de mon repertoire ###\n",
    "    directory = \"data/dataset_reduit_train\",\n",
    "    ### Je converti les images de leur taille d'origine à notre target_size ###                    \n",
    "    target_size = (28,28),\n",
    "    ### Nombre batch_size qui fait référence au nombre d'exemples d'entraînement utilisés dans une itération ###                                      \n",
    "    batch_size = 32,\n",
    "    ### Je definis le class_mode sur \"catégorical\" indiquant que nous avons plusieurs classes (a à z) à prédire ###          \n",
    "    class_mode = \"categorical\",\n",
    "    ### Je choisis le color_mode \"grayscale\", indiquant que nous trvaillons sur une image en noir et blanc\n",
    "    color_mode = \"grayscale\"                                \n",
    "\n",
    ")\n",
    "\n",
    "test_generator = test_datagen.flow_from_directory(\n",
    "    directory = \"data/dataset_reduit_test\",\n",
    "    target_size = (28,28),\n",
    "    batch_size = 32,\n",
    "    class_mode = \"categorical\",\n",
    "    color_mode = \"grayscale\"\n",
    "\n",
    ")"
   ]
  },
  {
   "source": [
    "## 3. Definition du modèle d'architecture"
   ],
   "cell_type": "markdown",
   "metadata": {}
  },
  {
   "cell_type": "code",
   "execution_count": 5,
   "metadata": {},
   "outputs": [
    {
     "output_type": "stream",
     "name": "stdout",
     "text": [
      "Model: \"sequential_1\"\n_________________________________________________________________\nLayer (type)                 Output Shape              Param #   \n=================================================================\nconv2d_1 (Conv2D)            (None, 26, 26, 32)        320       \n_________________________________________________________________\nmax_pooling2d_1 (MaxPooling2 (None, 13, 13, 32)        0         \n_________________________________________________________________\nconv2d_2 (Conv2D)            (None, 11, 11, 32)        9248      \n_________________________________________________________________\nmax_pooling2d_2 (MaxPooling2 (None, 5, 5, 32)          0         \n_________________________________________________________________\nflatten_1 (Flatten)          (None, 800)               0         \n_________________________________________________________________\ndense_1 (Dense)              (None, 128)               102528    \n_________________________________________________________________\ndense_2 (Dense)              (None, 27)                3483      \n=================================================================\nTotal params: 115,579\nTrainable params: 115,579\nNon-trainable params: 0\n_________________________________________________________________\n"
     ]
    }
   ],
   "source": [
    "### Création d'un modèle séquentiel qui permet de définir l'architecture CNN couche par couche à l'aide de la fonction .add .Nous ajoutons d'abord une couche de convolution avec 32 filtres de taille 3X3 sur les images d'entrée et la passons à travers la fonction d'activation 'relu'.Nous effectuons ensuite des opérations MaxPooling en utilisant un pool de taille 2X2 ###\n",
    "model = Sequential()\n",
    "model.add(Conv2D(32, (3, 3), input_shape = (28,28,1), activation = \"relu\"))\n",
    "model.add(MaxPooling2D(pool_size = (2, 2)))\n",
    "\n",
    "### Ces couches sont ensuite répétées à nouveau pour améliorer les performances du modèle ###\n",
    "\n",
    "model.add(Conv2D(32, (3, 3), activation = \"relu\"))\n",
    "model.add(MaxPooling2D(pool_size = (2, 2)))\n",
    "\n",
    "### Enfin, nous aplatissons notre matrice résultante et la passons à travers une couche dense composée de 128 nœuds. Celui-ci est ensuite connecté à la couche de sortie constituée de 26 nœuds, chaque nœud représentant un alphabet ###\n",
    "\n",
    "model.add(Flatten())\n",
    "model.add(Dense(units = 128, activation = \"relu\"))\n",
    "model.add(Dense(units = 27, activation = \"softmax\"))            ### Activation softmax qui convertit les scores en une distribution de probabilité normalisée, et                                                                   le nœud avec la probabilité la plus élevée est sélectionné comme sortie ###\n",
    "\n",
    "### Une fois notre architecture CNN définie, nous compilons le modèle à l'aide de l'optimiseur Adam ###\n",
    "model.compile(optimizer = \"adam\", loss = \"categorical_crossentropy\", metrics = [\"accuracy\"])\n",
    "\n",
    "model.summary()"
   ]
  },
  {
   "source": [
    "## 4. Entrainement du modèle"
   ],
   "cell_type": "markdown",
   "metadata": {}
  },
  {
   "cell_type": "code",
   "execution_count": 6,
   "metadata": {},
   "outputs": [
    {
     "output_type": "stream",
     "name": "stdout",
     "text": [
      "Epoch 1/30\n",
      "32/32 [==============================] - 7s 214ms/step - loss: 3.1409 - accuracy: 0.1340 - val_loss: 2.6218 - val_accuracy: 0.3057\n",
      "Epoch 2/30\n",
      "32/32 [==============================] - 3s 98ms/step - loss: 2.2259 - accuracy: 0.3740 - val_loss: 1.7923 - val_accuracy: 0.4342\n",
      "Epoch 3/30\n",
      "32/32 [==============================] - 4s 138ms/step - loss: 1.7018 - accuracy: 0.4844 - val_loss: 0.9763 - val_accuracy: 0.5846\n",
      "Epoch 4/30\n",
      "32/32 [==============================] - 4s 134ms/step - loss: 1.4045 - accuracy: 0.5508 - val_loss: 1.5954 - val_accuracy: 0.6251\n",
      "Epoch 5/30\n",
      "32/32 [==============================] - 4s 134ms/step - loss: 1.1811 - accuracy: 0.6250 - val_loss: 1.2557 - val_accuracy: 0.7132\n",
      "Epoch 6/30\n",
      "32/32 [==============================] - 1s 34ms/step - loss: 1.0569 - accuracy: 0.6611 - val_loss: 0.8449 - val_accuracy: 0.7300\n",
      "Epoch 7/30\n",
      "32/32 [==============================] - 1s 25ms/step - loss: 0.9023 - accuracy: 0.7051 - val_loss: 1.1422 - val_accuracy: 0.7428\n",
      "Epoch 8/30\n",
      "32/32 [==============================] - 1s 25ms/step - loss: 0.9337 - accuracy: 0.7129 - val_loss: 0.7780 - val_accuracy: 0.7567\n",
      "Epoch 9/30\n",
      "32/32 [==============================] - 1s 25ms/step - loss: 0.8391 - accuracy: 0.7588 - val_loss: 0.5452 - val_accuracy: 0.7685\n",
      "Epoch 10/30\n",
      "32/32 [==============================] - 1s 23ms/step - loss: 0.7707 - accuracy: 0.7596 - val_loss: 0.5313 - val_accuracy: 0.7774\n",
      "Epoch 11/30\n",
      "32/32 [==============================] - 1s 27ms/step - loss: 0.6794 - accuracy: 0.7665 - val_loss: 0.8138 - val_accuracy: 0.8269\n",
      "Epoch 12/30\n",
      "32/32 [==============================] - 1s 25ms/step - loss: 0.6826 - accuracy: 0.7832 - val_loss: 0.7239 - val_accuracy: 0.8111\n",
      "Epoch 13/30\n",
      "32/32 [==============================] - 1s 25ms/step - loss: 0.6214 - accuracy: 0.8232 - val_loss: 0.6067 - val_accuracy: 0.8417\n",
      "Epoch 14/30\n",
      "32/32 [==============================] - 1s 24ms/step - loss: 0.5771 - accuracy: 0.8359 - val_loss: 0.5561 - val_accuracy: 0.8121\n",
      "Epoch 15/30\n",
      "32/32 [==============================] - 1s 24ms/step - loss: 0.6258 - accuracy: 0.7930 - val_loss: 0.7580 - val_accuracy: 0.8190\n",
      "Epoch 16/30\n",
      "32/32 [==============================] - 1s 26ms/step - loss: 0.5477 - accuracy: 0.8177 - val_loss: 1.1832 - val_accuracy: 0.8200\n",
      "Epoch 17/30\n",
      "32/32 [==============================] - 1s 24ms/step - loss: 0.5035 - accuracy: 0.8408 - val_loss: 0.6133 - val_accuracy: 0.8378\n",
      "Epoch 18/30\n",
      "32/32 [==============================] - 1s 24ms/step - loss: 0.6165 - accuracy: 0.8125 - val_loss: 0.3448 - val_accuracy: 0.8744\n",
      "Epoch 19/30\n",
      "32/32 [==============================] - 1s 24ms/step - loss: 0.5109 - accuracy: 0.8516 - val_loss: 0.9658 - val_accuracy: 0.8595\n",
      "Epoch 20/30\n",
      "32/32 [==============================] - 1s 24ms/step - loss: 0.4474 - accuracy: 0.8604 - val_loss: 0.2960 - val_accuracy: 0.8872\n",
      "Epoch 21/30\n",
      "32/32 [==============================] - 1s 25ms/step - loss: 0.4782 - accuracy: 0.8345 - val_loss: 0.7255 - val_accuracy: 0.8655\n",
      "Epoch 22/30\n",
      "32/32 [==============================] - 1s 26ms/step - loss: 0.3964 - accuracy: 0.8789 - val_loss: 0.2466 - val_accuracy: 0.8773\n",
      "Epoch 23/30\n",
      "32/32 [==============================] - 1s 25ms/step - loss: 0.4952 - accuracy: 0.8340 - val_loss: 0.3514 - val_accuracy: 0.8764\n",
      "Epoch 24/30\n",
      "32/32 [==============================] - 1s 26ms/step - loss: 0.5074 - accuracy: 0.8486 - val_loss: 0.2722 - val_accuracy: 0.8655\n",
      "Epoch 25/30\n",
      "32/32 [==============================] - 1s 25ms/step - loss: 0.4000 - accuracy: 0.8770 - val_loss: 0.4370 - val_accuracy: 0.8813\n",
      "Epoch 26/30\n",
      "32/32 [==============================] - 1s 28ms/step - loss: 0.4078 - accuracy: 0.8701 - val_loss: 0.2796 - val_accuracy: 0.9041\n",
      "Epoch 27/30\n",
      "32/32 [==============================] - 1s 26ms/step - loss: 0.3625 - accuracy: 0.8759 - val_loss: 0.3823 - val_accuracy: 0.8635\n",
      "Epoch 28/30\n",
      "32/32 [==============================] - 1s 26ms/step - loss: 0.3990 - accuracy: 0.8789 - val_loss: 0.4578 - val_accuracy: 0.8912\n",
      "Epoch 29/30\n",
      "32/32 [==============================] - 1s 26ms/step - loss: 0.3976 - accuracy: 0.8770 - val_loss: 0.4285 - val_accuracy: 0.8843\n",
      "Epoch 30/30\n",
      "32/32 [==============================] - 1s 26ms/step - loss: 0.4006 - accuracy: 0.8740 - val_loss: 0.4385 - val_accuracy: 0.8892\n",
      "Test de perte: 0.43221962451934814\n",
      "Test de précision: 0.8907240033149719\n"
     ]
    }
   ],
   "source": [
    "### Je décide de créer 30 répétitions, et j'ai X2 les steps_per_epoch pour augmenter notre précision ###\n",
    "\n",
    "entrainement = model.fit_generator(\n",
    "    train_generator,\n",
    "    steps_per_epoch = 32,\n",
    "    epochs = 30,\n",
    "    validation_data = test_generator,\n",
    "    validation_steps = 32\n",
    ")\n",
    "\n",
    "score = model.evaluate(train_generator, verbose=0)\n",
    "print(\"Test de perte:\", score[0])\n",
    "print(\"Test de précision:\", score[1])\n"
   ]
  },
  {
   "source": [
    "## 5. Enregistrement & chargement du modèle"
   ],
   "cell_type": "markdown",
   "metadata": {}
  },
  {
   "cell_type": "code",
   "execution_count": 7,
   "metadata": {},
   "outputs": [],
   "source": [
    "### Enregistrement du modèle ###\n",
    "\n",
    "pickle.dump(model, open(\"mon_model.h5\", \"wb\"))"
   ]
  },
  {
   "cell_type": "code",
   "execution_count": 8,
   "metadata": {},
   "outputs": [],
   "source": [
    "### Chargement du modèle ###\n",
    "\n",
    "model = pickle.load(open(\"mon_model.h5\",\"rb\"))"
   ]
  },
  {
   "source": [
    "## 6. Création d'une fonction qui renvois l'alphabet associé au résultat"
   ],
   "cell_type": "markdown",
   "metadata": {}
  },
  {
   "cell_type": "code",
   "execution_count": 9,
   "metadata": {},
   "outputs": [],
   "source": [
    "def get_result(result):\n",
    "    if result[0][0] == 1:\n",
    "        return(\"a\")\n",
    "    elif result[0][1] == 1:\n",
    "        return (\"b\")\n",
    "    elif result[0][2] == 1:\n",
    "        return (\"c\")\n",
    "    elif result[0][3] == 1:\n",
    "        return (\"d\")\n",
    "    elif result[0][4] == 1:\n",
    "        return (\"e\")\n",
    "    elif result[0][5] == 1:\n",
    "        return (\"f\")\n",
    "    elif result[0][6] == 1:\n",
    "        return (\"g\")\n",
    "    elif result[0][7] == 1:\n",
    "        return (\"h\")\n",
    "    elif result[0][8] == 1:\n",
    "        return (\"i\")\n",
    "    elif result[0][9] == 1:\n",
    "        return (\"j\")\n",
    "    elif result[0][10] == 1:\n",
    "        return (\"k\")\n",
    "    elif result[0][11] == 1:\n",
    "        return (\"l\")\n",
    "    elif result[0][12] == 1:\n",
    "        return (\"m\")\n",
    "    elif result[0][13] == 1:\n",
    "        return (\"n\")\n",
    "    elif result[0][14] == 1:\n",
    "        return (\"o\")\n",
    "    elif result[0][15] == 1:\n",
    "        return (\"p\")\n",
    "    elif result[0][16] == 1:\n",
    "        return (\"q\")\n",
    "    elif result[0][17] == 1:\n",
    "        return (\"r\")\n",
    "    elif result[0][18] == 1:\n",
    "        return (\"s\")\n",
    "    elif result[0][19] == 1:\n",
    "        return (\"t\")\n",
    "    elif result[0][20] == 1:\n",
    "        return (\"u\")\n",
    "    elif result[0][21] == 1:\n",
    "        return (\"v\")\n",
    "    elif result[0][22] == 1:\n",
    "        return (\"w\")\n",
    "    elif result[0][23] == 1:\n",
    "        return (\"x\")\n",
    "    elif result[0][24] == 1:\n",
    "        return (\"y\")\n",
    "    elif result[0][25] == 1:\n",
    "        return (\"z\")\n",
    "    elif result[0][26] == 1:                # Création du symbole <3\n",
    "        return (\"<3\")"
   ]
  },
  {
   "source": [
    "## 7. Choix de l'image à envoyer & Test du modèle"
   ],
   "cell_type": "markdown",
   "metadata": {}
  },
  {
   "cell_type": "code",
   "execution_count": 10,
   "metadata": {},
   "outputs": [
    {
     "output_type": "stream",
     "name": "stdout",
     "text": [
      "La lettre correspondante est: <3\n"
     ]
    },
    {
     "output_type": "display_data",
     "data": {
      "text/plain": "<Figure size 432x288 with 1 Axes>",
      "image/svg+xml": "<?xml version=\"1.0\" encoding=\"utf-8\" standalone=\"no\"?>\r\n<!DOCTYPE svg PUBLIC \"-//W3C//DTD SVG 1.1//EN\"\r\n  \"http://www.w3.org/Graphics/SVG/1.1/DTD/svg11.dtd\">\r\n<!-- Created with matplotlib (https://matplotlib.org/) -->\r\n<svg height=\"248.518125pt\" version=\"1.1\" viewBox=\"0 0 251.565 248.518125\" width=\"251.565pt\" xmlns=\"http://www.w3.org/2000/svg\" xmlns:xlink=\"http://www.w3.org/1999/xlink\">\r\n <metadata>\r\n  <rdf:RDF xmlns:cc=\"http://creativecommons.org/ns#\" xmlns:dc=\"http://purl.org/dc/elements/1.1/\" xmlns:rdf=\"http://www.w3.org/1999/02/22-rdf-syntax-ns#\">\r\n   <cc:Work>\r\n    <dc:type rdf:resource=\"http://purl.org/dc/dcmitype/StillImage\"/>\r\n    <dc:date>2020-11-19T15:07:48.872668</dc:date>\r\n    <dc:format>image/svg+xml</dc:format>\r\n    <dc:creator>\r\n     <cc:Agent>\r\n      <dc:title>Matplotlib v3.3.2, https://matplotlib.org/</dc:title>\r\n     </cc:Agent>\r\n    </dc:creator>\r\n   </cc:Work>\r\n  </rdf:RDF>\r\n </metadata>\r\n <defs>\r\n  <style type=\"text/css\">*{stroke-linecap:butt;stroke-linejoin:round;}</style>\r\n </defs>\r\n <g id=\"figure_1\">\r\n  <g id=\"patch_1\">\r\n   <path d=\"M 0 248.518125 \r\nL 251.565 248.518125 \r\nL 251.565 0 \r\nL 0 0 \r\nz\r\n\" style=\"fill:none;\"/>\r\n  </g>\r\n  <g id=\"axes_1\">\r\n   <g id=\"patch_2\">\r\n    <path d=\"M 26.925 224.64 \r\nL 244.365 224.64 \r\nL 244.365 7.2 \r\nL 26.925 7.2 \r\nz\r\n\" style=\"fill:#ffffff;\"/>\r\n   </g>\r\n   <g clip-path=\"url(#pbdb4e8f77d)\">\r\n    <image height=\"218\" id=\"imagebfb64c2f91\" transform=\"scale(1 -1)translate(0 -218)\" width=\"218\" x=\"26.925\" xlink:href=\"data:image/png;base64,\r\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\" y=\"-6.64\"/>\r\n   </g>\r\n   <g id=\"matplotlib.axis_1\">\r\n    <g id=\"xtick_1\">\r\n     <g id=\"line2d_1\">\r\n      <defs>\r\n       <path d=\"M 0 0 \r\nL 0 3.5 \r\n\" id=\"m38110eee04\" style=\"stroke:#000000;stroke-width:0.8;\"/>\r\n      </defs>\r\n      <g>\r\n       <use style=\"stroke:#000000;stroke-width:0.8;\" x=\"30.807857\" xlink:href=\"#m38110eee04\" y=\"224.64\"/>\r\n      </g>\r\n     </g>\r\n     <g id=\"text_1\">\r\n      <!-- 0 -->\r\n      <g transform=\"translate(27.626607 239.238437)scale(0.1 -0.1)\">\r\n       <defs>\r\n        <path d=\"M 31.78125 66.40625 \r\nQ 24.171875 66.40625 20.328125 58.90625 \r\nQ 16.5 51.421875 16.5 36.375 \r\nQ 16.5 21.390625 20.328125 13.890625 \r\nQ 24.171875 6.390625 31.78125 6.390625 \r\nQ 39.453125 6.390625 43.28125 13.890625 \r\nQ 47.125 21.390625 47.125 36.375 \r\nQ 47.125 51.421875 43.28125 58.90625 \r\nQ 39.453125 66.40625 31.78125 66.40625 \r\nz\r\nM 31.78125 74.21875 \r\nQ 44.046875 74.21875 50.515625 64.515625 \r\nQ 56.984375 54.828125 56.984375 36.375 \r\nQ 56.984375 17.96875 50.515625 8.265625 \r\nQ 44.046875 -1.421875 31.78125 -1.421875 \r\nQ 19.53125 -1.421875 13.0625 8.265625 \r\nQ 6.59375 17.96875 6.59375 36.375 \r\nQ 6.59375 54.828125 13.0625 64.515625 \r\nQ 19.53125 74.21875 31.78125 74.21875 \r\nz\r\n\" id=\"DejaVuSans-48\"/>\r\n       </defs>\r\n       <use xlink:href=\"#DejaVuSans-48\"/>\r\n      </g>\r\n     </g>\r\n    </g>\r\n    <g id=\"xtick_2\">\r\n     <g id=\"line2d_2\">\r\n      <g>\r\n       <use style=\"stroke:#000000;stroke-width:0.8;\" x=\"69.636429\" xlink:href=\"#m38110eee04\" y=\"224.64\"/>\r\n      </g>\r\n     </g>\r\n     <g id=\"text_2\">\r\n      <!-- 5 -->\r\n      <g transform=\"translate(66.455179 239.238437)scale(0.1 -0.1)\">\r\n       <defs>\r\n        <path d=\"M 10.796875 72.90625 \r\nL 49.515625 72.90625 \r\nL 49.515625 64.59375 \r\nL 19.828125 64.59375 \r\nL 19.828125 46.734375 \r\nQ 21.96875 47.46875 24.109375 47.828125 \r\nQ 26.265625 48.1875 28.421875 48.1875 \r\nQ 40.625 48.1875 47.75 41.5 \r\nQ 54.890625 34.8125 54.890625 23.390625 \r\nQ 54.890625 11.625 47.5625 5.09375 \r\nQ 40.234375 -1.421875 26.90625 -1.421875 \r\nQ 22.3125 -1.421875 17.546875 -0.640625 \r\nQ 12.796875 0.140625 7.71875 1.703125 \r\nL 7.71875 11.625 \r\nQ 12.109375 9.234375 16.796875 8.0625 \r\nQ 21.484375 6.890625 26.703125 6.890625 \r\nQ 35.15625 6.890625 40.078125 11.328125 \r\nQ 45.015625 15.765625 45.015625 23.390625 \r\nQ 45.015625 31 40.078125 35.4375 \r\nQ 35.15625 39.890625 26.703125 39.890625 \r\nQ 22.75 39.890625 18.8125 39.015625 \r\nQ 14.890625 38.140625 10.796875 36.28125 \r\nz\r\n\" id=\"DejaVuSans-53\"/>\r\n       </defs>\r\n       <use xlink:href=\"#DejaVuSans-53\"/>\r\n      </g>\r\n     </g>\r\n    </g>\r\n    <g id=\"xtick_3\">\r\n     <g id=\"line2d_3\">\r\n      <g>\r\n       <use style=\"stroke:#000000;stroke-width:0.8;\" x=\"108.465\" xlink:href=\"#m38110eee04\" y=\"224.64\"/>\r\n      </g>\r\n     </g>\r\n     <g id=\"text_3\">\r\n      <!-- 10 -->\r\n      <g transform=\"translate(102.1025 239.238437)scale(0.1 -0.1)\">\r\n       <defs>\r\n        <path d=\"M 12.40625 8.296875 \r\nL 28.515625 8.296875 \r\nL 28.515625 63.921875 \r\nL 10.984375 60.40625 \r\nL 10.984375 69.390625 \r\nL 28.421875 72.90625 \r\nL 38.28125 72.90625 \r\nL 38.28125 8.296875 \r\nL 54.390625 8.296875 \r\nL 54.390625 0 \r\nL 12.40625 0 \r\nz\r\n\" id=\"DejaVuSans-49\"/>\r\n       </defs>\r\n       <use xlink:href=\"#DejaVuSans-49\"/>\r\n       <use x=\"63.623047\" xlink:href=\"#DejaVuSans-48\"/>\r\n      </g>\r\n     </g>\r\n    </g>\r\n    <g id=\"xtick_4\">\r\n     <g id=\"line2d_4\">\r\n      <g>\r\n       <use style=\"stroke:#000000;stroke-width:0.8;\" x=\"147.293571\" xlink:href=\"#m38110eee04\" y=\"224.64\"/>\r\n      </g>\r\n     </g>\r\n     <g id=\"text_4\">\r\n      <!-- 15 -->\r\n      <g transform=\"translate(140.931071 239.238437)scale(0.1 -0.1)\">\r\n       <use xlink:href=\"#DejaVuSans-49\"/>\r\n       <use x=\"63.623047\" xlink:href=\"#DejaVuSans-53\"/>\r\n      </g>\r\n     </g>\r\n    </g>\r\n    <g id=\"xtick_5\">\r\n     <g id=\"line2d_5\">\r\n      <g>\r\n       <use style=\"stroke:#000000;stroke-width:0.8;\" x=\"186.122143\" xlink:href=\"#m38110eee04\" y=\"224.64\"/>\r\n      </g>\r\n     </g>\r\n     <g id=\"text_5\">\r\n      <!-- 20 -->\r\n      <g transform=\"translate(179.759643 239.238437)scale(0.1 -0.1)\">\r\n       <defs>\r\n        <path d=\"M 19.1875 8.296875 \r\nL 53.609375 8.296875 \r\nL 53.609375 0 \r\nL 7.328125 0 \r\nL 7.328125 8.296875 \r\nQ 12.9375 14.109375 22.625 23.890625 \r\nQ 32.328125 33.6875 34.8125 36.53125 \r\nQ 39.546875 41.84375 41.421875 45.53125 \r\nQ 43.3125 49.21875 43.3125 52.78125 \r\nQ 43.3125 58.59375 39.234375 62.25 \r\nQ 35.15625 65.921875 28.609375 65.921875 \r\nQ 23.96875 65.921875 18.8125 64.3125 \r\nQ 13.671875 62.703125 7.8125 59.421875 \r\nL 7.8125 69.390625 \r\nQ 13.765625 71.78125 18.9375 73 \r\nQ 24.125 74.21875 28.421875 74.21875 \r\nQ 39.75 74.21875 46.484375 68.546875 \r\nQ 53.21875 62.890625 53.21875 53.421875 \r\nQ 53.21875 48.921875 51.53125 44.890625 \r\nQ 49.859375 40.875 45.40625 35.40625 \r\nQ 44.1875 33.984375 37.640625 27.21875 \r\nQ 31.109375 20.453125 19.1875 8.296875 \r\nz\r\n\" id=\"DejaVuSans-50\"/>\r\n       </defs>\r\n       <use xlink:href=\"#DejaVuSans-50\"/>\r\n       <use x=\"63.623047\" xlink:href=\"#DejaVuSans-48\"/>\r\n      </g>\r\n     </g>\r\n    </g>\r\n    <g id=\"xtick_6\">\r\n     <g id=\"line2d_6\">\r\n      <g>\r\n       <use style=\"stroke:#000000;stroke-width:0.8;\" x=\"224.950714\" xlink:href=\"#m38110eee04\" y=\"224.64\"/>\r\n      </g>\r\n     </g>\r\n     <g id=\"text_6\">\r\n      <!-- 25 -->\r\n      <g transform=\"translate(218.588214 239.238437)scale(0.1 -0.1)\">\r\n       <use xlink:href=\"#DejaVuSans-50\"/>\r\n       <use x=\"63.623047\" xlink:href=\"#DejaVuSans-53\"/>\r\n      </g>\r\n     </g>\r\n    </g>\r\n   </g>\r\n   <g id=\"matplotlib.axis_2\">\r\n    <g id=\"ytick_1\">\r\n     <g id=\"line2d_7\">\r\n      <defs>\r\n       <path d=\"M 0 0 \r\nL -3.5 0 \r\n\" id=\"ma4b144e961\" style=\"stroke:#000000;stroke-width:0.8;\"/>\r\n      </defs>\r\n      <g>\r\n       <use style=\"stroke:#000000;stroke-width:0.8;\" x=\"26.925\" xlink:href=\"#ma4b144e961\" y=\"11.082857\"/>\r\n      </g>\r\n     </g>\r\n     <g id=\"text_7\">\r\n      <!-- 0 -->\r\n      <g transform=\"translate(13.5625 14.882076)scale(0.1 -0.1)\">\r\n       <use xlink:href=\"#DejaVuSans-48\"/>\r\n      </g>\r\n     </g>\r\n    </g>\r\n    <g id=\"ytick_2\">\r\n     <g id=\"line2d_8\">\r\n      <g>\r\n       <use style=\"stroke:#000000;stroke-width:0.8;\" x=\"26.925\" xlink:href=\"#ma4b144e961\" y=\"49.911429\"/>\r\n      </g>\r\n     </g>\r\n     <g id=\"text_8\">\r\n      <!-- 5 -->\r\n      <g transform=\"translate(13.5625 53.710647)scale(0.1 -0.1)\">\r\n       <use xlink:href=\"#DejaVuSans-53\"/>\r\n      </g>\r\n     </g>\r\n    </g>\r\n    <g id=\"ytick_3\">\r\n     <g id=\"line2d_9\">\r\n      <g>\r\n       <use style=\"stroke:#000000;stroke-width:0.8;\" x=\"26.925\" xlink:href=\"#ma4b144e961\" y=\"88.74\"/>\r\n      </g>\r\n     </g>\r\n     <g id=\"text_9\">\r\n      <!-- 10 -->\r\n      <g transform=\"translate(7.2 92.539219)scale(0.1 -0.1)\">\r\n       <use xlink:href=\"#DejaVuSans-49\"/>\r\n       <use x=\"63.623047\" xlink:href=\"#DejaVuSans-48\"/>\r\n      </g>\r\n     </g>\r\n    </g>\r\n    <g id=\"ytick_4\">\r\n     <g id=\"line2d_10\">\r\n      <g>\r\n       <use style=\"stroke:#000000;stroke-width:0.8;\" x=\"26.925\" xlink:href=\"#ma4b144e961\" y=\"127.568571\"/>\r\n      </g>\r\n     </g>\r\n     <g id=\"text_10\">\r\n      <!-- 15 -->\r\n      <g transform=\"translate(7.2 131.36779)scale(0.1 -0.1)\">\r\n       <use xlink:href=\"#DejaVuSans-49\"/>\r\n       <use x=\"63.623047\" xlink:href=\"#DejaVuSans-53\"/>\r\n      </g>\r\n     </g>\r\n    </g>\r\n    <g id=\"ytick_5\">\r\n     <g id=\"line2d_11\">\r\n      <g>\r\n       <use style=\"stroke:#000000;stroke-width:0.8;\" x=\"26.925\" xlink:href=\"#ma4b144e961\" y=\"166.397143\"/>\r\n      </g>\r\n     </g>\r\n     <g id=\"text_11\">\r\n      <!-- 20 -->\r\n      <g transform=\"translate(7.2 170.196362)scale(0.1 -0.1)\">\r\n       <use xlink:href=\"#DejaVuSans-50\"/>\r\n       <use x=\"63.623047\" xlink:href=\"#DejaVuSans-48\"/>\r\n      </g>\r\n     </g>\r\n    </g>\r\n    <g id=\"ytick_6\">\r\n     <g id=\"line2d_12\">\r\n      <g>\r\n       <use style=\"stroke:#000000;stroke-width:0.8;\" x=\"26.925\" xlink:href=\"#ma4b144e961\" y=\"205.225714\"/>\r\n      </g>\r\n     </g>\r\n     <g id=\"text_12\">\r\n      <!-- 25 -->\r\n      <g transform=\"translate(7.2 209.024933)scale(0.1 -0.1)\">\r\n       <use xlink:href=\"#DejaVuSans-50\"/>\r\n       <use x=\"63.623047\" xlink:href=\"#DejaVuSans-53\"/>\r\n      </g>\r\n     </g>\r\n    </g>\r\n   </g>\r\n   <g id=\"patch_3\">\r\n    <path d=\"M 26.925 224.64 \r\nL 26.925 7.2 \r\n\" style=\"fill:none;stroke:#000000;stroke-linecap:square;stroke-linejoin:miter;stroke-width:0.8;\"/>\r\n   </g>\r\n   <g id=\"patch_4\">\r\n    <path d=\"M 244.365 224.64 \r\nL 244.365 7.2 \r\n\" style=\"fill:none;stroke:#000000;stroke-linecap:square;stroke-linejoin:miter;stroke-width:0.8;\"/>\r\n   </g>\r\n   <g id=\"patch_5\">\r\n    <path d=\"M 26.925 224.64 \r\nL 244.365 224.64 \r\n\" style=\"fill:none;stroke:#000000;stroke-linecap:square;stroke-linejoin:miter;stroke-width:0.8;\"/>\r\n   </g>\r\n   <g id=\"patch_6\">\r\n    <path d=\"M 26.925 7.2 \r\nL 244.365 7.2 \r\n\" style=\"fill:none;stroke:#000000;stroke-linecap:square;stroke-linejoin:miter;stroke-width:0.8;\"/>\r\n   </g>\r\n  </g>\r\n </g>\r\n <defs>\r\n  <clipPath id=\"pbdb4e8f77d\">\r\n   <rect height=\"217.44\" width=\"217.44\" x=\"26.925\" y=\"7.2\"/>\r\n  </clipPath>\r\n </defs>\r\n</svg>\r\n",
      "image/png": "[encoded data removed]"
     },
     "metadata": {
      "needs_background": "light"
     }
    }
   ],
   "source": [
    "choix = r\"assets\\COEUR-thomas.png\"\n",
    "test_image = image.load_img(choix, target_size = (28,28), grayscale = True)\n",
    "plt.imshow(test_image)\n",
    "test_image = image.img_to_array(test_image)\n",
    "test_image = np.expand_dims(test_image, axis = 0)\n",
    "### TEST du <3 ###\n",
    "resultat = model.predict(test_image)\n",
    "resultat = get_result(resultat)\n",
    "print(f\"La lettre correspondante est: {resultat}\")\n"
   ]
  },
  {
   "source": [
    "## ZONE DE TEST"
   ],
   "cell_type": "markdown",
   "metadata": {}
  },
  {
   "cell_type": "code",
   "execution_count": 11,
   "metadata": {},
   "outputs": [],
   "source": [
    "imagePath = 'assets\\imagedentrainement.jpeg'"
   ]
  },
  {
   "cell_type": "code",
   "execution_count": 12,
   "metadata": {},
   "outputs": [],
   "source": [
    "### Je charge mon image d'entrée à partir de la variable \"imagePath\" puis je la convertie en niveau de gris ###\n",
    "\n",
    "image = cv2.imread(imagePath)\n",
    "gray = cv2.cvtColor(image, cv2.COLOR_BGR2GRAY)\n",
    "\n",
    "blurred = cv2.medianBlur(gray,5)"
   ]
  },
  {
   "cell_type": "code",
   "execution_count": 13,
   "metadata": {},
   "outputs": [],
   "source": [
    "### Détection des contours ###\n",
    "\n",
    "blurred = cv2.threshold(blurred, 0, 255, cv2.THRESH_BINARY + cv2.THRESH_OTSU)[1]\n",
    "\n",
    "edged = cv2.Canny(blurred, 170, 255)\n",
    "cnts = cv2.findContours(edged.copy(), cv2.RETR_EXTERNAL, cv2.CHAIN_APPROX_SIMPLE)\n",
    "cnts = imutils.grab_contours(cnts)\n",
    "cnts = sort_contours(cnts, method=\"left-to-right\")[0]\n",
    "\n",
    "### Initialisation de la liste des contours ###\n",
    "\n",
    "chars = []"
   ]
  },
  {
   "cell_type": "code",
   "execution_count": 14,
   "metadata": {},
   "outputs": [],
   "source": [
    "### Boucle sur les différents contours ###\n",
    "for c in cnts:\n",
    "    ### Calculer la boîte englobante du contour ###\n",
    "    (x, y, w, h) = cv2.boundingRect(c)\n",
    "    ### Je filtre les boîtes englobantes, en m'assurant qu'elles ne sont ni trop petites ni trop grandes ###\n",
    "    # if (w >= 5 and w <= 150) and (h >= 15 and h <= 120):\n",
    "    if (w >= 5) and (h >= 15):\n",
    "        ### On extrait le caractère pour faire en sorte qu'il apparaisse comme blanc sur fond noir, puis on saisie la largeur et la hauteur de l'image seuillée ###\n",
    "        roi = gray[y:y + h, x:x + w]\n",
    "        thresh = cv2.threshold(roi, 0, 255,\n",
    "                               cv2.THRESH_BINARY_INV | cv2.THRESH_OTSU)[1]\n",
    "        (tH, tW) = thresh.shape\n",
    "        ### Si la largeur est supérieure à la hauteur, on redimensionne la dimension de la largeur ###\n",
    "        if tW > tH:\n",
    "            thresh = imutils.resize(thresh, width=28)\n",
    "        ### Sinon on redimensionne la longueur de la hauteur ###\n",
    "        else:\n",
    "            thresh = imutils.resize(thresh, height=28)\n",
    "\n",
    "        ### On force les dimensions en 28 * 28 ###\n",
    "        padded = cv2.copyMakeBorder(thresh, top=4, bottom=4,\n",
    "                                    left=4, right=4, borderType=cv2.BORDER_CONSTANT,\n",
    "                                    value=(0, 0, 0))\n",
    "        \n",
    "        padded = cv2.resize(padded, (28, 28))\n",
    "        padded = padded.astype(\"float32\") / 255.0\n",
    "        padded = np.expand_dims(padded, axis=-1)\n",
    "        ### Mise à jour notre liste de caractères qui seront OCR ###\n",
    "        chars.append((padded, (x, y, w, h)))"
   ]
  },
  {
   "cell_type": "code",
   "execution_count": 15,
   "metadata": {},
   "outputs": [],
   "source": [
    "### Extraction des emplacements de la boîte englobante et des caractères remplis ###\n",
    "boxes = [b[1] for b in chars]\n",
    "chars = np.array([c[0] for c in chars], dtype=\"float32\")\n",
    "\n",
    "\n",
    "### OCR les caractères à l'aide de notre modèle de reconnaissance de l'écriture manuscrite ###\n",
    "\n",
    "preds = model.predict(chars)\n"
   ]
  },
  {
   "cell_type": "code",
   "execution_count": 16,
   "metadata": {},
   "outputs": [],
   "source": [
    "### On définie la liste des noms des \"étiquettes\" (ABCDEFG...)\n",
    "labelNames = \"ABCDEFGHIJKLMNOPQRSTUVWXYZ5\"\n",
    "labelNames = [l for l in labelNames]"
   ]
  },
  {
   "cell_type": "code",
   "execution_count": 17,
   "metadata": {},
   "outputs": [
    {
     "output_type": "stream",
     "name": "stdout",
     "text": [
      "[INFO] F - 99.86%\n[INFO] O - 98.36%\n[INFO] R - 98.91%\n[INFO] M - 99.08%\n[INFO] A - 57.94%\n[INFO] T - 97.02%\n[INFO] Q - 40.40%\n[INFO] Q - 42.97%\n[INFO] W - 75.37%\n[INFO] D - 39.00%\n[INFO] A - 99.24%\n[INFO] T - 79.14%\n[INFO] A - 73.29%\n[INFO] I - 22.37%\n[INFO] A - 95.32%\n"
     ]
    }
   ],
   "source": [
    "### Boucle sur les prédictions et les emplacements de la boîte englobante ensemble ###\n",
    "for (pred, (x, y, w, h)) in zip(preds, boxes):\n",
    "    ### trouver l'index de l'étiquette avec le plus grand correspondant probabilité, puis extrayez la probabilité et l'étiquette ###\n",
    "    i = np.argmax(pred)\n",
    "    prob = pred[i]\n",
    "    label = labelNames[i]\n",
    "    # Dessin de la prediction sur l'image ###\n",
    "    print(\"[INFO] {} - {:.2f}%\".format(label, prob * 100))\n",
    "    cv2.rectangle(image, (x, y), (x + w, y + h), (0, 255, 0), 2)\n",
    "    cv2.putText(image, label, (x - 10, y - 10), cv2.FONT_HERSHEY_SIMPLEX, 1.2, (0, 255, 0), 2)"
   ]
  },
  {
   "cell_type": "code",
   "execution_count": 18,
   "metadata": {},
   "outputs": [
    {
     "output_type": "execute_result",
     "data": {
      "text/plain": [
       "<matplotlib.image.AxesImage at 0x1cbc2a89cc8>"
      ]
     },
     "metadata": {},
     "execution_count": 18
    },
    {
     "output_type": "display_data",
     "data": {
      "text/plain": "<Figure size 432x288 with 1 Axes>",
      "image/svg+xml": "<?xml version=\"1.0\" encoding=\"utf-8\" standalone=\"no\"?>\r\n<!DOCTYPE svg PUBLIC \"-//W3C//DTD SVG 1.1//EN\"\r\n  \"http://www.w3.org/Graphics/SVG/1.1/DTD/svg11.dtd\">\r\n<!-- Created with matplotlib (https://matplotlib.org/) -->\r\n<svg height=\"166.549019pt\" version=\"1.1\" viewBox=\"0 0 375.2875 166.549019\" width=\"375.2875pt\" xmlns=\"http://www.w3.org/2000/svg\" xmlns:xlink=\"http://www.w3.org/1999/xlink\">\r\n <metadata>\r\n  <rdf:RDF xmlns:cc=\"http://creativecommons.org/ns#\" xmlns:dc=\"http://purl.org/dc/elements/1.1/\" xmlns:rdf=\"http://www.w3.org/1999/02/22-rdf-syntax-ns#\">\r\n   <cc:Work>\r\n    <dc:type rdf:resource=\"http://purl.org/dc/dcmitype/StillImage\"/>\r\n    <dc:date>2020-11-19T15:07:49.210270</dc:date>\r\n    <dc:format>image/svg+xml</dc:format>\r\n    <dc:creator>\r\n     <cc:Agent>\r\n      <dc:title>Matplotlib v3.3.2, https://matplotlib.org/</dc:title>\r\n     </cc:Agent>\r\n    </dc:creator>\r\n   </cc:Work>\r\n  </rdf:RDF>\r\n </metadata>\r\n <defs>\r\n  <style type=\"text/css\">*{stroke-linecap:butt;stroke-linejoin:round;}</style>\r\n </defs>\r\n <g id=\"figure_1\">\r\n  <g id=\"patch_1\">\r\n   <path d=\"M 0 166.549019 \r\nL 375.2875 166.549019 \r\nL 375.2875 0 \r\nL 0 0 \r\nz\r\n\" style=\"fill:none;\"/>\r\n  </g>\r\n  <g id=\"axes_1\">\r\n   <g id=\"patch_2\">\r\n    <path d=\"M 33.2875 142.670894 \r\nL 368.0875 142.670894 \r\nL 368.0875 10.887916 \r\nL 33.2875 10.887916 \r\nz\r\n\" style=\"fill:#ffffff;\"/>\r\n   </g>\r\n   <g clip-path=\"url(#p3987a6384d)\">\r\n    <image height=\"132\" id=\"imagee31379a289\" transform=\"scale(1 -1)translate(0 -132)\" width=\"335\" x=\"33.2875\" xlink:href=\"data:image/png;base64,\r\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\" y=\"-10.670894\"/>\r\n   </g>\r\n   <g id=\"matplotlib.axis_1\">\r\n    <g id=\"xtick_1\">\r\n     <g id=\"line2d_1\">\r\n      <defs>\r\n       <path d=\"M 0 0 \r\nL 0 3.5 \r\n\" id=\"m83205bfff3\" style=\"stroke:#000000;stroke-width:0.8;\"/>\r\n      </defs>\r\n      <g>\r\n       <use style=\"stroke:#000000;stroke-width:0.8;\" x=\"33.398803\" xlink:href=\"#m83205bfff3\" y=\"142.670894\"/>\r\n      </g>\r\n     </g>\r\n     <g id=\"text_1\">\r\n      <!-- 0 -->\r\n      <g transform=\"translate(30.217553 157.269332)scale(0.1 -0.1)\">\r\n       <defs>\r\n        <path d=\"M 31.78125 66.40625 \r\nQ 24.171875 66.40625 20.328125 58.90625 \r\nQ 16.5 51.421875 16.5 36.375 \r\nQ 16.5 21.390625 20.328125 13.890625 \r\nQ 24.171875 6.390625 31.78125 6.390625 \r\nQ 39.453125 6.390625 43.28125 13.890625 \r\nQ 47.125 21.390625 47.125 36.375 \r\nQ 47.125 51.421875 43.28125 58.90625 \r\nQ 39.453125 66.40625 31.78125 66.40625 \r\nz\r\nM 31.78125 74.21875 \r\nQ 44.046875 74.21875 50.515625 64.515625 \r\nQ 56.984375 54.828125 56.984375 36.375 \r\nQ 56.984375 17.96875 50.515625 8.265625 \r\nQ 44.046875 -1.421875 31.78125 -1.421875 \r\nQ 19.53125 -1.421875 13.0625 8.265625 \r\nQ 6.59375 17.96875 6.59375 36.375 \r\nQ 6.59375 54.828125 13.0625 64.515625 \r\nQ 19.53125 74.21875 31.78125 74.21875 \r\nz\r\n\" id=\"DejaVuSans-48\"/>\r\n       </defs>\r\n       <use xlink:href=\"#DejaVuSans-48\"/>\r\n      </g>\r\n     </g>\r\n    </g>\r\n    <g id=\"xtick_2\">\r\n     <g id=\"line2d_2\">\r\n      <g>\r\n       <use style=\"stroke:#000000;stroke-width:0.8;\" x=\"77.92008\" xlink:href=\"#m83205bfff3\" y=\"142.670894\"/>\r\n      </g>\r\n     </g>\r\n     <g id=\"text_2\">\r\n      <!-- 200 -->\r\n      <g transform=\"translate(68.37633 157.269332)scale(0.1 -0.1)\">\r\n       <defs>\r\n        <path d=\"M 19.1875 8.296875 \r\nL 53.609375 8.296875 \r\nL 53.609375 0 \r\nL 7.328125 0 \r\nL 7.328125 8.296875 \r\nQ 12.9375 14.109375 22.625 23.890625 \r\nQ 32.328125 33.6875 34.8125 36.53125 \r\nQ 39.546875 41.84375 41.421875 45.53125 \r\nQ 43.3125 49.21875 43.3125 52.78125 \r\nQ 43.3125 58.59375 39.234375 62.25 \r\nQ 35.15625 65.921875 28.609375 65.921875 \r\nQ 23.96875 65.921875 18.8125 64.3125 \r\nQ 13.671875 62.703125 7.8125 59.421875 \r\nL 7.8125 69.390625 \r\nQ 13.765625 71.78125 18.9375 73 \r\nQ 24.125 74.21875 28.421875 74.21875 \r\nQ 39.75 74.21875 46.484375 68.546875 \r\nQ 53.21875 62.890625 53.21875 53.421875 \r\nQ 53.21875 48.921875 51.53125 44.890625 \r\nQ 49.859375 40.875 45.40625 35.40625 \r\nQ 44.1875 33.984375 37.640625 27.21875 \r\nQ 31.109375 20.453125 19.1875 8.296875 \r\nz\r\n\" id=\"DejaVuSans-50\"/>\r\n       </defs>\r\n       <use xlink:href=\"#DejaVuSans-50\"/>\r\n       <use x=\"63.623047\" xlink:href=\"#DejaVuSans-48\"/>\r\n       <use x=\"127.246094\" xlink:href=\"#DejaVuSans-48\"/>\r\n      </g>\r\n     </g>\r\n    </g>\r\n    <g id=\"xtick_3\">\r\n     <g id=\"line2d_3\">\r\n      <g>\r\n       <use style=\"stroke:#000000;stroke-width:0.8;\" x=\"122.441356\" xlink:href=\"#m83205bfff3\" y=\"142.670894\"/>\r\n      </g>\r\n     </g>\r\n     <g id=\"text_3\">\r\n      <!-- 400 -->\r\n      <g transform=\"translate(112.897606 157.269332)scale(0.1 -0.1)\">\r\n       <defs>\r\n        <path d=\"M 37.796875 64.3125 \r\nL 12.890625 25.390625 \r\nL 37.796875 25.390625 \r\nz\r\nM 35.203125 72.90625 \r\nL 47.609375 72.90625 \r\nL 47.609375 25.390625 \r\nL 58.015625 25.390625 \r\nL 58.015625 17.1875 \r\nL 47.609375 17.1875 \r\nL 47.609375 0 \r\nL 37.796875 0 \r\nL 37.796875 17.1875 \r\nL 4.890625 17.1875 \r\nL 4.890625 26.703125 \r\nz\r\n\" id=\"DejaVuSans-52\"/>\r\n       </defs>\r\n       <use xlink:href=\"#DejaVuSans-52\"/>\r\n       <use x=\"63.623047\" xlink:href=\"#DejaVuSans-48\"/>\r\n       <use x=\"127.246094\" xlink:href=\"#DejaVuSans-48\"/>\r\n      </g>\r\n     </g>\r\n    </g>\r\n    <g id=\"xtick_4\">\r\n     <g id=\"line2d_4\">\r\n      <g>\r\n       <use style=\"stroke:#000000;stroke-width:0.8;\" x=\"166.962633\" xlink:href=\"#m83205bfff3\" y=\"142.670894\"/>\r\n      </g>\r\n     </g>\r\n     <g id=\"text_4\">\r\n      <!-- 600 -->\r\n      <g transform=\"translate(157.418883 157.269332)scale(0.1 -0.1)\">\r\n       <defs>\r\n        <path d=\"M 33.015625 40.375 \r\nQ 26.375 40.375 22.484375 35.828125 \r\nQ 18.609375 31.296875 18.609375 23.390625 \r\nQ 18.609375 15.53125 22.484375 10.953125 \r\nQ 26.375 6.390625 33.015625 6.390625 \r\nQ 39.65625 6.390625 43.53125 10.953125 \r\nQ 47.40625 15.53125 47.40625 23.390625 \r\nQ 47.40625 31.296875 43.53125 35.828125 \r\nQ 39.65625 40.375 33.015625 40.375 \r\nz\r\nM 52.59375 71.296875 \r\nL 52.59375 62.3125 \r\nQ 48.875 64.0625 45.09375 64.984375 \r\nQ 41.3125 65.921875 37.59375 65.921875 \r\nQ 27.828125 65.921875 22.671875 59.328125 \r\nQ 17.53125 52.734375 16.796875 39.40625 \r\nQ 19.671875 43.65625 24.015625 45.921875 \r\nQ 28.375 48.1875 33.59375 48.1875 \r\nQ 44.578125 48.1875 50.953125 41.515625 \r\nQ 57.328125 34.859375 57.328125 23.390625 \r\nQ 57.328125 12.15625 50.6875 5.359375 \r\nQ 44.046875 -1.421875 33.015625 -1.421875 \r\nQ 20.359375 -1.421875 13.671875 8.265625 \r\nQ 6.984375 17.96875 6.984375 36.375 \r\nQ 6.984375 53.65625 15.1875 63.9375 \r\nQ 23.390625 74.21875 37.203125 74.21875 \r\nQ 40.921875 74.21875 44.703125 73.484375 \r\nQ 48.484375 72.75 52.59375 71.296875 \r\nz\r\n\" id=\"DejaVuSans-54\"/>\r\n       </defs>\r\n       <use xlink:href=\"#DejaVuSans-54\"/>\r\n       <use x=\"63.623047\" xlink:href=\"#DejaVuSans-48\"/>\r\n       <use x=\"127.246094\" xlink:href=\"#DejaVuSans-48\"/>\r\n      </g>\r\n     </g>\r\n    </g>\r\n    <g id=\"xtick_5\">\r\n     <g id=\"line2d_5\">\r\n      <g>\r\n       <use style=\"stroke:#000000;stroke-width:0.8;\" x=\"211.48391\" xlink:href=\"#m83205bfff3\" y=\"142.670894\"/>\r\n      </g>\r\n     </g>\r\n     <g id=\"text_5\">\r\n      <!-- 800 -->\r\n      <g transform=\"translate(201.94016 157.269332)scale(0.1 -0.1)\">\r\n       <defs>\r\n        <path d=\"M 31.78125 34.625 \r\nQ 24.75 34.625 20.71875 30.859375 \r\nQ 16.703125 27.09375 16.703125 20.515625 \r\nQ 16.703125 13.921875 20.71875 10.15625 \r\nQ 24.75 6.390625 31.78125 6.390625 \r\nQ 38.8125 6.390625 42.859375 10.171875 \r\nQ 46.921875 13.96875 46.921875 20.515625 \r\nQ 46.921875 27.09375 42.890625 30.859375 \r\nQ 38.875 34.625 31.78125 34.625 \r\nz\r\nM 21.921875 38.8125 \r\nQ 15.578125 40.375 12.03125 44.71875 \r\nQ 8.5 49.078125 8.5 55.328125 \r\nQ 8.5 64.0625 14.71875 69.140625 \r\nQ 20.953125 74.21875 31.78125 74.21875 \r\nQ 42.671875 74.21875 48.875 69.140625 \r\nQ 55.078125 64.0625 55.078125 55.328125 \r\nQ 55.078125 49.078125 51.53125 44.71875 \r\nQ 48 40.375 41.703125 38.8125 \r\nQ 48.828125 37.15625 52.796875 32.3125 \r\nQ 56.78125 27.484375 56.78125 20.515625 \r\nQ 56.78125 9.90625 50.3125 4.234375 \r\nQ 43.84375 -1.421875 31.78125 -1.421875 \r\nQ 19.734375 -1.421875 13.25 4.234375 \r\nQ 6.78125 9.90625 6.78125 20.515625 \r\nQ 6.78125 27.484375 10.78125 32.3125 \r\nQ 14.796875 37.15625 21.921875 38.8125 \r\nz\r\nM 18.3125 54.390625 \r\nQ 18.3125 48.734375 21.84375 45.5625 \r\nQ 25.390625 42.390625 31.78125 42.390625 \r\nQ 38.140625 42.390625 41.71875 45.5625 \r\nQ 45.3125 48.734375 45.3125 54.390625 \r\nQ 45.3125 60.0625 41.71875 63.234375 \r\nQ 38.140625 66.40625 31.78125 66.40625 \r\nQ 25.390625 66.40625 21.84375 63.234375 \r\nQ 18.3125 60.0625 18.3125 54.390625 \r\nz\r\n\" id=\"DejaVuSans-56\"/>\r\n       </defs>\r\n       <use xlink:href=\"#DejaVuSans-56\"/>\r\n       <use x=\"63.623047\" xlink:href=\"#DejaVuSans-48\"/>\r\n       <use x=\"127.246094\" xlink:href=\"#DejaVuSans-48\"/>\r\n      </g>\r\n     </g>\r\n    </g>\r\n    <g id=\"xtick_6\">\r\n     <g id=\"line2d_6\">\r\n      <g>\r\n       <use style=\"stroke:#000000;stroke-width:0.8;\" x=\"256.005186\" xlink:href=\"#m83205bfff3\" y=\"142.670894\"/>\r\n      </g>\r\n     </g>\r\n     <g id=\"text_6\">\r\n      <!-- 1000 -->\r\n      <g transform=\"translate(243.280186 157.269332)scale(0.1 -0.1)\">\r\n       <defs>\r\n        <path d=\"M 12.40625 8.296875 \r\nL 28.515625 8.296875 \r\nL 28.515625 63.921875 \r\nL 10.984375 60.40625 \r\nL 10.984375 69.390625 \r\nL 28.421875 72.90625 \r\nL 38.28125 72.90625 \r\nL 38.28125 8.296875 \r\nL 54.390625 8.296875 \r\nL 54.390625 0 \r\nL 12.40625 0 \r\nz\r\n\" id=\"DejaVuSans-49\"/>\r\n       </defs>\r\n       <use xlink:href=\"#DejaVuSans-49\"/>\r\n       <use x=\"63.623047\" xlink:href=\"#DejaVuSans-48\"/>\r\n       <use x=\"127.246094\" xlink:href=\"#DejaVuSans-48\"/>\r\n       <use x=\"190.869141\" xlink:href=\"#DejaVuSans-48\"/>\r\n      </g>\r\n     </g>\r\n    </g>\r\n    <g id=\"xtick_7\">\r\n     <g id=\"line2d_7\">\r\n      <g>\r\n       <use style=\"stroke:#000000;stroke-width:0.8;\" x=\"300.526463\" xlink:href=\"#m83205bfff3\" y=\"142.670894\"/>\r\n      </g>\r\n     </g>\r\n     <g id=\"text_7\">\r\n      <!-- 1200 -->\r\n      <g transform=\"translate(287.801463 157.269332)scale(0.1 -0.1)\">\r\n       <use xlink:href=\"#DejaVuSans-49\"/>\r\n       <use x=\"63.623047\" xlink:href=\"#DejaVuSans-50\"/>\r\n       <use x=\"127.246094\" xlink:href=\"#DejaVuSans-48\"/>\r\n       <use x=\"190.869141\" xlink:href=\"#DejaVuSans-48\"/>\r\n      </g>\r\n     </g>\r\n    </g>\r\n    <g id=\"xtick_8\">\r\n     <g id=\"line2d_8\">\r\n      <g>\r\n       <use style=\"stroke:#000000;stroke-width:0.8;\" x=\"345.047739\" xlink:href=\"#m83205bfff3\" y=\"142.670894\"/>\r\n      </g>\r\n     </g>\r\n     <g id=\"text_8\">\r\n      <!-- 1400 -->\r\n      <g transform=\"translate(332.322739 157.269332)scale(0.1 -0.1)\">\r\n       <use xlink:href=\"#DejaVuSans-49\"/>\r\n       <use x=\"63.623047\" xlink:href=\"#DejaVuSans-52\"/>\r\n       <use x=\"127.246094\" xlink:href=\"#DejaVuSans-48\"/>\r\n       <use x=\"190.869141\" xlink:href=\"#DejaVuSans-48\"/>\r\n      </g>\r\n     </g>\r\n    </g>\r\n   </g>\r\n   <g id=\"matplotlib.axis_2\">\r\n    <g id=\"ytick_1\">\r\n     <g id=\"line2d_9\">\r\n      <defs>\r\n       <path d=\"M 0 0 \r\nL -3.5 0 \r\n\" id=\"mbef62fa0b5\" style=\"stroke:#000000;stroke-width:0.8;\"/>\r\n      </defs>\r\n      <g>\r\n       <use style=\"stroke:#000000;stroke-width:0.8;\" x=\"33.2875\" xlink:href=\"#mbef62fa0b5\" y=\"10.999219\"/>\r\n      </g>\r\n     </g>\r\n     <g id=\"text_9\">\r\n      <!-- 0 -->\r\n      <g transform=\"translate(19.925 14.798437)scale(0.1 -0.1)\">\r\n       <use xlink:href=\"#DejaVuSans-48\"/>\r\n      </g>\r\n     </g>\r\n    </g>\r\n    <g id=\"ytick_2\">\r\n     <g id=\"line2d_10\">\r\n      <g>\r\n       <use style=\"stroke:#000000;stroke-width:0.8;\" x=\"33.2875\" xlink:href=\"#mbef62fa0b5\" y=\"33.259857\"/>\r\n      </g>\r\n     </g>\r\n     <g id=\"text_10\">\r\n      <!-- 100 -->\r\n      <g transform=\"translate(7.2 37.059076)scale(0.1 -0.1)\">\r\n       <use xlink:href=\"#DejaVuSans-49\"/>\r\n       <use x=\"63.623047\" xlink:href=\"#DejaVuSans-48\"/>\r\n       <use x=\"127.246094\" xlink:href=\"#DejaVuSans-48\"/>\r\n      </g>\r\n     </g>\r\n    </g>\r\n    <g id=\"ytick_3\">\r\n     <g id=\"line2d_11\">\r\n      <g>\r\n       <use style=\"stroke:#000000;stroke-width:0.8;\" x=\"33.2875\" xlink:href=\"#mbef62fa0b5\" y=\"55.520495\"/>\r\n      </g>\r\n     </g>\r\n     <g id=\"text_11\">\r\n      <!-- 200 -->\r\n      <g transform=\"translate(7.2 59.319714)scale(0.1 -0.1)\">\r\n       <use xlink:href=\"#DejaVuSans-50\"/>\r\n       <use x=\"63.623047\" xlink:href=\"#DejaVuSans-48\"/>\r\n       <use x=\"127.246094\" xlink:href=\"#DejaVuSans-48\"/>\r\n      </g>\r\n     </g>\r\n    </g>\r\n    <g id=\"ytick_4\">\r\n     <g id=\"line2d_12\">\r\n      <g>\r\n       <use style=\"stroke:#000000;stroke-width:0.8;\" x=\"33.2875\" xlink:href=\"#mbef62fa0b5\" y=\"77.781134\"/>\r\n      </g>\r\n     </g>\r\n     <g id=\"text_12\">\r\n      <!-- 300 -->\r\n      <g transform=\"translate(7.2 81.580352)scale(0.1 -0.1)\">\r\n       <defs>\r\n        <path d=\"M 40.578125 39.3125 \r\nQ 47.65625 37.796875 51.625 33 \r\nQ 55.609375 28.21875 55.609375 21.1875 \r\nQ 55.609375 10.40625 48.1875 4.484375 \r\nQ 40.765625 -1.421875 27.09375 -1.421875 \r\nQ 22.515625 -1.421875 17.65625 -0.515625 \r\nQ 12.796875 0.390625 7.625 2.203125 \r\nL 7.625 11.71875 \r\nQ 11.71875 9.328125 16.59375 8.109375 \r\nQ 21.484375 6.890625 26.8125 6.890625 \r\nQ 36.078125 6.890625 40.9375 10.546875 \r\nQ 45.796875 14.203125 45.796875 21.1875 \r\nQ 45.796875 27.640625 41.28125 31.265625 \r\nQ 36.765625 34.90625 28.71875 34.90625 \r\nL 20.21875 34.90625 \r\nL 20.21875 43.015625 \r\nL 29.109375 43.015625 \r\nQ 36.375 43.015625 40.234375 45.921875 \r\nQ 44.09375 48.828125 44.09375 54.296875 \r\nQ 44.09375 59.90625 40.109375 62.90625 \r\nQ 36.140625 65.921875 28.71875 65.921875 \r\nQ 24.65625 65.921875 20.015625 65.03125 \r\nQ 15.375 64.15625 9.8125 62.3125 \r\nL 9.8125 71.09375 \r\nQ 15.4375 72.65625 20.34375 73.4375 \r\nQ 25.25 74.21875 29.59375 74.21875 \r\nQ 40.828125 74.21875 47.359375 69.109375 \r\nQ 53.90625 64.015625 53.90625 55.328125 \r\nQ 53.90625 49.265625 50.4375 45.09375 \r\nQ 46.96875 40.921875 40.578125 39.3125 \r\nz\r\n\" id=\"DejaVuSans-51\"/>\r\n       </defs>\r\n       <use xlink:href=\"#DejaVuSans-51\"/>\r\n       <use x=\"63.623047\" xlink:href=\"#DejaVuSans-48\"/>\r\n       <use x=\"127.246094\" xlink:href=\"#DejaVuSans-48\"/>\r\n      </g>\r\n     </g>\r\n    </g>\r\n    <g id=\"ytick_5\">\r\n     <g id=\"line2d_13\">\r\n      <g>\r\n       <use style=\"stroke:#000000;stroke-width:0.8;\" x=\"33.2875\" xlink:href=\"#mbef62fa0b5\" y=\"100.041772\"/>\r\n      </g>\r\n     </g>\r\n     <g id=\"text_13\">\r\n      <!-- 400 -->\r\n      <g transform=\"translate(7.2 103.840991)scale(0.1 -0.1)\">\r\n       <use xlink:href=\"#DejaVuSans-52\"/>\r\n       <use x=\"63.623047\" xlink:href=\"#DejaVuSans-48\"/>\r\n       <use x=\"127.246094\" xlink:href=\"#DejaVuSans-48\"/>\r\n      </g>\r\n     </g>\r\n    </g>\r\n    <g id=\"ytick_6\">\r\n     <g id=\"line2d_14\">\r\n      <g>\r\n       <use style=\"stroke:#000000;stroke-width:0.8;\" x=\"33.2875\" xlink:href=\"#mbef62fa0b5\" y=\"122.30241\"/>\r\n      </g>\r\n     </g>\r\n     <g id=\"text_14\">\r\n      <!-- 500 -->\r\n      <g transform=\"translate(7.2 126.101629)scale(0.1 -0.1)\">\r\n       <defs>\r\n        <path d=\"M 10.796875 72.90625 \r\nL 49.515625 72.90625 \r\nL 49.515625 64.59375 \r\nL 19.828125 64.59375 \r\nL 19.828125 46.734375 \r\nQ 21.96875 47.46875 24.109375 47.828125 \r\nQ 26.265625 48.1875 28.421875 48.1875 \r\nQ 40.625 48.1875 47.75 41.5 \r\nQ 54.890625 34.8125 54.890625 23.390625 \r\nQ 54.890625 11.625 47.5625 5.09375 \r\nQ 40.234375 -1.421875 26.90625 -1.421875 \r\nQ 22.3125 -1.421875 17.546875 -0.640625 \r\nQ 12.796875 0.140625 7.71875 1.703125 \r\nL 7.71875 11.625 \r\nQ 12.109375 9.234375 16.796875 8.0625 \r\nQ 21.484375 6.890625 26.703125 6.890625 \r\nQ 35.15625 6.890625 40.078125 11.328125 \r\nQ 45.015625 15.765625 45.015625 23.390625 \r\nQ 45.015625 31 40.078125 35.4375 \r\nQ 35.15625 39.890625 26.703125 39.890625 \r\nQ 22.75 39.890625 18.8125 39.015625 \r\nQ 14.890625 38.140625 10.796875 36.28125 \r\nz\r\n\" id=\"DejaVuSans-53\"/>\r\n       </defs>\r\n       <use xlink:href=\"#DejaVuSans-53\"/>\r\n       <use x=\"63.623047\" xlink:href=\"#DejaVuSans-48\"/>\r\n       <use x=\"127.246094\" xlink:href=\"#DejaVuSans-48\"/>\r\n      </g>\r\n     </g>\r\n    </g>\r\n   </g>\r\n   <g id=\"patch_3\">\r\n    <path d=\"M 33.2875 142.670894 \r\nL 33.2875 10.887916 \r\n\" style=\"fill:none;stroke:#000000;stroke-linecap:square;stroke-linejoin:miter;stroke-width:0.8;\"/>\r\n   </g>\r\n   <g id=\"patch_4\">\r\n    <path d=\"M 368.0875 142.670894 \r\nL 368.0875 10.887916 \r\n\" style=\"fill:none;stroke:#000000;stroke-linecap:square;stroke-linejoin:miter;stroke-width:0.8;\"/>\r\n   </g>\r\n   <g id=\"patch_5\">\r\n    <path d=\"M 33.2875 142.670894 \r\nL 368.0875 142.670894 \r\n\" style=\"fill:none;stroke:#000000;stroke-linecap:square;stroke-linejoin:miter;stroke-width:0.8;\"/>\r\n   </g>\r\n   <g id=\"patch_6\">\r\n    <path d=\"M 33.2875 10.887916 \r\nL 368.0875 10.887916 \r\n\" style=\"fill:none;stroke:#000000;stroke-linecap:square;stroke-linejoin:miter;stroke-width:0.8;\"/>\r\n   </g>\r\n  </g>\r\n </g>\r\n <defs>\r\n  <clipPath id=\"p3987a6384d\">\r\n   <rect height=\"131.782979\" width=\"334.8\" x=\"33.2875\" y=\"10.887916\"/>\r\n  </clipPath>\r\n </defs>\r\n</svg>\r\n",
      "image/png": "[encoded data removed]"
     },
     "metadata": {
      "needs_background": "light"
     }
    }
   ],
   "source": [
    "### Montre l'image ###\n",
    "plt.imshow(image)\n"
   ]
  },
  {
   "cell_type": "code",
   "execution_count": null,
   "metadata": {},
   "outputs": [],
   "source": []
  }
 ]
}