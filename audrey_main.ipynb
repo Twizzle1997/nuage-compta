{
 "metadata": {
  "language_info": {
   "codemirror_mode": {
    "name": "ipython",
    "version": 3
   },
   "file_extension": ".py",
   "mimetype": "text/x-python",
   "name": "python",
   "nbconvert_exporter": "python",
   "pygments_lexer": "ipython3",
   "version": "3.7.9-final"
  },
  "orig_nbformat": 2,
  "kernelspec": {
   "name": "python3",
   "display_name": "Python 3.7.9 64-bit ('data-science': conda)",
   "metadata": {
    "interpreter": {
     "hash": "938689c78f2950ec71a763f66c175df89184f49a9e4cbadaee7403be87f0a33d"
    }
   }
  }
 },
 "nbformat": 4,
 "nbformat_minor": 2,
 "cells": [
  {
   "source": [
    "# Création du brief Nuage Compta"
   ],
   "cell_type": "markdown",
   "metadata": {}
  },
  {
   "source": [
    "## 1- Gestion des imports"
   ],
   "cell_type": "markdown",
   "metadata": {}
  },
  {
   "cell_type": "code",
   "execution_count": 20,
   "metadata": {},
   "outputs": [
    {
     "output_type": "stream",
     "name": "stdout",
     "text": [
      "The autoreload extension is already loaded. To reload it, use:\n  %reload_ext autoreload\n"
     ]
    }
   ],
   "source": [
    "%load_ext autoreload\n",
    "%autoreload\n",
    "\n",
    "import pandas as pd\n",
    "import numpy as np\n",
    "import matplotlib.pyplot as plt\n",
    "import keras\n",
    "import cv2\n",
    "from keras.preprocessing.image import ImageDataGenerator\n",
    "from keras.preprocessing import image\n",
    "from keras.models import Sequential\n",
    "from keras.layers import Dense, Dropout, Flatten\n",
    "from keras.layers import Conv2D, MaxPooling2D\n",
    "from keras import backend as K\n",
    "from keras.callbacks import ModelCheckpoint, Callback\n",
    "\n",
    "import methods\n",
    "# from methods import Methods\n",
    "# from methods.Methods import get_result\n",
    "# from methods.methods import negatif\n",
    "# import tensorflow"
   ]
  },
  {
   "source": [
    "## Paraètres de l'application"
   ],
   "cell_type": "markdown",
   "metadata": {}
  },
  {
   "cell_type": "code",
   "execution_count": 21,
   "metadata": {},
   "outputs": [],
   "source": [
    "# Filename of the model weights output\n",
    "modele_best = \"cnn_best.hdf5\"\n",
    "modele_final = \"cnn_final.hdf5\"\n",
    "\n",
    "DATA_ROOT = '/data/'\n",
    "MODELES_PATH = 'modeles/'\n",
    "TRAINING_PATH = 'training/'\n",
    "TESTING_PATH = 'testing/'\n",
    "ABC_PATH = '/data/alphbet-dataset/'\n",
    "\n",
    "batch_size = 5975\n",
    "num_classes = 26\n",
    "epochs = 15\n",
    "\n",
    "# input image dimensions\n",
    "# img_rows, img_cols = 28, 28\n",
    "img_size = 28\n",
    "input_shape = (img_size, img_size, 3)"
   ]
  },
  {
   "cell_type": "code",
   "execution_count": 22,
   "metadata": {},
   "outputs": [
    {
     "output_type": "stream",
     "name": "stdout",
     "text": [
      "Found 5200 images belonging to 26 classes.\n",
      "Found 775 images belonging to 26 classes.\n"
     ]
    }
   ],
   "source": [
    "train_datagen = ImageDataGenerator(rescale = 1./255,\n",
    "                                   shear_range = 0.2,\n",
    "                                   zoom_range = 0.2,\n",
    "                                   horizontal_flip = True)\n",
    "\n",
    "test_datagen = ImageDataGenerator(rescale = 1./255)\n",
    "\n",
    "train_generator = train_datagen.flow_from_directory(\n",
    "    directory = \"data/training\",\n",
    "    target_size = (img_size,img_size),\n",
    "    # batch_size = 200,\n",
    "    class_mode = \"categorical\"\n",
    "\n",
    ")\n",
    "\n",
    "test_generator = test_datagen.flow_from_directory(\n",
    "    directory = \"data/testing\",\n",
    "    target_size = (img_size,img_size),\n",
    "    # batch_size = 100,\n",
    "    class_mode = \"categorical\"\n",
    "\n",
    ")"
   ]
  },
  {
   "cell_type": "code",
   "execution_count": 23,
   "metadata": {},
   "outputs": [
    {
     "output_type": "stream",
     "name": "stdout",
     "text": [
      "Model: \"sequential_1\"\n_________________________________________________________________\nLayer (type)                 Output Shape              Param #   \n=================================================================\nconv2d_1 (Conv2D)            (None, 26, 26, 28)        784       \n_________________________________________________________________\nconv2d_2 (Conv2D)            (None, 24, 24, 28)        7084      \n_________________________________________________________________\nmax_pooling2d_1 (MaxPooling2 (None, 12, 12, 28)        0         \n_________________________________________________________________\ndropout_1 (Dropout)          (None, 12, 12, 28)        0         \n_________________________________________________________________\nflatten_1 (Flatten)          (None, 4032)              0         \n_________________________________________________________________\ndense_1 (Dense)              (None, 128)               516224    \n_________________________________________________________________\ndropout_2 (Dropout)          (None, 128)               0         \n_________________________________________________________________\ndense_2 (Dense)              (None, 26)                3354      \n=================================================================\nTotal params: 527,446\nTrainable params: 527,446\nNon-trainable params: 0\n_________________________________________________________________\n"
     ]
    }
   ],
   "source": [
    "model = Sequential()\n",
    "\n",
    "model.add(Conv2D(img_size, kernel_size=(3, 3),\n",
    "                 activation='relu',\n",
    "                 input_shape=input_shape\n",
    "                 ))\n",
    "\n",
    "model.add(Conv2D(img_size, (3, 3), activation='relu'))\n",
    "model.add(MaxPooling2D(pool_size=(2, 2)))\n",
    "model.add(Dropout(0.25))\n",
    "model.add(Flatten())\n",
    "model.add(Dense(128, activation='relu'))\n",
    "model.add(Dropout(0.5))\n",
    "model.add(Dense(num_classes, activation='softmax'))\n",
    "\n",
    "model.compile(loss=keras.losses.categorical_crossentropy,\n",
    "              optimizer=keras.optimizers.Adadelta(),\n",
    "              metrics=['accuracy'])\n",
    "\n",
    "model.summary()\n",
    "\n",
    "checkpointer = ModelCheckpoint(filepath= DATA_ROOT + MODELES_PATH + modele_best, verbose=1, save_best_only=False)"
   ]
  },
  {
   "cell_type": "code",
   "execution_count": 24,
   "metadata": {},
   "outputs": [
    {
     "output_type": "stream",
     "name": "stdout",
     "text": [
      "Epoch 1/15\n",
      "163/163 [==============================] - 17s 107ms/step - loss: 2.2652 - accuracy: 0.3387 - val_loss: 1.5966 - val_accuracy: 0.6439\n",
      "\n",
      "Epoch 00001: saving model to /datacnn_best.hdf5\n",
      "Epoch 2/15\n",
      "163/163 [==============================] - 15s 91ms/step - loss: 1.3566 - accuracy: 0.5798 - val_loss: 1.6462 - val_accuracy: 0.7845\n",
      "\n",
      "Epoch 00002: saving model to /datacnn_best.hdf5\n",
      "Epoch 3/15\n",
      "163/163 [==============================] - 17s 106ms/step - loss: 1.0775 - accuracy: 0.6606 - val_loss: 0.0365 - val_accuracy: 0.8477\n",
      "\n",
      "Epoch 00003: saving model to /datacnn_best.hdf5\n",
      "Epoch 4/15\n",
      "163/163 [==============================] - 17s 106ms/step - loss: 0.9116 - accuracy: 0.7098 - val_loss: 0.2670 - val_accuracy: 0.8581\n",
      "\n",
      "Epoch 00004: saving model to /datacnn_best.hdf5\n",
      "Epoch 5/15\n",
      "163/163 [==============================] - 16s 97ms/step - loss: 0.7884 - accuracy: 0.7477 - val_loss: 0.0212 - val_accuracy: 0.8671\n",
      "\n",
      "Epoch 00005: saving model to /datacnn_best.hdf5\n",
      "Epoch 6/15\n",
      "163/163 [==============================] - 16s 97ms/step - loss: 0.7368 - accuracy: 0.7654 - val_loss: 0.2808 - val_accuracy: 0.8929\n",
      "\n",
      "Epoch 00006: saving model to /datacnn_best.hdf5\n",
      "Epoch 7/15\n",
      "163/163 [==============================] - 19s 115ms/step - loss: 0.6454 - accuracy: 0.8010 - val_loss: 0.1459 - val_accuracy: 0.8877\n",
      "\n",
      "Epoch 00007: saving model to /datacnn_best.hdf5\n",
      "Epoch 8/15\n",
      "163/163 [==============================] - 18s 111ms/step - loss: 0.6173 - accuracy: 0.8067 - val_loss: 0.1393 - val_accuracy: 0.9006\n",
      "\n",
      "Epoch 00008: saving model to /datacnn_best.hdf5\n",
      "Epoch 9/15\n",
      "163/163 [==============================] - 16s 97ms/step - loss: 0.5812 - accuracy: 0.8198 - val_loss: 0.2538 - val_accuracy: 0.9071\n",
      "\n",
      "Epoch 00009: saving model to /datacnn_best.hdf5\n",
      "Epoch 10/15\n",
      "163/163 [==============================] - 17s 107ms/step - loss: 0.5355 - accuracy: 0.8329 - val_loss: 0.4022 - val_accuracy: 0.9135\n",
      "\n",
      "Epoch 00010: saving model to /datacnn_best.hdf5\n",
      "Epoch 11/15\n",
      "163/163 [==============================] - 18s 108ms/step - loss: 0.5208 - accuracy: 0.8350 - val_loss: 0.0902 - val_accuracy: 0.9135\n",
      "\n",
      "Epoch 00011: saving model to /datacnn_best.hdf5\n",
      "Epoch 12/15\n",
      "163/163 [==============================] - 15s 93ms/step - loss: 0.5134 - accuracy: 0.8429 - val_loss: 0.2066 - val_accuracy: 0.9161\n",
      "\n",
      "Epoch 00012: saving model to /datacnn_best.hdf5\n",
      "Epoch 13/15\n",
      "163/163 [==============================] - 15s 93ms/step - loss: 0.4656 - accuracy: 0.8554 - val_loss: 0.0231 - val_accuracy: 0.9123\n",
      "\n",
      "Epoch 00013: saving model to /datacnn_best.hdf5\n",
      "Epoch 14/15\n",
      "163/163 [==============================] - 16s 96ms/step - loss: 0.4468 - accuracy: 0.8613 - val_loss: 0.6472 - val_accuracy: 0.9148\n",
      "\n",
      "Epoch 00014: saving model to /datacnn_best.hdf5\n",
      "Epoch 15/15\n",
      "163/163 [==============================] - 16s 100ms/step - loss: 0.4363 - accuracy: 0.8625 - val_loss: 0.0204 - val_accuracy: 0.9226\n",
      "\n",
      "Epoch 00015: saving model to /datacnn_best.hdf5\n",
      "Test loss: 0.104610376060009\n",
      "Test accuracy: 0.9436538219451904\n",
      "Saving model...\n",
      "All done !\n"
     ]
    }
   ],
   "source": [
    "model.fit(train_generator,\n",
    "        #   batch_size=batch_size,\n",
    "          epochs=epochs,\n",
    "          verbose=1,\n",
    "          validation_data=(test_generator), \n",
    "          callbacks=[checkpointer]\n",
    "          )\n",
    "\n",
    "score = model.evaluate(train_generator, verbose=0)\n",
    "print('Test loss:', score[0])\n",
    "print('Test accuracy:', score[1])\n",
    "print(\"Saving model...\")\n",
    "model.save_weights(DATA_ROOT + MODELES_PATH + modele_final)\n",
    "print(\"All done !\")"
   ]
  },
  {
   "cell_type": "code",
   "execution_count": 25,
   "metadata": {},
   "outputs": [
    {
     "output_type": "display_data",
     "data": {
      "text/plain": "<Figure size 432x288 with 1 Axes>",
      "image/svg+xml": "<?xml version=\"1.0\" encoding=\"utf-8\" standalone=\"no\"?>\r\n<!DOCTYPE svg PUBLIC \"-//W3C//DTD SVG 1.1//EN\"\r\n  \"http://www.w3.org/Graphics/SVG/1.1/DTD/svg11.dtd\">\r\n<!-- Created with matplotlib (https://matplotlib.org/) -->\r\n<svg height=\"248.518125pt\" version=\"1.1\" viewBox=\"0 0 251.565 248.518125\" width=\"251.565pt\" xmlns=\"http://www.w3.org/2000/svg\" xmlns:xlink=\"http://www.w3.org/1999/xlink\">\r\n <metadata>\r\n  <rdf:RDF xmlns:cc=\"http://creativecommons.org/ns#\" xmlns:dc=\"http://purl.org/dc/elements/1.1/\" xmlns:rdf=\"http://www.w3.org/1999/02/22-rdf-syntax-ns#\">\r\n   <cc:Work>\r\n    <dc:type rdf:resource=\"http://purl.org/dc/dcmitype/StillImage\"/>\r\n    <dc:date>2020-11-17T11:40:24.496715</dc:date>\r\n    <dc:format>image/svg+xml</dc:format>\r\n    <dc:creator>\r\n     <cc:Agent>\r\n      <dc:title>Matplotlib v3.3.2, https://matplotlib.org/</dc:title>\r\n     </cc:Agent>\r\n    </dc:creator>\r\n   </cc:Work>\r\n  </rdf:RDF>\r\n </metadata>\r\n <defs>\r\n  <style type=\"text/css\">*{stroke-linecap:butt;stroke-linejoin:round;}</style>\r\n </defs>\r\n <g id=\"figure_1\">\r\n  <g id=\"patch_1\">\r\n   <path d=\"M 0 248.518125 \r\nL 251.565 248.518125 \r\nL 251.565 0 \r\nL 0 0 \r\nz\r\n\" style=\"fill:none;\"/>\r\n  </g>\r\n  <g id=\"axes_1\">\r\n   <g id=\"patch_2\">\r\n    <path d=\"M 26.925 224.64 \r\nL 244.365 224.64 \r\nL 244.365 7.2 \r\nL 26.925 7.2 \r\nz\r\n\" style=\"fill:#ffffff;\"/>\r\n   </g>\r\n   <g clip-path=\"url(#p6e306cdcca)\">\r\n    <image height=\"218\" id=\"imagee77ed11396\" transform=\"scale(1 -1)translate(0 -218)\" width=\"218\" x=\"26.925\" xlink:href=\"data:image/png;base64,\r\niVBORw0KGgoAAAANSUhEUgAAANoAAADaCAYAAADAHVzbAAAEBklEQVR4nO3dQU7bWhiAUQeIVCQkBii7YP8bYQFsACFGIAiEjt7ogaMS/Bnic6ZXkFu3X6/kX45XwzC8D8CkTubeACyB0CAgNAgIDQJCg4DQICA0CAgNAkKDgNAgIDQICA0CQoOA0CAgNAiczb0B/m+3242ur1ar0fX7+/vR9aurq3/e03fZbDafrt3e3o7+7MXFxXdvJ+NEg4DQICA0CAgNAkKDgNAgsBp83dyHrq+vR9dvbm6infws+0YL+7y/T/fP7dC9TcmJBgGhQUBoEBAaBIQGAaFBQGgQWOwcbcp5zj5zz3teXl4+XVuv1+FO/s3c1+0QTjQICA0CQoOA0CAgNAgIDQJCg8CvnqMt9dmmKf3582d0/enpabLPPuZr7kSDgNAgIDQICA0CQoOA0CAgNAj86Nc2mZNN4/Hx8dO18/PzST97qdfdiQYBoUFAaBAQGgSEBgGhQUBoEJh1jvb8/DzZ717qvGYY5v3OSj7mRIOA0CAgNAgIDQJCg4DQIDDr180deht6qbfwf/Pt+6X+nTnRICA0CAgNAkKDgNAgIDQICA0Ckz4mc3JyWMdLnbnMOSfbd81/8wxvTk40CAgNAkKDgNAgIDQICA0CQoPApHO0t7e3KX/9j7bb7T5dm3s+OPfnL5ETDQJCg4DQICA0CAgNAkKDgNAgMOtrm47ZnLMqc7Kfx4kGAaFBQGgQEBoEhAYBoUHA7f2JLPUW+1L/3Ps40SAgNAgIDQJCg4DQICA0CAgNApPO0bbb7ej6er2e8uP5Aq9lmoYTDQJCg4DQICA0CAgNAkKDgNAgsBqGYbbByb6Zzd3d3ej6ZrP5zu0wHD5H8zzax5xoEBAaBIQGAaFBQGgQEBoEhAaBHz1H28fM5msOue6u+dc40SAgNAgIDQJCg4DQICA0CAgNArO+H23fTGbfvGds/fX1dfRnfackJScaBIQGAaFBQGgQEBoEhAaBWR+TOdSUrxg65sdBDrluJyfj/zd77dPHnGgQEBoEhAYBoUFAaBAQGgSEBoFfPUcbc3Y2/gTQdruNdnJcjnm+OCUnGgSEBgGhQUBoEBAaBIQGAaFB4GjnaId6eHgYXb+8vGw28gWnp6ej67vdLtoJ/3GiQUBoEBAaBIQGAaFBQGgQEBoEzNEg4ESDgNAgIDQICA0CQoOA0CAgNAgIDQJCg4DQICA0CAgNAkKDgNAgIDQICA0CQoOA0CAgNAgIDQJCg4DQICA0CAgNAkKDgNAgIDQICA0CQoOA0CAgNAgIDQJCg4DQICA0CAgNAkKDgNAgIDQICA0CQoOA0CAgNAgIDQJCg4DQICA0CAgNAkKDgNAgIDQICA0CQoOA0CAgNAgIDQJCg4DQICA0CAgNAkKDwF+xSHWi4JINtgAAAABJRU5ErkJggg==\" y=\"-6.64\"/>\r\n   </g>\r\n   <g id=\"matplotlib.axis_1\">\r\n    <g id=\"xtick_1\">\r\n     <g id=\"line2d_1\">\r\n      <defs>\r\n       <path d=\"M 0 0 \r\nL 0 3.5 \r\n\" id=\"m5b05b20df4\" style=\"stroke:#000000;stroke-width:0.8;\"/>\r\n      </defs>\r\n      <g>\r\n       <use style=\"stroke:#000000;stroke-width:0.8;\" x=\"30.807857\" xlink:href=\"#m5b05b20df4\" y=\"224.64\"/>\r\n      </g>\r\n     </g>\r\n     <g id=\"text_1\">\r\n      <!-- 0 -->\r\n      <g transform=\"translate(27.626607 239.238437)scale(0.1 -0.1)\">\r\n       <defs>\r\n        <path d=\"M 31.78125 66.40625 \r\nQ 24.171875 66.40625 20.328125 58.90625 \r\nQ 16.5 51.421875 16.5 36.375 \r\nQ 16.5 21.390625 20.328125 13.890625 \r\nQ 24.171875 6.390625 31.78125 6.390625 \r\nQ 39.453125 6.390625 43.28125 13.890625 \r\nQ 47.125 21.390625 47.125 36.375 \r\nQ 47.125 51.421875 43.28125 58.90625 \r\nQ 39.453125 66.40625 31.78125 66.40625 \r\nz\r\nM 31.78125 74.21875 \r\nQ 44.046875 74.21875 50.515625 64.515625 \r\nQ 56.984375 54.828125 56.984375 36.375 \r\nQ 56.984375 17.96875 50.515625 8.265625 \r\nQ 44.046875 -1.421875 31.78125 -1.421875 \r\nQ 19.53125 -1.421875 13.0625 8.265625 \r\nQ 6.59375 17.96875 6.59375 36.375 \r\nQ 6.59375 54.828125 13.0625 64.515625 \r\nQ 19.53125 74.21875 31.78125 74.21875 \r\nz\r\n\" id=\"DejaVuSans-48\"/>\r\n       </defs>\r\n       <use xlink:href=\"#DejaVuSans-48\"/>\r\n      </g>\r\n     </g>\r\n    </g>\r\n    <g id=\"xtick_2\">\r\n     <g id=\"line2d_2\">\r\n      <g>\r\n       <use style=\"stroke:#000000;stroke-width:0.8;\" x=\"69.636429\" xlink:href=\"#m5b05b20df4\" y=\"224.64\"/>\r\n      </g>\r\n     </g>\r\n     <g id=\"text_2\">\r\n      <!-- 5 -->\r\n      <g transform=\"translate(66.455179 239.238437)scale(0.1 -0.1)\">\r\n       <defs>\r\n        <path d=\"M 10.796875 72.90625 \r\nL 49.515625 72.90625 \r\nL 49.515625 64.59375 \r\nL 19.828125 64.59375 \r\nL 19.828125 46.734375 \r\nQ 21.96875 47.46875 24.109375 47.828125 \r\nQ 26.265625 48.1875 28.421875 48.1875 \r\nQ 40.625 48.1875 47.75 41.5 \r\nQ 54.890625 34.8125 54.890625 23.390625 \r\nQ 54.890625 11.625 47.5625 5.09375 \r\nQ 40.234375 -1.421875 26.90625 -1.421875 \r\nQ 22.3125 -1.421875 17.546875 -0.640625 \r\nQ 12.796875 0.140625 7.71875 1.703125 \r\nL 7.71875 11.625 \r\nQ 12.109375 9.234375 16.796875 8.0625 \r\nQ 21.484375 6.890625 26.703125 6.890625 \r\nQ 35.15625 6.890625 40.078125 11.328125 \r\nQ 45.015625 15.765625 45.015625 23.390625 \r\nQ 45.015625 31 40.078125 35.4375 \r\nQ 35.15625 39.890625 26.703125 39.890625 \r\nQ 22.75 39.890625 18.8125 39.015625 \r\nQ 14.890625 38.140625 10.796875 36.28125 \r\nz\r\n\" id=\"DejaVuSans-53\"/>\r\n       </defs>\r\n       <use xlink:href=\"#DejaVuSans-53\"/>\r\n      </g>\r\n     </g>\r\n    </g>\r\n    <g id=\"xtick_3\">\r\n     <g id=\"line2d_3\">\r\n      <g>\r\n       <use style=\"stroke:#000000;stroke-width:0.8;\" x=\"108.465\" xlink:href=\"#m5b05b20df4\" y=\"224.64\"/>\r\n      </g>\r\n     </g>\r\n     <g id=\"text_3\">\r\n      <!-- 10 -->\r\n      <g transform=\"translate(102.1025 239.238437)scale(0.1 -0.1)\">\r\n       <defs>\r\n        <path d=\"M 12.40625 8.296875 \r\nL 28.515625 8.296875 \r\nL 28.515625 63.921875 \r\nL 10.984375 60.40625 \r\nL 10.984375 69.390625 \r\nL 28.421875 72.90625 \r\nL 38.28125 72.90625 \r\nL 38.28125 8.296875 \r\nL 54.390625 8.296875 \r\nL 54.390625 0 \r\nL 12.40625 0 \r\nz\r\n\" id=\"DejaVuSans-49\"/>\r\n       </defs>\r\n       <use xlink:href=\"#DejaVuSans-49\"/>\r\n       <use x=\"63.623047\" xlink:href=\"#DejaVuSans-48\"/>\r\n      </g>\r\n     </g>\r\n    </g>\r\n    <g id=\"xtick_4\">\r\n     <g id=\"line2d_4\">\r\n      <g>\r\n       <use style=\"stroke:#000000;stroke-width:0.8;\" x=\"147.293571\" xlink:href=\"#m5b05b20df4\" y=\"224.64\"/>\r\n      </g>\r\n     </g>\r\n     <g id=\"text_4\">\r\n      <!-- 15 -->\r\n      <g transform=\"translate(140.931071 239.238437)scale(0.1 -0.1)\">\r\n       <use xlink:href=\"#DejaVuSans-49\"/>\r\n       <use x=\"63.623047\" xlink:href=\"#DejaVuSans-53\"/>\r\n      </g>\r\n     </g>\r\n    </g>\r\n    <g id=\"xtick_5\">\r\n     <g id=\"line2d_5\">\r\n      <g>\r\n       <use style=\"stroke:#000000;stroke-width:0.8;\" x=\"186.122143\" xlink:href=\"#m5b05b20df4\" y=\"224.64\"/>\r\n      </g>\r\n     </g>\r\n     <g id=\"text_5\">\r\n      <!-- 20 -->\r\n      <g transform=\"translate(179.759643 239.238437)scale(0.1 -0.1)\">\r\n       <defs>\r\n        <path d=\"M 19.1875 8.296875 \r\nL 53.609375 8.296875 \r\nL 53.609375 0 \r\nL 7.328125 0 \r\nL 7.328125 8.296875 \r\nQ 12.9375 14.109375 22.625 23.890625 \r\nQ 32.328125 33.6875 34.8125 36.53125 \r\nQ 39.546875 41.84375 41.421875 45.53125 \r\nQ 43.3125 49.21875 43.3125 52.78125 \r\nQ 43.3125 58.59375 39.234375 62.25 \r\nQ 35.15625 65.921875 28.609375 65.921875 \r\nQ 23.96875 65.921875 18.8125 64.3125 \r\nQ 13.671875 62.703125 7.8125 59.421875 \r\nL 7.8125 69.390625 \r\nQ 13.765625 71.78125 18.9375 73 \r\nQ 24.125 74.21875 28.421875 74.21875 \r\nQ 39.75 74.21875 46.484375 68.546875 \r\nQ 53.21875 62.890625 53.21875 53.421875 \r\nQ 53.21875 48.921875 51.53125 44.890625 \r\nQ 49.859375 40.875 45.40625 35.40625 \r\nQ 44.1875 33.984375 37.640625 27.21875 \r\nQ 31.109375 20.453125 19.1875 8.296875 \r\nz\r\n\" id=\"DejaVuSans-50\"/>\r\n       </defs>\r\n       <use xlink:href=\"#DejaVuSans-50\"/>\r\n       <use x=\"63.623047\" xlink:href=\"#DejaVuSans-48\"/>\r\n      </g>\r\n     </g>\r\n    </g>\r\n    <g id=\"xtick_6\">\r\n     <g id=\"line2d_6\">\r\n      <g>\r\n       <use style=\"stroke:#000000;stroke-width:0.8;\" x=\"224.950714\" xlink:href=\"#m5b05b20df4\" y=\"224.64\"/>\r\n      </g>\r\n     </g>\r\n     <g id=\"text_6\">\r\n      <!-- 25 -->\r\n      <g transform=\"translate(218.588214 239.238437)scale(0.1 -0.1)\">\r\n       <use xlink:href=\"#DejaVuSans-50\"/>\r\n       <use x=\"63.623047\" xlink:href=\"#DejaVuSans-53\"/>\r\n      </g>\r\n     </g>\r\n    </g>\r\n   </g>\r\n   <g id=\"matplotlib.axis_2\">\r\n    <g id=\"ytick_1\">\r\n     <g id=\"line2d_7\">\r\n      <defs>\r\n       <path d=\"M 0 0 \r\nL -3.5 0 \r\n\" id=\"ma15d1d9895\" style=\"stroke:#000000;stroke-width:0.8;\"/>\r\n      </defs>\r\n      <g>\r\n       <use style=\"stroke:#000000;stroke-width:0.8;\" x=\"26.925\" xlink:href=\"#ma15d1d9895\" y=\"11.082857\"/>\r\n      </g>\r\n     </g>\r\n     <g id=\"text_7\">\r\n      <!-- 0 -->\r\n      <g transform=\"translate(13.5625 14.882076)scale(0.1 -0.1)\">\r\n       <use xlink:href=\"#DejaVuSans-48\"/>\r\n      </g>\r\n     </g>\r\n    </g>\r\n    <g id=\"ytick_2\">\r\n     <g id=\"line2d_8\">\r\n      <g>\r\n       <use style=\"stroke:#000000;stroke-width:0.8;\" x=\"26.925\" xlink:href=\"#ma15d1d9895\" y=\"49.911429\"/>\r\n      </g>\r\n     </g>\r\n     <g id=\"text_8\">\r\n      <!-- 5 -->\r\n      <g transform=\"translate(13.5625 53.710647)scale(0.1 -0.1)\">\r\n       <use xlink:href=\"#DejaVuSans-53\"/>\r\n      </g>\r\n     </g>\r\n    </g>\r\n    <g id=\"ytick_3\">\r\n     <g id=\"line2d_9\">\r\n      <g>\r\n       <use style=\"stroke:#000000;stroke-width:0.8;\" x=\"26.925\" xlink:href=\"#ma15d1d9895\" y=\"88.74\"/>\r\n      </g>\r\n     </g>\r\n     <g id=\"text_9\">\r\n      <!-- 10 -->\r\n      <g transform=\"translate(7.2 92.539219)scale(0.1 -0.1)\">\r\n       <use xlink:href=\"#DejaVuSans-49\"/>\r\n       <use x=\"63.623047\" xlink:href=\"#DejaVuSans-48\"/>\r\n      </g>\r\n     </g>\r\n    </g>\r\n    <g id=\"ytick_4\">\r\n     <g id=\"line2d_10\">\r\n      <g>\r\n       <use style=\"stroke:#000000;stroke-width:0.8;\" x=\"26.925\" xlink:href=\"#ma15d1d9895\" y=\"127.568571\"/>\r\n      </g>\r\n     </g>\r\n     <g id=\"text_10\">\r\n      <!-- 15 -->\r\n      <g transform=\"translate(7.2 131.36779)scale(0.1 -0.1)\">\r\n       <use xlink:href=\"#DejaVuSans-49\"/>\r\n       <use x=\"63.623047\" xlink:href=\"#DejaVuSans-53\"/>\r\n      </g>\r\n     </g>\r\n    </g>\r\n    <g id=\"ytick_5\">\r\n     <g id=\"line2d_11\">\r\n      <g>\r\n       <use style=\"stroke:#000000;stroke-width:0.8;\" x=\"26.925\" xlink:href=\"#ma15d1d9895\" y=\"166.397143\"/>\r\n      </g>\r\n     </g>\r\n     <g id=\"text_11\">\r\n      <!-- 20 -->\r\n      <g transform=\"translate(7.2 170.196362)scale(0.1 -0.1)\">\r\n       <use xlink:href=\"#DejaVuSans-50\"/>\r\n       <use x=\"63.623047\" xlink:href=\"#DejaVuSans-48\"/>\r\n      </g>\r\n     </g>\r\n    </g>\r\n    <g id=\"ytick_6\">\r\n     <g id=\"line2d_12\">\r\n      <g>\r\n       <use style=\"stroke:#000000;stroke-width:0.8;\" x=\"26.925\" xlink:href=\"#ma15d1d9895\" y=\"205.225714\"/>\r\n      </g>\r\n     </g>\r\n     <g id=\"text_12\">\r\n      <!-- 25 -->\r\n      <g transform=\"translate(7.2 209.024933)scale(0.1 -0.1)\">\r\n       <use xlink:href=\"#DejaVuSans-50\"/>\r\n       <use x=\"63.623047\" xlink:href=\"#DejaVuSans-53\"/>\r\n      </g>\r\n     </g>\r\n    </g>\r\n   </g>\r\n   <g id=\"patch_3\">\r\n    <path d=\"M 26.925 224.64 \r\nL 26.925 7.2 \r\n\" style=\"fill:none;stroke:#000000;stroke-linecap:square;stroke-linejoin:miter;stroke-width:0.8;\"/>\r\n   </g>\r\n   <g id=\"patch_4\">\r\n    <path d=\"M 244.365 224.64 \r\nL 244.365 7.2 \r\n\" style=\"fill:none;stroke:#000000;stroke-linecap:square;stroke-linejoin:miter;stroke-width:0.8;\"/>\r\n   </g>\r\n   <g id=\"patch_5\">\r\n    <path d=\"M 26.925 224.64 \r\nL 244.365 224.64 \r\n\" style=\"fill:none;stroke:#000000;stroke-linecap:square;stroke-linejoin:miter;stroke-width:0.8;\"/>\r\n   </g>\r\n   <g id=\"patch_6\">\r\n    <path d=\"M 26.925 7.2 \r\nL 244.365 7.2 \r\n\" style=\"fill:none;stroke:#000000;stroke-linecap:square;stroke-linejoin:miter;stroke-width:0.8;\"/>\r\n   </g>\r\n  </g>\r\n </g>\r\n <defs>\r\n  <clipPath id=\"p6e306cdcca\">\r\n   <rect height=\"217.44\" width=\"217.44\" x=\"26.925\" y=\"7.2\"/>\r\n  </clipPath>\r\n </defs>\r\n</svg>\r\n",
      "image/png": "[encoded data removed]"
     },
     "metadata": {
      "needs_background": "light"
     }
    }
   ],
   "source": [
    "image_loaded = r'data/image-test.png'\n",
    "test_image = image.load_img(image_loaded, target_size = (img_size,img_size))\n",
    "plt.imshow(test_image)\n",
    "test_image = image.img_to_array(test_image)\n",
    "test_image = np.expand_dims(test_image, axis = 0)\n"
   ]
  },
  {
   "cell_type": "code",
   "execution_count": 26,
   "metadata": {},
   "outputs": [
    {
     "output_type": "stream",
     "name": "stdout",
     "text": [
      "[[0. 0. 0. 0. 0. 0. 1. 0. 0. 0. 0. 0. 0. 0. 0. 0. 0. 0. 0. 0. 0. 0. 0. 0.\n  0. 0.]]\nG\n"
     ]
    }
   ],
   "source": [
    "resultat = model.predict_proba(test_image)\n",
    "lettre = Methods.get_result(resultat)\n",
    "# score_test = model.evaluate(resultat, verbose=0)\n",
    "\n",
    "print (resultat)\n",
    "# print(np.argmax(resultat, axis=1))\n",
    "print(lettre)\n",
    "\n",
    "# test_result = model.predict_proba(self, test_image)\n",
    "\n",
    "# make a prediction\n",
    "# ynew = model.predict(Xnew)\n",
    "# # show the inputs and predicted outputs\n",
    "# for i in range(len(test_image)):\n",
    "# \tprint(\"X=%s, Predicted=%s\" % (test_image[i], resultat[i]))\n",
    "\n",
    "# print(f\"La lettre correspondante est: {resultat}\")"
   ]
  },
  {
   "cell_type": "code",
   "execution_count": null,
   "metadata": {},
   "outputs": [],
   "source": [
    "Methods.negatif(\"data/imagedentrainement.jpeg\", \"data/imagedentrainement_sortie.jpeg\")\n",
    "\n",
    "#Create MSER object\n",
    "mser = cv2.MSER_create()\n",
    "\n",
    "#Your image path i-e receipt path\n",
    "img = cv2.imread('data/imagedentrainement_sortie.jpeg')\n",
    "\n",
    "#Convert to gray scale\n",
    "gray = cv2.cvtColor(img, cv2.COLOR_BGR2GRAY)\n",
    "\n",
    "vis = img.copy()\n",
    "\n",
    "#detect regions in gray scale image\n",
    "# regions, _ = mser.detectRegions(gray)\n",
    "\n",
    "# hulls = [cv2.convexHull(p.reshape(-1, 1, 2)) for p in regions]\n",
    "\n",
    "# cv2.polylines(vis, hulls, 1, (255, 255, 255))\n",
    "\n",
    "# plt.imshow(vis)\n",
    "\n",
    "# cv2.waitKey(0)\n",
    "\n",
    "# mask = np.zeros((img.shape[0], img.shape[1], 1), dtype=np.uint8)\n",
    "\n",
    "# for contour in hulls:\n",
    "\n",
    "#        cv2.drawContours(mask, [contour], -1, (255, 255, 255), -1)\n",
    "\n",
    "# #this is used to find only text regions, remaining are ignored\n",
    "# img_filter = cv2.bitwise_and(img, img, mask=mask)\n",
    "\n",
    "# plt.imshow(img_filter)\n",
    "\n",
    "# cv2.waitKey(0)"
   ]
  },
  {
   "cell_type": "code",
   "execution_count": null,
   "metadata": {},
   "outputs": [],
   "source": []
  }
 ]
}