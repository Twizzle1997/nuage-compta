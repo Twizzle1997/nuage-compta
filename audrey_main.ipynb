{
 "metadata": {
  "language_info": {
   "codemirror_mode": {
    "name": "ipython",
    "version": 3
   },
   "file_extension": ".py",
   "mimetype": "text/x-python",
   "name": "python",
   "nbconvert_exporter": "python",
   "pygments_lexer": "ipython3",
   "version": "3.7.9-final"
  },
  "orig_nbformat": 2,
  "kernelspec": {
   "name": "python3",
   "display_name": "Python 3.7.9 64-bit ('data-science': conda)",
   "metadata": {
    "interpreter": {
     "hash": "d1299f6780e3cbdedf1411f538f089ac858b183dda4c8823b06d05ab627402c9"
    }
   }
  }
 },
 "nbformat": 4,
 "nbformat_minor": 2,
 "cells": [
  {
   "source": [
    "# Création du brief Nuage Compta"
   ],
   "cell_type": "markdown",
   "metadata": {}
  },
  {
   "source": [
    "## 1- Gestion des imports"
   ],
   "cell_type": "markdown",
   "metadata": {}
  },
  {
   "cell_type": "code",
   "execution_count": 210,
   "metadata": {},
   "outputs": [
    {
     "output_type": "stream",
     "name": "stdout",
     "text": [
      "The autoreload extension is already loaded. To reload it, use:\n  %reload_ext autoreload\n"
     ]
    }
   ],
   "source": [
    "%load_ext autoreload\n",
    "%autoreload\n",
    "\n",
    "import pandas as pd\n",
    "import numpy as np\n",
    "import matplotlib.pyplot as plt\n",
    "import keras\n",
    "import cv2\n",
    "from keras.preprocessing.image import ImageDataGenerator\n",
    "from keras.preprocessing import image\n",
    "from keras.models import Sequential\n",
    "from keras.models import load_model\n",
    "from keras.layers import Dense, Dropout, Flatten\n",
    "from keras.layers import Conv2D, MaxPooling2D\n",
    "from keras import backend as K\n",
    "from keras.callbacks import ModelCheckpoint, Callback\n",
    "import imutils\n",
    "from imutils.contours import sort_contours\n",
    "\n",
    "import methods\n",
    "from methods import Methods\n",
    "# from methods import Methods\n",
    "# from methods.Methods import get_result\n",
    "# from methods.methods import negatif\n",
    "# import tensorflow"
   ]
  },
  {
   "source": [
    "## Paramètres de l'application"
   ],
   "cell_type": "markdown",
   "metadata": {}
  },
  {
   "cell_type": "code",
   "execution_count": 221,
   "metadata": {},
   "outputs": [],
   "source": [
    "# Filename of the model weights output\n",
    "modele_best = \"cnn_best.hdf5\"\n",
    "modele_final = \"cnn_final.hdf5\"\n",
    "\n",
    "DATA_ROOT = 'data/'\n",
    "MODELES_PATH = 'data/modeles/'\n",
    "TRAINING_PATH = 'training/'\n",
    "TESTING_PATH = 'testing/'\n",
    "ABC_PATH = 'data/alphbet-dataset/'\n",
    "\n",
    "batch_size = 5975\n",
    "num_classes = 27\n",
    "epochs = 25\n",
    "\n",
    "# input image dimensions\n",
    "# img_rows, img_cols = 28, 28\n",
    "img_size = 28\n",
    "input_shape = (img_size, img_size, 1)"
   ]
  },
  {
   "cell_type": "code",
   "execution_count": 222,
   "metadata": {},
   "outputs": [
    {
     "output_type": "stream",
     "name": "stdout",
     "text": [
      "Found 5205 images belonging to 27 classes.\n",
      "Found 784 images belonging to 27 classes.\n"
     ]
    }
   ],
   "source": [
    "train_datagen = ImageDataGenerator(rescale = 1./255,\n",
    "                                   shear_range = 0.2,\n",
    "                                   zoom_range = 0.2,\n",
    "                                   horizontal_flip = True)\n",
    "\n",
    "test_datagen = ImageDataGenerator(rescale = 1./255)\n",
    "\n",
    "train_generator = train_datagen.flow_from_directory(\n",
    "    directory = \"data/training\",\n",
    "    target_size = (img_size,img_size),\n",
    "    batch_size = 200,\n",
    "    class_mode = \"categorical\",\n",
    "    color_mode = \"grayscale\"                                \n",
    "\n",
    "\n",
    ")\n",
    "\n",
    "test_generator = test_datagen.flow_from_directory(\n",
    "    directory = \"data/testing\",\n",
    "    target_size = (img_size,img_size),\n",
    "    batch_size = 100,\n",
    "    class_mode = \"categorical\",\n",
    "    color_mode = \"grayscale\"\n",
    "\n",
    ")"
   ]
  },
  {
   "cell_type": "code",
   "execution_count": 223,
   "metadata": {},
   "outputs": [
    {
     "output_type": "stream",
     "name": "stdout",
     "text": [
      "Model: \"sequential_12\"\n_________________________________________________________________\nLayer (type)                 Output Shape              Param #   \n=================================================================\nconv2d_20 (Conv2D)           (None, 26, 26, 28)        280       \n_________________________________________________________________\nconv2d_21 (Conv2D)           (None, 24, 24, 28)        7084      \n_________________________________________________________________\nmax_pooling2d_12 (MaxPooling (None, 12, 12, 28)        0         \n_________________________________________________________________\ndropout_23 (Dropout)         (None, 12, 12, 28)        0         \n_________________________________________________________________\nflatten_12 (Flatten)         (None, 4032)              0         \n_________________________________________________________________\ndense_23 (Dense)             (None, 128)               516224    \n_________________________________________________________________\ndropout_24 (Dropout)         (None, 128)               0         \n_________________________________________________________________\ndense_24 (Dense)             (None, 27)                3483      \n=================================================================\nTotal params: 527,071\nTrainable params: 527,071\nNon-trainable params: 0\n_________________________________________________________________\n"
     ]
    }
   ],
   "source": [
    "model = Sequential()\n",
    "\n",
    "model.add(Conv2D(img_size, kernel_size=(3, 3),\n",
    "                 activation='relu',\n",
    "                 input_shape=input_shape\n",
    "                 ))\n",
    "\n",
    "model.add(Conv2D(img_size, (3, 3), activation='relu'))\n",
    "model.add(MaxPooling2D(pool_size=(2, 2)))\n",
    "model.add(Dropout(0.25))\n",
    "model.add(Flatten())\n",
    "model.add(Dense(128, activation='relu'))\n",
    "model.add(Dropout(0.5))\n",
    "model.add(Dense(num_classes, activation='softmax'))\n",
    "\n",
    "model.compile(loss=keras.losses.categorical_crossentropy,\n",
    "              optimizer=keras.optimizers.Adadelta(),\n",
    "              metrics=['accuracy'])\n",
    "\n",
    "model.summary()\n",
    "\n",
    "checkpointer = ModelCheckpoint(filepath= MODELES_PATH + modele_best, verbose=1, save_best_only=False)"
   ]
  },
  {
   "cell_type": "code",
   "execution_count": 224,
   "metadata": {},
   "outputs": [
    {
     "output_type": "stream",
     "name": "stdout",
     "text": [
      "Epoch 1/25\n",
      "27/27 [==============================] - 13s 484ms/step - loss: 2.8064 - accuracy: 0.1879 - val_loss: 3.5875 - val_accuracy: 0.1901\n",
      "\n",
      "Epoch 00001: saving model to data/modeles/cnn_best.hdf5\n",
      "Epoch 2/25\n",
      "27/27 [==============================] - 13s 463ms/step - loss: 2.2039 - accuracy: 0.3691 - val_loss: 1.3772 - val_accuracy: 0.5918\n",
      "\n",
      "Epoch 00002: saving model to data/modeles/cnn_best.hdf5\n",
      "Epoch 3/25\n",
      "27/27 [==============================] - 13s 499ms/step - loss: 1.7481 - accuracy: 0.4738 - val_loss: 1.1248 - val_accuracy: 0.6352\n",
      "\n",
      "Epoch 00003: saving model to data/modeles/cnn_best.hdf5\n",
      "Epoch 4/25\n",
      "27/27 [==============================] - 13s 478ms/step - loss: 1.5175 - accuracy: 0.5314 - val_loss: 0.9212 - val_accuracy: 0.6901\n",
      "\n",
      "Epoch 00004: saving model to data/modeles/cnn_best.hdf5\n",
      "Epoch 5/25\n",
      "27/27 [==============================] - 14s 529ms/step - loss: 1.3213 - accuracy: 0.5869 - val_loss: 0.8334 - val_accuracy: 0.7270\n",
      "\n",
      "Epoch 00005: saving model to data/modeles/cnn_best.hdf5\n",
      "Epoch 6/25\n",
      "27/27 [==============================] - 14s 516ms/step - loss: 1.2124 - accuracy: 0.6190 - val_loss: 0.8769 - val_accuracy: 0.7564\n",
      "\n",
      "Epoch 00006: saving model to data/modeles/cnn_best.hdf5\n",
      "Epoch 7/25\n",
      "27/27 [==============================] - 14s 509ms/step - loss: 1.0842 - accuracy: 0.6501 - val_loss: 0.6610 - val_accuracy: 0.7934\n",
      "\n",
      "Epoch 00007: saving model to data/modeles/cnn_best.hdf5\n",
      "Epoch 8/25\n",
      "27/27 [==============================] - 13s 491ms/step - loss: 1.0426 - accuracy: 0.6742 - val_loss: 0.4390 - val_accuracy: 0.8189\n",
      "\n",
      "Epoch 00008: saving model to data/modeles/cnn_best.hdf5\n",
      "Epoch 9/25\n",
      "27/27 [==============================] - 13s 485ms/step - loss: 0.9815 - accuracy: 0.7003 - val_loss: 0.5645 - val_accuracy: 0.8316\n",
      "\n",
      "Epoch 00009: saving model to data/modeles/cnn_best.hdf5\n",
      "Epoch 10/25\n",
      "27/27 [==============================] - 13s 488ms/step - loss: 0.9094 - accuracy: 0.7183 - val_loss: 0.7369 - val_accuracy: 0.8406\n",
      "\n",
      "Epoch 00010: saving model to data/modeles/cnn_best.hdf5\n",
      "Epoch 11/25\n",
      "27/27 [==============================] - 13s 493ms/step - loss: 0.8566 - accuracy: 0.7316 - val_loss: 0.4418 - val_accuracy: 0.8610\n",
      "\n",
      "Epoch 00011: saving model to data/modeles/cnn_best.hdf5\n",
      "Epoch 12/25\n",
      "27/27 [==============================] - 13s 482ms/step - loss: 0.7940 - accuracy: 0.7451 - val_loss: 0.5116 - val_accuracy: 0.8571\n",
      "\n",
      "Epoch 00012: saving model to data/modeles/cnn_best.hdf5\n",
      "Epoch 13/25\n",
      "27/27 [==============================] - 14s 512ms/step - loss: 0.7485 - accuracy: 0.7664 - val_loss: 0.5585 - val_accuracy: 0.8622\n",
      "\n",
      "Epoch 00013: saving model to data/modeles/cnn_best.hdf5\n",
      "Epoch 14/25\n",
      "27/27 [==============================] - 14s 533ms/step - loss: 0.7158 - accuracy: 0.7781 - val_loss: 0.3167 - val_accuracy: 0.8622\n",
      "\n",
      "Epoch 00014: saving model to data/modeles/cnn_best.hdf5\n",
      "Epoch 15/25\n",
      "27/27 [==============================] - 13s 500ms/step - loss: 0.6935 - accuracy: 0.7785 - val_loss: 0.2867 - val_accuracy: 0.8776\n",
      "\n",
      "Epoch 00015: saving model to data/modeles/cnn_best.hdf5\n",
      "Epoch 16/25\n",
      "27/27 [==============================] - 13s 494ms/step - loss: 0.6616 - accuracy: 0.7860 - val_loss: 0.4111 - val_accuracy: 0.8724\n",
      "\n",
      "Epoch 00016: saving model to data/modeles/cnn_best.hdf5\n",
      "Epoch 17/25\n",
      "27/27 [==============================] - 15s 549ms/step - loss: 0.6240 - accuracy: 0.8017 - val_loss: 0.3141 - val_accuracy: 0.8801\n",
      "\n",
      "Epoch 00017: saving model to data/modeles/cnn_best.hdf5\n",
      "Epoch 18/25\n",
      "27/27 [==============================] - 14s 504ms/step - loss: 0.6361 - accuracy: 0.7979 - val_loss: 0.2406 - val_accuracy: 0.8839\n",
      "\n",
      "Epoch 00018: saving model to data/modeles/cnn_best.hdf5\n",
      "Epoch 19/25\n",
      "27/27 [==============================] - 13s 493ms/step - loss: 0.6079 - accuracy: 0.8023 - val_loss: 0.2767 - val_accuracy: 0.8954\n",
      "\n",
      "Epoch 00019: saving model to data/modeles/cnn_best.hdf5\n",
      "Epoch 20/25\n",
      "27/27 [==============================] - 13s 477ms/step - loss: 0.6103 - accuracy: 0.8158 - val_loss: 0.2961 - val_accuracy: 0.9056\n",
      "\n",
      "Epoch 00020: saving model to data/modeles/cnn_best.hdf5\n",
      "Epoch 21/25\n",
      "27/27 [==============================] - 13s 492ms/step - loss: 0.5717 - accuracy: 0.8148 - val_loss: 0.2759 - val_accuracy: 0.9107\n",
      "\n",
      "Epoch 00021: saving model to data/modeles/cnn_best.hdf5\n",
      "Epoch 22/25\n",
      "27/27 [==============================] - 13s 490ms/step - loss: 0.5491 - accuracy: 0.8252 - val_loss: 0.2304 - val_accuracy: 0.8992\n",
      "\n",
      "Epoch 00022: saving model to data/modeles/cnn_best.hdf5\n",
      "Epoch 23/25\n",
      "27/27 [==============================] - 13s 495ms/step - loss: 0.5861 - accuracy: 0.8290 - val_loss: 0.3015 - val_accuracy: 0.9005\n",
      "\n",
      "Epoch 00023: saving model to data/modeles/cnn_best.hdf5\n",
      "Epoch 24/25\n",
      "27/27 [==============================] - 13s 498ms/step - loss: 0.5351 - accuracy: 0.8302 - val_loss: 0.2567 - val_accuracy: 0.9043\n",
      "\n",
      "Epoch 00024: saving model to data/modeles/cnn_best.hdf5\n",
      "Epoch 25/25\n",
      "27/27 [==============================] - 14s 536ms/step - loss: 0.5395 - accuracy: 0.8313 - val_loss: 0.3180 - val_accuracy: 0.9031\n",
      "\n",
      "Epoch 00025: saving model to data/modeles/cnn_best.hdf5\n",
      "Test loss: 0.8735974431037903\n",
      "Test accuracy: 0.9281460046768188\n",
      "Saving model...\n",
      "All done !\n"
     ]
    }
   ],
   "source": [
    "model.fit(train_generator,\n",
    "        #   batch_size=batch_size,\n",
    "          epochs=epochs,\n",
    "          verbose=1,\n",
    "          validation_data=(test_generator), \n",
    "          callbacks=[checkpointer]\n",
    "          )\n",
    "\n",
    "score = model.evaluate(train_generator, verbose=0)\n",
    "print('Test loss:', score[0])\n",
    "print('Test accuracy:', score[1])\n",
    "print(\"Saving model...\")\n",
    "model.save(MODELES_PATH + modele_final)\n",
    "print(\"All done !\")"
   ]
  },
  {
   "cell_type": "code",
   "execution_count": 225,
   "metadata": {},
   "outputs": [
    {
     "output_type": "display_data",
     "data": {
      "text/plain": "<Figure size 432x288 with 1 Axes>",
      "image/svg+xml": "<?xml version=\"1.0\" encoding=\"utf-8\" standalone=\"no\"?>\r\n<!DOCTYPE svg PUBLIC \"-//W3C//DTD SVG 1.1//EN\"\r\n  \"http://www.w3.org/Graphics/SVG/1.1/DTD/svg11.dtd\">\r\n<!-- Created with matplotlib (https://matplotlib.org/) -->\r\n<svg height=\"248.518125pt\" version=\"1.1\" viewBox=\"0 0 251.565 248.518125\" width=\"251.565pt\" xmlns=\"http://www.w3.org/2000/svg\" xmlns:xlink=\"http://www.w3.org/1999/xlink\">\r\n <metadata>\r\n  <rdf:RDF xmlns:cc=\"http://creativecommons.org/ns#\" xmlns:dc=\"http://purl.org/dc/elements/1.1/\" xmlns:rdf=\"http://www.w3.org/1999/02/22-rdf-syntax-ns#\">\r\n   <cc:Work>\r\n    <dc:type rdf:resource=\"http://purl.org/dc/dcmitype/StillImage\"/>\r\n    <dc:date>2020-11-20T16:27:40.937113</dc:date>\r\n    <dc:format>image/svg+xml</dc:format>\r\n    <dc:creator>\r\n     <cc:Agent>\r\n      <dc:title>Matplotlib v3.3.2, https://matplotlib.org/</dc:title>\r\n     </cc:Agent>\r\n    </dc:creator>\r\n   </cc:Work>\r\n  </rdf:RDF>\r\n </metadata>\r\n <defs>\r\n  <style type=\"text/css\">*{stroke-linecap:butt;stroke-linejoin:round;}</style>\r\n </defs>\r\n <g id=\"figure_1\">\r\n  <g id=\"patch_1\">\r\n   <path d=\"M 0 248.518125 \r\nL 251.565 248.518125 \r\nL 251.565 0 \r\nL 0 0 \r\nz\r\n\" style=\"fill:none;\"/>\r\n  </g>\r\n  <g id=\"axes_1\">\r\n   <g id=\"patch_2\">\r\n    <path d=\"M 26.925 224.64 \r\nL 244.365 224.64 \r\nL 244.365 7.2 \r\nL 26.925 7.2 \r\nz\r\n\" style=\"fill:#ffffff;\"/>\r\n   </g>\r\n   <g clip-path=\"url(#p9653ed770b)\">\r\n    <image height=\"218\" id=\"image42d6346501\" transform=\"scale(1 -1)translate(0 -218)\" width=\"218\" x=\"26.925\" xlink:href=\"data:image/png;base64,\r\niVBORw0KGgoAAAANSUhEUgAAANoAAADaCAYAAADAHVzbAAAETklEQVR4nO3dsYpcZRiA4TmziUY3YGcRVtHGViEgQSwDqcXcgddg4wV4A1aWYiOibTT2iyIYxNZCghuvQEIIuGtnk90z7sye90x2nqf9d3b/HXjnh/Nxzgy3h7snC2BSy7k3ALtAaBAQGgSEBgGhQUBoEBAaBIQGAaFBQGgQEBoEhAYBoUFAaBAQGgSuzL0BnnXv0YPR9b1h/PPxt6dPRtc/fuPWufd0Ua68dnDm2ueHX42+9qPX37/o7WScaBAQGgSEBgGhQUBoEBAaBAaPmzvdyXtvj67/8M0X0U62y50b72z0+vt//Xoh+zjNpnubkhMNAkKDgNAgIDQICA0CQoOA0CCws3O0Kec5q8w97/n26Kcz164vr4U7OZ+537dNONEgIDQICA0CQoOA0CAgNAgIDQLP9RxtV+9tmtJyf390/bvfDyf725f5PXeiQUBoEBAaBIQGAaFBQGgQEBoEtvprm8zJpvHln2fPwl7dG5+jbWpX33cnGgSEBgGhQUBoEBAaBIQGAaFBYNY52tdHP674iZfW/t27Oq9ZLP7P/HHaWRnPcqJBQGgQEBoEhAYBoUFAaBCY9fL+K8v1L98vFrt7CX/Or5xiPU40CAgNAkKDgNAgIDQICA0CQoPAtHO05d5GLzcn6616z83w1uNEg4DQICA0CAgNAkKDgNAgIDQITDpHu3/0y5S/fqvde/TgzLW9Yd7Pt12dT87JiQYBoUFAaBAQGgSEBgGhQUBoEJj1uY6X2ZyzMnOy7eNEg4DQICA0CAgNAkKDgNAg4PL+RHb1Evuu/t+rONEgIDQICA0CQoOA0CAgNAgIDQKTztH+Pn4yun59eW3KP88afC3TNJxoEBAaBIQGAaFBQGgQEBoEhAaBSedoHx7cGl1fNbP59I+fR9c/efPd824JZuFEg4DQICA0CAgNAkKDgNAgIDQIbPVzHW+++MLcW7iUNrnnzHMb1+NEg4DQICA0CAgNAkKDgNAgIDQIzDpHWzWTWTXvGVt/fPx09LUfHLiXjY4TDQJCg4DQICA0CAgNAkKDwFbfJrPJ5f+Xl+O32KwaHbgd5AzDML5+ctLs4znjRIOA0CAgNAgIDQJCg4DQICA0CGz1HG2VsVnXcHV8jvb9w/GvhNrkkWyXmjnZWpxoEBAaBIQGAaFBQGgQEBoEhAaB4fZw12DkFJ89PBxdf+vqfrST87tzcHP8B47/aTbCf5xoEBAaBIQGAaFBQGgQEBoEhAYBczQIONEgIDQICA0CQoOA0CAgNAgIDQJCg4DQICA0CAgNAkKDgNAgIDQICA0CQoOA0CAgNAgIDQJCg4DQICA0CAgNAkKDgNAgIDQICA0CQoOA0CAgNAgIDQJCg4DQICA0CAgNAkKDgNAgIDQICA0CQoOA0CAgNAgIDQJCg4DQICA0CAgNAkKDgNAgIDQICA0CQoOA0CAgNAgIDQJCg4DQICA0CAgNAkKDgNAg8C93V29KVgzUsgAAAABJRU5ErkJggg==\" y=\"-6.64\"/>\r\n   </g>\r\n   <g id=\"matplotlib.axis_1\">\r\n    <g id=\"xtick_1\">\r\n     <g id=\"line2d_1\">\r\n      <defs>\r\n       <path d=\"M 0 0 \r\nL 0 3.5 \r\n\" id=\"m1776ec60f1\" style=\"stroke:#000000;stroke-width:0.8;\"/>\r\n      </defs>\r\n      <g>\r\n       <use style=\"stroke:#000000;stroke-width:0.8;\" x=\"30.807857\" xlink:href=\"#m1776ec60f1\" y=\"224.64\"/>\r\n      </g>\r\n     </g>\r\n     <g id=\"text_1\">\r\n      <!-- 0 -->\r\n      <g transform=\"translate(27.626607 239.238437)scale(0.1 -0.1)\">\r\n       <defs>\r\n        <path d=\"M 31.78125 66.40625 \r\nQ 24.171875 66.40625 20.328125 58.90625 \r\nQ 16.5 51.421875 16.5 36.375 \r\nQ 16.5 21.390625 20.328125 13.890625 \r\nQ 24.171875 6.390625 31.78125 6.390625 \r\nQ 39.453125 6.390625 43.28125 13.890625 \r\nQ 47.125 21.390625 47.125 36.375 \r\nQ 47.125 51.421875 43.28125 58.90625 \r\nQ 39.453125 66.40625 31.78125 66.40625 \r\nz\r\nM 31.78125 74.21875 \r\nQ 44.046875 74.21875 50.515625 64.515625 \r\nQ 56.984375 54.828125 56.984375 36.375 \r\nQ 56.984375 17.96875 50.515625 8.265625 \r\nQ 44.046875 -1.421875 31.78125 -1.421875 \r\nQ 19.53125 -1.421875 13.0625 8.265625 \r\nQ 6.59375 17.96875 6.59375 36.375 \r\nQ 6.59375 54.828125 13.0625 64.515625 \r\nQ 19.53125 74.21875 31.78125 74.21875 \r\nz\r\n\" id=\"DejaVuSans-48\"/>\r\n       </defs>\r\n       <use xlink:href=\"#DejaVuSans-48\"/>\r\n      </g>\r\n     </g>\r\n    </g>\r\n    <g id=\"xtick_2\">\r\n     <g id=\"line2d_2\">\r\n      <g>\r\n       <use style=\"stroke:#000000;stroke-width:0.8;\" x=\"69.636429\" xlink:href=\"#m1776ec60f1\" y=\"224.64\"/>\r\n      </g>\r\n     </g>\r\n     <g id=\"text_2\">\r\n      <!-- 5 -->\r\n      <g transform=\"translate(66.455179 239.238437)scale(0.1 -0.1)\">\r\n       <defs>\r\n        <path d=\"M 10.796875 72.90625 \r\nL 49.515625 72.90625 \r\nL 49.515625 64.59375 \r\nL 19.828125 64.59375 \r\nL 19.828125 46.734375 \r\nQ 21.96875 47.46875 24.109375 47.828125 \r\nQ 26.265625 48.1875 28.421875 48.1875 \r\nQ 40.625 48.1875 47.75 41.5 \r\nQ 54.890625 34.8125 54.890625 23.390625 \r\nQ 54.890625 11.625 47.5625 5.09375 \r\nQ 40.234375 -1.421875 26.90625 -1.421875 \r\nQ 22.3125 -1.421875 17.546875 -0.640625 \r\nQ 12.796875 0.140625 7.71875 1.703125 \r\nL 7.71875 11.625 \r\nQ 12.109375 9.234375 16.796875 8.0625 \r\nQ 21.484375 6.890625 26.703125 6.890625 \r\nQ 35.15625 6.890625 40.078125 11.328125 \r\nQ 45.015625 15.765625 45.015625 23.390625 \r\nQ 45.015625 31 40.078125 35.4375 \r\nQ 35.15625 39.890625 26.703125 39.890625 \r\nQ 22.75 39.890625 18.8125 39.015625 \r\nQ 14.890625 38.140625 10.796875 36.28125 \r\nz\r\n\" id=\"DejaVuSans-53\"/>\r\n       </defs>\r\n       <use xlink:href=\"#DejaVuSans-53\"/>\r\n      </g>\r\n     </g>\r\n    </g>\r\n    <g id=\"xtick_3\">\r\n     <g id=\"line2d_3\">\r\n      <g>\r\n       <use style=\"stroke:#000000;stroke-width:0.8;\" x=\"108.465\" xlink:href=\"#m1776ec60f1\" y=\"224.64\"/>\r\n      </g>\r\n     </g>\r\n     <g id=\"text_3\">\r\n      <!-- 10 -->\r\n      <g transform=\"translate(102.1025 239.238437)scale(0.1 -0.1)\">\r\n       <defs>\r\n        <path d=\"M 12.40625 8.296875 \r\nL 28.515625 8.296875 \r\nL 28.515625 63.921875 \r\nL 10.984375 60.40625 \r\nL 10.984375 69.390625 \r\nL 28.421875 72.90625 \r\nL 38.28125 72.90625 \r\nL 38.28125 8.296875 \r\nL 54.390625 8.296875 \r\nL 54.390625 0 \r\nL 12.40625 0 \r\nz\r\n\" id=\"DejaVuSans-49\"/>\r\n       </defs>\r\n       <use xlink:href=\"#DejaVuSans-49\"/>\r\n       <use x=\"63.623047\" xlink:href=\"#DejaVuSans-48\"/>\r\n      </g>\r\n     </g>\r\n    </g>\r\n    <g id=\"xtick_4\">\r\n     <g id=\"line2d_4\">\r\n      <g>\r\n       <use style=\"stroke:#000000;stroke-width:0.8;\" x=\"147.293571\" xlink:href=\"#m1776ec60f1\" y=\"224.64\"/>\r\n      </g>\r\n     </g>\r\n     <g id=\"text_4\">\r\n      <!-- 15 -->\r\n      <g transform=\"translate(140.931071 239.238437)scale(0.1 -0.1)\">\r\n       <use xlink:href=\"#DejaVuSans-49\"/>\r\n       <use x=\"63.623047\" xlink:href=\"#DejaVuSans-53\"/>\r\n      </g>\r\n     </g>\r\n    </g>\r\n    <g id=\"xtick_5\">\r\n     <g id=\"line2d_5\">\r\n      <g>\r\n       <use style=\"stroke:#000000;stroke-width:0.8;\" x=\"186.122143\" xlink:href=\"#m1776ec60f1\" y=\"224.64\"/>\r\n      </g>\r\n     </g>\r\n     <g id=\"text_5\">\r\n      <!-- 20 -->\r\n      <g transform=\"translate(179.759643 239.238437)scale(0.1 -0.1)\">\r\n       <defs>\r\n        <path d=\"M 19.1875 8.296875 \r\nL 53.609375 8.296875 \r\nL 53.609375 0 \r\nL 7.328125 0 \r\nL 7.328125 8.296875 \r\nQ 12.9375 14.109375 22.625 23.890625 \r\nQ 32.328125 33.6875 34.8125 36.53125 \r\nQ 39.546875 41.84375 41.421875 45.53125 \r\nQ 43.3125 49.21875 43.3125 52.78125 \r\nQ 43.3125 58.59375 39.234375 62.25 \r\nQ 35.15625 65.921875 28.609375 65.921875 \r\nQ 23.96875 65.921875 18.8125 64.3125 \r\nQ 13.671875 62.703125 7.8125 59.421875 \r\nL 7.8125 69.390625 \r\nQ 13.765625 71.78125 18.9375 73 \r\nQ 24.125 74.21875 28.421875 74.21875 \r\nQ 39.75 74.21875 46.484375 68.546875 \r\nQ 53.21875 62.890625 53.21875 53.421875 \r\nQ 53.21875 48.921875 51.53125 44.890625 \r\nQ 49.859375 40.875 45.40625 35.40625 \r\nQ 44.1875 33.984375 37.640625 27.21875 \r\nQ 31.109375 20.453125 19.1875 8.296875 \r\nz\r\n\" id=\"DejaVuSans-50\"/>\r\n       </defs>\r\n       <use xlink:href=\"#DejaVuSans-50\"/>\r\n       <use x=\"63.623047\" xlink:href=\"#DejaVuSans-48\"/>\r\n      </g>\r\n     </g>\r\n    </g>\r\n    <g id=\"xtick_6\">\r\n     <g id=\"line2d_6\">\r\n      <g>\r\n       <use style=\"stroke:#000000;stroke-width:0.8;\" x=\"224.950714\" xlink:href=\"#m1776ec60f1\" y=\"224.64\"/>\r\n      </g>\r\n     </g>\r\n     <g id=\"text_6\">\r\n      <!-- 25 -->\r\n      <g transform=\"translate(218.588214 239.238437)scale(0.1 -0.1)\">\r\n       <use xlink:href=\"#DejaVuSans-50\"/>\r\n       <use x=\"63.623047\" xlink:href=\"#DejaVuSans-53\"/>\r\n      </g>\r\n     </g>\r\n    </g>\r\n   </g>\r\n   <g id=\"matplotlib.axis_2\">\r\n    <g id=\"ytick_1\">\r\n     <g id=\"line2d_7\">\r\n      <defs>\r\n       <path d=\"M 0 0 \r\nL -3.5 0 \r\n\" id=\"m1114bc2d99\" style=\"stroke:#000000;stroke-width:0.8;\"/>\r\n      </defs>\r\n      <g>\r\n       <use style=\"stroke:#000000;stroke-width:0.8;\" x=\"26.925\" xlink:href=\"#m1114bc2d99\" y=\"11.082857\"/>\r\n      </g>\r\n     </g>\r\n     <g id=\"text_7\">\r\n      <!-- 0 -->\r\n      <g transform=\"translate(13.5625 14.882076)scale(0.1 -0.1)\">\r\n       <use xlink:href=\"#DejaVuSans-48\"/>\r\n      </g>\r\n     </g>\r\n    </g>\r\n    <g id=\"ytick_2\">\r\n     <g id=\"line2d_8\">\r\n      <g>\r\n       <use style=\"stroke:#000000;stroke-width:0.8;\" x=\"26.925\" xlink:href=\"#m1114bc2d99\" y=\"49.911429\"/>\r\n      </g>\r\n     </g>\r\n     <g id=\"text_8\">\r\n      <!-- 5 -->\r\n      <g transform=\"translate(13.5625 53.710647)scale(0.1 -0.1)\">\r\n       <use xlink:href=\"#DejaVuSans-53\"/>\r\n      </g>\r\n     </g>\r\n    </g>\r\n    <g id=\"ytick_3\">\r\n     <g id=\"line2d_9\">\r\n      <g>\r\n       <use style=\"stroke:#000000;stroke-width:0.8;\" x=\"26.925\" xlink:href=\"#m1114bc2d99\" y=\"88.74\"/>\r\n      </g>\r\n     </g>\r\n     <g id=\"text_9\">\r\n      <!-- 10 -->\r\n      <g transform=\"translate(7.2 92.539219)scale(0.1 -0.1)\">\r\n       <use xlink:href=\"#DejaVuSans-49\"/>\r\n       <use x=\"63.623047\" xlink:href=\"#DejaVuSans-48\"/>\r\n      </g>\r\n     </g>\r\n    </g>\r\n    <g id=\"ytick_4\">\r\n     <g id=\"line2d_10\">\r\n      <g>\r\n       <use style=\"stroke:#000000;stroke-width:0.8;\" x=\"26.925\" xlink:href=\"#m1114bc2d99\" y=\"127.568571\"/>\r\n      </g>\r\n     </g>\r\n     <g id=\"text_10\">\r\n      <!-- 15 -->\r\n      <g transform=\"translate(7.2 131.36779)scale(0.1 -0.1)\">\r\n       <use xlink:href=\"#DejaVuSans-49\"/>\r\n       <use x=\"63.623047\" xlink:href=\"#DejaVuSans-53\"/>\r\n      </g>\r\n     </g>\r\n    </g>\r\n    <g id=\"ytick_5\">\r\n     <g id=\"line2d_11\">\r\n      <g>\r\n       <use style=\"stroke:#000000;stroke-width:0.8;\" x=\"26.925\" xlink:href=\"#m1114bc2d99\" y=\"166.397143\"/>\r\n      </g>\r\n     </g>\r\n     <g id=\"text_11\">\r\n      <!-- 20 -->\r\n      <g transform=\"translate(7.2 170.196362)scale(0.1 -0.1)\">\r\n       <use xlink:href=\"#DejaVuSans-50\"/>\r\n       <use x=\"63.623047\" xlink:href=\"#DejaVuSans-48\"/>\r\n      </g>\r\n     </g>\r\n    </g>\r\n    <g id=\"ytick_6\">\r\n     <g id=\"line2d_12\">\r\n      <g>\r\n       <use style=\"stroke:#000000;stroke-width:0.8;\" x=\"26.925\" xlink:href=\"#m1114bc2d99\" y=\"205.225714\"/>\r\n      </g>\r\n     </g>\r\n     <g id=\"text_12\">\r\n      <!-- 25 -->\r\n      <g transform=\"translate(7.2 209.024933)scale(0.1 -0.1)\">\r\n       <use xlink:href=\"#DejaVuSans-50\"/>\r\n       <use x=\"63.623047\" xlink:href=\"#DejaVuSans-53\"/>\r\n      </g>\r\n     </g>\r\n    </g>\r\n   </g>\r\n   <g id=\"patch_3\">\r\n    <path d=\"M 26.925 224.64 \r\nL 26.925 7.2 \r\n\" style=\"fill:none;stroke:#000000;stroke-linecap:square;stroke-linejoin:miter;stroke-width:0.8;\"/>\r\n   </g>\r\n   <g id=\"patch_4\">\r\n    <path d=\"M 244.365 224.64 \r\nL 244.365 7.2 \r\n\" style=\"fill:none;stroke:#000000;stroke-linecap:square;stroke-linejoin:miter;stroke-width:0.8;\"/>\r\n   </g>\r\n   <g id=\"patch_5\">\r\n    <path d=\"M 26.925 224.64 \r\nL 244.365 224.64 \r\n\" style=\"fill:none;stroke:#000000;stroke-linecap:square;stroke-linejoin:miter;stroke-width:0.8;\"/>\r\n   </g>\r\n   <g id=\"patch_6\">\r\n    <path d=\"M 26.925 7.2 \r\nL 244.365 7.2 \r\n\" style=\"fill:none;stroke:#000000;stroke-linecap:square;stroke-linejoin:miter;stroke-width:0.8;\"/>\r\n   </g>\r\n  </g>\r\n </g>\r\n <defs>\r\n  <clipPath id=\"p9653ed770b\">\r\n   <rect height=\"217.44\" width=\"217.44\" x=\"26.925\" y=\"7.2\"/>\r\n  </clipPath>\r\n </defs>\r\n</svg>\r\n",
      "image/png": "[encoded data removed]"
     },
     "metadata": {
      "needs_background": "light"
     }
    }
   ],
   "source": [
    "image_loaded = r'data/image-test.png'\n",
    "test_image = image.load_img(image_loaded, target_size = (img_size,img_size), color_mode=\"grayscale\")\n",
    "plt.imshow(test_image)\n",
    "test_image = image.img_to_array(test_image)\n",
    "test_image = np.expand_dims(test_image, axis = 0)\n",
    "\n",
    "\n"
   ]
  },
  {
   "cell_type": "code",
   "execution_count": 226,
   "metadata": {},
   "outputs": [
    {
     "output_type": "stream",
     "name": "stdout",
     "text": [
      "[[0. 0. 0. 0. 0. 0. 0. 0. 0. 0. 0. 0. 0. 0. 0. 0. 1. 0. 0. 0. 0. 0. 0. 0.\n  0. 0. 0.]]\nQ\n"
     ]
    }
   ],
   "source": [
    "resultat = model.predict_proba(test_image)\n",
    "lettre = Methods.get_result(resultat)\n",
    "# score_test = model.evaluate(resultat, verbose=0)\n",
    "\n",
    "print (resultat)\n",
    "# print(np.argmax(resultat, axis=1))\n",
    "print(lettre)\n",
    "\n",
    "# test_result = model.predict_proba(self, test_image)\n",
    "\n",
    "# make a prediction\n",
    "# ynew = model.predict(Xnew)\n",
    "# # show the inputs and predicted outputs\n",
    "# for i in range(len(test_image)):\n",
    "# \tprint(\"X=%s, Predicted=%s\" % (test_image[i], resultat[i]))\n",
    "\n",
    "# print(f\"La lettre correspondante est: {resultat}\")"
   ]
  },
  {
   "cell_type": "code",
   "execution_count": 227,
   "metadata": {},
   "outputs": [],
   "source": [
    "chars = []\n",
    "\n",
    "img = cv2.imread(DATA_ROOT +'imagedentrainement.jpeg')\n",
    "\n",
    "#Convert to gray scale et blur\n",
    "img_blur = cv2.GaussianBlur(img, (9, 9), 1)\n",
    "gray = cv2.cvtColor(img_blur, cv2.COLOR_BGR2GRAY)\n",
    "\n",
    "cv2.imwrite(DATA_ROOT +'imagedentrainement_gray.jpeg', gray)\n",
    "\n",
    "# On applique le filtre pour passer l'image en blanc sur fond noir\n",
    "_, threshold = cv2.threshold(gray, 0, 255, cv2.THRESH_OTSU + cv2.THRESH_BINARY_INV) \n",
    "cv2.imwrite(DATA_ROOT + \"threshold.jpeg\", threshold)\n",
    "\n",
    "vis = threshold.copy()\n",
    "\n",
    "contours = cv2.findContours(vis, cv2.RETR_EXTERNAL, cv2.CHAIN_APPROX_SIMPLE)\n",
    "contours = contours[0] if len(contours) == 2 else contours[1]\n",
    "\n",
    "roi_index = 0\n",
    "\n",
    "# Détection des ROI\n",
    "for contour in contours:\n",
    "    x,y,w,h = cv2.boundingRect(contour)\n",
    "\n",
    "    if w < 50 and h < 50:\n",
    "        continue\n",
    "\n",
    "\n",
    "    roi = vis[y:y+h, x:x+w]\n",
    "    cv2.imwrite(DATA_ROOT + '/extract/region_{}.jpeg'.format(roi_index), roi)\n",
    "\n",
    "\n",
    "    if w > h:\n",
    "        r_img = imutils.resize(roi, width=20)\n",
    "    else:\n",
    "        r_img = imutils.resize(roi, height=20)\n",
    "\n",
    "    cv2.imwrite(DATA_ROOT + '/extract/region_resize_{}.jpeg'.format(roi_index), r_img)\n",
    "\n",
    "\n",
    "    # Ajout du padding de 4\n",
    "    p_img= cv2.copyMakeBorder(r_img.copy(),4,4,4,4,cv2.BORDER_CONSTANT)\n",
    "    p_img = cv2.resize(p_img, (28, 28))\n",
    "\n",
    "    cv2.imwrite(DATA_ROOT + '/extract/region_padded_{}.jpeg'.format(roi_index), p_img)\n",
    "\n",
    "    p_img = p_img.astype(\"float32\") / 255.0\n",
    "    p_img = np.expand_dims(p_img, axis=-1)\n",
    "    chars.append((p_img, (x, y, w, h)))\n",
    "\n",
    "    roi_index += 1\n",
    "\n"
   ]
  },
  {
   "cell_type": "code",
   "execution_count": 228,
   "metadata": {},
   "outputs": [],
   "source": [
    "model = load_model(MODELES_PATH + modele_final)"
   ]
  },
  {
   "cell_type": "code",
   "execution_count": 229,
   "metadata": {},
   "outputs": [
    {
     "output_type": "stream",
     "name": "stdout",
     "text": [
      "[INFO] Q - 33.44%\n[INFO] O - 66.65%\n[INFO] R - 93.83%\n[INFO] S - 29.08%\n[INFO] A - 97.95%\n[INFO] M - 97.35%\n[INFO] Q - 50.90%\n[INFO] T - 99.74%\n[INFO] F - 99.31%\n[INFO] N - 87.97%\n[INFO] A - 78.39%\n[INFO] D - 91.12%\n[INFO] A - 99.64%\n[INFO] R - 23.05%\n[INFO] T - 96.23%\n[INFO] A - 98.54%\n"
     ]
    }
   ],
   "source": [
    "boxes = [b[1] for b in chars]\n",
    "chars = np.array([c[0] for c in chars], dtype=\"float32\")\n",
    "\n",
    "\n",
    "# Application du modèle entraîné sur les RoI\n",
    "\n",
    "preds = model.predict(chars)\n",
    "\n",
    "labelNames = \"ABCDEFGHIJKLMNOPQRSTUVWXYZ♡\"\n",
    "labelNames = [l for l in labelNames]\n",
    "\n",
    "\n",
    "for (pred, (x, y, w, h)) in zip(preds, boxes):\n",
    "    i = np.argmax(pred)\n",
    "    prob = pred[i]\n",
    "    label = labelNames[i]\n",
    "    \n",
    "    # Création de l'image de prediction\n",
    "    print(\"[INFO] {} - {:.2f}%\".format(label, prob * 100))\n",
    "    cv2.rectangle(img, (x, y), (x + w, y + h), (255, 0, 0), 2)\n",
    "    cv2.putText(img, label, (x - 10, y - 10), cv2.FONT_HERSHEY_SIMPLEX, 1.2, (255, 0, 0), 2)"
   ]
  },
  {
   "cell_type": "code",
   "execution_count": 230,
   "metadata": {},
   "outputs": [
    {
     "output_type": "execute_result",
     "data": {
      "text/plain": [
       "<matplotlib.image.AxesImage at 0x1d665c4dc48>"
      ]
     },
     "metadata": {},
     "execution_count": 230
    },
    {
     "output_type": "display_data",
     "data": {
      "text/plain": "<Figure size 432x288 with 1 Axes>",
      "image/svg+xml": "<?xml version=\"1.0\" encoding=\"utf-8\" standalone=\"no\"?>\r\n<!DOCTYPE svg PUBLIC \"-//W3C//DTD SVG 1.1//EN\"\r\n  \"http://www.w3.org/Graphics/SVG/1.1/DTD/svg11.dtd\">\r\n<!-- Created with matplotlib (https://matplotlib.org/) -->\r\n<svg height=\"166.549019pt\" version=\"1.1\" viewBox=\"0 0 375.2875 166.549019\" width=\"375.2875pt\" xmlns=\"http://www.w3.org/2000/svg\" xmlns:xlink=\"http://www.w3.org/1999/xlink\">\r\n <metadata>\r\n  <rdf:RDF xmlns:cc=\"http://creativecommons.org/ns#\" xmlns:dc=\"http://purl.org/dc/elements/1.1/\" xmlns:rdf=\"http://www.w3.org/1999/02/22-rdf-syntax-ns#\">\r\n   <cc:Work>\r\n    <dc:type rdf:resource=\"http://purl.org/dc/dcmitype/StillImage\"/>\r\n    <dc:date>2020-11-20T16:27:43.649224</dc:date>\r\n    <dc:format>image/svg+xml</dc:format>\r\n    <dc:creator>\r\n     <cc:Agent>\r\n      <dc:title>Matplotlib v3.3.2, https://matplotlib.org/</dc:title>\r\n     </cc:Agent>\r\n    </dc:creator>\r\n   </cc:Work>\r\n  </rdf:RDF>\r\n </metadata>\r\n <defs>\r\n  <style type=\"text/css\">*{stroke-linecap:butt;stroke-linejoin:round;}</style>\r\n </defs>\r\n <g id=\"figure_1\">\r\n  <g id=\"patch_1\">\r\n   <path d=\"M 0 166.549019 \r\nL 375.2875 166.549019 \r\nL 375.2875 0 \r\nL 0 0 \r\nz\r\n\" style=\"fill:none;\"/>\r\n  </g>\r\n  <g id=\"axes_1\">\r\n   <g id=\"patch_2\">\r\n    <path d=\"M 33.2875 142.670894 \r\nL 368.0875 142.670894 \r\nL 368.0875 10.887916 \r\nL 33.2875 10.887916 \r\nz\r\n\" style=\"fill:#ffffff;\"/>\r\n   </g>\r\n   <g clip-path=\"url(#pafdfb8fa34)\">\r\n    <image height=\"132\" id=\"imagee7cdedc422\" transform=\"scale(1 -1)translate(0 -132)\" width=\"335\" x=\"33.2875\" xlink:href=\"data:image/png;base64,\r\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\" y=\"-10.670894\"/>\r\n   </g>\r\n   <g id=\"matplotlib.axis_1\">\r\n    <g id=\"xtick_1\">\r\n     <g id=\"line2d_1\">\r\n      <defs>\r\n       <path d=\"M 0 0 \r\nL 0 3.5 \r\n\" id=\"m4c2060a68d\" style=\"stroke:#000000;stroke-width:0.8;\"/>\r\n      </defs>\r\n      <g>\r\n       <use style=\"stroke:#000000;stroke-width:0.8;\" x=\"33.398803\" xlink:href=\"#m4c2060a68d\" y=\"142.670894\"/>\r\n      </g>\r\n     </g>\r\n     <g id=\"text_1\">\r\n      <!-- 0 -->\r\n      <g transform=\"translate(30.217553 157.269332)scale(0.1 -0.1)\">\r\n       <defs>\r\n        <path d=\"M 31.78125 66.40625 \r\nQ 24.171875 66.40625 20.328125 58.90625 \r\nQ 16.5 51.421875 16.5 36.375 \r\nQ 16.5 21.390625 20.328125 13.890625 \r\nQ 24.171875 6.390625 31.78125 6.390625 \r\nQ 39.453125 6.390625 43.28125 13.890625 \r\nQ 47.125 21.390625 47.125 36.375 \r\nQ 47.125 51.421875 43.28125 58.90625 \r\nQ 39.453125 66.40625 31.78125 66.40625 \r\nz\r\nM 31.78125 74.21875 \r\nQ 44.046875 74.21875 50.515625 64.515625 \r\nQ 56.984375 54.828125 56.984375 36.375 \r\nQ 56.984375 17.96875 50.515625 8.265625 \r\nQ 44.046875 -1.421875 31.78125 -1.421875 \r\nQ 19.53125 -1.421875 13.0625 8.265625 \r\nQ 6.59375 17.96875 6.59375 36.375 \r\nQ 6.59375 54.828125 13.0625 64.515625 \r\nQ 19.53125 74.21875 31.78125 74.21875 \r\nz\r\n\" id=\"DejaVuSans-48\"/>\r\n       </defs>\r\n       <use xlink:href=\"#DejaVuSans-48\"/>\r\n      </g>\r\n     </g>\r\n    </g>\r\n    <g id=\"xtick_2\">\r\n     <g id=\"line2d_2\">\r\n      <g>\r\n       <use style=\"stroke:#000000;stroke-width:0.8;\" x=\"77.92008\" xlink:href=\"#m4c2060a68d\" y=\"142.670894\"/>\r\n      </g>\r\n     </g>\r\n     <g id=\"text_2\">\r\n      <!-- 200 -->\r\n      <g transform=\"translate(68.37633 157.269332)scale(0.1 -0.1)\">\r\n       <defs>\r\n        <path d=\"M 19.1875 8.296875 \r\nL 53.609375 8.296875 \r\nL 53.609375 0 \r\nL 7.328125 0 \r\nL 7.328125 8.296875 \r\nQ 12.9375 14.109375 22.625 23.890625 \r\nQ 32.328125 33.6875 34.8125 36.53125 \r\nQ 39.546875 41.84375 41.421875 45.53125 \r\nQ 43.3125 49.21875 43.3125 52.78125 \r\nQ 43.3125 58.59375 39.234375 62.25 \r\nQ 35.15625 65.921875 28.609375 65.921875 \r\nQ 23.96875 65.921875 18.8125 64.3125 \r\nQ 13.671875 62.703125 7.8125 59.421875 \r\nL 7.8125 69.390625 \r\nQ 13.765625 71.78125 18.9375 73 \r\nQ 24.125 74.21875 28.421875 74.21875 \r\nQ 39.75 74.21875 46.484375 68.546875 \r\nQ 53.21875 62.890625 53.21875 53.421875 \r\nQ 53.21875 48.921875 51.53125 44.890625 \r\nQ 49.859375 40.875 45.40625 35.40625 \r\nQ 44.1875 33.984375 37.640625 27.21875 \r\nQ 31.109375 20.453125 19.1875 8.296875 \r\nz\r\n\" id=\"DejaVuSans-50\"/>\r\n       </defs>\r\n       <use xlink:href=\"#DejaVuSans-50\"/>\r\n       <use x=\"63.623047\" xlink:href=\"#DejaVuSans-48\"/>\r\n       <use x=\"127.246094\" xlink:href=\"#DejaVuSans-48\"/>\r\n      </g>\r\n     </g>\r\n    </g>\r\n    <g id=\"xtick_3\">\r\n     <g id=\"line2d_3\">\r\n      <g>\r\n       <use style=\"stroke:#000000;stroke-width:0.8;\" x=\"122.441356\" xlink:href=\"#m4c2060a68d\" y=\"142.670894\"/>\r\n      </g>\r\n     </g>\r\n     <g id=\"text_3\">\r\n      <!-- 400 -->\r\n      <g transform=\"translate(112.897606 157.269332)scale(0.1 -0.1)\">\r\n       <defs>\r\n        <path d=\"M 37.796875 64.3125 \r\nL 12.890625 25.390625 \r\nL 37.796875 25.390625 \r\nz\r\nM 35.203125 72.90625 \r\nL 47.609375 72.90625 \r\nL 47.609375 25.390625 \r\nL 58.015625 25.390625 \r\nL 58.015625 17.1875 \r\nL 47.609375 17.1875 \r\nL 47.609375 0 \r\nL 37.796875 0 \r\nL 37.796875 17.1875 \r\nL 4.890625 17.1875 \r\nL 4.890625 26.703125 \r\nz\r\n\" id=\"DejaVuSans-52\"/>\r\n       </defs>\r\n       <use xlink:href=\"#DejaVuSans-52\"/>\r\n       <use x=\"63.623047\" xlink:href=\"#DejaVuSans-48\"/>\r\n       <use x=\"127.246094\" xlink:href=\"#DejaVuSans-48\"/>\r\n      </g>\r\n     </g>\r\n    </g>\r\n    <g id=\"xtick_4\">\r\n     <g id=\"line2d_4\">\r\n      <g>\r\n       <use style=\"stroke:#000000;stroke-width:0.8;\" x=\"166.962633\" xlink:href=\"#m4c2060a68d\" y=\"142.670894\"/>\r\n      </g>\r\n     </g>\r\n     <g id=\"text_4\">\r\n      <!-- 600 -->\r\n      <g transform=\"translate(157.418883 157.269332)scale(0.1 -0.1)\">\r\n       <defs>\r\n        <path d=\"M 33.015625 40.375 \r\nQ 26.375 40.375 22.484375 35.828125 \r\nQ 18.609375 31.296875 18.609375 23.390625 \r\nQ 18.609375 15.53125 22.484375 10.953125 \r\nQ 26.375 6.390625 33.015625 6.390625 \r\nQ 39.65625 6.390625 43.53125 10.953125 \r\nQ 47.40625 15.53125 47.40625 23.390625 \r\nQ 47.40625 31.296875 43.53125 35.828125 \r\nQ 39.65625 40.375 33.015625 40.375 \r\nz\r\nM 52.59375 71.296875 \r\nL 52.59375 62.3125 \r\nQ 48.875 64.0625 45.09375 64.984375 \r\nQ 41.3125 65.921875 37.59375 65.921875 \r\nQ 27.828125 65.921875 22.671875 59.328125 \r\nQ 17.53125 52.734375 16.796875 39.40625 \r\nQ 19.671875 43.65625 24.015625 45.921875 \r\nQ 28.375 48.1875 33.59375 48.1875 \r\nQ 44.578125 48.1875 50.953125 41.515625 \r\nQ 57.328125 34.859375 57.328125 23.390625 \r\nQ 57.328125 12.15625 50.6875 5.359375 \r\nQ 44.046875 -1.421875 33.015625 -1.421875 \r\nQ 20.359375 -1.421875 13.671875 8.265625 \r\nQ 6.984375 17.96875 6.984375 36.375 \r\nQ 6.984375 53.65625 15.1875 63.9375 \r\nQ 23.390625 74.21875 37.203125 74.21875 \r\nQ 40.921875 74.21875 44.703125 73.484375 \r\nQ 48.484375 72.75 52.59375 71.296875 \r\nz\r\n\" id=\"DejaVuSans-54\"/>\r\n       </defs>\r\n       <use xlink:href=\"#DejaVuSans-54\"/>\r\n       <use x=\"63.623047\" xlink:href=\"#DejaVuSans-48\"/>\r\n       <use x=\"127.246094\" xlink:href=\"#DejaVuSans-48\"/>\r\n      </g>\r\n     </g>\r\n    </g>\r\n    <g id=\"xtick_5\">\r\n     <g id=\"line2d_5\">\r\n      <g>\r\n       <use style=\"stroke:#000000;stroke-width:0.8;\" x=\"211.48391\" xlink:href=\"#m4c2060a68d\" y=\"142.670894\"/>\r\n      </g>\r\n     </g>\r\n     <g id=\"text_5\">\r\n      <!-- 800 -->\r\n      <g transform=\"translate(201.94016 157.269332)scale(0.1 -0.1)\">\r\n       <defs>\r\n        <path d=\"M 31.78125 34.625 \r\nQ 24.75 34.625 20.71875 30.859375 \r\nQ 16.703125 27.09375 16.703125 20.515625 \r\nQ 16.703125 13.921875 20.71875 10.15625 \r\nQ 24.75 6.390625 31.78125 6.390625 \r\nQ 38.8125 6.390625 42.859375 10.171875 \r\nQ 46.921875 13.96875 46.921875 20.515625 \r\nQ 46.921875 27.09375 42.890625 30.859375 \r\nQ 38.875 34.625 31.78125 34.625 \r\nz\r\nM 21.921875 38.8125 \r\nQ 15.578125 40.375 12.03125 44.71875 \r\nQ 8.5 49.078125 8.5 55.328125 \r\nQ 8.5 64.0625 14.71875 69.140625 \r\nQ 20.953125 74.21875 31.78125 74.21875 \r\nQ 42.671875 74.21875 48.875 69.140625 \r\nQ 55.078125 64.0625 55.078125 55.328125 \r\nQ 55.078125 49.078125 51.53125 44.71875 \r\nQ 48 40.375 41.703125 38.8125 \r\nQ 48.828125 37.15625 52.796875 32.3125 \r\nQ 56.78125 27.484375 56.78125 20.515625 \r\nQ 56.78125 9.90625 50.3125 4.234375 \r\nQ 43.84375 -1.421875 31.78125 -1.421875 \r\nQ 19.734375 -1.421875 13.25 4.234375 \r\nQ 6.78125 9.90625 6.78125 20.515625 \r\nQ 6.78125 27.484375 10.78125 32.3125 \r\nQ 14.796875 37.15625 21.921875 38.8125 \r\nz\r\nM 18.3125 54.390625 \r\nQ 18.3125 48.734375 21.84375 45.5625 \r\nQ 25.390625 42.390625 31.78125 42.390625 \r\nQ 38.140625 42.390625 41.71875 45.5625 \r\nQ 45.3125 48.734375 45.3125 54.390625 \r\nQ 45.3125 60.0625 41.71875 63.234375 \r\nQ 38.140625 66.40625 31.78125 66.40625 \r\nQ 25.390625 66.40625 21.84375 63.234375 \r\nQ 18.3125 60.0625 18.3125 54.390625 \r\nz\r\n\" id=\"DejaVuSans-56\"/>\r\n       </defs>\r\n       <use xlink:href=\"#DejaVuSans-56\"/>\r\n       <use x=\"63.623047\" xlink:href=\"#DejaVuSans-48\"/>\r\n       <use x=\"127.246094\" xlink:href=\"#DejaVuSans-48\"/>\r\n      </g>\r\n     </g>\r\n    </g>\r\n    <g id=\"xtick_6\">\r\n     <g id=\"line2d_6\">\r\n      <g>\r\n       <use style=\"stroke:#000000;stroke-width:0.8;\" x=\"256.005186\" xlink:href=\"#m4c2060a68d\" y=\"142.670894\"/>\r\n      </g>\r\n     </g>\r\n     <g id=\"text_6\">\r\n      <!-- 1000 -->\r\n      <g transform=\"translate(243.280186 157.269332)scale(0.1 -0.1)\">\r\n       <defs>\r\n        <path d=\"M 12.40625 8.296875 \r\nL 28.515625 8.296875 \r\nL 28.515625 63.921875 \r\nL 10.984375 60.40625 \r\nL 10.984375 69.390625 \r\nL 28.421875 72.90625 \r\nL 38.28125 72.90625 \r\nL 38.28125 8.296875 \r\nL 54.390625 8.296875 \r\nL 54.390625 0 \r\nL 12.40625 0 \r\nz\r\n\" id=\"DejaVuSans-49\"/>\r\n       </defs>\r\n       <use xlink:href=\"#DejaVuSans-49\"/>\r\n       <use x=\"63.623047\" xlink:href=\"#DejaVuSans-48\"/>\r\n       <use x=\"127.246094\" xlink:href=\"#DejaVuSans-48\"/>\r\n       <use x=\"190.869141\" xlink:href=\"#DejaVuSans-48\"/>\r\n      </g>\r\n     </g>\r\n    </g>\r\n    <g id=\"xtick_7\">\r\n     <g id=\"line2d_7\">\r\n      <g>\r\n       <use style=\"stroke:#000000;stroke-width:0.8;\" x=\"300.526463\" xlink:href=\"#m4c2060a68d\" y=\"142.670894\"/>\r\n      </g>\r\n     </g>\r\n     <g id=\"text_7\">\r\n      <!-- 1200 -->\r\n      <g transform=\"translate(287.801463 157.269332)scale(0.1 -0.1)\">\r\n       <use xlink:href=\"#DejaVuSans-49\"/>\r\n       <use x=\"63.623047\" xlink:href=\"#DejaVuSans-50\"/>\r\n       <use x=\"127.246094\" xlink:href=\"#DejaVuSans-48\"/>\r\n       <use x=\"190.869141\" xlink:href=\"#DejaVuSans-48\"/>\r\n      </g>\r\n     </g>\r\n    </g>\r\n    <g id=\"xtick_8\">\r\n     <g id=\"line2d_8\">\r\n      <g>\r\n       <use style=\"stroke:#000000;stroke-width:0.8;\" x=\"345.047739\" xlink:href=\"#m4c2060a68d\" y=\"142.670894\"/>\r\n      </g>\r\n     </g>\r\n     <g id=\"text_8\">\r\n      <!-- 1400 -->\r\n      <g transform=\"translate(332.322739 157.269332)scale(0.1 -0.1)\">\r\n       <use xlink:href=\"#DejaVuSans-49\"/>\r\n       <use x=\"63.623047\" xlink:href=\"#DejaVuSans-52\"/>\r\n       <use x=\"127.246094\" xlink:href=\"#DejaVuSans-48\"/>\r\n       <use x=\"190.869141\" xlink:href=\"#DejaVuSans-48\"/>\r\n      </g>\r\n     </g>\r\n    </g>\r\n   </g>\r\n   <g id=\"matplotlib.axis_2\">\r\n    <g id=\"ytick_1\">\r\n     <g id=\"line2d_9\">\r\n      <defs>\r\n       <path d=\"M 0 0 \r\nL -3.5 0 \r\n\" id=\"me3e782107b\" style=\"stroke:#000000;stroke-width:0.8;\"/>\r\n      </defs>\r\n      <g>\r\n       <use style=\"stroke:#000000;stroke-width:0.8;\" x=\"33.2875\" xlink:href=\"#me3e782107b\" y=\"10.999219\"/>\r\n      </g>\r\n     </g>\r\n     <g id=\"text_9\">\r\n      <!-- 0 -->\r\n      <g transform=\"translate(19.925 14.798437)scale(0.1 -0.1)\">\r\n       <use xlink:href=\"#DejaVuSans-48\"/>\r\n      </g>\r\n     </g>\r\n    </g>\r\n    <g id=\"ytick_2\">\r\n     <g id=\"line2d_10\">\r\n      <g>\r\n       <use style=\"stroke:#000000;stroke-width:0.8;\" x=\"33.2875\" xlink:href=\"#me3e782107b\" y=\"33.259857\"/>\r\n      </g>\r\n     </g>\r\n     <g id=\"text_10\">\r\n      <!-- 100 -->\r\n      <g transform=\"translate(7.2 37.059076)scale(0.1 -0.1)\">\r\n       <use xlink:href=\"#DejaVuSans-49\"/>\r\n       <use x=\"63.623047\" xlink:href=\"#DejaVuSans-48\"/>\r\n       <use x=\"127.246094\" xlink:href=\"#DejaVuSans-48\"/>\r\n      </g>\r\n     </g>\r\n    </g>\r\n    <g id=\"ytick_3\">\r\n     <g id=\"line2d_11\">\r\n      <g>\r\n       <use style=\"stroke:#000000;stroke-width:0.8;\" x=\"33.2875\" xlink:href=\"#me3e782107b\" y=\"55.520495\"/>\r\n      </g>\r\n     </g>\r\n     <g id=\"text_11\">\r\n      <!-- 200 -->\r\n      <g transform=\"translate(7.2 59.319714)scale(0.1 -0.1)\">\r\n       <use xlink:href=\"#DejaVuSans-50\"/>\r\n       <use x=\"63.623047\" xlink:href=\"#DejaVuSans-48\"/>\r\n       <use x=\"127.246094\" xlink:href=\"#DejaVuSans-48\"/>\r\n      </g>\r\n     </g>\r\n    </g>\r\n    <g id=\"ytick_4\">\r\n     <g id=\"line2d_12\">\r\n      <g>\r\n       <use style=\"stroke:#000000;stroke-width:0.8;\" x=\"33.2875\" xlink:href=\"#me3e782107b\" y=\"77.781134\"/>\r\n      </g>\r\n     </g>\r\n     <g id=\"text_12\">\r\n      <!-- 300 -->\r\n      <g transform=\"translate(7.2 81.580352)scale(0.1 -0.1)\">\r\n       <defs>\r\n        <path d=\"M 40.578125 39.3125 \r\nQ 47.65625 37.796875 51.625 33 \r\nQ 55.609375 28.21875 55.609375 21.1875 \r\nQ 55.609375 10.40625 48.1875 4.484375 \r\nQ 40.765625 -1.421875 27.09375 -1.421875 \r\nQ 22.515625 -1.421875 17.65625 -0.515625 \r\nQ 12.796875 0.390625 7.625 2.203125 \r\nL 7.625 11.71875 \r\nQ 11.71875 9.328125 16.59375 8.109375 \r\nQ 21.484375 6.890625 26.8125 6.890625 \r\nQ 36.078125 6.890625 40.9375 10.546875 \r\nQ 45.796875 14.203125 45.796875 21.1875 \r\nQ 45.796875 27.640625 41.28125 31.265625 \r\nQ 36.765625 34.90625 28.71875 34.90625 \r\nL 20.21875 34.90625 \r\nL 20.21875 43.015625 \r\nL 29.109375 43.015625 \r\nQ 36.375 43.015625 40.234375 45.921875 \r\nQ 44.09375 48.828125 44.09375 54.296875 \r\nQ 44.09375 59.90625 40.109375 62.90625 \r\nQ 36.140625 65.921875 28.71875 65.921875 \r\nQ 24.65625 65.921875 20.015625 65.03125 \r\nQ 15.375 64.15625 9.8125 62.3125 \r\nL 9.8125 71.09375 \r\nQ 15.4375 72.65625 20.34375 73.4375 \r\nQ 25.25 74.21875 29.59375 74.21875 \r\nQ 40.828125 74.21875 47.359375 69.109375 \r\nQ 53.90625 64.015625 53.90625 55.328125 \r\nQ 53.90625 49.265625 50.4375 45.09375 \r\nQ 46.96875 40.921875 40.578125 39.3125 \r\nz\r\n\" id=\"DejaVuSans-51\"/>\r\n       </defs>\r\n       <use xlink:href=\"#DejaVuSans-51\"/>\r\n       <use x=\"63.623047\" xlink:href=\"#DejaVuSans-48\"/>\r\n       <use x=\"127.246094\" xlink:href=\"#DejaVuSans-48\"/>\r\n      </g>\r\n     </g>\r\n    </g>\r\n    <g id=\"ytick_5\">\r\n     <g id=\"line2d_13\">\r\n      <g>\r\n       <use style=\"stroke:#000000;stroke-width:0.8;\" x=\"33.2875\" xlink:href=\"#me3e782107b\" y=\"100.041772\"/>\r\n      </g>\r\n     </g>\r\n     <g id=\"text_13\">\r\n      <!-- 400 -->\r\n      <g transform=\"translate(7.2 103.840991)scale(0.1 -0.1)\">\r\n       <use xlink:href=\"#DejaVuSans-52\"/>\r\n       <use x=\"63.623047\" xlink:href=\"#DejaVuSans-48\"/>\r\n       <use x=\"127.246094\" xlink:href=\"#DejaVuSans-48\"/>\r\n      </g>\r\n     </g>\r\n    </g>\r\n    <g id=\"ytick_6\">\r\n     <g id=\"line2d_14\">\r\n      <g>\r\n       <use style=\"stroke:#000000;stroke-width:0.8;\" x=\"33.2875\" xlink:href=\"#me3e782107b\" y=\"122.30241\"/>\r\n      </g>\r\n     </g>\r\n     <g id=\"text_14\">\r\n      <!-- 500 -->\r\n      <g transform=\"translate(7.2 126.101629)scale(0.1 -0.1)\">\r\n       <defs>\r\n        <path d=\"M 10.796875 72.90625 \r\nL 49.515625 72.90625 \r\nL 49.515625 64.59375 \r\nL 19.828125 64.59375 \r\nL 19.828125 46.734375 \r\nQ 21.96875 47.46875 24.109375 47.828125 \r\nQ 26.265625 48.1875 28.421875 48.1875 \r\nQ 40.625 48.1875 47.75 41.5 \r\nQ 54.890625 34.8125 54.890625 23.390625 \r\nQ 54.890625 11.625 47.5625 5.09375 \r\nQ 40.234375 -1.421875 26.90625 -1.421875 \r\nQ 22.3125 -1.421875 17.546875 -0.640625 \r\nQ 12.796875 0.140625 7.71875 1.703125 \r\nL 7.71875 11.625 \r\nQ 12.109375 9.234375 16.796875 8.0625 \r\nQ 21.484375 6.890625 26.703125 6.890625 \r\nQ 35.15625 6.890625 40.078125 11.328125 \r\nQ 45.015625 15.765625 45.015625 23.390625 \r\nQ 45.015625 31 40.078125 35.4375 \r\nQ 35.15625 39.890625 26.703125 39.890625 \r\nQ 22.75 39.890625 18.8125 39.015625 \r\nQ 14.890625 38.140625 10.796875 36.28125 \r\nz\r\n\" id=\"DejaVuSans-53\"/>\r\n       </defs>\r\n       <use xlink:href=\"#DejaVuSans-53\"/>\r\n       <use x=\"63.623047\" xlink:href=\"#DejaVuSans-48\"/>\r\n       <use x=\"127.246094\" xlink:href=\"#DejaVuSans-48\"/>\r\n      </g>\r\n     </g>\r\n    </g>\r\n   </g>\r\n   <g id=\"patch_3\">\r\n    <path d=\"M 33.2875 142.670894 \r\nL 33.2875 10.887916 \r\n\" style=\"fill:none;stroke:#000000;stroke-linecap:square;stroke-linejoin:miter;stroke-width:0.8;\"/>\r\n   </g>\r\n   <g id=\"patch_4\">\r\n    <path d=\"M 368.0875 142.670894 \r\nL 368.0875 10.887916 \r\n\" style=\"fill:none;stroke:#000000;stroke-linecap:square;stroke-linejoin:miter;stroke-width:0.8;\"/>\r\n   </g>\r\n   <g id=\"patch_5\">\r\n    <path d=\"M 33.2875 142.670894 \r\nL 368.0875 142.670894 \r\n\" style=\"fill:none;stroke:#000000;stroke-linecap:square;stroke-linejoin:miter;stroke-width:0.8;\"/>\r\n   </g>\r\n   <g id=\"patch_6\">\r\n    <path d=\"M 33.2875 10.887916 \r\nL 368.0875 10.887916 \r\n\" style=\"fill:none;stroke:#000000;stroke-linecap:square;stroke-linejoin:miter;stroke-width:0.8;\"/>\r\n   </g>\r\n  </g>\r\n </g>\r\n <defs>\r\n  <clipPath id=\"pafdfb8fa34\">\r\n   <rect height=\"131.782979\" width=\"334.8\" x=\"33.2875\" y=\"10.887916\"/>\r\n  </clipPath>\r\n </defs>\r\n</svg>\r\n",
      "image/png": "[encoded data removed]"
     },
     "metadata": {
      "needs_background": "light"
     }
    }
   ],
   "source": [
    "plt.imshow(img)"
   ]
  },
  {
   "cell_type": "code",
   "execution_count": null,
   "metadata": {},
   "outputs": [],
   "source": []
  }
 ]
}