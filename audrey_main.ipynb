{
 "metadata": {
  "language_info": {
   "codemirror_mode": {
    "name": "ipython",
    "version": 3
   },
   "file_extension": ".py",
   "mimetype": "text/x-python",
   "name": "python",
   "nbconvert_exporter": "python",
   "pygments_lexer": "ipython3",
   "version": "3.7.9-final"
  },
  "orig_nbformat": 2,
  "kernelspec": {
   "name": "python3",
   "display_name": "Python 3.7.9 64-bit ('data-science': conda)",
   "metadata": {
    "interpreter": {
     "hash": "d1299f6780e3cbdedf1411f538f089ac858b183dda4c8823b06d05ab627402c9"
    }
   }
  }
 },
 "nbformat": 4,
 "nbformat_minor": 2,
 "cells": [
  {
   "source": [
    "# Création du brief Nuage Compta"
   ],
   "cell_type": "markdown",
   "metadata": {}
  },
  {
   "source": [
    "## 1- Gestion des imports"
   ],
   "cell_type": "markdown",
   "metadata": {}
  },
  {
   "cell_type": "code",
   "execution_count": 74,
   "metadata": {},
   "outputs": [
    {
     "output_type": "stream",
     "name": "stdout",
     "text": [
      "The autoreload extension is already loaded. To reload it, use:\n  %reload_ext autoreload\n"
     ]
    }
   ],
   "source": [
    "%load_ext autoreload\n",
    "%autoreload\n",
    "\n",
    "import pandas as pd\n",
    "import numpy as np\n",
    "import matplotlib.pyplot as plt\n",
    "import keras\n",
    "import cv2\n",
    "from keras.preprocessing.image import ImageDataGenerator\n",
    "from keras.preprocessing import image\n",
    "from keras.models import Sequential\n",
    "from keras.models import load_model\n",
    "from keras.layers import Dense, Dropout, Flatten\n",
    "from keras.layers import Conv2D, MaxPooling2D\n",
    "from keras import backend as K\n",
    "from keras.callbacks import ModelCheckpoint, Callback\n",
    "import imutils\n",
    "from imutils.contours import sort_contours\n",
    "\n",
    "import methods\n",
    "from methods import Methods\n",
    "# from methods import Methods\n",
    "# from methods.Methods import get_result\n",
    "# from methods.methods import negatif\n",
    "# import tensorflow"
   ]
  },
  {
   "source": [
    "## Paramètres de l'application"
   ],
   "cell_type": "markdown",
   "metadata": {}
  },
  {
   "cell_type": "code",
   "execution_count": 89,
   "metadata": {},
   "outputs": [],
   "source": [
    "# Filename of the model weights output\n",
    "modele_best = \"cnn_best.hdf5\"\n",
    "modele_final = \"cnn_final.hdf5\"\n",
    "\n",
    "DATA_ROOT = 'data/'\n",
    "MODELES_PATH = 'data/modeles/'\n",
    "TRAINING_PATH = 'training/'\n",
    "TESTING_PATH = 'testing/'\n",
    "ABC_PATH = 'data/alphbet-dataset/'\n",
    "\n",
    "batch_size = 5975\n",
    "num_classes = 27\n",
    "epochs = 18\n",
    "\n",
    "# input image dimensions\n",
    "# img_rows, img_cols = 28, 28\n",
    "img_size = 28\n",
    "input_shape = (img_size, img_size, 1)"
   ]
  },
  {
   "cell_type": "code",
   "execution_count": 90,
   "metadata": {},
   "outputs": [
    {
     "output_type": "stream",
     "name": "stdout",
     "text": [
      "Found 5200 images belonging to 26 classes.\n",
      "Found 775 images belonging to 26 classes.\n"
     ]
    }
   ],
   "source": [
    "train_datagen = ImageDataGenerator(rescale = 1./255,\n",
    "                                   shear_range = 0.2,\n",
    "                                   zoom_range = 0.2,\n",
    "                                   horizontal_flip = True)\n",
    "\n",
    "test_datagen = ImageDataGenerator(rescale = 1./255)\n",
    "\n",
    "train_generator = train_datagen.flow_from_directory(\n",
    "    directory = \"data/training\",\n",
    "    target_size = (img_size,img_size),\n",
    "    batch_size = 200,\n",
    "    class_mode = \"categorical\",\n",
    "    color_mode = \"grayscale\"                                \n",
    "\n",
    "\n",
    ")\n",
    "\n",
    "test_generator = test_datagen.flow_from_directory(\n",
    "    directory = \"data/testing\",\n",
    "    target_size = (img_size,img_size),\n",
    "    batch_size = 100,\n",
    "    class_mode = \"categorical\",\n",
    "    color_mode = \"grayscale\"\n",
    "\n",
    ")"
   ]
  },
  {
   "cell_type": "code",
   "execution_count": 91,
   "metadata": {},
   "outputs": [
    {
     "output_type": "stream",
     "name": "stdout",
     "text": [
      "Model: \"sequential_9\"\n_________________________________________________________________\nLayer (type)                 Output Shape              Param #   \n=================================================================\nconv2d_14 (Conv2D)           (None, 26, 26, 28)        280       \n_________________________________________________________________\nconv2d_15 (Conv2D)           (None, 24, 24, 28)        7084      \n_________________________________________________________________\nmax_pooling2d_9 (MaxPooling2 (None, 12, 12, 28)        0         \n_________________________________________________________________\ndropout_17 (Dropout)         (None, 12, 12, 28)        0         \n_________________________________________________________________\nflatten_9 (Flatten)          (None, 4032)              0         \n_________________________________________________________________\ndense_17 (Dense)             (None, 128)               516224    \n_________________________________________________________________\ndropout_18 (Dropout)         (None, 128)               0         \n_________________________________________________________________\ndense_18 (Dense)             (None, 26)                3354      \n=================================================================\nTotal params: 526,942\nTrainable params: 526,942\nNon-trainable params: 0\n_________________________________________________________________\n"
     ]
    }
   ],
   "source": [
    "model = Sequential()\n",
    "\n",
    "model.add(Conv2D(img_size, kernel_size=(3, 3),\n",
    "                 activation='relu',\n",
    "                 input_shape=input_shape\n",
    "                 ))\n",
    "\n",
    "model.add(Conv2D(img_size, (3, 3), activation='relu'))\n",
    "model.add(MaxPooling2D(pool_size=(2, 2)))\n",
    "model.add(Dropout(0.25))\n",
    "model.add(Flatten())\n",
    "model.add(Dense(128, activation='relu'))\n",
    "model.add(Dropout(0.5))\n",
    "model.add(Dense(num_classes, activation='softmax'))\n",
    "\n",
    "model.compile(loss=keras.losses.categorical_crossentropy,\n",
    "              optimizer=keras.optimizers.Adadelta(),\n",
    "              metrics=['accuracy'])\n",
    "\n",
    "model.summary()\n",
    "\n",
    "checkpointer = ModelCheckpoint(filepath= MODELES_PATH + modele_best, verbose=1, save_best_only=False)"
   ]
  },
  {
   "cell_type": "code",
   "execution_count": 92,
   "metadata": {},
   "outputs": [
    {
     "output_type": "stream",
     "name": "stdout",
     "text": [
      "Epoch 1/18\n",
      "26/26 [==============================] - 14s 555ms/step - loss: 2.8362 - accuracy: 0.1937 - val_loss: 2.1209 - val_accuracy: 0.4697\n",
      "\n",
      "Epoch 00001: saving model to data/modeles/cnn_best.hdf5\n",
      "Epoch 2/18\n",
      "26/26 [==============================] - 13s 482ms/step - loss: 2.0459 - accuracy: 0.3912 - val_loss: 1.3665 - val_accuracy: 0.6181\n",
      "\n",
      "Epoch 00002: saving model to data/modeles/cnn_best.hdf5\n",
      "Epoch 3/18\n",
      "26/26 [==============================] - 12s 480ms/step - loss: 1.6645 - accuracy: 0.4887 - val_loss: 1.1921 - val_accuracy: 0.7019\n",
      "\n",
      "Epoch 00003: saving model to data/modeles/cnn_best.hdf5\n",
      "Epoch 4/18\n",
      "26/26 [==============================] - 13s 489ms/step - loss: 1.4119 - accuracy: 0.5608 - val_loss: 0.8036 - val_accuracy: 0.7200\n",
      "\n",
      "Epoch 00004: saving model to data/modeles/cnn_best.hdf5\n",
      "Epoch 5/18\n",
      "26/26 [==============================] - 13s 493ms/step - loss: 1.2617 - accuracy: 0.6060 - val_loss: 0.6884 - val_accuracy: 0.7290\n",
      "\n",
      "Epoch 00005: saving model to data/modeles/cnn_best.hdf5\n",
      "Epoch 6/18\n",
      "26/26 [==============================] - 13s 491ms/step - loss: 1.1361 - accuracy: 0.6458 - val_loss: 0.5937 - val_accuracy: 0.8116\n",
      "\n",
      "Epoch 00006: saving model to data/modeles/cnn_best.hdf5\n",
      "Epoch 7/18\n",
      "26/26 [==============================] - 13s 481ms/step - loss: 0.9932 - accuracy: 0.6919 - val_loss: 0.4070 - val_accuracy: 0.8116\n",
      "\n",
      "Epoch 00007: saving model to data/modeles/cnn_best.hdf5\n",
      "Epoch 8/18\n",
      "26/26 [==============================] - 13s 485ms/step - loss: 0.9117 - accuracy: 0.7090 - val_loss: 0.4723 - val_accuracy: 0.8155\n",
      "\n",
      "Epoch 00008: saving model to data/modeles/cnn_best.hdf5\n",
      "Epoch 9/18\n",
      "26/26 [==============================] - 13s 485ms/step - loss: 0.8537 - accuracy: 0.7302 - val_loss: 0.6596 - val_accuracy: 0.8477\n",
      "\n",
      "Epoch 00009: saving model to data/modeles/cnn_best.hdf5\n",
      "Epoch 10/18\n",
      "26/26 [==============================] - 13s 483ms/step - loss: 0.7667 - accuracy: 0.7552 - val_loss: 0.4327 - val_accuracy: 0.8671\n",
      "\n",
      "Epoch 00010: saving model to data/modeles/cnn_best.hdf5\n",
      "Epoch 11/18\n",
      "26/26 [==============================] - 13s 484ms/step - loss: 0.7418 - accuracy: 0.7679 - val_loss: 0.3039 - val_accuracy: 0.8813\n",
      "\n",
      "Epoch 00011: saving model to data/modeles/cnn_best.hdf5\n",
      "Epoch 12/18\n",
      "26/26 [==============================] - 13s 502ms/step - loss: 0.6684 - accuracy: 0.7819 - val_loss: 0.4222 - val_accuracy: 0.9032\n",
      "\n",
      "Epoch 00012: saving model to data/modeles/cnn_best.hdf5\n",
      "Epoch 13/18\n",
      "26/26 [==============================] - 13s 498ms/step - loss: 0.6266 - accuracy: 0.7994 - val_loss: 0.4030 - val_accuracy: 0.8942\n",
      "\n",
      "Epoch 00013: saving model to data/modeles/cnn_best.hdf5\n",
      "Epoch 14/18\n",
      "26/26 [==============================] - 15s 589ms/step - loss: 0.6061 - accuracy: 0.8104 - val_loss: 0.4055 - val_accuracy: 0.8942\n",
      "\n",
      "Epoch 00014: saving model to data/modeles/cnn_best.hdf5\n",
      "Epoch 15/18\n",
      "26/26 [==============================] - 16s 606ms/step - loss: 0.5949 - accuracy: 0.8135 - val_loss: 0.4172 - val_accuracy: 0.8865\n",
      "\n",
      "Epoch 00015: saving model to data/modeles/cnn_best.hdf5\n",
      "Epoch 16/18\n",
      "26/26 [==============================] - 15s 562ms/step - loss: 0.5597 - accuracy: 0.8279 - val_loss: 0.2718 - val_accuracy: 0.8942\n",
      "\n",
      "Epoch 00016: saving model to data/modeles/cnn_best.hdf5\n",
      "Epoch 17/18\n",
      "26/26 [==============================] - 19s 721ms/step - loss: 0.5265 - accuracy: 0.8373 - val_loss: 0.2535 - val_accuracy: 0.9019\n",
      "\n",
      "Epoch 00017: saving model to data/modeles/cnn_best.hdf5\n",
      "Epoch 18/18\n",
      "26/26 [==============================] - 18s 710ms/step - loss: 0.5218 - accuracy: 0.8371 - val_loss: 0.2411 - val_accuracy: 0.9058\n",
      "\n",
      "Epoch 00018: saving model to data/modeles/cnn_best.hdf5\n",
      "Test loss: 0.2760346233844757\n",
      "Test accuracy: 0.9307692050933838\n",
      "Saving model...\n",
      "All done !\n"
     ]
    }
   ],
   "source": [
    "model.fit(train_generator,\n",
    "        #   batch_size=batch_size,\n",
    "          epochs=epochs,\n",
    "          verbose=1,\n",
    "          validation_data=(test_generator), \n",
    "          callbacks=[checkpointer]\n",
    "          )\n",
    "\n",
    "score = model.evaluate(train_generator, verbose=0)\n",
    "print('Test loss:', score[0])\n",
    "print('Test accuracy:', score[1])\n",
    "print(\"Saving model...\")\n",
    "model.save(MODELES_PATH + modele_final)\n",
    "print(\"All done !\")"
   ]
  },
  {
   "cell_type": "code",
   "execution_count": 100,
   "metadata": {},
   "outputs": [
    {
     "output_type": "display_data",
     "data": {
      "text/plain": "<Figure size 432x288 with 1 Axes>",
      "image/svg+xml": "<?xml version=\"1.0\" encoding=\"utf-8\" standalone=\"no\"?>\r\n<!DOCTYPE svg PUBLIC \"-//W3C//DTD SVG 1.1//EN\"\r\n  \"http://www.w3.org/Graphics/SVG/1.1/DTD/svg11.dtd\">\r\n<!-- Created with matplotlib (https://matplotlib.org/) -->\r\n<svg height=\"248.518125pt\" version=\"1.1\" viewBox=\"0 0 251.565 248.518125\" width=\"251.565pt\" xmlns=\"http://www.w3.org/2000/svg\" xmlns:xlink=\"http://www.w3.org/1999/xlink\">\r\n <metadata>\r\n  <rdf:RDF xmlns:cc=\"http://creativecommons.org/ns#\" xmlns:dc=\"http://purl.org/dc/elements/1.1/\" xmlns:rdf=\"http://www.w3.org/1999/02/22-rdf-syntax-ns#\">\r\n   <cc:Work>\r\n    <dc:type rdf:resource=\"http://purl.org/dc/dcmitype/StillImage\"/>\r\n    <dc:date>2020-11-20T14:51:43.864410</dc:date>\r\n    <dc:format>image/svg+xml</dc:format>\r\n    <dc:creator>\r\n     <cc:Agent>\r\n      <dc:title>Matplotlib v3.3.2, https://matplotlib.org/</dc:title>\r\n     </cc:Agent>\r\n    </dc:creator>\r\n   </cc:Work>\r\n  </rdf:RDF>\r\n </metadata>\r\n <defs>\r\n  <style type=\"text/css\">*{stroke-linecap:butt;stroke-linejoin:round;}</style>\r\n </defs>\r\n <g id=\"figure_1\">\r\n  <g id=\"patch_1\">\r\n   <path d=\"M 0 248.518125 \r\nL 251.565 248.518125 \r\nL 251.565 0 \r\nL 0 0 \r\nz\r\n\" style=\"fill:none;\"/>\r\n  </g>\r\n  <g id=\"axes_1\">\r\n   <g id=\"patch_2\">\r\n    <path d=\"M 26.925 224.64 \r\nL 244.365 224.64 \r\nL 244.365 7.2 \r\nL 26.925 7.2 \r\nz\r\n\" style=\"fill:#ffffff;\"/>\r\n   </g>\r\n   <g clip-path=\"url(#pf0d99c3a8f)\">\r\n    <image height=\"218\" id=\"image3236f7e076\" transform=\"scale(1 -1)translate(0 -218)\" width=\"218\" x=\"26.925\" xlink:href=\"data:image/png;base64,\r\niVBORw0KGgoAAAANSUhEUgAAANoAAADaCAYAAADAHVzbAAAETklEQVR4nO3dsYpcZRiA4TmziUY3YGcRVtHGViEgQSwDqcXcgddg4wV4A1aWYiOibTT2iyIYxNZCghuvQEIIuGtnk90z7sye90x2nqf9d3b/HXjnh/Nxzgy3h7snC2BSy7k3ALtAaBAQGgSEBgGhQUBoEBAaBIQGAaFBQGgQEBoEhAYBoUFAaBAQGgSuzL0BnnXv0YPR9b1h/PPxt6dPRtc/fuPWufd0Ua68dnDm2ueHX42+9qPX37/o7WScaBAQGgSEBgGhQUBoEBAaBAaPmzvdyXtvj67/8M0X0U62y50b72z0+vt//Xoh+zjNpnubkhMNAkKDgNAgIDQICA0CQoOA0CCws3O0Kec5q8w97/n26Kcz164vr4U7OZ+537dNONEgIDQICA0CQoOA0CAgNAgIDQLP9RxtV+9tmtJyf390/bvfDyf725f5PXeiQUBoEBAaBIQGAaFBQGgQEBoEtvprm8zJpvHln2fPwl7dG5+jbWpX33cnGgSEBgGhQUBoEBAaBIQGAaFBYNY52tdHP674iZfW/t27Oq9ZLP7P/HHaWRnPcqJBQGgQEBoEhAYBoUFAaBCY9fL+K8v1L98vFrt7CX/Or5xiPU40CAgNAkKDgNAgIDQICA0CQoPAtHO05d5GLzcn6616z83w1uNEg4DQICA0CAgNAkKDgNAgIDQITDpHu3/0y5S/fqvde/TgzLW9Yd7Pt12dT87JiQYBoUFAaBAQGgSEBgGhQUBoEJj1uY6X2ZyzMnOy7eNEg4DQICA0CAgNAkKDgNAg4PL+RHb1Evuu/t+rONEgIDQICA0CQoOA0CAgNAgIDQKTztH+Pn4yun59eW3KP88afC3TNJxoEBAaBIQGAaFBQGgQEBoEhAaBSedoHx7cGl1fNbP59I+fR9c/efPd824JZuFEg4DQICA0CAgNAkKDgNAgIDQIbPVzHW+++MLcW7iUNrnnzHMb1+NEg4DQICA0CAgNAkKDgNAgIDQIzDpHWzWTWTXvGVt/fPx09LUfHLiXjY4TDQJCg4DQICA0CAgNAkKDwFbfJrPJ5f+Xl+O32KwaHbgd5AzDML5+ctLs4znjRIOA0CAgNAgIDQJCg4DQICA0CGz1HG2VsVnXcHV8jvb9w/GvhNrkkWyXmjnZWpxoEBAaBIQGAaFBQGgQEBoEhAaB4fZw12DkFJ89PBxdf+vqfrST87tzcHP8B47/aTbCf5xoEBAaBIQGAaFBQGgQEBoEhAYBczQIONEgIDQICA0CQoOA0CAgNAgIDQJCg4DQICA0CAgNAkKDgNAgIDQICA0CQoOA0CAgNAgIDQJCg4DQICA0CAgNAkKDgNAgIDQICA0CQoOA0CAgNAgIDQJCg4DQICA0CAgNAkKDgNAgIDQICA0CQoOA0CAgNAgIDQJCg4DQICA0CAgNAkKDgNAgIDQICA0CQoOA0CAgNAgIDQJCg4DQICA0CAgNAkKDgNAg8C93V29KVgzUsgAAAABJRU5ErkJggg==\" y=\"-6.64\"/>\r\n   </g>\r\n   <g id=\"matplotlib.axis_1\">\r\n    <g id=\"xtick_1\">\r\n     <g id=\"line2d_1\">\r\n      <defs>\r\n       <path d=\"M 0 0 \r\nL 0 3.5 \r\n\" id=\"m2b05230992\" style=\"stroke:#000000;stroke-width:0.8;\"/>\r\n      </defs>\r\n      <g>\r\n       <use style=\"stroke:#000000;stroke-width:0.8;\" x=\"30.807857\" xlink:href=\"#m2b05230992\" y=\"224.64\"/>\r\n      </g>\r\n     </g>\r\n     <g id=\"text_1\">\r\n      <!-- 0 -->\r\n      <g transform=\"translate(27.626607 239.238437)scale(0.1 -0.1)\">\r\n       <defs>\r\n        <path d=\"M 31.78125 66.40625 \r\nQ 24.171875 66.40625 20.328125 58.90625 \r\nQ 16.5 51.421875 16.5 36.375 \r\nQ 16.5 21.390625 20.328125 13.890625 \r\nQ 24.171875 6.390625 31.78125 6.390625 \r\nQ 39.453125 6.390625 43.28125 13.890625 \r\nQ 47.125 21.390625 47.125 36.375 \r\nQ 47.125 51.421875 43.28125 58.90625 \r\nQ 39.453125 66.40625 31.78125 66.40625 \r\nz\r\nM 31.78125 74.21875 \r\nQ 44.046875 74.21875 50.515625 64.515625 \r\nQ 56.984375 54.828125 56.984375 36.375 \r\nQ 56.984375 17.96875 50.515625 8.265625 \r\nQ 44.046875 -1.421875 31.78125 -1.421875 \r\nQ 19.53125 -1.421875 13.0625 8.265625 \r\nQ 6.59375 17.96875 6.59375 36.375 \r\nQ 6.59375 54.828125 13.0625 64.515625 \r\nQ 19.53125 74.21875 31.78125 74.21875 \r\nz\r\n\" id=\"DejaVuSans-48\"/>\r\n       </defs>\r\n       <use xlink:href=\"#DejaVuSans-48\"/>\r\n      </g>\r\n     </g>\r\n    </g>\r\n    <g id=\"xtick_2\">\r\n     <g id=\"line2d_2\">\r\n      <g>\r\n       <use style=\"stroke:#000000;stroke-width:0.8;\" x=\"69.636429\" xlink:href=\"#m2b05230992\" y=\"224.64\"/>\r\n      </g>\r\n     </g>\r\n     <g id=\"text_2\">\r\n      <!-- 5 -->\r\n      <g transform=\"translate(66.455179 239.238437)scale(0.1 -0.1)\">\r\n       <defs>\r\n        <path d=\"M 10.796875 72.90625 \r\nL 49.515625 72.90625 \r\nL 49.515625 64.59375 \r\nL 19.828125 64.59375 \r\nL 19.828125 46.734375 \r\nQ 21.96875 47.46875 24.109375 47.828125 \r\nQ 26.265625 48.1875 28.421875 48.1875 \r\nQ 40.625 48.1875 47.75 41.5 \r\nQ 54.890625 34.8125 54.890625 23.390625 \r\nQ 54.890625 11.625 47.5625 5.09375 \r\nQ 40.234375 -1.421875 26.90625 -1.421875 \r\nQ 22.3125 -1.421875 17.546875 -0.640625 \r\nQ 12.796875 0.140625 7.71875 1.703125 \r\nL 7.71875 11.625 \r\nQ 12.109375 9.234375 16.796875 8.0625 \r\nQ 21.484375 6.890625 26.703125 6.890625 \r\nQ 35.15625 6.890625 40.078125 11.328125 \r\nQ 45.015625 15.765625 45.015625 23.390625 \r\nQ 45.015625 31 40.078125 35.4375 \r\nQ 35.15625 39.890625 26.703125 39.890625 \r\nQ 22.75 39.890625 18.8125 39.015625 \r\nQ 14.890625 38.140625 10.796875 36.28125 \r\nz\r\n\" id=\"DejaVuSans-53\"/>\r\n       </defs>\r\n       <use xlink:href=\"#DejaVuSans-53\"/>\r\n      </g>\r\n     </g>\r\n    </g>\r\n    <g id=\"xtick_3\">\r\n     <g id=\"line2d_3\">\r\n      <g>\r\n       <use style=\"stroke:#000000;stroke-width:0.8;\" x=\"108.465\" xlink:href=\"#m2b05230992\" y=\"224.64\"/>\r\n      </g>\r\n     </g>\r\n     <g id=\"text_3\">\r\n      <!-- 10 -->\r\n      <g transform=\"translate(102.1025 239.238437)scale(0.1 -0.1)\">\r\n       <defs>\r\n        <path d=\"M 12.40625 8.296875 \r\nL 28.515625 8.296875 \r\nL 28.515625 63.921875 \r\nL 10.984375 60.40625 \r\nL 10.984375 69.390625 \r\nL 28.421875 72.90625 \r\nL 38.28125 72.90625 \r\nL 38.28125 8.296875 \r\nL 54.390625 8.296875 \r\nL 54.390625 0 \r\nL 12.40625 0 \r\nz\r\n\" id=\"DejaVuSans-49\"/>\r\n       </defs>\r\n       <use xlink:href=\"#DejaVuSans-49\"/>\r\n       <use x=\"63.623047\" xlink:href=\"#DejaVuSans-48\"/>\r\n      </g>\r\n     </g>\r\n    </g>\r\n    <g id=\"xtick_4\">\r\n     <g id=\"line2d_4\">\r\n      <g>\r\n       <use style=\"stroke:#000000;stroke-width:0.8;\" x=\"147.293571\" xlink:href=\"#m2b05230992\" y=\"224.64\"/>\r\n      </g>\r\n     </g>\r\n     <g id=\"text_4\">\r\n      <!-- 15 -->\r\n      <g transform=\"translate(140.931071 239.238437)scale(0.1 -0.1)\">\r\n       <use xlink:href=\"#DejaVuSans-49\"/>\r\n       <use x=\"63.623047\" xlink:href=\"#DejaVuSans-53\"/>\r\n      </g>\r\n     </g>\r\n    </g>\r\n    <g id=\"xtick_5\">\r\n     <g id=\"line2d_5\">\r\n      <g>\r\n       <use style=\"stroke:#000000;stroke-width:0.8;\" x=\"186.122143\" xlink:href=\"#m2b05230992\" y=\"224.64\"/>\r\n      </g>\r\n     </g>\r\n     <g id=\"text_5\">\r\n      <!-- 20 -->\r\n      <g transform=\"translate(179.759643 239.238437)scale(0.1 -0.1)\">\r\n       <defs>\r\n        <path d=\"M 19.1875 8.296875 \r\nL 53.609375 8.296875 \r\nL 53.609375 0 \r\nL 7.328125 0 \r\nL 7.328125 8.296875 \r\nQ 12.9375 14.109375 22.625 23.890625 \r\nQ 32.328125 33.6875 34.8125 36.53125 \r\nQ 39.546875 41.84375 41.421875 45.53125 \r\nQ 43.3125 49.21875 43.3125 52.78125 \r\nQ 43.3125 58.59375 39.234375 62.25 \r\nQ 35.15625 65.921875 28.609375 65.921875 \r\nQ 23.96875 65.921875 18.8125 64.3125 \r\nQ 13.671875 62.703125 7.8125 59.421875 \r\nL 7.8125 69.390625 \r\nQ 13.765625 71.78125 18.9375 73 \r\nQ 24.125 74.21875 28.421875 74.21875 \r\nQ 39.75 74.21875 46.484375 68.546875 \r\nQ 53.21875 62.890625 53.21875 53.421875 \r\nQ 53.21875 48.921875 51.53125 44.890625 \r\nQ 49.859375 40.875 45.40625 35.40625 \r\nQ 44.1875 33.984375 37.640625 27.21875 \r\nQ 31.109375 20.453125 19.1875 8.296875 \r\nz\r\n\" id=\"DejaVuSans-50\"/>\r\n       </defs>\r\n       <use xlink:href=\"#DejaVuSans-50\"/>\r\n       <use x=\"63.623047\" xlink:href=\"#DejaVuSans-48\"/>\r\n      </g>\r\n     </g>\r\n    </g>\r\n    <g id=\"xtick_6\">\r\n     <g id=\"line2d_6\">\r\n      <g>\r\n       <use style=\"stroke:#000000;stroke-width:0.8;\" x=\"224.950714\" xlink:href=\"#m2b05230992\" y=\"224.64\"/>\r\n      </g>\r\n     </g>\r\n     <g id=\"text_6\">\r\n      <!-- 25 -->\r\n      <g transform=\"translate(218.588214 239.238437)scale(0.1 -0.1)\">\r\n       <use xlink:href=\"#DejaVuSans-50\"/>\r\n       <use x=\"63.623047\" xlink:href=\"#DejaVuSans-53\"/>\r\n      </g>\r\n     </g>\r\n    </g>\r\n   </g>\r\n   <g id=\"matplotlib.axis_2\">\r\n    <g id=\"ytick_1\">\r\n     <g id=\"line2d_7\">\r\n      <defs>\r\n       <path d=\"M 0 0 \r\nL -3.5 0 \r\n\" id=\"mb95433f27f\" style=\"stroke:#000000;stroke-width:0.8;\"/>\r\n      </defs>\r\n      <g>\r\n       <use style=\"stroke:#000000;stroke-width:0.8;\" x=\"26.925\" xlink:href=\"#mb95433f27f\" y=\"11.082857\"/>\r\n      </g>\r\n     </g>\r\n     <g id=\"text_7\">\r\n      <!-- 0 -->\r\n      <g transform=\"translate(13.5625 14.882076)scale(0.1 -0.1)\">\r\n       <use xlink:href=\"#DejaVuSans-48\"/>\r\n      </g>\r\n     </g>\r\n    </g>\r\n    <g id=\"ytick_2\">\r\n     <g id=\"line2d_8\">\r\n      <g>\r\n       <use style=\"stroke:#000000;stroke-width:0.8;\" x=\"26.925\" xlink:href=\"#mb95433f27f\" y=\"49.911429\"/>\r\n      </g>\r\n     </g>\r\n     <g id=\"text_8\">\r\n      <!-- 5 -->\r\n      <g transform=\"translate(13.5625 53.710647)scale(0.1 -0.1)\">\r\n       <use xlink:href=\"#DejaVuSans-53\"/>\r\n      </g>\r\n     </g>\r\n    </g>\r\n    <g id=\"ytick_3\">\r\n     <g id=\"line2d_9\">\r\n      <g>\r\n       <use style=\"stroke:#000000;stroke-width:0.8;\" x=\"26.925\" xlink:href=\"#mb95433f27f\" y=\"88.74\"/>\r\n      </g>\r\n     </g>\r\n     <g id=\"text_9\">\r\n      <!-- 10 -->\r\n      <g transform=\"translate(7.2 92.539219)scale(0.1 -0.1)\">\r\n       <use xlink:href=\"#DejaVuSans-49\"/>\r\n       <use x=\"63.623047\" xlink:href=\"#DejaVuSans-48\"/>\r\n      </g>\r\n     </g>\r\n    </g>\r\n    <g id=\"ytick_4\">\r\n     <g id=\"line2d_10\">\r\n      <g>\r\n       <use style=\"stroke:#000000;stroke-width:0.8;\" x=\"26.925\" xlink:href=\"#mb95433f27f\" y=\"127.568571\"/>\r\n      </g>\r\n     </g>\r\n     <g id=\"text_10\">\r\n      <!-- 15 -->\r\n      <g transform=\"translate(7.2 131.36779)scale(0.1 -0.1)\">\r\n       <use xlink:href=\"#DejaVuSans-49\"/>\r\n       <use x=\"63.623047\" xlink:href=\"#DejaVuSans-53\"/>\r\n      </g>\r\n     </g>\r\n    </g>\r\n    <g id=\"ytick_5\">\r\n     <g id=\"line2d_11\">\r\n      <g>\r\n       <use style=\"stroke:#000000;stroke-width:0.8;\" x=\"26.925\" xlink:href=\"#mb95433f27f\" y=\"166.397143\"/>\r\n      </g>\r\n     </g>\r\n     <g id=\"text_11\">\r\n      <!-- 20 -->\r\n      <g transform=\"translate(7.2 170.196362)scale(0.1 -0.1)\">\r\n       <use xlink:href=\"#DejaVuSans-50\"/>\r\n       <use x=\"63.623047\" xlink:href=\"#DejaVuSans-48\"/>\r\n      </g>\r\n     </g>\r\n    </g>\r\n    <g id=\"ytick_6\">\r\n     <g id=\"line2d_12\">\r\n      <g>\r\n       <use style=\"stroke:#000000;stroke-width:0.8;\" x=\"26.925\" xlink:href=\"#mb95433f27f\" y=\"205.225714\"/>\r\n      </g>\r\n     </g>\r\n     <g id=\"text_12\">\r\n      <!-- 25 -->\r\n      <g transform=\"translate(7.2 209.024933)scale(0.1 -0.1)\">\r\n       <use xlink:href=\"#DejaVuSans-50\"/>\r\n       <use x=\"63.623047\" xlink:href=\"#DejaVuSans-53\"/>\r\n      </g>\r\n     </g>\r\n    </g>\r\n   </g>\r\n   <g id=\"patch_3\">\r\n    <path d=\"M 26.925 224.64 \r\nL 26.925 7.2 \r\n\" style=\"fill:none;stroke:#000000;stroke-linecap:square;stroke-linejoin:miter;stroke-width:0.8;\"/>\r\n   </g>\r\n   <g id=\"patch_4\">\r\n    <path d=\"M 244.365 224.64 \r\nL 244.365 7.2 \r\n\" style=\"fill:none;stroke:#000000;stroke-linecap:square;stroke-linejoin:miter;stroke-width:0.8;\"/>\r\n   </g>\r\n   <g id=\"patch_5\">\r\n    <path d=\"M 26.925 224.64 \r\nL 244.365 224.64 \r\n\" style=\"fill:none;stroke:#000000;stroke-linecap:square;stroke-linejoin:miter;stroke-width:0.8;\"/>\r\n   </g>\r\n   <g id=\"patch_6\">\r\n    <path d=\"M 26.925 7.2 \r\nL 244.365 7.2 \r\n\" style=\"fill:none;stroke:#000000;stroke-linecap:square;stroke-linejoin:miter;stroke-width:0.8;\"/>\r\n   </g>\r\n  </g>\r\n </g>\r\n <defs>\r\n  <clipPath id=\"pf0d99c3a8f\">\r\n   <rect height=\"217.44\" width=\"217.44\" x=\"26.925\" y=\"7.2\"/>\r\n  </clipPath>\r\n </defs>\r\n</svg>\r\n",
      "image/png": "[encoded data removed]"
     },
     "metadata": {
      "needs_background": "light"
     }
    }
   ],
   "source": [
    "image_loaded = r'data/image-test.png'\n",
    "test_image = image.load_img(image_loaded, target_size = (img_size,img_size), color_mode=\"grayscale\")\n",
    "plt.imshow(test_image)\n",
    "test_image = image.img_to_array(test_image)\n",
    "test_image = np.expand_dims(test_image, axis = 0)\n",
    "\n",
    "\n"
   ]
  },
  {
   "cell_type": "code",
   "execution_count": 101,
   "metadata": {},
   "outputs": [
    {
     "output_type": "stream",
     "name": "stdout",
     "text": [
      "[[0. 0. 0. 0. 0. 0. 1. 0. 0. 0. 0. 0. 0. 0. 0. 0. 0. 0. 0. 0. 0. 0. 0. 0.\n  0. 0.]]\nG\n"
     ]
    }
   ],
   "source": [
    "resultat = model.predict_proba(test_image)\n",
    "lettre = Methods.get_result(resultat)\n",
    "# score_test = model.evaluate(resultat, verbose=0)\n",
    "\n",
    "print (resultat)\n",
    "# print(np.argmax(resultat, axis=1))\n",
    "print(lettre)\n",
    "\n",
    "# test_result = model.predict_proba(self, test_image)\n",
    "\n",
    "# make a prediction\n",
    "# ynew = model.predict(Xnew)\n",
    "# # show the inputs and predicted outputs\n",
    "# for i in range(len(test_image)):\n",
    "# \tprint(\"X=%s, Predicted=%s\" % (test_image[i], resultat[i]))\n",
    "\n",
    "# print(f\"La lettre correspondante est: {resultat}\")"
   ]
  },
  {
   "cell_type": "code",
   "execution_count": 185,
   "metadata": {},
   "outputs": [],
   "source": [
    "chars = []\n",
    "\n",
    "img = cv2.imread(DATA_ROOT +'imagedentrainement.jpeg')\n",
    "\n",
    "#Convert to gray scale et blur\n",
    "img_blur = cv2.GaussianBlur(img, (9, 9), 1)\n",
    "gray = cv2.cvtColor(img_blur, cv2.COLOR_BGR2GRAY)\n",
    "\n",
    "cv2.imwrite(DATA_ROOT +'imagedentrainement_gray.jpeg', gray)\n",
    "\n",
    "# On applique le filtre pour passer l'image en blanc sur fond noir\n",
    "_, threshold = cv2.threshold(gray, 0, 255, cv2.THRESH_OTSU + cv2.THRESH_BINARY_INV) \n",
    "cv2.imwrite(DATA_ROOT + \"threshold.jpeg\", threshold)\n",
    "\n",
    "vis = threshold.copy()\n",
    "\n",
    "contours = cv2.findContours(vis, cv2.RETR_EXTERNAL, cv2.CHAIN_APPROX_SIMPLE)\n",
    "contours = contours[0] if len(contours) == 2 else contours[1]\n",
    "\n",
    "roi_index = 0\n",
    "\n",
    "# Détection des ROI\n",
    "for contour in contours:\n",
    "    x,y,w,h = cv2.boundingRect(contour)\n",
    "\n",
    "    if w < 50 and h < 50:\n",
    "        continue\n",
    "\n",
    "\n",
    "    roi = vis[y:y+h, x:x+w]\n",
    "    cv2.imwrite(DATA_ROOT + '/extract/region_{}.jpeg'.format(roi_index), roi)\n",
    "\n",
    "\n",
    "    if w > h:\n",
    "        r_img = imutils.resize(roi, width=20)\n",
    "    else:\n",
    "        r_img = imutils.resize(roi, height=20)\n",
    "\n",
    "    cv2.imwrite(DATA_ROOT + '/extract/region_resize_{}.jpeg'.format(roi_index), r_img)\n",
    "\n",
    "\n",
    "    # Ajout du padding de 4\n",
    "    p_img= cv2.copyMakeBorder(r_img.copy(),4,4,4,4,cv2.BORDER_CONSTANT)\n",
    "    p_img = cv2.resize(p_img, (28, 28))\n",
    "\n",
    "    cv2.imwrite(DATA_ROOT + '/extract/region_padded_{}.jpeg'.format(roi_index), p_img)\n",
    "\n",
    "    p_img = p_img.astype(\"float32\") / 255.0\n",
    "    p_img = np.expand_dims(p_img, axis=-1)\n",
    "    chars.append((p_img, (x, y, w, h)))\n",
    "\n",
    "    roi_index += 1\n",
    "\n"
   ]
  },
  {
   "cell_type": "code",
   "execution_count": 186,
   "metadata": {},
   "outputs": [],
   "source": [
    "model = load_model(MODELES_PATH + modele_final)"
   ]
  },
  {
   "cell_type": "code",
   "execution_count": 187,
   "metadata": {},
   "outputs": [
    {
     "output_type": "stream",
     "name": "stdout",
     "text": [
      "[INFO] Q - 32.83%\n[INFO] O - 77.00%\n[INFO] R - 83.72%\n[INFO] S - 35.78%\n[INFO] A - 99.16%\n[INFO] M - 93.92%\n[INFO] D - 49.97%\n[INFO] T - 99.63%\n[INFO] F - 98.42%\n[INFO] N - 57.80%\n[INFO] A - 82.96%\n[INFO] D - 80.09%\n[INFO] A - 99.25%\n[INFO] J - 12.27%\n[INFO] T - 95.49%\n[INFO] A - 98.95%\n"
     ]
    }
   ],
   "source": [
    "boxes = [b[1] for b in chars]\n",
    "chars = np.array([c[0] for c in chars], dtype=\"float32\")\n",
    "\n",
    "\n",
    "# Application du modèle entraîné sur les RoI\n",
    "\n",
    "preds = model.predict(chars)\n",
    "\n",
    "labelNames = \"♡ABCDEFGHIJKLMNOPQRSTUVWXYZ\"\n",
    "labelNames = [l for l in labelNames]\n",
    "\n",
    "\n",
    "for (pred, (x, y, w, h)) in zip(preds, boxes):\n",
    "    i = np.argmax(pred)\n",
    "    prob = pred[i]\n",
    "    label = labelNames[i]\n",
    "    \n",
    "    # Création de l'image de prediction\n",
    "    print(\"[INFO] {} - {:.2f}%\".format(label, prob * 100))\n",
    "    cv2.rectangle(img, (x, y), (x + w, y + h), (255, 0, 0), 2)\n",
    "    cv2.putText(img, label, (x - 10, y - 10), cv2.FONT_HERSHEY_SIMPLEX, 1.2, (255, 0, 0), 2)"
   ]
  },
  {
   "cell_type": "code",
   "execution_count": 188,
   "metadata": {},
   "outputs": [
    {
     "output_type": "execute_result",
     "data": {
      "text/plain": [
       "<matplotlib.image.AxesImage at 0x1d670ec8dc8>"
      ]
     },
     "metadata": {},
     "execution_count": 188
    },
    {
     "output_type": "display_data",
     "data": {
      "text/plain": "<Figure size 432x288 with 1 Axes>",
      "image/svg+xml": "<?xml version=\"1.0\" encoding=\"utf-8\" standalone=\"no\"?>\r\n<!DOCTYPE svg PUBLIC \"-//W3C//DTD SVG 1.1//EN\"\r\n  \"http://www.w3.org/Graphics/SVG/1.1/DTD/svg11.dtd\">\r\n<!-- Created with matplotlib (https://matplotlib.org/) -->\r\n<svg height=\"166.549019pt\" version=\"1.1\" viewBox=\"0 0 375.2875 166.549019\" width=\"375.2875pt\" xmlns=\"http://www.w3.org/2000/svg\" xmlns:xlink=\"http://www.w3.org/1999/xlink\">\r\n <metadata>\r\n  <rdf:RDF xmlns:cc=\"http://creativecommons.org/ns#\" xmlns:dc=\"http://purl.org/dc/elements/1.1/\" xmlns:rdf=\"http://www.w3.org/1999/02/22-rdf-syntax-ns#\">\r\n   <cc:Work>\r\n    <dc:type rdf:resource=\"http://purl.org/dc/dcmitype/StillImage\"/>\r\n    <dc:date>2020-11-20T15:48:45.336776</dc:date>\r\n    <dc:format>image/svg+xml</dc:format>\r\n    <dc:creator>\r\n     <cc:Agent>\r\n      <dc:title>Matplotlib v3.3.2, https://matplotlib.org/</dc:title>\r\n     </cc:Agent>\r\n    </dc:creator>\r\n   </cc:Work>\r\n  </rdf:RDF>\r\n </metadata>\r\n <defs>\r\n  <style type=\"text/css\">*{stroke-linecap:butt;stroke-linejoin:round;}</style>\r\n </defs>\r\n <g id=\"figure_1\">\r\n  <g id=\"patch_1\">\r\n   <path d=\"M 0 166.549019 \r\nL 375.2875 166.549019 \r\nL 375.2875 0 \r\nL 0 0 \r\nz\r\n\" style=\"fill:none;\"/>\r\n  </g>\r\n  <g id=\"axes_1\">\r\n   <g id=\"patch_2\">\r\n    <path d=\"M 33.2875 142.670894 \r\nL 368.0875 142.670894 \r\nL 368.0875 10.887916 \r\nL 33.2875 10.887916 \r\nz\r\n\" style=\"fill:#ffffff;\"/>\r\n   </g>\r\n   <g clip-path=\"url(#p6be63a7c20)\">\r\n    <image height=\"132\" id=\"image2947da5657\" transform=\"scale(1 -1)translate(0 -132)\" width=\"335\" x=\"33.2875\" xlink:href=\"data:image/png;base64,\r\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\" y=\"-10.670894\"/>\r\n   </g>\r\n   <g id=\"matplotlib.axis_1\">\r\n    <g id=\"xtick_1\">\r\n     <g id=\"line2d_1\">\r\n      <defs>\r\n       <path d=\"M 0 0 \r\nL 0 3.5 \r\n\" id=\"m320d3cffaa\" style=\"stroke:#000000;stroke-width:0.8;\"/>\r\n      </defs>\r\n      <g>\r\n       <use style=\"stroke:#000000;stroke-width:0.8;\" x=\"33.398803\" xlink:href=\"#m320d3cffaa\" y=\"142.670894\"/>\r\n      </g>\r\n     </g>\r\n     <g id=\"text_1\">\r\n      <!-- 0 -->\r\n      <g transform=\"translate(30.217553 157.269332)scale(0.1 -0.1)\">\r\n       <defs>\r\n        <path d=\"M 31.78125 66.40625 \r\nQ 24.171875 66.40625 20.328125 58.90625 \r\nQ 16.5 51.421875 16.5 36.375 \r\nQ 16.5 21.390625 20.328125 13.890625 \r\nQ 24.171875 6.390625 31.78125 6.390625 \r\nQ 39.453125 6.390625 43.28125 13.890625 \r\nQ 47.125 21.390625 47.125 36.375 \r\nQ 47.125 51.421875 43.28125 58.90625 \r\nQ 39.453125 66.40625 31.78125 66.40625 \r\nz\r\nM 31.78125 74.21875 \r\nQ 44.046875 74.21875 50.515625 64.515625 \r\nQ 56.984375 54.828125 56.984375 36.375 \r\nQ 56.984375 17.96875 50.515625 8.265625 \r\nQ 44.046875 -1.421875 31.78125 -1.421875 \r\nQ 19.53125 -1.421875 13.0625 8.265625 \r\nQ 6.59375 17.96875 6.59375 36.375 \r\nQ 6.59375 54.828125 13.0625 64.515625 \r\nQ 19.53125 74.21875 31.78125 74.21875 \r\nz\r\n\" id=\"DejaVuSans-48\"/>\r\n       </defs>\r\n       <use xlink:href=\"#DejaVuSans-48\"/>\r\n      </g>\r\n     </g>\r\n    </g>\r\n    <g id=\"xtick_2\">\r\n     <g id=\"line2d_2\">\r\n      <g>\r\n       <use style=\"stroke:#000000;stroke-width:0.8;\" x=\"77.92008\" xlink:href=\"#m320d3cffaa\" y=\"142.670894\"/>\r\n      </g>\r\n     </g>\r\n     <g id=\"text_2\">\r\n      <!-- 200 -->\r\n      <g transform=\"translate(68.37633 157.269332)scale(0.1 -0.1)\">\r\n       <defs>\r\n        <path d=\"M 19.1875 8.296875 \r\nL 53.609375 8.296875 \r\nL 53.609375 0 \r\nL 7.328125 0 \r\nL 7.328125 8.296875 \r\nQ 12.9375 14.109375 22.625 23.890625 \r\nQ 32.328125 33.6875 34.8125 36.53125 \r\nQ 39.546875 41.84375 41.421875 45.53125 \r\nQ 43.3125 49.21875 43.3125 52.78125 \r\nQ 43.3125 58.59375 39.234375 62.25 \r\nQ 35.15625 65.921875 28.609375 65.921875 \r\nQ 23.96875 65.921875 18.8125 64.3125 \r\nQ 13.671875 62.703125 7.8125 59.421875 \r\nL 7.8125 69.390625 \r\nQ 13.765625 71.78125 18.9375 73 \r\nQ 24.125 74.21875 28.421875 74.21875 \r\nQ 39.75 74.21875 46.484375 68.546875 \r\nQ 53.21875 62.890625 53.21875 53.421875 \r\nQ 53.21875 48.921875 51.53125 44.890625 \r\nQ 49.859375 40.875 45.40625 35.40625 \r\nQ 44.1875 33.984375 37.640625 27.21875 \r\nQ 31.109375 20.453125 19.1875 8.296875 \r\nz\r\n\" id=\"DejaVuSans-50\"/>\r\n       </defs>\r\n       <use xlink:href=\"#DejaVuSans-50\"/>\r\n       <use x=\"63.623047\" xlink:href=\"#DejaVuSans-48\"/>\r\n       <use x=\"127.246094\" xlink:href=\"#DejaVuSans-48\"/>\r\n      </g>\r\n     </g>\r\n    </g>\r\n    <g id=\"xtick_3\">\r\n     <g id=\"line2d_3\">\r\n      <g>\r\n       <use style=\"stroke:#000000;stroke-width:0.8;\" x=\"122.441356\" xlink:href=\"#m320d3cffaa\" y=\"142.670894\"/>\r\n      </g>\r\n     </g>\r\n     <g id=\"text_3\">\r\n      <!-- 400 -->\r\n      <g transform=\"translate(112.897606 157.269332)scale(0.1 -0.1)\">\r\n       <defs>\r\n        <path d=\"M 37.796875 64.3125 \r\nL 12.890625 25.390625 \r\nL 37.796875 25.390625 \r\nz\r\nM 35.203125 72.90625 \r\nL 47.609375 72.90625 \r\nL 47.609375 25.390625 \r\nL 58.015625 25.390625 \r\nL 58.015625 17.1875 \r\nL 47.609375 17.1875 \r\nL 47.609375 0 \r\nL 37.796875 0 \r\nL 37.796875 17.1875 \r\nL 4.890625 17.1875 \r\nL 4.890625 26.703125 \r\nz\r\n\" id=\"DejaVuSans-52\"/>\r\n       </defs>\r\n       <use xlink:href=\"#DejaVuSans-52\"/>\r\n       <use x=\"63.623047\" xlink:href=\"#DejaVuSans-48\"/>\r\n       <use x=\"127.246094\" xlink:href=\"#DejaVuSans-48\"/>\r\n      </g>\r\n     </g>\r\n    </g>\r\n    <g id=\"xtick_4\">\r\n     <g id=\"line2d_4\">\r\n      <g>\r\n       <use style=\"stroke:#000000;stroke-width:0.8;\" x=\"166.962633\" xlink:href=\"#m320d3cffaa\" y=\"142.670894\"/>\r\n      </g>\r\n     </g>\r\n     <g id=\"text_4\">\r\n      <!-- 600 -->\r\n      <g transform=\"translate(157.418883 157.269332)scale(0.1 -0.1)\">\r\n       <defs>\r\n        <path d=\"M 33.015625 40.375 \r\nQ 26.375 40.375 22.484375 35.828125 \r\nQ 18.609375 31.296875 18.609375 23.390625 \r\nQ 18.609375 15.53125 22.484375 10.953125 \r\nQ 26.375 6.390625 33.015625 6.390625 \r\nQ 39.65625 6.390625 43.53125 10.953125 \r\nQ 47.40625 15.53125 47.40625 23.390625 \r\nQ 47.40625 31.296875 43.53125 35.828125 \r\nQ 39.65625 40.375 33.015625 40.375 \r\nz\r\nM 52.59375 71.296875 \r\nL 52.59375 62.3125 \r\nQ 48.875 64.0625 45.09375 64.984375 \r\nQ 41.3125 65.921875 37.59375 65.921875 \r\nQ 27.828125 65.921875 22.671875 59.328125 \r\nQ 17.53125 52.734375 16.796875 39.40625 \r\nQ 19.671875 43.65625 24.015625 45.921875 \r\nQ 28.375 48.1875 33.59375 48.1875 \r\nQ 44.578125 48.1875 50.953125 41.515625 \r\nQ 57.328125 34.859375 57.328125 23.390625 \r\nQ 57.328125 12.15625 50.6875 5.359375 \r\nQ 44.046875 -1.421875 33.015625 -1.421875 \r\nQ 20.359375 -1.421875 13.671875 8.265625 \r\nQ 6.984375 17.96875 6.984375 36.375 \r\nQ 6.984375 53.65625 15.1875 63.9375 \r\nQ 23.390625 74.21875 37.203125 74.21875 \r\nQ 40.921875 74.21875 44.703125 73.484375 \r\nQ 48.484375 72.75 52.59375 71.296875 \r\nz\r\n\" id=\"DejaVuSans-54\"/>\r\n       </defs>\r\n       <use xlink:href=\"#DejaVuSans-54\"/>\r\n       <use x=\"63.623047\" xlink:href=\"#DejaVuSans-48\"/>\r\n       <use x=\"127.246094\" xlink:href=\"#DejaVuSans-48\"/>\r\n      </g>\r\n     </g>\r\n    </g>\r\n    <g id=\"xtick_5\">\r\n     <g id=\"line2d_5\">\r\n      <g>\r\n       <use style=\"stroke:#000000;stroke-width:0.8;\" x=\"211.48391\" xlink:href=\"#m320d3cffaa\" y=\"142.670894\"/>\r\n      </g>\r\n     </g>\r\n     <g id=\"text_5\">\r\n      <!-- 800 -->\r\n      <g transform=\"translate(201.94016 157.269332)scale(0.1 -0.1)\">\r\n       <defs>\r\n        <path d=\"M 31.78125 34.625 \r\nQ 24.75 34.625 20.71875 30.859375 \r\nQ 16.703125 27.09375 16.703125 20.515625 \r\nQ 16.703125 13.921875 20.71875 10.15625 \r\nQ 24.75 6.390625 31.78125 6.390625 \r\nQ 38.8125 6.390625 42.859375 10.171875 \r\nQ 46.921875 13.96875 46.921875 20.515625 \r\nQ 46.921875 27.09375 42.890625 30.859375 \r\nQ 38.875 34.625 31.78125 34.625 \r\nz\r\nM 21.921875 38.8125 \r\nQ 15.578125 40.375 12.03125 44.71875 \r\nQ 8.5 49.078125 8.5 55.328125 \r\nQ 8.5 64.0625 14.71875 69.140625 \r\nQ 20.953125 74.21875 31.78125 74.21875 \r\nQ 42.671875 74.21875 48.875 69.140625 \r\nQ 55.078125 64.0625 55.078125 55.328125 \r\nQ 55.078125 49.078125 51.53125 44.71875 \r\nQ 48 40.375 41.703125 38.8125 \r\nQ 48.828125 37.15625 52.796875 32.3125 \r\nQ 56.78125 27.484375 56.78125 20.515625 \r\nQ 56.78125 9.90625 50.3125 4.234375 \r\nQ 43.84375 -1.421875 31.78125 -1.421875 \r\nQ 19.734375 -1.421875 13.25 4.234375 \r\nQ 6.78125 9.90625 6.78125 20.515625 \r\nQ 6.78125 27.484375 10.78125 32.3125 \r\nQ 14.796875 37.15625 21.921875 38.8125 \r\nz\r\nM 18.3125 54.390625 \r\nQ 18.3125 48.734375 21.84375 45.5625 \r\nQ 25.390625 42.390625 31.78125 42.390625 \r\nQ 38.140625 42.390625 41.71875 45.5625 \r\nQ 45.3125 48.734375 45.3125 54.390625 \r\nQ 45.3125 60.0625 41.71875 63.234375 \r\nQ 38.140625 66.40625 31.78125 66.40625 \r\nQ 25.390625 66.40625 21.84375 63.234375 \r\nQ 18.3125 60.0625 18.3125 54.390625 \r\nz\r\n\" id=\"DejaVuSans-56\"/>\r\n       </defs>\r\n       <use xlink:href=\"#DejaVuSans-56\"/>\r\n       <use x=\"63.623047\" xlink:href=\"#DejaVuSans-48\"/>\r\n       <use x=\"127.246094\" xlink:href=\"#DejaVuSans-48\"/>\r\n      </g>\r\n     </g>\r\n    </g>\r\n    <g id=\"xtick_6\">\r\n     <g id=\"line2d_6\">\r\n      <g>\r\n       <use style=\"stroke:#000000;stroke-width:0.8;\" x=\"256.005186\" xlink:href=\"#m320d3cffaa\" y=\"142.670894\"/>\r\n      </g>\r\n     </g>\r\n     <g id=\"text_6\">\r\n      <!-- 1000 -->\r\n      <g transform=\"translate(243.280186 157.269332)scale(0.1 -0.1)\">\r\n       <defs>\r\n        <path d=\"M 12.40625 8.296875 \r\nL 28.515625 8.296875 \r\nL 28.515625 63.921875 \r\nL 10.984375 60.40625 \r\nL 10.984375 69.390625 \r\nL 28.421875 72.90625 \r\nL 38.28125 72.90625 \r\nL 38.28125 8.296875 \r\nL 54.390625 8.296875 \r\nL 54.390625 0 \r\nL 12.40625 0 \r\nz\r\n\" id=\"DejaVuSans-49\"/>\r\n       </defs>\r\n       <use xlink:href=\"#DejaVuSans-49\"/>\r\n       <use x=\"63.623047\" xlink:href=\"#DejaVuSans-48\"/>\r\n       <use x=\"127.246094\" xlink:href=\"#DejaVuSans-48\"/>\r\n       <use x=\"190.869141\" xlink:href=\"#DejaVuSans-48\"/>\r\n      </g>\r\n     </g>\r\n    </g>\r\n    <g id=\"xtick_7\">\r\n     <g id=\"line2d_7\">\r\n      <g>\r\n       <use style=\"stroke:#000000;stroke-width:0.8;\" x=\"300.526463\" xlink:href=\"#m320d3cffaa\" y=\"142.670894\"/>\r\n      </g>\r\n     </g>\r\n     <g id=\"text_7\">\r\n      <!-- 1200 -->\r\n      <g transform=\"translate(287.801463 157.269332)scale(0.1 -0.1)\">\r\n       <use xlink:href=\"#DejaVuSans-49\"/>\r\n       <use x=\"63.623047\" xlink:href=\"#DejaVuSans-50\"/>\r\n       <use x=\"127.246094\" xlink:href=\"#DejaVuSans-48\"/>\r\n       <use x=\"190.869141\" xlink:href=\"#DejaVuSans-48\"/>\r\n      </g>\r\n     </g>\r\n    </g>\r\n    <g id=\"xtick_8\">\r\n     <g id=\"line2d_8\">\r\n      <g>\r\n       <use style=\"stroke:#000000;stroke-width:0.8;\" x=\"345.047739\" xlink:href=\"#m320d3cffaa\" y=\"142.670894\"/>\r\n      </g>\r\n     </g>\r\n     <g id=\"text_8\">\r\n      <!-- 1400 -->\r\n      <g transform=\"translate(332.322739 157.269332)scale(0.1 -0.1)\">\r\n       <use xlink:href=\"#DejaVuSans-49\"/>\r\n       <use x=\"63.623047\" xlink:href=\"#DejaVuSans-52\"/>\r\n       <use x=\"127.246094\" xlink:href=\"#DejaVuSans-48\"/>\r\n       <use x=\"190.869141\" xlink:href=\"#DejaVuSans-48\"/>\r\n      </g>\r\n     </g>\r\n    </g>\r\n   </g>\r\n   <g id=\"matplotlib.axis_2\">\r\n    <g id=\"ytick_1\">\r\n     <g id=\"line2d_9\">\r\n      <defs>\r\n       <path d=\"M 0 0 \r\nL -3.5 0 \r\n\" id=\"ma703665306\" style=\"stroke:#000000;stroke-width:0.8;\"/>\r\n      </defs>\r\n      <g>\r\n       <use style=\"stroke:#000000;stroke-width:0.8;\" x=\"33.2875\" xlink:href=\"#ma703665306\" y=\"10.999219\"/>\r\n      </g>\r\n     </g>\r\n     <g id=\"text_9\">\r\n      <!-- 0 -->\r\n      <g transform=\"translate(19.925 14.798437)scale(0.1 -0.1)\">\r\n       <use xlink:href=\"#DejaVuSans-48\"/>\r\n      </g>\r\n     </g>\r\n    </g>\r\n    <g id=\"ytick_2\">\r\n     <g id=\"line2d_10\">\r\n      <g>\r\n       <use style=\"stroke:#000000;stroke-width:0.8;\" x=\"33.2875\" xlink:href=\"#ma703665306\" y=\"33.259857\"/>\r\n      </g>\r\n     </g>\r\n     <g id=\"text_10\">\r\n      <!-- 100 -->\r\n      <g transform=\"translate(7.2 37.059076)scale(0.1 -0.1)\">\r\n       <use xlink:href=\"#DejaVuSans-49\"/>\r\n       <use x=\"63.623047\" xlink:href=\"#DejaVuSans-48\"/>\r\n       <use x=\"127.246094\" xlink:href=\"#DejaVuSans-48\"/>\r\n      </g>\r\n     </g>\r\n    </g>\r\n    <g id=\"ytick_3\">\r\n     <g id=\"line2d_11\">\r\n      <g>\r\n       <use style=\"stroke:#000000;stroke-width:0.8;\" x=\"33.2875\" xlink:href=\"#ma703665306\" y=\"55.520495\"/>\r\n      </g>\r\n     </g>\r\n     <g id=\"text_11\">\r\n      <!-- 200 -->\r\n      <g transform=\"translate(7.2 59.319714)scale(0.1 -0.1)\">\r\n       <use xlink:href=\"#DejaVuSans-50\"/>\r\n       <use x=\"63.623047\" xlink:href=\"#DejaVuSans-48\"/>\r\n       <use x=\"127.246094\" xlink:href=\"#DejaVuSans-48\"/>\r\n      </g>\r\n     </g>\r\n    </g>\r\n    <g id=\"ytick_4\">\r\n     <g id=\"line2d_12\">\r\n      <g>\r\n       <use style=\"stroke:#000000;stroke-width:0.8;\" x=\"33.2875\" xlink:href=\"#ma703665306\" y=\"77.781134\"/>\r\n      </g>\r\n     </g>\r\n     <g id=\"text_12\">\r\n      <!-- 300 -->\r\n      <g transform=\"translate(7.2 81.580352)scale(0.1 -0.1)\">\r\n       <defs>\r\n        <path d=\"M 40.578125 39.3125 \r\nQ 47.65625 37.796875 51.625 33 \r\nQ 55.609375 28.21875 55.609375 21.1875 \r\nQ 55.609375 10.40625 48.1875 4.484375 \r\nQ 40.765625 -1.421875 27.09375 -1.421875 \r\nQ 22.515625 -1.421875 17.65625 -0.515625 \r\nQ 12.796875 0.390625 7.625 2.203125 \r\nL 7.625 11.71875 \r\nQ 11.71875 9.328125 16.59375 8.109375 \r\nQ 21.484375 6.890625 26.8125 6.890625 \r\nQ 36.078125 6.890625 40.9375 10.546875 \r\nQ 45.796875 14.203125 45.796875 21.1875 \r\nQ 45.796875 27.640625 41.28125 31.265625 \r\nQ 36.765625 34.90625 28.71875 34.90625 \r\nL 20.21875 34.90625 \r\nL 20.21875 43.015625 \r\nL 29.109375 43.015625 \r\nQ 36.375 43.015625 40.234375 45.921875 \r\nQ 44.09375 48.828125 44.09375 54.296875 \r\nQ 44.09375 59.90625 40.109375 62.90625 \r\nQ 36.140625 65.921875 28.71875 65.921875 \r\nQ 24.65625 65.921875 20.015625 65.03125 \r\nQ 15.375 64.15625 9.8125 62.3125 \r\nL 9.8125 71.09375 \r\nQ 15.4375 72.65625 20.34375 73.4375 \r\nQ 25.25 74.21875 29.59375 74.21875 \r\nQ 40.828125 74.21875 47.359375 69.109375 \r\nQ 53.90625 64.015625 53.90625 55.328125 \r\nQ 53.90625 49.265625 50.4375 45.09375 \r\nQ 46.96875 40.921875 40.578125 39.3125 \r\nz\r\n\" id=\"DejaVuSans-51\"/>\r\n       </defs>\r\n       <use xlink:href=\"#DejaVuSans-51\"/>\r\n       <use x=\"63.623047\" xlink:href=\"#DejaVuSans-48\"/>\r\n       <use x=\"127.246094\" xlink:href=\"#DejaVuSans-48\"/>\r\n      </g>\r\n     </g>\r\n    </g>\r\n    <g id=\"ytick_5\">\r\n     <g id=\"line2d_13\">\r\n      <g>\r\n       <use style=\"stroke:#000000;stroke-width:0.8;\" x=\"33.2875\" xlink:href=\"#ma703665306\" y=\"100.041772\"/>\r\n      </g>\r\n     </g>\r\n     <g id=\"text_13\">\r\n      <!-- 400 -->\r\n      <g transform=\"translate(7.2 103.840991)scale(0.1 -0.1)\">\r\n       <use xlink:href=\"#DejaVuSans-52\"/>\r\n       <use x=\"63.623047\" xlink:href=\"#DejaVuSans-48\"/>\r\n       <use x=\"127.246094\" xlink:href=\"#DejaVuSans-48\"/>\r\n      </g>\r\n     </g>\r\n    </g>\r\n    <g id=\"ytick_6\">\r\n     <g id=\"line2d_14\">\r\n      <g>\r\n       <use style=\"stroke:#000000;stroke-width:0.8;\" x=\"33.2875\" xlink:href=\"#ma703665306\" y=\"122.30241\"/>\r\n      </g>\r\n     </g>\r\n     <g id=\"text_14\">\r\n      <!-- 500 -->\r\n      <g transform=\"translate(7.2 126.101629)scale(0.1 -0.1)\">\r\n       <defs>\r\n        <path d=\"M 10.796875 72.90625 \r\nL 49.515625 72.90625 \r\nL 49.515625 64.59375 \r\nL 19.828125 64.59375 \r\nL 19.828125 46.734375 \r\nQ 21.96875 47.46875 24.109375 47.828125 \r\nQ 26.265625 48.1875 28.421875 48.1875 \r\nQ 40.625 48.1875 47.75 41.5 \r\nQ 54.890625 34.8125 54.890625 23.390625 \r\nQ 54.890625 11.625 47.5625 5.09375 \r\nQ 40.234375 -1.421875 26.90625 -1.421875 \r\nQ 22.3125 -1.421875 17.546875 -0.640625 \r\nQ 12.796875 0.140625 7.71875 1.703125 \r\nL 7.71875 11.625 \r\nQ 12.109375 9.234375 16.796875 8.0625 \r\nQ 21.484375 6.890625 26.703125 6.890625 \r\nQ 35.15625 6.890625 40.078125 11.328125 \r\nQ 45.015625 15.765625 45.015625 23.390625 \r\nQ 45.015625 31 40.078125 35.4375 \r\nQ 35.15625 39.890625 26.703125 39.890625 \r\nQ 22.75 39.890625 18.8125 39.015625 \r\nQ 14.890625 38.140625 10.796875 36.28125 \r\nz\r\n\" id=\"DejaVuSans-53\"/>\r\n       </defs>\r\n       <use xlink:href=\"#DejaVuSans-53\"/>\r\n       <use x=\"63.623047\" xlink:href=\"#DejaVuSans-48\"/>\r\n       <use x=\"127.246094\" xlink:href=\"#DejaVuSans-48\"/>\r\n      </g>\r\n     </g>\r\n    </g>\r\n   </g>\r\n   <g id=\"patch_3\">\r\n    <path d=\"M 33.2875 142.670894 \r\nL 33.2875 10.887916 \r\n\" style=\"fill:none;stroke:#000000;stroke-linecap:square;stroke-linejoin:miter;stroke-width:0.8;\"/>\r\n   </g>\r\n   <g id=\"patch_4\">\r\n    <path d=\"M 368.0875 142.670894 \r\nL 368.0875 10.887916 \r\n\" style=\"fill:none;stroke:#000000;stroke-linecap:square;stroke-linejoin:miter;stroke-width:0.8;\"/>\r\n   </g>\r\n   <g id=\"patch_5\">\r\n    <path d=\"M 33.2875 142.670894 \r\nL 368.0875 142.670894 \r\n\" style=\"fill:none;stroke:#000000;stroke-linecap:square;stroke-linejoin:miter;stroke-width:0.8;\"/>\r\n   </g>\r\n   <g id=\"patch_6\">\r\n    <path d=\"M 33.2875 10.887916 \r\nL 368.0875 10.887916 \r\n\" style=\"fill:none;stroke:#000000;stroke-linecap:square;stroke-linejoin:miter;stroke-width:0.8;\"/>\r\n   </g>\r\n  </g>\r\n </g>\r\n <defs>\r\n  <clipPath id=\"p6be63a7c20\">\r\n   <rect height=\"131.782979\" width=\"334.8\" x=\"33.2875\" y=\"10.887916\"/>\r\n  </clipPath>\r\n </defs>\r\n</svg>\r\n",
      "image/png": "[encoded data removed]"
     },
     "metadata": {
      "needs_background": "light"
     }
    }
   ],
   "source": [
    "plt.imshow(img)"
   ]
  },
  {
   "cell_type": "code",
   "execution_count": null,
   "metadata": {},
   "outputs": [],
   "source": []
  }
 ]
}