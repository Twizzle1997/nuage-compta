{
 "metadata": {
  "language_info": {
   "codemirror_mode": {
    "name": "ipython",
    "version": 3
   },
   "file_extension": ".py",
   "mimetype": "text/x-python",
   "name": "python",
   "nbconvert_exporter": "python",
   "pygments_lexer": "ipython3",
   "version": "3.7.9-final"
  },
  "orig_nbformat": 2,
  "kernelspec": {
   "name": "python3",
   "display_name": "Python 3.7.9 64-bit ('data-science': conda)",
   "metadata": {
    "interpreter": {
     "hash": "d1299f6780e3cbdedf1411f538f089ac858b183dda4c8823b06d05ab627402c9"
    }
   }
  }
 },
 "nbformat": 4,
 "nbformat_minor": 2,
 "cells": [
  {
   "source": [
    "# Création du brief Nuage Compta"
   ],
   "cell_type": "markdown",
   "metadata": {}
  },
  {
   "source": [
    "## 1- Gestion des imports"
   ],
   "cell_type": "markdown",
   "metadata": {}
  },
  {
   "cell_type": "code",
   "execution_count": 210,
   "metadata": {},
   "outputs": [
    {
     "output_type": "stream",
     "name": "stdout",
     "text": [
      "The autoreload extension is already loaded. To reload it, use:\n  %reload_ext autoreload\n"
     ]
    }
   ],
   "source": [
    "%load_ext autoreload\n",
    "%autoreload\n",
    "\n",
    "import pandas as pd\n",
    "import numpy as np\n",
    "import matplotlib.pyplot as plt\n",
    "import keras\n",
    "import cv2\n",
    "from keras.preprocessing.image import ImageDataGenerator\n",
    "from keras.preprocessing import image\n",
    "from keras.models import Sequential\n",
    "from keras.models import load_model\n",
    "from keras.layers import Dense, Dropout, Flatten\n",
    "from keras.layers import Conv2D, MaxPooling2D\n",
    "from keras import backend as K\n",
    "from keras.callbacks import ModelCheckpoint, Callback\n",
    "import imutils\n",
    "from imutils.contours import sort_contours\n",
    "\n",
    "import methods\n",
    "from methods import Methods\n",
    "# from methods import Methods\n",
    "# from methods.Methods import get_result\n",
    "# from methods.methods import negatif\n",
    "# import tensorflow"
   ]
  },
  {
   "source": [
    "## Paramètres de l'application"
   ],
   "cell_type": "markdown",
   "metadata": {}
  },
  {
   "cell_type": "code",
   "execution_count": 211,
   "metadata": {},
   "outputs": [],
   "source": [
    "# Filename of the model weights output\n",
    "modele_best = \"cnn_best.hdf5\"\n",
    "modele_final = \"cnn_final.hdf5\"\n",
    "\n",
    "DATA_ROOT = 'data/'\n",
    "MODELES_PATH = 'data/modeles/'\n",
    "TRAINING_PATH = 'training/'\n",
    "TESTING_PATH = 'testing/'\n",
    "ABC_PATH = 'data/alphbet-dataset/'\n",
    "\n",
    "batch_size = 5975\n",
    "num_classes = 27\n",
    "epochs = 25\n",
    "\n",
    "# input image dimensions\n",
    "# img_rows, img_cols = 28, 28\n",
    "img_size = 28\n",
    "input_shape = (img_size, img_size, 1)"
   ]
  },
  {
   "cell_type": "code",
   "execution_count": 212,
   "metadata": {},
   "outputs": [
    {
     "output_type": "stream",
     "name": "stdout",
     "text": [
      "Found 5205 images belonging to 27 classes.\n",
      "Found 784 images belonging to 27 classes.\n"
     ]
    }
   ],
   "source": [
    "train_datagen = ImageDataGenerator(rescale = 1./255,\n",
    "                                   shear_range = 0.2,\n",
    "                                   zoom_range = 0.2,\n",
    "                                   horizontal_flip = True)\n",
    "\n",
    "test_datagen = ImageDataGenerator(rescale = 1./255)\n",
    "\n",
    "train_generator = train_datagen.flow_from_directory(\n",
    "    directory = \"data/training\",\n",
    "    target_size = (img_size,img_size),\n",
    "    batch_size = 200,\n",
    "    class_mode = \"categorical\",\n",
    "    color_mode = \"grayscale\"                                \n",
    "\n",
    "\n",
    ")\n",
    "\n",
    "test_generator = test_datagen.flow_from_directory(\n",
    "    directory = \"data/testing\",\n",
    "    target_size = (img_size,img_size),\n",
    "    batch_size = 100,\n",
    "    class_mode = \"categorical\",\n",
    "    color_mode = \"grayscale\"\n",
    "\n",
    ")"
   ]
  },
  {
   "cell_type": "code",
   "execution_count": 213,
   "metadata": {},
   "outputs": [
    {
     "output_type": "stream",
     "name": "stdout",
     "text": [
      "Model: \"sequential_11\"\n_________________________________________________________________\nLayer (type)                 Output Shape              Param #   \n=================================================================\nconv2d_18 (Conv2D)           (None, 26, 26, 28)        280       \n_________________________________________________________________\nconv2d_19 (Conv2D)           (None, 24, 24, 28)        7084      \n_________________________________________________________________\nmax_pooling2d_11 (MaxPooling (None, 12, 12, 28)        0         \n_________________________________________________________________\ndropout_21 (Dropout)         (None, 12, 12, 28)        0         \n_________________________________________________________________\nflatten_11 (Flatten)         (None, 4032)              0         \n_________________________________________________________________\ndense_21 (Dense)             (None, 128)               516224    \n_________________________________________________________________\ndropout_22 (Dropout)         (None, 128)               0         \n_________________________________________________________________\ndense_22 (Dense)             (None, 27)                3483      \n=================================================================\nTotal params: 527,071\nTrainable params: 527,071\nNon-trainable params: 0\n_________________________________________________________________\n"
     ]
    }
   ],
   "source": [
    "model = Sequential()\n",
    "\n",
    "model.add(Conv2D(img_size, kernel_size=(3, 3),\n",
    "                 activation='relu',\n",
    "                 input_shape=input_shape\n",
    "                 ))\n",
    "\n",
    "model.add(Conv2D(img_size, (3, 3), activation='relu'))\n",
    "model.add(MaxPooling2D(pool_size=(2, 2)))\n",
    "model.add(Dropout(0.25))\n",
    "model.add(Flatten())\n",
    "model.add(Dense(128, activation='relu'))\n",
    "model.add(Dropout(0.5))\n",
    "model.add(Dense(num_classes, activation='softmax'))\n",
    "\n",
    "model.compile(loss=keras.losses.categorical_crossentropy,\n",
    "              optimizer=keras.optimizers.Adadelta(),\n",
    "              metrics=['accuracy'])\n",
    "\n",
    "model.summary()\n",
    "\n",
    "checkpointer = ModelCheckpoint(filepath= MODELES_PATH + modele_best, verbose=1, save_best_only=False)"
   ]
  },
  {
   "cell_type": "code",
   "execution_count": 214,
   "metadata": {},
   "outputs": [
    {
     "output_type": "stream",
     "name": "stdout",
     "text": [
      "Epoch 1/18\n",
      "27/27 [==============================] - 14s 528ms/step - loss: 2.8812 - accuracy: 0.1748 - val_loss: 1.8979 - val_accuracy: 0.4630\n",
      "\n",
      "Epoch 00001: saving model to data/modeles/cnn_best.hdf5\n",
      "Epoch 2/18\n",
      "27/27 [==============================] - 13s 483ms/step - loss: 2.1809 - accuracy: 0.3508 - val_loss: 1.4848 - val_accuracy: 0.5536\n",
      "\n",
      "Epoch 00002: saving model to data/modeles/cnn_best.hdf5\n",
      "Epoch 3/18\n",
      "27/27 [==============================] - 14s 503ms/step - loss: 1.7299 - accuracy: 0.4761 - val_loss: 1.1609 - val_accuracy: 0.6913\n",
      "\n",
      "Epoch 00003: saving model to data/modeles/cnn_best.hdf5\n",
      "Epoch 4/18\n",
      "27/27 [==============================] - 14s 503ms/step - loss: 1.5179 - accuracy: 0.5285 - val_loss: 1.0308 - val_accuracy: 0.7321\n",
      "\n",
      "Epoch 00004: saving model to data/modeles/cnn_best.hdf5\n",
      "Epoch 5/18\n",
      "27/27 [==============================] - 14s 515ms/step - loss: 1.3171 - accuracy: 0.5858 - val_loss: 0.9008 - val_accuracy: 0.7564\n",
      "\n",
      "Epoch 00005: saving model to data/modeles/cnn_best.hdf5\n",
      "Epoch 6/18\n",
      "27/27 [==============================] - 13s 482ms/step - loss: 1.1806 - accuracy: 0.6298 - val_loss: 0.7164 - val_accuracy: 0.7577\n",
      "\n",
      "Epoch 00006: saving model to data/modeles/cnn_best.hdf5\n",
      "Epoch 7/18\n",
      "27/27 [==============================] - 13s 488ms/step - loss: 1.1167 - accuracy: 0.6511 - val_loss: 0.6531 - val_accuracy: 0.7717\n",
      "\n",
      "Epoch 00007: saving model to data/modeles/cnn_best.hdf5\n",
      "Epoch 8/18\n",
      "27/27 [==============================] - 12s 458ms/step - loss: 0.9832 - accuracy: 0.6807 - val_loss: 0.7413 - val_accuracy: 0.8304\n",
      "\n",
      "Epoch 00008: saving model to data/modeles/cnn_best.hdf5\n",
      "Epoch 9/18\n",
      "27/27 [==============================] - 12s 460ms/step - loss: 0.9001 - accuracy: 0.7114 - val_loss: 0.4009 - val_accuracy: 0.8393\n",
      "\n",
      "Epoch 00009: saving model to data/modeles/cnn_best.hdf5\n",
      "Epoch 10/18\n",
      "27/27 [==============================] - 13s 476ms/step - loss: 0.8863 - accuracy: 0.7205 - val_loss: 0.5075 - val_accuracy: 0.8482\n",
      "\n",
      "Epoch 00010: saving model to data/modeles/cnn_best.hdf5\n",
      "Epoch 11/18\n",
      "27/27 [==============================] - 13s 469ms/step - loss: 0.8183 - accuracy: 0.7406 - val_loss: 0.4537 - val_accuracy: 0.8495\n",
      "\n",
      "Epoch 00011: saving model to data/modeles/cnn_best.hdf5\n",
      "Epoch 12/18\n",
      "27/27 [==============================] - 13s 469ms/step - loss: 0.7546 - accuracy: 0.7673 - val_loss: 0.4546 - val_accuracy: 0.8622\n",
      "\n",
      "Epoch 00012: saving model to data/modeles/cnn_best.hdf5\n",
      "Epoch 13/18\n",
      "27/27 [==============================] - 13s 467ms/step - loss: 0.7354 - accuracy: 0.7656 - val_loss: 0.3216 - val_accuracy: 0.8750\n",
      "\n",
      "Epoch 00013: saving model to data/modeles/cnn_best.hdf5\n",
      "Epoch 14/18\n",
      "27/27 [==============================] - 14s 505ms/step - loss: 0.7397 - accuracy: 0.7756 - val_loss: 0.3814 - val_accuracy: 0.8865\n",
      "\n",
      "Epoch 00014: saving model to data/modeles/cnn_best.hdf5\n",
      "Epoch 15/18\n",
      "27/27 [==============================] - 17s 619ms/step - loss: 0.6652 - accuracy: 0.7875 - val_loss: 0.4225 - val_accuracy: 0.8788\n",
      "\n",
      "Epoch 00015: saving model to data/modeles/cnn_best.hdf5\n",
      "Epoch 16/18\n",
      "27/27 [==============================] - 14s 528ms/step - loss: 0.6486 - accuracy: 0.7979 - val_loss: 0.6480 - val_accuracy: 0.8699\n",
      "\n",
      "Epoch 00016: saving model to data/modeles/cnn_best.hdf5\n",
      "Epoch 17/18\n",
      "27/27 [==============================] - 14s 521ms/step - loss: 0.6171 - accuracy: 0.8017 - val_loss: 0.3249 - val_accuracy: 0.8814\n",
      "\n",
      "Epoch 00017: saving model to data/modeles/cnn_best.hdf5\n",
      "Epoch 18/18\n",
      "27/27 [==============================] - 13s 480ms/step - loss: 0.6132 - accuracy: 0.8083 - val_loss: 0.3754 - val_accuracy: 0.8750\n",
      "\n",
      "Epoch 00018: saving model to data/modeles/cnn_best.hdf5\n",
      "Test loss: 0.03967347368597984\n",
      "Test accuracy: 0.8991354703903198\n",
      "Saving model...\n",
      "All done !\n"
     ]
    }
   ],
   "source": [
    "model.fit(train_generator,\n",
    "        #   batch_size=batch_size,\n",
    "          epochs=epochs,\n",
    "          verbose=1,\n",
    "          validation_data=(test_generator), \n",
    "          callbacks=[checkpointer]\n",
    "          )\n",
    "\n",
    "score = model.evaluate(train_generator, verbose=0)\n",
    "print('Test loss:', score[0])\n",
    "print('Test accuracy:', score[1])\n",
    "print(\"Saving model...\")\n",
    "model.save(MODELES_PATH + modele_final)\n",
    "print(\"All done !\")"
   ]
  },
  {
   "cell_type": "code",
   "execution_count": 215,
   "metadata": {},
   "outputs": [
    {
     "output_type": "display_data",
     "data": {
      "text/plain": "<Figure size 432x288 with 1 Axes>",
      "image/svg+xml": "<?xml version=\"1.0\" encoding=\"utf-8\" standalone=\"no\"?>\r\n<!DOCTYPE svg PUBLIC \"-//W3C//DTD SVG 1.1//EN\"\r\n  \"http://www.w3.org/Graphics/SVG/1.1/DTD/svg11.dtd\">\r\n<!-- Created with matplotlib (https://matplotlib.org/) -->\r\n<svg height=\"248.518125pt\" version=\"1.1\" viewBox=\"0 0 251.565 248.518125\" width=\"251.565pt\" xmlns=\"http://www.w3.org/2000/svg\" xmlns:xlink=\"http://www.w3.org/1999/xlink\">\r\n <metadata>\r\n  <rdf:RDF xmlns:cc=\"http://creativecommons.org/ns#\" xmlns:dc=\"http://purl.org/dc/elements/1.1/\" xmlns:rdf=\"http://www.w3.org/1999/02/22-rdf-syntax-ns#\">\r\n   <cc:Work>\r\n    <dc:type rdf:resource=\"http://purl.org/dc/dcmitype/StillImage\"/>\r\n    <dc:date>2020-11-20T16:18:43.481680</dc:date>\r\n    <dc:format>image/svg+xml</dc:format>\r\n    <dc:creator>\r\n     <cc:Agent>\r\n      <dc:title>Matplotlib v3.3.2, https://matplotlib.org/</dc:title>\r\n     </cc:Agent>\r\n    </dc:creator>\r\n   </cc:Work>\r\n  </rdf:RDF>\r\n </metadata>\r\n <defs>\r\n  <style type=\"text/css\">*{stroke-linecap:butt;stroke-linejoin:round;}</style>\r\n </defs>\r\n <g id=\"figure_1\">\r\n  <g id=\"patch_1\">\r\n   <path d=\"M 0 248.518125 \r\nL 251.565 248.518125 \r\nL 251.565 0 \r\nL 0 0 \r\nz\r\n\" style=\"fill:none;\"/>\r\n  </g>\r\n  <g id=\"axes_1\">\r\n   <g id=\"patch_2\">\r\n    <path d=\"M 26.925 224.64 \r\nL 244.365 224.64 \r\nL 244.365 7.2 \r\nL 26.925 7.2 \r\nz\r\n\" style=\"fill:#ffffff;\"/>\r\n   </g>\r\n   <g clip-path=\"url(#p88ee526f25)\">\r\n    <image height=\"218\" id=\"imagef0e2b8462c\" transform=\"scale(1 -1)translate(0 -218)\" width=\"218\" x=\"26.925\" xlink:href=\"data:image/png;base64,\r\niVBORw0KGgoAAAANSUhEUgAAANoAAADaCAYAAADAHVzbAAAETklEQVR4nO3dsYpcZRiA4TmziUY3YGcRVtHGViEgQSwDqcXcgddg4wV4A1aWYiOibTT2iyIYxNZCghuvQEIIuGtnk90z7sye90x2nqf9d3b/HXjnh/Nxzgy3h7snC2BSy7k3ALtAaBAQGgSEBgGhQUBoEBAaBIQGAaFBQGgQEBoEhAYBoUFAaBAQGgSuzL0BnnXv0YPR9b1h/PPxt6dPRtc/fuPWufd0Ua68dnDm2ueHX42+9qPX37/o7WScaBAQGgSEBgGhQUBoEBAaBAaPmzvdyXtvj67/8M0X0U62y50b72z0+vt//Xoh+zjNpnubkhMNAkKDgNAgIDQICA0CQoOA0CCws3O0Kec5q8w97/n26Kcz164vr4U7OZ+537dNONEgIDQICA0CQoOA0CAgNAgIDQLP9RxtV+9tmtJyf390/bvfDyf725f5PXeiQUBoEBAaBIQGAaFBQGgQEBoEtvprm8zJpvHln2fPwl7dG5+jbWpX33cnGgSEBgGhQUBoEBAaBIQGAaFBYNY52tdHP674iZfW/t27Oq9ZLP7P/HHaWRnPcqJBQGgQEBoEhAYBoUFAaBCY9fL+K8v1L98vFrt7CX/Or5xiPU40CAgNAkKDgNAgIDQICA0CQoPAtHO05d5GLzcn6616z83w1uNEg4DQICA0CAgNAkKDgNAgIDQITDpHu3/0y5S/fqvde/TgzLW9Yd7Pt12dT87JiQYBoUFAaBAQGgSEBgGhQUBoEJj1uY6X2ZyzMnOy7eNEg4DQICA0CAgNAkKDgNAg4PL+RHb1Evuu/t+rONEgIDQICA0CQoOA0CAgNAgIDQKTztH+Pn4yun59eW3KP88afC3TNJxoEBAaBIQGAaFBQGgQEBoEhAaBSedoHx7cGl1fNbP59I+fR9c/efPd824JZuFEg4DQICA0CAgNAkKDgNAgIDQIbPVzHW+++MLcW7iUNrnnzHMb1+NEg4DQICA0CAgNAkKDgNAgIDQIzDpHWzWTWTXvGVt/fPx09LUfHLiXjY4TDQJCg4DQICA0CAgNAkKDwFbfJrPJ5f+Xl+O32KwaHbgd5AzDML5+ctLs4znjRIOA0CAgNAgIDQJCg4DQICA0CGz1HG2VsVnXcHV8jvb9w/GvhNrkkWyXmjnZWpxoEBAaBIQGAaFBQGgQEBoEhAaB4fZw12DkFJ89PBxdf+vqfrST87tzcHP8B47/aTbCf5xoEBAaBIQGAaFBQGgQEBoEhAYBczQIONEgIDQICA0CQoOA0CAgNAgIDQJCg4DQICA0CAgNAkKDgNAgIDQICA0CQoOA0CAgNAgIDQJCg4DQICA0CAgNAkKDgNAgIDQICA0CQoOA0CAgNAgIDQJCg4DQICA0CAgNAkKDgNAgIDQICA0CQoOA0CAgNAgIDQJCg4DQICA0CAgNAkKDgNAgIDQICA0CQoOA0CAgNAgIDQJCg4DQICA0CAgNAkKDgNAg8C93V29KVgzUsgAAAABJRU5ErkJggg==\" y=\"-6.64\"/>\r\n   </g>\r\n   <g id=\"matplotlib.axis_1\">\r\n    <g id=\"xtick_1\">\r\n     <g id=\"line2d_1\">\r\n      <defs>\r\n       <path d=\"M 0 0 \r\nL 0 3.5 \r\n\" id=\"ma87b380b2c\" style=\"stroke:#000000;stroke-width:0.8;\"/>\r\n      </defs>\r\n      <g>\r\n       <use style=\"stroke:#000000;stroke-width:0.8;\" x=\"30.807857\" xlink:href=\"#ma87b380b2c\" y=\"224.64\"/>\r\n      </g>\r\n     </g>\r\n     <g id=\"text_1\">\r\n      <!-- 0 -->\r\n      <g transform=\"translate(27.626607 239.238437)scale(0.1 -0.1)\">\r\n       <defs>\r\n        <path d=\"M 31.78125 66.40625 \r\nQ 24.171875 66.40625 20.328125 58.90625 \r\nQ 16.5 51.421875 16.5 36.375 \r\nQ 16.5 21.390625 20.328125 13.890625 \r\nQ 24.171875 6.390625 31.78125 6.390625 \r\nQ 39.453125 6.390625 43.28125 13.890625 \r\nQ 47.125 21.390625 47.125 36.375 \r\nQ 47.125 51.421875 43.28125 58.90625 \r\nQ 39.453125 66.40625 31.78125 66.40625 \r\nz\r\nM 31.78125 74.21875 \r\nQ 44.046875 74.21875 50.515625 64.515625 \r\nQ 56.984375 54.828125 56.984375 36.375 \r\nQ 56.984375 17.96875 50.515625 8.265625 \r\nQ 44.046875 -1.421875 31.78125 -1.421875 \r\nQ 19.53125 -1.421875 13.0625 8.265625 \r\nQ 6.59375 17.96875 6.59375 36.375 \r\nQ 6.59375 54.828125 13.0625 64.515625 \r\nQ 19.53125 74.21875 31.78125 74.21875 \r\nz\r\n\" id=\"DejaVuSans-48\"/>\r\n       </defs>\r\n       <use xlink:href=\"#DejaVuSans-48\"/>\r\n      </g>\r\n     </g>\r\n    </g>\r\n    <g id=\"xtick_2\">\r\n     <g id=\"line2d_2\">\r\n      <g>\r\n       <use style=\"stroke:#000000;stroke-width:0.8;\" x=\"69.636429\" xlink:href=\"#ma87b380b2c\" y=\"224.64\"/>\r\n      </g>\r\n     </g>\r\n     <g id=\"text_2\">\r\n      <!-- 5 -->\r\n      <g transform=\"translate(66.455179 239.238437)scale(0.1 -0.1)\">\r\n       <defs>\r\n        <path d=\"M 10.796875 72.90625 \r\nL 49.515625 72.90625 \r\nL 49.515625 64.59375 \r\nL 19.828125 64.59375 \r\nL 19.828125 46.734375 \r\nQ 21.96875 47.46875 24.109375 47.828125 \r\nQ 26.265625 48.1875 28.421875 48.1875 \r\nQ 40.625 48.1875 47.75 41.5 \r\nQ 54.890625 34.8125 54.890625 23.390625 \r\nQ 54.890625 11.625 47.5625 5.09375 \r\nQ 40.234375 -1.421875 26.90625 -1.421875 \r\nQ 22.3125 -1.421875 17.546875 -0.640625 \r\nQ 12.796875 0.140625 7.71875 1.703125 \r\nL 7.71875 11.625 \r\nQ 12.109375 9.234375 16.796875 8.0625 \r\nQ 21.484375 6.890625 26.703125 6.890625 \r\nQ 35.15625 6.890625 40.078125 11.328125 \r\nQ 45.015625 15.765625 45.015625 23.390625 \r\nQ 45.015625 31 40.078125 35.4375 \r\nQ 35.15625 39.890625 26.703125 39.890625 \r\nQ 22.75 39.890625 18.8125 39.015625 \r\nQ 14.890625 38.140625 10.796875 36.28125 \r\nz\r\n\" id=\"DejaVuSans-53\"/>\r\n       </defs>\r\n       <use xlink:href=\"#DejaVuSans-53\"/>\r\n      </g>\r\n     </g>\r\n    </g>\r\n    <g id=\"xtick_3\">\r\n     <g id=\"line2d_3\">\r\n      <g>\r\n       <use style=\"stroke:#000000;stroke-width:0.8;\" x=\"108.465\" xlink:href=\"#ma87b380b2c\" y=\"224.64\"/>\r\n      </g>\r\n     </g>\r\n     <g id=\"text_3\">\r\n      <!-- 10 -->\r\n      <g transform=\"translate(102.1025 239.238437)scale(0.1 -0.1)\">\r\n       <defs>\r\n        <path d=\"M 12.40625 8.296875 \r\nL 28.515625 8.296875 \r\nL 28.515625 63.921875 \r\nL 10.984375 60.40625 \r\nL 10.984375 69.390625 \r\nL 28.421875 72.90625 \r\nL 38.28125 72.90625 \r\nL 38.28125 8.296875 \r\nL 54.390625 8.296875 \r\nL 54.390625 0 \r\nL 12.40625 0 \r\nz\r\n\" id=\"DejaVuSans-49\"/>\r\n       </defs>\r\n       <use xlink:href=\"#DejaVuSans-49\"/>\r\n       <use x=\"63.623047\" xlink:href=\"#DejaVuSans-48\"/>\r\n      </g>\r\n     </g>\r\n    </g>\r\n    <g id=\"xtick_4\">\r\n     <g id=\"line2d_4\">\r\n      <g>\r\n       <use style=\"stroke:#000000;stroke-width:0.8;\" x=\"147.293571\" xlink:href=\"#ma87b380b2c\" y=\"224.64\"/>\r\n      </g>\r\n     </g>\r\n     <g id=\"text_4\">\r\n      <!-- 15 -->\r\n      <g transform=\"translate(140.931071 239.238437)scale(0.1 -0.1)\">\r\n       <use xlink:href=\"#DejaVuSans-49\"/>\r\n       <use x=\"63.623047\" xlink:href=\"#DejaVuSans-53\"/>\r\n      </g>\r\n     </g>\r\n    </g>\r\n    <g id=\"xtick_5\">\r\n     <g id=\"line2d_5\">\r\n      <g>\r\n       <use style=\"stroke:#000000;stroke-width:0.8;\" x=\"186.122143\" xlink:href=\"#ma87b380b2c\" y=\"224.64\"/>\r\n      </g>\r\n     </g>\r\n     <g id=\"text_5\">\r\n      <!-- 20 -->\r\n      <g transform=\"translate(179.759643 239.238437)scale(0.1 -0.1)\">\r\n       <defs>\r\n        <path d=\"M 19.1875 8.296875 \r\nL 53.609375 8.296875 \r\nL 53.609375 0 \r\nL 7.328125 0 \r\nL 7.328125 8.296875 \r\nQ 12.9375 14.109375 22.625 23.890625 \r\nQ 32.328125 33.6875 34.8125 36.53125 \r\nQ 39.546875 41.84375 41.421875 45.53125 \r\nQ 43.3125 49.21875 43.3125 52.78125 \r\nQ 43.3125 58.59375 39.234375 62.25 \r\nQ 35.15625 65.921875 28.609375 65.921875 \r\nQ 23.96875 65.921875 18.8125 64.3125 \r\nQ 13.671875 62.703125 7.8125 59.421875 \r\nL 7.8125 69.390625 \r\nQ 13.765625 71.78125 18.9375 73 \r\nQ 24.125 74.21875 28.421875 74.21875 \r\nQ 39.75 74.21875 46.484375 68.546875 \r\nQ 53.21875 62.890625 53.21875 53.421875 \r\nQ 53.21875 48.921875 51.53125 44.890625 \r\nQ 49.859375 40.875 45.40625 35.40625 \r\nQ 44.1875 33.984375 37.640625 27.21875 \r\nQ 31.109375 20.453125 19.1875 8.296875 \r\nz\r\n\" id=\"DejaVuSans-50\"/>\r\n       </defs>\r\n       <use xlink:href=\"#DejaVuSans-50\"/>\r\n       <use x=\"63.623047\" xlink:href=\"#DejaVuSans-48\"/>\r\n      </g>\r\n     </g>\r\n    </g>\r\n    <g id=\"xtick_6\">\r\n     <g id=\"line2d_6\">\r\n      <g>\r\n       <use style=\"stroke:#000000;stroke-width:0.8;\" x=\"224.950714\" xlink:href=\"#ma87b380b2c\" y=\"224.64\"/>\r\n      </g>\r\n     </g>\r\n     <g id=\"text_6\">\r\n      <!-- 25 -->\r\n      <g transform=\"translate(218.588214 239.238437)scale(0.1 -0.1)\">\r\n       <use xlink:href=\"#DejaVuSans-50\"/>\r\n       <use x=\"63.623047\" xlink:href=\"#DejaVuSans-53\"/>\r\n      </g>\r\n     </g>\r\n    </g>\r\n   </g>\r\n   <g id=\"matplotlib.axis_2\">\r\n    <g id=\"ytick_1\">\r\n     <g id=\"line2d_7\">\r\n      <defs>\r\n       <path d=\"M 0 0 \r\nL -3.5 0 \r\n\" id=\"md9295d3c82\" style=\"stroke:#000000;stroke-width:0.8;\"/>\r\n      </defs>\r\n      <g>\r\n       <use style=\"stroke:#000000;stroke-width:0.8;\" x=\"26.925\" xlink:href=\"#md9295d3c82\" y=\"11.082857\"/>\r\n      </g>\r\n     </g>\r\n     <g id=\"text_7\">\r\n      <!-- 0 -->\r\n      <g transform=\"translate(13.5625 14.882076)scale(0.1 -0.1)\">\r\n       <use xlink:href=\"#DejaVuSans-48\"/>\r\n      </g>\r\n     </g>\r\n    </g>\r\n    <g id=\"ytick_2\">\r\n     <g id=\"line2d_8\">\r\n      <g>\r\n       <use style=\"stroke:#000000;stroke-width:0.8;\" x=\"26.925\" xlink:href=\"#md9295d3c82\" y=\"49.911429\"/>\r\n      </g>\r\n     </g>\r\n     <g id=\"text_8\">\r\n      <!-- 5 -->\r\n      <g transform=\"translate(13.5625 53.710647)scale(0.1 -0.1)\">\r\n       <use xlink:href=\"#DejaVuSans-53\"/>\r\n      </g>\r\n     </g>\r\n    </g>\r\n    <g id=\"ytick_3\">\r\n     <g id=\"line2d_9\">\r\n      <g>\r\n       <use style=\"stroke:#000000;stroke-width:0.8;\" x=\"26.925\" xlink:href=\"#md9295d3c82\" y=\"88.74\"/>\r\n      </g>\r\n     </g>\r\n     <g id=\"text_9\">\r\n      <!-- 10 -->\r\n      <g transform=\"translate(7.2 92.539219)scale(0.1 -0.1)\">\r\n       <use xlink:href=\"#DejaVuSans-49\"/>\r\n       <use x=\"63.623047\" xlink:href=\"#DejaVuSans-48\"/>\r\n      </g>\r\n     </g>\r\n    </g>\r\n    <g id=\"ytick_4\">\r\n     <g id=\"line2d_10\">\r\n      <g>\r\n       <use style=\"stroke:#000000;stroke-width:0.8;\" x=\"26.925\" xlink:href=\"#md9295d3c82\" y=\"127.568571\"/>\r\n      </g>\r\n     </g>\r\n     <g id=\"text_10\">\r\n      <!-- 15 -->\r\n      <g transform=\"translate(7.2 131.36779)scale(0.1 -0.1)\">\r\n       <use xlink:href=\"#DejaVuSans-49\"/>\r\n       <use x=\"63.623047\" xlink:href=\"#DejaVuSans-53\"/>\r\n      </g>\r\n     </g>\r\n    </g>\r\n    <g id=\"ytick_5\">\r\n     <g id=\"line2d_11\">\r\n      <g>\r\n       <use style=\"stroke:#000000;stroke-width:0.8;\" x=\"26.925\" xlink:href=\"#md9295d3c82\" y=\"166.397143\"/>\r\n      </g>\r\n     </g>\r\n     <g id=\"text_11\">\r\n      <!-- 20 -->\r\n      <g transform=\"translate(7.2 170.196362)scale(0.1 -0.1)\">\r\n       <use xlink:href=\"#DejaVuSans-50\"/>\r\n       <use x=\"63.623047\" xlink:href=\"#DejaVuSans-48\"/>\r\n      </g>\r\n     </g>\r\n    </g>\r\n    <g id=\"ytick_6\">\r\n     <g id=\"line2d_12\">\r\n      <g>\r\n       <use style=\"stroke:#000000;stroke-width:0.8;\" x=\"26.925\" xlink:href=\"#md9295d3c82\" y=\"205.225714\"/>\r\n      </g>\r\n     </g>\r\n     <g id=\"text_12\">\r\n      <!-- 25 -->\r\n      <g transform=\"translate(7.2 209.024933)scale(0.1 -0.1)\">\r\n       <use xlink:href=\"#DejaVuSans-50\"/>\r\n       <use x=\"63.623047\" xlink:href=\"#DejaVuSans-53\"/>\r\n      </g>\r\n     </g>\r\n    </g>\r\n   </g>\r\n   <g id=\"patch_3\">\r\n    <path d=\"M 26.925 224.64 \r\nL 26.925 7.2 \r\n\" style=\"fill:none;stroke:#000000;stroke-linecap:square;stroke-linejoin:miter;stroke-width:0.8;\"/>\r\n   </g>\r\n   <g id=\"patch_4\">\r\n    <path d=\"M 244.365 224.64 \r\nL 244.365 7.2 \r\n\" style=\"fill:none;stroke:#000000;stroke-linecap:square;stroke-linejoin:miter;stroke-width:0.8;\"/>\r\n   </g>\r\n   <g id=\"patch_5\">\r\n    <path d=\"M 26.925 224.64 \r\nL 244.365 224.64 \r\n\" style=\"fill:none;stroke:#000000;stroke-linecap:square;stroke-linejoin:miter;stroke-width:0.8;\"/>\r\n   </g>\r\n   <g id=\"patch_6\">\r\n    <path d=\"M 26.925 7.2 \r\nL 244.365 7.2 \r\n\" style=\"fill:none;stroke:#000000;stroke-linecap:square;stroke-linejoin:miter;stroke-width:0.8;\"/>\r\n   </g>\r\n  </g>\r\n </g>\r\n <defs>\r\n  <clipPath id=\"p88ee526f25\">\r\n   <rect height=\"217.44\" width=\"217.44\" x=\"26.925\" y=\"7.2\"/>\r\n  </clipPath>\r\n </defs>\r\n</svg>\r\n",
      "image/png": "[encoded data removed]"
     },
     "metadata": {
      "needs_background": "light"
     }
    }
   ],
   "source": [
    "image_loaded = r'data/image-test.png'\n",
    "test_image = image.load_img(image_loaded, target_size = (img_size,img_size), color_mode=\"grayscale\")\n",
    "plt.imshow(test_image)\n",
    "test_image = image.img_to_array(test_image)\n",
    "test_image = np.expand_dims(test_image, axis = 0)\n",
    "\n",
    "\n"
   ]
  },
  {
   "cell_type": "code",
   "execution_count": 216,
   "metadata": {},
   "outputs": [
    {
     "output_type": "stream",
     "name": "stdout",
     "text": [
      "[[0. 0. 0. 0. 0. 0. 0. 0. 0. 0. 0. 0. 0. 0. 0. 0. 1. 0. 0. 0. 0. 0. 0. 0.\n  0. 0. 0.]]\nQ\n"
     ]
    }
   ],
   "source": [
    "resultat = model.predict_proba(test_image)\n",
    "lettre = Methods.get_result(resultat)\n",
    "# score_test = model.evaluate(resultat, verbose=0)\n",
    "\n",
    "print (resultat)\n",
    "# print(np.argmax(resultat, axis=1))\n",
    "print(lettre)\n",
    "\n",
    "# test_result = model.predict_proba(self, test_image)\n",
    "\n",
    "# make a prediction\n",
    "# ynew = model.predict(Xnew)\n",
    "# # show the inputs and predicted outputs\n",
    "# for i in range(len(test_image)):\n",
    "# \tprint(\"X=%s, Predicted=%s\" % (test_image[i], resultat[i]))\n",
    "\n",
    "# print(f\"La lettre correspondante est: {resultat}\")"
   ]
  },
  {
   "cell_type": "code",
   "execution_count": 217,
   "metadata": {},
   "outputs": [],
   "source": [
    "chars = []\n",
    "\n",
    "img = cv2.imread(DATA_ROOT +'imagedentrainement.jpeg')\n",
    "\n",
    "#Convert to gray scale et blur\n",
    "img_blur = cv2.GaussianBlur(img, (9, 9), 1)\n",
    "gray = cv2.cvtColor(img_blur, cv2.COLOR_BGR2GRAY)\n",
    "\n",
    "cv2.imwrite(DATA_ROOT +'imagedentrainement_gray.jpeg', gray)\n",
    "\n",
    "# On applique le filtre pour passer l'image en blanc sur fond noir\n",
    "_, threshold = cv2.threshold(gray, 0, 255, cv2.THRESH_OTSU + cv2.THRESH_BINARY_INV) \n",
    "cv2.imwrite(DATA_ROOT + \"threshold.jpeg\", threshold)\n",
    "\n",
    "vis = threshold.copy()\n",
    "\n",
    "contours = cv2.findContours(vis, cv2.RETR_EXTERNAL, cv2.CHAIN_APPROX_SIMPLE)\n",
    "contours = contours[0] if len(contours) == 2 else contours[1]\n",
    "\n",
    "roi_index = 0\n",
    "\n",
    "# Détection des ROI\n",
    "for contour in contours:\n",
    "    x,y,w,h = cv2.boundingRect(contour)\n",
    "\n",
    "    if w < 50 and h < 50:\n",
    "        continue\n",
    "\n",
    "\n",
    "    roi = vis[y:y+h, x:x+w]\n",
    "    cv2.imwrite(DATA_ROOT + '/extract/region_{}.jpeg'.format(roi_index), roi)\n",
    "\n",
    "\n",
    "    if w > h:\n",
    "        r_img = imutils.resize(roi, width=20)\n",
    "    else:\n",
    "        r_img = imutils.resize(roi, height=20)\n",
    "\n",
    "    cv2.imwrite(DATA_ROOT + '/extract/region_resize_{}.jpeg'.format(roi_index), r_img)\n",
    "\n",
    "\n",
    "    # Ajout du padding de 4\n",
    "    p_img= cv2.copyMakeBorder(r_img.copy(),4,4,4,4,cv2.BORDER_CONSTANT)\n",
    "    p_img = cv2.resize(p_img, (28, 28))\n",
    "\n",
    "    cv2.imwrite(DATA_ROOT + '/extract/region_padded_{}.jpeg'.format(roi_index), p_img)\n",
    "\n",
    "    p_img = p_img.astype(\"float32\") / 255.0\n",
    "    p_img = np.expand_dims(p_img, axis=-1)\n",
    "    chars.append((p_img, (x, y, w, h)))\n",
    "\n",
    "    roi_index += 1\n",
    "\n"
   ]
  },
  {
   "cell_type": "code",
   "execution_count": 218,
   "metadata": {},
   "outputs": [],
   "source": [
    "model = load_model(MODELES_PATH + modele_final)"
   ]
  },
  {
   "cell_type": "code",
   "execution_count": 219,
   "metadata": {},
   "outputs": [
    {
     "output_type": "stream",
     "name": "stdout",
     "text": [
      "[INFO] Q - 27.03%\n[INFO] Q - 40.07%\n[INFO] R - 91.48%\n[INFO] C - 15.41%\n[INFO] A - 96.98%\n[INFO] M - 98.98%\n[INFO] Q - 47.59%\n[INFO] T - 99.67%\n[INFO] F - 98.24%\n[INFO] N - 58.10%\n[INFO] A - 74.07%\n[INFO] D - 59.14%\n[INFO] A - 97.64%\n[INFO] J - 13.08%\n[INFO] T - 96.87%\n[INFO] A - 96.85%\n"
     ]
    }
   ],
   "source": [
    "boxes = [b[1] for b in chars]\n",
    "chars = np.array([c[0] for c in chars], dtype=\"float32\")\n",
    "\n",
    "\n",
    "# Application du modèle entraîné sur les RoI\n",
    "\n",
    "preds = model.predict(chars)\n",
    "\n",
    "labelNames = \"ABCDEFGHIJKLMNOPQRSTUVWXYZ♡\"\n",
    "labelNames = [l for l in labelNames]\n",
    "\n",
    "\n",
    "for (pred, (x, y, w, h)) in zip(preds, boxes):\n",
    "    i = np.argmax(pred)\n",
    "    prob = pred[i]\n",
    "    label = labelNames[i]\n",
    "    \n",
    "    # Création de l'image de prediction\n",
    "    print(\"[INFO] {} - {:.2f}%\".format(label, prob * 100))\n",
    "    cv2.rectangle(img, (x, y), (x + w, y + h), (255, 0, 0), 2)\n",
    "    cv2.putText(img, label, (x - 10, y - 10), cv2.FONT_HERSHEY_SIMPLEX, 1.2, (255, 0, 0), 2)"
   ]
  },
  {
   "cell_type": "code",
   "execution_count": 220,
   "metadata": {},
   "outputs": [
    {
     "output_type": "execute_result",
     "data": {
      "text/plain": [
       "<matplotlib.image.AxesImage at 0x1d603364e08>"
      ]
     },
     "metadata": {},
     "execution_count": 220
    },
    {
     "output_type": "display_data",
     "data": {
      "text/plain": "<Figure size 432x288 with 1 Axes>",
      "image/svg+xml": "<?xml version=\"1.0\" encoding=\"utf-8\" standalone=\"no\"?>\r\n<!DOCTYPE svg PUBLIC \"-//W3C//DTD SVG 1.1//EN\"\r\n  \"http://www.w3.org/Graphics/SVG/1.1/DTD/svg11.dtd\">\r\n<!-- Created with matplotlib (https://matplotlib.org/) -->\r\n<svg height=\"166.549019pt\" version=\"1.1\" viewBox=\"0 0 375.2875 166.549019\" width=\"375.2875pt\" xmlns=\"http://www.w3.org/2000/svg\" xmlns:xlink=\"http://www.w3.org/1999/xlink\">\r\n <metadata>\r\n  <rdf:RDF xmlns:cc=\"http://creativecommons.org/ns#\" xmlns:dc=\"http://purl.org/dc/elements/1.1/\" xmlns:rdf=\"http://www.w3.org/1999/02/22-rdf-syntax-ns#\">\r\n   <cc:Work>\r\n    <dc:type rdf:resource=\"http://purl.org/dc/dcmitype/StillImage\"/>\r\n    <dc:date>2020-11-20T16:18:48.662310</dc:date>\r\n    <dc:format>image/svg+xml</dc:format>\r\n    <dc:creator>\r\n     <cc:Agent>\r\n      <dc:title>Matplotlib v3.3.2, https://matplotlib.org/</dc:title>\r\n     </cc:Agent>\r\n    </dc:creator>\r\n   </cc:Work>\r\n  </rdf:RDF>\r\n </metadata>\r\n <defs>\r\n  <style type=\"text/css\">*{stroke-linecap:butt;stroke-linejoin:round;}</style>\r\n </defs>\r\n <g id=\"figure_1\">\r\n  <g id=\"patch_1\">\r\n   <path d=\"M 0 166.549019 \r\nL 375.2875 166.549019 \r\nL 375.2875 0 \r\nL 0 0 \r\nz\r\n\" style=\"fill:none;\"/>\r\n  </g>\r\n  <g id=\"axes_1\">\r\n   <g id=\"patch_2\">\r\n    <path d=\"M 33.2875 142.670894 \r\nL 368.0875 142.670894 \r\nL 368.0875 10.887916 \r\nL 33.2875 10.887916 \r\nz\r\n\" style=\"fill:#ffffff;\"/>\r\n   </g>\r\n   <g clip-path=\"url(#p59697551f8)\">\r\n    <image height=\"132\" id=\"image5499670fe1\" transform=\"scale(1 -1)translate(0 -132)\" width=\"335\" x=\"33.2875\" xlink:href=\"data:image/png;base64,\r\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\" y=\"-10.670894\"/>\r\n   </g>\r\n   <g id=\"matplotlib.axis_1\">\r\n    <g id=\"xtick_1\">\r\n     <g id=\"line2d_1\">\r\n      <defs>\r\n       <path d=\"M 0 0 \r\nL 0 3.5 \r\n\" id=\"m3c38b0bf05\" style=\"stroke:#000000;stroke-width:0.8;\"/>\r\n      </defs>\r\n      <g>\r\n       <use style=\"stroke:#000000;stroke-width:0.8;\" x=\"33.398803\" xlink:href=\"#m3c38b0bf05\" y=\"142.670894\"/>\r\n      </g>\r\n     </g>\r\n     <g id=\"text_1\">\r\n      <!-- 0 -->\r\n      <g transform=\"translate(30.217553 157.269332)scale(0.1 -0.1)\">\r\n       <defs>\r\n        <path d=\"M 31.78125 66.40625 \r\nQ 24.171875 66.40625 20.328125 58.90625 \r\nQ 16.5 51.421875 16.5 36.375 \r\nQ 16.5 21.390625 20.328125 13.890625 \r\nQ 24.171875 6.390625 31.78125 6.390625 \r\nQ 39.453125 6.390625 43.28125 13.890625 \r\nQ 47.125 21.390625 47.125 36.375 \r\nQ 47.125 51.421875 43.28125 58.90625 \r\nQ 39.453125 66.40625 31.78125 66.40625 \r\nz\r\nM 31.78125 74.21875 \r\nQ 44.046875 74.21875 50.515625 64.515625 \r\nQ 56.984375 54.828125 56.984375 36.375 \r\nQ 56.984375 17.96875 50.515625 8.265625 \r\nQ 44.046875 -1.421875 31.78125 -1.421875 \r\nQ 19.53125 -1.421875 13.0625 8.265625 \r\nQ 6.59375 17.96875 6.59375 36.375 \r\nQ 6.59375 54.828125 13.0625 64.515625 \r\nQ 19.53125 74.21875 31.78125 74.21875 \r\nz\r\n\" id=\"DejaVuSans-48\"/>\r\n       </defs>\r\n       <use xlink:href=\"#DejaVuSans-48\"/>\r\n      </g>\r\n     </g>\r\n    </g>\r\n    <g id=\"xtick_2\">\r\n     <g id=\"line2d_2\">\r\n      <g>\r\n       <use style=\"stroke:#000000;stroke-width:0.8;\" x=\"77.92008\" xlink:href=\"#m3c38b0bf05\" y=\"142.670894\"/>\r\n      </g>\r\n     </g>\r\n     <g id=\"text_2\">\r\n      <!-- 200 -->\r\n      <g transform=\"translate(68.37633 157.269332)scale(0.1 -0.1)\">\r\n       <defs>\r\n        <path d=\"M 19.1875 8.296875 \r\nL 53.609375 8.296875 \r\nL 53.609375 0 \r\nL 7.328125 0 \r\nL 7.328125 8.296875 \r\nQ 12.9375 14.109375 22.625 23.890625 \r\nQ 32.328125 33.6875 34.8125 36.53125 \r\nQ 39.546875 41.84375 41.421875 45.53125 \r\nQ 43.3125 49.21875 43.3125 52.78125 \r\nQ 43.3125 58.59375 39.234375 62.25 \r\nQ 35.15625 65.921875 28.609375 65.921875 \r\nQ 23.96875 65.921875 18.8125 64.3125 \r\nQ 13.671875 62.703125 7.8125 59.421875 \r\nL 7.8125 69.390625 \r\nQ 13.765625 71.78125 18.9375 73 \r\nQ 24.125 74.21875 28.421875 74.21875 \r\nQ 39.75 74.21875 46.484375 68.546875 \r\nQ 53.21875 62.890625 53.21875 53.421875 \r\nQ 53.21875 48.921875 51.53125 44.890625 \r\nQ 49.859375 40.875 45.40625 35.40625 \r\nQ 44.1875 33.984375 37.640625 27.21875 \r\nQ 31.109375 20.453125 19.1875 8.296875 \r\nz\r\n\" id=\"DejaVuSans-50\"/>\r\n       </defs>\r\n       <use xlink:href=\"#DejaVuSans-50\"/>\r\n       <use x=\"63.623047\" xlink:href=\"#DejaVuSans-48\"/>\r\n       <use x=\"127.246094\" xlink:href=\"#DejaVuSans-48\"/>\r\n      </g>\r\n     </g>\r\n    </g>\r\n    <g id=\"xtick_3\">\r\n     <g id=\"line2d_3\">\r\n      <g>\r\n       <use style=\"stroke:#000000;stroke-width:0.8;\" x=\"122.441356\" xlink:href=\"#m3c38b0bf05\" y=\"142.670894\"/>\r\n      </g>\r\n     </g>\r\n     <g id=\"text_3\">\r\n      <!-- 400 -->\r\n      <g transform=\"translate(112.897606 157.269332)scale(0.1 -0.1)\">\r\n       <defs>\r\n        <path d=\"M 37.796875 64.3125 \r\nL 12.890625 25.390625 \r\nL 37.796875 25.390625 \r\nz\r\nM 35.203125 72.90625 \r\nL 47.609375 72.90625 \r\nL 47.609375 25.390625 \r\nL 58.015625 25.390625 \r\nL 58.015625 17.1875 \r\nL 47.609375 17.1875 \r\nL 47.609375 0 \r\nL 37.796875 0 \r\nL 37.796875 17.1875 \r\nL 4.890625 17.1875 \r\nL 4.890625 26.703125 \r\nz\r\n\" id=\"DejaVuSans-52\"/>\r\n       </defs>\r\n       <use xlink:href=\"#DejaVuSans-52\"/>\r\n       <use x=\"63.623047\" xlink:href=\"#DejaVuSans-48\"/>\r\n       <use x=\"127.246094\" xlink:href=\"#DejaVuSans-48\"/>\r\n      </g>\r\n     </g>\r\n    </g>\r\n    <g id=\"xtick_4\">\r\n     <g id=\"line2d_4\">\r\n      <g>\r\n       <use style=\"stroke:#000000;stroke-width:0.8;\" x=\"166.962633\" xlink:href=\"#m3c38b0bf05\" y=\"142.670894\"/>\r\n      </g>\r\n     </g>\r\n     <g id=\"text_4\">\r\n      <!-- 600 -->\r\n      <g transform=\"translate(157.418883 157.269332)scale(0.1 -0.1)\">\r\n       <defs>\r\n        <path d=\"M 33.015625 40.375 \r\nQ 26.375 40.375 22.484375 35.828125 \r\nQ 18.609375 31.296875 18.609375 23.390625 \r\nQ 18.609375 15.53125 22.484375 10.953125 \r\nQ 26.375 6.390625 33.015625 6.390625 \r\nQ 39.65625 6.390625 43.53125 10.953125 \r\nQ 47.40625 15.53125 47.40625 23.390625 \r\nQ 47.40625 31.296875 43.53125 35.828125 \r\nQ 39.65625 40.375 33.015625 40.375 \r\nz\r\nM 52.59375 71.296875 \r\nL 52.59375 62.3125 \r\nQ 48.875 64.0625 45.09375 64.984375 \r\nQ 41.3125 65.921875 37.59375 65.921875 \r\nQ 27.828125 65.921875 22.671875 59.328125 \r\nQ 17.53125 52.734375 16.796875 39.40625 \r\nQ 19.671875 43.65625 24.015625 45.921875 \r\nQ 28.375 48.1875 33.59375 48.1875 \r\nQ 44.578125 48.1875 50.953125 41.515625 \r\nQ 57.328125 34.859375 57.328125 23.390625 \r\nQ 57.328125 12.15625 50.6875 5.359375 \r\nQ 44.046875 -1.421875 33.015625 -1.421875 \r\nQ 20.359375 -1.421875 13.671875 8.265625 \r\nQ 6.984375 17.96875 6.984375 36.375 \r\nQ 6.984375 53.65625 15.1875 63.9375 \r\nQ 23.390625 74.21875 37.203125 74.21875 \r\nQ 40.921875 74.21875 44.703125 73.484375 \r\nQ 48.484375 72.75 52.59375 71.296875 \r\nz\r\n\" id=\"DejaVuSans-54\"/>\r\n       </defs>\r\n       <use xlink:href=\"#DejaVuSans-54\"/>\r\n       <use x=\"63.623047\" xlink:href=\"#DejaVuSans-48\"/>\r\n       <use x=\"127.246094\" xlink:href=\"#DejaVuSans-48\"/>\r\n      </g>\r\n     </g>\r\n    </g>\r\n    <g id=\"xtick_5\">\r\n     <g id=\"line2d_5\">\r\n      <g>\r\n       <use style=\"stroke:#000000;stroke-width:0.8;\" x=\"211.48391\" xlink:href=\"#m3c38b0bf05\" y=\"142.670894\"/>\r\n      </g>\r\n     </g>\r\n     <g id=\"text_5\">\r\n      <!-- 800 -->\r\n      <g transform=\"translate(201.94016 157.269332)scale(0.1 -0.1)\">\r\n       <defs>\r\n        <path d=\"M 31.78125 34.625 \r\nQ 24.75 34.625 20.71875 30.859375 \r\nQ 16.703125 27.09375 16.703125 20.515625 \r\nQ 16.703125 13.921875 20.71875 10.15625 \r\nQ 24.75 6.390625 31.78125 6.390625 \r\nQ 38.8125 6.390625 42.859375 10.171875 \r\nQ 46.921875 13.96875 46.921875 20.515625 \r\nQ 46.921875 27.09375 42.890625 30.859375 \r\nQ 38.875 34.625 31.78125 34.625 \r\nz\r\nM 21.921875 38.8125 \r\nQ 15.578125 40.375 12.03125 44.71875 \r\nQ 8.5 49.078125 8.5 55.328125 \r\nQ 8.5 64.0625 14.71875 69.140625 \r\nQ 20.953125 74.21875 31.78125 74.21875 \r\nQ 42.671875 74.21875 48.875 69.140625 \r\nQ 55.078125 64.0625 55.078125 55.328125 \r\nQ 55.078125 49.078125 51.53125 44.71875 \r\nQ 48 40.375 41.703125 38.8125 \r\nQ 48.828125 37.15625 52.796875 32.3125 \r\nQ 56.78125 27.484375 56.78125 20.515625 \r\nQ 56.78125 9.90625 50.3125 4.234375 \r\nQ 43.84375 -1.421875 31.78125 -1.421875 \r\nQ 19.734375 -1.421875 13.25 4.234375 \r\nQ 6.78125 9.90625 6.78125 20.515625 \r\nQ 6.78125 27.484375 10.78125 32.3125 \r\nQ 14.796875 37.15625 21.921875 38.8125 \r\nz\r\nM 18.3125 54.390625 \r\nQ 18.3125 48.734375 21.84375 45.5625 \r\nQ 25.390625 42.390625 31.78125 42.390625 \r\nQ 38.140625 42.390625 41.71875 45.5625 \r\nQ 45.3125 48.734375 45.3125 54.390625 \r\nQ 45.3125 60.0625 41.71875 63.234375 \r\nQ 38.140625 66.40625 31.78125 66.40625 \r\nQ 25.390625 66.40625 21.84375 63.234375 \r\nQ 18.3125 60.0625 18.3125 54.390625 \r\nz\r\n\" id=\"DejaVuSans-56\"/>\r\n       </defs>\r\n       <use xlink:href=\"#DejaVuSans-56\"/>\r\n       <use x=\"63.623047\" xlink:href=\"#DejaVuSans-48\"/>\r\n       <use x=\"127.246094\" xlink:href=\"#DejaVuSans-48\"/>\r\n      </g>\r\n     </g>\r\n    </g>\r\n    <g id=\"xtick_6\">\r\n     <g id=\"line2d_6\">\r\n      <g>\r\n       <use style=\"stroke:#000000;stroke-width:0.8;\" x=\"256.005186\" xlink:href=\"#m3c38b0bf05\" y=\"142.670894\"/>\r\n      </g>\r\n     </g>\r\n     <g id=\"text_6\">\r\n      <!-- 1000 -->\r\n      <g transform=\"translate(243.280186 157.269332)scale(0.1 -0.1)\">\r\n       <defs>\r\n        <path d=\"M 12.40625 8.296875 \r\nL 28.515625 8.296875 \r\nL 28.515625 63.921875 \r\nL 10.984375 60.40625 \r\nL 10.984375 69.390625 \r\nL 28.421875 72.90625 \r\nL 38.28125 72.90625 \r\nL 38.28125 8.296875 \r\nL 54.390625 8.296875 \r\nL 54.390625 0 \r\nL 12.40625 0 \r\nz\r\n\" id=\"DejaVuSans-49\"/>\r\n       </defs>\r\n       <use xlink:href=\"#DejaVuSans-49\"/>\r\n       <use x=\"63.623047\" xlink:href=\"#DejaVuSans-48\"/>\r\n       <use x=\"127.246094\" xlink:href=\"#DejaVuSans-48\"/>\r\n       <use x=\"190.869141\" xlink:href=\"#DejaVuSans-48\"/>\r\n      </g>\r\n     </g>\r\n    </g>\r\n    <g id=\"xtick_7\">\r\n     <g id=\"line2d_7\">\r\n      <g>\r\n       <use style=\"stroke:#000000;stroke-width:0.8;\" x=\"300.526463\" xlink:href=\"#m3c38b0bf05\" y=\"142.670894\"/>\r\n      </g>\r\n     </g>\r\n     <g id=\"text_7\">\r\n      <!-- 1200 -->\r\n      <g transform=\"translate(287.801463 157.269332)scale(0.1 -0.1)\">\r\n       <use xlink:href=\"#DejaVuSans-49\"/>\r\n       <use x=\"63.623047\" xlink:href=\"#DejaVuSans-50\"/>\r\n       <use x=\"127.246094\" xlink:href=\"#DejaVuSans-48\"/>\r\n       <use x=\"190.869141\" xlink:href=\"#DejaVuSans-48\"/>\r\n      </g>\r\n     </g>\r\n    </g>\r\n    <g id=\"xtick_8\">\r\n     <g id=\"line2d_8\">\r\n      <g>\r\n       <use style=\"stroke:#000000;stroke-width:0.8;\" x=\"345.047739\" xlink:href=\"#m3c38b0bf05\" y=\"142.670894\"/>\r\n      </g>\r\n     </g>\r\n     <g id=\"text_8\">\r\n      <!-- 1400 -->\r\n      <g transform=\"translate(332.322739 157.269332)scale(0.1 -0.1)\">\r\n       <use xlink:href=\"#DejaVuSans-49\"/>\r\n       <use x=\"63.623047\" xlink:href=\"#DejaVuSans-52\"/>\r\n       <use x=\"127.246094\" xlink:href=\"#DejaVuSans-48\"/>\r\n       <use x=\"190.869141\" xlink:href=\"#DejaVuSans-48\"/>\r\n      </g>\r\n     </g>\r\n    </g>\r\n   </g>\r\n   <g id=\"matplotlib.axis_2\">\r\n    <g id=\"ytick_1\">\r\n     <g id=\"line2d_9\">\r\n      <defs>\r\n       <path d=\"M 0 0 \r\nL -3.5 0 \r\n\" id=\"m5baec83d68\" style=\"stroke:#000000;stroke-width:0.8;\"/>\r\n      </defs>\r\n      <g>\r\n       <use style=\"stroke:#000000;stroke-width:0.8;\" x=\"33.2875\" xlink:href=\"#m5baec83d68\" y=\"10.999219\"/>\r\n      </g>\r\n     </g>\r\n     <g id=\"text_9\">\r\n      <!-- 0 -->\r\n      <g transform=\"translate(19.925 14.798437)scale(0.1 -0.1)\">\r\n       <use xlink:href=\"#DejaVuSans-48\"/>\r\n      </g>\r\n     </g>\r\n    </g>\r\n    <g id=\"ytick_2\">\r\n     <g id=\"line2d_10\">\r\n      <g>\r\n       <use style=\"stroke:#000000;stroke-width:0.8;\" x=\"33.2875\" xlink:href=\"#m5baec83d68\" y=\"33.259857\"/>\r\n      </g>\r\n     </g>\r\n     <g id=\"text_10\">\r\n      <!-- 100 -->\r\n      <g transform=\"translate(7.2 37.059076)scale(0.1 -0.1)\">\r\n       <use xlink:href=\"#DejaVuSans-49\"/>\r\n       <use x=\"63.623047\" xlink:href=\"#DejaVuSans-48\"/>\r\n       <use x=\"127.246094\" xlink:href=\"#DejaVuSans-48\"/>\r\n      </g>\r\n     </g>\r\n    </g>\r\n    <g id=\"ytick_3\">\r\n     <g id=\"line2d_11\">\r\n      <g>\r\n       <use style=\"stroke:#000000;stroke-width:0.8;\" x=\"33.2875\" xlink:href=\"#m5baec83d68\" y=\"55.520495\"/>\r\n      </g>\r\n     </g>\r\n     <g id=\"text_11\">\r\n      <!-- 200 -->\r\n      <g transform=\"translate(7.2 59.319714)scale(0.1 -0.1)\">\r\n       <use xlink:href=\"#DejaVuSans-50\"/>\r\n       <use x=\"63.623047\" xlink:href=\"#DejaVuSans-48\"/>\r\n       <use x=\"127.246094\" xlink:href=\"#DejaVuSans-48\"/>\r\n      </g>\r\n     </g>\r\n    </g>\r\n    <g id=\"ytick_4\">\r\n     <g id=\"line2d_12\">\r\n      <g>\r\n       <use style=\"stroke:#000000;stroke-width:0.8;\" x=\"33.2875\" xlink:href=\"#m5baec83d68\" y=\"77.781134\"/>\r\n      </g>\r\n     </g>\r\n     <g id=\"text_12\">\r\n      <!-- 300 -->\r\n      <g transform=\"translate(7.2 81.580352)scale(0.1 -0.1)\">\r\n       <defs>\r\n        <path d=\"M 40.578125 39.3125 \r\nQ 47.65625 37.796875 51.625 33 \r\nQ 55.609375 28.21875 55.609375 21.1875 \r\nQ 55.609375 10.40625 48.1875 4.484375 \r\nQ 40.765625 -1.421875 27.09375 -1.421875 \r\nQ 22.515625 -1.421875 17.65625 -0.515625 \r\nQ 12.796875 0.390625 7.625 2.203125 \r\nL 7.625 11.71875 \r\nQ 11.71875 9.328125 16.59375 8.109375 \r\nQ 21.484375 6.890625 26.8125 6.890625 \r\nQ 36.078125 6.890625 40.9375 10.546875 \r\nQ 45.796875 14.203125 45.796875 21.1875 \r\nQ 45.796875 27.640625 41.28125 31.265625 \r\nQ 36.765625 34.90625 28.71875 34.90625 \r\nL 20.21875 34.90625 \r\nL 20.21875 43.015625 \r\nL 29.109375 43.015625 \r\nQ 36.375 43.015625 40.234375 45.921875 \r\nQ 44.09375 48.828125 44.09375 54.296875 \r\nQ 44.09375 59.90625 40.109375 62.90625 \r\nQ 36.140625 65.921875 28.71875 65.921875 \r\nQ 24.65625 65.921875 20.015625 65.03125 \r\nQ 15.375 64.15625 9.8125 62.3125 \r\nL 9.8125 71.09375 \r\nQ 15.4375 72.65625 20.34375 73.4375 \r\nQ 25.25 74.21875 29.59375 74.21875 \r\nQ 40.828125 74.21875 47.359375 69.109375 \r\nQ 53.90625 64.015625 53.90625 55.328125 \r\nQ 53.90625 49.265625 50.4375 45.09375 \r\nQ 46.96875 40.921875 40.578125 39.3125 \r\nz\r\n\" id=\"DejaVuSans-51\"/>\r\n       </defs>\r\n       <use xlink:href=\"#DejaVuSans-51\"/>\r\n       <use x=\"63.623047\" xlink:href=\"#DejaVuSans-48\"/>\r\n       <use x=\"127.246094\" xlink:href=\"#DejaVuSans-48\"/>\r\n      </g>\r\n     </g>\r\n    </g>\r\n    <g id=\"ytick_5\">\r\n     <g id=\"line2d_13\">\r\n      <g>\r\n       <use style=\"stroke:#000000;stroke-width:0.8;\" x=\"33.2875\" xlink:href=\"#m5baec83d68\" y=\"100.041772\"/>\r\n      </g>\r\n     </g>\r\n     <g id=\"text_13\">\r\n      <!-- 400 -->\r\n      <g transform=\"translate(7.2 103.840991)scale(0.1 -0.1)\">\r\n       <use xlink:href=\"#DejaVuSans-52\"/>\r\n       <use x=\"63.623047\" xlink:href=\"#DejaVuSans-48\"/>\r\n       <use x=\"127.246094\" xlink:href=\"#DejaVuSans-48\"/>\r\n      </g>\r\n     </g>\r\n    </g>\r\n    <g id=\"ytick_6\">\r\n     <g id=\"line2d_14\">\r\n      <g>\r\n       <use style=\"stroke:#000000;stroke-width:0.8;\" x=\"33.2875\" xlink:href=\"#m5baec83d68\" y=\"122.30241\"/>\r\n      </g>\r\n     </g>\r\n     <g id=\"text_14\">\r\n      <!-- 500 -->\r\n      <g transform=\"translate(7.2 126.101629)scale(0.1 -0.1)\">\r\n       <defs>\r\n        <path d=\"M 10.796875 72.90625 \r\nL 49.515625 72.90625 \r\nL 49.515625 64.59375 \r\nL 19.828125 64.59375 \r\nL 19.828125 46.734375 \r\nQ 21.96875 47.46875 24.109375 47.828125 \r\nQ 26.265625 48.1875 28.421875 48.1875 \r\nQ 40.625 48.1875 47.75 41.5 \r\nQ 54.890625 34.8125 54.890625 23.390625 \r\nQ 54.890625 11.625 47.5625 5.09375 \r\nQ 40.234375 -1.421875 26.90625 -1.421875 \r\nQ 22.3125 -1.421875 17.546875 -0.640625 \r\nQ 12.796875 0.140625 7.71875 1.703125 \r\nL 7.71875 11.625 \r\nQ 12.109375 9.234375 16.796875 8.0625 \r\nQ 21.484375 6.890625 26.703125 6.890625 \r\nQ 35.15625 6.890625 40.078125 11.328125 \r\nQ 45.015625 15.765625 45.015625 23.390625 \r\nQ 45.015625 31 40.078125 35.4375 \r\nQ 35.15625 39.890625 26.703125 39.890625 \r\nQ 22.75 39.890625 18.8125 39.015625 \r\nQ 14.890625 38.140625 10.796875 36.28125 \r\nz\r\n\" id=\"DejaVuSans-53\"/>\r\n       </defs>\r\n       <use xlink:href=\"#DejaVuSans-53\"/>\r\n       <use x=\"63.623047\" xlink:href=\"#DejaVuSans-48\"/>\r\n       <use x=\"127.246094\" xlink:href=\"#DejaVuSans-48\"/>\r\n      </g>\r\n     </g>\r\n    </g>\r\n   </g>\r\n   <g id=\"patch_3\">\r\n    <path d=\"M 33.2875 142.670894 \r\nL 33.2875 10.887916 \r\n\" style=\"fill:none;stroke:#000000;stroke-linecap:square;stroke-linejoin:miter;stroke-width:0.8;\"/>\r\n   </g>\r\n   <g id=\"patch_4\">\r\n    <path d=\"M 368.0875 142.670894 \r\nL 368.0875 10.887916 \r\n\" style=\"fill:none;stroke:#000000;stroke-linecap:square;stroke-linejoin:miter;stroke-width:0.8;\"/>\r\n   </g>\r\n   <g id=\"patch_5\">\r\n    <path d=\"M 33.2875 142.670894 \r\nL 368.0875 142.670894 \r\n\" style=\"fill:none;stroke:#000000;stroke-linecap:square;stroke-linejoin:miter;stroke-width:0.8;\"/>\r\n   </g>\r\n   <g id=\"patch_6\">\r\n    <path d=\"M 33.2875 10.887916 \r\nL 368.0875 10.887916 \r\n\" style=\"fill:none;stroke:#000000;stroke-linecap:square;stroke-linejoin:miter;stroke-width:0.8;\"/>\r\n   </g>\r\n  </g>\r\n </g>\r\n <defs>\r\n  <clipPath id=\"p59697551f8\">\r\n   <rect height=\"131.782979\" width=\"334.8\" x=\"33.2875\" y=\"10.887916\"/>\r\n  </clipPath>\r\n </defs>\r\n</svg>\r\n",
      "image/png": "[encoded data removed]"
     },
     "metadata": {
      "needs_background": "light"
     }
    }
   ],
   "source": [
    "plt.imshow(img)"
   ]
  },
  {
   "cell_type": "code",
   "execution_count": null,
   "metadata": {},
   "outputs": [],
   "source": []
  }
 ]
}