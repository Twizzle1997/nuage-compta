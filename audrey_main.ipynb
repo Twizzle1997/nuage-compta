{
 "metadata": {
  "language_info": {
   "codemirror_mode": {
    "name": "ipython",
    "version": 3
   },
   "file_extension": ".py",
   "mimetype": "text/x-python",
   "name": "python",
   "nbconvert_exporter": "python",
   "pygments_lexer": "ipython3",
   "version": "3.7.9-final"
  },
  "orig_nbformat": 2,
  "kernelspec": {
   "name": "python3",
   "display_name": "Python 3.7.9 64-bit ('data-science': conda)",
   "metadata": {
    "interpreter": {
     "hash": "938689c78f2950ec71a763f66c175df89184f49a9e4cbadaee7403be87f0a33d"
    }
   }
  }
 },
 "nbformat": 4,
 "nbformat_minor": 2,
 "cells": [
  {
   "source": [
    "# Création du brief Nuage Compta"
   ],
   "cell_type": "markdown",
   "metadata": {}
  },
  {
   "source": [
    "## 1- Gestion des imports"
   ],
   "cell_type": "markdown",
   "metadata": {}
  },
  {
   "cell_type": "code",
   "execution_count": 24,
   "metadata": {},
   "outputs": [
    {
     "output_type": "stream",
     "name": "stdout",
     "text": [
      "The autoreload extension is already loaded. To reload it, use:\n  %reload_ext autoreload\n"
     ]
    }
   ],
   "source": [
    "%load_ext autoreload\n",
    "%autoreload\n",
    "\n",
    "import pandas as pd\n",
    "import numpy as np\n",
    "import matplotlib.pyplot as plt\n",
    "import keras\n",
    "import cv2\n",
    "from keras.preprocessing.image import ImageDataGenerator\n",
    "from keras.preprocessing import image\n",
    "from keras.models import Sequential\n",
    "from keras.layers import Dense, Dropout, Flatten\n",
    "from keras.layers import Conv2D, MaxPooling2D\n",
    "from keras import backend as K\n",
    "from keras.callbacks import ModelCheckpoint, Callback\n",
    "\n",
    "import methods\n",
    "from methods import Methods\n",
    "# from methods import Methods\n",
    "# from methods.Methods import get_result\n",
    "# from methods.methods import negatif\n",
    "# import tensorflow"
   ]
  },
  {
   "source": [
    "## Paramètres de l'application"
   ],
   "cell_type": "markdown",
   "metadata": {}
  },
  {
   "cell_type": "code",
   "execution_count": 8,
   "metadata": {},
   "outputs": [],
   "source": [
    "# Filename of the model weights output\n",
    "modele_best = \"cnn_best.hdf5\"\n",
    "modele_final = \"cnn_final.hdf5\"\n",
    "\n",
    "DATA_ROOT = 'data/'\n",
    "MODELES_PATH = 'modeles/'\n",
    "TRAINING_PATH = 'training/'\n",
    "TESTING_PATH = 'testing/'\n",
    "ABC_PATH = 'data/alphbet-dataset/'\n",
    "\n",
    "batch_size = 5975\n",
    "num_classes = 26\n",
    "epochs = 15\n",
    "\n",
    "# input image dimensions\n",
    "# img_rows, img_cols = 28, 28\n",
    "img_size = 28\n",
    "input_shape = (img_size, img_size, 3)"
   ]
  },
  {
   "cell_type": "code",
   "execution_count": 3,
   "metadata": {},
   "outputs": [
    {
     "output_type": "stream",
     "name": "stdout",
     "text": [
      "Found 5200 images belonging to 26 classes.\nFound 775 images belonging to 26 classes.\n"
     ]
    }
   ],
   "source": [
    "train_datagen = ImageDataGenerator(rescale = 1./255,\n",
    "                                   shear_range = 0.2,\n",
    "                                   zoom_range = 0.2,\n",
    "                                   horizontal_flip = True)\n",
    "\n",
    "test_datagen = ImageDataGenerator(rescale = 1./255)\n",
    "\n",
    "train_generator = train_datagen.flow_from_directory(\n",
    "    directory = \"data/training\",\n",
    "    target_size = (img_size,img_size),\n",
    "    # batch_size = 200,\n",
    "    class_mode = \"categorical\"\n",
    "\n",
    ")\n",
    "\n",
    "test_generator = test_datagen.flow_from_directory(\n",
    "    directory = \"data/testing\",\n",
    "    target_size = (img_size,img_size),\n",
    "    # batch_size = 100,\n",
    "    class_mode = \"categorical\"\n",
    "\n",
    ")"
   ]
  },
  {
   "cell_type": "code",
   "execution_count": 10,
   "metadata": {},
   "outputs": [
    {
     "output_type": "stream",
     "name": "stdout",
     "text": [
      "Model: \"sequential_2\"\n_________________________________________________________________\nLayer (type)                 Output Shape              Param #   \n=================================================================\nconv2d_3 (Conv2D)            (None, 26, 26, 28)        784       \n_________________________________________________________________\nconv2d_4 (Conv2D)            (None, 24, 24, 28)        7084      \n_________________________________________________________________\nmax_pooling2d_2 (MaxPooling2 (None, 12, 12, 28)        0         \n_________________________________________________________________\ndropout_3 (Dropout)          (None, 12, 12, 28)        0         \n_________________________________________________________________\nflatten_2 (Flatten)          (None, 4032)              0         \n_________________________________________________________________\ndense_3 (Dense)              (None, 128)               516224    \n_________________________________________________________________\ndropout_4 (Dropout)          (None, 128)               0         \n_________________________________________________________________\ndense_4 (Dense)              (None, 26)                3354      \n=================================================================\nTotal params: 527,446\nTrainable params: 527,446\nNon-trainable params: 0\n_________________________________________________________________\n"
     ]
    }
   ],
   "source": [
    "model = Sequential()\n",
    "\n",
    "model.add(Conv2D(img_size, kernel_size=(3, 3),\n",
    "                 activation='relu',\n",
    "                 input_shape=input_shape\n",
    "                 ))\n",
    "\n",
    "model.add(Conv2D(img_size, (3, 3), activation='relu'))\n",
    "model.add(MaxPooling2D(pool_size=(2, 2)))\n",
    "model.add(Dropout(0.25))\n",
    "model.add(Flatten())\n",
    "model.add(Dense(128, activation='relu'))\n",
    "model.add(Dropout(0.5))\n",
    "model.add(Dense(num_classes, activation='softmax'))\n",
    "\n",
    "model.compile(loss=keras.losses.categorical_crossentropy,\n",
    "              optimizer=keras.optimizers.Adadelta(),\n",
    "              metrics=['accuracy'])\n",
    "\n",
    "model.summary()\n",
    "\n",
    "checkpointer = ModelCheckpoint(filepath= DATA_ROOT + MODELES_PATH + modele_best, verbose=1, save_best_only=False)"
   ]
  },
  {
   "cell_type": "code",
   "execution_count": 11,
   "metadata": {},
   "outputs": [
    {
     "output_type": "stream",
     "name": "stdout",
     "text": [
      "Epoch 1/15\n",
      "163/163 [==============================] - 17s 102ms/step - loss: 2.2030 - accuracy: 0.3448 - val_loss: 1.4372 - val_accuracy: 0.6632\n",
      "\n",
      "Epoch 00001: saving model to data/modeles/cnn_best.hdf5\n",
      "Epoch 2/15\n",
      "163/163 [==============================] - 16s 99ms/step - loss: 1.3211 - accuracy: 0.5808 - val_loss: 0.2569 - val_accuracy: 0.7652\n",
      "\n",
      "Epoch 00002: saving model to data/modeles/cnn_best.hdf5\n",
      "Epoch 3/15\n",
      "163/163 [==============================] - 16s 99ms/step - loss: 1.0508 - accuracy: 0.6658 - val_loss: 0.6346 - val_accuracy: 0.8335\n",
      "\n",
      "Epoch 00003: saving model to data/modeles/cnn_best.hdf5\n",
      "Epoch 4/15\n",
      "163/163 [==============================] - 16s 100ms/step - loss: 0.8971 - accuracy: 0.7113 - val_loss: 0.3879 - val_accuracy: 0.8361\n",
      "\n",
      "Epoch 00004: saving model to data/modeles/cnn_best.hdf5\n",
      "Epoch 5/15\n",
      "163/163 [==============================] - 16s 99ms/step - loss: 0.8186 - accuracy: 0.7413 - val_loss: 0.0709 - val_accuracy: 0.8671\n",
      "\n",
      "Epoch 00005: saving model to data/modeles/cnn_best.hdf5\n",
      "Epoch 6/15\n",
      "163/163 [==============================] - 16s 98ms/step - loss: 0.7269 - accuracy: 0.7679 - val_loss: 0.0787 - val_accuracy: 0.8929\n",
      "\n",
      "Epoch 00006: saving model to data/modeles/cnn_best.hdf5\n",
      "Epoch 7/15\n",
      "163/163 [==============================] - 16s 101ms/step - loss: 0.6840 - accuracy: 0.7838 - val_loss: 0.8775 - val_accuracy: 0.8787\n",
      "\n",
      "Epoch 00007: saving model to data/modeles/cnn_best.hdf5\n",
      "Epoch 8/15\n",
      "163/163 [==============================] - 16s 99ms/step - loss: 0.6093 - accuracy: 0.8056 - val_loss: 0.2339 - val_accuracy: 0.9019\n",
      "\n",
      "Epoch 00008: saving model to data/modeles/cnn_best.hdf5\n",
      "Epoch 9/15\n",
      "163/163 [==============================] - 16s 99ms/step - loss: 0.5703 - accuracy: 0.8206 - val_loss: 0.0601 - val_accuracy: 0.9097\n",
      "\n",
      "Epoch 00009: saving model to data/modeles/cnn_best.hdf5\n",
      "Epoch 10/15\n",
      "163/163 [==============================] - 16s 100ms/step - loss: 0.5571 - accuracy: 0.8283 - val_loss: 0.2114 - val_accuracy: 0.9161\n",
      "\n",
      "Epoch 00010: saving model to data/modeles/cnn_best.hdf5\n",
      "Epoch 11/15\n",
      "163/163 [==============================] - 17s 104ms/step - loss: 0.5155 - accuracy: 0.8415 - val_loss: 0.0290 - val_accuracy: 0.9174\n",
      "\n",
      "Epoch 00011: saving model to data/modeles/cnn_best.hdf5\n",
      "Epoch 12/15\n",
      "163/163 [==============================] - 18s 111ms/step - loss: 0.4907 - accuracy: 0.8444 - val_loss: 0.2295 - val_accuracy: 0.9187\n",
      "\n",
      "Epoch 00012: saving model to data/modeles/cnn_best.hdf5\n",
      "Epoch 13/15\n",
      "163/163 [==============================] - 16s 96ms/step - loss: 0.4748 - accuracy: 0.8521 - val_loss: 0.1834 - val_accuracy: 0.9213\n",
      "\n",
      "Epoch 00013: saving model to data/modeles/cnn_best.hdf5\n",
      "Epoch 14/15\n",
      "163/163 [==============================] - 16s 98ms/step - loss: 0.4510 - accuracy: 0.8615 - val_loss: 0.0420 - val_accuracy: 0.9213\n",
      "\n",
      "Epoch 00014: saving model to data/modeles/cnn_best.hdf5\n",
      "Epoch 15/15\n",
      "163/163 [==============================] - 15s 94ms/step - loss: 0.4423 - accuracy: 0.8640 - val_loss: 0.6758 - val_accuracy: 0.9290\n",
      "\n",
      "Epoch 00015: saving model to data/modeles/cnn_best.hdf5\n",
      "Test loss: 0.23596975207328796\n",
      "Test accuracy: 0.948269248008728\n",
      "Saving model...\n",
      "All done !\n"
     ]
    }
   ],
   "source": [
    "model.fit(train_generator,\n",
    "        #   batch_size=batch_size,\n",
    "          epochs=epochs,\n",
    "          verbose=1,\n",
    "          validation_data=(test_generator), \n",
    "          callbacks=[checkpointer]\n",
    "          )\n",
    "\n",
    "score = model.evaluate(train_generator, verbose=0)\n",
    "print('Test loss:', score[0])\n",
    "print('Test accuracy:', score[1])\n",
    "print(\"Saving model...\")\n",
    "model.save_weights(DATA_ROOT + MODELES_PATH + modele_final)\n",
    "print(\"All done !\")"
   ]
  },
  {
   "cell_type": "code",
   "execution_count": 12,
   "metadata": {},
   "outputs": [
    {
     "output_type": "display_data",
     "data": {
      "text/plain": "<Figure size 432x288 with 1 Axes>",
      "image/svg+xml": "<?xml version=\"1.0\" encoding=\"utf-8\" standalone=\"no\"?>\r\n<!DOCTYPE svg PUBLIC \"-//W3C//DTD SVG 1.1//EN\"\r\n  \"http://www.w3.org/Graphics/SVG/1.1/DTD/svg11.dtd\">\r\n<!-- Created with matplotlib (https://matplotlib.org/) -->\r\n<svg height=\"248.518125pt\" version=\"1.1\" viewBox=\"0 0 251.565 248.518125\" width=\"251.565pt\" xmlns=\"http://www.w3.org/2000/svg\" xmlns:xlink=\"http://www.w3.org/1999/xlink\">\r\n <metadata>\r\n  <rdf:RDF xmlns:cc=\"http://creativecommons.org/ns#\" xmlns:dc=\"http://purl.org/dc/elements/1.1/\" xmlns:rdf=\"http://www.w3.org/1999/02/22-rdf-syntax-ns#\">\r\n   <cc:Work>\r\n    <dc:type rdf:resource=\"http://purl.org/dc/dcmitype/StillImage\"/>\r\n    <dc:date>2020-11-17T12:25:53.344706</dc:date>\r\n    <dc:format>image/svg+xml</dc:format>\r\n    <dc:creator>\r\n     <cc:Agent>\r\n      <dc:title>Matplotlib v3.3.2, https://matplotlib.org/</dc:title>\r\n     </cc:Agent>\r\n    </dc:creator>\r\n   </cc:Work>\r\n  </rdf:RDF>\r\n </metadata>\r\n <defs>\r\n  <style type=\"text/css\">*{stroke-linecap:butt;stroke-linejoin:round;}</style>\r\n </defs>\r\n <g id=\"figure_1\">\r\n  <g id=\"patch_1\">\r\n   <path d=\"M 0 248.518125 \r\nL 251.565 248.518125 \r\nL 251.565 0 \r\nL 0 0 \r\nz\r\n\" style=\"fill:none;\"/>\r\n  </g>\r\n  <g id=\"axes_1\">\r\n   <g id=\"patch_2\">\r\n    <path d=\"M 26.925 224.64 \r\nL 244.365 224.64 \r\nL 244.365 7.2 \r\nL 26.925 7.2 \r\nz\r\n\" style=\"fill:#ffffff;\"/>\r\n   </g>\r\n   <g clip-path=\"url(#p50cd15858c)\">\r\n    <image height=\"218\" id=\"imagee695b5e2e8\" transform=\"scale(1 -1)translate(0 -218)\" width=\"218\" x=\"26.925\" xlink:href=\"data:image/png;base64,\r\niVBORw0KGgoAAAANSUhEUgAAANoAAADaCAYAAADAHVzbAAAEBklEQVR4nO3dQU7bWhiAUQeIVCQkBii7YP8bYQFsACFGIAiEjt7ogaMS/Bnic6ZXkFu3X6/kX45XwzC8D8CkTubeACyB0CAgNAgIDQJCg4DQICA0CAgNAkKDgNAgIDQICA0CQoOA0CAgNAiczb0B/m+3242ur1ar0fX7+/vR9aurq3/e03fZbDafrt3e3o7+7MXFxXdvJ+NEg4DQICA0CAgNAkKDgNAgsBp83dyHrq+vR9dvbm6infws+0YL+7y/T/fP7dC9TcmJBgGhQUBoEBAaBIQGAaFBQGgQWOwcbcp5zj5zz3teXl4+XVuv1+FO/s3c1+0QTjQICA0CQoOA0CAgNAgIDQJCg8CvnqMt9dmmKf3582d0/enpabLPPuZr7kSDgNAgIDQICA0CQoOA0CAgNAj86Nc2mZNN4/Hx8dO18/PzST97qdfdiQYBoUFAaBAQGgSEBgGhQUBoEJh1jvb8/DzZ717qvGYY5v3OSj7mRIOA0CAgNAgIDQJCg4DQIDDr180deht6qbfwf/Pt+6X+nTnRICA0CAgNAkKDgNAgIDQICA0Ckz4mc3JyWMdLnbnMOSfbd81/8wxvTk40CAgNAkKDgNAgIDQICA0CQoPApHO0t7e3KX/9j7bb7T5dm3s+OPfnL5ETDQJCg4DQICA0CAgNAkKDgNAgMOtrm47ZnLMqc7Kfx4kGAaFBQGgQEBoEhAYBoUHA7f2JLPUW+1L/3Ps40SAgNAgIDQJCg4DQICA0CAgNApPO0bbb7ej6er2e8uP5Aq9lmoYTDQJCg4DQICA0CAgNAkKDgNAgsBqGYbbByb6Zzd3d3ej6ZrP5zu0wHD5H8zzax5xoEBAaBIQGAaFBQGgQEBoEhAaBHz1H28fM5msOue6u+dc40SAgNAgIDQJCg4DQICA0CAgNArO+H23fTGbfvGds/fX1dfRnfackJScaBIQGAaFBQGgQEBoEhAaBWR+TOdSUrxg65sdBDrluJyfj/zd77dPHnGgQEBoEhAYBoUFAaBAQGgSEBoFfPUcbc3Y2/gTQdruNdnJcjnm+OCUnGgSEBgGhQUBoEBAaBIQGAaFB4GjnaId6eHgYXb+8vGw28gWnp6ej67vdLtoJ/3GiQUBoEBAaBIQGAaFBQGgQEBoEzNEg4ESDgNAgIDQICA0CQoOA0CAgNAgIDQJCg4DQICA0CAgNAkKDgNAgIDQICA0CQoOA0CAgNAgIDQJCg4DQICA0CAgNAkKDgNAgIDQICA0CQoOA0CAgNAgIDQJCg4DQICA0CAgNAkKDgNAgIDQICA0CQoOA0CAgNAgIDQJCg4DQICA0CAgNAkKDgNAgIDQICA0CQoOA0CAgNAgIDQJCg4DQICA0CAgNAkKDwF+xSHWi4JINtgAAAABJRU5ErkJggg==\" y=\"-6.64\"/>\r\n   </g>\r\n   <g id=\"matplotlib.axis_1\">\r\n    <g id=\"xtick_1\">\r\n     <g id=\"line2d_1\">\r\n      <defs>\r\n       <path d=\"M 0 0 \r\nL 0 3.5 \r\n\" id=\"m97e34447ef\" style=\"stroke:#000000;stroke-width:0.8;\"/>\r\n      </defs>\r\n      <g>\r\n       <use style=\"stroke:#000000;stroke-width:0.8;\" x=\"30.807857\" xlink:href=\"#m97e34447ef\" y=\"224.64\"/>\r\n      </g>\r\n     </g>\r\n     <g id=\"text_1\">\r\n      <!-- 0 -->\r\n      <g transform=\"translate(27.626607 239.238437)scale(0.1 -0.1)\">\r\n       <defs>\r\n        <path d=\"M 31.78125 66.40625 \r\nQ 24.171875 66.40625 20.328125 58.90625 \r\nQ 16.5 51.421875 16.5 36.375 \r\nQ 16.5 21.390625 20.328125 13.890625 \r\nQ 24.171875 6.390625 31.78125 6.390625 \r\nQ 39.453125 6.390625 43.28125 13.890625 \r\nQ 47.125 21.390625 47.125 36.375 \r\nQ 47.125 51.421875 43.28125 58.90625 \r\nQ 39.453125 66.40625 31.78125 66.40625 \r\nz\r\nM 31.78125 74.21875 \r\nQ 44.046875 74.21875 50.515625 64.515625 \r\nQ 56.984375 54.828125 56.984375 36.375 \r\nQ 56.984375 17.96875 50.515625 8.265625 \r\nQ 44.046875 -1.421875 31.78125 -1.421875 \r\nQ 19.53125 -1.421875 13.0625 8.265625 \r\nQ 6.59375 17.96875 6.59375 36.375 \r\nQ 6.59375 54.828125 13.0625 64.515625 \r\nQ 19.53125 74.21875 31.78125 74.21875 \r\nz\r\n\" id=\"DejaVuSans-48\"/>\r\n       </defs>\r\n       <use xlink:href=\"#DejaVuSans-48\"/>\r\n      </g>\r\n     </g>\r\n    </g>\r\n    <g id=\"xtick_2\">\r\n     <g id=\"line2d_2\">\r\n      <g>\r\n       <use style=\"stroke:#000000;stroke-width:0.8;\" x=\"69.636429\" xlink:href=\"#m97e34447ef\" y=\"224.64\"/>\r\n      </g>\r\n     </g>\r\n     <g id=\"text_2\">\r\n      <!-- 5 -->\r\n      <g transform=\"translate(66.455179 239.238437)scale(0.1 -0.1)\">\r\n       <defs>\r\n        <path d=\"M 10.796875 72.90625 \r\nL 49.515625 72.90625 \r\nL 49.515625 64.59375 \r\nL 19.828125 64.59375 \r\nL 19.828125 46.734375 \r\nQ 21.96875 47.46875 24.109375 47.828125 \r\nQ 26.265625 48.1875 28.421875 48.1875 \r\nQ 40.625 48.1875 47.75 41.5 \r\nQ 54.890625 34.8125 54.890625 23.390625 \r\nQ 54.890625 11.625 47.5625 5.09375 \r\nQ 40.234375 -1.421875 26.90625 -1.421875 \r\nQ 22.3125 -1.421875 17.546875 -0.640625 \r\nQ 12.796875 0.140625 7.71875 1.703125 \r\nL 7.71875 11.625 \r\nQ 12.109375 9.234375 16.796875 8.0625 \r\nQ 21.484375 6.890625 26.703125 6.890625 \r\nQ 35.15625 6.890625 40.078125 11.328125 \r\nQ 45.015625 15.765625 45.015625 23.390625 \r\nQ 45.015625 31 40.078125 35.4375 \r\nQ 35.15625 39.890625 26.703125 39.890625 \r\nQ 22.75 39.890625 18.8125 39.015625 \r\nQ 14.890625 38.140625 10.796875 36.28125 \r\nz\r\n\" id=\"DejaVuSans-53\"/>\r\n       </defs>\r\n       <use xlink:href=\"#DejaVuSans-53\"/>\r\n      </g>\r\n     </g>\r\n    </g>\r\n    <g id=\"xtick_3\">\r\n     <g id=\"line2d_3\">\r\n      <g>\r\n       <use style=\"stroke:#000000;stroke-width:0.8;\" x=\"108.465\" xlink:href=\"#m97e34447ef\" y=\"224.64\"/>\r\n      </g>\r\n     </g>\r\n     <g id=\"text_3\">\r\n      <!-- 10 -->\r\n      <g transform=\"translate(102.1025 239.238437)scale(0.1 -0.1)\">\r\n       <defs>\r\n        <path d=\"M 12.40625 8.296875 \r\nL 28.515625 8.296875 \r\nL 28.515625 63.921875 \r\nL 10.984375 60.40625 \r\nL 10.984375 69.390625 \r\nL 28.421875 72.90625 \r\nL 38.28125 72.90625 \r\nL 38.28125 8.296875 \r\nL 54.390625 8.296875 \r\nL 54.390625 0 \r\nL 12.40625 0 \r\nz\r\n\" id=\"DejaVuSans-49\"/>\r\n       </defs>\r\n       <use xlink:href=\"#DejaVuSans-49\"/>\r\n       <use x=\"63.623047\" xlink:href=\"#DejaVuSans-48\"/>\r\n      </g>\r\n     </g>\r\n    </g>\r\n    <g id=\"xtick_4\">\r\n     <g id=\"line2d_4\">\r\n      <g>\r\n       <use style=\"stroke:#000000;stroke-width:0.8;\" x=\"147.293571\" xlink:href=\"#m97e34447ef\" y=\"224.64\"/>\r\n      </g>\r\n     </g>\r\n     <g id=\"text_4\">\r\n      <!-- 15 -->\r\n      <g transform=\"translate(140.931071 239.238437)scale(0.1 -0.1)\">\r\n       <use xlink:href=\"#DejaVuSans-49\"/>\r\n       <use x=\"63.623047\" xlink:href=\"#DejaVuSans-53\"/>\r\n      </g>\r\n     </g>\r\n    </g>\r\n    <g id=\"xtick_5\">\r\n     <g id=\"line2d_5\">\r\n      <g>\r\n       <use style=\"stroke:#000000;stroke-width:0.8;\" x=\"186.122143\" xlink:href=\"#m97e34447ef\" y=\"224.64\"/>\r\n      </g>\r\n     </g>\r\n     <g id=\"text_5\">\r\n      <!-- 20 -->\r\n      <g transform=\"translate(179.759643 239.238437)scale(0.1 -0.1)\">\r\n       <defs>\r\n        <path d=\"M 19.1875 8.296875 \r\nL 53.609375 8.296875 \r\nL 53.609375 0 \r\nL 7.328125 0 \r\nL 7.328125 8.296875 \r\nQ 12.9375 14.109375 22.625 23.890625 \r\nQ 32.328125 33.6875 34.8125 36.53125 \r\nQ 39.546875 41.84375 41.421875 45.53125 \r\nQ 43.3125 49.21875 43.3125 52.78125 \r\nQ 43.3125 58.59375 39.234375 62.25 \r\nQ 35.15625 65.921875 28.609375 65.921875 \r\nQ 23.96875 65.921875 18.8125 64.3125 \r\nQ 13.671875 62.703125 7.8125 59.421875 \r\nL 7.8125 69.390625 \r\nQ 13.765625 71.78125 18.9375 73 \r\nQ 24.125 74.21875 28.421875 74.21875 \r\nQ 39.75 74.21875 46.484375 68.546875 \r\nQ 53.21875 62.890625 53.21875 53.421875 \r\nQ 53.21875 48.921875 51.53125 44.890625 \r\nQ 49.859375 40.875 45.40625 35.40625 \r\nQ 44.1875 33.984375 37.640625 27.21875 \r\nQ 31.109375 20.453125 19.1875 8.296875 \r\nz\r\n\" id=\"DejaVuSans-50\"/>\r\n       </defs>\r\n       <use xlink:href=\"#DejaVuSans-50\"/>\r\n       <use x=\"63.623047\" xlink:href=\"#DejaVuSans-48\"/>\r\n      </g>\r\n     </g>\r\n    </g>\r\n    <g id=\"xtick_6\">\r\n     <g id=\"line2d_6\">\r\n      <g>\r\n       <use style=\"stroke:#000000;stroke-width:0.8;\" x=\"224.950714\" xlink:href=\"#m97e34447ef\" y=\"224.64\"/>\r\n      </g>\r\n     </g>\r\n     <g id=\"text_6\">\r\n      <!-- 25 -->\r\n      <g transform=\"translate(218.588214 239.238437)scale(0.1 -0.1)\">\r\n       <use xlink:href=\"#DejaVuSans-50\"/>\r\n       <use x=\"63.623047\" xlink:href=\"#DejaVuSans-53\"/>\r\n      </g>\r\n     </g>\r\n    </g>\r\n   </g>\r\n   <g id=\"matplotlib.axis_2\">\r\n    <g id=\"ytick_1\">\r\n     <g id=\"line2d_7\">\r\n      <defs>\r\n       <path d=\"M 0 0 \r\nL -3.5 0 \r\n\" id=\"medbec7baf3\" style=\"stroke:#000000;stroke-width:0.8;\"/>\r\n      </defs>\r\n      <g>\r\n       <use style=\"stroke:#000000;stroke-width:0.8;\" x=\"26.925\" xlink:href=\"#medbec7baf3\" y=\"11.082857\"/>\r\n      </g>\r\n     </g>\r\n     <g id=\"text_7\">\r\n      <!-- 0 -->\r\n      <g transform=\"translate(13.5625 14.882076)scale(0.1 -0.1)\">\r\n       <use xlink:href=\"#DejaVuSans-48\"/>\r\n      </g>\r\n     </g>\r\n    </g>\r\n    <g id=\"ytick_2\">\r\n     <g id=\"line2d_8\">\r\n      <g>\r\n       <use style=\"stroke:#000000;stroke-width:0.8;\" x=\"26.925\" xlink:href=\"#medbec7baf3\" y=\"49.911429\"/>\r\n      </g>\r\n     </g>\r\n     <g id=\"text_8\">\r\n      <!-- 5 -->\r\n      <g transform=\"translate(13.5625 53.710647)scale(0.1 -0.1)\">\r\n       <use xlink:href=\"#DejaVuSans-53\"/>\r\n      </g>\r\n     </g>\r\n    </g>\r\n    <g id=\"ytick_3\">\r\n     <g id=\"line2d_9\">\r\n      <g>\r\n       <use style=\"stroke:#000000;stroke-width:0.8;\" x=\"26.925\" xlink:href=\"#medbec7baf3\" y=\"88.74\"/>\r\n      </g>\r\n     </g>\r\n     <g id=\"text_9\">\r\n      <!-- 10 -->\r\n      <g transform=\"translate(7.2 92.539219)scale(0.1 -0.1)\">\r\n       <use xlink:href=\"#DejaVuSans-49\"/>\r\n       <use x=\"63.623047\" xlink:href=\"#DejaVuSans-48\"/>\r\n      </g>\r\n     </g>\r\n    </g>\r\n    <g id=\"ytick_4\">\r\n     <g id=\"line2d_10\">\r\n      <g>\r\n       <use style=\"stroke:#000000;stroke-width:0.8;\" x=\"26.925\" xlink:href=\"#medbec7baf3\" y=\"127.568571\"/>\r\n      </g>\r\n     </g>\r\n     <g id=\"text_10\">\r\n      <!-- 15 -->\r\n      <g transform=\"translate(7.2 131.36779)scale(0.1 -0.1)\">\r\n       <use xlink:href=\"#DejaVuSans-49\"/>\r\n       <use x=\"63.623047\" xlink:href=\"#DejaVuSans-53\"/>\r\n      </g>\r\n     </g>\r\n    </g>\r\n    <g id=\"ytick_5\">\r\n     <g id=\"line2d_11\">\r\n      <g>\r\n       <use style=\"stroke:#000000;stroke-width:0.8;\" x=\"26.925\" xlink:href=\"#medbec7baf3\" y=\"166.397143\"/>\r\n      </g>\r\n     </g>\r\n     <g id=\"text_11\">\r\n      <!-- 20 -->\r\n      <g transform=\"translate(7.2 170.196362)scale(0.1 -0.1)\">\r\n       <use xlink:href=\"#DejaVuSans-50\"/>\r\n       <use x=\"63.623047\" xlink:href=\"#DejaVuSans-48\"/>\r\n      </g>\r\n     </g>\r\n    </g>\r\n    <g id=\"ytick_6\">\r\n     <g id=\"line2d_12\">\r\n      <g>\r\n       <use style=\"stroke:#000000;stroke-width:0.8;\" x=\"26.925\" xlink:href=\"#medbec7baf3\" y=\"205.225714\"/>\r\n      </g>\r\n     </g>\r\n     <g id=\"text_12\">\r\n      <!-- 25 -->\r\n      <g transform=\"translate(7.2 209.024933)scale(0.1 -0.1)\">\r\n       <use xlink:href=\"#DejaVuSans-50\"/>\r\n       <use x=\"63.623047\" xlink:href=\"#DejaVuSans-53\"/>\r\n      </g>\r\n     </g>\r\n    </g>\r\n   </g>\r\n   <g id=\"patch_3\">\r\n    <path d=\"M 26.925 224.64 \r\nL 26.925 7.2 \r\n\" style=\"fill:none;stroke:#000000;stroke-linecap:square;stroke-linejoin:miter;stroke-width:0.8;\"/>\r\n   </g>\r\n   <g id=\"patch_4\">\r\n    <path d=\"M 244.365 224.64 \r\nL 244.365 7.2 \r\n\" style=\"fill:none;stroke:#000000;stroke-linecap:square;stroke-linejoin:miter;stroke-width:0.8;\"/>\r\n   </g>\r\n   <g id=\"patch_5\">\r\n    <path d=\"M 26.925 224.64 \r\nL 244.365 224.64 \r\n\" style=\"fill:none;stroke:#000000;stroke-linecap:square;stroke-linejoin:miter;stroke-width:0.8;\"/>\r\n   </g>\r\n   <g id=\"patch_6\">\r\n    <path d=\"M 26.925 7.2 \r\nL 244.365 7.2 \r\n\" style=\"fill:none;stroke:#000000;stroke-linecap:square;stroke-linejoin:miter;stroke-width:0.8;\"/>\r\n   </g>\r\n  </g>\r\n </g>\r\n <defs>\r\n  <clipPath id=\"p50cd15858c\">\r\n   <rect height=\"217.44\" width=\"217.44\" x=\"26.925\" y=\"7.2\"/>\r\n  </clipPath>\r\n </defs>\r\n</svg>\r\n",
      "image/png": "[encoded data removed]"
     },
     "metadata": {
      "needs_background": "light"
     }
    }
   ],
   "source": [
    "image_loaded = r'data/image-test.png'\n",
    "test_image = image.load_img(image_loaded, target_size = (img_size,img_size))\n",
    "plt.imshow(test_image)\n",
    "test_image = image.img_to_array(test_image)\n",
    "test_image = np.expand_dims(test_image, axis = 0)\n"
   ]
  },
  {
   "cell_type": "code",
   "execution_count": 34,
   "metadata": {},
   "outputs": [
    {
     "output_type": "stream",
     "name": "stdout",
     "text": [
      "[[0. 0. 0. 0. 0. 0. 1. 0. 0. 0. 0. 0. 0. 0. 0. 0. 0. 0. 0. 0. 0. 0. 0. 0.\n  0. 0.]]\nG\n"
     ]
    }
   ],
   "source": [
    "resultat = model.predict_proba(test_image)\n",
    "lettre = Methods.get_result(resultat)\n",
    "# score_test = model.evaluate(resultat, verbose=0)\n",
    "\n",
    "print (resultat)\n",
    "# print(np.argmax(resultat, axis=1))\n",
    "print(lettre)\n",
    "\n",
    "# test_result = model.predict_proba(self, test_image)\n",
    "\n",
    "# make a prediction\n",
    "# ynew = model.predict(Xnew)\n",
    "# # show the inputs and predicted outputs\n",
    "# for i in range(len(test_image)):\n",
    "# \tprint(\"X=%s, Predicted=%s\" % (test_image[i], resultat[i]))\n",
    "\n",
    "# print(f\"La lettre correspondante est: {resultat}\")"
   ]
  },
  {
   "cell_type": "code",
   "execution_count": 41,
   "metadata": {},
   "outputs": [
    {
     "output_type": "execute_result",
     "data": {
      "text/plain": [
       "<matplotlib.image.AxesImage at 0x1c4bab4cc48>"
      ]
     },
     "metadata": {},
     "execution_count": 41
    },
    {
     "output_type": "display_data",
     "data": {
      "text/plain": "<Figure size 432x288 with 1 Axes>",
      "image/svg+xml": "<?xml version=\"1.0\" encoding=\"utf-8\" standalone=\"no\"?>\r\n<!DOCTYPE svg PUBLIC \"-//W3C//DTD SVG 1.1//EN\"\r\n  \"http://www.w3.org/Graphics/SVG/1.1/DTD/svg11.dtd\">\r\n<!-- Created with matplotlib (https://matplotlib.org/) -->\r\n<svg height=\"166.549019pt\" version=\"1.1\" viewBox=\"0 0 375.2875 166.549019\" width=\"375.2875pt\" xmlns=\"http://www.w3.org/2000/svg\" xmlns:xlink=\"http://www.w3.org/1999/xlink\">\r\n <metadata>\r\n  <rdf:RDF xmlns:cc=\"http://creativecommons.org/ns#\" xmlns:dc=\"http://purl.org/dc/elements/1.1/\" xmlns:rdf=\"http://www.w3.org/1999/02/22-rdf-syntax-ns#\">\r\n   <cc:Work>\r\n    <dc:type rdf:resource=\"http://purl.org/dc/dcmitype/StillImage\"/>\r\n    <dc:date>2020-11-17T12:30:30.909526</dc:date>\r\n    <dc:format>image/svg+xml</dc:format>\r\n    <dc:creator>\r\n     <cc:Agent>\r\n      <dc:title>Matplotlib v3.3.2, https://matplotlib.org/</dc:title>\r\n     </cc:Agent>\r\n    </dc:creator>\r\n   </cc:Work>\r\n  </rdf:RDF>\r\n </metadata>\r\n <defs>\r\n  <style type=\"text/css\">*{stroke-linecap:butt;stroke-linejoin:round;}</style>\r\n </defs>\r\n <g id=\"figure_1\">\r\n  <g id=\"patch_1\">\r\n   <path d=\"M 0 166.549019 \r\nL 375.2875 166.549019 \r\nL 375.2875 0 \r\nL 0 0 \r\nz\r\n\" style=\"fill:none;\"/>\r\n  </g>\r\n  <g id=\"axes_1\">\r\n   <g id=\"patch_2\">\r\n    <path d=\"M 33.2875 142.670894 \r\nL 368.0875 142.670894 \r\nL 368.0875 10.887916 \r\nL 33.2875 10.887916 \r\nz\r\n\" style=\"fill:#ffffff;\"/>\r\n   </g>\r\n   <g clip-path=\"url(#p41197982bd)\">\r\n    <image height=\"132\" id=\"image338665051e\" transform=\"scale(1 -1)translate(0 -132)\" width=\"335\" x=\"33\" xlink:href=\"data:image/png;base64,\r\niVBORw0KGgoAAAANSUhEUgAAAU8AAACECAYAAAAQlakxAAAhnElEQVR4nO3deVRTZ/4/8Pe9WUhCwhZ2BQwCKkorBTeqdadVRKpVu9jSVqv2OFYd15Gqo21dqz0urdZWT92qotbW0VqtMloZF6x1Q2VEZFNE2fcQIPf5/TFf8pNKIAlg0H5e53zOdOQuzw3JO8997nMvHAAGQgghZuGt3QBCCHkaUXgSQogFKDwJIcQCFJ6EEGIBCk9CCLEAhSchhFiAwpMQQixA4UkIIRag8CSEEAtQeBJCiAUoPAkhxAIUnoQQYgEKT0IIsQCFJyEEAGBvbw+ZTGbtZjw1KDwJIZDJZPj++++xfPlySCQSazfnqUDhSQhBTU0Nbty4gffeew9Dhw61dnOeGoyKiuqvXTzPM5VKxfbs2cPS0tJY9+7drd6m1l7U8ySEgOM4cByHCxcuQK1WY8WKFXBwcLB2s1o9qyc4FRXVky+O4xjHcUwsFrORI0ey+Ph4lpWVxfbu3ctKSkrYp59+avU2tvKyegOoqKisUBKJhLVv355t3bqVpaens2+//Za98MILTKVSsUOHDrGkpCTm6upq9Xa24rJ6A6ioqJ5gcRzHeJ5nAwcOZKmpqezixYvshRdeYGKx2NAbHTx4MCsqKmKrVq1iIpHI6m1upWX1BlBRUT3BEolETK1Ws7i4OHb69GkWHBzMOI6rs4xUKmWffvopy8/PZy+99JLV29xKy+oNoKKiegLFcRyzsbFhgwcPZqdPn2YPHjxgISEhRpd3cnJi//nPf9ivv/7KlEql1dvfCsvqDaCionoC1alTJ7Z161YWFxfHZs2axV588UUmkUiMLs9xHBs2bBgrLCxkEyZMsHr7W2FZvQFUVFQtWFKplI0ePZolJyezS5cusb59+zKxWGzSukqlku3du5fdvn2btWnTxurH0srK6g2goqJqobK1tWVr1qxhd+/eZZ988glzcXFhPM8znudNWp/neda9e3dWUFDAJk6caPXjaWVl9QZQUVG1QDk6OrKvv/6aJSYmsv79+1t81dzGxoYdPXqUHT161OQe61+krN4AKiqqZq6uXbuykydPslu3brG+ffs2aboRx3Fs9OjR7MGDB6xDhw5WP7bWUnR7JiHPGA8PD3z11VdQKpV44403EB8fD71e36RtJiYmgud5hIeHN1Mrnw1WT3AqKqrmKRsbG7Z//3529+5dFhoa+tj8TUtLKpWy3bt3s6SkJNa2bVurH2crKas3gIqKqplq0KBBLDc3l40bN67ZxyfDwsJYbm4uW7lypckXnJ7xsnoDqKiomqFUKhU7ffo0++GHHxqcv2lpSSQStnPnTpaRkcE8PDysfrzWLhrzJOQZERoaiuDgYOzduxfV1dXNvn29Xo8dO3bAwcEBr7zySrNv/2lD4UnIM4DjOAwbNgz379/H6dOnW2QfgiDg7NmzyMjIQGRkJEQiUYvs52lB4UnIM0Amk6F3796Ij49Hbm5ui+2ntLQUR44cQbdu3eDm5tZi+3kaUHgS8gxo06YNNBoNUlJSWnxfCQkJUCgUUKlULb6v1ozCk5BngJeXF6RSKc6cOWPynE6e5yGTycDz5sVARUUFeJ43e71nzV/76Al5Rjz//PPIyclBYmIiGGMmrRMYGIijR48iODgYHMeZvC/GGGxsbOi03doNIIQ0XXBwMARBMOsqe/v27dGzZ0+o1Wqz9uXo6IjKykrk5OSY28xnCoUnIc8AS06h3dzcwHEc3N3dzVrPz88PjDFotVqz9/ksofAk5Blw+fJlODk5wdvb26RTcBsbG4wYMQIcx2HIkCFmha9CoQAAk4cHnlUUnoQ8AxISEiCVSvHKK6+YFISenp4IDg5GSkoKwsLCTO59chwHBwcHlJaWoqKioqnNfqpReBLyDEhISMDmzZvx/vvvo3379g0uKxaLER0djcrKSkyaNAkA0K1bt0YnvfM8D4VCgZCQEFy9ehX5+fnN1v6nldXvEaWiomp61f5FzL179zJ3d3fDnxF+dBmO45hGo2G3b99mS5YsYXK5nO3du5edOnWKOTg4NLh9nudZWFgYe/jwIXvzzTetfrytoKzeACoqqmaqoKAgdunSJRYbG8s6d+7MJBKJIUDFYjHr3bs3i4+PZ6dOnWLe3t5MLBazgQMHspycHDZlypQGH5rs4ODADhw4wM6ePUt/TfN/ZfUGUFFRNWP5+/uzw4cPs9TUVLZ161Y2ZcoUtnbtWrZjxw6WmZnJfvrpJ+bl5WXomUokEjZr1ix29+5dNnXqVKZQKAx/56i2VCoVW7p0KcvJyWERERFWP8ZWUlZvABUVVTOXXC5ngwYNYmvXrmWHDh1ihw4dYitXrmT9+vVjSqXysR6mVCplERERLDU1lW3ZsoV5e3szhULBFAoF02g0bP/+/Sw7O5uNGTOm2R6w/LQX93//QQh5Rj06damh6UUcxyEsLAyrV6+Gq6sr8vPzwXEcXF1dAQCLFi3Cd99995efolSLwpMQUoerqyvCwsLQtm1byGQyZGVl4fz580hPT6fgfASFJyGEWIDmeRJCiAUoPAkhxAIUnoQQYgEKT0IIsQCFJyGEWIDCkxBCLEDhSQghFqDwJIQQC1B4EkKIBSg8CSHEAhSehBBiAQpPQgixAIUnIYRYgMKTEEIsQOFJCCEWoPAkhBALUHgSQogFKDwJIcQCFJ6EEGIBCk9CCLEAhSchhFiAwpMQQixA4UkIIRag8CSEEAtQeBJCiAUoPAkhxAIUnoQQYgEKT0IIsQCFJyGEWIDCkxBCLEDhSQghFqDwJIQQC1B4EkKIBSg8W5BIJLJ2EwghLYTCs4U899xziI2NhYeHh7WbQghpAX/J8OR5vkV7hRzHoUuXLhg2bBh8fHwabEdoaCiUSqXR7djY2CAyMhJubm4t1VxCiAVafXjyPI+uXbvi9ddfx4ABAxAYGGg0bEzBcRyWLVuG+fPnGw1QX19fzJs3DzY2NvX+XKlUNhi+HMehuLgYer2+wbY4OTkhNjYWH3zwgdHtqNVqrFmzBmFhYQ1uqzmJRCL4+flBIpE8sX0S8rRpsfAUiURwdnYGx3FN2s7rr7+OgwcPYs6cOfjkk0+wb98+HDt2DNu2bcOoUaNga2tr1vY4jkNISAj8/PzA8/Ufvr+/PyZOnAgnJ6fHfubr64uTJ08iODjY6D4YY7h37x6qq6sbbEtJSQmSk5MRERFhNKgcHR1ha2uLnJycBrf1ZxMmTMCiRYuMHmND2rdvj7i4OHTp0sWs9aRSKUJCQvDuu+/io48+QlRUlMU95qa+bwhpaS0Wnm+99RZOnjwJd3d3i7dhb2+PmJgYbNu2Df3798fgwYPRt29fLFiwANnZ2Vi0aBG2bdsGX19fs7ddWloKQRAe+3cnJyfMmDEDN2/eRF5e3mM/79SpEwICAiASiSCRSIx+yPPz81FQUACpVGq0DVVVVdi5cyf8/f2hVqsf2xbHcXjuueeg1Wpx+/Zts44vICAA/fv3t2h4ws7ODiqVyqx1e/TogYMHD2LXrl2YPHkyXnrpJURGRmLTpk344osvEBAQYPK2fH19sXr16nq/vABALBYjKCgI/v7+Jm+TkObWYuEZHBwMT09PODg4WLyN7t27Q6lUYuvWrSgrK4NWq0V+fj5+++03fPzxxxg6dCjKysqwe/dutGvXzqxtl5SUAKjbw3FxccG6devg6emJf/zjH/X2HF1cXKDT6ZCfnw+pVGq0Z+fo6AhHR8dGe14nTpxAWVkZOnXqVO+2XnnlFcTFxSE/P9+cw0NRURFUKlWD4W1MQEAAioqKkJGRYdLy3bt3x9atW5GWloYhQ4ZgwIABiI6OxuzZs/H555/DxcUF+/btQ/fu3U3aXv/+/TF27Nh6h2fEYjHmzp2LY8eOITY2Fi4uLmYdGyHNpUXCU6FQoG/fvigvL0dxcbHF23n11Vfx22+/ISMjA4wxiMVicBwHvV4PvV6PzMxMTJ8+HTk5OZgwYYJJp3oKhQLOzs64e/cuOI4Dz/OQyWQYPnw4/vWvf0Gj0WDcuHFITEysd30/Pz9DiJeXlxsd16ypqYEgCFAoFA22p6CgAAkJCYiKinqs/c7OzujVqxcOHTpUby+5IYmJiWjbtq1F4RIUFITc3FyUlpY2uqyzszPWrFmDM2fOYM6cOUhNTUV5eTm0Wi0KCwtx5swZfPDBB9i+fTvefPNNk75Mvby8UFFRgcrKyjr/LhaLERERgXHjxmHRokWwt7dHZGSk2cfXFH5+fhg+fDg0Gg1kMhkNL/yFiVtioyKRCFKpFHl5eSZ9AOsjk8kQEhKCXbt2Qa/Xo127dlAoFPjvf/9bZ7mSkhKsWrUKc+bMgUqlMvQojVEoFFCr1QgLC8O9e/eg1WoxevRohIeH48CBA1i2bBlyc3ONrp+eng6dTgdBECASieDg4ICCggIwxuosl5OTY+j9NUQQBFy4cAGTJk2CRqOBo6Mj5HI5AKBbt25wd3eHj48PxGJxo2Ooj6qpqYFMJoObmxvS09NNXg8AVCoVysrKTNrfoEGD4ODggPnz56OioqLeZaqrq/HVV19hwYIFCAwMxLlz5x57vR7l6uqK69evo7Cw0PBvHMfBw8MD8+bNw/fff49t27YhNDQUY8eOxY4dO8x6bZqiZ8+eWL9+PbRaLVJTU5GdnY0bN24gOzsbV69eRVpaGgoKClBTU9PgMZqi9kzE3C9O8mS0SHhKpVKoVCpkZWVZ/KauDbnaIHN2dsZ7772HadOm1VlOEAQkJyejQ4cO6NixIy5cuNDgdr28vODo6IhRo0ZhyJAhKC0thVqtxrFjx7B582YUFBQ0uL4gCNDpdOA4DuHh4Vi9ejVmzZqFI0eO1Fmu9o3fUE/L3d0dM2fOxMCBAxEYGIgTJ06guroaDx8+hI2NDVxcXJCUlIRbt26hpqamwXY9iuM4lJeXgzHWpJkJjX34eZ7Ha6+9hvj4eDx8+NDo8oIgoLKyEj///DMWLVqEGTNm4Pr16/UuKxaL4ePjg9u3bxuOmed5SKVSxMTEQCqVYsOGDaipqcGVK1cwePBgODo6mn1BzVKxsbHIycmBRCKBVCpFWFgYAgIC0L17dwwaNAgFBQVQKpVIT0/HoUOHcOnSJVRVVZm9H7FYjJUrVyIlJQUbNmxo9uOoHa+3pG1PG3t7e5SUlDT5y+zPWuS03dPTE46OjkhLS7M4PEtKSnDnzh306tULIpEI6enp8Pf3R+/eveuMDXIcBzc3N9jZ2Zl0gcPe3h5arRbTpk3DgAED0KtXL0RFRaGiogK7d+/GwIEDGzwV8/Pzg1gshlwux0cffQRbW1usWLECPj4+hvUYY6iqqoIgCCgvLze6LZ1Oh8LCQmzZsgWZmZnYuXMn+vXrh/DwcIwaNQr5+flYvHgxjh07ZtYvnjGGhw8foqamxuzpRhzHQaFQmPR7k8lk6NChA06dOmVS+65cuYLq6mq8+uqrRpext7dHYGAgrl+/Xuf30K9fP4wZMwbLli1DTk4OGGP4/fffIRaL0bZtW5OOrak4joNKpcLUqVNRUFCAgwcPYvbs2XjrrbcwYsQIjB07Fn/729/w2WefoaioCLt27cKWLVug0WiMbpPneUyZMgU9e/asc7xyuRz9+vXDCy+80CJDA7NmzcI333wDmUzW4HJt27ZFv379mn3/zYnneaOvkZubG3755Rd069at+ffb7FvE/xoskUhQUVFh8SlHTU0NYmNjERUVhbCwMBQVFWHhwoWYOnVqnd6cWCxGVFQUcnNzcevWrUa36+/vj8LCQuzevRtXrlzB/fv3ERcXh4kTJ+LLL7/EF1980eCb3c3NDTk5OYiIiECHDh3w/vvvIzk5GcuWLaszvll73A19sxcWFmLp0qXYuHEjEhMTodfrce/ePVRUVKBLly6Qy+VISEgw4dV6XGVlJXQ6XaM96frY2Njgzp07Jv/uTB3XrqqqQnJyMoKDg42+2f39/eHo6Ijk5GTDMnZ2dpg5cyZ27NiBI0eOQBAEMMaQlpaGw4cPG52P29x4noeXlxeCgoKQl5dX5/XR6XSoqqpCTU0NkpKSsG7dOgwbNgxyuRz79+9Hp06d6t2mSCTCO++8g+HDh9fpFKhUKjg7OyMhIaHRLyZ3d/dGh4f+7N69e3j55ZcbvImD4zhMmDAB06dPt+rYLsdxmDRpErp27frYz3iex7Jly/DOO+9ALH78RFqj0TR5brgxLRKe/v7+kEgkaNOmDSZPnozNmzdj06ZNiImJwbvvvmvy1KLdu3fjl19+wYYNGxAaGor79+8jKSkJixcvRocOHeDm5oZRo0Zh/Pjx+Pzzz00KCnt7e+Tl5T0WalqtFtu3b0dGRgZ69uxZ77o8z0OpVMLPzw+zZ8/G3LlzcerUKcycORMajQbz58+Hra2t4UNgbAzwzwRBwNWrV+Ht7W14kw4YMABXrlypM+5nLolEArVabdY6YrEYvr6+jY4dA/9rt1arNatXfObMGchkMqOzFLp06QKdTofs7GwA//vgREVFwdvbG+vWravzmpaXl6OqqgrPPfecyftvCkEQ0LZtW0gkEmi12gaX1el0SEpKwvjx43Hz5k0sX77caC+vsrISPj4+4HneUE5OTqipqcHp06cb3I9IJMKmTZswd+5cswLuxo0bUCqVGDZsWIPb7tq1KzIzM03ebkvgeR6jRo3C2LFjH/uZWCxGWFgYRo4cWe/7sFOnTqisrMSdO3eav13NvkXAMGexQ4cOCA8PR3l5ObKzs/H8889j1qxZeO2110z6RVdWVmLevHn4+eefMX/+fBw4cABRUVEYPXo0tm7ditWrV2PUqFFYunQpdu7caVLb/Pz8kJWVBZ1O99jP7Ozs4OnpidTUVKPrV1VVwcXFBQ8fPsTx48chCALS09Mxfvx4DBw4EJ9++inkcjm0Wi3S0tJMahMA3Lx50/DBsbe3R//+/bFr164mXSwQBKFFL6RUVVXhwYMHJocXYwzFxcWQyWRGh1g6d+6MjIwMZGdngzEGHx8ffPjhh1iyZAnS0tLqfECqqqqg1+vN/oKwVO2Mj/Ly8sdmAhhbvri4GMuXL0doaCj69u372DKhoaHw8vJChw4dMHjwYDg4OIDnefTr1w9ZWVmNThdjjCEjIwNDhgwx64aRzMxM5OfnN/jF5+HhAQ8PD+zcubPZxwvNoVQq4e3tXe8QWE1NDXJzc8Hz/GNt5DgO/v7+SEtLa5Ex8Wa/YCQWixEaGgqO47B+/Xps3LgR1dXVYIyB4zjY2dkZLmaYorCwEPPmzYNcLkdISAiKi4uhUCjg7u6O69evQyKRICUlxeQLKpcuXcIbb7wBPz8/pKenQxAEw5SiuXPnIj09HZcuXap3XUEQMGfOHCQlJeHcuXN1Tldv3ryJ6OhobNq0CZ999hkWLFgAvV5v8nH+/vvv8PPzg1KpRJ8+fVBSUoL4+HiT1jVGq9Xi/v37Zq0jCAJKS0tNarcgCLh8+TKGDx+O77777rFT2T/jeR4ajQY3b96sdziD53m0adMGSUlJ0Ol0UCgUmD9/Pk6cOIHY2Ng6bWKMQa/XQyKRGGYntDSRSISAgACkp6ebNYskJSUFd+7cQXBwMI4dO1bnZ4IgIC0tDT169MCSJUtQUFCAXbt2YejQobh27VqjIS0IAsrKyqDRaODj44MbN26Y1Kbi4mKkpqbCxcUFPM8/9ntTKBT4+OOPkZKSgsuXL5t8rC2h9ndc340ijDGUlZUhICAACoWiTrZIJBL07NkTP/74Y6NnCpZo9vCsHVSvrq5GQkKCITiB//9NbC7GGCoqKpocJsD/rpYGBwfj8OHD2LNnD7KysuDq6oqQkBCo1WpMmjSp3l5prezsbCxdurTen926dQsTJkzAvn37kJmZadZ44927d3HkyBGo1WpERkZi/fr1KCoqMvfwDGrDxZI3TU1NTb13V9Vn3759eO2117BlyxbMnDkTycnJ9S4nEokQERGBadOmYc6cOfUuU3ul/ciRIxCLxfjggw/g6+uLmJgYoz1onucRFBRUbwA0N47j0KtXL1y7ds2sHj1jDNXV1fW+9y9cuIDdu3fDz88PI0eORPfu3TF58mR07doVGzduNGn7tbNbXnrpJZPDU6/XIzU1FYGBgZBKpdDpdIbPKcdxiIiIwJgxY/D22283+oyGlubs7AyxWFzve4sxhqtXr6JPnz6GjlktV1dXeHl54dy5cy3SrmYPT57n4eDggMrKyhaZHtBUhYWFmDZtGjp27AgvLy+4urqiuroa69evx8WLF5s0qZ8xhpSUFMyYMQNLly6Fp6enyRd8BEFAUlISfH19wXEcDh8+3ODyPM8bnrZ06tQplJSU1Lnab2tri4qKCnAcV2cgneM42Nvbo7S0tN4vCb1ej7i4OKO97z+7ceMGXn/9dcTExOD777/H6dOncfbsWaSkpECn00Gn06Fdu3aIjIxE+/btsXbtWvz6668Nvg5qtRrTp09Hz549MXv2bOTm5hp9H1VXV5vcU24quVwOLy8v/PDDD2btr/ZMqb6zAMYYSkpKoFQqoVAosH//fty/fx+LFy/Gb7/9ZvI+BEHAkCFDsHnzZqPBXjv9r6qqClqtFufPn0dMTAycnJwMr7FIJIKXlxcWLFiAEydO4Ny5c5BIJA12KFpa7fivsVPvtLQ02NnZQa1WG8bKRSIRXn75ZVRXV+PmzZst0q5mD097e3vY2NigrKwMNTU1sLe3R3V1taGM4TjOcGoPND7HsCkqKytx5coVXLlypdm3LQgC4uLiMGzYMPTp08esD4Ber4ejoyP++c9/mnS6dvnyZURHR+O7776DTCbDv//9b/j7+yM4OBgVFRVwcXHB9u3b65wicxwHLy8vfPHFF0bnD65du9as1//mzZsYN24c+vbti/DwcEydOhUajQZ5eXnQarUoKirC+fPnMXnyZGRnZxvtIVZVVWHx4sX4/PPPUV5ejkmTJuH69esNtiUxMRFjxowxvH+a26PbVavVcHd3R2Zmpln7Cw4OhiAIRntAaWlp4DgOtra2EIvFmDJlCs6cOWPSRbtaiYmJkEgk8PX1NTrrpEePHvjmm28gCAIKCgoMN1Hs2bPHMOzFGIOHhwf8/PwgCAKio6Ph6emJhQsXWi1AG5tNkZiYiNLSUoSFhdXpeYeEhCA+Pr5JZ3ANafbw1Gg0UCgUKC4uxo4dOwyTcfPy8gzz8+7cuYO8vDzDm6924J/nedja2kIqlWLv3r1m3xnTmuTm5uLAgQNmrSMIAs6fP2/y8pmZmVizZg327t0LnudRWVkJjUYDV1fXeh8yIhKJDBPKL168aHS75kzIr1VVVYXjx4/j+PHjsLGxgZeXFwoLCyGXy1FUVISysjKTtnP06FFcvHgRer0eRUVFjQZUdXU1HBwcYGNj0+zjWrU99tqxazc3NxQWFjZ4B9qjOI5DmzZtsGTJEpw4ccLoerV3Jbm6usLR0RH+/v5Gh4bq2wfHcUhLS8Mvv/yCt99+G5988km9HZWzZ89i+PDhEIvFcHZ2Rrdu3TB79mz8+OOPcHZ2RnJyMqKjo6FWqxETE4MTJ07g/v37sLGxsWrPs127digqKjI6lJSamorExET8/e9/R58+fQydsNDQUJw4cQLe3t5mXbw1VbOH58WLF9GrVy/odDrIZDK4urpCrVYjKCgINjY2cHJyQkBAQJ3HnTk7Oxv+t/Yq7O3bt5/q8HxSysrK6owFtYbXTKfTISUlxeL1TR1vBf7XU2rTpo3h5ofmolKpEB0djZ07dxp6gBKJBOfOnUNWVpZJd1/J5XLExMSgqqoKixYtMrpOZWUltFotvL29UVFRgaKiIiQlJZncVoVCgXv37uGnn37Cjh07EBAQYDhVfXSftdOnagM3MzMTH374IX788Ufcu3cP4eHhCAwMxNKlS/Hll18azhCsPfTWsWNH3Lt3z+jZmF6vxx9//IEePXogJSUFFRUVcHR0REREBEpLSxEQEPB0hKder8fDhw8N///BgwcAgJMnT9a7PMdxhrtgHn3EW0tcHSPPnoqKCjDGGr1TxlwikQhvvfUWCgoKDFf63d3dwRgzaW6rnZ0dli9fjnbt2mHixIkNjqXrdDo8fPgQSqUSwcHBOHTokMm3TTLGUF5ejry8PJSUlGDt2rV47733DKfZ9bWTMQbGGARBgFKphI+PDwRBwIoVK/DTTz9h06ZNVr9I9ChPT0/cuXOnwTb98ccf4DgOe/bswe3bt9GxY0eMGTMGmzZtarEOhdWfJF97K2NVVRXKy8tRVlaGsrKyVvXLI63XsWPHEBUV1ewTuYuKirB69WrMnz8fo0ePhlwuR9u2bQ23vdaqfTKXSCSCSCQyTDzfv38/HBwcMH78eKMzEGpVV1cjMTERI0aMwOjRo3H48GHDaWdUVBSioqIwdOjQeu+S4TgOOTk5hp7+qVOnwHEcpk6dColEApFIVO+c6trnH9TOux0zZgwYY1ixYoVJc1ifFKlUCl9fX1y9erXB5e7cuQOxWIzIyEhwHAcfHx/k5eXV6cg1N6uHJyFNUVZWhkuXLrXINKWDBw9i4cKFmDJlCnbu3InOnTsjKysLTk5Ohme52trawtXVFb169cL8+fNx5MgRTJ8+Hdu3b8f48eORlZVl0r6uXbuG4OBgpKenIz09HQqFAqtWrcIPP/yADRs2GH3wc+193bX70ev1WLduHXr06IGFCxcafTBNbY81Pz8fWq0WkZGRWLVqVasY9nmUQqGARCJp9MJrRkYG0tPT0adPH/A8D19fXyQmJrboFwEHoHXNJSKklVGpVOjduzdGjhxpuAGkuLgYOp0OdnZ2kMvlqKiowLVr15CQkIDY2NgGHwhTn9q/YPDtt98a7irSaDSYPHkyhg0bZnjuQUpKCvLz85GXlwc7Ozukp6fD3d0dOTk5KC4uhqurK3Jzc6FWqzF79mykpKRgx44dOHPmDB48eFDnjE4qlaJ3795ISUnBkiVL8PHHH1v9Vsw/69KlC1auXIlXX3210aGMTZs2ITw8HL1798aSJUsQHx+PLVu2tFjbKDwJMRHHcXBwcICTkxOCgoJgZ2eHu3fvIiMjAw8ePDD5WQbmcnFxQVBQENq3b49OnTrB09MTXl5ehp8zxgy39opEIsNtuQ4ODvDw8IBcLkdOTg5+/fVXbNy48bE7huzs7AxT3swN/ZYWGBiIF198Ed9++22jy44YMQJff/01Fi1ahA8//BAzZsxAXFxci7WNwpOQp4xIJDL6YBWxWGx4jqtYLIZKpUK7du3QuXNnBAQEID4+Hrt3737CLW4asVhs0vQ5V1dXjB8/Hm+88Qbc3d3x9ttv4/jx4y3WLgpPQsgzo3fv3hg3bhzUajWio6ObdMdgYyg8CSHPFJ7nn8gtpRSehBBiAZqqRAghFqDwJIQQC1B4EkKIBSg8CSHEAhSehBBiAQpPQgixAIUnIYRYgMKTEEIsQOFJCCEWoPAkhBALUHgSQogFKDwJIcQCFJ6EEGIBCk9CCLEAhSchhFiAwpMQQixA4UkIIRag8CSEEAtQeBJCiAX+H20/G12qNu9IAAAAAElFTkSuQmCC\" y=\"-10.549019\"/>\r\n   </g>\r\n   <g id=\"matplotlib.axis_1\">\r\n    <g id=\"xtick_1\">\r\n     <g id=\"line2d_1\">\r\n      <defs>\r\n       <path d=\"M 0 0 \r\nL 0 3.5 \r\n\" id=\"mac14fb31f9\" style=\"stroke:#000000;stroke-width:0.8;\"/>\r\n      </defs>\r\n      <g>\r\n       <use style=\"stroke:#000000;stroke-width:0.8;\" x=\"33.398803\" xlink:href=\"#mac14fb31f9\" y=\"142.670894\"/>\r\n      </g>\r\n     </g>\r\n     <g id=\"text_1\">\r\n      <!-- 0 -->\r\n      <g transform=\"translate(30.217553 157.269332)scale(0.1 -0.1)\">\r\n       <defs>\r\n        <path d=\"M 31.78125 66.40625 \r\nQ 24.171875 66.40625 20.328125 58.90625 \r\nQ 16.5 51.421875 16.5 36.375 \r\nQ 16.5 21.390625 20.328125 13.890625 \r\nQ 24.171875 6.390625 31.78125 6.390625 \r\nQ 39.453125 6.390625 43.28125 13.890625 \r\nQ 47.125 21.390625 47.125 36.375 \r\nQ 47.125 51.421875 43.28125 58.90625 \r\nQ 39.453125 66.40625 31.78125 66.40625 \r\nz\r\nM 31.78125 74.21875 \r\nQ 44.046875 74.21875 50.515625 64.515625 \r\nQ 56.984375 54.828125 56.984375 36.375 \r\nQ 56.984375 17.96875 50.515625 8.265625 \r\nQ 44.046875 -1.421875 31.78125 -1.421875 \r\nQ 19.53125 -1.421875 13.0625 8.265625 \r\nQ 6.59375 17.96875 6.59375 36.375 \r\nQ 6.59375 54.828125 13.0625 64.515625 \r\nQ 19.53125 74.21875 31.78125 74.21875 \r\nz\r\n\" id=\"DejaVuSans-48\"/>\r\n       </defs>\r\n       <use xlink:href=\"#DejaVuSans-48\"/>\r\n      </g>\r\n     </g>\r\n    </g>\r\n    <g id=\"xtick_2\">\r\n     <g id=\"line2d_2\">\r\n      <g>\r\n       <use style=\"stroke:#000000;stroke-width:0.8;\" x=\"77.92008\" xlink:href=\"#mac14fb31f9\" y=\"142.670894\"/>\r\n      </g>\r\n     </g>\r\n     <g id=\"text_2\">\r\n      <!-- 200 -->\r\n      <g transform=\"translate(68.37633 157.269332)scale(0.1 -0.1)\">\r\n       <defs>\r\n        <path d=\"M 19.1875 8.296875 \r\nL 53.609375 8.296875 \r\nL 53.609375 0 \r\nL 7.328125 0 \r\nL 7.328125 8.296875 \r\nQ 12.9375 14.109375 22.625 23.890625 \r\nQ 32.328125 33.6875 34.8125 36.53125 \r\nQ 39.546875 41.84375 41.421875 45.53125 \r\nQ 43.3125 49.21875 43.3125 52.78125 \r\nQ 43.3125 58.59375 39.234375 62.25 \r\nQ 35.15625 65.921875 28.609375 65.921875 \r\nQ 23.96875 65.921875 18.8125 64.3125 \r\nQ 13.671875 62.703125 7.8125 59.421875 \r\nL 7.8125 69.390625 \r\nQ 13.765625 71.78125 18.9375 73 \r\nQ 24.125 74.21875 28.421875 74.21875 \r\nQ 39.75 74.21875 46.484375 68.546875 \r\nQ 53.21875 62.890625 53.21875 53.421875 \r\nQ 53.21875 48.921875 51.53125 44.890625 \r\nQ 49.859375 40.875 45.40625 35.40625 \r\nQ 44.1875 33.984375 37.640625 27.21875 \r\nQ 31.109375 20.453125 19.1875 8.296875 \r\nz\r\n\" id=\"DejaVuSans-50\"/>\r\n       </defs>\r\n       <use xlink:href=\"#DejaVuSans-50\"/>\r\n       <use x=\"63.623047\" xlink:href=\"#DejaVuSans-48\"/>\r\n       <use x=\"127.246094\" xlink:href=\"#DejaVuSans-48\"/>\r\n      </g>\r\n     </g>\r\n    </g>\r\n    <g id=\"xtick_3\">\r\n     <g id=\"line2d_3\">\r\n      <g>\r\n       <use style=\"stroke:#000000;stroke-width:0.8;\" x=\"122.441356\" xlink:href=\"#mac14fb31f9\" y=\"142.670894\"/>\r\n      </g>\r\n     </g>\r\n     <g id=\"text_3\">\r\n      <!-- 400 -->\r\n      <g transform=\"translate(112.897606 157.269332)scale(0.1 -0.1)\">\r\n       <defs>\r\n        <path d=\"M 37.796875 64.3125 \r\nL 12.890625 25.390625 \r\nL 37.796875 25.390625 \r\nz\r\nM 35.203125 72.90625 \r\nL 47.609375 72.90625 \r\nL 47.609375 25.390625 \r\nL 58.015625 25.390625 \r\nL 58.015625 17.1875 \r\nL 47.609375 17.1875 \r\nL 47.609375 0 \r\nL 37.796875 0 \r\nL 37.796875 17.1875 \r\nL 4.890625 17.1875 \r\nL 4.890625 26.703125 \r\nz\r\n\" id=\"DejaVuSans-52\"/>\r\n       </defs>\r\n       <use xlink:href=\"#DejaVuSans-52\"/>\r\n       <use x=\"63.623047\" xlink:href=\"#DejaVuSans-48\"/>\r\n       <use x=\"127.246094\" xlink:href=\"#DejaVuSans-48\"/>\r\n      </g>\r\n     </g>\r\n    </g>\r\n    <g id=\"xtick_4\">\r\n     <g id=\"line2d_4\">\r\n      <g>\r\n       <use style=\"stroke:#000000;stroke-width:0.8;\" x=\"166.962633\" xlink:href=\"#mac14fb31f9\" y=\"142.670894\"/>\r\n      </g>\r\n     </g>\r\n     <g id=\"text_4\">\r\n      <!-- 600 -->\r\n      <g transform=\"translate(157.418883 157.269332)scale(0.1 -0.1)\">\r\n       <defs>\r\n        <path d=\"M 33.015625 40.375 \r\nQ 26.375 40.375 22.484375 35.828125 \r\nQ 18.609375 31.296875 18.609375 23.390625 \r\nQ 18.609375 15.53125 22.484375 10.953125 \r\nQ 26.375 6.390625 33.015625 6.390625 \r\nQ 39.65625 6.390625 43.53125 10.953125 \r\nQ 47.40625 15.53125 47.40625 23.390625 \r\nQ 47.40625 31.296875 43.53125 35.828125 \r\nQ 39.65625 40.375 33.015625 40.375 \r\nz\r\nM 52.59375 71.296875 \r\nL 52.59375 62.3125 \r\nQ 48.875 64.0625 45.09375 64.984375 \r\nQ 41.3125 65.921875 37.59375 65.921875 \r\nQ 27.828125 65.921875 22.671875 59.328125 \r\nQ 17.53125 52.734375 16.796875 39.40625 \r\nQ 19.671875 43.65625 24.015625 45.921875 \r\nQ 28.375 48.1875 33.59375 48.1875 \r\nQ 44.578125 48.1875 50.953125 41.515625 \r\nQ 57.328125 34.859375 57.328125 23.390625 \r\nQ 57.328125 12.15625 50.6875 5.359375 \r\nQ 44.046875 -1.421875 33.015625 -1.421875 \r\nQ 20.359375 -1.421875 13.671875 8.265625 \r\nQ 6.984375 17.96875 6.984375 36.375 \r\nQ 6.984375 53.65625 15.1875 63.9375 \r\nQ 23.390625 74.21875 37.203125 74.21875 \r\nQ 40.921875 74.21875 44.703125 73.484375 \r\nQ 48.484375 72.75 52.59375 71.296875 \r\nz\r\n\" id=\"DejaVuSans-54\"/>\r\n       </defs>\r\n       <use xlink:href=\"#DejaVuSans-54\"/>\r\n       <use x=\"63.623047\" xlink:href=\"#DejaVuSans-48\"/>\r\n       <use x=\"127.246094\" xlink:href=\"#DejaVuSans-48\"/>\r\n      </g>\r\n     </g>\r\n    </g>\r\n    <g id=\"xtick_5\">\r\n     <g id=\"line2d_5\">\r\n      <g>\r\n       <use style=\"stroke:#000000;stroke-width:0.8;\" x=\"211.48391\" xlink:href=\"#mac14fb31f9\" y=\"142.670894\"/>\r\n      </g>\r\n     </g>\r\n     <g id=\"text_5\">\r\n      <!-- 800 -->\r\n      <g transform=\"translate(201.94016 157.269332)scale(0.1 -0.1)\">\r\n       <defs>\r\n        <path d=\"M 31.78125 34.625 \r\nQ 24.75 34.625 20.71875 30.859375 \r\nQ 16.703125 27.09375 16.703125 20.515625 \r\nQ 16.703125 13.921875 20.71875 10.15625 \r\nQ 24.75 6.390625 31.78125 6.390625 \r\nQ 38.8125 6.390625 42.859375 10.171875 \r\nQ 46.921875 13.96875 46.921875 20.515625 \r\nQ 46.921875 27.09375 42.890625 30.859375 \r\nQ 38.875 34.625 31.78125 34.625 \r\nz\r\nM 21.921875 38.8125 \r\nQ 15.578125 40.375 12.03125 44.71875 \r\nQ 8.5 49.078125 8.5 55.328125 \r\nQ 8.5 64.0625 14.71875 69.140625 \r\nQ 20.953125 74.21875 31.78125 74.21875 \r\nQ 42.671875 74.21875 48.875 69.140625 \r\nQ 55.078125 64.0625 55.078125 55.328125 \r\nQ 55.078125 49.078125 51.53125 44.71875 \r\nQ 48 40.375 41.703125 38.8125 \r\nQ 48.828125 37.15625 52.796875 32.3125 \r\nQ 56.78125 27.484375 56.78125 20.515625 \r\nQ 56.78125 9.90625 50.3125 4.234375 \r\nQ 43.84375 -1.421875 31.78125 -1.421875 \r\nQ 19.734375 -1.421875 13.25 4.234375 \r\nQ 6.78125 9.90625 6.78125 20.515625 \r\nQ 6.78125 27.484375 10.78125 32.3125 \r\nQ 14.796875 37.15625 21.921875 38.8125 \r\nz\r\nM 18.3125 54.390625 \r\nQ 18.3125 48.734375 21.84375 45.5625 \r\nQ 25.390625 42.390625 31.78125 42.390625 \r\nQ 38.140625 42.390625 41.71875 45.5625 \r\nQ 45.3125 48.734375 45.3125 54.390625 \r\nQ 45.3125 60.0625 41.71875 63.234375 \r\nQ 38.140625 66.40625 31.78125 66.40625 \r\nQ 25.390625 66.40625 21.84375 63.234375 \r\nQ 18.3125 60.0625 18.3125 54.390625 \r\nz\r\n\" id=\"DejaVuSans-56\"/>\r\n       </defs>\r\n       <use xlink:href=\"#DejaVuSans-56\"/>\r\n       <use x=\"63.623047\" xlink:href=\"#DejaVuSans-48\"/>\r\n       <use x=\"127.246094\" xlink:href=\"#DejaVuSans-48\"/>\r\n      </g>\r\n     </g>\r\n    </g>\r\n    <g id=\"xtick_6\">\r\n     <g id=\"line2d_6\">\r\n      <g>\r\n       <use style=\"stroke:#000000;stroke-width:0.8;\" x=\"256.005186\" xlink:href=\"#mac14fb31f9\" y=\"142.670894\"/>\r\n      </g>\r\n     </g>\r\n     <g id=\"text_6\">\r\n      <!-- 1000 -->\r\n      <g transform=\"translate(243.280186 157.269332)scale(0.1 -0.1)\">\r\n       <defs>\r\n        <path d=\"M 12.40625 8.296875 \r\nL 28.515625 8.296875 \r\nL 28.515625 63.921875 \r\nL 10.984375 60.40625 \r\nL 10.984375 69.390625 \r\nL 28.421875 72.90625 \r\nL 38.28125 72.90625 \r\nL 38.28125 8.296875 \r\nL 54.390625 8.296875 \r\nL 54.390625 0 \r\nL 12.40625 0 \r\nz\r\n\" id=\"DejaVuSans-49\"/>\r\n       </defs>\r\n       <use xlink:href=\"#DejaVuSans-49\"/>\r\n       <use x=\"63.623047\" xlink:href=\"#DejaVuSans-48\"/>\r\n       <use x=\"127.246094\" xlink:href=\"#DejaVuSans-48\"/>\r\n       <use x=\"190.869141\" xlink:href=\"#DejaVuSans-48\"/>\r\n      </g>\r\n     </g>\r\n    </g>\r\n    <g id=\"xtick_7\">\r\n     <g id=\"line2d_7\">\r\n      <g>\r\n       <use style=\"stroke:#000000;stroke-width:0.8;\" x=\"300.526463\" xlink:href=\"#mac14fb31f9\" y=\"142.670894\"/>\r\n      </g>\r\n     </g>\r\n     <g id=\"text_7\">\r\n      <!-- 1200 -->\r\n      <g transform=\"translate(287.801463 157.269332)scale(0.1 -0.1)\">\r\n       <use xlink:href=\"#DejaVuSans-49\"/>\r\n       <use x=\"63.623047\" xlink:href=\"#DejaVuSans-50\"/>\r\n       <use x=\"127.246094\" xlink:href=\"#DejaVuSans-48\"/>\r\n       <use x=\"190.869141\" xlink:href=\"#DejaVuSans-48\"/>\r\n      </g>\r\n     </g>\r\n    </g>\r\n    <g id=\"xtick_8\">\r\n     <g id=\"line2d_8\">\r\n      <g>\r\n       <use style=\"stroke:#000000;stroke-width:0.8;\" x=\"345.047739\" xlink:href=\"#mac14fb31f9\" y=\"142.670894\"/>\r\n      </g>\r\n     </g>\r\n     <g id=\"text_8\">\r\n      <!-- 1400 -->\r\n      <g transform=\"translate(332.322739 157.269332)scale(0.1 -0.1)\">\r\n       <use xlink:href=\"#DejaVuSans-49\"/>\r\n       <use x=\"63.623047\" xlink:href=\"#DejaVuSans-52\"/>\r\n       <use x=\"127.246094\" xlink:href=\"#DejaVuSans-48\"/>\r\n       <use x=\"190.869141\" xlink:href=\"#DejaVuSans-48\"/>\r\n      </g>\r\n     </g>\r\n    </g>\r\n   </g>\r\n   <g id=\"matplotlib.axis_2\">\r\n    <g id=\"ytick_1\">\r\n     <g id=\"line2d_9\">\r\n      <defs>\r\n       <path d=\"M 0 0 \r\nL -3.5 0 \r\n\" id=\"m07d7c3490e\" style=\"stroke:#000000;stroke-width:0.8;\"/>\r\n      </defs>\r\n      <g>\r\n       <use style=\"stroke:#000000;stroke-width:0.8;\" x=\"33.2875\" xlink:href=\"#m07d7c3490e\" y=\"10.999219\"/>\r\n      </g>\r\n     </g>\r\n     <g id=\"text_9\">\r\n      <!-- 0 -->\r\n      <g transform=\"translate(19.925 14.798437)scale(0.1 -0.1)\">\r\n       <use xlink:href=\"#DejaVuSans-48\"/>\r\n      </g>\r\n     </g>\r\n    </g>\r\n    <g id=\"ytick_2\">\r\n     <g id=\"line2d_10\">\r\n      <g>\r\n       <use style=\"stroke:#000000;stroke-width:0.8;\" x=\"33.2875\" xlink:href=\"#m07d7c3490e\" y=\"33.259857\"/>\r\n      </g>\r\n     </g>\r\n     <g id=\"text_10\">\r\n      <!-- 100 -->\r\n      <g transform=\"translate(7.2 37.059076)scale(0.1 -0.1)\">\r\n       <use xlink:href=\"#DejaVuSans-49\"/>\r\n       <use x=\"63.623047\" xlink:href=\"#DejaVuSans-48\"/>\r\n       <use x=\"127.246094\" xlink:href=\"#DejaVuSans-48\"/>\r\n      </g>\r\n     </g>\r\n    </g>\r\n    <g id=\"ytick_3\">\r\n     <g id=\"line2d_11\">\r\n      <g>\r\n       <use style=\"stroke:#000000;stroke-width:0.8;\" x=\"33.2875\" xlink:href=\"#m07d7c3490e\" y=\"55.520495\"/>\r\n      </g>\r\n     </g>\r\n     <g id=\"text_11\">\r\n      <!-- 200 -->\r\n      <g transform=\"translate(7.2 59.319714)scale(0.1 -0.1)\">\r\n       <use xlink:href=\"#DejaVuSans-50\"/>\r\n       <use x=\"63.623047\" xlink:href=\"#DejaVuSans-48\"/>\r\n       <use x=\"127.246094\" xlink:href=\"#DejaVuSans-48\"/>\r\n      </g>\r\n     </g>\r\n    </g>\r\n    <g id=\"ytick_4\">\r\n     <g id=\"line2d_12\">\r\n      <g>\r\n       <use style=\"stroke:#000000;stroke-width:0.8;\" x=\"33.2875\" xlink:href=\"#m07d7c3490e\" y=\"77.781134\"/>\r\n      </g>\r\n     </g>\r\n     <g id=\"text_12\">\r\n      <!-- 300 -->\r\n      <g transform=\"translate(7.2 81.580352)scale(0.1 -0.1)\">\r\n       <defs>\r\n        <path d=\"M 40.578125 39.3125 \r\nQ 47.65625 37.796875 51.625 33 \r\nQ 55.609375 28.21875 55.609375 21.1875 \r\nQ 55.609375 10.40625 48.1875 4.484375 \r\nQ 40.765625 -1.421875 27.09375 -1.421875 \r\nQ 22.515625 -1.421875 17.65625 -0.515625 \r\nQ 12.796875 0.390625 7.625 2.203125 \r\nL 7.625 11.71875 \r\nQ 11.71875 9.328125 16.59375 8.109375 \r\nQ 21.484375 6.890625 26.8125 6.890625 \r\nQ 36.078125 6.890625 40.9375 10.546875 \r\nQ 45.796875 14.203125 45.796875 21.1875 \r\nQ 45.796875 27.640625 41.28125 31.265625 \r\nQ 36.765625 34.90625 28.71875 34.90625 \r\nL 20.21875 34.90625 \r\nL 20.21875 43.015625 \r\nL 29.109375 43.015625 \r\nQ 36.375 43.015625 40.234375 45.921875 \r\nQ 44.09375 48.828125 44.09375 54.296875 \r\nQ 44.09375 59.90625 40.109375 62.90625 \r\nQ 36.140625 65.921875 28.71875 65.921875 \r\nQ 24.65625 65.921875 20.015625 65.03125 \r\nQ 15.375 64.15625 9.8125 62.3125 \r\nL 9.8125 71.09375 \r\nQ 15.4375 72.65625 20.34375 73.4375 \r\nQ 25.25 74.21875 29.59375 74.21875 \r\nQ 40.828125 74.21875 47.359375 69.109375 \r\nQ 53.90625 64.015625 53.90625 55.328125 \r\nQ 53.90625 49.265625 50.4375 45.09375 \r\nQ 46.96875 40.921875 40.578125 39.3125 \r\nz\r\n\" id=\"DejaVuSans-51\"/>\r\n       </defs>\r\n       <use xlink:href=\"#DejaVuSans-51\"/>\r\n       <use x=\"63.623047\" xlink:href=\"#DejaVuSans-48\"/>\r\n       <use x=\"127.246094\" xlink:href=\"#DejaVuSans-48\"/>\r\n      </g>\r\n     </g>\r\n    </g>\r\n    <g id=\"ytick_5\">\r\n     <g id=\"line2d_13\">\r\n      <g>\r\n       <use style=\"stroke:#000000;stroke-width:0.8;\" x=\"33.2875\" xlink:href=\"#m07d7c3490e\" y=\"100.041772\"/>\r\n      </g>\r\n     </g>\r\n     <g id=\"text_13\">\r\n      <!-- 400 -->\r\n      <g transform=\"translate(7.2 103.840991)scale(0.1 -0.1)\">\r\n       <use xlink:href=\"#DejaVuSans-52\"/>\r\n       <use x=\"63.623047\" xlink:href=\"#DejaVuSans-48\"/>\r\n       <use x=\"127.246094\" xlink:href=\"#DejaVuSans-48\"/>\r\n      </g>\r\n     </g>\r\n    </g>\r\n    <g id=\"ytick_6\">\r\n     <g id=\"line2d_14\">\r\n      <g>\r\n       <use style=\"stroke:#000000;stroke-width:0.8;\" x=\"33.2875\" xlink:href=\"#m07d7c3490e\" y=\"122.30241\"/>\r\n      </g>\r\n     </g>\r\n     <g id=\"text_14\">\r\n      <!-- 500 -->\r\n      <g transform=\"translate(7.2 126.101629)scale(0.1 -0.1)\">\r\n       <defs>\r\n        <path d=\"M 10.796875 72.90625 \r\nL 49.515625 72.90625 \r\nL 49.515625 64.59375 \r\nL 19.828125 64.59375 \r\nL 19.828125 46.734375 \r\nQ 21.96875 47.46875 24.109375 47.828125 \r\nQ 26.265625 48.1875 28.421875 48.1875 \r\nQ 40.625 48.1875 47.75 41.5 \r\nQ 54.890625 34.8125 54.890625 23.390625 \r\nQ 54.890625 11.625 47.5625 5.09375 \r\nQ 40.234375 -1.421875 26.90625 -1.421875 \r\nQ 22.3125 -1.421875 17.546875 -0.640625 \r\nQ 12.796875 0.140625 7.71875 1.703125 \r\nL 7.71875 11.625 \r\nQ 12.109375 9.234375 16.796875 8.0625 \r\nQ 21.484375 6.890625 26.703125 6.890625 \r\nQ 35.15625 6.890625 40.078125 11.328125 \r\nQ 45.015625 15.765625 45.015625 23.390625 \r\nQ 45.015625 31 40.078125 35.4375 \r\nQ 35.15625 39.890625 26.703125 39.890625 \r\nQ 22.75 39.890625 18.8125 39.015625 \r\nQ 14.890625 38.140625 10.796875 36.28125 \r\nz\r\n\" id=\"DejaVuSans-53\"/>\r\n       </defs>\r\n       <use xlink:href=\"#DejaVuSans-53\"/>\r\n       <use x=\"63.623047\" xlink:href=\"#DejaVuSans-48\"/>\r\n       <use x=\"127.246094\" xlink:href=\"#DejaVuSans-48\"/>\r\n      </g>\r\n     </g>\r\n    </g>\r\n   </g>\r\n   <g id=\"patch_3\">\r\n    <path d=\"M 33.2875 142.670894 \r\nL 33.2875 10.887916 \r\n\" style=\"fill:none;stroke:#000000;stroke-linecap:square;stroke-linejoin:miter;stroke-width:0.8;\"/>\r\n   </g>\r\n   <g id=\"patch_4\">\r\n    <path d=\"M 368.0875 142.670894 \r\nL 368.0875 10.887916 \r\n\" style=\"fill:none;stroke:#000000;stroke-linecap:square;stroke-linejoin:miter;stroke-width:0.8;\"/>\r\n   </g>\r\n   <g id=\"patch_5\">\r\n    <path d=\"M 33.2875 142.670894 \r\nL 368.0875 142.670894 \r\n\" style=\"fill:none;stroke:#000000;stroke-linecap:square;stroke-linejoin:miter;stroke-width:0.8;\"/>\r\n   </g>\r\n   <g id=\"patch_6\">\r\n    <path d=\"M 33.2875 10.887916 \r\nL 368.0875 10.887916 \r\n\" style=\"fill:none;stroke:#000000;stroke-linecap:square;stroke-linejoin:miter;stroke-width:0.8;\"/>\r\n   </g>\r\n  </g>\r\n </g>\r\n <defs>\r\n  <clipPath id=\"p41197982bd\">\r\n   <rect height=\"131.782979\" width=\"334.8\" x=\"33.2875\" y=\"10.887916\"/>\r\n  </clipPath>\r\n </defs>\r\n</svg>\r\n",
      "image/png": "[encoded data removed]"
     },
     "metadata": {
      "needs_background": "light"
     }
    }
   ],
   "source": [
    "Methods.negatif(\"data/imagedentrainement.jpeg\", \"data/imagedentrainement_sortie.jpeg\")\n",
    "\n",
    "#Create MSER object\n",
    "mser = cv2.MSER_create()\n",
    "\n",
    "#Your image path i-e receipt path\n",
    "img = cv2.imread('data/imagedentrainement_sortie.jpeg')\n",
    "\n",
    "#Convert to gray scale\n",
    "gray = cv2.cvtColor(img, cv2.COLOR_BGR2GRAY)\n",
    "\n",
    "vis = img.copy()\n",
    "\n",
    "#detect regions in gray scale image\n",
    "regions, _ = mser.detectRegions(gray)\n",
    "\n",
    "hulls = [cv2.convexHull(p.reshape(-1, 1, 2)) for p in regions]\n",
    "\n",
    "cv2.polylines(vis, hulls, 1, (255, 255, 255))\n",
    "\n",
    "plt.imshow(vis)\n",
    "\n",
    "# cv2.waitKey(0)\n",
    "\n",
    "mask = np.zeros((img.shape[0], img.shape[1], 1), dtype=np.uint8)\n",
    "\n",
    "for contour in hulls:\n",
    "\n",
    "       cv2.drawContours(mask, [contour], -1, (255, 255, 255), -1)\n",
    "\n",
    "#this is used to find only text regions, remaining are ignored\n",
    "img_filter = cv2.bitwise_and(img, img, mask=mask)\n",
    "\n",
    "plt.imshow(img_filter)\n",
    "\n",
    "# cv2.waitKey(0)"
   ]
  },
  {
   "cell_type": "code",
   "execution_count": null,
   "metadata": {},
   "outputs": [],
   "source": []
  }
 ]
}