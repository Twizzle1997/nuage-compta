{
 "metadata": {
  "language_info": {
   "codemirror_mode": {
    "name": "ipython",
    "version": 3
   },
   "file_extension": ".py",
   "mimetype": "text/x-python",
   "name": "python",
   "nbconvert_exporter": "python",
   "pygments_lexer": "ipython3",
   "version": "3.7.9-final"
  },
  "orig_nbformat": 2,
  "kernelspec": {
   "name": "python3",
   "display_name": "Python 3.7.9 64-bit ('data_science': conda)",
   "metadata": {
    "interpreter": {
     "hash": "4732c83932685b0664faa5679aa5d57be970d81d9b5c25b3f14d84dbd2e895e8"
    }
   }
  }
 },
 "nbformat": 4,
 "nbformat_minor": 2,
 "cells": [
  {
   "source": [
    "# Nuage Compta et la facture s'analysa"
   ],
   "cell_type": "markdown",
   "metadata": {}
  },
  {
   "source": [
    "## 0. Import des librairies"
   ],
   "cell_type": "markdown",
   "metadata": {}
  },
  {
   "cell_type": "code",
   "execution_count": 1,
   "metadata": {},
   "outputs": [
    {
     "output_type": "stream",
     "name": "stderr",
     "text": [
      "Using TensorFlow backend.\n"
     ]
    }
   ],
   "source": [
    "import numpy as np\n",
    "import matplotlib.pyplot as plt\n",
    "from keras.preprocessing.image import ImageDataGenerator\n",
    "from keras.preprocessing import image\n",
    "import keras\n",
    "from keras import metrics\n",
    "from keras.models import Sequential, load_model\n",
    "from keras.layers import Conv2D, MaxPooling2D, Flatten, Dense, Activation\n",
    "import os\n",
    "import pickle\n",
    "import cv2\n",
    "import imutils\n",
    "from imutils.contours import sort_contours\n",
    "\n",
    "from src import import_auto      ### Ma fonction == optimisation (voir import_auto.py) ###\n",
    "from src import negatif_test     ### Ma fonction == passer l'image de mon choix en negatif ###"
   ]
  },
  {
   "source": [
    "## 1. Optimisation et nettoyage des données"
   ],
   "cell_type": "markdown",
   "metadata": {}
  },
  {
   "cell_type": "code",
   "execution_count": 2,
   "metadata": {},
   "outputs": [],
   "source": [
    "### Afin de réduire les temps d'attente et dans un soucis d'optimisation, je decide d'importer une fonction qui prend 200 png par lettres (suffisant ici). Ces images viennent s'ajouter au dossier dataset_reduit_train ###\n",
    "import_auto.import_fichier_train()"
   ]
  },
  {
   "cell_type": "code",
   "execution_count": 3,
   "metadata": {},
   "outputs": [],
   "source": [
    "### Afin de réduire les temps d'attente et dans un soucis d'optimisation, je decide d'importer une fonction qui prend 3 png par lettres (suffisant ici). Ces images viennent s'ajouter au dossier dataset_reduit_test ###\n",
    "import_auto.import_fichier_test()"
   ]
  },
  {
   "source": [
    "## 2. Import des Datasets"
   ],
   "cell_type": "markdown",
   "metadata": {}
  },
  {
   "cell_type": "code",
   "execution_count": 4,
   "metadata": {},
   "outputs": [
    {
     "output_type": "stream",
     "name": "stdout",
     "text": [
      "Found 5207 images belonging to 27 classes.\nFound 81 images belonging to 27 classes.\n"
     ]
    }
   ],
   "source": [
    "### ImageDataGenerator génère des lots de données d'image vectorielles, convertissant les coefficients RVB compris entre 0 et 255 en valeurs cibles comprises entre 0 et 1 par mise à l'échelle avec un facteur de 1/255 à l' aide de la remise à l' échelle ###\n",
    "\n",
    "train_datagen = ImageDataGenerator(\n",
    "    rescale = 1./255,\n",
    "    ### shear_range est utilisé pour appliquer de manière aléatoire des transformations de cisaillement ###\n",
    "    shear_range = 0.2,\n",
    "    ### zoom_range est utilisé pour zoomer aléatoirement à l'intérieur des images ###           \n",
    "    zoom_range = 0.2,\n",
    "    ### horizontal_flip est utilisé pour retourner au hasard la moitié des images horizontalement ###            \n",
    "    horizontal_flip = True\n",
    ")      \n",
    "\n",
    "test_datagen = ImageDataGenerator(rescale = 1./255)\n",
    "\n",
    "\n",
    "### J'importe les images une par une à partir des répertoires en utilisant .flow_from_directory et y appliquons ImageDataGenerator ###\n",
    "\n",
    "train_generator = train_datagen.flow_from_directory(\n",
    "    ### Choix de mon repertoire ###\n",
    "    directory = \"data/dataset_reduit_train\",\n",
    "    ### Je converti les images de leur taille d'origine à notre target_size ###                    \n",
    "    target_size = (28,28),\n",
    "    ### Nombre batch_size qui fait référence au nombre d'exemples d'entraînement utilisés dans une itération ###                                      \n",
    "    batch_size = 32,\n",
    "    ### Je definis le class_mode sur \"catégorical\" indiquant que nous avons plusieurs classes (a à z) à prédire ###          \n",
    "    class_mode = \"categorical\",\n",
    "    ### Je choisis le color_mode \"grayscale\", indiquant que nous trvaillons sur une image en noir et blanc\n",
    "    color_mode = \"grayscale\"                                \n",
    "\n",
    ")\n",
    "\n",
    "test_generator = test_datagen.flow_from_directory(\n",
    "    directory = \"data/dataset_reduit_test\",\n",
    "    target_size = (28,28),\n",
    "    batch_size = 32,\n",
    "    class_mode = \"categorical\",\n",
    "    color_mode = \"grayscale\"\n",
    "\n",
    ")"
   ]
  },
  {
   "source": [
    "## 3. Definition du modèle d'architecture"
   ],
   "cell_type": "markdown",
   "metadata": {}
  },
  {
   "cell_type": "code",
   "execution_count": 5,
   "metadata": {},
   "outputs": [
    {
     "output_type": "stream",
     "name": "stdout",
     "text": [
      "Model: \"sequential_1\"\n_________________________________________________________________\nLayer (type)                 Output Shape              Param #   \n=================================================================\nconv2d_1 (Conv2D)            (None, 26, 26, 32)        320       \n_________________________________________________________________\nmax_pooling2d_1 (MaxPooling2 (None, 13, 13, 32)        0         \n_________________________________________________________________\nconv2d_2 (Conv2D)            (None, 11, 11, 32)        9248      \n_________________________________________________________________\nmax_pooling2d_2 (MaxPooling2 (None, 5, 5, 32)          0         \n_________________________________________________________________\nflatten_1 (Flatten)          (None, 800)               0         \n_________________________________________________________________\ndense_1 (Dense)              (None, 128)               102528    \n_________________________________________________________________\ndense_2 (Dense)              (None, 27)                3483      \n=================================================================\nTotal params: 115,579\nTrainable params: 115,579\nNon-trainable params: 0\n_________________________________________________________________\n"
     ]
    }
   ],
   "source": [
    "### Création d'un modèle séquentiel qui permet de définir l'architecture CNN couche par couche à l'aide de la fonction .add .Nous ajoutons d'abord une couche de convolution avec 32 filtres de taille 3X3 sur les images d'entrée et la passons à travers la fonction d'activation 'relu'.Nous effectuons ensuite des opérations MaxPooling en utilisant un pool de taille 2X2 ###\n",
    "model = Sequential()\n",
    "model.add(Conv2D(32, (3, 3), input_shape = (28,28,1), activation = \"relu\"))\n",
    "model.add(MaxPooling2D(pool_size = (2, 2)))\n",
    "\n",
    "### Ces couches sont ensuite répétées à nouveau pour améliorer les performances du modèle ###\n",
    "\n",
    "model.add(Conv2D(32, (3, 3), activation = \"relu\"))\n",
    "model.add(MaxPooling2D(pool_size = (2, 2)))\n",
    "\n",
    "### Enfin, nous aplatissons notre matrice résultante et la passons à travers une couche dense composée de 128 nœuds. Celui-ci est ensuite connecté à la couche de sortie constituée de 26 nœuds, chaque nœud représentant un alphabet ###\n",
    "\n",
    "model.add(Flatten())\n",
    "model.add(Dense(units = 128, activation = \"relu\"))\n",
    "model.add(Dense(units = 27, activation = \"softmax\"))            ### Activation softmax qui convertit les scores en une distribution de probabilité normalisée, et                                                                   le nœud avec la probabilité la plus élevée est sélectionné comme sortie ###\n",
    "\n",
    "### Une fois notre architecture CNN définie, nous compilons le modèle à l'aide de l'optimiseur Adam ###\n",
    "model.compile(optimizer = \"adam\", loss = \"categorical_crossentropy\", metrics = [\"accuracy\"])\n",
    "\n",
    "model.summary()"
   ]
  },
  {
   "source": [
    "## 4. Entrainement du modèle"
   ],
   "cell_type": "markdown",
   "metadata": {}
  },
  {
   "cell_type": "code",
   "execution_count": 6,
   "metadata": {},
   "outputs": [
    {
     "output_type": "stream",
     "name": "stdout",
     "text": [
      "Epoch 1/30\n",
      "32/32 [==============================] - 2s 58ms/step - loss: 3.1039 - accuracy: 0.1338 - val_loss: 2.9814 - val_accuracy: 0.2586\n",
      "Epoch 2/30\n",
      "32/32 [==============================] - 2s 54ms/step - loss: 2.2231 - accuracy: 0.3730 - val_loss: 1.7659 - val_accuracy: 0.4249\n",
      "Epoch 3/30\n",
      "32/32 [==============================] - 2s 51ms/step - loss: 1.6094 - accuracy: 0.5186 - val_loss: 1.6901 - val_accuracy: 0.6147\n",
      "Epoch 4/30\n",
      "32/32 [==============================] - 2s 51ms/step - loss: 1.4258 - accuracy: 0.5645 - val_loss: 1.6414 - val_accuracy: 0.6178\n",
      "Epoch 5/30\n",
      "32/32 [==============================] - 2s 54ms/step - loss: 1.2056 - accuracy: 0.6445 - val_loss: 1.0661 - val_accuracy: 0.7078\n",
      "Epoch 6/30\n",
      "32/32 [==============================] - 2s 54ms/step - loss: 1.0097 - accuracy: 0.6847 - val_loss: 0.6179 - val_accuracy: 0.6915\n",
      "Epoch 7/30\n",
      "32/32 [==============================] - 2s 50ms/step - loss: 0.8993 - accuracy: 0.7021 - val_loss: 1.1781 - val_accuracy: 0.6899\n",
      "Epoch 8/30\n",
      "32/32 [==============================] - 2s 54ms/step - loss: 0.8990 - accuracy: 0.7207 - val_loss: 0.7757 - val_accuracy: 0.7159\n",
      "Epoch 9/30\n",
      "32/32 [==============================] - 2s 51ms/step - loss: 0.8351 - accuracy: 0.7422 - val_loss: 0.6618 - val_accuracy: 0.7870\n",
      "Epoch 10/30\n",
      "32/32 [==============================] - 2s 51ms/step - loss: 0.7831 - accuracy: 0.7441 - val_loss: 0.7738 - val_accuracy: 0.8009\n",
      "Epoch 11/30\n",
      "32/32 [==============================] - 2s 57ms/step - loss: 0.7128 - accuracy: 0.7715 - val_loss: 0.7238 - val_accuracy: 0.8033\n",
      "Epoch 12/30\n",
      "32/32 [==============================] - 2s 51ms/step - loss: 0.6266 - accuracy: 0.7959 - val_loss: 0.2040 - val_accuracy: 0.7660\n",
      "Epoch 13/30\n",
      "32/32 [==============================] - 2s 51ms/step - loss: 0.5880 - accuracy: 0.8174 - val_loss: 0.6010 - val_accuracy: 0.8135\n",
      "Epoch 14/30\n",
      "32/32 [==============================] - 2s 54ms/step - loss: 0.6421 - accuracy: 0.7900 - val_loss: 0.6337 - val_accuracy: 0.8231\n",
      "Epoch 15/30\n",
      "32/32 [==============================] - 2s 51ms/step - loss: 0.6869 - accuracy: 0.7773 - val_loss: 0.6602 - val_accuracy: 0.8522\n",
      "Epoch 16/30\n",
      "32/32 [==============================] - 2s 54ms/step - loss: 0.5291 - accuracy: 0.8379 - val_loss: 0.3862 - val_accuracy: 0.9005\n",
      "Epoch 17/30\n",
      "32/32 [==============================] - 2s 54ms/step - loss: 0.5715 - accuracy: 0.8145 - val_loss: 0.4804 - val_accuracy: 0.8778\n",
      "Epoch 18/30\n",
      "32/32 [==============================] - 2s 51ms/step - loss: 0.5193 - accuracy: 0.8305 - val_loss: 0.4990 - val_accuracy: 0.8661\n",
      "Epoch 19/30\n",
      "32/32 [==============================] - 2s 51ms/step - loss: 0.5014 - accuracy: 0.8428 - val_loss: 0.2897 - val_accuracy: 0.8764\n",
      "Epoch 20/30\n",
      "32/32 [==============================] - 2s 54ms/step - loss: 0.4765 - accuracy: 0.8525 - val_loss: 0.5874 - val_accuracy: 0.8754\n",
      "Epoch 21/30\n",
      "32/32 [==============================] - 2s 54ms/step - loss: 0.4778 - accuracy: 0.8574 - val_loss: 0.1966 - val_accuracy: 0.8906\n",
      "Epoch 22/30\n",
      "32/32 [==============================] - 2s 51ms/step - loss: 0.4482 - accuracy: 0.8581 - val_loss: 0.4231 - val_accuracy: 0.8501\n",
      "Epoch 23/30\n",
      "32/32 [==============================] - 2s 53ms/step - loss: 0.4274 - accuracy: 0.8516 - val_loss: 0.3563 - val_accuracy: 0.9034\n",
      "Epoch 24/30\n",
      "32/32 [==============================] - 2s 51ms/step - loss: 0.4583 - accuracy: 0.8418 - val_loss: 0.3495 - val_accuracy: 0.8650\n",
      "Epoch 25/30\n",
      "32/32 [==============================] - 2s 51ms/step - loss: 0.4618 - accuracy: 0.8574 - val_loss: 0.2004 - val_accuracy: 0.8776\n",
      "Epoch 26/30\n",
      "32/32 [==============================] - 2s 57ms/step - loss: 0.4119 - accuracy: 0.8682 - val_loss: 0.2878 - val_accuracy: 0.8626\n",
      "Epoch 27/30\n",
      "32/32 [==============================] - 2s 51ms/step - loss: 0.3717 - accuracy: 0.8779 - val_loss: 0.2179 - val_accuracy: 0.8871\n",
      "Epoch 28/30\n",
      "32/32 [==============================] - 2s 50ms/step - loss: 0.3808 - accuracy: 0.8837 - val_loss: 0.3164 - val_accuracy: 0.8524\n",
      "Epoch 29/30\n",
      "32/32 [==============================] - 2s 54ms/step - loss: 0.4427 - accuracy: 0.8623 - val_loss: 0.3603 - val_accuracy: 0.8778\n",
      "Epoch 30/30\n",
      "32/32 [==============================] - 2s 54ms/step - loss: 0.3680 - accuracy: 0.8828 - val_loss: 0.2270 - val_accuracy: 0.8894\n",
      "Test de perte: 0.3671049475669861\n",
      "Test de précision: 0.8961014151573181\n"
     ]
    }
   ],
   "source": [
    "### Je décide de créer 30 répétitions, et j'ai X2 les steps_per_epoch pour augmenter notre précision ###\n",
    "\n",
    "entrainement = model.fit_generator(\n",
    "    train_generator,\n",
    "    steps_per_epoch = 32,\n",
    "    epochs = 30,\n",
    "    validation_data = test_generator,\n",
    "    validation_steps = 32\n",
    ")\n",
    "\n",
    "score = model.evaluate(train_generator, verbose=0)\n",
    "print(\"Test de perte:\", score[0])\n",
    "print(\"Test de précision:\", score[1])\n"
   ]
  },
  {
   "source": [
    "## 5. Enregistrement & chargement du modèle"
   ],
   "cell_type": "markdown",
   "metadata": {}
  },
  {
   "cell_type": "code",
   "execution_count": 7,
   "metadata": {},
   "outputs": [],
   "source": [
    "### Enregistrement du modèle ###\n",
    "\n",
    "pickle.dump(model, open(\"mon_model.h5\", \"wb\"))"
   ]
  },
  {
   "cell_type": "code",
   "execution_count": 8,
   "metadata": {},
   "outputs": [],
   "source": [
    "### Chargement du modèle ###\n",
    "\n",
    "model = pickle.load(open(\"mon_model.h5\",\"rb\"))"
   ]
  },
  {
   "source": [
    "## 6. Création d'une fonction qui renvois l'alphabet associé au résultat"
   ],
   "cell_type": "markdown",
   "metadata": {}
  },
  {
   "cell_type": "code",
   "execution_count": 9,
   "metadata": {},
   "outputs": [],
   "source": [
    "def get_result(result):\n",
    "    if result[0][0] == 1:\n",
    "        return(\"a\")\n",
    "    elif result[0][1] == 1:\n",
    "        return (\"b\")\n",
    "    elif result[0][2] == 1:\n",
    "        return (\"c\")\n",
    "    elif result[0][3] == 1:\n",
    "        return (\"d\")\n",
    "    elif result[0][4] == 1:\n",
    "        return (\"e\")\n",
    "    elif result[0][5] == 1:\n",
    "        return (\"f\")\n",
    "    elif result[0][6] == 1:\n",
    "        return (\"g\")\n",
    "    elif result[0][7] == 1:\n",
    "        return (\"h\")\n",
    "    elif result[0][8] == 1:\n",
    "        return (\"i\")\n",
    "    elif result[0][9] == 1:\n",
    "        return (\"j\")\n",
    "    elif result[0][10] == 1:\n",
    "        return (\"k\")\n",
    "    elif result[0][11] == 1:\n",
    "        return (\"l\")\n",
    "    elif result[0][12] == 1:\n",
    "        return (\"m\")\n",
    "    elif result[0][13] == 1:\n",
    "        return (\"n\")\n",
    "    elif result[0][14] == 1:\n",
    "        return (\"o\")\n",
    "    elif result[0][15] == 1:\n",
    "        return (\"p\")\n",
    "    elif result[0][16] == 1:\n",
    "        return (\"q\")\n",
    "    elif result[0][17] == 1:\n",
    "        return (\"r\")\n",
    "    elif result[0][18] == 1:\n",
    "        return (\"s\")\n",
    "    elif result[0][19] == 1:\n",
    "        return (\"t\")\n",
    "    elif result[0][20] == 1:\n",
    "        return (\"u\")\n",
    "    elif result[0][21] == 1:\n",
    "        return (\"v\")\n",
    "    elif result[0][22] == 1:\n",
    "        return (\"w\")\n",
    "    elif result[0][23] == 1:\n",
    "        return (\"x\")\n",
    "    elif result[0][24] == 1:\n",
    "        return (\"y\")\n",
    "    elif result[0][25] == 1:\n",
    "        return (\"z\")\n",
    "    elif result[0][26] == 1:                # Création du symbole <3\n",
    "        return (\"<3\")"
   ]
  },
  {
   "source": [
    "## 7. Choix de l'image à envoyer & Test du modèle"
   ],
   "cell_type": "markdown",
   "metadata": {}
  },
  {
   "cell_type": "code",
   "execution_count": 10,
   "metadata": {},
   "outputs": [
    {
     "output_type": "stream",
     "name": "stdout",
     "text": [
      "La lettre correspondante est: <3\n"
     ]
    },
    {
     "output_type": "display_data",
     "data": {
      "text/plain": "<Figure size 432x288 with 1 Axes>",
      "image/svg+xml": "<?xml version=\"1.0\" encoding=\"utf-8\" standalone=\"no\"?>\r\n<!DOCTYPE svg PUBLIC \"-//W3C//DTD SVG 1.1//EN\"\r\n  \"http://www.w3.org/Graphics/SVG/1.1/DTD/svg11.dtd\">\r\n<!-- Created with matplotlib (https://matplotlib.org/) -->\r\n<svg height=\"248.518125pt\" version=\"1.1\" viewBox=\"0 0 251.565 248.518125\" width=\"251.565pt\" xmlns=\"http://www.w3.org/2000/svg\" xmlns:xlink=\"http://www.w3.org/1999/xlink\">\r\n <metadata>\r\n  <rdf:RDF xmlns:cc=\"http://creativecommons.org/ns#\" xmlns:dc=\"http://purl.org/dc/elements/1.1/\" xmlns:rdf=\"http://www.w3.org/1999/02/22-rdf-syntax-ns#\">\r\n   <cc:Work>\r\n    <dc:type rdf:resource=\"http://purl.org/dc/dcmitype/StillImage\"/>\r\n    <dc:date>2020-11-17T14:58:02.924818</dc:date>\r\n    <dc:format>image/svg+xml</dc:format>\r\n    <dc:creator>\r\n     <cc:Agent>\r\n      <dc:title>Matplotlib v3.3.2, https://matplotlib.org/</dc:title>\r\n     </cc:Agent>\r\n    </dc:creator>\r\n   </cc:Work>\r\n  </rdf:RDF>\r\n </metadata>\r\n <defs>\r\n  <style type=\"text/css\">*{stroke-linecap:butt;stroke-linejoin:round;}</style>\r\n </defs>\r\n <g id=\"figure_1\">\r\n  <g id=\"patch_1\">\r\n   <path d=\"M 0 248.518125 \r\nL 251.565 248.518125 \r\nL 251.565 0 \r\nL 0 0 \r\nz\r\n\" style=\"fill:none;\"/>\r\n  </g>\r\n  <g id=\"axes_1\">\r\n   <g id=\"patch_2\">\r\n    <path d=\"M 26.925 224.64 \r\nL 244.365 224.64 \r\nL 244.365 7.2 \r\nL 26.925 7.2 \r\nz\r\n\" style=\"fill:#ffffff;\"/>\r\n   </g>\r\n   <g clip-path=\"url(#pfc9b665298)\">\r\n    <image height=\"218\" id=\"image907a7859f5\" transform=\"scale(1 -1)translate(0 -218)\" width=\"218\" x=\"26.925\" xlink:href=\"data:image/png;base64,\r\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\" y=\"-6.64\"/>\r\n   </g>\r\n   <g id=\"matplotlib.axis_1\">\r\n    <g id=\"xtick_1\">\r\n     <g id=\"line2d_1\">\r\n      <defs>\r\n       <path d=\"M 0 0 \r\nL 0 3.5 \r\n\" id=\"m7ba85d206f\" style=\"stroke:#000000;stroke-width:0.8;\"/>\r\n      </defs>\r\n      <g>\r\n       <use style=\"stroke:#000000;stroke-width:0.8;\" x=\"30.807857\" xlink:href=\"#m7ba85d206f\" y=\"224.64\"/>\r\n      </g>\r\n     </g>\r\n     <g id=\"text_1\">\r\n      <!-- 0 -->\r\n      <g transform=\"translate(27.626607 239.238437)scale(0.1 -0.1)\">\r\n       <defs>\r\n        <path d=\"M 31.78125 66.40625 \r\nQ 24.171875 66.40625 20.328125 58.90625 \r\nQ 16.5 51.421875 16.5 36.375 \r\nQ 16.5 21.390625 20.328125 13.890625 \r\nQ 24.171875 6.390625 31.78125 6.390625 \r\nQ 39.453125 6.390625 43.28125 13.890625 \r\nQ 47.125 21.390625 47.125 36.375 \r\nQ 47.125 51.421875 43.28125 58.90625 \r\nQ 39.453125 66.40625 31.78125 66.40625 \r\nz\r\nM 31.78125 74.21875 \r\nQ 44.046875 74.21875 50.515625 64.515625 \r\nQ 56.984375 54.828125 56.984375 36.375 \r\nQ 56.984375 17.96875 50.515625 8.265625 \r\nQ 44.046875 -1.421875 31.78125 -1.421875 \r\nQ 19.53125 -1.421875 13.0625 8.265625 \r\nQ 6.59375 17.96875 6.59375 36.375 \r\nQ 6.59375 54.828125 13.0625 64.515625 \r\nQ 19.53125 74.21875 31.78125 74.21875 \r\nz\r\n\" id=\"DejaVuSans-48\"/>\r\n       </defs>\r\n       <use xlink:href=\"#DejaVuSans-48\"/>\r\n      </g>\r\n     </g>\r\n    </g>\r\n    <g id=\"xtick_2\">\r\n     <g id=\"line2d_2\">\r\n      <g>\r\n       <use style=\"stroke:#000000;stroke-width:0.8;\" x=\"69.636429\" xlink:href=\"#m7ba85d206f\" y=\"224.64\"/>\r\n      </g>\r\n     </g>\r\n     <g id=\"text_2\">\r\n      <!-- 5 -->\r\n      <g transform=\"translate(66.455179 239.238437)scale(0.1 -0.1)\">\r\n       <defs>\r\n        <path d=\"M 10.796875 72.90625 \r\nL 49.515625 72.90625 \r\nL 49.515625 64.59375 \r\nL 19.828125 64.59375 \r\nL 19.828125 46.734375 \r\nQ 21.96875 47.46875 24.109375 47.828125 \r\nQ 26.265625 48.1875 28.421875 48.1875 \r\nQ 40.625 48.1875 47.75 41.5 \r\nQ 54.890625 34.8125 54.890625 23.390625 \r\nQ 54.890625 11.625 47.5625 5.09375 \r\nQ 40.234375 -1.421875 26.90625 -1.421875 \r\nQ 22.3125 -1.421875 17.546875 -0.640625 \r\nQ 12.796875 0.140625 7.71875 1.703125 \r\nL 7.71875 11.625 \r\nQ 12.109375 9.234375 16.796875 8.0625 \r\nQ 21.484375 6.890625 26.703125 6.890625 \r\nQ 35.15625 6.890625 40.078125 11.328125 \r\nQ 45.015625 15.765625 45.015625 23.390625 \r\nQ 45.015625 31 40.078125 35.4375 \r\nQ 35.15625 39.890625 26.703125 39.890625 \r\nQ 22.75 39.890625 18.8125 39.015625 \r\nQ 14.890625 38.140625 10.796875 36.28125 \r\nz\r\n\" id=\"DejaVuSans-53\"/>\r\n       </defs>\r\n       <use xlink:href=\"#DejaVuSans-53\"/>\r\n      </g>\r\n     </g>\r\n    </g>\r\n    <g id=\"xtick_3\">\r\n     <g id=\"line2d_3\">\r\n      <g>\r\n       <use style=\"stroke:#000000;stroke-width:0.8;\" x=\"108.465\" xlink:href=\"#m7ba85d206f\" y=\"224.64\"/>\r\n      </g>\r\n     </g>\r\n     <g id=\"text_3\">\r\n      <!-- 10 -->\r\n      <g transform=\"translate(102.1025 239.238437)scale(0.1 -0.1)\">\r\n       <defs>\r\n        <path d=\"M 12.40625 8.296875 \r\nL 28.515625 8.296875 \r\nL 28.515625 63.921875 \r\nL 10.984375 60.40625 \r\nL 10.984375 69.390625 \r\nL 28.421875 72.90625 \r\nL 38.28125 72.90625 \r\nL 38.28125 8.296875 \r\nL 54.390625 8.296875 \r\nL 54.390625 0 \r\nL 12.40625 0 \r\nz\r\n\" id=\"DejaVuSans-49\"/>\r\n       </defs>\r\n       <use xlink:href=\"#DejaVuSans-49\"/>\r\n       <use x=\"63.623047\" xlink:href=\"#DejaVuSans-48\"/>\r\n      </g>\r\n     </g>\r\n    </g>\r\n    <g id=\"xtick_4\">\r\n     <g id=\"line2d_4\">\r\n      <g>\r\n       <use style=\"stroke:#000000;stroke-width:0.8;\" x=\"147.293571\" xlink:href=\"#m7ba85d206f\" y=\"224.64\"/>\r\n      </g>\r\n     </g>\r\n     <g id=\"text_4\">\r\n      <!-- 15 -->\r\n      <g transform=\"translate(140.931071 239.238437)scale(0.1 -0.1)\">\r\n       <use xlink:href=\"#DejaVuSans-49\"/>\r\n       <use x=\"63.623047\" xlink:href=\"#DejaVuSans-53\"/>\r\n      </g>\r\n     </g>\r\n    </g>\r\n    <g id=\"xtick_5\">\r\n     <g id=\"line2d_5\">\r\n      <g>\r\n       <use style=\"stroke:#000000;stroke-width:0.8;\" x=\"186.122143\" xlink:href=\"#m7ba85d206f\" y=\"224.64\"/>\r\n      </g>\r\n     </g>\r\n     <g id=\"text_5\">\r\n      <!-- 20 -->\r\n      <g transform=\"translate(179.759643 239.238437)scale(0.1 -0.1)\">\r\n       <defs>\r\n        <path d=\"M 19.1875 8.296875 \r\nL 53.609375 8.296875 \r\nL 53.609375 0 \r\nL 7.328125 0 \r\nL 7.328125 8.296875 \r\nQ 12.9375 14.109375 22.625 23.890625 \r\nQ 32.328125 33.6875 34.8125 36.53125 \r\nQ 39.546875 41.84375 41.421875 45.53125 \r\nQ 43.3125 49.21875 43.3125 52.78125 \r\nQ 43.3125 58.59375 39.234375 62.25 \r\nQ 35.15625 65.921875 28.609375 65.921875 \r\nQ 23.96875 65.921875 18.8125 64.3125 \r\nQ 13.671875 62.703125 7.8125 59.421875 \r\nL 7.8125 69.390625 \r\nQ 13.765625 71.78125 18.9375 73 \r\nQ 24.125 74.21875 28.421875 74.21875 \r\nQ 39.75 74.21875 46.484375 68.546875 \r\nQ 53.21875 62.890625 53.21875 53.421875 \r\nQ 53.21875 48.921875 51.53125 44.890625 \r\nQ 49.859375 40.875 45.40625 35.40625 \r\nQ 44.1875 33.984375 37.640625 27.21875 \r\nQ 31.109375 20.453125 19.1875 8.296875 \r\nz\r\n\" id=\"DejaVuSans-50\"/>\r\n       </defs>\r\n       <use xlink:href=\"#DejaVuSans-50\"/>\r\n       <use x=\"63.623047\" xlink:href=\"#DejaVuSans-48\"/>\r\n      </g>\r\n     </g>\r\n    </g>\r\n    <g id=\"xtick_6\">\r\n     <g id=\"line2d_6\">\r\n      <g>\r\n       <use style=\"stroke:#000000;stroke-width:0.8;\" x=\"224.950714\" xlink:href=\"#m7ba85d206f\" y=\"224.64\"/>\r\n      </g>\r\n     </g>\r\n     <g id=\"text_6\">\r\n      <!-- 25 -->\r\n      <g transform=\"translate(218.588214 239.238437)scale(0.1 -0.1)\">\r\n       <use xlink:href=\"#DejaVuSans-50\"/>\r\n       <use x=\"63.623047\" xlink:href=\"#DejaVuSans-53\"/>\r\n      </g>\r\n     </g>\r\n    </g>\r\n   </g>\r\n   <g id=\"matplotlib.axis_2\">\r\n    <g id=\"ytick_1\">\r\n     <g id=\"line2d_7\">\r\n      <defs>\r\n       <path d=\"M 0 0 \r\nL -3.5 0 \r\n\" id=\"m397be3d2f1\" style=\"stroke:#000000;stroke-width:0.8;\"/>\r\n      </defs>\r\n      <g>\r\n       <use style=\"stroke:#000000;stroke-width:0.8;\" x=\"26.925\" xlink:href=\"#m397be3d2f1\" y=\"11.082857\"/>\r\n      </g>\r\n     </g>\r\n     <g id=\"text_7\">\r\n      <!-- 0 -->\r\n      <g transform=\"translate(13.5625 14.882076)scale(0.1 -0.1)\">\r\n       <use xlink:href=\"#DejaVuSans-48\"/>\r\n      </g>\r\n     </g>\r\n    </g>\r\n    <g id=\"ytick_2\">\r\n     <g id=\"line2d_8\">\r\n      <g>\r\n       <use style=\"stroke:#000000;stroke-width:0.8;\" x=\"26.925\" xlink:href=\"#m397be3d2f1\" y=\"49.911429\"/>\r\n      </g>\r\n     </g>\r\n     <g id=\"text_8\">\r\n      <!-- 5 -->\r\n      <g transform=\"translate(13.5625 53.710647)scale(0.1 -0.1)\">\r\n       <use xlink:href=\"#DejaVuSans-53\"/>\r\n      </g>\r\n     </g>\r\n    </g>\r\n    <g id=\"ytick_3\">\r\n     <g id=\"line2d_9\">\r\n      <g>\r\n       <use style=\"stroke:#000000;stroke-width:0.8;\" x=\"26.925\" xlink:href=\"#m397be3d2f1\" y=\"88.74\"/>\r\n      </g>\r\n     </g>\r\n     <g id=\"text_9\">\r\n      <!-- 10 -->\r\n      <g transform=\"translate(7.2 92.539219)scale(0.1 -0.1)\">\r\n       <use xlink:href=\"#DejaVuSans-49\"/>\r\n       <use x=\"63.623047\" xlink:href=\"#DejaVuSans-48\"/>\r\n      </g>\r\n     </g>\r\n    </g>\r\n    <g id=\"ytick_4\">\r\n     <g id=\"line2d_10\">\r\n      <g>\r\n       <use style=\"stroke:#000000;stroke-width:0.8;\" x=\"26.925\" xlink:href=\"#m397be3d2f1\" y=\"127.568571\"/>\r\n      </g>\r\n     </g>\r\n     <g id=\"text_10\">\r\n      <!-- 15 -->\r\n      <g transform=\"translate(7.2 131.36779)scale(0.1 -0.1)\">\r\n       <use xlink:href=\"#DejaVuSans-49\"/>\r\n       <use x=\"63.623047\" xlink:href=\"#DejaVuSans-53\"/>\r\n      </g>\r\n     </g>\r\n    </g>\r\n    <g id=\"ytick_5\">\r\n     <g id=\"line2d_11\">\r\n      <g>\r\n       <use style=\"stroke:#000000;stroke-width:0.8;\" x=\"26.925\" xlink:href=\"#m397be3d2f1\" y=\"166.397143\"/>\r\n      </g>\r\n     </g>\r\n     <g id=\"text_11\">\r\n      <!-- 20 -->\r\n      <g transform=\"translate(7.2 170.196362)scale(0.1 -0.1)\">\r\n       <use xlink:href=\"#DejaVuSans-50\"/>\r\n       <use x=\"63.623047\" xlink:href=\"#DejaVuSans-48\"/>\r\n      </g>\r\n     </g>\r\n    </g>\r\n    <g id=\"ytick_6\">\r\n     <g id=\"line2d_12\">\r\n      <g>\r\n       <use style=\"stroke:#000000;stroke-width:0.8;\" x=\"26.925\" xlink:href=\"#m397be3d2f1\" y=\"205.225714\"/>\r\n      </g>\r\n     </g>\r\n     <g id=\"text_12\">\r\n      <!-- 25 -->\r\n      <g transform=\"translate(7.2 209.024933)scale(0.1 -0.1)\">\r\n       <use xlink:href=\"#DejaVuSans-50\"/>\r\n       <use x=\"63.623047\" xlink:href=\"#DejaVuSans-53\"/>\r\n      </g>\r\n     </g>\r\n    </g>\r\n   </g>\r\n   <g id=\"patch_3\">\r\n    <path d=\"M 26.925 224.64 \r\nL 26.925 7.2 \r\n\" style=\"fill:none;stroke:#000000;stroke-linecap:square;stroke-linejoin:miter;stroke-width:0.8;\"/>\r\n   </g>\r\n   <g id=\"patch_4\">\r\n    <path d=\"M 244.365 224.64 \r\nL 244.365 7.2 \r\n\" style=\"fill:none;stroke:#000000;stroke-linecap:square;stroke-linejoin:miter;stroke-width:0.8;\"/>\r\n   </g>\r\n   <g id=\"patch_5\">\r\n    <path d=\"M 26.925 224.64 \r\nL 244.365 224.64 \r\n\" style=\"fill:none;stroke:#000000;stroke-linecap:square;stroke-linejoin:miter;stroke-width:0.8;\"/>\r\n   </g>\r\n   <g id=\"patch_6\">\r\n    <path d=\"M 26.925 7.2 \r\nL 244.365 7.2 \r\n\" style=\"fill:none;stroke:#000000;stroke-linecap:square;stroke-linejoin:miter;stroke-width:0.8;\"/>\r\n   </g>\r\n  </g>\r\n </g>\r\n <defs>\r\n  <clipPath id=\"pfc9b665298\">\r\n   <rect height=\"217.44\" width=\"217.44\" x=\"26.925\" y=\"7.2\"/>\r\n  </clipPath>\r\n </defs>\r\n</svg>\r\n",
      "image/png": "[encoded data removed]"
     },
     "metadata": {
      "needs_background": "light"
     }
    }
   ],
   "source": [
    "choix = r\"assets\\COEUR-thomas.png\"\n",
    "test_image = image.load_img(choix, target_size = (28,28), grayscale = True)\n",
    "plt.imshow(test_image)\n",
    "test_image = image.img_to_array(test_image)\n",
    "test_image = np.expand_dims(test_image, axis = 0)\n",
    "### TEST du <3 ###\n",
    "resultat = model.predict(test_image)\n",
    "resultat = get_result(resultat)\n",
    "print(f\"La lettre correspondante est: {resultat}\")\n"
   ]
  },
  {
   "source": [
    "## ZONE DE TEST"
   ],
   "cell_type": "markdown",
   "metadata": {}
  },
  {
   "cell_type": "code",
   "execution_count": 11,
   "metadata": {},
   "outputs": [],
   "source": [
    "imagePath = 'assets\\imagedentrainement.jpeg'"
   ]
  },
  {
   "cell_type": "code",
   "execution_count": 12,
   "metadata": {},
   "outputs": [],
   "source": [
    "### Je charge mon image d'entrée à partir de la variable \"imagePath\" puis je la convertie en niveau de gris ###\n",
    "\n",
    "image = cv2.imread(imagePath)\n",
    "gray = cv2.cvtColor(image, cv2.COLOR_BGR2GRAY)\n",
    "\n",
    "blurred = cv2.medianBlur(gray,5)"
   ]
  },
  {
   "cell_type": "code",
   "execution_count": 13,
   "metadata": {},
   "outputs": [],
   "source": [
    "### Détection des contours ###\n",
    "\n",
    "blurred = cv2.threshold(blurred, 0, 255, cv2.THRESH_BINARY + cv2.THRESH_OTSU)[1]\n",
    "\n",
    "edged = cv2.Canny(blurred, 170, 255)\n",
    "cnts = cv2.findContours(edged.copy(), cv2.RETR_EXTERNAL, cv2.CHAIN_APPROX_SIMPLE)\n",
    "cnts = imutils.grab_contours(cnts)\n",
    "cnts = sort_contours(cnts, method=\"left-to-right\")[0]\n",
    "\n",
    "### Initialisation de la liste des contours ###\n",
    "\n",
    "chars = []"
   ]
  },
  {
   "cell_type": "code",
   "execution_count": 14,
   "metadata": {},
   "outputs": [],
   "source": [
    "### Boucle sur les différents contours ###\n",
    "for c in cnts:\n",
    "    ### Calculer la boîte englobante du contour ###\n",
    "    (x, y, w, h) = cv2.boundingRect(c)\n",
    "    ### Je filtre les boîtes englobantes, en m'assurant qu'elles ne sont ni trop petites ni trop grandes ###\n",
    "    if (w >= 5 and w <= 150) and (h >= 15 and h <= 120):\n",
    "        ### On extrait le caractère pour faire en sorte qu'il apparaisse comme blanc sur fond noir, puis on saisie la largeur et la hauteur de l'image seuillée ###\n",
    "        roi = gray[y:y + h, x:x + w]\n",
    "        thresh = cv2.threshold(roi, 0, 255,\n",
    "                               cv2.THRESH_BINARY_INV | cv2.THRESH_OTSU)[1]\n",
    "        (tH, tW) = thresh.shape\n",
    "        ### Si la largeur est supérieure à la hauteur, on redimensionne la dimension de la largeur ###\n",
    "        if tW > tH:\n",
    "            thresh = imutils.resize(thresh, width=28)\n",
    "        ### Sinon on redimensionne la longueur de la hauteur ###\n",
    "        else:\n",
    "            thresh = imutils.resize(thresh, height=28)\n",
    "\n",
    "        ### On force les dimensions en 28 * 28 ###\n",
    "        padded = cv2.copyMakeBorder(thresh, top=4, bottom=4,\n",
    "                                    left=4, right=4, borderType=cv2.BORDER_CONSTANT,\n",
    "                                    value=(0, 0, 0))\n",
    "        \n",
    "        padded = cv2.resize(padded, (28, 28))\n",
    "        padded = padded.astype(\"float32\") / 255.0\n",
    "        padded = np.expand_dims(padded, axis=-1)\n",
    "        ### Mise à jour notre liste de caractères qui seront OCR ###\n",
    "        chars.append((padded, (x, y, w, h)))\n",
    "        \n"
   ]
  },
  {
   "cell_type": "code",
   "execution_count": 15,
   "metadata": {},
   "outputs": [],
   "source": [
    "### Extraction des emplacements de la boîte englobante et des caractères remplis ###\n",
    "boxes = [b[1] for b in chars]\n",
    "chars = np.array([c[0] for c in chars], dtype=\"float32\")\n",
    "\n",
    "\n",
    "### OCR les caractères à l'aide de notre modèle de reconnaissance de l'écriture manuscrite ###\n",
    "\n",
    "preds = model.predict(chars)\n"
   ]
  },
  {
   "cell_type": "code",
   "execution_count": 16,
   "metadata": {},
   "outputs": [],
   "source": [
    "### On définie la liste des noms des \"étiquettes\" (ABCDEFG...)\n",
    "labelNames = \"ABCDEFGHIJKLMNOPQRSTUVWXYZ\"\n",
    "labelNames = [l for l in labelNames]"
   ]
  },
  {
   "cell_type": "code",
   "execution_count": 17,
   "metadata": {},
   "outputs": [
    {
     "output_type": "stream",
     "name": "stdout",
     "text": [
      "[INFO] F - 99.92%\n[INFO] O - 76.71%\n[INFO] R - 98.16%\n[INFO] M - 99.86%\n[INFO] A - 63.46%\n[INFO] T - 99.95%\n[INFO] S - 32.76%\n[INFO] O - 59.98%\n[INFO] N - 87.63%\n[INFO] D - 83.16%\n[INFO] A - 87.66%\n[INFO] T - 99.38%\n[INFO] A - 84.98%\n[INFO] Y - 27.64%\n[INFO] A - 98.43%\n"
     ]
    }
   ],
   "source": [
    "### Boucle sur les prédictions et les emplacements de la boîte englobante ensemble ###\n",
    "for (pred, (x, y, w, h)) in zip(preds, boxes):\n",
    "    ### trouver l'index de l'étiquette avec le plus grand correspondant probabilité, puis extrayez la probabilité et l'étiquette ###\n",
    "    i = np.argmax(pred)\n",
    "    prob = pred[i]\n",
    "    label = labelNames[i]\n",
    "    # Dessin de la prediction sur l'image ###\n",
    "    print(\"[INFO] {} - {:.2f}%\".format(label, prob * 100))\n",
    "    cv2.rectangle(image, (x, y), (x + w, y + h), (0, 255, 0), 2)\n",
    "    cv2.putText(image, label, (x - 10, y - 10), cv2.FONT_HERSHEY_SIMPLEX, 1.2, (0, 255, 0), 2)"
   ]
  },
  {
   "cell_type": "code",
   "execution_count": 18,
   "metadata": {},
   "outputs": [
    {
     "output_type": "execute_result",
     "data": {
      "text/plain": [
       "<matplotlib.image.AxesImage at 0x1afa227ff48>"
      ]
     },
     "metadata": {},
     "execution_count": 18
    },
    {
     "output_type": "display_data",
     "data": {
      "text/plain": "<Figure size 432x288 with 1 Axes>",
      "image/svg+xml": "<?xml version=\"1.0\" encoding=\"utf-8\" standalone=\"no\"?>\r\n<!DOCTYPE svg PUBLIC \"-//W3C//DTD SVG 1.1//EN\"\r\n  \"http://www.w3.org/Graphics/SVG/1.1/DTD/svg11.dtd\">\r\n<!-- Created with matplotlib (https://matplotlib.org/) -->\r\n<svg height=\"166.549019pt\" version=\"1.1\" viewBox=\"0 0 375.2875 166.549019\" width=\"375.2875pt\" xmlns=\"http://www.w3.org/2000/svg\" xmlns:xlink=\"http://www.w3.org/1999/xlink\">\r\n <metadata>\r\n  <rdf:RDF xmlns:cc=\"http://creativecommons.org/ns#\" xmlns:dc=\"http://purl.org/dc/elements/1.1/\" xmlns:rdf=\"http://www.w3.org/1999/02/22-rdf-syntax-ns#\">\r\n   <cc:Work>\r\n    <dc:type rdf:resource=\"http://purl.org/dc/dcmitype/StillImage\"/>\r\n    <dc:date>2020-11-17T14:58:03.333236</dc:date>\r\n    <dc:format>image/svg+xml</dc:format>\r\n    <dc:creator>\r\n     <cc:Agent>\r\n      <dc:title>Matplotlib v3.3.2, https://matplotlib.org/</dc:title>\r\n     </cc:Agent>\r\n    </dc:creator>\r\n   </cc:Work>\r\n  </rdf:RDF>\r\n </metadata>\r\n <defs>\r\n  <style type=\"text/css\">*{stroke-linecap:butt;stroke-linejoin:round;}</style>\r\n </defs>\r\n <g id=\"figure_1\">\r\n  <g id=\"patch_1\">\r\n   <path d=\"M 0 166.549019 \r\nL 375.2875 166.549019 \r\nL 375.2875 0 \r\nL 0 0 \r\nz\r\n\" style=\"fill:none;\"/>\r\n  </g>\r\n  <g id=\"axes_1\">\r\n   <g id=\"patch_2\">\r\n    <path d=\"M 33.2875 142.670894 \r\nL 368.0875 142.670894 \r\nL 368.0875 10.887916 \r\nL 33.2875 10.887916 \r\nz\r\n\" style=\"fill:#ffffff;\"/>\r\n   </g>\r\n   <g clip-path=\"url(#p049d1b4a46)\">\r\n    <image height=\"132\" id=\"image04f716ef5b\" transform=\"scale(1 -1)translate(0 -132)\" width=\"335\" x=\"33.2875\" xlink:href=\"data:image/png;base64,\r\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\" y=\"-10.670894\"/>\r\n   </g>\r\n   <g id=\"matplotlib.axis_1\">\r\n    <g id=\"xtick_1\">\r\n     <g id=\"line2d_1\">\r\n      <defs>\r\n       <path d=\"M 0 0 \r\nL 0 3.5 \r\n\" id=\"m93c287d954\" style=\"stroke:#000000;stroke-width:0.8;\"/>\r\n      </defs>\r\n      <g>\r\n       <use style=\"stroke:#000000;stroke-width:0.8;\" x=\"33.398803\" xlink:href=\"#m93c287d954\" y=\"142.670894\"/>\r\n      </g>\r\n     </g>\r\n     <g id=\"text_1\">\r\n      <!-- 0 -->\r\n      <g transform=\"translate(30.217553 157.269332)scale(0.1 -0.1)\">\r\n       <defs>\r\n        <path d=\"M 31.78125 66.40625 \r\nQ 24.171875 66.40625 20.328125 58.90625 \r\nQ 16.5 51.421875 16.5 36.375 \r\nQ 16.5 21.390625 20.328125 13.890625 \r\nQ 24.171875 6.390625 31.78125 6.390625 \r\nQ 39.453125 6.390625 43.28125 13.890625 \r\nQ 47.125 21.390625 47.125 36.375 \r\nQ 47.125 51.421875 43.28125 58.90625 \r\nQ 39.453125 66.40625 31.78125 66.40625 \r\nz\r\nM 31.78125 74.21875 \r\nQ 44.046875 74.21875 50.515625 64.515625 \r\nQ 56.984375 54.828125 56.984375 36.375 \r\nQ 56.984375 17.96875 50.515625 8.265625 \r\nQ 44.046875 -1.421875 31.78125 -1.421875 \r\nQ 19.53125 -1.421875 13.0625 8.265625 \r\nQ 6.59375 17.96875 6.59375 36.375 \r\nQ 6.59375 54.828125 13.0625 64.515625 \r\nQ 19.53125 74.21875 31.78125 74.21875 \r\nz\r\n\" id=\"DejaVuSans-48\"/>\r\n       </defs>\r\n       <use xlink:href=\"#DejaVuSans-48\"/>\r\n      </g>\r\n     </g>\r\n    </g>\r\n    <g id=\"xtick_2\">\r\n     <g id=\"line2d_2\">\r\n      <g>\r\n       <use style=\"stroke:#000000;stroke-width:0.8;\" x=\"77.92008\" xlink:href=\"#m93c287d954\" y=\"142.670894\"/>\r\n      </g>\r\n     </g>\r\n     <g id=\"text_2\">\r\n      <!-- 200 -->\r\n      <g transform=\"translate(68.37633 157.269332)scale(0.1 -0.1)\">\r\n       <defs>\r\n        <path d=\"M 19.1875 8.296875 \r\nL 53.609375 8.296875 \r\nL 53.609375 0 \r\nL 7.328125 0 \r\nL 7.328125 8.296875 \r\nQ 12.9375 14.109375 22.625 23.890625 \r\nQ 32.328125 33.6875 34.8125 36.53125 \r\nQ 39.546875 41.84375 41.421875 45.53125 \r\nQ 43.3125 49.21875 43.3125 52.78125 \r\nQ 43.3125 58.59375 39.234375 62.25 \r\nQ 35.15625 65.921875 28.609375 65.921875 \r\nQ 23.96875 65.921875 18.8125 64.3125 \r\nQ 13.671875 62.703125 7.8125 59.421875 \r\nL 7.8125 69.390625 \r\nQ 13.765625 71.78125 18.9375 73 \r\nQ 24.125 74.21875 28.421875 74.21875 \r\nQ 39.75 74.21875 46.484375 68.546875 \r\nQ 53.21875 62.890625 53.21875 53.421875 \r\nQ 53.21875 48.921875 51.53125 44.890625 \r\nQ 49.859375 40.875 45.40625 35.40625 \r\nQ 44.1875 33.984375 37.640625 27.21875 \r\nQ 31.109375 20.453125 19.1875 8.296875 \r\nz\r\n\" id=\"DejaVuSans-50\"/>\r\n       </defs>\r\n       <use xlink:href=\"#DejaVuSans-50\"/>\r\n       <use x=\"63.623047\" xlink:href=\"#DejaVuSans-48\"/>\r\n       <use x=\"127.246094\" xlink:href=\"#DejaVuSans-48\"/>\r\n      </g>\r\n     </g>\r\n    </g>\r\n    <g id=\"xtick_3\">\r\n     <g id=\"line2d_3\">\r\n      <g>\r\n       <use style=\"stroke:#000000;stroke-width:0.8;\" x=\"122.441356\" xlink:href=\"#m93c287d954\" y=\"142.670894\"/>\r\n      </g>\r\n     </g>\r\n     <g id=\"text_3\">\r\n      <!-- 400 -->\r\n      <g transform=\"translate(112.897606 157.269332)scale(0.1 -0.1)\">\r\n       <defs>\r\n        <path d=\"M 37.796875 64.3125 \r\nL 12.890625 25.390625 \r\nL 37.796875 25.390625 \r\nz\r\nM 35.203125 72.90625 \r\nL 47.609375 72.90625 \r\nL 47.609375 25.390625 \r\nL 58.015625 25.390625 \r\nL 58.015625 17.1875 \r\nL 47.609375 17.1875 \r\nL 47.609375 0 \r\nL 37.796875 0 \r\nL 37.796875 17.1875 \r\nL 4.890625 17.1875 \r\nL 4.890625 26.703125 \r\nz\r\n\" id=\"DejaVuSans-52\"/>\r\n       </defs>\r\n       <use xlink:href=\"#DejaVuSans-52\"/>\r\n       <use x=\"63.623047\" xlink:href=\"#DejaVuSans-48\"/>\r\n       <use x=\"127.246094\" xlink:href=\"#DejaVuSans-48\"/>\r\n      </g>\r\n     </g>\r\n    </g>\r\n    <g id=\"xtick_4\">\r\n     <g id=\"line2d_4\">\r\n      <g>\r\n       <use style=\"stroke:#000000;stroke-width:0.8;\" x=\"166.962633\" xlink:href=\"#m93c287d954\" y=\"142.670894\"/>\r\n      </g>\r\n     </g>\r\n     <g id=\"text_4\">\r\n      <!-- 600 -->\r\n      <g transform=\"translate(157.418883 157.269332)scale(0.1 -0.1)\">\r\n       <defs>\r\n        <path d=\"M 33.015625 40.375 \r\nQ 26.375 40.375 22.484375 35.828125 \r\nQ 18.609375 31.296875 18.609375 23.390625 \r\nQ 18.609375 15.53125 22.484375 10.953125 \r\nQ 26.375 6.390625 33.015625 6.390625 \r\nQ 39.65625 6.390625 43.53125 10.953125 \r\nQ 47.40625 15.53125 47.40625 23.390625 \r\nQ 47.40625 31.296875 43.53125 35.828125 \r\nQ 39.65625 40.375 33.015625 40.375 \r\nz\r\nM 52.59375 71.296875 \r\nL 52.59375 62.3125 \r\nQ 48.875 64.0625 45.09375 64.984375 \r\nQ 41.3125 65.921875 37.59375 65.921875 \r\nQ 27.828125 65.921875 22.671875 59.328125 \r\nQ 17.53125 52.734375 16.796875 39.40625 \r\nQ 19.671875 43.65625 24.015625 45.921875 \r\nQ 28.375 48.1875 33.59375 48.1875 \r\nQ 44.578125 48.1875 50.953125 41.515625 \r\nQ 57.328125 34.859375 57.328125 23.390625 \r\nQ 57.328125 12.15625 50.6875 5.359375 \r\nQ 44.046875 -1.421875 33.015625 -1.421875 \r\nQ 20.359375 -1.421875 13.671875 8.265625 \r\nQ 6.984375 17.96875 6.984375 36.375 \r\nQ 6.984375 53.65625 15.1875 63.9375 \r\nQ 23.390625 74.21875 37.203125 74.21875 \r\nQ 40.921875 74.21875 44.703125 73.484375 \r\nQ 48.484375 72.75 52.59375 71.296875 \r\nz\r\n\" id=\"DejaVuSans-54\"/>\r\n       </defs>\r\n       <use xlink:href=\"#DejaVuSans-54\"/>\r\n       <use x=\"63.623047\" xlink:href=\"#DejaVuSans-48\"/>\r\n       <use x=\"127.246094\" xlink:href=\"#DejaVuSans-48\"/>\r\n      </g>\r\n     </g>\r\n    </g>\r\n    <g id=\"xtick_5\">\r\n     <g id=\"line2d_5\">\r\n      <g>\r\n       <use style=\"stroke:#000000;stroke-width:0.8;\" x=\"211.48391\" xlink:href=\"#m93c287d954\" y=\"142.670894\"/>\r\n      </g>\r\n     </g>\r\n     <g id=\"text_5\">\r\n      <!-- 800 -->\r\n      <g transform=\"translate(201.94016 157.269332)scale(0.1 -0.1)\">\r\n       <defs>\r\n        <path d=\"M 31.78125 34.625 \r\nQ 24.75 34.625 20.71875 30.859375 \r\nQ 16.703125 27.09375 16.703125 20.515625 \r\nQ 16.703125 13.921875 20.71875 10.15625 \r\nQ 24.75 6.390625 31.78125 6.390625 \r\nQ 38.8125 6.390625 42.859375 10.171875 \r\nQ 46.921875 13.96875 46.921875 20.515625 \r\nQ 46.921875 27.09375 42.890625 30.859375 \r\nQ 38.875 34.625 31.78125 34.625 \r\nz\r\nM 21.921875 38.8125 \r\nQ 15.578125 40.375 12.03125 44.71875 \r\nQ 8.5 49.078125 8.5 55.328125 \r\nQ 8.5 64.0625 14.71875 69.140625 \r\nQ 20.953125 74.21875 31.78125 74.21875 \r\nQ 42.671875 74.21875 48.875 69.140625 \r\nQ 55.078125 64.0625 55.078125 55.328125 \r\nQ 55.078125 49.078125 51.53125 44.71875 \r\nQ 48 40.375 41.703125 38.8125 \r\nQ 48.828125 37.15625 52.796875 32.3125 \r\nQ 56.78125 27.484375 56.78125 20.515625 \r\nQ 56.78125 9.90625 50.3125 4.234375 \r\nQ 43.84375 -1.421875 31.78125 -1.421875 \r\nQ 19.734375 -1.421875 13.25 4.234375 \r\nQ 6.78125 9.90625 6.78125 20.515625 \r\nQ 6.78125 27.484375 10.78125 32.3125 \r\nQ 14.796875 37.15625 21.921875 38.8125 \r\nz\r\nM 18.3125 54.390625 \r\nQ 18.3125 48.734375 21.84375 45.5625 \r\nQ 25.390625 42.390625 31.78125 42.390625 \r\nQ 38.140625 42.390625 41.71875 45.5625 \r\nQ 45.3125 48.734375 45.3125 54.390625 \r\nQ 45.3125 60.0625 41.71875 63.234375 \r\nQ 38.140625 66.40625 31.78125 66.40625 \r\nQ 25.390625 66.40625 21.84375 63.234375 \r\nQ 18.3125 60.0625 18.3125 54.390625 \r\nz\r\n\" id=\"DejaVuSans-56\"/>\r\n       </defs>\r\n       <use xlink:href=\"#DejaVuSans-56\"/>\r\n       <use x=\"63.623047\" xlink:href=\"#DejaVuSans-48\"/>\r\n       <use x=\"127.246094\" xlink:href=\"#DejaVuSans-48\"/>\r\n      </g>\r\n     </g>\r\n    </g>\r\n    <g id=\"xtick_6\">\r\n     <g id=\"line2d_6\">\r\n      <g>\r\n       <use style=\"stroke:#000000;stroke-width:0.8;\" x=\"256.005186\" xlink:href=\"#m93c287d954\" y=\"142.670894\"/>\r\n      </g>\r\n     </g>\r\n     <g id=\"text_6\">\r\n      <!-- 1000 -->\r\n      <g transform=\"translate(243.280186 157.269332)scale(0.1 -0.1)\">\r\n       <defs>\r\n        <path d=\"M 12.40625 8.296875 \r\nL 28.515625 8.296875 \r\nL 28.515625 63.921875 \r\nL 10.984375 60.40625 \r\nL 10.984375 69.390625 \r\nL 28.421875 72.90625 \r\nL 38.28125 72.90625 \r\nL 38.28125 8.296875 \r\nL 54.390625 8.296875 \r\nL 54.390625 0 \r\nL 12.40625 0 \r\nz\r\n\" id=\"DejaVuSans-49\"/>\r\n       </defs>\r\n       <use xlink:href=\"#DejaVuSans-49\"/>\r\n       <use x=\"63.623047\" xlink:href=\"#DejaVuSans-48\"/>\r\n       <use x=\"127.246094\" xlink:href=\"#DejaVuSans-48\"/>\r\n       <use x=\"190.869141\" xlink:href=\"#DejaVuSans-48\"/>\r\n      </g>\r\n     </g>\r\n    </g>\r\n    <g id=\"xtick_7\">\r\n     <g id=\"line2d_7\">\r\n      <g>\r\n       <use style=\"stroke:#000000;stroke-width:0.8;\" x=\"300.526463\" xlink:href=\"#m93c287d954\" y=\"142.670894\"/>\r\n      </g>\r\n     </g>\r\n     <g id=\"text_7\">\r\n      <!-- 1200 -->\r\n      <g transform=\"translate(287.801463 157.269332)scale(0.1 -0.1)\">\r\n       <use xlink:href=\"#DejaVuSans-49\"/>\r\n       <use x=\"63.623047\" xlink:href=\"#DejaVuSans-50\"/>\r\n       <use x=\"127.246094\" xlink:href=\"#DejaVuSans-48\"/>\r\n       <use x=\"190.869141\" xlink:href=\"#DejaVuSans-48\"/>\r\n      </g>\r\n     </g>\r\n    </g>\r\n    <g id=\"xtick_8\">\r\n     <g id=\"line2d_8\">\r\n      <g>\r\n       <use style=\"stroke:#000000;stroke-width:0.8;\" x=\"345.047739\" xlink:href=\"#m93c287d954\" y=\"142.670894\"/>\r\n      </g>\r\n     </g>\r\n     <g id=\"text_8\">\r\n      <!-- 1400 -->\r\n      <g transform=\"translate(332.322739 157.269332)scale(0.1 -0.1)\">\r\n       <use xlink:href=\"#DejaVuSans-49\"/>\r\n       <use x=\"63.623047\" xlink:href=\"#DejaVuSans-52\"/>\r\n       <use x=\"127.246094\" xlink:href=\"#DejaVuSans-48\"/>\r\n       <use x=\"190.869141\" xlink:href=\"#DejaVuSans-48\"/>\r\n      </g>\r\n     </g>\r\n    </g>\r\n   </g>\r\n   <g id=\"matplotlib.axis_2\">\r\n    <g id=\"ytick_1\">\r\n     <g id=\"line2d_9\">\r\n      <defs>\r\n       <path d=\"M 0 0 \r\nL -3.5 0 \r\n\" id=\"m5abe99df5c\" style=\"stroke:#000000;stroke-width:0.8;\"/>\r\n      </defs>\r\n      <g>\r\n       <use style=\"stroke:#000000;stroke-width:0.8;\" x=\"33.2875\" xlink:href=\"#m5abe99df5c\" y=\"10.999219\"/>\r\n      </g>\r\n     </g>\r\n     <g id=\"text_9\">\r\n      <!-- 0 -->\r\n      <g transform=\"translate(19.925 14.798437)scale(0.1 -0.1)\">\r\n       <use xlink:href=\"#DejaVuSans-48\"/>\r\n      </g>\r\n     </g>\r\n    </g>\r\n    <g id=\"ytick_2\">\r\n     <g id=\"line2d_10\">\r\n      <g>\r\n       <use style=\"stroke:#000000;stroke-width:0.8;\" x=\"33.2875\" xlink:href=\"#m5abe99df5c\" y=\"33.259857\"/>\r\n      </g>\r\n     </g>\r\n     <g id=\"text_10\">\r\n      <!-- 100 -->\r\n      <g transform=\"translate(7.2 37.059076)scale(0.1 -0.1)\">\r\n       <use xlink:href=\"#DejaVuSans-49\"/>\r\n       <use x=\"63.623047\" xlink:href=\"#DejaVuSans-48\"/>\r\n       <use x=\"127.246094\" xlink:href=\"#DejaVuSans-48\"/>\r\n      </g>\r\n     </g>\r\n    </g>\r\n    <g id=\"ytick_3\">\r\n     <g id=\"line2d_11\">\r\n      <g>\r\n       <use style=\"stroke:#000000;stroke-width:0.8;\" x=\"33.2875\" xlink:href=\"#m5abe99df5c\" y=\"55.520495\"/>\r\n      </g>\r\n     </g>\r\n     <g id=\"text_11\">\r\n      <!-- 200 -->\r\n      <g transform=\"translate(7.2 59.319714)scale(0.1 -0.1)\">\r\n       <use xlink:href=\"#DejaVuSans-50\"/>\r\n       <use x=\"63.623047\" xlink:href=\"#DejaVuSans-48\"/>\r\n       <use x=\"127.246094\" xlink:href=\"#DejaVuSans-48\"/>\r\n      </g>\r\n     </g>\r\n    </g>\r\n    <g id=\"ytick_4\">\r\n     <g id=\"line2d_12\">\r\n      <g>\r\n       <use style=\"stroke:#000000;stroke-width:0.8;\" x=\"33.2875\" xlink:href=\"#m5abe99df5c\" y=\"77.781134\"/>\r\n      </g>\r\n     </g>\r\n     <g id=\"text_12\">\r\n      <!-- 300 -->\r\n      <g transform=\"translate(7.2 81.580352)scale(0.1 -0.1)\">\r\n       <defs>\r\n        <path d=\"M 40.578125 39.3125 \r\nQ 47.65625 37.796875 51.625 33 \r\nQ 55.609375 28.21875 55.609375 21.1875 \r\nQ 55.609375 10.40625 48.1875 4.484375 \r\nQ 40.765625 -1.421875 27.09375 -1.421875 \r\nQ 22.515625 -1.421875 17.65625 -0.515625 \r\nQ 12.796875 0.390625 7.625 2.203125 \r\nL 7.625 11.71875 \r\nQ 11.71875 9.328125 16.59375 8.109375 \r\nQ 21.484375 6.890625 26.8125 6.890625 \r\nQ 36.078125 6.890625 40.9375 10.546875 \r\nQ 45.796875 14.203125 45.796875 21.1875 \r\nQ 45.796875 27.640625 41.28125 31.265625 \r\nQ 36.765625 34.90625 28.71875 34.90625 \r\nL 20.21875 34.90625 \r\nL 20.21875 43.015625 \r\nL 29.109375 43.015625 \r\nQ 36.375 43.015625 40.234375 45.921875 \r\nQ 44.09375 48.828125 44.09375 54.296875 \r\nQ 44.09375 59.90625 40.109375 62.90625 \r\nQ 36.140625 65.921875 28.71875 65.921875 \r\nQ 24.65625 65.921875 20.015625 65.03125 \r\nQ 15.375 64.15625 9.8125 62.3125 \r\nL 9.8125 71.09375 \r\nQ 15.4375 72.65625 20.34375 73.4375 \r\nQ 25.25 74.21875 29.59375 74.21875 \r\nQ 40.828125 74.21875 47.359375 69.109375 \r\nQ 53.90625 64.015625 53.90625 55.328125 \r\nQ 53.90625 49.265625 50.4375 45.09375 \r\nQ 46.96875 40.921875 40.578125 39.3125 \r\nz\r\n\" id=\"DejaVuSans-51\"/>\r\n       </defs>\r\n       <use xlink:href=\"#DejaVuSans-51\"/>\r\n       <use x=\"63.623047\" xlink:href=\"#DejaVuSans-48\"/>\r\n       <use x=\"127.246094\" xlink:href=\"#DejaVuSans-48\"/>\r\n      </g>\r\n     </g>\r\n    </g>\r\n    <g id=\"ytick_5\">\r\n     <g id=\"line2d_13\">\r\n      <g>\r\n       <use style=\"stroke:#000000;stroke-width:0.8;\" x=\"33.2875\" xlink:href=\"#m5abe99df5c\" y=\"100.041772\"/>\r\n      </g>\r\n     </g>\r\n     <g id=\"text_13\">\r\n      <!-- 400 -->\r\n      <g transform=\"translate(7.2 103.840991)scale(0.1 -0.1)\">\r\n       <use xlink:href=\"#DejaVuSans-52\"/>\r\n       <use x=\"63.623047\" xlink:href=\"#DejaVuSans-48\"/>\r\n       <use x=\"127.246094\" xlink:href=\"#DejaVuSans-48\"/>\r\n      </g>\r\n     </g>\r\n    </g>\r\n    <g id=\"ytick_6\">\r\n     <g id=\"line2d_14\">\r\n      <g>\r\n       <use style=\"stroke:#000000;stroke-width:0.8;\" x=\"33.2875\" xlink:href=\"#m5abe99df5c\" y=\"122.30241\"/>\r\n      </g>\r\n     </g>\r\n     <g id=\"text_14\">\r\n      <!-- 500 -->\r\n      <g transform=\"translate(7.2 126.101629)scale(0.1 -0.1)\">\r\n       <defs>\r\n        <path d=\"M 10.796875 72.90625 \r\nL 49.515625 72.90625 \r\nL 49.515625 64.59375 \r\nL 19.828125 64.59375 \r\nL 19.828125 46.734375 \r\nQ 21.96875 47.46875 24.109375 47.828125 \r\nQ 26.265625 48.1875 28.421875 48.1875 \r\nQ 40.625 48.1875 47.75 41.5 \r\nQ 54.890625 34.8125 54.890625 23.390625 \r\nQ 54.890625 11.625 47.5625 5.09375 \r\nQ 40.234375 -1.421875 26.90625 -1.421875 \r\nQ 22.3125 -1.421875 17.546875 -0.640625 \r\nQ 12.796875 0.140625 7.71875 1.703125 \r\nL 7.71875 11.625 \r\nQ 12.109375 9.234375 16.796875 8.0625 \r\nQ 21.484375 6.890625 26.703125 6.890625 \r\nQ 35.15625 6.890625 40.078125 11.328125 \r\nQ 45.015625 15.765625 45.015625 23.390625 \r\nQ 45.015625 31 40.078125 35.4375 \r\nQ 35.15625 39.890625 26.703125 39.890625 \r\nQ 22.75 39.890625 18.8125 39.015625 \r\nQ 14.890625 38.140625 10.796875 36.28125 \r\nz\r\n\" id=\"DejaVuSans-53\"/>\r\n       </defs>\r\n       <use xlink:href=\"#DejaVuSans-53\"/>\r\n       <use x=\"63.623047\" xlink:href=\"#DejaVuSans-48\"/>\r\n       <use x=\"127.246094\" xlink:href=\"#DejaVuSans-48\"/>\r\n      </g>\r\n     </g>\r\n    </g>\r\n   </g>\r\n   <g id=\"patch_3\">\r\n    <path d=\"M 33.2875 142.670894 \r\nL 33.2875 10.887916 \r\n\" style=\"fill:none;stroke:#000000;stroke-linecap:square;stroke-linejoin:miter;stroke-width:0.8;\"/>\r\n   </g>\r\n   <g id=\"patch_4\">\r\n    <path d=\"M 368.0875 142.670894 \r\nL 368.0875 10.887916 \r\n\" style=\"fill:none;stroke:#000000;stroke-linecap:square;stroke-linejoin:miter;stroke-width:0.8;\"/>\r\n   </g>\r\n   <g id=\"patch_5\">\r\n    <path d=\"M 33.2875 142.670894 \r\nL 368.0875 142.670894 \r\n\" style=\"fill:none;stroke:#000000;stroke-linecap:square;stroke-linejoin:miter;stroke-width:0.8;\"/>\r\n   </g>\r\n   <g id=\"patch_6\">\r\n    <path d=\"M 33.2875 10.887916 \r\nL 368.0875 10.887916 \r\n\" style=\"fill:none;stroke:#000000;stroke-linecap:square;stroke-linejoin:miter;stroke-width:0.8;\"/>\r\n   </g>\r\n  </g>\r\n </g>\r\n <defs>\r\n  <clipPath id=\"p049d1b4a46\">\r\n   <rect height=\"131.782979\" width=\"334.8\" x=\"33.2875\" y=\"10.887916\"/>\r\n  </clipPath>\r\n </defs>\r\n</svg>\r\n",
      "image/png": "[encoded data removed]"
     },
     "metadata": {
      "needs_background": "light"
     }
    }
   ],
   "source": [
    "### Montre l'image ###\n",
    "plt.imshow(image)\n"
   ]
  },
  {
   "cell_type": "code",
   "execution_count": null,
   "metadata": {},
   "outputs": [],
   "source": []
  }
 ]
}