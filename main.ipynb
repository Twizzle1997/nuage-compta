{
 "metadata": {
  "language_info": {
   "codemirror_mode": {
    "name": "ipython",
    "version": 3
   },
   "file_extension": ".py",
   "mimetype": "text/x-python",
   "name": "python",
   "nbconvert_exporter": "python",
   "pygments_lexer": "ipython3",
   "version": "3.7.1-final"
  },
  "orig_nbformat": 2,
  "kernelspec": {
   "name": "python3",
   "display_name": "Python 3.7.1 64-bit ('ocrreader': conda)",
   "metadata": {
    "interpreter": {
     "hash": "bbb142fe8d36c68dc194dbe39f90a81a6699c01e0bd7c5f774bddd7033ec2865"
    }
   }
  }
 },
 "nbformat": 4,
 "nbformat_minor": 2,
 "cells": [
  {
   "source": [
    "## 0. Import des librairies"
   ],
   "cell_type": "markdown",
   "metadata": {}
  },
  {
   "cell_type": "code",
   "execution_count": 1,
   "metadata": {},
   "outputs": [
    {
     "output_type": "stream",
     "name": "stderr",
     "text": [
      "Using TensorFlow backend.\n"
     ]
    }
   ],
   "source": [
    "import numpy as np\n",
    "import matplotlib.pyplot as plt\n",
    "from keras.preprocessing.image import ImageDataGenerator\n",
    "from keras.preprocessing import image\n",
    "import keras\n",
    "from keras import metrics\n",
    "from keras.models import Sequential\n",
    "from keras.layers import Conv2D, MaxPooling2D, Flatten, Dense, Activation\n",
    "import os\n",
    "import pickle\n",
    "import cv2\n",
    "\n",
    "\n",
    "from src import import_auto      # Ma fonction == optimisation (voir import_auto.py)\n",
    "from src import negatif_test"
   ]
  },
  {
   "source": [
    "## 1. Optimisation et nettoyage des données"
   ],
   "cell_type": "markdown",
   "metadata": {}
  },
  {
   "cell_type": "code",
   "execution_count": 2,
   "metadata": {},
   "outputs": [],
   "source": [
    "# Afin de réduire les temps d'attente et dans un soucis d'optimisation, je decide d'importer une fonction qui prend 200 png par lettres (suffisant ici). Ces images viennent s'ajouter au dossier dataset_reduit_train\n",
    "import_auto.import_fichier_train()"
   ]
  },
  {
   "cell_type": "code",
   "execution_count": 3,
   "metadata": {},
   "outputs": [],
   "source": [
    "# Afin de réduire les temps d'attente et dans un soucis d'optimisation, je decide d'importer une fonction qui prend 3 png par lettres (suffisant ici). Ces images viennent s'ajouter au dossier dataset_reduit_test\n",
    "import_auto.import_fichier_test()"
   ]
  },
  {
   "source": [
    "## 2. Import des Datasets"
   ],
   "cell_type": "markdown",
   "metadata": {}
  },
  {
   "cell_type": "code",
   "execution_count": 4,
   "metadata": {},
   "outputs": [
    {
     "output_type": "stream",
     "name": "stdout",
     "text": [
      "Found 372451 images belonging to 27 classes.\n",
      "Found 105 images belonging to 27 classes.\n"
     ]
    }
   ],
   "source": [
    "# ImageDataGenerator génère des lots de données d'image vectorielles, convertissant les coefficients RVB compris entre 0 et 255 en valeurs cibles comprises entre 0 et 1 par mise à l'échelle avec un facteur de 1/255 à l' aide de la remise à l' échelle\n",
    "\n",
    "train_datagen = ImageDataGenerator(rescale = 1./255,\n",
    "                                   shear_range = 0.2,           # shear_range est utilisé pour appliquer de manière aléatoire des                                                                                                     transformations de cisaillement\n",
    "                                   zoom_range = 0.2,            # zoom_range est utilisé pour zoomer aléatoirement à l'intérieur                                                                                                      des images\n",
    "                                   horizontal_flip = True)      # horizontal_flip est utilisé pour retourner au hasard la moitié                                                                                                      des images horizontalement\n",
    "\n",
    "test_datagen = ImageDataGenerator(rescale = 1./255)\n",
    "\n",
    "\n",
    "# J'importe les images une par une à partir des répertoires en utilisant .flow_from_directory et y appliquons ImageDataGenerator.\n",
    "train_generator = train_datagen.flow_from_directory(\n",
    "    directory = \"data/dataset_reduit_train\",                    # Choix de mon repertoire\n",
    "    target_size = (32,32),                                      # Je converti les images de leur taille d'origine à notre target_size\n",
    "    batch_size = 32,                                            # Nombre batch_size qui fait référence au nombre d'exemples                                                                                                         d'entraînement utilisés dans une itération                                 \n",
    "    class_mode = \"categorical\"                                  # Nous définissons le class_mode sur catégorique indiquant que                                                                                                        nous avons plusieurs classes (a à z) à prédire.\n",
    "\n",
    ")\n",
    "\n",
    "test_generator = test_datagen.flow_from_directory(\n",
    "    directory = \"data/dataset_reduit_test\",\n",
    "    target_size = (32,32),\n",
    "    batch_size = 32,\n",
    "    class_mode = \"categorical\"\n",
    "\n",
    ")"
   ]
  },
  {
   "source": [
    "## 3. Definition du modèle d'architecture"
   ],
   "cell_type": "markdown",
   "metadata": {}
  },
  {
   "cell_type": "code",
   "execution_count": 5,
   "metadata": {},
   "outputs": [
    {
     "output_type": "stream",
     "name": "stdout",
     "text": [
      "Model: \"sequential_1\"\n_________________________________________________________________\nLayer (type)                 Output Shape              Param #   \n=================================================================\nconv2d_1 (Conv2D)            (None, 30, 30, 32)        896       \n_________________________________________________________________\nmax_pooling2d_1 (MaxPooling2 (None, 15, 15, 32)        0         \n_________________________________________________________________\nconv2d_2 (Conv2D)            (None, 13, 13, 32)        9248      \n_________________________________________________________________\nmax_pooling2d_2 (MaxPooling2 (None, 6, 6, 32)          0         \n_________________________________________________________________\nflatten_1 (Flatten)          (None, 1152)              0         \n_________________________________________________________________\ndense_1 (Dense)              (None, 128)               147584    \n_________________________________________________________________\ndense_2 (Dense)              (None, 27)                3483      \n=================================================================\nTotal params: 161,211\nTrainable params: 161,211\nNon-trainable params: 0\n_________________________________________________________________\n"
     ]
    }
   ],
   "source": [
    "# Création d'un modèle séquentiel qui permet de définir l'architecture CNN couche par couche à l'aide de la fonction .add .Nous ajoutons d'abord une couche de convolution avec 32 filtres de taille 3X3 sur les images d'entrée et la passons à travers la fonction d'activation 'relu'.Nous effectuons ensuite des opérations MaxPooling en utilisant un pool de taille 2X2 \n",
    "model = Sequential()\n",
    "model.add(Conv2D(32, (3, 3), input_shape = (32,32,3), activation = \"relu\"))\n",
    "model.add(MaxPooling2D(pool_size = (2, 2)))\n",
    "\n",
    "# Ces couches sont ensuite répétées à nouveau pour améliorer les performances du modèle.\n",
    "\n",
    "model.add(Conv2D(32, (3, 3), activation = \"relu\"))\n",
    "model.add(MaxPooling2D(pool_size = (2, 2)))\n",
    "\n",
    "# Enfin, nous aplatissons notre matrice résultante et la passons à travers une couche dense composée de 128 nœuds. Celui-ci est ensuite connecté à la couche de sortie constituée de 26 nœuds, chaque nœud représentant un alphabet\n",
    "\n",
    "model.add(Flatten())\n",
    "model.add(Dense(units = 128, activation = \"relu\"))\n",
    "model.add(Dense(units = 27, activation = \"softmax\"))            # Activation softmax qui convertit les scores en une distribution de probabilité normalisée, et le                                                                  nœud avec la probabilité la plus élevée est sélectionné comme sortie\n",
    "\n",
    "# Une fois notre architecture CNN définie, nous compilons le modèle à l'aide de l'optimiseur Adam \n",
    "model.compile(optimizer = \"adam\", loss = \"categorical_crossentropy\", metrics = [\"accuracy\"])\n",
    "\n",
    "model.summary()"
   ]
  },
  {
   "source": [
    "## 4. Entrainement du modèle"
   ],
   "cell_type": "markdown",
   "metadata": {}
  },
  {
   "cell_type": "code",
   "execution_count": 6,
   "metadata": {},
   "outputs": [
    {
     "output_type": "stream",
     "name": "stdout",
     "text": [
      "Epoch 1/30\n",
      "32/32 [==============================] - 7s 206ms/step - loss: 2.6952 - accuracy: 0.2734 - val_loss: 3.7073 - val_accuracy: 0.1810\n",
      "Epoch 2/30\n",
      "32/32 [==============================] - 6s 195ms/step - loss: 1.9129 - accuracy: 0.4580 - val_loss: 1.6141 - val_accuracy: 0.2952\n",
      "Epoch 3/30\n",
      "32/32 [==============================] - 5s 171ms/step - loss: 1.5124 - accuracy: 0.5469 - val_loss: 3.3146 - val_accuracy: 0.3905\n",
      "Epoch 4/30\n",
      "32/32 [==============================] - 6s 182ms/step - loss: 1.1843 - accuracy: 0.6543 - val_loss: 0.9993 - val_accuracy: 0.4000\n",
      "Epoch 5/30\n",
      "32/32 [==============================] - 6s 177ms/step - loss: 1.0976 - accuracy: 0.6904 - val_loss: 1.4362 - val_accuracy: 0.5429\n",
      "Epoch 6/30\n",
      "32/32 [==============================] - 6s 173ms/step - loss: 0.9344 - accuracy: 0.7051 - val_loss: 1.3498 - val_accuracy: 0.4952\n",
      "Epoch 7/30\n",
      "32/32 [==============================] - 6s 182ms/step - loss: 0.8181 - accuracy: 0.7500 - val_loss: 0.6016 - val_accuracy: 0.6476\n",
      "Epoch 8/30\n",
      "32/32 [==============================] - 6s 179ms/step - loss: 0.7222 - accuracy: 0.7832 - val_loss: 0.4970 - val_accuracy: 0.6952\n",
      "Epoch 9/30\n",
      "32/32 [==============================] - 6s 176ms/step - loss: 0.7478 - accuracy: 0.7715 - val_loss: 2.6758 - val_accuracy: 0.6000\n",
      "Epoch 10/30\n",
      "32/32 [==============================] - 6s 189ms/step - loss: 0.7067 - accuracy: 0.7754 - val_loss: 0.6882 - val_accuracy: 0.6476\n",
      "Epoch 11/30\n",
      "32/32 [==============================] - 6s 173ms/step - loss: 0.5950 - accuracy: 0.8076 - val_loss: 0.7375 - val_accuracy: 0.6762\n",
      "Epoch 12/30\n",
      "32/32 [==============================] - 5s 168ms/step - loss: 0.6394 - accuracy: 0.8174 - val_loss: 1.2152 - val_accuracy: 0.7810\n",
      "Epoch 13/30\n",
      "32/32 [==============================] - 6s 192ms/step - loss: 0.5710 - accuracy: 0.8301 - val_loss: 2.8897 - val_accuracy: 0.7619\n",
      "Epoch 14/30\n",
      "32/32 [==============================] - 5s 164ms/step - loss: 0.4965 - accuracy: 0.8467 - val_loss: 0.8164 - val_accuracy: 0.7905\n",
      "Epoch 15/30\n",
      "32/32 [==============================] - 6s 176ms/step - loss: 0.5157 - accuracy: 0.8477 - val_loss: 2.2668 - val_accuracy: 0.7619\n",
      "Epoch 16/30\n",
      "32/32 [==============================] - 6s 181ms/step - loss: 0.4295 - accuracy: 0.8809 - val_loss: 0.2200 - val_accuracy: 0.8000\n",
      "Epoch 17/30\n",
      "32/32 [==============================] - 6s 173ms/step - loss: 0.4729 - accuracy: 0.8633 - val_loss: 3.2440 - val_accuracy: 0.8095\n",
      "Epoch 18/30\n",
      "32/32 [==============================] - 6s 173ms/step - loss: 0.5033 - accuracy: 0.8574 - val_loss: 1.1698 - val_accuracy: 0.8095\n",
      "Epoch 19/30\n",
      "32/32 [==============================] - 6s 180ms/step - loss: 0.4573 - accuracy: 0.8682 - val_loss: 0.2901 - val_accuracy: 0.8095\n",
      "Epoch 20/30\n",
      "32/32 [==============================] - 6s 176ms/step - loss: 0.4335 - accuracy: 0.8721 - val_loss: 3.1742 - val_accuracy: 0.8286\n",
      "Epoch 21/30\n",
      "32/32 [==============================] - 6s 178ms/step - loss: 0.3614 - accuracy: 0.8936 - val_loss: 7.5429 - val_accuracy: 0.8000\n",
      "Epoch 22/30\n",
      "32/32 [==============================] - 6s 192ms/step - loss: 0.4199 - accuracy: 0.8721 - val_loss: 0.3506 - val_accuracy: 0.7905\n",
      "Epoch 23/30\n",
      "32/32 [==============================] - 6s 199ms/step - loss: 0.4687 - accuracy: 0.8516 - val_loss: 3.1227 - val_accuracy: 0.8286\n",
      "Epoch 24/30\n",
      "32/32 [==============================] - 6s 202ms/step - loss: 0.3700 - accuracy: 0.8770 - val_loss: 0.1126 - val_accuracy: 0.8381\n",
      "Epoch 25/30\n",
      "32/32 [==============================] - 7s 215ms/step - loss: 0.3952 - accuracy: 0.8867 - val_loss: 0.1417 - val_accuracy: 0.8190\n",
      "Epoch 26/30\n",
      "32/32 [==============================] - 7s 221ms/step - loss: 0.3434 - accuracy: 0.8809 - val_loss: 1.8843 - val_accuracy: 0.8286\n",
      "Epoch 27/30\n",
      "32/32 [==============================] - 7s 209ms/step - loss: 0.3488 - accuracy: 0.8906 - val_loss: 3.8056 - val_accuracy: 0.8571\n",
      "Epoch 28/30\n",
      "32/32 [==============================] - 7s 228ms/step - loss: 0.2869 - accuracy: 0.9170 - val_loss: 0.3805 - val_accuracy: 0.8762\n",
      "Epoch 29/30\n",
      "32/32 [==============================] - 7s 215ms/step - loss: 0.3344 - accuracy: 0.8926 - val_loss: 3.9111 - val_accuracy: 0.8571\n",
      "Epoch 30/30\n",
      "32/32 [==============================] - 6s 198ms/step - loss: 0.3607 - accuracy: 0.8984 - val_loss: 0.1980 - val_accuracy: 0.8667\n"
     ]
    }
   ],
   "source": [
    "# Je décide de créer 30 répétitions, et j'ai X2 les steps_per_epoch pour augmenter notre précision\n",
    "\n",
    "entrainement = model.fit_generator(train_generator,\n",
    "                         steps_per_epoch = 32,\n",
    "                         epochs = 30,\n",
    "                         validation_data = test_generator,\n",
    "                         validation_steps = 32)\n"
   ]
  },
  {
   "source": [
    "## 5. Enregistrement & chargement du modèle"
   ],
   "cell_type": "markdown",
   "metadata": {}
  },
  {
   "cell_type": "code",
   "execution_count": 7,
   "metadata": {},
   "outputs": [],
   "source": [
    "pickle.dump(model, open(\"mon_model.sav\", \"wb\"))\n",
    "model = pickle.load(open(\"mon_model.sav\",\"rb\"))"
   ]
  },
  {
   "source": [
    "## 6. Création d'une fonction qui renvoie l'alphabet associé au résultat"
   ],
   "cell_type": "markdown",
   "metadata": {}
  },
  {
   "cell_type": "code",
   "execution_count": 8,
   "metadata": {},
   "outputs": [],
   "source": [
    "def get_result(result):\n",
    "    if result[0][0] == 1:\n",
    "        return(\"a\")\n",
    "    elif result[0][1] == 1:\n",
    "        return (\"b\")\n",
    "    elif result[0][2] == 1:\n",
    "        return (\"c\")\n",
    "    elif result[0][3] == 1:\n",
    "        return (\"d\")\n",
    "    elif result[0][4] == 1:\n",
    "        return (\"e\")\n",
    "    elif result[0][5] == 1:\n",
    "        return (\"f\")\n",
    "    elif result[0][6] == 1:\n",
    "        return (\"g\")\n",
    "    elif result[0][7] == 1:\n",
    "        return (\"h\")\n",
    "    elif result[0][8] == 1:\n",
    "        return (\"i\")\n",
    "    elif result[0][9] == 1:\n",
    "        return (\"j\")\n",
    "    elif result[0][10] == 1:\n",
    "        return (\"k\")\n",
    "    elif result[0][11] == 1:\n",
    "        return (\"l\")\n",
    "    elif result[0][12] == 1:\n",
    "        return (\"m\")\n",
    "    elif result[0][13] == 1:\n",
    "        return (\"n\")\n",
    "    elif result[0][14] == 1:\n",
    "        return (\"o\")\n",
    "    elif result[0][15] == 1:\n",
    "        return (\"p\")\n",
    "    elif result[0][16] == 1:\n",
    "        return (\"q\")\n",
    "    elif result[0][17] == 1:\n",
    "        return (\"r\")\n",
    "    elif result[0][18] == 1:\n",
    "        return (\"s\")\n",
    "    elif result[0][19] == 1:\n",
    "        return (\"t\")\n",
    "    elif result[0][20] == 1:\n",
    "        return (\"u\")\n",
    "    elif result[0][21] == 1:\n",
    "        return (\"v\")\n",
    "    elif result[0][22] == 1:\n",
    "        return (\"w\")\n",
    "    elif result[0][23] == 1:\n",
    "        return (\"x\")\n",
    "    elif result[0][24] == 1:\n",
    "        return (\"y\")\n",
    "    elif result[0][25] == 1:\n",
    "        return (\"z\")\n",
    "    elif result[0][26] == 1:                # Création du symbole <3\n",
    "        return (\"<3\")"
   ]
  },
  {
   "source": [
    "## 7. Purge du dossier contenant les extraits"
   ],
   "cell_type": "markdown",
   "metadata": {}
  },
  {
   "cell_type": "code",
   "execution_count": 9,
   "metadata": {},
   "outputs": [],
   "source": [
    "#Par précaution, le dossier \"extraits\" est purgé avant le traitement de l'image\n",
    "d='extraits'\n",
    "filesToRemove = [os.path.join(d,f) for f in os.listdir(d)]\n",
    "for f in filesToRemove:\n",
    "    os.remove(f) "
   ]
  },
  {
   "source": [
    "## 8. Reconaissance de caractères dans une image"
   ],
   "cell_type": "markdown",
   "metadata": {}
  },
  {
   "cell_type": "code",
   "execution_count": 10,
   "metadata": {},
   "outputs": [
    {
     "output_type": "execute_result",
     "data": {
      "text/plain": [
       "<matplotlib.image.AxesImage at 0x20219a3c588>"
      ]
     },
     "metadata": {},
     "execution_count": 10
    },
    {
     "output_type": "display_data",
     "data": {
      "text/plain": "<Figure size 432x288 with 1 Axes>",
      "image/svg+xml": "<?xml version=\"1.0\" encoding=\"utf-8\" standalone=\"no\"?>\r\n<!DOCTYPE svg PUBLIC \"-//W3C//DTD SVG 1.1//EN\"\r\n  \"http://www.w3.org/Graphics/SVG/1.1/DTD/svg11.dtd\">\r\n<!-- Created with matplotlib (https://matplotlib.org/) -->\r\n<svg height=\"166.549019pt\" version=\"1.1\" viewBox=\"0 0 375.2875 166.549019\" width=\"375.2875pt\" xmlns=\"http://www.w3.org/2000/svg\" xmlns:xlink=\"http://www.w3.org/1999/xlink\">\r\n <metadata>\r\n  <rdf:RDF xmlns:cc=\"http://creativecommons.org/ns#\" xmlns:dc=\"http://purl.org/dc/elements/1.1/\" xmlns:rdf=\"http://www.w3.org/1999/02/22-rdf-syntax-ns#\">\r\n   <cc:Work>\r\n    <dc:type rdf:resource=\"http://purl.org/dc/dcmitype/StillImage\"/>\r\n    <dc:date>2020-11-19T15:07:34.590303</dc:date>\r\n    <dc:format>image/svg+xml</dc:format>\r\n    <dc:creator>\r\n     <cc:Agent>\r\n      <dc:title>Matplotlib v3.3.2, https://matplotlib.org/</dc:title>\r\n     </cc:Agent>\r\n    </dc:creator>\r\n   </cc:Work>\r\n  </rdf:RDF>\r\n </metadata>\r\n <defs>\r\n  <style type=\"text/css\">*{stroke-linecap:butt;stroke-linejoin:round;}</style>\r\n </defs>\r\n <g id=\"figure_1\">\r\n  <g id=\"patch_1\">\r\n   <path d=\"M 0 166.549019 \r\nL 375.2875 166.549019 \r\nL 375.2875 0 \r\nL 0 0 \r\nz\r\n\" style=\"fill:none;\"/>\r\n  </g>\r\n  <g id=\"axes_1\">\r\n   <g id=\"patch_2\">\r\n    <path d=\"M 33.2875 142.670894 \r\nL 368.0875 142.670894 \r\nL 368.0875 10.887916 \r\nL 33.2875 10.887916 \r\nz\r\n\" style=\"fill:#ffffff;\"/>\r\n   </g>\r\n   <g clip-path=\"url(#pf16a1d1bbb)\">\r\n    <image height=\"132\" id=\"image50995a57b8\" transform=\"scale(1 -1)translate(0 -132)\" width=\"335\" x=\"33.2875\" xlink:href=\"data:image/png;base64,\r\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\" y=\"-10.670894\"/>\r\n   </g>\r\n   <g id=\"matplotlib.axis_1\">\r\n    <g id=\"xtick_1\">\r\n     <g id=\"line2d_1\">\r\n      <defs>\r\n       <path d=\"M 0 0 \r\nL 0 3.5 \r\n\" id=\"m96de1c24f4\" style=\"stroke:#000000;stroke-width:0.8;\"/>\r\n      </defs>\r\n      <g>\r\n       <use style=\"stroke:#000000;stroke-width:0.8;\" x=\"33.398803\" xlink:href=\"#m96de1c24f4\" y=\"142.670894\"/>\r\n      </g>\r\n     </g>\r\n     <g id=\"text_1\">\r\n      <!-- 0 -->\r\n      <g transform=\"translate(30.217553 157.269332)scale(0.1 -0.1)\">\r\n       <defs>\r\n        <path d=\"M 31.78125 66.40625 \r\nQ 24.171875 66.40625 20.328125 58.90625 \r\nQ 16.5 51.421875 16.5 36.375 \r\nQ 16.5 21.390625 20.328125 13.890625 \r\nQ 24.171875 6.390625 31.78125 6.390625 \r\nQ 39.453125 6.390625 43.28125 13.890625 \r\nQ 47.125 21.390625 47.125 36.375 \r\nQ 47.125 51.421875 43.28125 58.90625 \r\nQ 39.453125 66.40625 31.78125 66.40625 \r\nz\r\nM 31.78125 74.21875 \r\nQ 44.046875 74.21875 50.515625 64.515625 \r\nQ 56.984375 54.828125 56.984375 36.375 \r\nQ 56.984375 17.96875 50.515625 8.265625 \r\nQ 44.046875 -1.421875 31.78125 -1.421875 \r\nQ 19.53125 -1.421875 13.0625 8.265625 \r\nQ 6.59375 17.96875 6.59375 36.375 \r\nQ 6.59375 54.828125 13.0625 64.515625 \r\nQ 19.53125 74.21875 31.78125 74.21875 \r\nz\r\n\" id=\"DejaVuSans-48\"/>\r\n       </defs>\r\n       <use xlink:href=\"#DejaVuSans-48\"/>\r\n      </g>\r\n     </g>\r\n    </g>\r\n    <g id=\"xtick_2\">\r\n     <g id=\"line2d_2\">\r\n      <g>\r\n       <use style=\"stroke:#000000;stroke-width:0.8;\" x=\"77.92008\" xlink:href=\"#m96de1c24f4\" y=\"142.670894\"/>\r\n      </g>\r\n     </g>\r\n     <g id=\"text_2\">\r\n      <!-- 200 -->\r\n      <g transform=\"translate(68.37633 157.269332)scale(0.1 -0.1)\">\r\n       <defs>\r\n        <path d=\"M 19.1875 8.296875 \r\nL 53.609375 8.296875 \r\nL 53.609375 0 \r\nL 7.328125 0 \r\nL 7.328125 8.296875 \r\nQ 12.9375 14.109375 22.625 23.890625 \r\nQ 32.328125 33.6875 34.8125 36.53125 \r\nQ 39.546875 41.84375 41.421875 45.53125 \r\nQ 43.3125 49.21875 43.3125 52.78125 \r\nQ 43.3125 58.59375 39.234375 62.25 \r\nQ 35.15625 65.921875 28.609375 65.921875 \r\nQ 23.96875 65.921875 18.8125 64.3125 \r\nQ 13.671875 62.703125 7.8125 59.421875 \r\nL 7.8125 69.390625 \r\nQ 13.765625 71.78125 18.9375 73 \r\nQ 24.125 74.21875 28.421875 74.21875 \r\nQ 39.75 74.21875 46.484375 68.546875 \r\nQ 53.21875 62.890625 53.21875 53.421875 \r\nQ 53.21875 48.921875 51.53125 44.890625 \r\nQ 49.859375 40.875 45.40625 35.40625 \r\nQ 44.1875 33.984375 37.640625 27.21875 \r\nQ 31.109375 20.453125 19.1875 8.296875 \r\nz\r\n\" id=\"DejaVuSans-50\"/>\r\n       </defs>\r\n       <use xlink:href=\"#DejaVuSans-50\"/>\r\n       <use x=\"63.623047\" xlink:href=\"#DejaVuSans-48\"/>\r\n       <use x=\"127.246094\" xlink:href=\"#DejaVuSans-48\"/>\r\n      </g>\r\n     </g>\r\n    </g>\r\n    <g id=\"xtick_3\">\r\n     <g id=\"line2d_3\">\r\n      <g>\r\n       <use style=\"stroke:#000000;stroke-width:0.8;\" x=\"122.441356\" xlink:href=\"#m96de1c24f4\" y=\"142.670894\"/>\r\n      </g>\r\n     </g>\r\n     <g id=\"text_3\">\r\n      <!-- 400 -->\r\n      <g transform=\"translate(112.897606 157.269332)scale(0.1 -0.1)\">\r\n       <defs>\r\n        <path d=\"M 37.796875 64.3125 \r\nL 12.890625 25.390625 \r\nL 37.796875 25.390625 \r\nz\r\nM 35.203125 72.90625 \r\nL 47.609375 72.90625 \r\nL 47.609375 25.390625 \r\nL 58.015625 25.390625 \r\nL 58.015625 17.1875 \r\nL 47.609375 17.1875 \r\nL 47.609375 0 \r\nL 37.796875 0 \r\nL 37.796875 17.1875 \r\nL 4.890625 17.1875 \r\nL 4.890625 26.703125 \r\nz\r\n\" id=\"DejaVuSans-52\"/>\r\n       </defs>\r\n       <use xlink:href=\"#DejaVuSans-52\"/>\r\n       <use x=\"63.623047\" xlink:href=\"#DejaVuSans-48\"/>\r\n       <use x=\"127.246094\" xlink:href=\"#DejaVuSans-48\"/>\r\n      </g>\r\n     </g>\r\n    </g>\r\n    <g id=\"xtick_4\">\r\n     <g id=\"line2d_4\">\r\n      <g>\r\n       <use style=\"stroke:#000000;stroke-width:0.8;\" x=\"166.962633\" xlink:href=\"#m96de1c24f4\" y=\"142.670894\"/>\r\n      </g>\r\n     </g>\r\n     <g id=\"text_4\">\r\n      <!-- 600 -->\r\n      <g transform=\"translate(157.418883 157.269332)scale(0.1 -0.1)\">\r\n       <defs>\r\n        <path d=\"M 33.015625 40.375 \r\nQ 26.375 40.375 22.484375 35.828125 \r\nQ 18.609375 31.296875 18.609375 23.390625 \r\nQ 18.609375 15.53125 22.484375 10.953125 \r\nQ 26.375 6.390625 33.015625 6.390625 \r\nQ 39.65625 6.390625 43.53125 10.953125 \r\nQ 47.40625 15.53125 47.40625 23.390625 \r\nQ 47.40625 31.296875 43.53125 35.828125 \r\nQ 39.65625 40.375 33.015625 40.375 \r\nz\r\nM 52.59375 71.296875 \r\nL 52.59375 62.3125 \r\nQ 48.875 64.0625 45.09375 64.984375 \r\nQ 41.3125 65.921875 37.59375 65.921875 \r\nQ 27.828125 65.921875 22.671875 59.328125 \r\nQ 17.53125 52.734375 16.796875 39.40625 \r\nQ 19.671875 43.65625 24.015625 45.921875 \r\nQ 28.375 48.1875 33.59375 48.1875 \r\nQ 44.578125 48.1875 50.953125 41.515625 \r\nQ 57.328125 34.859375 57.328125 23.390625 \r\nQ 57.328125 12.15625 50.6875 5.359375 \r\nQ 44.046875 -1.421875 33.015625 -1.421875 \r\nQ 20.359375 -1.421875 13.671875 8.265625 \r\nQ 6.984375 17.96875 6.984375 36.375 \r\nQ 6.984375 53.65625 15.1875 63.9375 \r\nQ 23.390625 74.21875 37.203125 74.21875 \r\nQ 40.921875 74.21875 44.703125 73.484375 \r\nQ 48.484375 72.75 52.59375 71.296875 \r\nz\r\n\" id=\"DejaVuSans-54\"/>\r\n       </defs>\r\n       <use xlink:href=\"#DejaVuSans-54\"/>\r\n       <use x=\"63.623047\" xlink:href=\"#DejaVuSans-48\"/>\r\n       <use x=\"127.246094\" xlink:href=\"#DejaVuSans-48\"/>\r\n      </g>\r\n     </g>\r\n    </g>\r\n    <g id=\"xtick_5\">\r\n     <g id=\"line2d_5\">\r\n      <g>\r\n       <use style=\"stroke:#000000;stroke-width:0.8;\" x=\"211.48391\" xlink:href=\"#m96de1c24f4\" y=\"142.670894\"/>\r\n      </g>\r\n     </g>\r\n     <g id=\"text_5\">\r\n      <!-- 800 -->\r\n      <g transform=\"translate(201.94016 157.269332)scale(0.1 -0.1)\">\r\n       <defs>\r\n        <path d=\"M 31.78125 34.625 \r\nQ 24.75 34.625 20.71875 30.859375 \r\nQ 16.703125 27.09375 16.703125 20.515625 \r\nQ 16.703125 13.921875 20.71875 10.15625 \r\nQ 24.75 6.390625 31.78125 6.390625 \r\nQ 38.8125 6.390625 42.859375 10.171875 \r\nQ 46.921875 13.96875 46.921875 20.515625 \r\nQ 46.921875 27.09375 42.890625 30.859375 \r\nQ 38.875 34.625 31.78125 34.625 \r\nz\r\nM 21.921875 38.8125 \r\nQ 15.578125 40.375 12.03125 44.71875 \r\nQ 8.5 49.078125 8.5 55.328125 \r\nQ 8.5 64.0625 14.71875 69.140625 \r\nQ 20.953125 74.21875 31.78125 74.21875 \r\nQ 42.671875 74.21875 48.875 69.140625 \r\nQ 55.078125 64.0625 55.078125 55.328125 \r\nQ 55.078125 49.078125 51.53125 44.71875 \r\nQ 48 40.375 41.703125 38.8125 \r\nQ 48.828125 37.15625 52.796875 32.3125 \r\nQ 56.78125 27.484375 56.78125 20.515625 \r\nQ 56.78125 9.90625 50.3125 4.234375 \r\nQ 43.84375 -1.421875 31.78125 -1.421875 \r\nQ 19.734375 -1.421875 13.25 4.234375 \r\nQ 6.78125 9.90625 6.78125 20.515625 \r\nQ 6.78125 27.484375 10.78125 32.3125 \r\nQ 14.796875 37.15625 21.921875 38.8125 \r\nz\r\nM 18.3125 54.390625 \r\nQ 18.3125 48.734375 21.84375 45.5625 \r\nQ 25.390625 42.390625 31.78125 42.390625 \r\nQ 38.140625 42.390625 41.71875 45.5625 \r\nQ 45.3125 48.734375 45.3125 54.390625 \r\nQ 45.3125 60.0625 41.71875 63.234375 \r\nQ 38.140625 66.40625 31.78125 66.40625 \r\nQ 25.390625 66.40625 21.84375 63.234375 \r\nQ 18.3125 60.0625 18.3125 54.390625 \r\nz\r\n\" id=\"DejaVuSans-56\"/>\r\n       </defs>\r\n       <use xlink:href=\"#DejaVuSans-56\"/>\r\n       <use x=\"63.623047\" xlink:href=\"#DejaVuSans-48\"/>\r\n       <use x=\"127.246094\" xlink:href=\"#DejaVuSans-48\"/>\r\n      </g>\r\n     </g>\r\n    </g>\r\n    <g id=\"xtick_6\">\r\n     <g id=\"line2d_6\">\r\n      <g>\r\n       <use style=\"stroke:#000000;stroke-width:0.8;\" x=\"256.005186\" xlink:href=\"#m96de1c24f4\" y=\"142.670894\"/>\r\n      </g>\r\n     </g>\r\n     <g id=\"text_6\">\r\n      <!-- 1000 -->\r\n      <g transform=\"translate(243.280186 157.269332)scale(0.1 -0.1)\">\r\n       <defs>\r\n        <path d=\"M 12.40625 8.296875 \r\nL 28.515625 8.296875 \r\nL 28.515625 63.921875 \r\nL 10.984375 60.40625 \r\nL 10.984375 69.390625 \r\nL 28.421875 72.90625 \r\nL 38.28125 72.90625 \r\nL 38.28125 8.296875 \r\nL 54.390625 8.296875 \r\nL 54.390625 0 \r\nL 12.40625 0 \r\nz\r\n\" id=\"DejaVuSans-49\"/>\r\n       </defs>\r\n       <use xlink:href=\"#DejaVuSans-49\"/>\r\n       <use x=\"63.623047\" xlink:href=\"#DejaVuSans-48\"/>\r\n       <use x=\"127.246094\" xlink:href=\"#DejaVuSans-48\"/>\r\n       <use x=\"190.869141\" xlink:href=\"#DejaVuSans-48\"/>\r\n      </g>\r\n     </g>\r\n    </g>\r\n    <g id=\"xtick_7\">\r\n     <g id=\"line2d_7\">\r\n      <g>\r\n       <use style=\"stroke:#000000;stroke-width:0.8;\" x=\"300.526463\" xlink:href=\"#m96de1c24f4\" y=\"142.670894\"/>\r\n      </g>\r\n     </g>\r\n     <g id=\"text_7\">\r\n      <!-- 1200 -->\r\n      <g transform=\"translate(287.801463 157.269332)scale(0.1 -0.1)\">\r\n       <use xlink:href=\"#DejaVuSans-49\"/>\r\n       <use x=\"63.623047\" xlink:href=\"#DejaVuSans-50\"/>\r\n       <use x=\"127.246094\" xlink:href=\"#DejaVuSans-48\"/>\r\n       <use x=\"190.869141\" xlink:href=\"#DejaVuSans-48\"/>\r\n      </g>\r\n     </g>\r\n    </g>\r\n    <g id=\"xtick_8\">\r\n     <g id=\"line2d_8\">\r\n      <g>\r\n       <use style=\"stroke:#000000;stroke-width:0.8;\" x=\"345.047739\" xlink:href=\"#m96de1c24f4\" y=\"142.670894\"/>\r\n      </g>\r\n     </g>\r\n     <g id=\"text_8\">\r\n      <!-- 1400 -->\r\n      <g transform=\"translate(332.322739 157.269332)scale(0.1 -0.1)\">\r\n       <use xlink:href=\"#DejaVuSans-49\"/>\r\n       <use x=\"63.623047\" xlink:href=\"#DejaVuSans-52\"/>\r\n       <use x=\"127.246094\" xlink:href=\"#DejaVuSans-48\"/>\r\n       <use x=\"190.869141\" xlink:href=\"#DejaVuSans-48\"/>\r\n      </g>\r\n     </g>\r\n    </g>\r\n   </g>\r\n   <g id=\"matplotlib.axis_2\">\r\n    <g id=\"ytick_1\">\r\n     <g id=\"line2d_9\">\r\n      <defs>\r\n       <path d=\"M 0 0 \r\nL -3.5 0 \r\n\" id=\"me8d21a5451\" style=\"stroke:#000000;stroke-width:0.8;\"/>\r\n      </defs>\r\n      <g>\r\n       <use style=\"stroke:#000000;stroke-width:0.8;\" x=\"33.2875\" xlink:href=\"#me8d21a5451\" y=\"10.999219\"/>\r\n      </g>\r\n     </g>\r\n     <g id=\"text_9\">\r\n      <!-- 0 -->\r\n      <g transform=\"translate(19.925 14.798437)scale(0.1 -0.1)\">\r\n       <use xlink:href=\"#DejaVuSans-48\"/>\r\n      </g>\r\n     </g>\r\n    </g>\r\n    <g id=\"ytick_2\">\r\n     <g id=\"line2d_10\">\r\n      <g>\r\n       <use style=\"stroke:#000000;stroke-width:0.8;\" x=\"33.2875\" xlink:href=\"#me8d21a5451\" y=\"33.259857\"/>\r\n      </g>\r\n     </g>\r\n     <g id=\"text_10\">\r\n      <!-- 100 -->\r\n      <g transform=\"translate(7.2 37.059076)scale(0.1 -0.1)\">\r\n       <use xlink:href=\"#DejaVuSans-49\"/>\r\n       <use x=\"63.623047\" xlink:href=\"#DejaVuSans-48\"/>\r\n       <use x=\"127.246094\" xlink:href=\"#DejaVuSans-48\"/>\r\n      </g>\r\n     </g>\r\n    </g>\r\n    <g id=\"ytick_3\">\r\n     <g id=\"line2d_11\">\r\n      <g>\r\n       <use style=\"stroke:#000000;stroke-width:0.8;\" x=\"33.2875\" xlink:href=\"#me8d21a5451\" y=\"55.520495\"/>\r\n      </g>\r\n     </g>\r\n     <g id=\"text_11\">\r\n      <!-- 200 -->\r\n      <g transform=\"translate(7.2 59.319714)scale(0.1 -0.1)\">\r\n       <use xlink:href=\"#DejaVuSans-50\"/>\r\n       <use x=\"63.623047\" xlink:href=\"#DejaVuSans-48\"/>\r\n       <use x=\"127.246094\" xlink:href=\"#DejaVuSans-48\"/>\r\n      </g>\r\n     </g>\r\n    </g>\r\n    <g id=\"ytick_4\">\r\n     <g id=\"line2d_12\">\r\n      <g>\r\n       <use style=\"stroke:#000000;stroke-width:0.8;\" x=\"33.2875\" xlink:href=\"#me8d21a5451\" y=\"77.781134\"/>\r\n      </g>\r\n     </g>\r\n     <g id=\"text_12\">\r\n      <!-- 300 -->\r\n      <g transform=\"translate(7.2 81.580352)scale(0.1 -0.1)\">\r\n       <defs>\r\n        <path d=\"M 40.578125 39.3125 \r\nQ 47.65625 37.796875 51.625 33 \r\nQ 55.609375 28.21875 55.609375 21.1875 \r\nQ 55.609375 10.40625 48.1875 4.484375 \r\nQ 40.765625 -1.421875 27.09375 -1.421875 \r\nQ 22.515625 -1.421875 17.65625 -0.515625 \r\nQ 12.796875 0.390625 7.625 2.203125 \r\nL 7.625 11.71875 \r\nQ 11.71875 9.328125 16.59375 8.109375 \r\nQ 21.484375 6.890625 26.8125 6.890625 \r\nQ 36.078125 6.890625 40.9375 10.546875 \r\nQ 45.796875 14.203125 45.796875 21.1875 \r\nQ 45.796875 27.640625 41.28125 31.265625 \r\nQ 36.765625 34.90625 28.71875 34.90625 \r\nL 20.21875 34.90625 \r\nL 20.21875 43.015625 \r\nL 29.109375 43.015625 \r\nQ 36.375 43.015625 40.234375 45.921875 \r\nQ 44.09375 48.828125 44.09375 54.296875 \r\nQ 44.09375 59.90625 40.109375 62.90625 \r\nQ 36.140625 65.921875 28.71875 65.921875 \r\nQ 24.65625 65.921875 20.015625 65.03125 \r\nQ 15.375 64.15625 9.8125 62.3125 \r\nL 9.8125 71.09375 \r\nQ 15.4375 72.65625 20.34375 73.4375 \r\nQ 25.25 74.21875 29.59375 74.21875 \r\nQ 40.828125 74.21875 47.359375 69.109375 \r\nQ 53.90625 64.015625 53.90625 55.328125 \r\nQ 53.90625 49.265625 50.4375 45.09375 \r\nQ 46.96875 40.921875 40.578125 39.3125 \r\nz\r\n\" id=\"DejaVuSans-51\"/>\r\n       </defs>\r\n       <use xlink:href=\"#DejaVuSans-51\"/>\r\n       <use x=\"63.623047\" xlink:href=\"#DejaVuSans-48\"/>\r\n       <use x=\"127.246094\" xlink:href=\"#DejaVuSans-48\"/>\r\n      </g>\r\n     </g>\r\n    </g>\r\n    <g id=\"ytick_5\">\r\n     <g id=\"line2d_13\">\r\n      <g>\r\n       <use style=\"stroke:#000000;stroke-width:0.8;\" x=\"33.2875\" xlink:href=\"#me8d21a5451\" y=\"100.041772\"/>\r\n      </g>\r\n     </g>\r\n     <g id=\"text_13\">\r\n      <!-- 400 -->\r\n      <g transform=\"translate(7.2 103.840991)scale(0.1 -0.1)\">\r\n       <use xlink:href=\"#DejaVuSans-52\"/>\r\n       <use x=\"63.623047\" xlink:href=\"#DejaVuSans-48\"/>\r\n       <use x=\"127.246094\" xlink:href=\"#DejaVuSans-48\"/>\r\n      </g>\r\n     </g>\r\n    </g>\r\n    <g id=\"ytick_6\">\r\n     <g id=\"line2d_14\">\r\n      <g>\r\n       <use style=\"stroke:#000000;stroke-width:0.8;\" x=\"33.2875\" xlink:href=\"#me8d21a5451\" y=\"122.30241\"/>\r\n      </g>\r\n     </g>\r\n     <g id=\"text_14\">\r\n      <!-- 500 -->\r\n      <g transform=\"translate(7.2 126.101629)scale(0.1 -0.1)\">\r\n       <defs>\r\n        <path d=\"M 10.796875 72.90625 \r\nL 49.515625 72.90625 \r\nL 49.515625 64.59375 \r\nL 19.828125 64.59375 \r\nL 19.828125 46.734375 \r\nQ 21.96875 47.46875 24.109375 47.828125 \r\nQ 26.265625 48.1875 28.421875 48.1875 \r\nQ 40.625 48.1875 47.75 41.5 \r\nQ 54.890625 34.8125 54.890625 23.390625 \r\nQ 54.890625 11.625 47.5625 5.09375 \r\nQ 40.234375 -1.421875 26.90625 -1.421875 \r\nQ 22.3125 -1.421875 17.546875 -0.640625 \r\nQ 12.796875 0.140625 7.71875 1.703125 \r\nL 7.71875 11.625 \r\nQ 12.109375 9.234375 16.796875 8.0625 \r\nQ 21.484375 6.890625 26.703125 6.890625 \r\nQ 35.15625 6.890625 40.078125 11.328125 \r\nQ 45.015625 15.765625 45.015625 23.390625 \r\nQ 45.015625 31 40.078125 35.4375 \r\nQ 35.15625 39.890625 26.703125 39.890625 \r\nQ 22.75 39.890625 18.8125 39.015625 \r\nQ 14.890625 38.140625 10.796875 36.28125 \r\nz\r\n\" id=\"DejaVuSans-53\"/>\r\n       </defs>\r\n       <use xlink:href=\"#DejaVuSans-53\"/>\r\n       <use x=\"63.623047\" xlink:href=\"#DejaVuSans-48\"/>\r\n       <use x=\"127.246094\" xlink:href=\"#DejaVuSans-48\"/>\r\n      </g>\r\n     </g>\r\n    </g>\r\n   </g>\r\n   <g id=\"patch_3\">\r\n    <path d=\"M 33.2875 142.670894 \r\nL 33.2875 10.887916 \r\n\" style=\"fill:none;stroke:#000000;stroke-linecap:square;stroke-linejoin:miter;stroke-width:0.8;\"/>\r\n   </g>\r\n   <g id=\"patch_4\">\r\n    <path d=\"M 368.0875 142.670894 \r\nL 368.0875 10.887916 \r\n\" style=\"fill:none;stroke:#000000;stroke-linecap:square;stroke-linejoin:miter;stroke-width:0.8;\"/>\r\n   </g>\r\n   <g id=\"patch_5\">\r\n    <path d=\"M 33.2875 142.670894 \r\nL 368.0875 142.670894 \r\n\" style=\"fill:none;stroke:#000000;stroke-linecap:square;stroke-linejoin:miter;stroke-width:0.8;\"/>\r\n   </g>\r\n   <g id=\"patch_6\">\r\n    <path d=\"M 33.2875 10.887916 \r\nL 368.0875 10.887916 \r\n\" style=\"fill:none;stroke:#000000;stroke-linecap:square;stroke-linejoin:miter;stroke-width:0.8;\"/>\r\n   </g>\r\n  </g>\r\n </g>\r\n <defs>\r\n  <clipPath id=\"pf16a1d1bbb\">\r\n   <rect height=\"131.782979\" width=\"334.8\" x=\"33.2875\" y=\"10.887916\"/>\r\n  </clipPath>\r\n </defs>\r\n</svg>\r\n",
      "image/png": "[encoded data removed]"
     },
     "metadata": {
      "needs_background": "light"
     }
    }
   ],
   "source": [
    "#Chargement de l'image\n",
    "img = cv2.imread('assets/imagedentrainement.jpeg')\n",
    "img = cv2.bitwise_not(img)\n",
    "imgray = cv2.cvtColor(img, cv2.COLOR_BGR2GRAY)\n",
    "ret, thresh = cv2.threshold(imgray, 127, 255, 0)\n",
    "_, contours, _ = cv2.findContours(thresh, cv2.RETR_TREE, cv2.CHAIN_APPROX_NONE)\n",
    "\n",
    "#Cette incrémentation a pour but de donner un nom différent aux extraits de l'image\n",
    "inc = 0\n",
    "\n",
    "#Cette boucle permet de détecter les extraits, de les enregistrer dans le dossier \"extraits\", et d'identifier le contenu de l'image\n",
    "\n",
    "for cnt in contours:\n",
    "    \n",
    "    #Récupération des coordonnées des extraits\n",
    "    approx = cv2.approxPolyDP(cnt, 0.01*cv2.arcLength(cnt, True), True)\n",
    "    cv2.drawContours(img, cnt, 0, (0), 1)\n",
    "    x = approx.ravel()[0]\n",
    "    y = approx.ravel()[1]\n",
    "\n",
    "    #Détection d'un motif dans l'image\n",
    "    x, y, w, h = cv2.boundingRect(cnt)\n",
    "\n",
    "    #Pour prévenir les résultats superflus, des conditions concernant la largeur et la hauteur sont imposées\n",
    "    if (w > 5 and h > 30):\n",
    "        inc = inc + 1\n",
    "\n",
    "        #Création du fichier image contenant l'extrait\n",
    "        #Note : pour faciliter la reconnaissance, une encadrement de 16 pixels est ajouté\n",
    "        cv2.imwrite(\"extraits/extrait\" + str(inc) + \".png\", img[y - 16 : y + h + 16, x - 16 : x + w + 16]) \n",
    "\n",
    "        #Chargement de l'image dans la prédiction\n",
    "        choix = r\"extraits\\extrait\" + str(inc) + \".png\"\n",
    "\n",
    "        #Prédiction de l'image\n",
    "        test_image = image.load_img(choix, target_size = (32,32))\n",
    "        test_image = image.img_to_array(test_image)\n",
    "        test_image = np.expand_dims(test_image, axis = 0)\n",
    "        resultat = model.predict(test_image)\n",
    "        resultat = get_result(resultat)\n",
    "        \n",
    "        #Affichage la sélection de l'extrait dans l'image avec le résultat de la reconnaissance\n",
    "        cv2.rectangle(img,(x - 16,y - 16),(x + w + 16,y + h + 16),(0,255,0),2)\n",
    "        cv2.putText(img, resultat, (x, y-10), cv2.FONT_HERSHEY_SIMPLEX, 2, (36,255,12), 2)\n",
    "    \n",
    "#Affichage de l'image contenant le résultat du traitement\n",
    "plt.imshow(img)\n",
    "\n"
   ]
  },
  {
   "cell_type": "code",
   "execution_count": null,
   "metadata": {},
   "outputs": [],
   "source": []
  }
 ]
}