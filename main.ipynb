{
 "metadata": {
  "language_info": {
   "codemirror_mode": {
    "name": "ipython",
    "version": 3
   },
   "file_extension": ".py",
   "mimetype": "text/x-python",
   "name": "python",
   "nbconvert_exporter": "python",
   "pygments_lexer": "ipython3",
   "version": "3.7.1-final"
  },
  "orig_nbformat": 2,
  "kernelspec": {
   "name": "python3",
   "display_name": "Python 3.7.1 64-bit ('ocrreader': conda)",
   "metadata": {
    "interpreter": {
     "hash": "bbb142fe8d36c68dc194dbe39f90a81a6699c01e0bd7c5f774bddd7033ec2865"
    }
   }
  }
 },
 "nbformat": 4,
 "nbformat_minor": 2,
 "cells": [
  {
   "source": [
    "## 0. Import des librairies"
   ],
   "cell_type": "markdown",
   "metadata": {}
  },
  {
   "cell_type": "code",
   "execution_count": 26,
   "metadata": {},
   "outputs": [],
   "source": [
    "import numpy as np\n",
    "import matplotlib.pyplot as plt\n",
    "from keras.preprocessing.image import ImageDataGenerator\n",
    "from keras.preprocessing import image\n",
    "import keras\n",
    "from keras import metrics\n",
    "from keras.models import Sequential\n",
    "from keras.layers import Conv2D, MaxPooling2D, Flatten, Dense, Activation\n",
    "import os\n",
    "import pickle\n",
    "import cv2\n",
    "\n",
    "\n",
    "from src import import_auto      # Ma fonction == optimisation (voir import_auto.py)\n",
    "from src import negatif_test"
   ]
  },
  {
   "source": [
    "## 1. Optimisation et nettoyage des données"
   ],
   "cell_type": "markdown",
   "metadata": {}
  },
  {
   "cell_type": "code",
   "execution_count": 27,
   "metadata": {},
   "outputs": [],
   "source": [
    "# Afin de réduire les temps d'attente et dans un soucis d'optimisation, je decide d'importer une fonction qui prend 200 png par lettres (suffisant ici). Ces images viennent s'ajouter au dossier dataset_reduit_train\n",
    "import_auto.import_fichier_train()"
   ]
  },
  {
   "cell_type": "code",
   "execution_count": 28,
   "metadata": {},
   "outputs": [],
   "source": [
    "# Afin de réduire les temps d'attente et dans un soucis d'optimisation, je decide d'importer une fonction qui prend 3 png par lettres (suffisant ici). Ces images viennent s'ajouter au dossier dataset_reduit_test\n",
    "import_auto.import_fichier_test()"
   ]
  },
  {
   "source": [
    "## 2. Import des Datasets"
   ],
   "cell_type": "markdown",
   "metadata": {}
  },
  {
   "cell_type": "code",
   "execution_count": 29,
   "metadata": {},
   "outputs": [
    {
     "output_type": "stream",
     "name": "stdout",
     "text": [
      "Found 372451 images belonging to 27 classes.\n",
      "Found 105 images belonging to 27 classes.\n"
     ]
    }
   ],
   "source": [
    "# ImageDataGenerator génère des lots de données d'image vectorielles, convertissant les coefficients RVB compris entre 0 et 255 en valeurs cibles comprises entre 0 et 1 par mise à l'échelle avec un facteur de 1/255 à l' aide de la remise à l' échelle\n",
    "\n",
    "train_datagen = ImageDataGenerator(rescale = 1./255,\n",
    "                                   shear_range = 0.2,           # shear_range est utilisé pour appliquer de manière aléatoire des                                                                                                     transformations de cisaillement\n",
    "                                   zoom_range = 0.2,            # zoom_range est utilisé pour zoomer aléatoirement à l'intérieur                                                                                                      des images\n",
    "                                   horizontal_flip = True)      # horizontal_flip est utilisé pour retourner au hasard la moitié                                                                                                      des images horizontalement\n",
    "\n",
    "test_datagen = ImageDataGenerator(rescale = 1./255)\n",
    "\n",
    "\n",
    "# J'importe les images une par une à partir des répertoires en utilisant .flow_from_directory et y appliquons ImageDataGenerator.\n",
    "train_generator = train_datagen.flow_from_directory(\n",
    "    directory = \"data/dataset_reduit_train\",                    # Choix de mon repertoire\n",
    "    target_size = (32,32),                                      # Je converti les images de leur taille d'origine à notre target_size\n",
    "    batch_size = 32,                                            # Nombre batch_size qui fait référence au nombre d'exemples                                                                                                         d'entraînement utilisés dans une itération                                 \n",
    "    class_mode = \"categorical\"                                  # Nous définissons le class_mode sur catégorique indiquant que                                                                                                        nous avons plusieurs classes (a à z) à prédire.\n",
    "\n",
    ")\n",
    "\n",
    "test_generator = test_datagen.flow_from_directory(\n",
    "    directory = \"data/dataset_reduit_test\",\n",
    "    target_size = (32,32),\n",
    "    batch_size = 32,\n",
    "    class_mode = \"categorical\"\n",
    "\n",
    ")"
   ]
  },
  {
   "source": [
    "## 3. Definition du modèle d'architecture"
   ],
   "cell_type": "markdown",
   "metadata": {}
  },
  {
   "cell_type": "code",
   "execution_count": 30,
   "metadata": {},
   "outputs": [
    {
     "output_type": "stream",
     "name": "stdout",
     "text": [
      "Model: \"sequential_3\"\n_________________________________________________________________\nLayer (type)                 Output Shape              Param #   \n=================================================================\nconv2d_5 (Conv2D)            (None, 30, 30, 32)        896       \n_________________________________________________________________\nmax_pooling2d_5 (MaxPooling2 (None, 15, 15, 32)        0         \n_________________________________________________________________\nconv2d_6 (Conv2D)            (None, 13, 13, 32)        9248      \n_________________________________________________________________\nmax_pooling2d_6 (MaxPooling2 (None, 6, 6, 32)          0         \n_________________________________________________________________\nflatten_3 (Flatten)          (None, 1152)              0         \n_________________________________________________________________\ndense_5 (Dense)              (None, 128)               147584    \n_________________________________________________________________\ndense_6 (Dense)              (None, 27)                3483      \n=================================================================\nTotal params: 161,211\nTrainable params: 161,211\nNon-trainable params: 0\n_________________________________________________________________\n"
     ]
    }
   ],
   "source": [
    "# Création d'un modèle séquentiel qui permet de définir l'architecture CNN couche par couche à l'aide de la fonction .add .Nous ajoutons d'abord une couche de convolution avec 32 filtres de taille 3X3 sur les images d'entrée et la passons à travers la fonction d'activation 'relu'.Nous effectuons ensuite des opérations MaxPooling en utilisant un pool de taille 2X2 \n",
    "model = Sequential()\n",
    "model.add(Conv2D(32, (3, 3), input_shape = (32,32,3), activation = \"relu\"))\n",
    "model.add(MaxPooling2D(pool_size = (2, 2)))\n",
    "\n",
    "# Ces couches sont ensuite répétées à nouveau pour améliorer les performances du modèle.\n",
    "\n",
    "model.add(Conv2D(32, (3, 3), activation = \"relu\"))\n",
    "model.add(MaxPooling2D(pool_size = (2, 2)))\n",
    "\n",
    "# Enfin, nous aplatissons notre matrice résultante et la passons à travers une couche dense composée de 128 nœuds. Celui-ci est ensuite connecté à la couche de sortie constituée de 26 nœuds, chaque nœud représentant un alphabet\n",
    "\n",
    "model.add(Flatten())\n",
    "model.add(Dense(units = 128, activation = \"relu\"))\n",
    "model.add(Dense(units = 27, activation = \"softmax\"))            # Activation softmax qui convertit les scores en une distribution de probabilité normalisée, et le                                                                  nœud avec la probabilité la plus élevée est sélectionné comme sortie\n",
    "\n",
    "# Une fois notre architecture CNN définie, nous compilons le modèle à l'aide de l'optimiseur Adam \n",
    "model.compile(optimizer = \"adam\", loss = \"categorical_crossentropy\", metrics = [\"accuracy\"])\n",
    "\n",
    "model.summary()"
   ]
  },
  {
   "source": [
    "## 4. Entrainement du modèle"
   ],
   "cell_type": "markdown",
   "metadata": {}
  },
  {
   "cell_type": "code",
   "execution_count": 31,
   "metadata": {},
   "outputs": [
    {
     "output_type": "stream",
     "name": "stdout",
     "text": [
      "Epoch 1/30\n",
      "32/32 [==============================] - 11s 333ms/step - loss: 2.7325 - accuracy: 0.2559 - val_loss: 3.6025 - val_accuracy: 0.1238\n",
      "Epoch 2/30\n",
      "32/32 [==============================] - 8s 251ms/step - loss: 1.9862 - accuracy: 0.4600 - val_loss: 3.4479 - val_accuracy: 0.2667\n",
      "Epoch 3/30\n",
      "32/32 [==============================] - 7s 230ms/step - loss: 1.4824 - accuracy: 0.5898 - val_loss: 3.3440 - val_accuracy: 0.3714\n",
      "Epoch 4/30\n",
      "32/32 [==============================] - 7s 219ms/step - loss: 1.1254 - accuracy: 0.6650 - val_loss: 3.0269 - val_accuracy: 0.4952\n",
      "Epoch 5/30\n",
      "32/32 [==============================] - 6s 198ms/step - loss: 0.9465 - accuracy: 0.7139 - val_loss: 1.5574 - val_accuracy: 0.4571\n",
      "Epoch 6/30\n",
      "32/32 [==============================] - 6s 201ms/step - loss: 0.8763 - accuracy: 0.7451 - val_loss: 2.8420 - val_accuracy: 0.5905\n",
      "Epoch 7/30\n",
      "32/32 [==============================] - 7s 226ms/step - loss: 0.7941 - accuracy: 0.7607 - val_loss: 2.5150 - val_accuracy: 0.6667\n",
      "Epoch 8/30\n",
      "32/32 [==============================] - 7s 203ms/step - loss: 0.6749 - accuracy: 0.7900 - val_loss: 2.6883 - val_accuracy: 0.6762\n",
      "Epoch 9/30\n",
      "32/32 [==============================] - 8s 237ms/step - loss: 0.6768 - accuracy: 0.7969 - val_loss: 4.9377 - val_accuracy: 0.6667\n",
      "Epoch 10/30\n",
      "32/32 [==============================] - 7s 207ms/step - loss: 0.6910 - accuracy: 0.7871 - val_loss: 0.5592 - val_accuracy: 0.7143\n",
      "Epoch 11/30\n",
      "32/32 [==============================] - 7s 221ms/step - loss: 0.5743 - accuracy: 0.8311 - val_loss: 0.6118 - val_accuracy: 0.7619\n",
      "Epoch 12/30\n",
      "32/32 [==============================] - 6s 200ms/step - loss: 0.5123 - accuracy: 0.8496 - val_loss: 0.9187 - val_accuracy: 0.6952\n",
      "Epoch 13/30\n",
      "32/32 [==============================] - 6s 199ms/step - loss: 0.5482 - accuracy: 0.8291 - val_loss: 3.0313 - val_accuracy: 0.7238\n",
      "Epoch 14/30\n",
      "32/32 [==============================] - 7s 228ms/step - loss: 0.5416 - accuracy: 0.8271 - val_loss: 0.9480 - val_accuracy: 0.7810\n",
      "Epoch 15/30\n",
      "32/32 [==============================] - 6s 198ms/step - loss: 0.5042 - accuracy: 0.8516 - val_loss: 3.1194 - val_accuracy: 0.7524\n",
      "Epoch 16/30\n",
      "32/32 [==============================] - 8s 235ms/step - loss: 0.5125 - accuracy: 0.8525 - val_loss: 0.3563 - val_accuracy: 0.7810\n",
      "Epoch 17/30\n",
      "32/32 [==============================] - 7s 203ms/step - loss: 0.4478 - accuracy: 0.8691 - val_loss: 0.3254 - val_accuracy: 0.8190\n",
      "Epoch 18/30\n",
      "32/32 [==============================] - 7s 223ms/step - loss: 0.4129 - accuracy: 0.8770 - val_loss: 0.1736 - val_accuracy: 0.8095\n",
      "Epoch 19/30\n",
      "32/32 [==============================] - 7s 209ms/step - loss: 0.4396 - accuracy: 0.8770 - val_loss: 1.0071 - val_accuracy: 0.7905\n",
      "Epoch 20/30\n",
      "32/32 [==============================] - 6s 199ms/step - loss: 0.4549 - accuracy: 0.8613 - val_loss: 3.0505 - val_accuracy: 0.8000\n",
      "Epoch 21/30\n",
      "32/32 [==============================] - 7s 231ms/step - loss: 0.4365 - accuracy: 0.8691 - val_loss: 0.3397 - val_accuracy: 0.8571\n",
      "Epoch 22/30\n",
      "32/32 [==============================] - 6s 201ms/step - loss: 0.3629 - accuracy: 0.8926 - val_loss: 0.3212 - val_accuracy: 0.8000\n",
      "Epoch 23/30\n",
      "32/32 [==============================] - 7s 233ms/step - loss: 0.4213 - accuracy: 0.8779 - val_loss: 1.1637 - val_accuracy: 0.8190\n",
      "Epoch 24/30\n",
      "32/32 [==============================] - 6s 201ms/step - loss: 0.3689 - accuracy: 0.8984 - val_loss: 0.3792 - val_accuracy: 0.8667\n",
      "Epoch 25/30\n",
      "32/32 [==============================] - 7s 217ms/step - loss: 0.3489 - accuracy: 0.9004 - val_loss: 0.4710 - val_accuracy: 0.8190\n",
      "Epoch 26/30\n",
      "32/32 [==============================] - 7s 212ms/step - loss: 0.3346 - accuracy: 0.8975 - val_loss: 0.1991 - val_accuracy: 0.8667\n",
      "Epoch 27/30\n",
      "32/32 [==============================] - 7s 212ms/step - loss: 0.3658 - accuracy: 0.8887 - val_loss: 0.0948 - val_accuracy: 0.8762\n",
      "Epoch 28/30\n",
      "32/32 [==============================] - 7s 233ms/step - loss: 0.3925 - accuracy: 0.8838 - val_loss: 1.4409 - val_accuracy: 0.8667\n",
      "Epoch 29/30\n",
      "32/32 [==============================] - 7s 207ms/step - loss: 0.4193 - accuracy: 0.8760 - val_loss: 2.8536 - val_accuracy: 0.8476\n",
      "Epoch 30/30\n",
      "32/32 [==============================] - 7s 223ms/step - loss: 0.3775 - accuracy: 0.8799 - val_loss: 0.6408 - val_accuracy: 0.8381\n"
     ]
    }
   ],
   "source": [
    "# Je décide de créer 30 répétitions, et j'ai X2 les steps_per_epoch pour augmenter notre précision\n",
    "\n",
    "entrainement = model.fit_generator(train_generator,\n",
    "                         steps_per_epoch = 32,\n",
    "                         epochs = 30,\n",
    "                         validation_data = test_generator,\n",
    "                         validation_steps = 32)\n"
   ]
  },
  {
   "source": [
    "## 5. Enregistrement & chargement du modèle"
   ],
   "cell_type": "markdown",
   "metadata": {}
  },
  {
   "cell_type": "code",
   "execution_count": 32,
   "metadata": {},
   "outputs": [],
   "source": [
    "pickle.dump(model, open(\"mon_model.sav\", \"wb\"))\n",
    "model = pickle.load(open(\"mon_model.sav\",\"rb\"))"
   ]
  },
  {
   "source": [
    "## 6. Création d'une fonction qui renvois l'alphabet associé au résultat"
   ],
   "cell_type": "markdown",
   "metadata": {}
  },
  {
   "cell_type": "code",
   "execution_count": 33,
   "metadata": {},
   "outputs": [],
   "source": [
    "def get_result(result):\n",
    "    if result[0][0] == 1:\n",
    "        return(\"a\")\n",
    "    elif result[0][1] == 1:\n",
    "        return (\"b\")\n",
    "    elif result[0][2] == 1:\n",
    "        return (\"c\")\n",
    "    elif result[0][3] == 1:\n",
    "        return (\"d\")\n",
    "    elif result[0][4] == 1:\n",
    "        return (\"e\")\n",
    "    elif result[0][5] == 1:\n",
    "        return (\"f\")\n",
    "    elif result[0][6] == 1:\n",
    "        return (\"g\")\n",
    "    elif result[0][7] == 1:\n",
    "        return (\"h\")\n",
    "    elif result[0][8] == 1:\n",
    "        return (\"i\")\n",
    "    elif result[0][9] == 1:\n",
    "        return (\"j\")\n",
    "    elif result[0][10] == 1:\n",
    "        return (\"k\")\n",
    "    elif result[0][11] == 1:\n",
    "        return (\"l\")\n",
    "    elif result[0][12] == 1:\n",
    "        return (\"m\")\n",
    "    elif result[0][13] == 1:\n",
    "        return (\"n\")\n",
    "    elif result[0][14] == 1:\n",
    "        return (\"o\")\n",
    "    elif result[0][15] == 1:\n",
    "        return (\"p\")\n",
    "    elif result[0][16] == 1:\n",
    "        return (\"q\")\n",
    "    elif result[0][17] == 1:\n",
    "        return (\"r\")\n",
    "    elif result[0][18] == 1:\n",
    "        return (\"s\")\n",
    "    elif result[0][19] == 1:\n",
    "        return (\"t\")\n",
    "    elif result[0][20] == 1:\n",
    "        return (\"u\")\n",
    "    elif result[0][21] == 1:\n",
    "        return (\"v\")\n",
    "    elif result[0][22] == 1:\n",
    "        return (\"w\")\n",
    "    elif result[0][23] == 1:\n",
    "        return (\"x\")\n",
    "    elif result[0][24] == 1:\n",
    "        return (\"y\")\n",
    "    elif result[0][25] == 1:\n",
    "        return (\"z\")\n",
    "    elif result[0][26] == 1:                # Création du symbole <3\n",
    "        return (\"<3\")"
   ]
  },
  {
   "source": [
    "## 7. Purge du dossier contenant les extraits"
   ],
   "cell_type": "markdown",
   "metadata": {}
  },
  {
   "cell_type": "code",
   "execution_count": 34,
   "metadata": {},
   "outputs": [],
   "source": [
    "#Par précaution, le dossier \"extraits\" est purgé avant le traitement de l'image\n",
    "d='extraits'\n",
    "filesToRemove = [os.path.join(d,f) for f in os.listdir(d)]\n",
    "for f in filesToRemove:\n",
    "    os.remove(f) "
   ]
  },
  {
   "source": [
    "## 8. Reconaissance de caractères dans une image"
   ],
   "cell_type": "markdown",
   "metadata": {}
  },
  {
   "cell_type": "code",
   "execution_count": 35,
   "metadata": {},
   "outputs": [
    {
     "output_type": "execute_result",
     "data": {
      "text/plain": [
       "<matplotlib.image.AxesImage at 0x21d8f2a0e48>"
      ]
     },
     "metadata": {},
     "execution_count": 35
    },
    {
     "output_type": "display_data",
     "data": {
      "text/plain": "<Figure size 432x288 with 1 Axes>",
      "image/svg+xml": "<?xml version=\"1.0\" encoding=\"utf-8\" standalone=\"no\"?>\r\n<!DOCTYPE svg PUBLIC \"-//W3C//DTD SVG 1.1//EN\"\r\n  \"http://www.w3.org/Graphics/SVG/1.1/DTD/svg11.dtd\">\r\n<!-- Created with matplotlib (https://matplotlib.org/) -->\r\n<svg height=\"166.549019pt\" version=\"1.1\" viewBox=\"0 0 375.2875 166.549019\" width=\"375.2875pt\" xmlns=\"http://www.w3.org/2000/svg\" xmlns:xlink=\"http://www.w3.org/1999/xlink\">\r\n <metadata>\r\n  <rdf:RDF xmlns:cc=\"http://creativecommons.org/ns#\" xmlns:dc=\"http://purl.org/dc/elements/1.1/\" xmlns:rdf=\"http://www.w3.org/1999/02/22-rdf-syntax-ns#\">\r\n   <cc:Work>\r\n    <dc:type rdf:resource=\"http://purl.org/dc/dcmitype/StillImage\"/>\r\n    <dc:date>2020-11-19T14:44:44.766160</dc:date>\r\n    <dc:format>image/svg+xml</dc:format>\r\n    <dc:creator>\r\n     <cc:Agent>\r\n      <dc:title>Matplotlib v3.3.2, https://matplotlib.org/</dc:title>\r\n     </cc:Agent>\r\n    </dc:creator>\r\n   </cc:Work>\r\n  </rdf:RDF>\r\n </metadata>\r\n <defs>\r\n  <style type=\"text/css\">*{stroke-linecap:butt;stroke-linejoin:round;}</style>\r\n </defs>\r\n <g id=\"figure_1\">\r\n  <g id=\"patch_1\">\r\n   <path d=\"M 0 166.549019 \r\nL 375.2875 166.549019 \r\nL 375.2875 0 \r\nL 0 0 \r\nz\r\n\" style=\"fill:none;\"/>\r\n  </g>\r\n  <g id=\"axes_1\">\r\n   <g id=\"patch_2\">\r\n    <path d=\"M 33.2875 142.670894 \r\nL 368.0875 142.670894 \r\nL 368.0875 10.887916 \r\nL 33.2875 10.887916 \r\nz\r\n\" style=\"fill:#ffffff;\"/>\r\n   </g>\r\n   <g clip-path=\"url(#pac29049e11)\">\r\n    <image height=\"132\" id=\"imaged853c40a93\" transform=\"scale(1 -1)translate(0 -132)\" width=\"335\" x=\"33.2875\" xlink:href=\"data:image/png;base64,\r\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\" y=\"-10.670894\"/>\r\n   </g>\r\n   <g id=\"matplotlib.axis_1\">\r\n    <g id=\"xtick_1\">\r\n     <g id=\"line2d_1\">\r\n      <defs>\r\n       <path d=\"M 0 0 \r\nL 0 3.5 \r\n\" id=\"m57e2c78d67\" style=\"stroke:#000000;stroke-width:0.8;\"/>\r\n      </defs>\r\n      <g>\r\n       <use style=\"stroke:#000000;stroke-width:0.8;\" x=\"33.398803\" xlink:href=\"#m57e2c78d67\" y=\"142.670894\"/>\r\n      </g>\r\n     </g>\r\n     <g id=\"text_1\">\r\n      <!-- 0 -->\r\n      <g transform=\"translate(30.217553 157.269332)scale(0.1 -0.1)\">\r\n       <defs>\r\n        <path d=\"M 31.78125 66.40625 \r\nQ 24.171875 66.40625 20.328125 58.90625 \r\nQ 16.5 51.421875 16.5 36.375 \r\nQ 16.5 21.390625 20.328125 13.890625 \r\nQ 24.171875 6.390625 31.78125 6.390625 \r\nQ 39.453125 6.390625 43.28125 13.890625 \r\nQ 47.125 21.390625 47.125 36.375 \r\nQ 47.125 51.421875 43.28125 58.90625 \r\nQ 39.453125 66.40625 31.78125 66.40625 \r\nz\r\nM 31.78125 74.21875 \r\nQ 44.046875 74.21875 50.515625 64.515625 \r\nQ 56.984375 54.828125 56.984375 36.375 \r\nQ 56.984375 17.96875 50.515625 8.265625 \r\nQ 44.046875 -1.421875 31.78125 -1.421875 \r\nQ 19.53125 -1.421875 13.0625 8.265625 \r\nQ 6.59375 17.96875 6.59375 36.375 \r\nQ 6.59375 54.828125 13.0625 64.515625 \r\nQ 19.53125 74.21875 31.78125 74.21875 \r\nz\r\n\" id=\"DejaVuSans-48\"/>\r\n       </defs>\r\n       <use xlink:href=\"#DejaVuSans-48\"/>\r\n      </g>\r\n     </g>\r\n    </g>\r\n    <g id=\"xtick_2\">\r\n     <g id=\"line2d_2\">\r\n      <g>\r\n       <use style=\"stroke:#000000;stroke-width:0.8;\" x=\"77.92008\" xlink:href=\"#m57e2c78d67\" y=\"142.670894\"/>\r\n      </g>\r\n     </g>\r\n     <g id=\"text_2\">\r\n      <!-- 200 -->\r\n      <g transform=\"translate(68.37633 157.269332)scale(0.1 -0.1)\">\r\n       <defs>\r\n        <path d=\"M 19.1875 8.296875 \r\nL 53.609375 8.296875 \r\nL 53.609375 0 \r\nL 7.328125 0 \r\nL 7.328125 8.296875 \r\nQ 12.9375 14.109375 22.625 23.890625 \r\nQ 32.328125 33.6875 34.8125 36.53125 \r\nQ 39.546875 41.84375 41.421875 45.53125 \r\nQ 43.3125 49.21875 43.3125 52.78125 \r\nQ 43.3125 58.59375 39.234375 62.25 \r\nQ 35.15625 65.921875 28.609375 65.921875 \r\nQ 23.96875 65.921875 18.8125 64.3125 \r\nQ 13.671875 62.703125 7.8125 59.421875 \r\nL 7.8125 69.390625 \r\nQ 13.765625 71.78125 18.9375 73 \r\nQ 24.125 74.21875 28.421875 74.21875 \r\nQ 39.75 74.21875 46.484375 68.546875 \r\nQ 53.21875 62.890625 53.21875 53.421875 \r\nQ 53.21875 48.921875 51.53125 44.890625 \r\nQ 49.859375 40.875 45.40625 35.40625 \r\nQ 44.1875 33.984375 37.640625 27.21875 \r\nQ 31.109375 20.453125 19.1875 8.296875 \r\nz\r\n\" id=\"DejaVuSans-50\"/>\r\n       </defs>\r\n       <use xlink:href=\"#DejaVuSans-50\"/>\r\n       <use x=\"63.623047\" xlink:href=\"#DejaVuSans-48\"/>\r\n       <use x=\"127.246094\" xlink:href=\"#DejaVuSans-48\"/>\r\n      </g>\r\n     </g>\r\n    </g>\r\n    <g id=\"xtick_3\">\r\n     <g id=\"line2d_3\">\r\n      <g>\r\n       <use style=\"stroke:#000000;stroke-width:0.8;\" x=\"122.441356\" xlink:href=\"#m57e2c78d67\" y=\"142.670894\"/>\r\n      </g>\r\n     </g>\r\n     <g id=\"text_3\">\r\n      <!-- 400 -->\r\n      <g transform=\"translate(112.897606 157.269332)scale(0.1 -0.1)\">\r\n       <defs>\r\n        <path d=\"M 37.796875 64.3125 \r\nL 12.890625 25.390625 \r\nL 37.796875 25.390625 \r\nz\r\nM 35.203125 72.90625 \r\nL 47.609375 72.90625 \r\nL 47.609375 25.390625 \r\nL 58.015625 25.390625 \r\nL 58.015625 17.1875 \r\nL 47.609375 17.1875 \r\nL 47.609375 0 \r\nL 37.796875 0 \r\nL 37.796875 17.1875 \r\nL 4.890625 17.1875 \r\nL 4.890625 26.703125 \r\nz\r\n\" id=\"DejaVuSans-52\"/>\r\n       </defs>\r\n       <use xlink:href=\"#DejaVuSans-52\"/>\r\n       <use x=\"63.623047\" xlink:href=\"#DejaVuSans-48\"/>\r\n       <use x=\"127.246094\" xlink:href=\"#DejaVuSans-48\"/>\r\n      </g>\r\n     </g>\r\n    </g>\r\n    <g id=\"xtick_4\">\r\n     <g id=\"line2d_4\">\r\n      <g>\r\n       <use style=\"stroke:#000000;stroke-width:0.8;\" x=\"166.962633\" xlink:href=\"#m57e2c78d67\" y=\"142.670894\"/>\r\n      </g>\r\n     </g>\r\n     <g id=\"text_4\">\r\n      <!-- 600 -->\r\n      <g transform=\"translate(157.418883 157.269332)scale(0.1 -0.1)\">\r\n       <defs>\r\n        <path d=\"M 33.015625 40.375 \r\nQ 26.375 40.375 22.484375 35.828125 \r\nQ 18.609375 31.296875 18.609375 23.390625 \r\nQ 18.609375 15.53125 22.484375 10.953125 \r\nQ 26.375 6.390625 33.015625 6.390625 \r\nQ 39.65625 6.390625 43.53125 10.953125 \r\nQ 47.40625 15.53125 47.40625 23.390625 \r\nQ 47.40625 31.296875 43.53125 35.828125 \r\nQ 39.65625 40.375 33.015625 40.375 \r\nz\r\nM 52.59375 71.296875 \r\nL 52.59375 62.3125 \r\nQ 48.875 64.0625 45.09375 64.984375 \r\nQ 41.3125 65.921875 37.59375 65.921875 \r\nQ 27.828125 65.921875 22.671875 59.328125 \r\nQ 17.53125 52.734375 16.796875 39.40625 \r\nQ 19.671875 43.65625 24.015625 45.921875 \r\nQ 28.375 48.1875 33.59375 48.1875 \r\nQ 44.578125 48.1875 50.953125 41.515625 \r\nQ 57.328125 34.859375 57.328125 23.390625 \r\nQ 57.328125 12.15625 50.6875 5.359375 \r\nQ 44.046875 -1.421875 33.015625 -1.421875 \r\nQ 20.359375 -1.421875 13.671875 8.265625 \r\nQ 6.984375 17.96875 6.984375 36.375 \r\nQ 6.984375 53.65625 15.1875 63.9375 \r\nQ 23.390625 74.21875 37.203125 74.21875 \r\nQ 40.921875 74.21875 44.703125 73.484375 \r\nQ 48.484375 72.75 52.59375 71.296875 \r\nz\r\n\" id=\"DejaVuSans-54\"/>\r\n       </defs>\r\n       <use xlink:href=\"#DejaVuSans-54\"/>\r\n       <use x=\"63.623047\" xlink:href=\"#DejaVuSans-48\"/>\r\n       <use x=\"127.246094\" xlink:href=\"#DejaVuSans-48\"/>\r\n      </g>\r\n     </g>\r\n    </g>\r\n    <g id=\"xtick_5\">\r\n     <g id=\"line2d_5\">\r\n      <g>\r\n       <use style=\"stroke:#000000;stroke-width:0.8;\" x=\"211.48391\" xlink:href=\"#m57e2c78d67\" y=\"142.670894\"/>\r\n      </g>\r\n     </g>\r\n     <g id=\"text_5\">\r\n      <!-- 800 -->\r\n      <g transform=\"translate(201.94016 157.269332)scale(0.1 -0.1)\">\r\n       <defs>\r\n        <path d=\"M 31.78125 34.625 \r\nQ 24.75 34.625 20.71875 30.859375 \r\nQ 16.703125 27.09375 16.703125 20.515625 \r\nQ 16.703125 13.921875 20.71875 10.15625 \r\nQ 24.75 6.390625 31.78125 6.390625 \r\nQ 38.8125 6.390625 42.859375 10.171875 \r\nQ 46.921875 13.96875 46.921875 20.515625 \r\nQ 46.921875 27.09375 42.890625 30.859375 \r\nQ 38.875 34.625 31.78125 34.625 \r\nz\r\nM 21.921875 38.8125 \r\nQ 15.578125 40.375 12.03125 44.71875 \r\nQ 8.5 49.078125 8.5 55.328125 \r\nQ 8.5 64.0625 14.71875 69.140625 \r\nQ 20.953125 74.21875 31.78125 74.21875 \r\nQ 42.671875 74.21875 48.875 69.140625 \r\nQ 55.078125 64.0625 55.078125 55.328125 \r\nQ 55.078125 49.078125 51.53125 44.71875 \r\nQ 48 40.375 41.703125 38.8125 \r\nQ 48.828125 37.15625 52.796875 32.3125 \r\nQ 56.78125 27.484375 56.78125 20.515625 \r\nQ 56.78125 9.90625 50.3125 4.234375 \r\nQ 43.84375 -1.421875 31.78125 -1.421875 \r\nQ 19.734375 -1.421875 13.25 4.234375 \r\nQ 6.78125 9.90625 6.78125 20.515625 \r\nQ 6.78125 27.484375 10.78125 32.3125 \r\nQ 14.796875 37.15625 21.921875 38.8125 \r\nz\r\nM 18.3125 54.390625 \r\nQ 18.3125 48.734375 21.84375 45.5625 \r\nQ 25.390625 42.390625 31.78125 42.390625 \r\nQ 38.140625 42.390625 41.71875 45.5625 \r\nQ 45.3125 48.734375 45.3125 54.390625 \r\nQ 45.3125 60.0625 41.71875 63.234375 \r\nQ 38.140625 66.40625 31.78125 66.40625 \r\nQ 25.390625 66.40625 21.84375 63.234375 \r\nQ 18.3125 60.0625 18.3125 54.390625 \r\nz\r\n\" id=\"DejaVuSans-56\"/>\r\n       </defs>\r\n       <use xlink:href=\"#DejaVuSans-56\"/>\r\n       <use x=\"63.623047\" xlink:href=\"#DejaVuSans-48\"/>\r\n       <use x=\"127.246094\" xlink:href=\"#DejaVuSans-48\"/>\r\n      </g>\r\n     </g>\r\n    </g>\r\n    <g id=\"xtick_6\">\r\n     <g id=\"line2d_6\">\r\n      <g>\r\n       <use style=\"stroke:#000000;stroke-width:0.8;\" x=\"256.005186\" xlink:href=\"#m57e2c78d67\" y=\"142.670894\"/>\r\n      </g>\r\n     </g>\r\n     <g id=\"text_6\">\r\n      <!-- 1000 -->\r\n      <g transform=\"translate(243.280186 157.269332)scale(0.1 -0.1)\">\r\n       <defs>\r\n        <path d=\"M 12.40625 8.296875 \r\nL 28.515625 8.296875 \r\nL 28.515625 63.921875 \r\nL 10.984375 60.40625 \r\nL 10.984375 69.390625 \r\nL 28.421875 72.90625 \r\nL 38.28125 72.90625 \r\nL 38.28125 8.296875 \r\nL 54.390625 8.296875 \r\nL 54.390625 0 \r\nL 12.40625 0 \r\nz\r\n\" id=\"DejaVuSans-49\"/>\r\n       </defs>\r\n       <use xlink:href=\"#DejaVuSans-49\"/>\r\n       <use x=\"63.623047\" xlink:href=\"#DejaVuSans-48\"/>\r\n       <use x=\"127.246094\" xlink:href=\"#DejaVuSans-48\"/>\r\n       <use x=\"190.869141\" xlink:href=\"#DejaVuSans-48\"/>\r\n      </g>\r\n     </g>\r\n    </g>\r\n    <g id=\"xtick_7\">\r\n     <g id=\"line2d_7\">\r\n      <g>\r\n       <use style=\"stroke:#000000;stroke-width:0.8;\" x=\"300.526463\" xlink:href=\"#m57e2c78d67\" y=\"142.670894\"/>\r\n      </g>\r\n     </g>\r\n     <g id=\"text_7\">\r\n      <!-- 1200 -->\r\n      <g transform=\"translate(287.801463 157.269332)scale(0.1 -0.1)\">\r\n       <use xlink:href=\"#DejaVuSans-49\"/>\r\n       <use x=\"63.623047\" xlink:href=\"#DejaVuSans-50\"/>\r\n       <use x=\"127.246094\" xlink:href=\"#DejaVuSans-48\"/>\r\n       <use x=\"190.869141\" xlink:href=\"#DejaVuSans-48\"/>\r\n      </g>\r\n     </g>\r\n    </g>\r\n    <g id=\"xtick_8\">\r\n     <g id=\"line2d_8\">\r\n      <g>\r\n       <use style=\"stroke:#000000;stroke-width:0.8;\" x=\"345.047739\" xlink:href=\"#m57e2c78d67\" y=\"142.670894\"/>\r\n      </g>\r\n     </g>\r\n     <g id=\"text_8\">\r\n      <!-- 1400 -->\r\n      <g transform=\"translate(332.322739 157.269332)scale(0.1 -0.1)\">\r\n       <use xlink:href=\"#DejaVuSans-49\"/>\r\n       <use x=\"63.623047\" xlink:href=\"#DejaVuSans-52\"/>\r\n       <use x=\"127.246094\" xlink:href=\"#DejaVuSans-48\"/>\r\n       <use x=\"190.869141\" xlink:href=\"#DejaVuSans-48\"/>\r\n      </g>\r\n     </g>\r\n    </g>\r\n   </g>\r\n   <g id=\"matplotlib.axis_2\">\r\n    <g id=\"ytick_1\">\r\n     <g id=\"line2d_9\">\r\n      <defs>\r\n       <path d=\"M 0 0 \r\nL -3.5 0 \r\n\" id=\"m9e8f1692e7\" style=\"stroke:#000000;stroke-width:0.8;\"/>\r\n      </defs>\r\n      <g>\r\n       <use style=\"stroke:#000000;stroke-width:0.8;\" x=\"33.2875\" xlink:href=\"#m9e8f1692e7\" y=\"10.999219\"/>\r\n      </g>\r\n     </g>\r\n     <g id=\"text_9\">\r\n      <!-- 0 -->\r\n      <g transform=\"translate(19.925 14.798437)scale(0.1 -0.1)\">\r\n       <use xlink:href=\"#DejaVuSans-48\"/>\r\n      </g>\r\n     </g>\r\n    </g>\r\n    <g id=\"ytick_2\">\r\n     <g id=\"line2d_10\">\r\n      <g>\r\n       <use style=\"stroke:#000000;stroke-width:0.8;\" x=\"33.2875\" xlink:href=\"#m9e8f1692e7\" y=\"33.259857\"/>\r\n      </g>\r\n     </g>\r\n     <g id=\"text_10\">\r\n      <!-- 100 -->\r\n      <g transform=\"translate(7.2 37.059076)scale(0.1 -0.1)\">\r\n       <use xlink:href=\"#DejaVuSans-49\"/>\r\n       <use x=\"63.623047\" xlink:href=\"#DejaVuSans-48\"/>\r\n       <use x=\"127.246094\" xlink:href=\"#DejaVuSans-48\"/>\r\n      </g>\r\n     </g>\r\n    </g>\r\n    <g id=\"ytick_3\">\r\n     <g id=\"line2d_11\">\r\n      <g>\r\n       <use style=\"stroke:#000000;stroke-width:0.8;\" x=\"33.2875\" xlink:href=\"#m9e8f1692e7\" y=\"55.520495\"/>\r\n      </g>\r\n     </g>\r\n     <g id=\"text_11\">\r\n      <!-- 200 -->\r\n      <g transform=\"translate(7.2 59.319714)scale(0.1 -0.1)\">\r\n       <use xlink:href=\"#DejaVuSans-50\"/>\r\n       <use x=\"63.623047\" xlink:href=\"#DejaVuSans-48\"/>\r\n       <use x=\"127.246094\" xlink:href=\"#DejaVuSans-48\"/>\r\n      </g>\r\n     </g>\r\n    </g>\r\n    <g id=\"ytick_4\">\r\n     <g id=\"line2d_12\">\r\n      <g>\r\n       <use style=\"stroke:#000000;stroke-width:0.8;\" x=\"33.2875\" xlink:href=\"#m9e8f1692e7\" y=\"77.781134\"/>\r\n      </g>\r\n     </g>\r\n     <g id=\"text_12\">\r\n      <!-- 300 -->\r\n      <g transform=\"translate(7.2 81.580352)scale(0.1 -0.1)\">\r\n       <defs>\r\n        <path d=\"M 40.578125 39.3125 \r\nQ 47.65625 37.796875 51.625 33 \r\nQ 55.609375 28.21875 55.609375 21.1875 \r\nQ 55.609375 10.40625 48.1875 4.484375 \r\nQ 40.765625 -1.421875 27.09375 -1.421875 \r\nQ 22.515625 -1.421875 17.65625 -0.515625 \r\nQ 12.796875 0.390625 7.625 2.203125 \r\nL 7.625 11.71875 \r\nQ 11.71875 9.328125 16.59375 8.109375 \r\nQ 21.484375 6.890625 26.8125 6.890625 \r\nQ 36.078125 6.890625 40.9375 10.546875 \r\nQ 45.796875 14.203125 45.796875 21.1875 \r\nQ 45.796875 27.640625 41.28125 31.265625 \r\nQ 36.765625 34.90625 28.71875 34.90625 \r\nL 20.21875 34.90625 \r\nL 20.21875 43.015625 \r\nL 29.109375 43.015625 \r\nQ 36.375 43.015625 40.234375 45.921875 \r\nQ 44.09375 48.828125 44.09375 54.296875 \r\nQ 44.09375 59.90625 40.109375 62.90625 \r\nQ 36.140625 65.921875 28.71875 65.921875 \r\nQ 24.65625 65.921875 20.015625 65.03125 \r\nQ 15.375 64.15625 9.8125 62.3125 \r\nL 9.8125 71.09375 \r\nQ 15.4375 72.65625 20.34375 73.4375 \r\nQ 25.25 74.21875 29.59375 74.21875 \r\nQ 40.828125 74.21875 47.359375 69.109375 \r\nQ 53.90625 64.015625 53.90625 55.328125 \r\nQ 53.90625 49.265625 50.4375 45.09375 \r\nQ 46.96875 40.921875 40.578125 39.3125 \r\nz\r\n\" id=\"DejaVuSans-51\"/>\r\n       </defs>\r\n       <use xlink:href=\"#DejaVuSans-51\"/>\r\n       <use x=\"63.623047\" xlink:href=\"#DejaVuSans-48\"/>\r\n       <use x=\"127.246094\" xlink:href=\"#DejaVuSans-48\"/>\r\n      </g>\r\n     </g>\r\n    </g>\r\n    <g id=\"ytick_5\">\r\n     <g id=\"line2d_13\">\r\n      <g>\r\n       <use style=\"stroke:#000000;stroke-width:0.8;\" x=\"33.2875\" xlink:href=\"#m9e8f1692e7\" y=\"100.041772\"/>\r\n      </g>\r\n     </g>\r\n     <g id=\"text_13\">\r\n      <!-- 400 -->\r\n      <g transform=\"translate(7.2 103.840991)scale(0.1 -0.1)\">\r\n       <use xlink:href=\"#DejaVuSans-52\"/>\r\n       <use x=\"63.623047\" xlink:href=\"#DejaVuSans-48\"/>\r\n       <use x=\"127.246094\" xlink:href=\"#DejaVuSans-48\"/>\r\n      </g>\r\n     </g>\r\n    </g>\r\n    <g id=\"ytick_6\">\r\n     <g id=\"line2d_14\">\r\n      <g>\r\n       <use style=\"stroke:#000000;stroke-width:0.8;\" x=\"33.2875\" xlink:href=\"#m9e8f1692e7\" y=\"122.30241\"/>\r\n      </g>\r\n     </g>\r\n     <g id=\"text_14\">\r\n      <!-- 500 -->\r\n      <g transform=\"translate(7.2 126.101629)scale(0.1 -0.1)\">\r\n       <defs>\r\n        <path d=\"M 10.796875 72.90625 \r\nL 49.515625 72.90625 \r\nL 49.515625 64.59375 \r\nL 19.828125 64.59375 \r\nL 19.828125 46.734375 \r\nQ 21.96875 47.46875 24.109375 47.828125 \r\nQ 26.265625 48.1875 28.421875 48.1875 \r\nQ 40.625 48.1875 47.75 41.5 \r\nQ 54.890625 34.8125 54.890625 23.390625 \r\nQ 54.890625 11.625 47.5625 5.09375 \r\nQ 40.234375 -1.421875 26.90625 -1.421875 \r\nQ 22.3125 -1.421875 17.546875 -0.640625 \r\nQ 12.796875 0.140625 7.71875 1.703125 \r\nL 7.71875 11.625 \r\nQ 12.109375 9.234375 16.796875 8.0625 \r\nQ 21.484375 6.890625 26.703125 6.890625 \r\nQ 35.15625 6.890625 40.078125 11.328125 \r\nQ 45.015625 15.765625 45.015625 23.390625 \r\nQ 45.015625 31 40.078125 35.4375 \r\nQ 35.15625 39.890625 26.703125 39.890625 \r\nQ 22.75 39.890625 18.8125 39.015625 \r\nQ 14.890625 38.140625 10.796875 36.28125 \r\nz\r\n\" id=\"DejaVuSans-53\"/>\r\n       </defs>\r\n       <use xlink:href=\"#DejaVuSans-53\"/>\r\n       <use x=\"63.623047\" xlink:href=\"#DejaVuSans-48\"/>\r\n       <use x=\"127.246094\" xlink:href=\"#DejaVuSans-48\"/>\r\n      </g>\r\n     </g>\r\n    </g>\r\n   </g>\r\n   <g id=\"patch_3\">\r\n    <path d=\"M 33.2875 142.670894 \r\nL 33.2875 10.887916 \r\n\" style=\"fill:none;stroke:#000000;stroke-linecap:square;stroke-linejoin:miter;stroke-width:0.8;\"/>\r\n   </g>\r\n   <g id=\"patch_4\">\r\n    <path d=\"M 368.0875 142.670894 \r\nL 368.0875 10.887916 \r\n\" style=\"fill:none;stroke:#000000;stroke-linecap:square;stroke-linejoin:miter;stroke-width:0.8;\"/>\r\n   </g>\r\n   <g id=\"patch_5\">\r\n    <path d=\"M 33.2875 142.670894 \r\nL 368.0875 142.670894 \r\n\" style=\"fill:none;stroke:#000000;stroke-linecap:square;stroke-linejoin:miter;stroke-width:0.8;\"/>\r\n   </g>\r\n   <g id=\"patch_6\">\r\n    <path d=\"M 33.2875 10.887916 \r\nL 368.0875 10.887916 \r\n\" style=\"fill:none;stroke:#000000;stroke-linecap:square;stroke-linejoin:miter;stroke-width:0.8;\"/>\r\n   </g>\r\n  </g>\r\n </g>\r\n <defs>\r\n  <clipPath id=\"pac29049e11\">\r\n   <rect height=\"131.782979\" width=\"334.8\" x=\"33.2875\" y=\"10.887916\"/>\r\n  </clipPath>\r\n </defs>\r\n</svg>\r\n",
      "image/png": "[encoded data removed]"
     },
     "metadata": {
      "needs_background": "light"
     }
    }
   ],
   "source": [
    "#Chargement de l'image\n",
    "img = cv2.imread('assets/imagedentrainement.jpeg')\n",
    "img = cv2.bitwise_not(img)\n",
    "imgray = cv2.cvtColor(img, cv2.COLOR_BGR2GRAY)\n",
    "ret, thresh = cv2.threshold(imgray, 127, 255, 0)\n",
    "_, contours, _ = cv2.findContours(thresh, cv2.RETR_TREE, cv2.CHAIN_APPROX_NONE)\n",
    "\n",
    "#Cette incrémentation a pour but de donner un nom différent aux extraits de l'image\n",
    "inc = 0\n",
    "\n",
    "#Cette boucle permet de détecter les extraits, de les enregistrer dans le dossier \"extraits\", et d'identifier le contenu de l'image\n",
    "\n",
    "for cnt in contours:\n",
    "    \n",
    "    #Récupération des coordonnées des extraits\n",
    "    approx = cv2.approxPolyDP(cnt, 0.01*cv2.arcLength(cnt, True), True)\n",
    "    cv2.drawContours(img, cnt, 0, (0), 1)\n",
    "    x = approx.ravel()[0]\n",
    "    y = approx.ravel()[1]\n",
    "\n",
    "    #Détection d'un motif dans l'image\n",
    "    x, y, w, h = cv2.boundingRect(cnt)\n",
    "\n",
    "    #Pour prévenir les résultats superflus, des conditions concernant la largeur et la hauteur sont imposées\n",
    "    if (w > 5 and h > 30):\n",
    "        inc = inc + 1\n",
    "\n",
    "        #Création du fichier image contenant l'extrait\n",
    "        #Note : pour faciliter la reconnaissance, une encadrement de 16 pixels est ajouté\n",
    "        cv2.imwrite(\"extraits/extrait\" + str(inc) + \".png\", img[y - 16 : y + h + 16, x - 16 : x + w + 16]) \n",
    "\n",
    "        #Chargement de l'image dans la prédiction\n",
    "        choix = r\"extraits\\extrait\" + str(inc) + \".png\"\n",
    "\n",
    "        #Prédiction de l'image\n",
    "        test_image = image.load_img(choix, target_size = (32,32))\n",
    "        test_image = image.img_to_array(test_image)\n",
    "        test_image = np.expand_dims(test_image, axis = 0)\n",
    "        resultat = model.predict(test_image)\n",
    "        resultat = get_result(resultat)\n",
    "        \n",
    "        #Affichage la sélection de l'extrait dans l'image avec le résultat de la reconnaissance\n",
    "        cv2.rectangle(img,(x - 16,y - 16),(x + w + 16,y + h + 16),(0,255,0),2)\n",
    "        cv2.putText(img, resultat, (x, y-10), cv2.FONT_HERSHEY_SIMPLEX, 2, (36,255,12), 2)\n",
    "    \n",
    "#Affichage de l'image contenant le résultat du traitement\n",
    "plt.imshow(img)\n",
    "\n"
   ]
  },
  {
   "cell_type": "code",
   "execution_count": null,
   "metadata": {},
   "outputs": [],
   "source": []
  }
 ]
}