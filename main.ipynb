{
 "metadata": {
  "language_info": {
   "codemirror_mode": {
    "name": "ipython",
    "version": 3
   },
   "file_extension": ".py",
   "mimetype": "text/x-python",
   "name": "python",
   "nbconvert_exporter": "python",
   "pygments_lexer": "ipython3",
   "version": "3.7.1-final"
  },
  "orig_nbformat": 2,
  "kernelspec": {
   "name": "python3",
   "display_name": "Python 3.7.1 64-bit ('ocrreader': conda)",
   "metadata": {
    "interpreter": {
     "hash": "bbb142fe8d36c68dc194dbe39f90a81a6699c01e0bd7c5f774bddd7033ec2865"
    }
   }
  }
 },
 "nbformat": 4,
 "nbformat_minor": 2,
 "cells": [
  {
   "source": [
    "## 0. Import des librairies"
   ],
   "cell_type": "markdown",
   "metadata": {}
  },
  {
   "cell_type": "code",
   "execution_count": 1,
   "metadata": {},
   "outputs": [
    {
     "output_type": "stream",
     "name": "stderr",
     "text": [
      "Using TensorFlow backend.\n"
     ]
    }
   ],
   "source": [
    "import numpy as np\n",
    "import matplotlib.pyplot as plt\n",
    "from keras.preprocessing.image import ImageDataGenerator\n",
    "from keras.preprocessing import image\n",
    "import keras\n",
    "from keras import metrics\n",
    "from keras.models import Sequential\n",
    "from keras.layers import Conv2D, MaxPooling2D, Flatten, Dense, Activation\n",
    "import os\n",
    "import pickle\n",
    "import cv2\n",
    "\n",
    "\n",
    "from src import import_auto"
   ]
  },
  {
   "source": [
    "## 1. Optimisation et nettoyage des données"
   ],
   "cell_type": "markdown",
   "metadata": {}
  },
  {
   "cell_type": "code",
   "execution_count": 2,
   "metadata": {},
   "outputs": [],
   "source": [
    "# Afin de réduire les temps d'attente et dans un soucis d'optimisation, je decide d'importer une fonction qui prend 200 png par lettres (suffisant ici). Ces images viennent s'ajouter au dossier dataset_reduit_train\n",
    "import_auto.import_fichier_train()"
   ]
  },
  {
   "cell_type": "code",
   "execution_count": 3,
   "metadata": {},
   "outputs": [],
   "source": [
    "# Afin de réduire les temps d'attente et dans un soucis d'optimisation, je decide d'importer une fonction qui prend 3 png par lettres (suffisant ici). Ces images viennent s'ajouter au dossier dataset_reduit_test\n",
    "import_auto.import_fichier_test()"
   ]
  },
  {
   "source": [
    "## 2. Import des Datasets"
   ],
   "cell_type": "markdown",
   "metadata": {}
  },
  {
   "cell_type": "code",
   "execution_count": 4,
   "metadata": {},
   "outputs": [
    {
     "output_type": "stream",
     "name": "stdout",
     "text": [
      "Found 9997 images belonging to 27 classes.\n",
      "Found 105 images belonging to 27 classes.\n"
     ]
    }
   ],
   "source": [
    "# ImageDataGenerator génère des lots de données d'image vectorielles, convertissant les coefficients RVB compris entre 0 et 255 en valeurs cibles comprises entre 0 et 1 par mise à l'échelle avec un facteur de 1/255 à l' aide de la remise à l' échelle\n",
    "\n",
    "train_datagen = ImageDataGenerator(rescale = 1./255,\n",
    "                                   shear_range = 0.2,           # shear_range est utilisé pour appliquer de manière aléatoire des                                                                                                     transformations de cisaillement\n",
    "                                   zoom_range = 0.2,            # zoom_range est utilisé pour zoomer aléatoirement à l'intérieur                                                                                                      des images\n",
    "                                   horizontal_flip = True)      # horizontal_flip est utilisé pour retourner au hasard la moitié                                                                                                      des images horizontalement\n",
    "\n",
    "test_datagen = ImageDataGenerator(rescale = 1./255)\n",
    "\n",
    "\n",
    "# J'importe les images une par une à partir des répertoires en utilisant .flow_from_directory et y appliquons ImageDataGenerator.\n",
    "train_generator = train_datagen.flow_from_directory(\n",
    "    directory = \"data/dataset_reduit_train\",                    # Choix de mon repertoire\n",
    "    target_size = (32,32),                                      # Je converti les images de leur taille d'origine à notre target_size\n",
    "    batch_size = 32,                                            # Nombre batch_size qui fait référence au nombre d'exemples                                                                                                         d'entraînement utilisés dans une itération                                 \n",
    "    class_mode = \"categorical\"                                  # Nous définissons le class_mode sur catégorique indiquant que                                                                                                        nous avons plusieurs classes (a à z) à prédire.\n",
    "\n",
    ")\n",
    "\n",
    "test_generator = test_datagen.flow_from_directory(\n",
    "    directory = \"data/dataset_reduit_test\",\n",
    "    target_size = (32,32),\n",
    "    batch_size = 32,\n",
    "    class_mode = \"categorical\"\n",
    "\n",
    ")"
   ]
  },
  {
   "source": [
    "## 3. Definition du modèle d'architecture"
   ],
   "cell_type": "markdown",
   "metadata": {}
  },
  {
   "cell_type": "code",
   "execution_count": 5,
   "metadata": {},
   "outputs": [
    {
     "output_type": "stream",
     "name": "stdout",
     "text": [
      "Model: \"sequential_1\"\n_________________________________________________________________\nLayer (type)                 Output Shape              Param #   \n=================================================================\nconv2d_1 (Conv2D)            (None, 30, 30, 32)        896       \n_________________________________________________________________\nmax_pooling2d_1 (MaxPooling2 (None, 15, 15, 32)        0         \n_________________________________________________________________\nconv2d_2 (Conv2D)            (None, 13, 13, 32)        9248      \n_________________________________________________________________\nmax_pooling2d_2 (MaxPooling2 (None, 6, 6, 32)          0         \n_________________________________________________________________\nflatten_1 (Flatten)          (None, 1152)              0         \n_________________________________________________________________\ndense_1 (Dense)              (None, 128)               147584    \n_________________________________________________________________\ndense_2 (Dense)              (None, 27)                3483      \n=================================================================\nTotal params: 161,211\nTrainable params: 161,211\nNon-trainable params: 0\n_________________________________________________________________\n"
     ]
    }
   ],
   "source": [
    "# Création d'un modèle séquentiel qui permet de définir l'architecture CNN couche par couche à l'aide de la fonction .add .Nous ajoutons d'abord une couche de convolution avec 32 filtres de taille 3X3 sur les images d'entrée et la passons à travers la fonction d'activation 'relu'.Nous effectuons ensuite des opérations MaxPooling en utilisant un pool de taille 2X2 \n",
    "model = Sequential()\n",
    "model.add(Conv2D(32, (3, 3), input_shape = (32,32,3), activation = \"relu\"))\n",
    "model.add(MaxPooling2D(pool_size = (2, 2)))\n",
    "\n",
    "# Ces couches sont ensuite répétées à nouveau pour améliorer les performances du modèle.\n",
    "\n",
    "model.add(Conv2D(32, (3, 3), activation = \"relu\"))\n",
    "model.add(MaxPooling2D(pool_size = (2, 2)))\n",
    "\n",
    "# Enfin, nous aplatissons notre matrice résultante et la passons à travers une couche dense composée de 128 nœuds. Celui-ci est ensuite connecté à la couche de sortie constituée de 26 nœuds, chaque nœud représentant un alphabet\n",
    "\n",
    "model.add(Flatten())\n",
    "model.add(Dense(units = 128, activation = \"relu\"))\n",
    "model.add(Dense(units = 27, activation = \"softmax\"))            # Activation softmax qui convertit les scores en une distribution de probabilité normalisée, et le                                                                  nœud avec la probabilité la plus élevée est sélectionné comme sortie\n",
    "\n",
    "# Une fois notre architecture CNN définie, nous compilons le modèle à l'aide de l'optimiseur Adam \n",
    "model.compile(optimizer = \"adam\", loss = \"categorical_crossentropy\", metrics = [\"accuracy\"])\n",
    "\n",
    "model.summary()"
   ]
  },
  {
   "source": [
    "## 4. Entrainement du modèle"
   ],
   "cell_type": "markdown",
   "metadata": {}
  },
  {
   "cell_type": "code",
   "execution_count": 6,
   "metadata": {},
   "outputs": [
    {
     "output_type": "stream",
     "name": "stdout",
     "text": [
      "Epoch 1/30\n",
      "32/32 [==============================] - 8s 260ms/step - loss: 2.2646 - accuracy: 0.4873 - val_loss: 3.1960 - val_accuracy: 0.0476\n",
      "Epoch 2/30\n",
      "32/32 [==============================] - 6s 203ms/step - loss: 1.7392 - accuracy: 0.5566 - val_loss: 2.3448 - val_accuracy: 0.2286\n",
      "Epoch 3/30\n",
      "32/32 [==============================] - 7s 229ms/step - loss: 1.3416 - accuracy: 0.6448 - val_loss: 1.8509 - val_accuracy: 0.3810\n",
      "Epoch 4/30\n",
      "32/32 [==============================] - 8s 249ms/step - loss: 1.1007 - accuracy: 0.6934 - val_loss: 1.0087 - val_accuracy: 0.4286\n",
      "Epoch 5/30\n",
      "32/32 [==============================] - 7s 224ms/step - loss: 0.9352 - accuracy: 0.7168 - val_loss: 1.2436 - val_accuracy: 0.4952\n",
      "Epoch 6/30\n",
      "32/32 [==============================] - 7s 203ms/step - loss: 0.7721 - accuracy: 0.7520 - val_loss: 1.3556 - val_accuracy: 0.5905\n",
      "Epoch 7/30\n",
      "32/32 [==============================] - 6s 199ms/step - loss: 0.6578 - accuracy: 0.7998 - val_loss: 1.1658 - val_accuracy: 0.5238\n",
      "Epoch 8/30\n",
      "32/32 [==============================] - 7s 230ms/step - loss: 0.6375 - accuracy: 0.7969 - val_loss: 2.9663 - val_accuracy: 0.7048\n",
      "Epoch 9/30\n",
      "32/32 [==============================] - 7s 222ms/step - loss: 0.5604 - accuracy: 0.8232 - val_loss: 1.7604 - val_accuracy: 0.6381\n",
      "Epoch 10/30\n",
      "32/32 [==============================] - 6s 198ms/step - loss: 0.5386 - accuracy: 0.8311 - val_loss: 3.4148 - val_accuracy: 0.6952\n",
      "Epoch 11/30\n",
      "32/32 [==============================] - 6s 189ms/step - loss: 0.5002 - accuracy: 0.8320 - val_loss: 2.5786 - val_accuracy: 0.6857\n",
      "Epoch 12/30\n",
      "32/32 [==============================] - 6s 172ms/step - loss: 0.4493 - accuracy: 0.8564 - val_loss: 1.1998 - val_accuracy: 0.6667\n",
      "Epoch 13/30\n",
      "32/32 [==============================] - 5s 158ms/step - loss: 0.4766 - accuracy: 0.8545 - val_loss: 1.3554 - val_accuracy: 0.7048\n",
      "Epoch 14/30\n",
      "32/32 [==============================] - 5s 168ms/step - loss: 0.4307 - accuracy: 0.8564 - val_loss: 0.7180 - val_accuracy: 0.7143\n",
      "Epoch 15/30\n",
      "32/32 [==============================] - 5s 170ms/step - loss: 0.4145 - accuracy: 0.8662 - val_loss: 0.7893 - val_accuracy: 0.7238\n",
      "Epoch 16/30\n",
      "32/32 [==============================] - 6s 183ms/step - loss: 0.3611 - accuracy: 0.8799 - val_loss: 3.6473 - val_accuracy: 0.7429\n",
      "Epoch 17/30\n",
      "32/32 [==============================] - 5s 163ms/step - loss: 0.4429 - accuracy: 0.8770 - val_loss: 3.2952 - val_accuracy: 0.7524\n",
      "Epoch 18/30\n",
      "32/32 [==============================] - 5s 169ms/step - loss: 0.4317 - accuracy: 0.8682 - val_loss: 6.4546 - val_accuracy: 0.7333\n",
      "Epoch 19/30\n",
      "32/32 [==============================] - 6s 175ms/step - loss: 0.3720 - accuracy: 0.8816 - val_loss: 0.1460 - val_accuracy: 0.7238\n",
      "Epoch 20/30\n",
      "32/32 [==============================] - 5s 170ms/step - loss: 0.3775 - accuracy: 0.8789 - val_loss: 1.1193 - val_accuracy: 0.7905\n",
      "Epoch 21/30\n",
      "32/32 [==============================] - 5s 163ms/step - loss: 0.3149 - accuracy: 0.8994 - val_loss: 0.5032 - val_accuracy: 0.7524\n",
      "Epoch 22/30\n",
      "32/32 [==============================] - 5s 164ms/step - loss: 0.3363 - accuracy: 0.8975 - val_loss: 0.8004 - val_accuracy: 0.7810\n",
      "Epoch 23/30\n",
      "32/32 [==============================] - 5s 168ms/step - loss: 0.2962 - accuracy: 0.9004 - val_loss: 0.3770 - val_accuracy: 0.7714\n",
      "Epoch 24/30\n",
      "32/32 [==============================] - 5s 162ms/step - loss: 0.3219 - accuracy: 0.8975 - val_loss: 3.4120 - val_accuracy: 0.7905\n",
      "Epoch 25/30\n",
      "32/32 [==============================] - 5s 163ms/step - loss: 0.2801 - accuracy: 0.9043 - val_loss: 0.3337 - val_accuracy: 0.8000\n",
      "Epoch 26/30\n",
      "32/32 [==============================] - 5s 155ms/step - loss: 0.3309 - accuracy: 0.8945 - val_loss: 0.3757 - val_accuracy: 0.8190\n",
      "Epoch 27/30\n",
      "32/32 [==============================] - 5s 158ms/step - loss: 0.3386 - accuracy: 0.8916 - val_loss: 5.9454 - val_accuracy: 0.8000\n",
      "Epoch 28/30\n",
      "32/32 [==============================] - 5s 155ms/step - loss: 0.3035 - accuracy: 0.9224 - val_loss: 3.2310 - val_accuracy: 0.8000\n",
      "Epoch 29/30\n",
      "32/32 [==============================] - 5s 159ms/step - loss: 0.3084 - accuracy: 0.8984 - val_loss: 1.6779 - val_accuracy: 0.8476\n",
      "Epoch 30/30\n",
      "32/32 [==============================] - 5s 166ms/step - loss: 0.2504 - accuracy: 0.9180 - val_loss: 0.2928 - val_accuracy: 0.8476\n"
     ]
    }
   ],
   "source": [
    "# Je décide de créer 30 répétitions, et j'ai X2 les steps_per_epoch pour augmenter notre précision\n",
    "\n",
    "entrainement = model.fit_generator(train_generator,\n",
    "                         steps_per_epoch = 32,\n",
    "                         epochs = 30,\n",
    "                         validation_data = test_generator,\n",
    "                         validation_steps = 32)\n"
   ]
  },
  {
   "source": [
    "## 5. Enregistrement & chargement du modèle"
   ],
   "cell_type": "markdown",
   "metadata": {}
  },
  {
   "cell_type": "code",
   "execution_count": 7,
   "metadata": {},
   "outputs": [],
   "source": [
    "pickle.dump(model, open(\"mon_model.sav\", \"wb\"))\n",
    "model = pickle.load(open(\"mon_model.sav\",\"rb\"))"
   ]
  },
  {
   "source": [
    "## 6. Création d'une fonction qui renvoie l'alphabet associé au résultat"
   ],
   "cell_type": "markdown",
   "metadata": {}
  },
  {
   "cell_type": "code",
   "execution_count": 8,
   "metadata": {},
   "outputs": [],
   "source": [
    "def get_result(result):\n",
    "    if result[0][0] == 1:\n",
    "        return(\"a\")\n",
    "    elif result[0][1] == 1:\n",
    "        return (\"b\")\n",
    "    elif result[0][2] == 1:\n",
    "        return (\"c\")\n",
    "    elif result[0][3] == 1:\n",
    "        return (\"d\")\n",
    "    elif result[0][4] == 1:\n",
    "        return (\"e\")\n",
    "    elif result[0][5] == 1:\n",
    "        return (\"f\")\n",
    "    elif result[0][6] == 1:\n",
    "        return (\"g\")\n",
    "    elif result[0][7] == 1:\n",
    "        return (\"h\")\n",
    "    elif result[0][8] == 1:\n",
    "        return (\"i\")\n",
    "    elif result[0][9] == 1:\n",
    "        return (\"j\")\n",
    "    elif result[0][10] == 1:\n",
    "        return (\"k\")\n",
    "    elif result[0][11] == 1:\n",
    "        return (\"l\")\n",
    "    elif result[0][12] == 1:\n",
    "        return (\"m\")\n",
    "    elif result[0][13] == 1:\n",
    "        return (\"n\")\n",
    "    elif result[0][14] == 1:\n",
    "        return (\"o\")\n",
    "    elif result[0][15] == 1:\n",
    "        return (\"p\")\n",
    "    elif result[0][16] == 1:\n",
    "        return (\"q\")\n",
    "    elif result[0][17] == 1:\n",
    "        return (\"r\")\n",
    "    elif result[0][18] == 1:\n",
    "        return (\"s\")\n",
    "    elif result[0][19] == 1:\n",
    "        return (\"t\")\n",
    "    elif result[0][20] == 1:\n",
    "        return (\"u\")\n",
    "    elif result[0][21] == 1:\n",
    "        return (\"v\")\n",
    "    elif result[0][22] == 1:\n",
    "        return (\"w\")\n",
    "    elif result[0][23] == 1:\n",
    "        return (\"x\")\n",
    "    elif result[0][24] == 1:\n",
    "        return (\"y\")\n",
    "    elif result[0][25] == 1:\n",
    "        return (\"z\")\n",
    "    elif result[0][26] == 1:                # Création du symbole <3\n",
    "        return (\"<3\")"
   ]
  },
  {
   "source": [
    "## 7. Purge du dossier contenant les extraits"
   ],
   "cell_type": "markdown",
   "metadata": {}
  },
  {
   "cell_type": "code",
   "execution_count": 9,
   "metadata": {},
   "outputs": [],
   "source": [
    "#Par précaution, le dossier \"extraits\" est purgé avant le traitement de l'image\n",
    "d='extraits'\n",
    "filesToRemove = [os.path.join(d,f) for f in os.listdir(d)]\n",
    "for f in filesToRemove:\n",
    "    os.remove(f) "
   ]
  },
  {
   "source": [
    "## 8. Reconaissance de caractères dans une image"
   ],
   "cell_type": "markdown",
   "metadata": {}
  },
  {
   "cell_type": "code",
   "execution_count": 10,
   "metadata": {},
   "outputs": [
    {
     "output_type": "execute_result",
     "data": {
      "text/plain": [
       "<matplotlib.image.AxesImage at 0x20772f70668>"
      ]
     },
     "metadata": {},
     "execution_count": 10
    },
    {
     "output_type": "display_data",
     "data": {
      "text/plain": "<Figure size 432x288 with 1 Axes>",
      "image/svg+xml": "<?xml version=\"1.0\" encoding=\"utf-8\" standalone=\"no\"?>\r\n<!DOCTYPE svg PUBLIC \"-//W3C//DTD SVG 1.1//EN\"\r\n  \"http://www.w3.org/Graphics/SVG/1.1/DTD/svg11.dtd\">\r\n<!-- Created with matplotlib (https://matplotlib.org/) -->\r\n<svg height=\"166.549019pt\" version=\"1.1\" viewBox=\"0 0 375.2875 166.549019\" width=\"375.2875pt\" xmlns=\"http://www.w3.org/2000/svg\" xmlns:xlink=\"http://www.w3.org/1999/xlink\">\r\n <metadata>\r\n  <rdf:RDF xmlns:cc=\"http://creativecommons.org/ns#\" xmlns:dc=\"http://purl.org/dc/elements/1.1/\" xmlns:rdf=\"http://www.w3.org/1999/02/22-rdf-syntax-ns#\">\r\n   <cc:Work>\r\n    <dc:type rdf:resource=\"http://purl.org/dc/dcmitype/StillImage\"/>\r\n    <dc:date>2020-11-23T11:58:33.982472</dc:date>\r\n    <dc:format>image/svg+xml</dc:format>\r\n    <dc:creator>\r\n     <cc:Agent>\r\n      <dc:title>Matplotlib v3.3.2, https://matplotlib.org/</dc:title>\r\n     </cc:Agent>\r\n    </dc:creator>\r\n   </cc:Work>\r\n  </rdf:RDF>\r\n </metadata>\r\n <defs>\r\n  <style type=\"text/css\">*{stroke-linecap:butt;stroke-linejoin:round;}</style>\r\n </defs>\r\n <g id=\"figure_1\">\r\n  <g id=\"patch_1\">\r\n   <path d=\"M 0 166.549019 \r\nL 375.2875 166.549019 \r\nL 375.2875 0 \r\nL 0 0 \r\nz\r\n\" style=\"fill:none;\"/>\r\n  </g>\r\n  <g id=\"axes_1\">\r\n   <g id=\"patch_2\">\r\n    <path d=\"M 33.2875 142.670894 \r\nL 368.0875 142.670894 \r\nL 368.0875 10.887916 \r\nL 33.2875 10.887916 \r\nz\r\n\" style=\"fill:#ffffff;\"/>\r\n   </g>\r\n   <g clip-path=\"url(#pff42858aeb)\">\r\n    <image height=\"132\" id=\"image73c6eda91a\" transform=\"scale(1 -1)translate(0 -132)\" width=\"335\" x=\"33.2875\" xlink:href=\"data:image/png;base64,\r\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\" y=\"-10.670894\"/>\r\n   </g>\r\n   <g id=\"matplotlib.axis_1\">\r\n    <g id=\"xtick_1\">\r\n     <g id=\"line2d_1\">\r\n      <defs>\r\n       <path d=\"M 0 0 \r\nL 0 3.5 \r\n\" id=\"md021dafa99\" style=\"stroke:#000000;stroke-width:0.8;\"/>\r\n      </defs>\r\n      <g>\r\n       <use style=\"stroke:#000000;stroke-width:0.8;\" x=\"33.398803\" xlink:href=\"#md021dafa99\" y=\"142.670894\"/>\r\n      </g>\r\n     </g>\r\n     <g id=\"text_1\">\r\n      <!-- 0 -->\r\n      <g transform=\"translate(30.217553 157.269332)scale(0.1 -0.1)\">\r\n       <defs>\r\n        <path d=\"M 31.78125 66.40625 \r\nQ 24.171875 66.40625 20.328125 58.90625 \r\nQ 16.5 51.421875 16.5 36.375 \r\nQ 16.5 21.390625 20.328125 13.890625 \r\nQ 24.171875 6.390625 31.78125 6.390625 \r\nQ 39.453125 6.390625 43.28125 13.890625 \r\nQ 47.125 21.390625 47.125 36.375 \r\nQ 47.125 51.421875 43.28125 58.90625 \r\nQ 39.453125 66.40625 31.78125 66.40625 \r\nz\r\nM 31.78125 74.21875 \r\nQ 44.046875 74.21875 50.515625 64.515625 \r\nQ 56.984375 54.828125 56.984375 36.375 \r\nQ 56.984375 17.96875 50.515625 8.265625 \r\nQ 44.046875 -1.421875 31.78125 -1.421875 \r\nQ 19.53125 -1.421875 13.0625 8.265625 \r\nQ 6.59375 17.96875 6.59375 36.375 \r\nQ 6.59375 54.828125 13.0625 64.515625 \r\nQ 19.53125 74.21875 31.78125 74.21875 \r\nz\r\n\" id=\"DejaVuSans-48\"/>\r\n       </defs>\r\n       <use xlink:href=\"#DejaVuSans-48\"/>\r\n      </g>\r\n     </g>\r\n    </g>\r\n    <g id=\"xtick_2\">\r\n     <g id=\"line2d_2\">\r\n      <g>\r\n       <use style=\"stroke:#000000;stroke-width:0.8;\" x=\"77.92008\" xlink:href=\"#md021dafa99\" y=\"142.670894\"/>\r\n      </g>\r\n     </g>\r\n     <g id=\"text_2\">\r\n      <!-- 200 -->\r\n      <g transform=\"translate(68.37633 157.269332)scale(0.1 -0.1)\">\r\n       <defs>\r\n        <path d=\"M 19.1875 8.296875 \r\nL 53.609375 8.296875 \r\nL 53.609375 0 \r\nL 7.328125 0 \r\nL 7.328125 8.296875 \r\nQ 12.9375 14.109375 22.625 23.890625 \r\nQ 32.328125 33.6875 34.8125 36.53125 \r\nQ 39.546875 41.84375 41.421875 45.53125 \r\nQ 43.3125 49.21875 43.3125 52.78125 \r\nQ 43.3125 58.59375 39.234375 62.25 \r\nQ 35.15625 65.921875 28.609375 65.921875 \r\nQ 23.96875 65.921875 18.8125 64.3125 \r\nQ 13.671875 62.703125 7.8125 59.421875 \r\nL 7.8125 69.390625 \r\nQ 13.765625 71.78125 18.9375 73 \r\nQ 24.125 74.21875 28.421875 74.21875 \r\nQ 39.75 74.21875 46.484375 68.546875 \r\nQ 53.21875 62.890625 53.21875 53.421875 \r\nQ 53.21875 48.921875 51.53125 44.890625 \r\nQ 49.859375 40.875 45.40625 35.40625 \r\nQ 44.1875 33.984375 37.640625 27.21875 \r\nQ 31.109375 20.453125 19.1875 8.296875 \r\nz\r\n\" id=\"DejaVuSans-50\"/>\r\n       </defs>\r\n       <use xlink:href=\"#DejaVuSans-50\"/>\r\n       <use x=\"63.623047\" xlink:href=\"#DejaVuSans-48\"/>\r\n       <use x=\"127.246094\" xlink:href=\"#DejaVuSans-48\"/>\r\n      </g>\r\n     </g>\r\n    </g>\r\n    <g id=\"xtick_3\">\r\n     <g id=\"line2d_3\">\r\n      <g>\r\n       <use style=\"stroke:#000000;stroke-width:0.8;\" x=\"122.441356\" xlink:href=\"#md021dafa99\" y=\"142.670894\"/>\r\n      </g>\r\n     </g>\r\n     <g id=\"text_3\">\r\n      <!-- 400 -->\r\n      <g transform=\"translate(112.897606 157.269332)scale(0.1 -0.1)\">\r\n       <defs>\r\n        <path d=\"M 37.796875 64.3125 \r\nL 12.890625 25.390625 \r\nL 37.796875 25.390625 \r\nz\r\nM 35.203125 72.90625 \r\nL 47.609375 72.90625 \r\nL 47.609375 25.390625 \r\nL 58.015625 25.390625 \r\nL 58.015625 17.1875 \r\nL 47.609375 17.1875 \r\nL 47.609375 0 \r\nL 37.796875 0 \r\nL 37.796875 17.1875 \r\nL 4.890625 17.1875 \r\nL 4.890625 26.703125 \r\nz\r\n\" id=\"DejaVuSans-52\"/>\r\n       </defs>\r\n       <use xlink:href=\"#DejaVuSans-52\"/>\r\n       <use x=\"63.623047\" xlink:href=\"#DejaVuSans-48\"/>\r\n       <use x=\"127.246094\" xlink:href=\"#DejaVuSans-48\"/>\r\n      </g>\r\n     </g>\r\n    </g>\r\n    <g id=\"xtick_4\">\r\n     <g id=\"line2d_4\">\r\n      <g>\r\n       <use style=\"stroke:#000000;stroke-width:0.8;\" x=\"166.962633\" xlink:href=\"#md021dafa99\" y=\"142.670894\"/>\r\n      </g>\r\n     </g>\r\n     <g id=\"text_4\">\r\n      <!-- 600 -->\r\n      <g transform=\"translate(157.418883 157.269332)scale(0.1 -0.1)\">\r\n       <defs>\r\n        <path d=\"M 33.015625 40.375 \r\nQ 26.375 40.375 22.484375 35.828125 \r\nQ 18.609375 31.296875 18.609375 23.390625 \r\nQ 18.609375 15.53125 22.484375 10.953125 \r\nQ 26.375 6.390625 33.015625 6.390625 \r\nQ 39.65625 6.390625 43.53125 10.953125 \r\nQ 47.40625 15.53125 47.40625 23.390625 \r\nQ 47.40625 31.296875 43.53125 35.828125 \r\nQ 39.65625 40.375 33.015625 40.375 \r\nz\r\nM 52.59375 71.296875 \r\nL 52.59375 62.3125 \r\nQ 48.875 64.0625 45.09375 64.984375 \r\nQ 41.3125 65.921875 37.59375 65.921875 \r\nQ 27.828125 65.921875 22.671875 59.328125 \r\nQ 17.53125 52.734375 16.796875 39.40625 \r\nQ 19.671875 43.65625 24.015625 45.921875 \r\nQ 28.375 48.1875 33.59375 48.1875 \r\nQ 44.578125 48.1875 50.953125 41.515625 \r\nQ 57.328125 34.859375 57.328125 23.390625 \r\nQ 57.328125 12.15625 50.6875 5.359375 \r\nQ 44.046875 -1.421875 33.015625 -1.421875 \r\nQ 20.359375 -1.421875 13.671875 8.265625 \r\nQ 6.984375 17.96875 6.984375 36.375 \r\nQ 6.984375 53.65625 15.1875 63.9375 \r\nQ 23.390625 74.21875 37.203125 74.21875 \r\nQ 40.921875 74.21875 44.703125 73.484375 \r\nQ 48.484375 72.75 52.59375 71.296875 \r\nz\r\n\" id=\"DejaVuSans-54\"/>\r\n       </defs>\r\n       <use xlink:href=\"#DejaVuSans-54\"/>\r\n       <use x=\"63.623047\" xlink:href=\"#DejaVuSans-48\"/>\r\n       <use x=\"127.246094\" xlink:href=\"#DejaVuSans-48\"/>\r\n      </g>\r\n     </g>\r\n    </g>\r\n    <g id=\"xtick_5\">\r\n     <g id=\"line2d_5\">\r\n      <g>\r\n       <use style=\"stroke:#000000;stroke-width:0.8;\" x=\"211.48391\" xlink:href=\"#md021dafa99\" y=\"142.670894\"/>\r\n      </g>\r\n     </g>\r\n     <g id=\"text_5\">\r\n      <!-- 800 -->\r\n      <g transform=\"translate(201.94016 157.269332)scale(0.1 -0.1)\">\r\n       <defs>\r\n        <path d=\"M 31.78125 34.625 \r\nQ 24.75 34.625 20.71875 30.859375 \r\nQ 16.703125 27.09375 16.703125 20.515625 \r\nQ 16.703125 13.921875 20.71875 10.15625 \r\nQ 24.75 6.390625 31.78125 6.390625 \r\nQ 38.8125 6.390625 42.859375 10.171875 \r\nQ 46.921875 13.96875 46.921875 20.515625 \r\nQ 46.921875 27.09375 42.890625 30.859375 \r\nQ 38.875 34.625 31.78125 34.625 \r\nz\r\nM 21.921875 38.8125 \r\nQ 15.578125 40.375 12.03125 44.71875 \r\nQ 8.5 49.078125 8.5 55.328125 \r\nQ 8.5 64.0625 14.71875 69.140625 \r\nQ 20.953125 74.21875 31.78125 74.21875 \r\nQ 42.671875 74.21875 48.875 69.140625 \r\nQ 55.078125 64.0625 55.078125 55.328125 \r\nQ 55.078125 49.078125 51.53125 44.71875 \r\nQ 48 40.375 41.703125 38.8125 \r\nQ 48.828125 37.15625 52.796875 32.3125 \r\nQ 56.78125 27.484375 56.78125 20.515625 \r\nQ 56.78125 9.90625 50.3125 4.234375 \r\nQ 43.84375 -1.421875 31.78125 -1.421875 \r\nQ 19.734375 -1.421875 13.25 4.234375 \r\nQ 6.78125 9.90625 6.78125 20.515625 \r\nQ 6.78125 27.484375 10.78125 32.3125 \r\nQ 14.796875 37.15625 21.921875 38.8125 \r\nz\r\nM 18.3125 54.390625 \r\nQ 18.3125 48.734375 21.84375 45.5625 \r\nQ 25.390625 42.390625 31.78125 42.390625 \r\nQ 38.140625 42.390625 41.71875 45.5625 \r\nQ 45.3125 48.734375 45.3125 54.390625 \r\nQ 45.3125 60.0625 41.71875 63.234375 \r\nQ 38.140625 66.40625 31.78125 66.40625 \r\nQ 25.390625 66.40625 21.84375 63.234375 \r\nQ 18.3125 60.0625 18.3125 54.390625 \r\nz\r\n\" id=\"DejaVuSans-56\"/>\r\n       </defs>\r\n       <use xlink:href=\"#DejaVuSans-56\"/>\r\n       <use x=\"63.623047\" xlink:href=\"#DejaVuSans-48\"/>\r\n       <use x=\"127.246094\" xlink:href=\"#DejaVuSans-48\"/>\r\n      </g>\r\n     </g>\r\n    </g>\r\n    <g id=\"xtick_6\">\r\n     <g id=\"line2d_6\">\r\n      <g>\r\n       <use style=\"stroke:#000000;stroke-width:0.8;\" x=\"256.005186\" xlink:href=\"#md021dafa99\" y=\"142.670894\"/>\r\n      </g>\r\n     </g>\r\n     <g id=\"text_6\">\r\n      <!-- 1000 -->\r\n      <g transform=\"translate(243.280186 157.269332)scale(0.1 -0.1)\">\r\n       <defs>\r\n        <path d=\"M 12.40625 8.296875 \r\nL 28.515625 8.296875 \r\nL 28.515625 63.921875 \r\nL 10.984375 60.40625 \r\nL 10.984375 69.390625 \r\nL 28.421875 72.90625 \r\nL 38.28125 72.90625 \r\nL 38.28125 8.296875 \r\nL 54.390625 8.296875 \r\nL 54.390625 0 \r\nL 12.40625 0 \r\nz\r\n\" id=\"DejaVuSans-49\"/>\r\n       </defs>\r\n       <use xlink:href=\"#DejaVuSans-49\"/>\r\n       <use x=\"63.623047\" xlink:href=\"#DejaVuSans-48\"/>\r\n       <use x=\"127.246094\" xlink:href=\"#DejaVuSans-48\"/>\r\n       <use x=\"190.869141\" xlink:href=\"#DejaVuSans-48\"/>\r\n      </g>\r\n     </g>\r\n    </g>\r\n    <g id=\"xtick_7\">\r\n     <g id=\"line2d_7\">\r\n      <g>\r\n       <use style=\"stroke:#000000;stroke-width:0.8;\" x=\"300.526463\" xlink:href=\"#md021dafa99\" y=\"142.670894\"/>\r\n      </g>\r\n     </g>\r\n     <g id=\"text_7\">\r\n      <!-- 1200 -->\r\n      <g transform=\"translate(287.801463 157.269332)scale(0.1 -0.1)\">\r\n       <use xlink:href=\"#DejaVuSans-49\"/>\r\n       <use x=\"63.623047\" xlink:href=\"#DejaVuSans-50\"/>\r\n       <use x=\"127.246094\" xlink:href=\"#DejaVuSans-48\"/>\r\n       <use x=\"190.869141\" xlink:href=\"#DejaVuSans-48\"/>\r\n      </g>\r\n     </g>\r\n    </g>\r\n    <g id=\"xtick_8\">\r\n     <g id=\"line2d_8\">\r\n      <g>\r\n       <use style=\"stroke:#000000;stroke-width:0.8;\" x=\"345.047739\" xlink:href=\"#md021dafa99\" y=\"142.670894\"/>\r\n      </g>\r\n     </g>\r\n     <g id=\"text_8\">\r\n      <!-- 1400 -->\r\n      <g transform=\"translate(332.322739 157.269332)scale(0.1 -0.1)\">\r\n       <use xlink:href=\"#DejaVuSans-49\"/>\r\n       <use x=\"63.623047\" xlink:href=\"#DejaVuSans-52\"/>\r\n       <use x=\"127.246094\" xlink:href=\"#DejaVuSans-48\"/>\r\n       <use x=\"190.869141\" xlink:href=\"#DejaVuSans-48\"/>\r\n      </g>\r\n     </g>\r\n    </g>\r\n   </g>\r\n   <g id=\"matplotlib.axis_2\">\r\n    <g id=\"ytick_1\">\r\n     <g id=\"line2d_9\">\r\n      <defs>\r\n       <path d=\"M 0 0 \r\nL -3.5 0 \r\n\" id=\"m52b712be49\" style=\"stroke:#000000;stroke-width:0.8;\"/>\r\n      </defs>\r\n      <g>\r\n       <use style=\"stroke:#000000;stroke-width:0.8;\" x=\"33.2875\" xlink:href=\"#m52b712be49\" y=\"10.999219\"/>\r\n      </g>\r\n     </g>\r\n     <g id=\"text_9\">\r\n      <!-- 0 -->\r\n      <g transform=\"translate(19.925 14.798437)scale(0.1 -0.1)\">\r\n       <use xlink:href=\"#DejaVuSans-48\"/>\r\n      </g>\r\n     </g>\r\n    </g>\r\n    <g id=\"ytick_2\">\r\n     <g id=\"line2d_10\">\r\n      <g>\r\n       <use style=\"stroke:#000000;stroke-width:0.8;\" x=\"33.2875\" xlink:href=\"#m52b712be49\" y=\"33.259857\"/>\r\n      </g>\r\n     </g>\r\n     <g id=\"text_10\">\r\n      <!-- 100 -->\r\n      <g transform=\"translate(7.2 37.059076)scale(0.1 -0.1)\">\r\n       <use xlink:href=\"#DejaVuSans-49\"/>\r\n       <use x=\"63.623047\" xlink:href=\"#DejaVuSans-48\"/>\r\n       <use x=\"127.246094\" xlink:href=\"#DejaVuSans-48\"/>\r\n      </g>\r\n     </g>\r\n    </g>\r\n    <g id=\"ytick_3\">\r\n     <g id=\"line2d_11\">\r\n      <g>\r\n       <use style=\"stroke:#000000;stroke-width:0.8;\" x=\"33.2875\" xlink:href=\"#m52b712be49\" y=\"55.520495\"/>\r\n      </g>\r\n     </g>\r\n     <g id=\"text_11\">\r\n      <!-- 200 -->\r\n      <g transform=\"translate(7.2 59.319714)scale(0.1 -0.1)\">\r\n       <use xlink:href=\"#DejaVuSans-50\"/>\r\n       <use x=\"63.623047\" xlink:href=\"#DejaVuSans-48\"/>\r\n       <use x=\"127.246094\" xlink:href=\"#DejaVuSans-48\"/>\r\n      </g>\r\n     </g>\r\n    </g>\r\n    <g id=\"ytick_4\">\r\n     <g id=\"line2d_12\">\r\n      <g>\r\n       <use style=\"stroke:#000000;stroke-width:0.8;\" x=\"33.2875\" xlink:href=\"#m52b712be49\" y=\"77.781134\"/>\r\n      </g>\r\n     </g>\r\n     <g id=\"text_12\">\r\n      <!-- 300 -->\r\n      <g transform=\"translate(7.2 81.580352)scale(0.1 -0.1)\">\r\n       <defs>\r\n        <path d=\"M 40.578125 39.3125 \r\nQ 47.65625 37.796875 51.625 33 \r\nQ 55.609375 28.21875 55.609375 21.1875 \r\nQ 55.609375 10.40625 48.1875 4.484375 \r\nQ 40.765625 -1.421875 27.09375 -1.421875 \r\nQ 22.515625 -1.421875 17.65625 -0.515625 \r\nQ 12.796875 0.390625 7.625 2.203125 \r\nL 7.625 11.71875 \r\nQ 11.71875 9.328125 16.59375 8.109375 \r\nQ 21.484375 6.890625 26.8125 6.890625 \r\nQ 36.078125 6.890625 40.9375 10.546875 \r\nQ 45.796875 14.203125 45.796875 21.1875 \r\nQ 45.796875 27.640625 41.28125 31.265625 \r\nQ 36.765625 34.90625 28.71875 34.90625 \r\nL 20.21875 34.90625 \r\nL 20.21875 43.015625 \r\nL 29.109375 43.015625 \r\nQ 36.375 43.015625 40.234375 45.921875 \r\nQ 44.09375 48.828125 44.09375 54.296875 \r\nQ 44.09375 59.90625 40.109375 62.90625 \r\nQ 36.140625 65.921875 28.71875 65.921875 \r\nQ 24.65625 65.921875 20.015625 65.03125 \r\nQ 15.375 64.15625 9.8125 62.3125 \r\nL 9.8125 71.09375 \r\nQ 15.4375 72.65625 20.34375 73.4375 \r\nQ 25.25 74.21875 29.59375 74.21875 \r\nQ 40.828125 74.21875 47.359375 69.109375 \r\nQ 53.90625 64.015625 53.90625 55.328125 \r\nQ 53.90625 49.265625 50.4375 45.09375 \r\nQ 46.96875 40.921875 40.578125 39.3125 \r\nz\r\n\" id=\"DejaVuSans-51\"/>\r\n       </defs>\r\n       <use xlink:href=\"#DejaVuSans-51\"/>\r\n       <use x=\"63.623047\" xlink:href=\"#DejaVuSans-48\"/>\r\n       <use x=\"127.246094\" xlink:href=\"#DejaVuSans-48\"/>\r\n      </g>\r\n     </g>\r\n    </g>\r\n    <g id=\"ytick_5\">\r\n     <g id=\"line2d_13\">\r\n      <g>\r\n       <use style=\"stroke:#000000;stroke-width:0.8;\" x=\"33.2875\" xlink:href=\"#m52b712be49\" y=\"100.041772\"/>\r\n      </g>\r\n     </g>\r\n     <g id=\"text_13\">\r\n      <!-- 400 -->\r\n      <g transform=\"translate(7.2 103.840991)scale(0.1 -0.1)\">\r\n       <use xlink:href=\"#DejaVuSans-52\"/>\r\n       <use x=\"63.623047\" xlink:href=\"#DejaVuSans-48\"/>\r\n       <use x=\"127.246094\" xlink:href=\"#DejaVuSans-48\"/>\r\n      </g>\r\n     </g>\r\n    </g>\r\n    <g id=\"ytick_6\">\r\n     <g id=\"line2d_14\">\r\n      <g>\r\n       <use style=\"stroke:#000000;stroke-width:0.8;\" x=\"33.2875\" xlink:href=\"#m52b712be49\" y=\"122.30241\"/>\r\n      </g>\r\n     </g>\r\n     <g id=\"text_14\">\r\n      <!-- 500 -->\r\n      <g transform=\"translate(7.2 126.101629)scale(0.1 -0.1)\">\r\n       <defs>\r\n        <path d=\"M 10.796875 72.90625 \r\nL 49.515625 72.90625 \r\nL 49.515625 64.59375 \r\nL 19.828125 64.59375 \r\nL 19.828125 46.734375 \r\nQ 21.96875 47.46875 24.109375 47.828125 \r\nQ 26.265625 48.1875 28.421875 48.1875 \r\nQ 40.625 48.1875 47.75 41.5 \r\nQ 54.890625 34.8125 54.890625 23.390625 \r\nQ 54.890625 11.625 47.5625 5.09375 \r\nQ 40.234375 -1.421875 26.90625 -1.421875 \r\nQ 22.3125 -1.421875 17.546875 -0.640625 \r\nQ 12.796875 0.140625 7.71875 1.703125 \r\nL 7.71875 11.625 \r\nQ 12.109375 9.234375 16.796875 8.0625 \r\nQ 21.484375 6.890625 26.703125 6.890625 \r\nQ 35.15625 6.890625 40.078125 11.328125 \r\nQ 45.015625 15.765625 45.015625 23.390625 \r\nQ 45.015625 31 40.078125 35.4375 \r\nQ 35.15625 39.890625 26.703125 39.890625 \r\nQ 22.75 39.890625 18.8125 39.015625 \r\nQ 14.890625 38.140625 10.796875 36.28125 \r\nz\r\n\" id=\"DejaVuSans-53\"/>\r\n       </defs>\r\n       <use xlink:href=\"#DejaVuSans-53\"/>\r\n       <use x=\"63.623047\" xlink:href=\"#DejaVuSans-48\"/>\r\n       <use x=\"127.246094\" xlink:href=\"#DejaVuSans-48\"/>\r\n      </g>\r\n     </g>\r\n    </g>\r\n   </g>\r\n   <g id=\"patch_3\">\r\n    <path d=\"M 33.2875 142.670894 \r\nL 33.2875 10.887916 \r\n\" style=\"fill:none;stroke:#000000;stroke-linecap:square;stroke-linejoin:miter;stroke-width:0.8;\"/>\r\n   </g>\r\n   <g id=\"patch_4\">\r\n    <path d=\"M 368.0875 142.670894 \r\nL 368.0875 10.887916 \r\n\" style=\"fill:none;stroke:#000000;stroke-linecap:square;stroke-linejoin:miter;stroke-width:0.8;\"/>\r\n   </g>\r\n   <g id=\"patch_5\">\r\n    <path d=\"M 33.2875 142.670894 \r\nL 368.0875 142.670894 \r\n\" style=\"fill:none;stroke:#000000;stroke-linecap:square;stroke-linejoin:miter;stroke-width:0.8;\"/>\r\n   </g>\r\n   <g id=\"patch_6\">\r\n    <path d=\"M 33.2875 10.887916 \r\nL 368.0875 10.887916 \r\n\" style=\"fill:none;stroke:#000000;stroke-linecap:square;stroke-linejoin:miter;stroke-width:0.8;\"/>\r\n   </g>\r\n  </g>\r\n </g>\r\n <defs>\r\n  <clipPath id=\"pff42858aeb\">\r\n   <rect height=\"131.782979\" width=\"334.8\" x=\"33.2875\" y=\"10.887916\"/>\r\n  </clipPath>\r\n </defs>\r\n</svg>\r\n",
      "image/png": "[encoded data removed]"
     },
     "metadata": {
      "needs_background": "light"
     }
    }
   ],
   "source": [
    "#Chargement de l'image\n",
    "img = cv2.imread('assets/imagedentrainement.jpeg')\n",
    "img = cv2.bitwise_not(img)\n",
    "imgray = cv2.cvtColor(img, cv2.COLOR_BGR2GRAY)\n",
    "ret, thresh = cv2.threshold(imgray, 127, 255, 0)\n",
    "_, contours, _ = cv2.findContours(thresh, cv2.RETR_TREE, cv2.CHAIN_APPROX_NONE)\n",
    "\n",
    "#Cette incrémentation a pour but de donner un nom différent aux extraits de l'image\n",
    "inc = 0\n",
    "\n",
    "#Cette boucle permet de détecter les extraits, de les enregistrer dans le dossier \"extraits\", et d'identifier le contenu de l'image\n",
    "\n",
    "for cnt in contours:\n",
    "    \n",
    "    #Récupération des coordonnées des extraits\n",
    "    approx = cv2.approxPolyDP(cnt, 0.01*cv2.arcLength(cnt, True), True)\n",
    "    cv2.drawContours(img, cnt, 0, (0), 1)\n",
    "    x = approx.ravel()[0]\n",
    "    y = approx.ravel()[1]\n",
    "\n",
    "    #Détection d'un motif dans l'image\n",
    "    x, y, w, h = cv2.boundingRect(cnt)\n",
    "\n",
    "    #Pour prévenir les résultats superflus, des conditions concernant la largeur et la hauteur sont imposées\n",
    "    if (w > 5 and h > 30):\n",
    "        inc = inc + 1\n",
    "\n",
    "        #Création du fichier image contenant l'extrait\n",
    "        #Note : pour faciliter la reconnaissance, une encadrement de 16 pixels est ajouté\n",
    "        cv2.imwrite(\"extraits/extrait\" + str(inc) + \".png\", img[y - 16 : y + h + 16, x - 16 : x + w + 16]) \n",
    "\n",
    "        #Chargement de l'image dans la prédiction\n",
    "        choix = r\"extraits\\extrait\" + str(inc) + \".png\"\n",
    "\n",
    "        #Prédiction de l'image\n",
    "        test_image = image.load_img(choix, target_size = (32,32))\n",
    "        test_image = image.img_to_array(test_image)\n",
    "        test_image = np.expand_dims(test_image, axis = 0)\n",
    "        resultat = model.predict(test_image)\n",
    "        resultat = get_result(resultat)\n",
    "        \n",
    "        #Affichage la sélection de l'extrait dans l'image avec le résultat de la reconnaissance\n",
    "        cv2.rectangle(img,(x - 16,y - 16),(x + w + 16,y + h + 16),(0,255,0),2)\n",
    "        cv2.putText(img, resultat, (x, y-10), cv2.FONT_HERSHEY_SIMPLEX, 2, (36,255,12), 2)\n",
    "    \n",
    "#Affichage de l'image contenant le résultat du traitement\n",
    "plt.imshow(img)\n",
    "\n"
   ]
  },
  {
   "cell_type": "code",
   "execution_count": null,
   "metadata": {},
   "outputs": [],
   "source": []
  }
 ]
}